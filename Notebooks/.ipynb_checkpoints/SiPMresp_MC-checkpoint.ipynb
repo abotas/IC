{
 "cells": [
  {
   "cell_type": "markdown",
   "metadata": {},
   "source": [
    "Generate EL points and simulate SiPM responses"
   ]
  },
  {
   "cell_type": "code",
   "execution_count": 1,
   "metadata": {
    "collapsed": false
   },
   "outputs": [],
   "source": [
    "from __future__ import print_function\n",
    "\n",
    "\n",
    "import random\n",
    "import tables\n",
    "import numpy as np\n",
    "\n",
    "NSIPM = 8\n",
    "\n",
    "#num_EL_points = 4     # max num points observed in EL in same timestep \n",
    "sipm_pitch = 10.0     # SiPM pitch in mm\n",
    "sipm_edge_width = 5.0 # width of edge of dice board in mm\n",
    "ze = 10.0             # distance between SiPM plane and EL gap\n",
    "grid_space = 2.0      # grid spacing in mm\n",
    "d_gap = 5.0           # length of EL gap\n",
    "n_tbins = 2           # number of time bins collected as electron crosses EL\n",
    "\n",
    "N = 1   # Number of photons (probably not necessary due to normalization)\n",
    "\n",
    "nevts = 40000 # num events for each num EL pts\n",
    "\n",
    "max_xy = (NSIPM-1)*sipm_pitch + 2*sipm_edge_width # maximum x and y value (80 mm)\n",
    "max_p = max_xy /grid_space                        # number of points per line (40)\n",
    "\n",
    "\n",
    "sipm_res = np.empty((nevts,NSIPM**2),dtype=np.float64) # initialize sipm responses\n"
   ]
  },
  {
   "cell_type": "markdown",
   "metadata": {},
   "source": [
    "Set up the SiPM positions"
   ]
  },
  {
   "cell_type": "code",
   "execution_count": 2,
   "metadata": {
    "collapsed": false
   },
   "outputs": [
    {
     "name": "stdout",
     "output_type": "stream",
     "text": [
      "[(5.0, 5.0), (5.0, 15.0), (5.0, 25.0), (5.0, 35.0), (5.0, 45.0), (5.0, 55.0), (5.0, 65.0), (5.0, 75.0), (15.0, 5.0), (15.0, 15.0), (15.0, 25.0), (15.0, 35.0), (15.0, 45.0), (15.0, 55.0), (15.0, 65.0), (15.0, 75.0), (25.0, 5.0), (25.0, 15.0), (25.0, 25.0), (25.0, 35.0), (25.0, 45.0), (25.0, 55.0), (25.0, 65.0), (25.0, 75.0), (35.0, 5.0), (35.0, 15.0), (35.0, 25.0), (35.0, 35.0), (35.0, 45.0), (35.0, 55.0), (35.0, 65.0), (35.0, 75.0), (45.0, 5.0), (45.0, 15.0), (45.0, 25.0), (45.0, 35.0), (45.0, 45.0), (45.0, 55.0), (45.0, 65.0), (45.0, 75.0), (55.0, 5.0), (55.0, 15.0), (55.0, 25.0), (55.0, 35.0), (55.0, 45.0), (55.0, 55.0), (55.0, 65.0), (55.0, 75.0), (65.0, 5.0), (65.0, 15.0), (65.0, 25.0), (65.0, 35.0), (65.0, 45.0), (65.0, 55.0), (65.0, 65.0), (65.0, 75.0), (75.0, 5.0), (75.0, 15.0), (75.0, 25.0), (75.0, 35.0), (75.0, 45.0), (75.0, 55.0), (75.0, 65.0), (75.0, 75.0)]\n"
     ]
    }
   ],
   "source": [
    "sipm_pos_x = []\n",
    "for i in range(NSIPM): sipm_pos_x.extend([sipm_edge_width + i*sipm_pitch]*NSIPM)\n",
    "sipm_pos_y = [sipm_edge_width + i*sipm_pitch for i in range(NSIPM)]*NSIPM\n",
    "\n",
    "print(zip(sipm_pos_x,sipm_pos_y))\n"
   ]
  },
  {
   "cell_type": "markdown",
   "metadata": {},
   "source": [
    "Generate array of El events"
   ]
  },
  {
   "cell_type": "code",
   "execution_count": 3,
   "metadata": {
    "collapsed": false
   },
   "outputs": [
    {
     "name": "stdout",
     "output_type": "stream",
     "text": [
      "[ 31.  35.  43. ...,  17.  43.  29.] [ 27.  69.  31. ...,  79.  33.  21.]\n"
     ]
    }
   ],
   "source": [
    "elpt = np.random.randint(0,1600,nevts)\n",
    "x = (elpt % max_p)*grid_space + 1\n",
    "y = (np.floor(elpt/max_p))*grid_space + 1\n",
    "\n",
    "print(x,y)"
   ]
  },
  {
   "cell_type": "markdown",
   "metadata": {},
   "source": [
    "Define sipm response function"
   ]
  },
  {
   "cell_type": "code",
   "execution_count": 4,
   "metadata": {
    "collapsed": false
   },
   "outputs": [],
   "source": [
    "\"\"\"\n",
    "sipm_param.py\n",
    "author: jrenner\n",
    "Defines the SiPM parameterization functions as:\n",
    "N(x) = M*sum(c_n*x^n) for n = 0 to n = 9\n",
    "where x is the distance of the SiPM from some central point of\n",
    "light emission.\n",
    "Because the response is characterized over several time bins, we\n",
    "have several values for M and the coefficients.\n",
    "\"\"\"\n",
    "import numpy as np\n",
    "\n",
    "# Number of time bins\n",
    "n_tbins = 2\n",
    "\n",
    "# Coefficients from S2 parameterization\n",
    "M = [1.599, 1.599]\n",
    "c0 = [7.72708346764e-05, 0.000116782596518]\n",
    "c1 = [-1.69330613273e-07, 3.05115354927e-06]\n",
    "c2 = [-1.52173658255e-06, -7.00800605142e-06]\n",
    "c3 = [-2.4985972302e-07, 6.53907883449e-07]\n",
    "c4 = [1.12327204397e-07, 8.95230202525e-08]\n",
    "c5 = [-1.49353264606e-08, -2.27173290582e-08]\n",
    "c6 = [1.04614146487e-09, 2.00740799864e-09]\n",
    "c7 = [-4.19111362353e-11, -9.21915945523e-11]\n",
    "c8 = [9.12129133361e-13, 2.20534216312e-12]\n",
    "c9 = [-8.40089561697e-15, -2.1795164563e-14]\n",
    "\n",
    "# Maximum radial extent of parameterization\n",
    "rmax = 20.\n",
    "\n",
    "# Return the SiPM response for the specified time bin and radial distance.\n",
    "def sipm_par(tbin,r):\n",
    "\n",
    "    # Ensure the time bin value is valid.\n",
    "    if(tbin < 0 or tbin >= n_tbins):\n",
    "        print(\"Invalid time bin in sipm_param: returning 0.0 ...\")\n",
    "        return 0.0\n",
    "\n",
    "    # Calculate the response based on the parametrization.\n",
    "    vpar = M[tbin]*(c0[tbin] + c1[tbin]*r + c2[tbin]*r**2 + c3[tbin]*r**3 + \n",
    "    c4[tbin]*r**4 + c5[tbin]*r**5 + c6[tbin]*r**6 + c7[tbin]*r**7 + \n",
    "    c8[tbin]*r**8 + c9[tbin]*r**9)\n",
    "\n",
    "    # Zero the response for radii too large.\n",
    "    if(hasattr(vpar, \"__len__\")):\n",
    "        ret = np.zeros(len(vpar)); iret = 0\n",
    "        for rv,pv in zip(r,vpar):\n",
    "            if(rv < rmax):\n",
    "                ret[iret] = pv\n",
    "            iret += 1\n",
    "        return ret\n",
    "    else:\n",
    "        if(r < rmax):\n",
    "            return vpar\n",
    "        return 0.0\n"
   ]
  },
  {
   "cell_type": "markdown",
   "metadata": {},
   "source": [
    "Generate SiPM responses"
   ]
  },
  {
   "cell_type": "code",
   "execution_count": 5,
   "metadata": {
    "collapsed": false
   },
   "outputs": [],
   "source": [
    "\n",
    "xy = zip(x,y)\n",
    "posxy = zip(sipm_pos_x,sipm_pos_y)\n",
    "R = np.empty_like(sipm_res)\n",
    "\n",
    "\n",
    "# generate responses\n",
    "evt = 0\n",
    "\n",
    "# for each event (xi,yi) are its coordinates\n",
    "for xi,yi in xy:\n",
    "    idx = 0 \n",
    "    # for each sipm get sipm_par\n",
    "    for posx,posy in posxy:\n",
    "        r = np.sqrt((posx - xi)**2 + (posy - yi)**2)\n",
    "        sipm_res[evt,idx] = sipm_par(0,r) \n",
    "        #print(posx,xi,posy,yi)\n",
    "        R[evt,idx] = r\n",
    "        #print(r)\n",
    "        if n_tbins == 2: \n",
    "            sipm_res[evt,idx] += sipm_par(1,r)\n",
    "        idx += 1\n",
    "        \n",
    "    evt += 1\n",
    "\n",
    "#multiply by number of photons, maybe not neccessary \n",
    "if n_tbins == 2: sipm_res = sipm_res * N / 2 #average time of 2 bins\n",
    "else: sipm_res *= N\n"
   ]
  },
  {
   "cell_type": "markdown",
   "metadata": {},
   "source": [
    "Put responses in a table"
   ]
  },
  {
   "cell_type": "code",
   "execution_count": 6,
   "metadata": {
    "collapsed": false,
    "scrolled": true
   },
   "outputs": [],
   "source": [
    "# Store \"x\" in a chunked array with level 5 BLOSC compression...\n",
    "f = tables.open_file('resp.h', 'w')\n",
    "\n",
    "filters = tables.Filters(complib='blosc', complevel=9)\n",
    "\n",
    "#x\n",
    "atom = tables.Atom.from_dtype(x.dtype)\n",
    "x1 = f.create_earray(f.root, 'x', atom, (0,x.shape[0]), filters=filters) # extensible along first index for additional\n",
    "x1.append([x])                                                           # x coords of additional\n",
    "                                                                         # data points can be added (if multiple data\n",
    "                                                                         # points per event)\n",
    "\n",
    "#y\n",
    "atom = tables.Atom.from_dtype(y.dtype)\n",
    "y1 = f.create_earray(f.root, 'y', atom, (0,y.shape[0]), filters=filters)\n",
    "#y1[:] = y\n",
    "y1.append([y])\n",
    "\n",
    "\n",
    "#sipm\n",
    "atom = tables.Atom.from_dtype(sipm_res.dtype)\n",
    "sipm_res1 = f.create_earray(f.root, 'sipm_resp', atom, (0,sipm_res.shape[0],sipm_res.shape[1]), filters=filters)\n",
    "#sipm_res1[:] = sipm_res\n",
    "sipm_res1.append([sipm_res])\n",
    "\n",
    "\n",
    "#print(f.root.sipm_resp[0])\n",
    "#print(R[0])\n",
    "\n",
    "f.close()\n",
    "\n",
    "\n",
    "\n"
   ]
  },
  {
   "cell_type": "markdown",
   "metadata": {},
   "source": [
    "Done!\n",
    "\n",
    "\n",
    "Below is a very small test:\n",
    "*change n_tbins to 2"
   ]
  },
  {
   "cell_type": "code",
   "execution_count": 7,
   "metadata": {
    "collapsed": false
   },
   "outputs": [
    {
     "name": "stdout",
     "output_type": "stream",
     "text": [
      "2.17984746081e-06\n"
     ]
    }
   ],
   "source": [
    "f = tables.open_file('resp.h', 'r')\n",
    "\n",
    "test_evt = 0\n",
    "test_sipm = 20\n",
    "print(f.root.sipm_resp[0][0][test_sipm])\n"
   ]
  },
  {
   "cell_type": "markdown",
   "metadata": {},
   "source": [
    "To verify this is as it should be..."
   ]
  },
  {
   "cell_type": "code",
   "execution_count": 8,
   "metadata": {
    "collapsed": false
   },
   "outputs": [
    {
     "name": "stdout",
     "output_type": "stream",
     "text": [
      "r: 18.973665961 *if r > 20 this should sipm response should be 0\n",
      "sipm response: 2.17984746081e-06 = 2.17984746081e-06?\n",
      "x: 31.0 = 31.0?\n",
      "y: 27.0 = 27.0?\n"
     ]
    }
   ],
   "source": [
    "r = np.sqrt((x[test_evt] - sipm_pos_x[test_sipm])**2 + (y[test_evt] - sipm_pos_y[test_sipm])**2)\n",
    "test = ( sipm_par(0,r) + sipm_par(1,r) )*N/2\n",
    "\n",
    "\n",
    "print('r: ' + str(r) + ' *if r > 20 this should sipm response should be 0')\n",
    "print('sipm response: '+ str(test) + ' = ' + str(f.root.sipm_resp[0][0][test_sipm]) + '?')\n",
    "print('x: ' + str(x[test_evt]) + ' = ' + str(f.root.x[0][test_evt]) + '?')\n",
    "print('y: ' + str(y[test_evt]) + ' = ' + str(f.root.y[0][test_evt]) + '?')"
   ]
  },
  {
   "cell_type": "code",
   "execution_count": 9,
   "metadata": {
    "collapsed": true
   },
   "outputs": [],
   "source": [
    "f.close()"
   ]
  }
 ],
 "metadata": {
  "kernelspec": {
   "display_name": "Python 2",
   "language": "python",
   "name": "python2"
  },
  "language_info": {
   "codemirror_mode": {
    "name": "ipython",
    "version": 2
   },
   "file_extension": ".py",
   "mimetype": "text/x-python",
   "name": "python",
   "nbconvert_exporter": "python",
   "pygments_lexer": "ipython2",
   "version": "2.7.12"
  }
 },
 "nbformat": 4,
 "nbformat_minor": 0
}
