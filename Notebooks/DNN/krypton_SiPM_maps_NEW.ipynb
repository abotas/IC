{
 "cells": [
  {
   "cell_type": "code",
   "execution_count": 1,
   "metadata": {
    "collapsed": false
   },
   "outputs": [],
   "source": [
    "from __future__ import print_function\n",
    "\n",
    "import matplotlib.pyplot as plt\n",
    "import tables as tb\n",
    "import numpy  as np\n",
    "\n",
    "%matplotlib inline"
   ]
  },
  {
   "cell_type": "markdown",
   "metadata": {},
   "source": [
    "Generate some random events in EL plane"
   ]
  },
  {
   "cell_type": "code",
   "execution_count": 2,
   "metadata": {
    "collapsed": true
   },
   "outputs": [],
   "source": [
    "def gen_polar_hits(num, N_ELpts, EL_radius):\n",
    "    \"\"\"\n",
    "    Generate hits in polar coordinates. Using polar coords for convenience, since hits must\n",
    "    be within EL radius\n",
    "    \"\"\"\n",
    "    yp_  = np.empty((num,N_ELpts*2), np.float32)\n",
    "    yp_[:,0:N_ELpts]         = np.random.uniform(0,EL_radius,(num, N_ELpts))\n",
    "    yp_[:,N_ELpts:2*N_ELpts] = np.random.uniform(0,2*np.pi,  (num,N_ELpts))\n",
    "    return yp_\n",
    "\n",
    "def cartesian_convert(r, theta, N_ELpts):\n",
    "    \"\"\"\n",
    "    Convert polar coords to cartesian\n",
    "    \"\"\"\n",
    "    yc_ = np.empty((r.shape[0],r.shape[1]*2),np.float32)\n",
    "    for i in range(N_ELpts):\n",
    "        yc_[:,i]           = np.cos(theta[:,i])*r[:,i] # xcoords\n",
    "        yc_[:,N_ELpts + i] = np.sin(theta[:,i])*r[:,i] # ycoords\n",
    "    return yc_"
   ]
  },
  {
   "cell_type": "code",
   "execution_count": 3,
   "metadata": {
    "collapsed": false
   },
   "outputs": [],
   "source": [
    "nevts   = 100000\n",
    "EL_rad  = 198\n",
    "N_ELpts = 1\n",
    "coords  = np.zeros((nevts,2),dtype=np.float32)\n",
    "coords  = np.array([[12.2,35,],[-0.2,.49999999999999999999999999],[-198,-.1]])\n",
    "\n",
    "polar_coords = gen_polar_hits(nevts, N_ELpts, EL_rad)\n",
    "coords       = cartesian_convert(polar_coords[:,:N_ELpts],polar_coords[:,N_ELpts:],N_ELpts)\n",
    "\n",
    "# round for easy extraction from the light table\n",
    "coords = np.array(np.round(coords),dtype=np.int)"
   ]
  },
  {
   "cell_type": "markdown",
   "metadata": {},
   "source": [
    "Open light table"
   ]
  },
  {
   "cell_type": "code",
   "execution_count": 5,
   "metadata": {
    "collapsed": false
   },
   "outputs": [
    {
     "name": "stdout",
     "output_type": "stream",
     "text": [
      "Description([('grid_xy', '(2,)f4'), ('sens_id', '(1,)i4'), ('sens_prob', '(1,)f4')])\n"
     ]
    }
   ],
   "source": [
    "f        = tb.open_file('ReproducedFull.h5', 'r')\n",
    "table    = f.root.Probabilities.data\n",
    "print(table.description)"
   ]
  },
  {
   "cell_type": "code",
   "execution_count": 6,
   "metadata": {
    "collapsed": false
   },
   "outputs": [],
   "source": [
    "grid   = np.array(table[:]['grid_xy'  ], dtype=np.int)\n",
    "probs  = np.array(table[:]['sens_prob'], dtype=np.float32)\n",
    "ids    = np.array(table[:]['sens_id'  ], dtype=np.int)\n",
    "id_pos = np.array(f.root.Sensors.XY[12:])\n",
    "\n",
    "# Note: table.where does not support condition with multidim col (and cant simply index into multidim col)\n",
    "#test = np.array([[row['sens_id'],row['probs']] for row in table.where(\"grid_xy[0] == coords[0,0] & grid_xy[1] == coords[0,1]\")])\n",
    "\n",
    "# so, replace ids with positions **takes 30 seconds**\n",
    "pos = np.ones((len(ids),2), dtype=np.int)*-9999 # -9999 will correspond to PMTs\n",
    "for p in id_pos: pos[np.where(ids == p[0])[0]] = p[1:]"
   ]
  },
  {
   "cell_type": "markdown",
   "metadata": {},
   "source": [
    "Generate SiPM maps"
   ]
  },
  {
   "cell_type": "code",
   "execution_count": null,
   "metadata": {
    "collapsed": false
   },
   "outputs": [],
   "source": [
    "maps   = np.zeros((nevts,48,48),dtype=np.float32)\n",
    "# dictionaries to move to, from sipm position <---> index ##make faster\n",
    "ind2pos = {}\n",
    "pos2ind = {}\n",
    "for i in range(48):\n",
    "    pos2ind[-235 + 10*i] = i\n",
    "    ind2pos[i] = -235 + 10*i\n",
    "\n",
    "# for each time slice: collect non zero sipm responses, populate maps \n",
    "for z,xy in enumerate(coords):\n",
    "    \n",
    "    # collect non zero sipm responses\n",
    "    i         = np.where((grid == xy).all(axis=1))[0]\n",
    "    sli_pos   = pos[i]\n",
    "    sli_probs = probs[i]\n",
    "    \n",
    "    # populate sipm maps for this time slice\n",
    "    for posx,posy,probj in zip(sli_pos[:,0], sli_pos[:,1], sli_probs): \n",
    "        if posx != -9999:\n",
    "            xidx = pos2ind[posx]\n",
    "            yidx = pos2ind[posy]\n",
    "            maps[z,xidx,yidx] = probj\n",
    "    if (z+1)%1000==0: print(str(z/float(nevts)) + ' complete...')"
   ]
  },
  {
   "cell_type": "code",
   "execution_count": 7,
   "metadata": {
    "collapsed": false
   },
   "outputs": [
    {
     "name": "stdout",
     "output_type": "stream",
     "text": [
      "0.00999 complete...\n",
      "0.01999 complete...\n",
      "0.02999 complete...\n",
      "0.03999 complete...\n",
      "0.04999 complete...\n",
      "0.05999 complete...\n",
      "0.06999 complete...\n",
      "0.07999 complete...\n",
      "0.08999 complete...\n",
      "0.09999 complete...\n",
      "0.10999 complete...\n",
      "0.11999 complete...\n",
      "0.12999 complete...\n",
      "0.13999 complete...\n",
      "0.14999 complete...\n",
      "0.15999 complete...\n",
      "0.16999 complete...\n",
      "0.17999 complete...\n",
      "0.18999 complete...\n",
      "0.19999 complete...\n",
      "0.20999 complete...\n",
      "0.21999 complete...\n",
      "0.22999 complete...\n",
      "0.23999 complete...\n",
      "0.24999 complete...\n",
      "0.25999 complete...\n",
      "0.26999 complete...\n",
      "0.27999 complete...\n",
      "0.28999 complete...\n",
      "0.29999 complete...\n",
      "0.30999 complete...\n",
      "0.31999 complete...\n",
      "0.32999 complete...\n",
      "0.33999 complete...\n",
      "0.34999 complete...\n",
      "0.35999 complete...\n",
      "0.36999 complete...\n",
      "0.37999 complete...\n",
      "0.38999 complete...\n",
      "0.39999 complete...\n",
      "0.40999 complete...\n",
      "0.41999 complete...\n",
      "0.42999 complete...\n",
      "0.43999 complete...\n",
      "0.44999 complete...\n",
      "0.45999 complete...\n",
      "0.46999 complete...\n",
      "0.47999 complete...\n",
      "0.48999 complete...\n",
      "0.49999 complete...\n",
      "0.50999 complete...\n",
      "0.51999 complete...\n",
      "0.52999 complete...\n",
      "0.53999 complete...\n",
      "0.54999 complete...\n",
      "0.55999 complete...\n",
      "0.56999 complete...\n",
      "0.57999 complete...\n",
      "0.58999 complete...\n",
      "0.59999 complete...\n",
      "0.60999 complete...\n",
      "0.61999 complete...\n",
      "0.62999 complete...\n",
      "0.63999 complete...\n",
      "0.64999 complete...\n",
      "0.65999 complete...\n",
      "0.66999 complete...\n",
      "0.67999 complete...\n",
      "0.68999 complete...\n",
      "0.69999 complete...\n",
      "0.70999 complete...\n",
      "0.71999 complete...\n",
      "0.72999 complete...\n",
      "0.73999 complete...\n",
      "0.74999 complete...\n",
      "0.75999 complete...\n",
      "0.76999 complete...\n",
      "0.77999 complete...\n",
      "0.78999 complete...\n",
      "0.79999 complete...\n",
      "0.80999 complete...\n",
      "0.81999 complete...\n",
      "0.82999 complete...\n",
      "0.83999 complete...\n",
      "0.84999 complete...\n",
      "0.85999 complete...\n",
      "0.86999 complete...\n",
      "0.87999 complete...\n",
      "0.88999 complete...\n",
      "0.89999 complete...\n",
      "0.90999 complete...\n",
      "0.91999 complete...\n",
      "0.92999 complete...\n",
      "0.93999 complete...\n",
      "0.94999 complete...\n",
      "0.95999 complete...\n",
      "0.96999 complete...\n",
      "0.97999 complete...\n",
      "0.98999 complete...\n",
      "0.99999 complete...\n"
     ]
    }
   ],
   "source": [
    "testmaps   = np.zeros((nevts,48,48),dtype=np.float32)\n",
    "\n",
    "# for each time slice: collect non zero sipm responses, populate maps \n",
    "for z,xy in enumerate(coords):\n",
    "    \n",
    "    # collect non zero sipm responses\n",
    "    i         = np.where((grid == xy).all(axis=1))[0]\n",
    "    sli_pos   = pos[i]\n",
    "    sli_idx   = np.array((sli_pos + 235) / 10, dtype=np.int)\n",
    "    sli_probs = probs[i]\n",
    "    #testmaps[z,sli_idx[:,0],sli_idx[:,1]] = sli_probs\n",
    "    \n",
    "    # populate sipm maps for this time slice\n",
    "    for xidx,yidx,probj in zip(sli_idx[:,0], sli_idx[:,1], sli_probs): \n",
    "        if xidx != -977: testmaps[z,xidx,yidx] = probj\n",
    "    if (z+1)%1000==0: print(str(z/float(nevts)) + ' complete...')"
   ]
  },
  {
   "cell_type": "markdown",
   "metadata": {},
   "source": [
    "Save the coordinate of the randomly generated hits, and their SiPM maps"
   ]
  },
  {
   "cell_type": "code",
   "execution_count": 1,
   "metadata": {
    "collapsed": false
   },
   "outputs": [
    {
     "ename": "NameError",
     "evalue": "name 'tb' is not defined",
     "output_type": "error",
     "traceback": [
      "\u001b[1;31m---------------------------------------------------------------------------\u001b[0m",
      "\u001b[1;31mNameError\u001b[0m                                 Traceback (most recent call last)",
      "\u001b[1;32m<ipython-input-1-581ed19f261f>\u001b[0m in \u001b[0;36m<module>\u001b[1;34m()\u001b[0m\n\u001b[1;32m----> 1\u001b[1;33m \u001b[0mf\u001b[0m \u001b[1;33m=\u001b[0m \u001b[0mtb\u001b[0m\u001b[1;33m.\u001b[0m\u001b[0mopen_file\u001b[0m\u001b[1;33m(\u001b[0m\u001b[1;34m'NEW_krypton_maps_100000.h'\u001b[0m\u001b[1;33m,\u001b[0m \u001b[1;34m'w'\u001b[0m\u001b[1;33m)\u001b[0m\u001b[1;33m\u001b[0m\u001b[0m\n\u001b[0m\u001b[0;32m      2\u001b[0m \u001b[0mfilters\u001b[0m \u001b[1;33m=\u001b[0m \u001b[0mtb\u001b[0m\u001b[1;33m.\u001b[0m\u001b[0mFilters\u001b[0m\u001b[1;33m(\u001b[0m\u001b[0mcomplib\u001b[0m\u001b[1;33m=\u001b[0m\u001b[1;34m'blosc'\u001b[0m\u001b[1;33m,\u001b[0m \u001b[0mcomplevel\u001b[0m\u001b[1;33m=\u001b[0m\u001b[1;36m9\u001b[0m\u001b[1;33m,\u001b[0m \u001b[0mshuffle\u001b[0m\u001b[1;33m=\u001b[0m\u001b[0mFalse\u001b[0m\u001b[1;33m)\u001b[0m\u001b[1;33m\u001b[0m\u001b[0m\n\u001b[0;32m      3\u001b[0m \u001b[1;33m\u001b[0m\u001b[0m\n\u001b[0;32m      4\u001b[0m \u001b[0matom\u001b[0m    \u001b[1;33m=\u001b[0m \u001b[0mtb\u001b[0m\u001b[1;33m.\u001b[0m\u001b[0mAtom\u001b[0m\u001b[1;33m.\u001b[0m\u001b[0mfrom_dtype\u001b[0m\u001b[1;33m(\u001b[0m\u001b[0mmaps\u001b[0m\u001b[1;33m.\u001b[0m\u001b[0mdtype\u001b[0m\u001b[1;33m)\u001b[0m\u001b[1;33m\u001b[0m\u001b[0m\n\u001b[0;32m      5\u001b[0m \u001b[0mtmaps\u001b[0m   \u001b[1;33m=\u001b[0m \u001b[0mf\u001b[0m\u001b[1;33m.\u001b[0m\u001b[0mcreate_earray\u001b[0m\u001b[1;33m(\u001b[0m\u001b[0mf\u001b[0m\u001b[1;33m.\u001b[0m\u001b[0mroot\u001b[0m\u001b[1;33m,\u001b[0m \u001b[1;34m'maps'\u001b[0m\u001b[1;33m,\u001b[0m   \u001b[0matom\u001b[0m\u001b[1;33m,\u001b[0m \u001b[1;33m(\u001b[0m\u001b[1;36m0\u001b[0m\u001b[1;33m,\u001b[0m\u001b[1;36m48\u001b[0m\u001b[1;33m,\u001b[0m\u001b[1;36m48\u001b[0m\u001b[1;33m)\u001b[0m\u001b[1;33m,\u001b[0m \u001b[0mfilters\u001b[0m\u001b[1;33m=\u001b[0m\u001b[0mfilters\u001b[0m\u001b[1;33m)\u001b[0m\u001b[1;33m\u001b[0m\u001b[0m\n",
      "\u001b[1;31mNameError\u001b[0m: name 'tb' is not defined"
     ]
    }
   ],
   "source": [
    "f = tb.open_file('NEW_krypton_maps_100000.h', 'w')\n",
    "filters = tb.Filters(complib='blosc', complevel=9, shuffle=False)\n",
    "\n",
    "atom    = tb.Atom.from_dtype(maps.dtype)\n",
    "tmaps   = f.create_earray(f.root, 'maps',   atom, (0,48,48), filters=filters) \n",
    "\n",
    "atom    = tb.Atom.from_dtype(coords.dtype)\n",
    "tcoords = f.create_earray(f.root, 'coords', atom, (0,2),     filters=filters)\n",
    "\n",
    "for i in range(nevts):\n",
    "    tmaps.append([testmaps[i]])\n",
    "    tcoords.append([testcoords[i]])\n",
    "print(f)\n",
    "f.close()"
   ]
  },
  {
   "cell_type": "code",
   "execution_count": null,
   "metadata": {
    "collapsed": true
   },
   "outputs": [],
   "source": []
  }
 ],
 "metadata": {
  "kernelspec": {
   "display_name": "Python [Root]",
   "language": "python",
   "name": "Python [Root]"
  },
  "language_info": {
   "codemirror_mode": {
    "name": "ipython",
    "version": 2
   },
   "file_extension": ".py",
   "mimetype": "text/x-python",
   "name": "python",
   "nbconvert_exporter": "python",
   "pygments_lexer": "ipython2",
   "version": "2.7.12"
  }
 },
 "nbformat": 4,
 "nbformat_minor": 0
}
