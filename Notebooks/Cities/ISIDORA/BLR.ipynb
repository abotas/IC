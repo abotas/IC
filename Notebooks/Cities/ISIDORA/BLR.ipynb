{
 "cells": [
  {
   "cell_type": "markdown",
   "metadata": {},
   "source": [
    "# BLR"
   ]
  },
  {
   "cell_type": "markdown",
   "metadata": {},
   "source": [
    "Study of deconvolution algorithms"
   ]
  },
  {
   "cell_type": "code",
   "execution_count": 1,
   "metadata": {
    "collapsed": false
   },
   "outputs": [],
   "source": [
    "from __future__ import print_function\n",
    "from IPython.display import Image\n",
    "%matplotlib inline"
   ]
  },
  {
   "cell_type": "code",
   "execution_count": 5,
   "metadata": {
    "collapsed": true
   },
   "outputs": [],
   "source": [
    "import logging\n",
    "import sys\n",
    "logger = logging.getLogger()\n",
    "logger.handlers[0].stream = sys.stdout\n",
    "logger.setLevel(logging.DEBUG)"
   ]
  },
  {
   "cell_type": "code",
   "execution_count": 6,
   "metadata": {
    "collapsed": true
   },
   "outputs": [],
   "source": [
    "import pandas as pd\n",
    "import tables as tb\n",
    "import numpy as np\n",
    "import tables"
   ]
  },
  {
   "cell_type": "code",
   "execution_count": 7,
   "metadata": {
    "collapsed": true
   },
   "outputs": [],
   "source": [
    "from system_of_units import *"
   ]
  },
  {
   "cell_type": "code",
   "execution_count": 8,
   "metadata": {
    "collapsed": true
   },
   "outputs": [],
   "source": [
    "import FEParam as FP\n",
    "import SPE as SP\n",
    "import FEE2 as FE\n",
    "from scipy import signal as SGN "
   ]
  },
  {
   "cell_type": "code",
   "execution_count": 9,
   "metadata": {
    "collapsed": true
   },
   "outputs": [],
   "source": [
    "from Configure import configure\n",
    "from cities import isidora"
   ]
  },
  {
   "cell_type": "code",
   "execution_count": 10,
   "metadata": {
    "collapsed": true
   },
   "outputs": [],
   "source": [
    "%load_ext autoreload\n",
    "%autoreload 2"
   ]
  },
  {
   "cell_type": "code",
   "execution_count": 11,
   "metadata": {
    "collapsed": true
   },
   "outputs": [],
   "source": [
    "import mplFunctions as mpl\n",
    "import wfmFunctions as wfm\n",
    "import tblFunctions as tbl"
   ]
  },
  {
   "cell_type": "code",
   "execution_count": 12,
   "metadata": {
    "collapsed": true
   },
   "outputs": [],
   "source": [
    "import matplotlib\n",
    "import matplotlib.pyplot as plt\n",
    "matplotlib.style.use('ggplot')"
   ]
  },
  {
   "cell_type": "code",
   "execution_count": null,
   "metadata": {
    "collapsed": true
   },
   "outputs": [],
   "source": []
  },
  {
   "cell_type": "markdown",
   "metadata": {},
   "source": [
    "### BLR"
   ]
  },
  {
   "cell_type": "markdown",
   "metadata": {},
   "source": [
    "#### Deconvolution function"
   ]
  },
  {
   "cell_type": "code",
   "execution_count": 48,
   "metadata": {
    "collapsed": false
   },
   "outputs": [],
   "source": [
    "class SBLR:\n",
    "    \"\"\"\n",
    "    Signals BLR: a simple class to hold of the signals relevant for BLR\n",
    "    \"\"\"\n",
    "    def __init__(self, len_signal_daq):\n",
    "        \"\"\"\n",
    "        len_signal_daq: length of the signal to deconvolute\n",
    "        \n",
    "        \n",
    "        \"\"\"\n",
    "        \n",
    "        self.MAU = np.zeros(len_signal_daq, dtype=np.double)\n",
    "        self.acum = np.zeros(len_signal_daq, dtype=np.double)\n",
    "        self.signal_r = np.zeros(len_signal_daq, dtype=np.double)\n",
    "        self.pulse_on = np.zeros(len_signal_daq, dtype=np.double)\n",
    "        self.wait_over = np.zeros(len_signal_daq, dtype=np.double)\n",
    "        self.offset = np.zeros(len_signal_daq, dtype=np.double)\n",
    "        self.BASELINE = 0\n",
    "        \n",
    "\n",
    "def BLR(signal_daq, coef, mau_len=250, thr1 = 3*FP.NOISE_ADC, thr2 = 0, \n",
    "        thr3 = FP.NOISE_ADC, log='INFO'):\n",
    "\n",
    "    \"\"\"\n",
    "    Deconvolution offline of the DAQ signal using a MAU\n",
    "    moving window-average filter of a vector data. See notebook \n",
    "    y(n) = (1/WindowSize)(x(n) + x(n-1) + ... + x(n-windowSize))\n",
    "    in a filter operation filter(b,a,x):\n",
    "    b = (1/WindowSize)*ones(WindowSize) = (1/WS)*[1,1,1,...]: numerator\n",
    "    a = 1 : denominator\n",
    "    y = filter(b,a,x)\n",
    "    y[0] = b[0]*x[0] = (1/WS) * x[0]\n",
    "    y[1] = (1/WS) * (x[0] + x[1])\n",
    "    y[WS-1] = mean(x[0:WS])\n",
    "    y[WS] = mean(x[1:WS+1])\n",
    "    and so on\n",
    "    \"\"\"\n",
    "    \n",
    "    lg = 'logging.'+log\n",
    "    logger.setLevel(eval(lg))\n",
    "    len_signal_daq = len(signal_daq)\n",
    "    sblr = SBLR(len_signal_daq)\n",
    "\n",
    "    signal_i = np.copy(signal_daq) #uses to update MAU while procesing signal\n",
    "    nm = mau_len\n",
    "    B_MAU = (1./nm)*np.ones(nm)\n",
    "\n",
    "#   MAU averages the signal in the initial tranch \n",
    "#    allows to compute the baseline of the signal  \n",
    "    \n",
    "    sblr.MAU[0:nm] = SGN.lfilter(B_MAU,1, signal_daq[0:nm])\n",
    "    sblr.acum[nm] =  sblr.MAU[nm]\n",
    "    sblr.BASELINE = sblr.MAU[nm-1]\n",
    "\n",
    "    logging.debug(\"\"\"-->BLR: \n",
    "                     MAU_LEN={}\n",
    "                     thr1 = {}, thr2 = {}, thr3 = {} =\"\"\".format(\n",
    "                     mau_len, thr1, thr2, thr3))\n",
    "    logging.debug(\"n = {}, acum[n] = {} BASELINE ={}\".format(nm, sblr.acum[nm],sblr.BASELINE))\n",
    "\n",
    "#----------\n",
    "\n",
    "# While MAU inits BLR is switched off, thus signal_r = signal_daq \n",
    "\n",
    "    sblr.signal_r[0:nm] = signal_daq[0:nm] \n",
    "    pulse_on=0\n",
    "    wait_over=0\n",
    "    offset = 0\n",
    "    \n",
    "    # MAU has computed the offset using nm samples\n",
    "    # now loop until the end of DAQ window\n",
    "\n",
    "    logging.debug(\"nm = {}\".format(nm))\n",
    "    \n",
    "    for k in range(nm,len_signal_daq): \n",
    "\n",
    "        trigger_line = sblr.MAU[k-1] + thr1\n",
    "        sblr.pulse_on[k] = pulse_on\n",
    "        sblr.wait_over[k] = wait_over \n",
    "        sblr.offset[k] = offset\n",
    "        \n",
    "        # condition: raw signal raises above trigger line and \n",
    "        # we are not in the tail\n",
    "        # (wait_over == 0)\n",
    "        if signal_daq[k] > trigger_line and wait_over == 0:\n",
    "\n",
    "            # if the pulse just started pulse_on = 0.\n",
    "            # In this case compute the offset as value \n",
    "            #of the MAU before pulse starts (at k-1)\n",
    "\n",
    "            if pulse_on == 0: # pulse just started\n",
    "                #offset computed as the value of MAU before pulse starts\n",
    "                offset = sblr.MAU[k-1]  \n",
    "                pulse_on = 1 \n",
    "                \n",
    "            #Pulse is on: Freeze the MAU\n",
    "            sblr.MAU[k] = sblr.MAU[k-1]  \n",
    "            signal_i[k] = sblr.MAU[k-1]  #signal_i follows the MAU\n",
    "            \n",
    "            #update recovered signal, correcting by offset\n",
    "            sblr.acum[k] = sblr.acum[k-1] + signal_daq[k] - offset;\n",
    "            sblr.signal_r[k] = signal_daq[k] + coef*sblr.acum[k] \n",
    "                  \n",
    "            \n",
    "        else:  #no signal or raw signal has dropped below threshold\n",
    "                      \n",
    "        # but raw signal can be negative for a while and still contribute to the\n",
    "        # reconstructed signal.\n",
    "\n",
    "            if pulse_on == 1: #reconstructed signal still on\n",
    "                # switch the pulse off only when recovered signal \n",
    "                #drops below threshold\n",
    "                #slide the MAU, still frozen. \n",
    "                # keep recovering signal\n",
    "                \n",
    "                sblr.MAU[k] = sblr.MAU[k-1] \n",
    "                signal_i[k] = sblr.MAU[k-1]\n",
    "                sblr.acum[k] = sblr.acum[k-1] + signal_daq[k] - offset;\n",
    "                sblr.signal_r[k] = signal_daq[k] + coef*sblr.acum[k] \n",
    "                \n",
    "                #if the recovered signal drops before trigger line \n",
    "                #rec pulse is over!\n",
    "                if sblr.signal_r[k] < trigger_line + thr2:\n",
    "                    wait_over = 1  #start tail compensation\n",
    "                    pulse_on = 0   #recovered pulse is over\n",
    "                      \n",
    "\n",
    "            else:  #recovered signal has droped below trigger line\n",
    "            #need to compensate the tail to avoid drifting due to erros in \n",
    "            #baseline calculatoin\n",
    "\n",
    "                if wait_over == 1: #compensating pulse\n",
    "                    # recovered signal and raw signal \n",
    "                    #must be equal within a threshold\n",
    "                    # otherwise keep compensating pluse\n",
    "                        \n",
    "                    if signal_daq[k-1] < sblr.signal_r[k-1] - thr3:\n",
    "                        # raw signal still below recovered signal \n",
    "                        # keep compensating pulse\n",
    "                        # is the recovered signal near offset?\n",
    "                        upper = offset + (thr3 + thr2)\n",
    "                        lower = offset - (thr3 + thr2)\n",
    "                        \n",
    "                        if sblr.signal_r[k-1] > lower and sblr.signal_r[k-1] < upper:\n",
    "                            # we are near offset, activate MAU. \n",
    "                            \n",
    "                            signal_i[k] = sblr.signal_r[k-1]\n",
    "                            sblr.MAU[k] = np.sum(signal_i[k-nm:k])*1./nm\n",
    "                                      \n",
    "                        else: \n",
    "                            # rec signal not near offset MAU frozen  \n",
    "                            sblr.MAU[k] = sblr.MAU[k-1]\n",
    "                            signal_i[k] = sblr.MAU[k-1]\n",
    "                            \n",
    "                        # keep adding recovered signal  \n",
    "                        sblr.acum[k] = sblr.acum[k-1] + signal_daq[k] - sblr.MAU[k]\n",
    "                        sblr.signal_r[k] = signal_daq[k] + coef*sblr.acum[k]\n",
    "                        \n",
    "                    else:  # raw signal above recovered signal: we are done \n",
    "                        \n",
    "                        wait_over = 0\n",
    "                        sblr.acum[k] = sblr.MAU[k-1]\n",
    "                        sblr.signal_r[k] = signal_daq[k]\n",
    "                        signal_i[k] = sblr.signal_r[k]\n",
    "                        sblr.MAU[k] = np.sum(signal_i[k-nm:k])*1./nm\n",
    "                        \n",
    "                            \n",
    "                else: #signal still not found\n",
    "                    \n",
    "                    #update MAU and signals\n",
    "                    sblr.MAU[k] = np.sum(signal_i[k-nm:k]*1.)/nm   \n",
    "                    sblr.acum[k] = sblr.MAU[k-1]\n",
    "                    sblr.signal_r[k] = signal_daq[k]\n",
    "                    signal_i[k] = sblr.signal_r[k]  \n",
    "                                                                                                       \n",
    "    #energy = np.dot(pulse_f,(signal_r-BASELINE)) \n",
    "    \n",
    "    logging.debug(\"sblr.signal_r[0:10]= {}\".format(sblr.signal_r[0:10]))\n",
    "    logging.debug(\"BASELINE ={}\".format(sblr.BASELINE))\n",
    "                       \n",
    "    sblr.signal_r = sblr.signal_r - sblr.BASELINE\n",
    "    \n",
    "    logging.debug(\"sblr.signal_r[0:10] - BASELINE= {}\".format(sblr.signal_r[0:10]))\n",
    "   \n",
    "    return  sblr\n",
    "\n",
    "def accumulator_coefficients(pmtrd,CA):\n",
    "    \"\"\"\n",
    "    Compute the accumulator coefficients for DBLR\n",
    "    It computes the inverse function of the HPF and takes\n",
    "    the accumulator as the value of the function anywhere\n",
    "    but the first bin (the inverse is a step function with\n",
    "    constant value equal to the accumulator)\n",
    "    CA are the values of the capacitances defining the filter\n",
    "    (1/(2CR)) for each PMT\n",
    "    \"\"\"\n",
    "    len_WF = pmtrd.shape[2]\n",
    "    NPMT = pmtrd.shape[1]\n",
    "    \n",
    "    coef_acc =np.zeros(NPMT, dtype=np.double)\n",
    "\n",
    "    signal_t = np.arange(0.0, len_WF*1., 1., dtype=np.double)\n",
    "\n",
    "    for j in range(NPMT):\n",
    "        \n",
    "        fee = FE.FEE(C=CA[j],R= FP.R, f=FP.freq_LPF, RG=FP.V_GAIN)\n",
    "        signal_inv_daq = fee.InverseSignalDAQ(signal_t)  #inverse function\n",
    "        coef_acc[j] = signal_inv_daq[10] #any index is valid, function is flat\n",
    "        \n",
    "    return coef_acc\n",
    "\n",
    "def DBLR(pmtrd, event_number, coeff_acc, mau_len=250,\n",
    "         thr1 = FP.NOISE_ADC, thr2=0, thr3 = FP.NOISE_ADC, log='INFO'):\n",
    "    \"\"\"\n",
    "    Peform Base line Restoration\n",
    "    coeff_acc is an array with the coefficients of the accumulator\n",
    "    Threshold 1 is used to decide when raw signal raises up above trigger line\n",
    "    Threshold 2 is used to decide when reconstructed signal is above trigger line\n",
    "    Threshold 3 is used to compare Raw and Rec signal\n",
    "    \"\"\"\n",
    "    \n",
    "    len_WF = pmtrd.shape[2]\n",
    "    NPMT = pmtrd.shape[1]\n",
    "    \n",
    "    BLRS =[]\n",
    "    for j in range(NPMT):\n",
    "        sblr = BLR(pmtrd[event_number, j], coeff_acc[j], mau_len, thr1, thr2, thr3, log)\n",
    "        BLRS.append(sblr)\n",
    "       \n",
    "    return BLRS\n"
   ]
  },
  {
   "cell_type": "markdown",
   "metadata": {},
   "source": [
    "### ISIDORA"
   ]
  },
  {
   "cell_type": "code",
   "execution_count": 12,
   "metadata": {
    "collapsed": true
   },
   "outputs": [],
   "source": [
    "def ISIDORA(argv):\n",
    "    DEBUG_LEVEL, INFO, CFP = configure(argv[0],argv[1:])\n",
    "    if INFO:\n",
    "        print(isidora)\n",
    "\n",
    "    #wait()\n",
    "    \n",
    "    print(\"\"\"\n",
    "        ISIDORA:\n",
    "        1. Reads an Nh5 file produced by DIOMIRA, which stores the\n",
    "            raw waveforms (RWF) for the PMTs and SiPMs waveforms, as well as\n",
    "            data on geometry, sensors and MC. The RDWF of the PMTs\n",
    "            show negative swing due to the HPF of the EP FEE electronics\n",
    "\n",
    "        2. Performs DBLR on the PMT RWF and produces corrected waveforms (CWF).\n",
    "\n",
    "        3. Adds the CWF and ancilliary info to the DST \n",
    "\n",
    "        4. Computes the energy of the PMTs per each event and writes to DST\n",
    "\n",
    "        \"\"\")\n",
    "\n",
    "    \n",
    "    PATH_IN=CFP['PATH_IN'] \n",
    "    FILE_IN=CFP['FILE_IN']\n",
    "    FIRST_EVT=CFP['FIRST_EVT']\n",
    "    LAST_EVT=CFP['LAST_EVT']\n",
    "    RUN_ALL=CFP['RUN_ALL']\n",
    "    COEF=CFP['COEF']\n",
    "    CA=farray_from_string(CFP['CA'])*nF \n",
    "    AC=farray_from_string(CFP['AC']) \n",
    "    MAU_LEN=CFP['MAU_LEN']\n",
    "    NSIGMA1=CFP['NSIGMA1'] \n",
    "    NSIGMA2=CFP['NSIGMA2'] \n",
    "\n",
    "    NEVENTS = LAST_EVT -  FIRST_EVT\n",
    "\n",
    "    print('Debug level = {}'.format(DEBUG_LEVEL))\n",
    "\n",
    "    logger.info(\"input path ={}; file_in ={} \".format(\n",
    "        PATH_IN,FILE_IN))\n",
    "\n",
    "    logger.info(\"first event = {} last event = {} nof events requested = {} \".format(\n",
    "        FIRST_EVT,LAST_EVT,NEVENTS))\n",
    "\n",
    "    logger.info(\"MAU length = {} n_sigma1 = {} n_sigma2 = {} \".format(\n",
    "        MAU_LEN,NSIGMA1,NSIGMA2))\n",
    "    logger.info(\"CA sigma(nf) = {}  \".format(CA/nF))\n",
    "    \n",
    "\n",
    "    # open the input file in mode append \n",
    "    with tables.open_file(\"{}/{}\".format(PATH_IN,FILE_IN), \"a\") as h5in: \n",
    "        # access the PMT raw data in file \n",
    "        pmtrd_ = h5in.root.RD.pmtrwf\n",
    "\n",
    "        #pmtrd_.shape = (nof_events, nof_sensors, wf_length)    \n",
    "        \n",
    "        NPMT = pmtrd_.shape[1]\n",
    "        PMTWL = pmtrd_.shape[2] \n",
    "        NEVENTS_DST = pmtrd_.shape[0]\n",
    "\n",
    "        logger.info(\"nof PMTs = {} nof events in input DST = {} \".format(\n",
    "        NPMT,NEVENTS_DST))\n",
    "\n",
    "        logger.info(\"lof PMT WF (MC) = {} \".format(\n",
    "        PMTWL))\n",
    "\n",
    "        #wait()\n",
    "            \n",
    "        # create an extensible array to store the CWF waveforms\n",
    "        # if it exists remove and create again\n",
    "        pmtcwf =0\n",
    "        try:\n",
    "            pmtcwf = h5in.root.RD.pmtcwf\n",
    "            h5in.remove_node(\"/RD\",\"pmtcwf\")\n",
    "            pmtcwf = h5in.create_earray(h5in.root.RD, \"pmtcwf\", \n",
    "                                    atom=tables.Float32Atom(), \n",
    "                                    shape=(0, NPMT, PMTWL), \n",
    "                                    expectedrows=NEVENTS_DST)\n",
    "        except tables.exceptions.NodeError:\n",
    "            pmtcwf = h5in.create_earray(h5in.root.RD, \"pmtcwf\", \n",
    "                                    atom=tables.Float32Atom(), \n",
    "                                    shape=(0, NPMT, PMTWL), \n",
    "                                    expectedrows=NEVENTS_DST)\n",
    "\n",
    "        # create a group to store BLR configuration (por PMT0)\n",
    "\n",
    "        rgroup = 0\n",
    "        try:\n",
    "            rgroup = h5in.root.BLR\n",
    "            \n",
    "        except tables.exceptions.NodeError:\n",
    "            rgroup = h5in.create_group(h5in.root, \"BLR\")\n",
    "\n",
    "        \n",
    "        mau = 0\n",
    "        acum = 0\n",
    "        pulse_on = 0\n",
    "        wait_over = 0\n",
    "        baseline = 0\n",
    "\n",
    "        try:\n",
    "            mau = h5in.root.BLR.mau\n",
    "            h5in.remove_node(\"/BLR\",\"mau\")\n",
    "            mau = h5in.create_earray(h5in.root.BLR, \"mau\", \n",
    "                                    atom=tables.Float32Atom(), \n",
    "                                    shape=(0, PMTWL), \n",
    "                                    expectedrows=NEVENTS_DST)\n",
    "        except tables.exceptions.NodeError:\n",
    "            mau = h5in.create_earray(h5in.root.BLR, \"mau\", \n",
    "                                    atom=tables.Float32Atom(), \n",
    "                                    shape=(0, PMTWL), \n",
    "                                    expectedrows=NEVENTS_DST)\n",
    "        try:\n",
    "            pulse_on = h5in.root.BLR.pulse_on\n",
    "            h5in.remove_node(\"/BLR\",\"pulse_on\")\n",
    "            pulse_on = h5in.create_earray(h5in.root.BLR, \"pulse_on\", \n",
    "                                    atom=tables.IntAtom(), \n",
    "                                    shape=(0, PMTWL), \n",
    "                                    expectedrows=NEVENTS_DST)\n",
    "        except tables.exceptions.NodeError:\n",
    "            pulse_on = h5in.create_earray(h5in.root.BLR, \"pulse_on\", \n",
    "                                    atom=tables.IntAtom(), \n",
    "                                    shape=(0, PMTWL), \n",
    "                                    expectedrows=NEVENTS_DST)\n",
    "        try:\n",
    "            wait_over = h5in.root.BLR.wait_over\n",
    "            h5in.remove_node(\"/BLR\",\"wait_over\")\n",
    "            wait_over = h5in.create_earray(h5in.root.BLR, \"wait_over\", \n",
    "                                    atom=tables.IntAtom(), \n",
    "                                    shape=(0, PMTWL), \n",
    "                                    expectedrows=NEVENTS_DST)\n",
    "        except tables.exceptions.NodeError:\n",
    "            wait_over = h5in.create_earray(h5in.root.BLR, \"wait_over\", \n",
    "                                    atom=tables.IntAtom(), \n",
    "                                    shape=(0, PMTWL), \n",
    "                                    expectedrows=NEVENTS_DST)\n",
    "        try:\n",
    "            acum  = h5in.root.BLR.acum \n",
    "            h5in.remove_node(\"/BLR\",\"acum\")\n",
    "            acum  = h5in.create_earray(h5in.root.BLR, \"acum\", \n",
    "                                    atom=tables.Float32Atom(), \n",
    "                                    shape=(0, PMTWL), \n",
    "                                    expectedrows=NEVENTS_DST)\n",
    "        except tables.exceptions.NodeError:\n",
    "            acum  = h5in.create_earray(h5in.root.BLR, \"acum\", \n",
    "                                    atom=tables.Float32Atom(), \n",
    "                                    shape=(0, PMTWL), \n",
    "                                    expectedrows=NEVENTS_DST)\n",
    "        try:\n",
    "            baseline  = h5in.root.BLR.baseline \n",
    "            h5in.remove_node(\"/BLR\",\"baseline\")\n",
    "            baseline  = h5in.create_earray(h5in.root.BLR, \"baseline\", \n",
    "                                    atom=tables.Float32Atom(), \n",
    "                                    shape=(0, NPMT), \n",
    "                                    expectedrows=NEVENTS_DST)\n",
    "        except tables.exceptions.NodeError:\n",
    "            baseline  = h5in.create_earray(h5in.root.BLR, \"baseline\", \n",
    "                                    atom=tables.Float32Atom(), \n",
    "                                    shape=(0, NPMT), \n",
    "                                    expectedrows=NEVENTS_DST)\n",
    "\n",
    "            \n",
    "        if NEVENTS > NEVENTS_DST and RUN_ALL == False:\n",
    "            print(\"\"\"\n",
    "                Refusing to run: you have requested\n",
    "                FIRST_EVT = {}\n",
    "                LAST_EVT  = {}\n",
    "                Thus you want to run over {} events\n",
    "                but the size of the DST is {} events.\n",
    "                Please change your choice or select RUN_ALL = TRUE\n",
    "                to run over the whole DST when this happens\n",
    "                \"\"\".format(FIRST_EVT,LAST_EVT,NEVENTS,NEVENTS_DST))\n",
    "            sys.exit(0)\n",
    "\n",
    "        elif  NEVENTS > NEVENTS_DST and RUN_ALL == True:\n",
    "            FIRST_EVT = 0\n",
    "            LAST_EVT = NEVENTS_DST\n",
    "            NEVENTS = NEVENTS_DST\n",
    "\n",
    "            \n",
    "        for i in range(FIRST_EVT,LAST_EVT):\n",
    "            \n",
    "            logger.info(\"-->event number ={}\".format(i))\n",
    "\n",
    "            #DBLR\n",
    "            coeff_acc = AC\n",
    "            if COEF == 0:\n",
    "                coeff_acc = accumulator_coefficients(pmtrd_,CA)\n",
    "\n",
    "\n",
    "            BLRS = DBLR(pmtrd_, i, coeff_acc, mau_len=MAU_LEN,\n",
    "                        thr1 = NSIGMA1*FP.NOISE_ADC, thr2=0, \n",
    "                        thr3 = NSIGMA2*FP.NOISE_ADC, log=DEBUG_LEVEL)\n",
    "\n",
    "            \n",
    "            pmtCWF = []\n",
    "            for blr in BLRS:\n",
    "                pmtCWF.append(blr.signal_r)\n",
    "                \n",
    "            #append to pmtcwd\n",
    "            pmtcwf.append(np.array(pmtCWF).reshape(1, NPMT, PMTWL))\n",
    "\n",
    "            # append BLR variables\n",
    "            \n",
    "            \n",
    "            BASELINE = []\n",
    "            for blr in BLRS:\n",
    "                BASELINE.append(blr.BASELINE)\n",
    "            baseline.append(np.array(BASELINE).reshape(1, NPMT))\n",
    "\n",
    "            mau_pmt0 = BLRS[0].MAU\n",
    "            mau.append(mau_pmt0.reshape(1, PMTWL))\n",
    "\n",
    "            pulse_on0 = BLRS[0].pulse_on\n",
    "            pulse_on.append(pulse_on0.reshape(1, PMTWL))\n",
    "\n",
    "            wait_over0 = BLRS[0].wait_over\n",
    "            wait_over.append(wait_over0.reshape(1, PMTWL))\n",
    "\n",
    "            acum0  = BLRS[0].acum\n",
    "            acum.append(acum0.reshape(1, PMTWL))\n",
    "                \n",
    "                \n",
    "        pmtcwf.flush()\n",
    "        mau.flush()\n",
    "        pulse_on.flush()\n",
    "        wait_over.flush()\n",
    "        acum.flush()\n",
    "        baseline.flush()\n",
    "        \n",
    "\n",
    "    print(\"Leaving Isidora. Safe travels!\")\n"
   ]
  },
  {
   "cell_type": "code",
   "execution_count": null,
   "metadata": {
    "collapsed": false
   },
   "outputs": [],
   "source": [
    "%less ../../Config/ISIDORA_NA_ZLIB_test.csv"
   ]
  },
  {
   "cell_type": "raw",
   "metadata": {},
   "source": [
    "# Configuration file for ISIDORA\n",
    "# The parameters for ISIDORA are:\n",
    "#\n",
    "#        PATH_IN = path to DST file\n",
    "#        FILE_IN = name of DST file\n",
    "#        FIRST_EVT,LAST_EVT,RUN_ALL,\n",
    "#\n",
    "#        RUN_ALL is used to decide whether to run all the events in the file\n",
    "#        in case that the total number of events requested (LAST_EVT-FIRST_EVT) \n",
    "#        exceeds the number of events in the DST file. If RUN_ALL is set to 1 (True), \n",
    "#        the script will run over all elements in the DST, \n",
    "#        otherwise it will exit with a warning.\n",
    "#\n",
    "#\t\t COEF decides whether to use CA (COEF = 0) or AC (COEF =1)\n",
    "#\n",
    "#        CA = Nominal (measured) values of the capacitors defining the filter\n",
    "#        AC = nominal (measured) values of the accumulator\n",
    "#        MAU_LEN = length of MAU\n",
    "#        NSIGMA1 number of sigmas for thr1\n",
    "#        NSIGMA2 number of sigmas for thr2\n",
    "#        \n",
    "#\n",
    "PATH_IN,FILE_IN,FIRST_EVT,LAST_EVT,RUN_ALL,COEF,CA,AC,MAU_LEN,NSIGMA1,NSIGMA2,END \n",
    "#\n",
    "/Users/jjgomezcadenas/Documents/Development/NEXT/data/Waveforms/25ns/,WF_Na_ZLIB_offset500_RWF.h5,0,10,1,1,6.02975448 6.22547194 6.0671337 6.22159457 6.29999787 6.09892384 6.18289435 6.21775591 6.19306671 6.30518792 6.20359891 6.312311921,0.0017643 0.00170883 0.00175343 0.0017099 0.00168862 0.00174429 0.0017206 0.00171095 0.00171778 0.00168723 0.00171486 0.00168533,250,3.,1.0,1"
   ]
  },
  {
   "cell_type": "code",
   "execution_count": 13,
   "metadata": {
    "collapsed": true
   },
   "outputs": [],
   "source": [
    "h5f =tables.open_file('/Users/jjgomezcadenas/Documents/Development/NEXT/data/Waveforms/25ns/WF_Na_ZLIB_offset500_RWF.h5', \"r+\") "
   ]
  },
  {
   "cell_type": "code",
   "execution_count": 14,
   "metadata": {
    "collapsed": true
   },
   "outputs": [],
   "source": [
    "pmtrwf = h5f.root.RD.pmtrwf"
   ]
  },
  {
   "cell_type": "code",
   "execution_count": 15,
   "metadata": {
    "collapsed": false
   },
   "outputs": [
    {
     "data": {
      "image/png": "[encoded data removed]",
      "text/plain": [
       "<matplotlib.figure.Figure at 0x1047d8b10>"
      ]
     },
     "metadata": {},
     "output_type": "display_data"
    }
   ],
   "source": [
    "plot_waveforms(pmtrwf[0]) "
   ]
  },
  {
   "cell_type": "code",
   "execution_count": 46,
   "metadata": {
    "collapsed": true
   },
   "outputs": [],
   "source": [
    "h5f.close()"
   ]
  },
  {
   "cell_type": "code",
   "execution_count": 49,
   "metadata": {
    "collapsed": false
   },
   "outputs": [
    {
     "name": "stdout",
     "output_type": "stream",
     "text": [
      "INFO:root:Configuration Parameters (CFP) dictionary  = {'FIRST_EVT': 0, 'AC': '0.0017643 0.00170883 0.00175343 0.0017099 0.00168862 0.00174429 0.0017206 0.00171095 0.00171778 0.00168723 0.00171486 0.00168533', 'LAST_EVT': 10, 'COEF': 1, 'CA': '6.02975448 6.22547194 6.0671337 6.22159457 6.29999787 6.09892384 6.18289435 6.21775591 6.19306671 6.30518792 6.20359891 6.312311921', 'MAU_LEN': 250, 'END ': 1, 'NSIGMA2': 1.0, 'NSIGMA1': 3.0, 'RUN_ALL': 1, 'PATH_IN': '/Users/jjgomezcadenas/Documents/Development/NEXT/data/Waveforms/25ns/', 'FILE_IN': 'WF_Na_ZLIB_offset500_RWF.h5'}\n"
     ]
    },
    {
     "name": "stderr",
     "output_type": "stream",
     "text": [
      "Configuration Parameters (CFP) dictionary  = {'FIRST_EVT': 0, 'AC': '0.0017643 0.00170883 0.00175343 0.0017099 0.00168862 0.00174429 0.0017206 0.00171095 0.00171778 0.00168723 0.00171486 0.00168533', 'LAST_EVT': 10, 'COEF': 1, 'CA': '6.02975448 6.22547194 6.0671337 6.22159457 6.29999787 6.09892384 6.18289435 6.21775591 6.19306671 6.30518792 6.20359891 6.312311921', 'MAU_LEN': 250, 'END ': 1, 'NSIGMA2': 1.0, 'NSIGMA1': 3.0, 'RUN_ALL': 1, 'PATH_IN': '/Users/jjgomezcadenas/Documents/Development/NEXT/data/Waveforms/25ns/', 'FILE_IN': 'WF_Na_ZLIB_offset500_RWF.h5'}\n"
     ]
    },
    {
     "name": "stdout",
     "output_type": "stream",
     "text": [
      "\n",
      "        ISIDORA:\n",
      "        1. Reads an Nh5 file produced by DIOMIRA, which stores the\n",
      "            raw waveforms (RWF) for the PMTs and SiPMs waveforms, as well as\n",
      "            data on geometry, sensors and MC. The RDWF of the PMTs\n",
      "            show negative swing due to the HPF of the EP FEE electronics\n",
      "\n",
      "        2. Performs DBLR on the PMT RWF and produces corrected waveforms (CWF).\n",
      "\n",
      "        3. Adds the CWF and ancilliary info to the DST \n",
      "\n",
      "        4. Computes the energy of the PMTs per each event and writes to DST\n",
      "\n",
      "        \n",
      "Debug level = DEBUG\n",
      "INFO:root:input path =/Users/jjgomezcadenas/Documents/Development/NEXT/data/Waveforms/25ns/; file_in =WF_Na_ZLIB_offset500_RWF.h5 \n"
     ]
    },
    {
     "name": "stderr",
     "output_type": "stream",
     "text": [
      "input path =/Users/jjgomezcadenas/Documents/Development/NEXT/data/Waveforms/25ns/; file_in =WF_Na_ZLIB_offset500_RWF.h5 \n"
     ]
    },
    {
     "name": "stdout",
     "output_type": "stream",
     "text": [
      "INFO:root:first event = 0 last event = 10 nof events requested = 10 \n"
     ]
    },
    {
     "name": "stderr",
     "output_type": "stream",
     "text": [
      "first event = 0 last event = 10 nof events requested = 10 \n"
     ]
    },
    {
     "name": "stdout",
     "output_type": "stream",
     "text": [
      "INFO:root:MAU length = 250 n_sigma1 = 3.0 n_sigma2 = 1.0 \n"
     ]
    },
    {
     "name": "stderr",
     "output_type": "stream",
     "text": [
      "MAU length = 250 n_sigma1 = 3.0 n_sigma2 = 1.0 \n"
     ]
    },
    {
     "name": "stdout",
     "output_type": "stream",
     "text": [
      "INFO:root:CA sigma(nf) = [ 6.02975448  6.22547194  6.0671337   6.22159457  6.29999787  6.09892384\n",
      "  6.18289435  6.21775591  6.19306671  6.30518792  6.20359891  6.31231192]  \n"
     ]
    },
    {
     "name": "stderr",
     "output_type": "stream",
     "text": [
      "CA sigma(nf) = [ 6.02975448  6.22547194  6.0671337   6.22159457  6.29999787  6.09892384\n",
      "  6.18289435  6.21775591  6.19306671  6.30518792  6.20359891  6.31231192]  \n"
     ]
    },
    {
     "name": "stdout",
     "output_type": "stream",
     "text": [
      "INFO:root:nof PMTs = 12 nof events in input DST = 100 \n"
     ]
    },
    {
     "name": "stderr",
     "output_type": "stream",
     "text": [
      "nof PMTs = 12 nof events in input DST = 100 \n"
     ]
    },
    {
     "name": "stdout",
     "output_type": "stream",
     "text": [
      "INFO:root:lof PMT WF (MC) = 24000 \n"
     ]
    },
    {
     "name": "stderr",
     "output_type": "stream",
     "text": [
      "lof PMT WF (MC) = 24000 \n"
     ]
    },
    {
     "name": "stdout",
     "output_type": "stream",
     "text": [
      "INFO:root:-->event number =0\n"
     ]
    },
    {
     "name": "stderr",
     "output_type": "stream",
     "text": [
      "-->event number =0\n"
     ]
    },
    {
     "name": "stdout",
     "output_type": "stream",
     "text": [
      "DEBUG:root:-->BLR: \n",
      "                     MAU_LEN=250\n",
      "                     thr1 = 5.376, thr2 = 0, thr3 = 1.792 =\n"
     ]
    },
    {
     "name": "stderr",
     "output_type": "stream",
     "text": [
      "-->BLR: \n",
      "                     MAU_LEN=250\n",
      "                     thr1 = 5.376, thr2 = 0, thr3 = 1.792 =\n"
     ]
    },
    {
     "name": "stdout",
     "output_type": "stream",
     "text": [
      "DEBUG:root:n = 250, acum[n] = 0.0 BASELINE =-499.532\n"
     ]
    },
    {
     "name": "stderr",
     "output_type": "stream",
     "text": [
      "n = 250, acum[n] = 0.0 BASELINE =-499.532\n"
     ]
    },
    {
     "name": "stdout",
     "output_type": "stream",
     "text": [
      "DEBUG:root:nm = 250\n"
     ]
    },
    {
     "name": "stderr",
     "output_type": "stream",
     "text": [
      "nm = 250\n"
     ]
    },
    {
     "name": "stdout",
     "output_type": "stream",
     "text": [
      "DEBUG:root:sblr.signal_r[0:10]= [-500. -499. -500. -500. -499. -499. -499. -500. -500. -499.]\n"
     ]
    },
    {
     "name": "stderr",
     "output_type": "stream",
     "text": [
      "sblr.signal_r[0:10]= [-500. -499. -500. -500. -499. -499. -499. -500. -500. -499.]\n"
     ]
    },
    {
     "name": "stdout",
     "output_type": "stream",
     "text": [
      "DEBUG:root:BASELINE =-499.532\n"
     ]
    },
    {
     "name": "stderr",
     "output_type": "stream",
     "text": [
      "BASELINE =-499.532\n"
     ]
    },
    {
     "name": "stdout",
     "output_type": "stream",
     "text": [
      "DEBUG:root:sblr.signal_r[0:10] - BASELINE= [-0.468  0.532 -0.468 -0.468  0.532  0.532  0.532 -0.468 -0.468  0.532]\n"
     ]
    },
    {
     "name": "stderr",
     "output_type": "stream",
     "text": [
      "sblr.signal_r[0:10] - BASELINE= [-0.468  0.532 -0.468 -0.468  0.532  0.532  0.532 -0.468 -0.468  0.532]\n"
     ]
    },
    {
     "name": "stdout",
     "output_type": "stream",
     "text": [
      "DEBUG:root:-->BLR: \n",
      "                     MAU_LEN=250\n",
      "                     thr1 = 5.376, thr2 = 0, thr3 = 1.792 =\n"
     ]
    },
    {
     "name": "stderr",
     "output_type": "stream",
     "text": [
      "-->BLR: \n",
      "                     MAU_LEN=250\n",
      "                     thr1 = 5.376, thr2 = 0, thr3 = 1.792 =\n"
     ]
    },
    {
     "name": "stdout",
     "output_type": "stream",
     "text": [
      "DEBUG:root:n = 250, acum[n] = 0.0 BASELINE =-499.468\n"
     ]
    },
    {
     "name": "stderr",
     "output_type": "stream",
     "text": [
      "n = 250, acum[n] = 0.0 BASELINE =-499.468\n"
     ]
    },
    {
     "name": "stdout",
     "output_type": "stream",
     "text": [
      "DEBUG:root:nm = 250\n"
     ]
    },
    {
     "name": "stderr",
     "output_type": "stream",
     "text": [
      "nm = 250\n"
     ]
    },
    {
     "name": "stdout",
     "output_type": "stream",
     "text": [
      "DEBUG:root:sblr.signal_r[0:10]= [-500. -500. -499. -499. -499. -499. -499. -500. -499. -499.]\n"
     ]
    },
    {
     "name": "stderr",
     "output_type": "stream",
     "text": [
      "sblr.signal_r[0:10]= [-500. -500. -499. -499. -499. -499. -499. -500. -499. -499.]\n"
     ]
    },
    {
     "name": "stdout",
     "output_type": "stream",
     "text": [
      "DEBUG:root:BASELINE =-499.468\n"
     ]
    },
    {
     "name": "stderr",
     "output_type": "stream",
     "text": [
      "BASELINE =-499.468\n"
     ]
    },
    {
     "name": "stdout",
     "output_type": "stream",
     "text": [
      "DEBUG:root:sblr.signal_r[0:10] - BASELINE= [-0.532 -0.532  0.468  0.468  0.468  0.468  0.468 -0.532  0.468  0.468]\n"
     ]
    },
    {
     "name": "stderr",
     "output_type": "stream",
     "text": [
      "sblr.signal_r[0:10] - BASELINE= [-0.532 -0.532  0.468  0.468  0.468  0.468  0.468 -0.532  0.468  0.468]\n"
     ]
    },
    {
     "name": "stdout",
     "output_type": "stream",
     "text": [
      "DEBUG:root:-->BLR: \n",
      "                     MAU_LEN=250\n",
      "                     thr1 = 5.376, thr2 = 0, thr3 = 1.792 =\n"
     ]
    },
    {
     "name": "stderr",
     "output_type": "stream",
     "text": [
      "-->BLR: \n",
      "                     MAU_LEN=250\n",
      "                     thr1 = 5.376, thr2 = 0, thr3 = 1.792 =\n"
     ]
    },
    {
     "name": "stdout",
     "output_type": "stream",
     "text": [
      "DEBUG:root:n = 250, acum[n] = 0.0 BASELINE =-499.544\n"
     ]
    },
    {
     "name": "stderr",
     "output_type": "stream",
     "text": [
      "n = 250, acum[n] = 0.0 BASELINE =-499.544\n"
     ]
    },
    {
     "name": "stdout",
     "output_type": "stream",
     "text": [
      "DEBUG:root:nm = 250\n"
     ]
    },
    {
     "name": "stderr",
     "output_type": "stream",
     "text": [
      "nm = 250\n"
     ]
    },
    {
     "name": "stdout",
     "output_type": "stream",
     "text": [
      "DEBUG:root:sblr.signal_r[0:10]= [-499. -499. -500. -500. -499. -500. -500. -499. -500. -500.]\n"
     ]
    },
    {
     "name": "stderr",
     "output_type": "stream",
     "text": [
      "sblr.signal_r[0:10]= [-499. -499. -500. -500. -499. -500. -500. -499. -500. -500.]\n"
     ]
    },
    {
     "name": "stdout",
     "output_type": "stream",
     "text": [
      "DEBUG:root:BASELINE =-499.544\n"
     ]
    },
    {
     "name": "stderr",
     "output_type": "stream",
     "text": [
      "BASELINE =-499.544\n"
     ]
    },
    {
     "name": "stdout",
     "output_type": "stream",
     "text": [
      "DEBUG:root:sblr.signal_r[0:10] - BASELINE= [ 0.544  0.544 -0.456 -0.456  0.544 -0.456 -0.456  0.544 -0.456 -0.456]\n"
     ]
    },
    {
     "name": "stderr",
     "output_type": "stream",
     "text": [
      "sblr.signal_r[0:10] - BASELINE= [ 0.544  0.544 -0.456 -0.456  0.544 -0.456 -0.456  0.544 -0.456 -0.456]\n"
     ]
    },
    {
     "name": "stdout",
     "output_type": "stream",
     "text": [
      "DEBUG:root:-->BLR: \n",
      "                     MAU_LEN=250\n",
      "                     thr1 = 5.376, thr2 = 0, thr3 = 1.792 =\n"
     ]
    },
    {
     "name": "stderr",
     "output_type": "stream",
     "text": [
      "-->BLR: \n",
      "                     MAU_LEN=250\n",
      "                     thr1 = 5.376, thr2 = 0, thr3 = 1.792 =\n"
     ]
    },
    {
     "name": "stdout",
     "output_type": "stream",
     "text": [
      "DEBUG:root:n = 250, acum[n] = 0.0 BASELINE =-499.492\n"
     ]
    },
    {
     "name": "stderr",
     "output_type": "stream",
     "text": [
      "n = 250, acum[n] = 0.0 BASELINE =-499.492\n"
     ]
    },
    {
     "name": "stdout",
     "output_type": "stream",
     "text": [
      "DEBUG:root:nm = 250\n"
     ]
    },
    {
     "name": "stderr",
     "output_type": "stream",
     "text": [
      "nm = 250\n"
     ]
    },
    {
     "name": "stdout",
     "output_type": "stream",
     "text": [
      "DEBUG:root:sblr.signal_r[0:10]= [-500. -500. -499. -499. -500. -499. -499. -499. -499. -499.]\n"
     ]
    },
    {
     "name": "stderr",
     "output_type": "stream",
     "text": [
      "sblr.signal_r[0:10]= [-500. -500. -499. -499. -500. -499. -499. -499. -499. -499.]\n"
     ]
    },
    {
     "name": "stdout",
     "output_type": "stream",
     "text": [
      "DEBUG:root:BASELINE =-499.492\n"
     ]
    },
    {
     "name": "stderr",
     "output_type": "stream",
     "text": [
      "BASELINE =-499.492\n"
     ]
    },
    {
     "name": "stdout",
     "output_type": "stream",
     "text": [
      "DEBUG:root:sblr.signal_r[0:10] - BASELINE= [-0.508 -0.508  0.492  0.492 -0.508  0.492  0.492  0.492  0.492  0.492]\n"
     ]
    },
    {
     "name": "stderr",
     "output_type": "stream",
     "text": [
      "sblr.signal_r[0:10] - BASELINE= [-0.508 -0.508  0.492  0.492 -0.508  0.492  0.492  0.492  0.492  0.492]\n"
     ]
    },
    {
     "name": "stdout",
     "output_type": "stream",
     "text": [
      "DEBUG:root:-->BLR: \n",
      "                     MAU_LEN=250\n",
      "                     thr1 = 5.376, thr2 = 0, thr3 = 1.792 =\n"
     ]
    },
    {
     "name": "stderr",
     "output_type": "stream",
     "text": [
      "-->BLR: \n",
      "                     MAU_LEN=250\n",
      "                     thr1 = 5.376, thr2 = 0, thr3 = 1.792 =\n"
     ]
    },
    {
     "name": "stdout",
     "output_type": "stream",
     "text": [
      "DEBUG:root:n = 250, acum[n] = 0.0 BASELINE =-499.484\n"
     ]
    },
    {
     "name": "stderr",
     "output_type": "stream",
     "text": [
      "n = 250, acum[n] = 0.0 BASELINE =-499.484\n"
     ]
    },
    {
     "name": "stdout",
     "output_type": "stream",
     "text": [
      "DEBUG:root:nm = 250\n"
     ]
    },
    {
     "name": "stderr",
     "output_type": "stream",
     "text": [
      "nm = 250\n"
     ]
    },
    {
     "name": "stdout",
     "output_type": "stream",
     "text": [
      "DEBUG:root:sblr.signal_r[0:10]= [-499. -499. -499. -499. -499. -500. -499. -499. -499. -500.]\n"
     ]
    },
    {
     "name": "stderr",
     "output_type": "stream",
     "text": [
      "sblr.signal_r[0:10]= [-499. -499. -499. -499. -499. -500. -499. -499. -499. -500.]\n"
     ]
    },
    {
     "name": "stdout",
     "output_type": "stream",
     "text": [
      "DEBUG:root:BASELINE =-499.484\n"
     ]
    },
    {
     "name": "stderr",
     "output_type": "stream",
     "text": [
      "BASELINE =-499.484\n"
     ]
    },
    {
     "name": "stdout",
     "output_type": "stream",
     "text": [
      "DEBUG:root:sblr.signal_r[0:10] - BASELINE= [ 0.484  0.484  0.484  0.484  0.484 -0.516  0.484  0.484  0.484 -0.516]\n"
     ]
    },
    {
     "name": "stderr",
     "output_type": "stream",
     "text": [
      "sblr.signal_r[0:10] - BASELINE= [ 0.484  0.484  0.484  0.484  0.484 -0.516  0.484  0.484  0.484 -0.516]\n"
     ]
    },
    {
     "name": "stdout",
     "output_type": "stream",
     "text": [
      "DEBUG:root:-->BLR: \n",
      "                     MAU_LEN=250\n",
      "                     thr1 = 5.376, thr2 = 0, thr3 = 1.792 =\n"
     ]
    },
    {
     "name": "stderr",
     "output_type": "stream",
     "text": [
      "-->BLR: \n",
      "                     MAU_LEN=250\n",
      "                     thr1 = 5.376, thr2 = 0, thr3 = 1.792 =\n"
     ]
    },
    {
     "name": "stdout",
     "output_type": "stream",
     "text": [
      "DEBUG:root:n = 250, acum[n] = 0.0 BASELINE =-499.464\n"
     ]
    },
    {
     "name": "stderr",
     "output_type": "stream",
     "text": [
      "n = 250, acum[n] = 0.0 BASELINE =-499.464\n"
     ]
    },
    {
     "name": "stdout",
     "output_type": "stream",
     "text": [
      "DEBUG:root:nm = 250\n"
     ]
    },
    {
     "name": "stderr",
     "output_type": "stream",
     "text": [
      "nm = 250\n"
     ]
    },
    {
     "name": "stdout",
     "output_type": "stream",
     "text": [
      "DEBUG:root:sblr.signal_r[0:10]= [-499. -499. -501. -500. -500. -500. -499. -499. -499. -500.]\n"
     ]
    },
    {
     "name": "stderr",
     "output_type": "stream",
     "text": [
      "sblr.signal_r[0:10]= [-499. -499. -501. -500. -500. -500. -499. -499. -499. -500.]\n"
     ]
    },
    {
     "name": "stdout",
     "output_type": "stream",
     "text": [
      "DEBUG:root:BASELINE =-499.464\n"
     ]
    },
    {
     "name": "stderr",
     "output_type": "stream",
     "text": [
      "BASELINE =-499.464\n"
     ]
    },
    {
     "name": "stdout",
     "output_type": "stream",
     "text": [
      "DEBUG:root:sblr.signal_r[0:10] - BASELINE= [ 0.464  0.464 -1.536 -0.536 -0.536 -0.536  0.464  0.464  0.464 -0.536]\n"
     ]
    },
    {
     "name": "stderr",
     "output_type": "stream",
     "text": [
      "sblr.signal_r[0:10] - BASELINE= [ 0.464  0.464 -1.536 -0.536 -0.536 -0.536  0.464  0.464  0.464 -0.536]\n"
     ]
    },
    {
     "name": "stdout",
     "output_type": "stream",
     "text": [
      "DEBUG:root:-->BLR: \n",
      "                     MAU_LEN=250\n",
      "                     thr1 = 5.376, thr2 = 0, thr3 = 1.792 =\n"
     ]
    },
    {
     "name": "stderr",
     "output_type": "stream",
     "text": [
      "-->BLR: \n",
      "                     MAU_LEN=250\n",
      "                     thr1 = 5.376, thr2 = 0, thr3 = 1.792 =\n"
     ]
    },
    {
     "name": "stdout",
     "output_type": "stream",
     "text": [
      "DEBUG:root:n = 250, acum[n] = 0.0 BASELINE =-499.464\n"
     ]
    },
    {
     "name": "stderr",
     "output_type": "stream",
     "text": [
      "n = 250, acum[n] = 0.0 BASELINE =-499.464\n"
     ]
    },
    {
     "name": "stdout",
     "output_type": "stream",
     "text": [
      "DEBUG:root:nm = 250\n"
     ]
    },
    {
     "name": "stderr",
     "output_type": "stream",
     "text": [
      "nm = 250\n"
     ]
    },
    {
     "name": "stdout",
     "output_type": "stream",
     "text": [
      "DEBUG:root:sblr.signal_r[0:10]= [-500. -500. -499. -500. -499. -499. -500. -499. -500. -499.]\n"
     ]
    },
    {
     "name": "stderr",
     "output_type": "stream",
     "text": [
      "sblr.signal_r[0:10]= [-500. -500. -499. -500. -499. -499. -500. -499. -500. -499.]\n"
     ]
    },
    {
     "name": "stdout",
     "output_type": "stream",
     "text": [
      "DEBUG:root:BASELINE =-499.464\n"
     ]
    },
    {
     "name": "stderr",
     "output_type": "stream",
     "text": [
      "BASELINE =-499.464\n"
     ]
    },
    {
     "name": "stdout",
     "output_type": "stream",
     "text": [
      "DEBUG:root:sblr.signal_r[0:10] - BASELINE= [-0.536 -0.536  0.464 -0.536  0.464  0.464 -0.536  0.464 -0.536  0.464]\n"
     ]
    },
    {
     "name": "stderr",
     "output_type": "stream",
     "text": [
      "sblr.signal_r[0:10] - BASELINE= [-0.536 -0.536  0.464 -0.536  0.464  0.464 -0.536  0.464 -0.536  0.464]\n"
     ]
    },
    {
     "name": "stdout",
     "output_type": "stream",
     "text": [
      "DEBUG:root:-->BLR: \n",
      "                     MAU_LEN=250\n",
      "                     thr1 = 5.376, thr2 = 0, thr3 = 1.792 =\n"
     ]
    },
    {
     "name": "stderr",
     "output_type": "stream",
     "text": [
      "-->BLR: \n",
      "                     MAU_LEN=250\n",
      "                     thr1 = 5.376, thr2 = 0, thr3 = 1.792 =\n"
     ]
    },
    {
     "name": "stdout",
     "output_type": "stream",
     "text": [
      "DEBUG:root:n = 250, acum[n] = 0.0 BASELINE =-499.424\n"
     ]
    },
    {
     "name": "stderr",
     "output_type": "stream",
     "text": [
      "n = 250, acum[n] = 0.0 BASELINE =-499.424\n"
     ]
    },
    {
     "name": "stdout",
     "output_type": "stream",
     "text": [
      "DEBUG:root:nm = 250\n"
     ]
    },
    {
     "name": "stderr",
     "output_type": "stream",
     "text": [
      "nm = 250\n"
     ]
    },
    {
     "name": "stdout",
     "output_type": "stream",
     "text": [
      "DEBUG:root:sblr.signal_r[0:10]= [-500. -499. -499. -499. -500. -500. -499. -500. -499. -499.]\n"
     ]
    },
    {
     "name": "stderr",
     "output_type": "stream",
     "text": [
      "sblr.signal_r[0:10]= [-500. -499. -499. -499. -500. -500. -499. -500. -499. -499.]\n"
     ]
    },
    {
     "name": "stdout",
     "output_type": "stream",
     "text": [
      "DEBUG:root:BASELINE =-499.424\n"
     ]
    },
    {
     "name": "stderr",
     "output_type": "stream",
     "text": [
      "BASELINE =-499.424\n"
     ]
    },
    {
     "name": "stdout",
     "output_type": "stream",
     "text": [
      "DEBUG:root:sblr.signal_r[0:10] - BASELINE= [-0.576  0.424  0.424  0.424 -0.576 -0.576  0.424 -0.576  0.424  0.424]\n"
     ]
    },
    {
     "name": "stderr",
     "output_type": "stream",
     "text": [
      "sblr.signal_r[0:10] - BASELINE= [-0.576  0.424  0.424  0.424 -0.576 -0.576  0.424 -0.576  0.424  0.424]\n"
     ]
    },
    {
     "name": "stdout",
     "output_type": "stream",
     "text": [
      "DEBUG:root:-->BLR: \n",
      "                     MAU_LEN=250\n",
      "                     thr1 = 5.376, thr2 = 0, thr3 = 1.792 =\n"
     ]
    },
    {
     "name": "stderr",
     "output_type": "stream",
     "text": [
      "-->BLR: \n",
      "                     MAU_LEN=250\n",
      "                     thr1 = 5.376, thr2 = 0, thr3 = 1.792 =\n"
     ]
    },
    {
     "name": "stdout",
     "output_type": "stream",
     "text": [
      "DEBUG:root:n = 250, acum[n] = 0.0 BASELINE =-499.536\n"
     ]
    },
    {
     "name": "stderr",
     "output_type": "stream",
     "text": [
      "n = 250, acum[n] = 0.0 BASELINE =-499.536\n"
     ]
    },
    {
     "name": "stdout",
     "output_type": "stream",
     "text": [
      "DEBUG:root:nm = 250\n"
     ]
    },
    {
     "name": "stderr",
     "output_type": "stream",
     "text": [
      "nm = 250\n"
     ]
    },
    {
     "name": "stdout",
     "output_type": "stream",
     "text": [
      "DEBUG:root:sblr.signal_r[0:10]= [-500. -499. -500. -500. -499. -500. -499. -499. -500. -499.]\n"
     ]
    },
    {
     "name": "stderr",
     "output_type": "stream",
     "text": [
      "sblr.signal_r[0:10]= [-500. -499. -500. -500. -499. -500. -499. -499. -500. -499.]\n"
     ]
    },
    {
     "name": "stdout",
     "output_type": "stream",
     "text": [
      "DEBUG:root:BASELINE =-499.536\n"
     ]
    },
    {
     "name": "stderr",
     "output_type": "stream",
     "text": [
      "BASELINE =-499.536\n"
     ]
    },
    {
     "name": "stdout",
     "output_type": "stream",
     "text": [
      "DEBUG:root:sblr.signal_r[0:10] - BASELINE= [-0.464  0.536 -0.464 -0.464  0.536 -0.464  0.536  0.536 -0.464  0.536]\n"
     ]
    },
    {
     "name": "stderr",
     "output_type": "stream",
     "text": [
      "sblr.signal_r[0:10] - BASELINE= [-0.464  0.536 -0.464 -0.464  0.536 -0.464  0.536  0.536 -0.464  0.536]\n"
     ]
    },
    {
     "name": "stdout",
     "output_type": "stream",
     "text": [
      "DEBUG:root:-->BLR: \n",
      "                     MAU_LEN=250\n",
      "                     thr1 = 5.376, thr2 = 0, thr3 = 1.792 =\n"
     ]
    },
    {
     "name": "stderr",
     "output_type": "stream",
     "text": [
      "-->BLR: \n",
      "                     MAU_LEN=250\n",
      "                     thr1 = 5.376, thr2 = 0, thr3 = 1.792 =\n"
     ]
    },
    {
     "name": "stdout",
     "output_type": "stream",
     "text": [
      "DEBUG:root:n = 250, acum[n] = 0.0 BASELINE =-499.536\n"
     ]
    },
    {
     "name": "stderr",
     "output_type": "stream",
     "text": [
      "n = 250, acum[n] = 0.0 BASELINE =-499.536\n"
     ]
    },
    {
     "name": "stdout",
     "output_type": "stream",
     "text": [
      "DEBUG:root:nm = 250\n"
     ]
    },
    {
     "name": "stderr",
     "output_type": "stream",
     "text": [
      "nm = 250\n"
     ]
    },
    {
     "name": "stdout",
     "output_type": "stream",
     "text": [
      "DEBUG:root:sblr.signal_r[0:10]= [-500. -500. -500. -499. -500. -500. -499. -500. -499. -500.]\n"
     ]
    },
    {
     "name": "stderr",
     "output_type": "stream",
     "text": [
      "sblr.signal_r[0:10]= [-500. -500. -500. -499. -500. -500. -499. -500. -499. -500.]\n"
     ]
    },
    {
     "name": "stdout",
     "output_type": "stream",
     "text": [
      "DEBUG:root:BASELINE =-499.536\n"
     ]
    },
    {
     "name": "stderr",
     "output_type": "stream",
     "text": [
      "BASELINE =-499.536\n"
     ]
    },
    {
     "name": "stdout",
     "output_type": "stream",
     "text": [
      "DEBUG:root:sblr.signal_r[0:10] - BASELINE= [-0.464 -0.464 -0.464  0.536 -0.464 -0.464  0.536 -0.464  0.536 -0.464]\n"
     ]
    },
    {
     "name": "stderr",
     "output_type": "stream",
     "text": [
      "sblr.signal_r[0:10] - BASELINE= [-0.464 -0.464 -0.464  0.536 -0.464 -0.464  0.536 -0.464  0.536 -0.464]\n"
     ]
    },
    {
     "name": "stdout",
     "output_type": "stream",
     "text": [
      "DEBUG:root:-->BLR: \n",
      "                     MAU_LEN=250\n",
      "                     thr1 = 5.376, thr2 = 0, thr3 = 1.792 =\n"
     ]
    },
    {
     "name": "stderr",
     "output_type": "stream",
     "text": [
      "-->BLR: \n",
      "                     MAU_LEN=250\n",
      "                     thr1 = 5.376, thr2 = 0, thr3 = 1.792 =\n"
     ]
    },
    {
     "name": "stdout",
     "output_type": "stream",
     "text": [
      "DEBUG:root:n = 250, acum[n] = 0.0 BASELINE =-499.428\n"
     ]
    },
    {
     "name": "stderr",
     "output_type": "stream",
     "text": [
      "n = 250, acum[n] = 0.0 BASELINE =-499.428\n"
     ]
    },
    {
     "name": "stdout",
     "output_type": "stream",
     "text": [
      "DEBUG:root:nm = 250\n"
     ]
    },
    {
     "name": "stderr",
     "output_type": "stream",
     "text": [
      "nm = 250\n"
     ]
    },
    {
     "name": "stdout",
     "output_type": "stream",
     "text": [
      "DEBUG:root:sblr.signal_r[0:10]= [-499. -499. -499. -500. -499. -499. -499. -500. -499. -500.]\n"
     ]
    },
    {
     "name": "stderr",
     "output_type": "stream",
     "text": [
      "sblr.signal_r[0:10]= [-499. -499. -499. -500. -499. -499. -499. -500. -499. -500.]\n"
     ]
    },
    {
     "name": "stdout",
     "output_type": "stream",
     "text": [
      "DEBUG:root:BASELINE =-499.428\n"
     ]
    },
    {
     "name": "stderr",
     "output_type": "stream",
     "text": [
      "BASELINE =-499.428\n"
     ]
    },
    {
     "name": "stdout",
     "output_type": "stream",
     "text": [
      "DEBUG:root:sblr.signal_r[0:10] - BASELINE= [ 0.428  0.428  0.428 -0.572  0.428  0.428  0.428 -0.572  0.428 -0.572]\n"
     ]
    },
    {
     "name": "stderr",
     "output_type": "stream",
     "text": [
      "sblr.signal_r[0:10] - BASELINE= [ 0.428  0.428  0.428 -0.572  0.428  0.428  0.428 -0.572  0.428 -0.572]\n"
     ]
    },
    {
     "name": "stdout",
     "output_type": "stream",
     "text": [
      "DEBUG:root:-->BLR: \n",
      "                     MAU_LEN=250\n",
      "                     thr1 = 5.376, thr2 = 0, thr3 = 1.792 =\n"
     ]
    },
    {
     "name": "stderr",
     "output_type": "stream",
     "text": [
      "-->BLR: \n",
      "                     MAU_LEN=250\n",
      "                     thr1 = 5.376, thr2 = 0, thr3 = 1.792 =\n"
     ]
    },
    {
     "name": "stdout",
     "output_type": "stream",
     "text": [
      "DEBUG:root:n = 250, acum[n] = 0.0 BASELINE =-499.464\n"
     ]
    },
    {
     "name": "stderr",
     "output_type": "stream",
     "text": [
      "n = 250, acum[n] = 0.0 BASELINE =-499.464\n"
     ]
    },
    {
     "name": "stdout",
     "output_type": "stream",
     "text": [
      "DEBUG:root:nm = 250\n"
     ]
    },
    {
     "name": "stderr",
     "output_type": "stream",
     "text": [
      "nm = 250\n"
     ]
    },
    {
     "name": "stdout",
     "output_type": "stream",
     "text": [
      "DEBUG:root:sblr.signal_r[0:10]= [-500. -499. -499. -500. -499. -499. -499. -499. -500. -499.]\n"
     ]
    },
    {
     "name": "stderr",
     "output_type": "stream",
     "text": [
      "sblr.signal_r[0:10]= [-500. -499. -499. -500. -499. -499. -499. -499. -500. -499.]\n"
     ]
    },
    {
     "name": "stdout",
     "output_type": "stream",
     "text": [
      "DEBUG:root:BASELINE =-499.464\n"
     ]
    },
    {
     "name": "stderr",
     "output_type": "stream",
     "text": [
      "BASELINE =-499.464\n"
     ]
    },
    {
     "name": "stdout",
     "output_type": "stream",
     "text": [
      "DEBUG:root:sblr.signal_r[0:10] - BASELINE= [-0.536  0.464  0.464 -0.536  0.464  0.464  0.464  0.464 -0.536  0.464]\n"
     ]
    },
    {
     "name": "stderr",
     "output_type": "stream",
     "text": [
      "sblr.signal_r[0:10] - BASELINE= [-0.536  0.464  0.464 -0.536  0.464  0.464  0.464  0.464 -0.536  0.464]\n"
     ]
    },
    {
     "name": "stdout",
     "output_type": "stream",
     "text": [
      "INFO:root:-->event number =1\n"
     ]
    },
    {
     "name": "stderr",
     "output_type": "stream",
     "text": [
      "-->event number =1\n"
     ]
    },
    {
     "name": "stdout",
     "output_type": "stream",
     "text": [
      "DEBUG:root:-->BLR: \n",
      "                     MAU_LEN=250\n",
      "                     thr1 = 5.376, thr2 = 0, thr3 = 1.792 =\n"
     ]
    },
    {
     "name": "stderr",
     "output_type": "stream",
     "text": [
      "-->BLR: \n",
      "                     MAU_LEN=250\n",
      "                     thr1 = 5.376, thr2 = 0, thr3 = 1.792 =\n"
     ]
    },
    {
     "name": "stdout",
     "output_type": "stream",
     "text": [
      "DEBUG:root:n = 250, acum[n] = 0.0 BASELINE =-499.5\n"
     ]
    },
    {
     "name": "stderr",
     "output_type": "stream",
     "text": [
      "n = 250, acum[n] = 0.0 BASELINE =-499.5\n"
     ]
    },
    {
     "name": "stdout",
     "output_type": "stream",
     "text": [
      "DEBUG:root:nm = 250\n"
     ]
    },
    {
     "name": "stderr",
     "output_type": "stream",
     "text": [
      "nm = 250\n"
     ]
    },
    {
     "name": "stdout",
     "output_type": "stream",
     "text": [
      "DEBUG:root:sblr.signal_r[0:10]= [-499. -500. -500. -499. -500. -500. -500. -500. -500. -499.]\n"
     ]
    },
    {
     "name": "stderr",
     "output_type": "stream",
     "text": [
      "sblr.signal_r[0:10]= [-499. -500. -500. -499. -500. -500. -500. -500. -500. -499.]\n"
     ]
    },
    {
     "name": "stdout",
     "output_type": "stream",
     "text": [
      "DEBUG:root:BASELINE =-499.5\n"
     ]
    },
    {
     "name": "stderr",
     "output_type": "stream",
     "text": [
      "BASELINE =-499.5\n"
     ]
    },
    {
     "name": "stdout",
     "output_type": "stream",
     "text": [
      "DEBUG:root:sblr.signal_r[0:10] - BASELINE= [ 0.5 -0.5 -0.5  0.5 -0.5 -0.5 -0.5 -0.5 -0.5  0.5]\n"
     ]
    },
    {
     "name": "stderr",
     "output_type": "stream",
     "text": [
      "sblr.signal_r[0:10] - BASELINE= [ 0.5 -0.5 -0.5  0.5 -0.5 -0.5 -0.5 -0.5 -0.5  0.5]\n"
     ]
    },
    {
     "name": "stdout",
     "output_type": "stream",
     "text": [
      "DEBUG:root:-->BLR: \n",
      "                     MAU_LEN=250\n",
      "                     thr1 = 5.376, thr2 = 0, thr3 = 1.792 =\n"
     ]
    },
    {
     "name": "stderr",
     "output_type": "stream",
     "text": [
      "-->BLR: \n",
      "                     MAU_LEN=250\n",
      "                     thr1 = 5.376, thr2 = 0, thr3 = 1.792 =\n"
     ]
    },
    {
     "name": "stdout",
     "output_type": "stream",
     "text": [
      "DEBUG:root:n = 250, acum[n] = 0.0 BASELINE =-499.464\n"
     ]
    },
    {
     "name": "stderr",
     "output_type": "stream",
     "text": [
      "n = 250, acum[n] = 0.0 BASELINE =-499.464\n"
     ]
    },
    {
     "name": "stdout",
     "output_type": "stream",
     "text": [
      "DEBUG:root:nm = 250\n"
     ]
    },
    {
     "name": "stderr",
     "output_type": "stream",
     "text": [
      "nm = 250\n"
     ]
    },
    {
     "name": "stdout",
     "output_type": "stream",
     "text": [
      "DEBUG:root:sblr.signal_r[0:10]= [-500. -500. -500. -499. -499. -499. -500. -500. -499. -499.]\n"
     ]
    },
    {
     "name": "stderr",
     "output_type": "stream",
     "text": [
      "sblr.signal_r[0:10]= [-500. -500. -500. -499. -499. -499. -500. -500. -499. -499.]\n"
     ]
    },
    {
     "name": "stdout",
     "output_type": "stream",
     "text": [
      "DEBUG:root:BASELINE =-499.464\n"
     ]
    },
    {
     "name": "stderr",
     "output_type": "stream",
     "text": [
      "BASELINE =-499.464\n"
     ]
    },
    {
     "name": "stdout",
     "output_type": "stream",
     "text": [
      "DEBUG:root:sblr.signal_r[0:10] - BASELINE= [-0.536 -0.536 -0.536  0.464  0.464  0.464 -0.536 -0.536  0.464  0.464]\n"
     ]
    },
    {
     "name": "stderr",
     "output_type": "stream",
     "text": [
      "sblr.signal_r[0:10] - BASELINE= [-0.536 -0.536 -0.536  0.464  0.464  0.464 -0.536 -0.536  0.464  0.464]\n"
     ]
    },
    {
     "name": "stdout",
     "output_type": "stream",
     "text": [
      "DEBUG:root:-->BLR: \n",
      "                     MAU_LEN=250\n",
      "                     thr1 = 5.376, thr2 = 0, thr3 = 1.792 =\n"
     ]
    },
    {
     "name": "stderr",
     "output_type": "stream",
     "text": [
      "-->BLR: \n",
      "                     MAU_LEN=250\n",
      "                     thr1 = 5.376, thr2 = 0, thr3 = 1.792 =\n"
     ]
    },
    {
     "name": "stdout",
     "output_type": "stream",
     "text": [
      "DEBUG:root:n = 250, acum[n] = 0.0 BASELINE =-499.524\n"
     ]
    },
    {
     "name": "stderr",
     "output_type": "stream",
     "text": [
      "n = 250, acum[n] = 0.0 BASELINE =-499.524\n"
     ]
    },
    {
     "name": "stdout",
     "output_type": "stream",
     "text": [
      "DEBUG:root:nm = 250\n"
     ]
    },
    {
     "name": "stderr",
     "output_type": "stream",
     "text": [
      "nm = 250\n"
     ]
    },
    {
     "name": "stdout",
     "output_type": "stream",
     "text": [
      "DEBUG:root:sblr.signal_r[0:10]= [-500. -499. -500. -499. -499. -500. -499. -499. -500. -499.]\n"
     ]
    },
    {
     "name": "stderr",
     "output_type": "stream",
     "text": [
      "sblr.signal_r[0:10]= [-500. -499. -500. -499. -499. -500. -499. -499. -500. -499.]\n"
     ]
    },
    {
     "name": "stdout",
     "output_type": "stream",
     "text": [
      "DEBUG:root:BASELINE =-499.524\n"
     ]
    },
    {
     "name": "stderr",
     "output_type": "stream",
     "text": [
      "BASELINE =-499.524\n"
     ]
    },
    {
     "name": "stdout",
     "output_type": "stream",
     "text": [
      "DEBUG:root:sblr.signal_r[0:10] - BASELINE= [-0.476  0.524 -0.476  0.524  0.524 -0.476  0.524  0.524 -0.476  0.524]\n"
     ]
    },
    {
     "name": "stderr",
     "output_type": "stream",
     "text": [
      "sblr.signal_r[0:10] - BASELINE= [-0.476  0.524 -0.476  0.524  0.524 -0.476  0.524  0.524 -0.476  0.524]\n"
     ]
    },
    {
     "name": "stdout",
     "output_type": "stream",
     "text": [
      "DEBUG:root:-->BLR: \n",
      "                     MAU_LEN=250\n",
      "                     thr1 = 5.376, thr2 = 0, thr3 = 1.792 =\n"
     ]
    },
    {
     "name": "stderr",
     "output_type": "stream",
     "text": [
      "-->BLR: \n",
      "                     MAU_LEN=250\n",
      "                     thr1 = 5.376, thr2 = 0, thr3 = 1.792 =\n"
     ]
    },
    {
     "name": "stdout",
     "output_type": "stream",
     "text": [
      "DEBUG:root:n = 250, acum[n] = 0.0 BASELINE =-499.508\n"
     ]
    },
    {
     "name": "stderr",
     "output_type": "stream",
     "text": [
      "n = 250, acum[n] = 0.0 BASELINE =-499.508\n"
     ]
    },
    {
     "name": "stdout",
     "output_type": "stream",
     "text": [
      "DEBUG:root:nm = 250\n"
     ]
    },
    {
     "name": "stderr",
     "output_type": "stream",
     "text": [
      "nm = 250\n"
     ]
    },
    {
     "name": "stdout",
     "output_type": "stream",
     "text": [
      "DEBUG:root:sblr.signal_r[0:10]= [-499. -499. -499. -500. -500. -499. -499. -500. -500. -500.]\n"
     ]
    },
    {
     "name": "stderr",
     "output_type": "stream",
     "text": [
      "sblr.signal_r[0:10]= [-499. -499. -499. -500. -500. -499. -499. -500. -500. -500.]\n"
     ]
    },
    {
     "name": "stdout",
     "output_type": "stream",
     "text": [
      "DEBUG:root:BASELINE =-499.508\n"
     ]
    },
    {
     "name": "stderr",
     "output_type": "stream",
     "text": [
      "BASELINE =-499.508\n"
     ]
    },
    {
     "name": "stdout",
     "output_type": "stream",
     "text": [
      "DEBUG:root:sblr.signal_r[0:10] - BASELINE= [ 0.508  0.508  0.508 -0.492 -0.492  0.508  0.508 -0.492 -0.492 -0.492]\n"
     ]
    },
    {
     "name": "stderr",
     "output_type": "stream",
     "text": [
      "sblr.signal_r[0:10] - BASELINE= [ 0.508  0.508  0.508 -0.492 -0.492  0.508  0.508 -0.492 -0.492 -0.492]\n"
     ]
    },
    {
     "name": "stdout",
     "output_type": "stream",
     "text": [
      "DEBUG:root:-->BLR: \n",
      "                     MAU_LEN=250\n",
      "                     thr1 = 5.376, thr2 = 0, thr3 = 1.792 =\n"
     ]
    },
    {
     "name": "stderr",
     "output_type": "stream",
     "text": [
      "-->BLR: \n",
      "                     MAU_LEN=250\n",
      "                     thr1 = 5.376, thr2 = 0, thr3 = 1.792 =\n"
     ]
    },
    {
     "name": "stdout",
     "output_type": "stream",
     "text": [
      "DEBUG:root:n = 250, acum[n] = 0.0 BASELINE =-499.448\n"
     ]
    },
    {
     "name": "stderr",
     "output_type": "stream",
     "text": [
      "n = 250, acum[n] = 0.0 BASELINE =-499.448\n"
     ]
    },
    {
     "name": "stdout",
     "output_type": "stream",
     "text": [
      "DEBUG:root:nm = 250\n"
     ]
    },
    {
     "name": "stderr",
     "output_type": "stream",
     "text": [
      "nm = 250\n"
     ]
    },
    {
     "name": "stdout",
     "output_type": "stream",
     "text": [
      "DEBUG:root:sblr.signal_r[0:10]= [-499. -500. -499. -499. -500. -499. -500. -500. -499. -500.]\n"
     ]
    },
    {
     "name": "stderr",
     "output_type": "stream",
     "text": [
      "sblr.signal_r[0:10]= [-499. -500. -499. -499. -500. -499. -500. -500. -499. -500.]\n"
     ]
    },
    {
     "name": "stdout",
     "output_type": "stream",
     "text": [
      "DEBUG:root:BASELINE =-499.448\n"
     ]
    },
    {
     "name": "stderr",
     "output_type": "stream",
     "text": [
      "BASELINE =-499.448\n"
     ]
    },
    {
     "name": "stdout",
     "output_type": "stream",
     "text": [
      "DEBUG:root:sblr.signal_r[0:10] - BASELINE= [ 0.448 -0.552  0.448  0.448 -0.552  0.448 -0.552 -0.552  0.448 -0.552]\n"
     ]
    },
    {
     "name": "stderr",
     "output_type": "stream",
     "text": [
      "sblr.signal_r[0:10] - BASELINE= [ 0.448 -0.552  0.448  0.448 -0.552  0.448 -0.552 -0.552  0.448 -0.552]\n"
     ]
    },
    {
     "name": "stdout",
     "output_type": "stream",
     "text": [
      "DEBUG:root:-->BLR: \n",
      "                     MAU_LEN=250\n",
      "                     thr1 = 5.376, thr2 = 0, thr3 = 1.792 =\n"
     ]
    },
    {
     "name": "stderr",
     "output_type": "stream",
     "text": [
      "-->BLR: \n",
      "                     MAU_LEN=250\n",
      "                     thr1 = 5.376, thr2 = 0, thr3 = 1.792 =\n"
     ]
    },
    {
     "name": "stdout",
     "output_type": "stream",
     "text": [
      "DEBUG:root:n = 250, acum[n] = 0.0 BASELINE =-499.432\n"
     ]
    },
    {
     "name": "stderr",
     "output_type": "stream",
     "text": [
      "n = 250, acum[n] = 0.0 BASELINE =-499.432\n"
     ]
    },
    {
     "name": "stdout",
     "output_type": "stream",
     "text": [
      "DEBUG:root:nm = 250\n"
     ]
    },
    {
     "name": "stderr",
     "output_type": "stream",
     "text": [
      "nm = 250\n"
     ]
    },
    {
     "name": "stdout",
     "output_type": "stream",
     "text": [
      "DEBUG:root:sblr.signal_r[0:10]= [-499. -500. -499. -500. -500. -499. -500. -500. -499. -499.]\n"
     ]
    },
    {
     "name": "stderr",
     "output_type": "stream",
     "text": [
      "sblr.signal_r[0:10]= [-499. -500. -499. -500. -500. -499. -500. -500. -499. -499.]\n"
     ]
    },
    {
     "name": "stdout",
     "output_type": "stream",
     "text": [
      "DEBUG:root:BASELINE =-499.432\n"
     ]
    },
    {
     "name": "stderr",
     "output_type": "stream",
     "text": [
      "BASELINE =-499.432\n"
     ]
    },
    {
     "name": "stdout",
     "output_type": "stream",
     "text": [
      "DEBUG:root:sblr.signal_r[0:10] - BASELINE= [ 0.432 -0.568  0.432 -0.568 -0.568  0.432 -0.568 -0.568  0.432  0.432]\n"
     ]
    },
    {
     "name": "stderr",
     "output_type": "stream",
     "text": [
      "sblr.signal_r[0:10] - BASELINE= [ 0.432 -0.568  0.432 -0.568 -0.568  0.432 -0.568 -0.568  0.432  0.432]\n"
     ]
    },
    {
     "name": "stdout",
     "output_type": "stream",
     "text": [
      "DEBUG:root:-->BLR: \n",
      "                     MAU_LEN=250\n",
      "                     thr1 = 5.376, thr2 = 0, thr3 = 1.792 =\n"
     ]
    },
    {
     "name": "stderr",
     "output_type": "stream",
     "text": [
      "-->BLR: \n",
      "                     MAU_LEN=250\n",
      "                     thr1 = 5.376, thr2 = 0, thr3 = 1.792 =\n"
     ]
    },
    {
     "name": "stdout",
     "output_type": "stream",
     "text": [
      "DEBUG:root:n = 250, acum[n] = 0.0 BASELINE =-499.472\n"
     ]
    },
    {
     "name": "stderr",
     "output_type": "stream",
     "text": [
      "n = 250, acum[n] = 0.0 BASELINE =-499.472\n"
     ]
    },
    {
     "name": "stdout",
     "output_type": "stream",
     "text": [
      "DEBUG:root:nm = 250\n"
     ]
    },
    {
     "name": "stderr",
     "output_type": "stream",
     "text": [
      "nm = 250\n"
     ]
    },
    {
     "name": "stdout",
     "output_type": "stream",
     "text": [
      "DEBUG:root:sblr.signal_r[0:10]= [-500. -499. -500. -500. -499. -499. -500. -500. -499. -499.]\n"
     ]
    },
    {
     "name": "stderr",
     "output_type": "stream",
     "text": [
      "sblr.signal_r[0:10]= [-500. -499. -500. -500. -499. -499. -500. -500. -499. -499.]\n"
     ]
    },
    {
     "name": "stdout",
     "output_type": "stream",
     "text": [
      "DEBUG:root:BASELINE =-499.472\n"
     ]
    },
    {
     "name": "stderr",
     "output_type": "stream",
     "text": [
      "BASELINE =-499.472\n"
     ]
    },
    {
     "name": "stdout",
     "output_type": "stream",
     "text": [
      "DEBUG:root:sblr.signal_r[0:10] - BASELINE= [-0.528  0.472 -0.528 -0.528  0.472  0.472 -0.528 -0.528  0.472  0.472]\n"
     ]
    },
    {
     "name": "stderr",
     "output_type": "stream",
     "text": [
      "sblr.signal_r[0:10] - BASELINE= [-0.528  0.472 -0.528 -0.528  0.472  0.472 -0.528 -0.528  0.472  0.472]\n"
     ]
    },
    {
     "name": "stdout",
     "output_type": "stream",
     "text": [
      "DEBUG:root:-->BLR: \n",
      "                     MAU_LEN=250\n",
      "                     thr1 = 5.376, thr2 = 0, thr3 = 1.792 =\n"
     ]
    },
    {
     "name": "stderr",
     "output_type": "stream",
     "text": [
      "-->BLR: \n",
      "                     MAU_LEN=250\n",
      "                     thr1 = 5.376, thr2 = 0, thr3 = 1.792 =\n"
     ]
    },
    {
     "name": "stdout",
     "output_type": "stream",
     "text": [
      "DEBUG:root:n = 250, acum[n] = 0.0 BASELINE =-499.484\n"
     ]
    },
    {
     "name": "stderr",
     "output_type": "stream",
     "text": [
      "n = 250, acum[n] = 0.0 BASELINE =-499.484\n"
     ]
    },
    {
     "name": "stdout",
     "output_type": "stream",
     "text": [
      "DEBUG:root:nm = 250\n"
     ]
    },
    {
     "name": "stderr",
     "output_type": "stream",
     "text": [
      "nm = 250\n"
     ]
    },
    {
     "name": "stdout",
     "output_type": "stream",
     "text": [
      "DEBUG:root:sblr.signal_r[0:10]= [-499. -499. -500. -499. -499. -499. -499. -499. -500. -499.]\n"
     ]
    },
    {
     "name": "stderr",
     "output_type": "stream",
     "text": [
      "sblr.signal_r[0:10]= [-499. -499. -500. -499. -499. -499. -499. -499. -500. -499.]\n"
     ]
    },
    {
     "name": "stdout",
     "output_type": "stream",
     "text": [
      "DEBUG:root:BASELINE =-499.484\n"
     ]
    },
    {
     "name": "stderr",
     "output_type": "stream",
     "text": [
      "BASELINE =-499.484\n"
     ]
    },
    {
     "name": "stdout",
     "output_type": "stream",
     "text": [
      "DEBUG:root:sblr.signal_r[0:10] - BASELINE= [ 0.484  0.484 -0.516  0.484  0.484  0.484  0.484  0.484 -0.516  0.484]\n"
     ]
    },
    {
     "name": "stderr",
     "output_type": "stream",
     "text": [
      "sblr.signal_r[0:10] - BASELINE= [ 0.484  0.484 -0.516  0.484  0.484  0.484  0.484  0.484 -0.516  0.484]\n"
     ]
    },
    {
     "name": "stdout",
     "output_type": "stream",
     "text": [
      "DEBUG:root:-->BLR: \n",
      "                     MAU_LEN=250\n",
      "                     thr1 = 5.376, thr2 = 0, thr3 = 1.792 =\n"
     ]
    },
    {
     "name": "stderr",
     "output_type": "stream",
     "text": [
      "-->BLR: \n",
      "                     MAU_LEN=250\n",
      "                     thr1 = 5.376, thr2 = 0, thr3 = 1.792 =\n"
     ]
    },
    {
     "name": "stdout",
     "output_type": "stream",
     "text": [
      "DEBUG:root:n = 250, acum[n] = 0.0 BASELINE =-499.52\n"
     ]
    },
    {
     "name": "stderr",
     "output_type": "stream",
     "text": [
      "n = 250, acum[n] = 0.0 BASELINE =-499.52\n"
     ]
    },
    {
     "name": "stdout",
     "output_type": "stream",
     "text": [
      "DEBUG:root:nm = 250\n"
     ]
    },
    {
     "name": "stderr",
     "output_type": "stream",
     "text": [
      "nm = 250\n"
     ]
    },
    {
     "name": "stdout",
     "output_type": "stream",
     "text": [
      "DEBUG:root:sblr.signal_r[0:10]= [-499. -499. -499. -499. -500. -499. -499. -499. -499. -500.]\n"
     ]
    },
    {
     "name": "stderr",
     "output_type": "stream",
     "text": [
      "sblr.signal_r[0:10]= [-499. -499. -499. -499. -500. -499. -499. -499. -499. -500.]\n"
     ]
    },
    {
     "name": "stdout",
     "output_type": "stream",
     "text": [
      "DEBUG:root:BASELINE =-499.52\n"
     ]
    },
    {
     "name": "stderr",
     "output_type": "stream",
     "text": [
      "BASELINE =-499.52\n"
     ]
    },
    {
     "name": "stdout",
     "output_type": "stream",
     "text": [
      "DEBUG:root:sblr.signal_r[0:10] - BASELINE= [ 0.52  0.52  0.52  0.52 -0.48  0.52  0.52  0.52  0.52 -0.48]\n"
     ]
    },
    {
     "name": "stderr",
     "output_type": "stream",
     "text": [
      "sblr.signal_r[0:10] - BASELINE= [ 0.52  0.52  0.52  0.52 -0.48  0.52  0.52  0.52  0.52 -0.48]\n"
     ]
    },
    {
     "name": "stdout",
     "output_type": "stream",
     "text": [
      "DEBUG:root:-->BLR: \n",
      "                     MAU_LEN=250\n",
      "                     thr1 = 5.376, thr2 = 0, thr3 = 1.792 =\n"
     ]
    },
    {
     "name": "stderr",
     "output_type": "stream",
     "text": [
      "-->BLR: \n",
      "                     MAU_LEN=250\n",
      "                     thr1 = 5.376, thr2 = 0, thr3 = 1.792 =\n"
     ]
    },
    {
     "name": "stdout",
     "output_type": "stream",
     "text": [
      "DEBUG:root:n = 250, acum[n] = 0.0 BASELINE =-499.552\n"
     ]
    },
    {
     "name": "stderr",
     "output_type": "stream",
     "text": [
      "n = 250, acum[n] = 0.0 BASELINE =-499.552\n"
     ]
    },
    {
     "name": "stdout",
     "output_type": "stream",
     "text": [
      "DEBUG:root:nm = 250\n"
     ]
    },
    {
     "name": "stderr",
     "output_type": "stream",
     "text": [
      "nm = 250\n"
     ]
    },
    {
     "name": "stdout",
     "output_type": "stream",
     "text": [
      "DEBUG:root:sblr.signal_r[0:10]= [-499. -499. -499. -499. -500. -499. -499. -499. -499. -500.]\n"
     ]
    },
    {
     "name": "stderr",
     "output_type": "stream",
     "text": [
      "sblr.signal_r[0:10]= [-499. -499. -499. -499. -500. -499. -499. -499. -499. -500.]\n"
     ]
    },
    {
     "name": "stdout",
     "output_type": "stream",
     "text": [
      "DEBUG:root:BASELINE =-499.552\n"
     ]
    },
    {
     "name": "stderr",
     "output_type": "stream",
     "text": [
      "BASELINE =-499.552\n"
     ]
    },
    {
     "name": "stdout",
     "output_type": "stream",
     "text": [
      "DEBUG:root:sblr.signal_r[0:10] - BASELINE= [ 0.552  0.552  0.552  0.552 -0.448  0.552  0.552  0.552  0.552 -0.448]\n"
     ]
    },
    {
     "name": "stderr",
     "output_type": "stream",
     "text": [
      "sblr.signal_r[0:10] - BASELINE= [ 0.552  0.552  0.552  0.552 -0.448  0.552  0.552  0.552  0.552 -0.448]\n"
     ]
    },
    {
     "name": "stdout",
     "output_type": "stream",
     "text": [
      "DEBUG:root:-->BLR: \n",
      "                     MAU_LEN=250\n",
      "                     thr1 = 5.376, thr2 = 0, thr3 = 1.792 =\n"
     ]
    },
    {
     "name": "stderr",
     "output_type": "stream",
     "text": [
      "-->BLR: \n",
      "                     MAU_LEN=250\n",
      "                     thr1 = 5.376, thr2 = 0, thr3 = 1.792 =\n"
     ]
    },
    {
     "name": "stdout",
     "output_type": "stream",
     "text": [
      "DEBUG:root:n = 250, acum[n] = 0.0 BASELINE =-499.5\n"
     ]
    },
    {
     "name": "stderr",
     "output_type": "stream",
     "text": [
      "n = 250, acum[n] = 0.0 BASELINE =-499.5\n"
     ]
    },
    {
     "name": "stdout",
     "output_type": "stream",
     "text": [
      "DEBUG:root:nm = 250\n"
     ]
    },
    {
     "name": "stderr",
     "output_type": "stream",
     "text": [
      "nm = 250\n"
     ]
    },
    {
     "name": "stdout",
     "output_type": "stream",
     "text": [
      "DEBUG:root:sblr.signal_r[0:10]= [-500. -500. -500. -499. -499. -499. -500. -499. -500. -500.]\n"
     ]
    },
    {
     "name": "stderr",
     "output_type": "stream",
     "text": [
      "sblr.signal_r[0:10]= [-500. -500. -500. -499. -499. -499. -500. -499. -500. -500.]\n"
     ]
    },
    {
     "name": "stdout",
     "output_type": "stream",
     "text": [
      "DEBUG:root:BASELINE =-499.5\n"
     ]
    },
    {
     "name": "stderr",
     "output_type": "stream",
     "text": [
      "BASELINE =-499.5\n"
     ]
    },
    {
     "name": "stdout",
     "output_type": "stream",
     "text": [
      "DEBUG:root:sblr.signal_r[0:10] - BASELINE= [-0.5 -0.5 -0.5  0.5  0.5  0.5 -0.5  0.5 -0.5 -0.5]\n"
     ]
    },
    {
     "name": "stderr",
     "output_type": "stream",
     "text": [
      "sblr.signal_r[0:10] - BASELINE= [-0.5 -0.5 -0.5  0.5  0.5  0.5 -0.5  0.5 -0.5 -0.5]\n"
     ]
    },
    {
     "name": "stdout",
     "output_type": "stream",
     "text": [
      "DEBUG:root:-->BLR: \n",
      "                     MAU_LEN=250\n",
      "                     thr1 = 5.376, thr2 = 0, thr3 = 1.792 =\n"
     ]
    },
    {
     "name": "stderr",
     "output_type": "stream",
     "text": [
      "-->BLR: \n",
      "                     MAU_LEN=250\n",
      "                     thr1 = 5.376, thr2 = 0, thr3 = 1.792 =\n"
     ]
    },
    {
     "name": "stdout",
     "output_type": "stream",
     "text": [
      "DEBUG:root:n = 250, acum[n] = 0.0 BASELINE =-499.532\n"
     ]
    },
    {
     "name": "stderr",
     "output_type": "stream",
     "text": [
      "n = 250, acum[n] = 0.0 BASELINE =-499.532\n"
     ]
    },
    {
     "name": "stdout",
     "output_type": "stream",
     "text": [
      "DEBUG:root:nm = 250\n"
     ]
    },
    {
     "name": "stderr",
     "output_type": "stream",
     "text": [
      "nm = 250\n"
     ]
    },
    {
     "name": "stdout",
     "output_type": "stream",
     "text": [
      "DEBUG:root:sblr.signal_r[0:10]= [-499. -499. -500. -500. -499. -500. -500. -500. -499. -499.]\n"
     ]
    },
    {
     "name": "stderr",
     "output_type": "stream",
     "text": [
      "sblr.signal_r[0:10]= [-499. -499. -500. -500. -499. -500. -500. -500. -499. -499.]\n"
     ]
    },
    {
     "name": "stdout",
     "output_type": "stream",
     "text": [
      "DEBUG:root:BASELINE =-499.532\n"
     ]
    },
    {
     "name": "stderr",
     "output_type": "stream",
     "text": [
      "BASELINE =-499.532\n"
     ]
    },
    {
     "name": "stdout",
     "output_type": "stream",
     "text": [
      "DEBUG:root:sblr.signal_r[0:10] - BASELINE= [ 0.532  0.532 -0.468 -0.468  0.532 -0.468 -0.468 -0.468  0.532  0.532]\n"
     ]
    },
    {
     "name": "stderr",
     "output_type": "stream",
     "text": [
      "sblr.signal_r[0:10] - BASELINE= [ 0.532  0.532 -0.468 -0.468  0.532 -0.468 -0.468 -0.468  0.532  0.532]\n"
     ]
    },
    {
     "name": "stdout",
     "output_type": "stream",
     "text": [
      "INFO:root:-->event number =2\n"
     ]
    },
    {
     "name": "stderr",
     "output_type": "stream",
     "text": [
      "-->event number =2\n"
     ]
    },
    {
     "name": "stdout",
     "output_type": "stream",
     "text": [
      "DEBUG:root:-->BLR: \n",
      "                     MAU_LEN=250\n",
      "                     thr1 = 5.376, thr2 = 0, thr3 = 1.792 =\n"
     ]
    },
    {
     "name": "stderr",
     "output_type": "stream",
     "text": [
      "-->BLR: \n",
      "                     MAU_LEN=250\n",
      "                     thr1 = 5.376, thr2 = 0, thr3 = 1.792 =\n"
     ]
    },
    {
     "name": "stdout",
     "output_type": "stream",
     "text": [
      "DEBUG:root:n = 250, acum[n] = 0.0 BASELINE =-499.524\n"
     ]
    },
    {
     "name": "stderr",
     "output_type": "stream",
     "text": [
      "n = 250, acum[n] = 0.0 BASELINE =-499.524\n"
     ]
    },
    {
     "name": "stdout",
     "output_type": "stream",
     "text": [
      "DEBUG:root:nm = 250\n"
     ]
    },
    {
     "name": "stderr",
     "output_type": "stream",
     "text": [
      "nm = 250\n"
     ]
    },
    {
     "name": "stdout",
     "output_type": "stream",
     "text": [
      "DEBUG:root:sblr.signal_r[0:10]= [-500. -500. -500. -500. -500. -500. -499. -499. -499. -499.]\n"
     ]
    },
    {
     "name": "stderr",
     "output_type": "stream",
     "text": [
      "sblr.signal_r[0:10]= [-500. -500. -500. -500. -500. -500. -499. -499. -499. -499.]\n"
     ]
    },
    {
     "name": "stdout",
     "output_type": "stream",
     "text": [
      "DEBUG:root:BASELINE =-499.524\n"
     ]
    },
    {
     "name": "stderr",
     "output_type": "stream",
     "text": [
      "BASELINE =-499.524\n"
     ]
    },
    {
     "name": "stdout",
     "output_type": "stream",
     "text": [
      "DEBUG:root:sblr.signal_r[0:10] - BASELINE= [-0.476 -0.476 -0.476 -0.476 -0.476 -0.476  0.524  0.524  0.524  0.524]\n"
     ]
    },
    {
     "name": "stderr",
     "output_type": "stream",
     "text": [
      "sblr.signal_r[0:10] - BASELINE= [-0.476 -0.476 -0.476 -0.476 -0.476 -0.476  0.524  0.524  0.524  0.524]\n"
     ]
    },
    {
     "name": "stdout",
     "output_type": "stream",
     "text": [
      "DEBUG:root:-->BLR: \n",
      "                     MAU_LEN=250\n",
      "                     thr1 = 5.376, thr2 = 0, thr3 = 1.792 =\n"
     ]
    },
    {
     "name": "stderr",
     "output_type": "stream",
     "text": [
      "-->BLR: \n",
      "                     MAU_LEN=250\n",
      "                     thr1 = 5.376, thr2 = 0, thr3 = 1.792 =\n"
     ]
    },
    {
     "name": "stdout",
     "output_type": "stream",
     "text": [
      "DEBUG:root:n = 250, acum[n] = 0.0 BASELINE =-499.468\n"
     ]
    },
    {
     "name": "stderr",
     "output_type": "stream",
     "text": [
      "n = 250, acum[n] = 0.0 BASELINE =-499.468\n"
     ]
    },
    {
     "name": "stdout",
     "output_type": "stream",
     "text": [
      "DEBUG:root:nm = 250\n"
     ]
    },
    {
     "name": "stderr",
     "output_type": "stream",
     "text": [
      "nm = 250\n"
     ]
    },
    {
     "name": "stdout",
     "output_type": "stream",
     "text": [
      "DEBUG:root:sblr.signal_r[0:10]= [-500. -500. -499. -499. -499. -499. -500. -499. -500. -500.]\n"
     ]
    },
    {
     "name": "stderr",
     "output_type": "stream",
     "text": [
      "sblr.signal_r[0:10]= [-500. -500. -499. -499. -499. -499. -500. -499. -500. -500.]\n"
     ]
    },
    {
     "name": "stdout",
     "output_type": "stream",
     "text": [
      "DEBUG:root:BASELINE =-499.468\n"
     ]
    },
    {
     "name": "stderr",
     "output_type": "stream",
     "text": [
      "BASELINE =-499.468\n"
     ]
    },
    {
     "name": "stdout",
     "output_type": "stream",
     "text": [
      "DEBUG:root:sblr.signal_r[0:10] - BASELINE= [-0.532 -0.532  0.468  0.468  0.468  0.468 -0.532  0.468 -0.532 -0.532]\n"
     ]
    },
    {
     "name": "stderr",
     "output_type": "stream",
     "text": [
      "sblr.signal_r[0:10] - BASELINE= [-0.532 -0.532  0.468  0.468  0.468  0.468 -0.532  0.468 -0.532 -0.532]\n"
     ]
    },
    {
     "name": "stdout",
     "output_type": "stream",
     "text": [
      "DEBUG:root:-->BLR: \n",
      "                     MAU_LEN=250\n",
      "                     thr1 = 5.376, thr2 = 0, thr3 = 1.792 =\n"
     ]
    },
    {
     "name": "stderr",
     "output_type": "stream",
     "text": [
      "-->BLR: \n",
      "                     MAU_LEN=250\n",
      "                     thr1 = 5.376, thr2 = 0, thr3 = 1.792 =\n"
     ]
    },
    {
     "name": "stdout",
     "output_type": "stream",
     "text": [
      "DEBUG:root:n = 250, acum[n] = 0.0 BASELINE =-499.548\n"
     ]
    },
    {
     "name": "stderr",
     "output_type": "stream",
     "text": [
      "n = 250, acum[n] = 0.0 BASELINE =-499.548\n"
     ]
    },
    {
     "name": "stdout",
     "output_type": "stream",
     "text": [
      "DEBUG:root:nm = 250\n"
     ]
    },
    {
     "name": "stderr",
     "output_type": "stream",
     "text": [
      "nm = 250\n"
     ]
    },
    {
     "name": "stdout",
     "output_type": "stream",
     "text": [
      "DEBUG:root:sblr.signal_r[0:10]= [-500. -500. -499. -500. -499. -499. -499. -500. -499. -499.]\n"
     ]
    },
    {
     "name": "stderr",
     "output_type": "stream",
     "text": [
      "sblr.signal_r[0:10]= [-500. -500. -499. -500. -499. -499. -499. -500. -499. -499.]\n"
     ]
    },
    {
     "name": "stdout",
     "output_type": "stream",
     "text": [
      "DEBUG:root:BASELINE =-499.548\n"
     ]
    },
    {
     "name": "stderr",
     "output_type": "stream",
     "text": [
      "BASELINE =-499.548\n"
     ]
    },
    {
     "name": "stdout",
     "output_type": "stream",
     "text": [
      "DEBUG:root:sblr.signal_r[0:10] - BASELINE= [-0.452 -0.452  0.548 -0.452  0.548  0.548  0.548 -0.452  0.548  0.548]\n"
     ]
    },
    {
     "name": "stderr",
     "output_type": "stream",
     "text": [
      "sblr.signal_r[0:10] - BASELINE= [-0.452 -0.452  0.548 -0.452  0.548  0.548  0.548 -0.452  0.548  0.548]\n"
     ]
    },
    {
     "name": "stdout",
     "output_type": "stream",
     "text": [
      "DEBUG:root:-->BLR: \n",
      "                     MAU_LEN=250\n",
      "                     thr1 = 5.376, thr2 = 0, thr3 = 1.792 =\n"
     ]
    },
    {
     "name": "stderr",
     "output_type": "stream",
     "text": [
      "-->BLR: \n",
      "                     MAU_LEN=250\n",
      "                     thr1 = 5.376, thr2 = 0, thr3 = 1.792 =\n"
     ]
    },
    {
     "name": "stdout",
     "output_type": "stream",
     "text": [
      "DEBUG:root:n = 250, acum[n] = 0.0 BASELINE =-499.44\n"
     ]
    },
    {
     "name": "stderr",
     "output_type": "stream",
     "text": [
      "n = 250, acum[n] = 0.0 BASELINE =-499.44\n"
     ]
    },
    {
     "name": "stdout",
     "output_type": "stream",
     "text": [
      "DEBUG:root:nm = 250\n"
     ]
    },
    {
     "name": "stderr",
     "output_type": "stream",
     "text": [
      "nm = 250\n"
     ]
    },
    {
     "name": "stdout",
     "output_type": "stream",
     "text": [
      "DEBUG:root:sblr.signal_r[0:10]= [-499. -500. -500. -500. -499. -499. -500. -500. -500. -499.]\n"
     ]
    },
    {
     "name": "stderr",
     "output_type": "stream",
     "text": [
      "sblr.signal_r[0:10]= [-499. -500. -500. -500. -499. -499. -500. -500. -500. -499.]\n"
     ]
    },
    {
     "name": "stdout",
     "output_type": "stream",
     "text": [
      "DEBUG:root:BASELINE =-499.44\n"
     ]
    },
    {
     "name": "stderr",
     "output_type": "stream",
     "text": [
      "BASELINE =-499.44\n"
     ]
    },
    {
     "name": "stdout",
     "output_type": "stream",
     "text": [
      "DEBUG:root:sblr.signal_r[0:10] - BASELINE= [ 0.44 -0.56 -0.56 -0.56  0.44  0.44 -0.56 -0.56 -0.56  0.44]\n"
     ]
    },
    {
     "name": "stderr",
     "output_type": "stream",
     "text": [
      "sblr.signal_r[0:10] - BASELINE= [ 0.44 -0.56 -0.56 -0.56  0.44  0.44 -0.56 -0.56 -0.56  0.44]\n"
     ]
    },
    {
     "name": "stdout",
     "output_type": "stream",
     "text": [
      "DEBUG:root:-->BLR: \n",
      "                     MAU_LEN=250\n",
      "                     thr1 = 5.376, thr2 = 0, thr3 = 1.792 =\n"
     ]
    },
    {
     "name": "stderr",
     "output_type": "stream",
     "text": [
      "-->BLR: \n",
      "                     MAU_LEN=250\n",
      "                     thr1 = 5.376, thr2 = 0, thr3 = 1.792 =\n"
     ]
    },
    {
     "name": "stdout",
     "output_type": "stream",
     "text": [
      "DEBUG:root:n = 250, acum[n] = 0.0 BASELINE =-499.448\n"
     ]
    },
    {
     "name": "stderr",
     "output_type": "stream",
     "text": [
      "n = 250, acum[n] = 0.0 BASELINE =-499.448\n"
     ]
    },
    {
     "name": "stdout",
     "output_type": "stream",
     "text": [
      "DEBUG:root:nm = 250\n"
     ]
    },
    {
     "name": "stderr",
     "output_type": "stream",
     "text": [
      "nm = 250\n"
     ]
    },
    {
     "name": "stdout",
     "output_type": "stream",
     "text": [
      "DEBUG:root:sblr.signal_r[0:10]= [-499. -499. -500. -500. -499. -499. -500. -499. -500. -499.]\n"
     ]
    },
    {
     "name": "stderr",
     "output_type": "stream",
     "text": [
      "sblr.signal_r[0:10]= [-499. -499. -500. -500. -499. -499. -500. -499. -500. -499.]\n"
     ]
    },
    {
     "name": "stdout",
     "output_type": "stream",
     "text": [
      "DEBUG:root:BASELINE =-499.448\n"
     ]
    },
    {
     "name": "stderr",
     "output_type": "stream",
     "text": [
      "BASELINE =-499.448\n"
     ]
    },
    {
     "name": "stdout",
     "output_type": "stream",
     "text": [
      "DEBUG:root:sblr.signal_r[0:10] - BASELINE= [ 0.448  0.448 -0.552 -0.552  0.448  0.448 -0.552  0.448 -0.552  0.448]\n"
     ]
    },
    {
     "name": "stderr",
     "output_type": "stream",
     "text": [
      "sblr.signal_r[0:10] - BASELINE= [ 0.448  0.448 -0.552 -0.552  0.448  0.448 -0.552  0.448 -0.552  0.448]\n"
     ]
    },
    {
     "name": "stdout",
     "output_type": "stream",
     "text": [
      "DEBUG:root:-->BLR: \n",
      "                     MAU_LEN=250\n",
      "                     thr1 = 5.376, thr2 = 0, thr3 = 1.792 =\n"
     ]
    },
    {
     "name": "stderr",
     "output_type": "stream",
     "text": [
      "-->BLR: \n",
      "                     MAU_LEN=250\n",
      "                     thr1 = 5.376, thr2 = 0, thr3 = 1.792 =\n"
     ]
    },
    {
     "name": "stdout",
     "output_type": "stream",
     "text": [
      "DEBUG:root:n = 250, acum[n] = 0.0 BASELINE =-499.484\n"
     ]
    },
    {
     "name": "stderr",
     "output_type": "stream",
     "text": [
      "n = 250, acum[n] = 0.0 BASELINE =-499.484\n"
     ]
    },
    {
     "name": "stdout",
     "output_type": "stream",
     "text": [
      "DEBUG:root:nm = 250\n"
     ]
    },
    {
     "name": "stderr",
     "output_type": "stream",
     "text": [
      "nm = 250\n"
     ]
    },
    {
     "name": "stdout",
     "output_type": "stream",
     "text": [
      "DEBUG:root:sblr.signal_r[0:10]= [-499. -500. -500. -499. -499. -499. -500. -499. -499. -499.]\n"
     ]
    },
    {
     "name": "stderr",
     "output_type": "stream",
     "text": [
      "sblr.signal_r[0:10]= [-499. -500. -500. -499. -499. -499. -500. -499. -499. -499.]\n"
     ]
    },
    {
     "name": "stdout",
     "output_type": "stream",
     "text": [
      "DEBUG:root:BASELINE =-499.484\n"
     ]
    },
    {
     "name": "stderr",
     "output_type": "stream",
     "text": [
      "BASELINE =-499.484\n"
     ]
    },
    {
     "name": "stdout",
     "output_type": "stream",
     "text": [
      "DEBUG:root:sblr.signal_r[0:10] - BASELINE= [ 0.484 -0.516 -0.516  0.484  0.484  0.484 -0.516  0.484  0.484  0.484]\n"
     ]
    },
    {
     "name": "stderr",
     "output_type": "stream",
     "text": [
      "sblr.signal_r[0:10] - BASELINE= [ 0.484 -0.516 -0.516  0.484  0.484  0.484 -0.516  0.484  0.484  0.484]\n"
     ]
    },
    {
     "name": "stdout",
     "output_type": "stream",
     "text": [
      "DEBUG:root:-->BLR: \n",
      "                     MAU_LEN=250\n",
      "                     thr1 = 5.376, thr2 = 0, thr3 = 1.792 =\n"
     ]
    },
    {
     "name": "stderr",
     "output_type": "stream",
     "text": [
      "-->BLR: \n",
      "                     MAU_LEN=250\n",
      "                     thr1 = 5.376, thr2 = 0, thr3 = 1.792 =\n"
     ]
    },
    {
     "name": "stdout",
     "output_type": "stream",
     "text": [
      "DEBUG:root:n = 250, acum[n] = 0.0 BASELINE =-499.516\n"
     ]
    },
    {
     "name": "stderr",
     "output_type": "stream",
     "text": [
      "n = 250, acum[n] = 0.0 BASELINE =-499.516\n"
     ]
    },
    {
     "name": "stdout",
     "output_type": "stream",
     "text": [
      "DEBUG:root:nm = 250\n"
     ]
    },
    {
     "name": "stderr",
     "output_type": "stream",
     "text": [
      "nm = 250\n"
     ]
    },
    {
     "name": "stdout",
     "output_type": "stream",
     "text": [
      "DEBUG:root:sblr.signal_r[0:10]= [-499. -499. -500. -500. -500. -500. -500. -500. -499. -499.]\n"
     ]
    },
    {
     "name": "stderr",
     "output_type": "stream",
     "text": [
      "sblr.signal_r[0:10]= [-499. -499. -500. -500. -500. -500. -500. -500. -499. -499.]\n"
     ]
    },
    {
     "name": "stdout",
     "output_type": "stream",
     "text": [
      "DEBUG:root:BASELINE =-499.516\n"
     ]
    },
    {
     "name": "stderr",
     "output_type": "stream",
     "text": [
      "BASELINE =-499.516\n"
     ]
    },
    {
     "name": "stdout",
     "output_type": "stream",
     "text": [
      "DEBUG:root:sblr.signal_r[0:10] - BASELINE= [ 0.516  0.516 -0.484 -0.484 -0.484 -0.484 -0.484 -0.484  0.516  0.516]\n"
     ]
    },
    {
     "name": "stderr",
     "output_type": "stream",
     "text": [
      "sblr.signal_r[0:10] - BASELINE= [ 0.516  0.516 -0.484 -0.484 -0.484 -0.484 -0.484 -0.484  0.516  0.516]\n"
     ]
    },
    {
     "name": "stdout",
     "output_type": "stream",
     "text": [
      "DEBUG:root:-->BLR: \n",
      "                     MAU_LEN=250\n",
      "                     thr1 = 5.376, thr2 = 0, thr3 = 1.792 =\n"
     ]
    },
    {
     "name": "stderr",
     "output_type": "stream",
     "text": [
      "-->BLR: \n",
      "                     MAU_LEN=250\n",
      "                     thr1 = 5.376, thr2 = 0, thr3 = 1.792 =\n"
     ]
    },
    {
     "name": "stdout",
     "output_type": "stream",
     "text": [
      "DEBUG:root:n = 250, acum[n] = 0.0 BASELINE =-499.496\n"
     ]
    },
    {
     "name": "stderr",
     "output_type": "stream",
     "text": [
      "n = 250, acum[n] = 0.0 BASELINE =-499.496\n"
     ]
    },
    {
     "name": "stdout",
     "output_type": "stream",
     "text": [
      "DEBUG:root:nm = 250\n"
     ]
    },
    {
     "name": "stderr",
     "output_type": "stream",
     "text": [
      "nm = 250\n"
     ]
    },
    {
     "name": "stdout",
     "output_type": "stream",
     "text": [
      "DEBUG:root:sblr.signal_r[0:10]= [-499. -499. -500. -500. -500. -500. -500. -500. -499. -499.]\n"
     ]
    },
    {
     "name": "stderr",
     "output_type": "stream",
     "text": [
      "sblr.signal_r[0:10]= [-499. -499. -500. -500. -500. -500. -500. -500. -499. -499.]\n"
     ]
    },
    {
     "name": "stdout",
     "output_type": "stream",
     "text": [
      "DEBUG:root:BASELINE =-499.496\n"
     ]
    },
    {
     "name": "stderr",
     "output_type": "stream",
     "text": [
      "BASELINE =-499.496\n"
     ]
    },
    {
     "name": "stdout",
     "output_type": "stream",
     "text": [
      "DEBUG:root:sblr.signal_r[0:10] - BASELINE= [ 0.496  0.496 -0.504 -0.504 -0.504 -0.504 -0.504 -0.504  0.496  0.496]\n"
     ]
    },
    {
     "name": "stderr",
     "output_type": "stream",
     "text": [
      "sblr.signal_r[0:10] - BASELINE= [ 0.496  0.496 -0.504 -0.504 -0.504 -0.504 -0.504 -0.504  0.496  0.496]\n"
     ]
    },
    {
     "name": "stdout",
     "output_type": "stream",
     "text": [
      "DEBUG:root:-->BLR: \n",
      "                     MAU_LEN=250\n",
      "                     thr1 = 5.376, thr2 = 0, thr3 = 1.792 =\n"
     ]
    },
    {
     "name": "stderr",
     "output_type": "stream",
     "text": [
      "-->BLR: \n",
      "                     MAU_LEN=250\n",
      "                     thr1 = 5.376, thr2 = 0, thr3 = 1.792 =\n"
     ]
    },
    {
     "name": "stdout",
     "output_type": "stream",
     "text": [
      "DEBUG:root:n = 250, acum[n] = 0.0 BASELINE =-499.5\n"
     ]
    },
    {
     "name": "stderr",
     "output_type": "stream",
     "text": [
      "n = 250, acum[n] = 0.0 BASELINE =-499.5\n"
     ]
    },
    {
     "name": "stdout",
     "output_type": "stream",
     "text": [
      "DEBUG:root:nm = 250\n"
     ]
    },
    {
     "name": "stderr",
     "output_type": "stream",
     "text": [
      "nm = 250\n"
     ]
    },
    {
     "name": "stdout",
     "output_type": "stream",
     "text": [
      "DEBUG:root:sblr.signal_r[0:10]= [-500. -499. -500. -499. -501. -500. -500. -499. -500. -498.]\n"
     ]
    },
    {
     "name": "stderr",
     "output_type": "stream",
     "text": [
      "sblr.signal_r[0:10]= [-500. -499. -500. -499. -501. -500. -500. -499. -500. -498.]\n"
     ]
    },
    {
     "name": "stdout",
     "output_type": "stream",
     "text": [
      "DEBUG:root:BASELINE =-499.5\n"
     ]
    },
    {
     "name": "stderr",
     "output_type": "stream",
     "text": [
      "BASELINE =-499.5\n"
     ]
    },
    {
     "name": "stdout",
     "output_type": "stream",
     "text": [
      "DEBUG:root:sblr.signal_r[0:10] - BASELINE= [-0.5  0.5 -0.5  0.5 -1.5 -0.5 -0.5  0.5 -0.5  1.5]\n"
     ]
    },
    {
     "name": "stderr",
     "output_type": "stream",
     "text": [
      "sblr.signal_r[0:10] - BASELINE= [-0.5  0.5 -0.5  0.5 -1.5 -0.5 -0.5  0.5 -0.5  1.5]\n"
     ]
    },
    {
     "name": "stdout",
     "output_type": "stream",
     "text": [
      "DEBUG:root:-->BLR: \n",
      "                     MAU_LEN=250\n",
      "                     thr1 = 5.376, thr2 = 0, thr3 = 1.792 =\n"
     ]
    },
    {
     "name": "stderr",
     "output_type": "stream",
     "text": [
      "-->BLR: \n",
      "                     MAU_LEN=250\n",
      "                     thr1 = 5.376, thr2 = 0, thr3 = 1.792 =\n"
     ]
    },
    {
     "name": "stdout",
     "output_type": "stream",
     "text": [
      "DEBUG:root:n = 250, acum[n] = 0.0 BASELINE =-499.508\n"
     ]
    },
    {
     "name": "stderr",
     "output_type": "stream",
     "text": [
      "n = 250, acum[n] = 0.0 BASELINE =-499.508\n"
     ]
    },
    {
     "name": "stdout",
     "output_type": "stream",
     "text": [
      "DEBUG:root:nm = 250\n"
     ]
    },
    {
     "name": "stderr",
     "output_type": "stream",
     "text": [
      "nm = 250\n"
     ]
    },
    {
     "name": "stdout",
     "output_type": "stream",
     "text": [
      "DEBUG:root:sblr.signal_r[0:10]= [-499. -500. -500. -500. -499. -499. -499. -500. -499. -499.]\n"
     ]
    },
    {
     "name": "stderr",
     "output_type": "stream",
     "text": [
      "sblr.signal_r[0:10]= [-499. -500. -500. -500. -499. -499. -499. -500. -499. -499.]\n"
     ]
    },
    {
     "name": "stdout",
     "output_type": "stream",
     "text": [
      "DEBUG:root:BASELINE =-499.508\n"
     ]
    },
    {
     "name": "stderr",
     "output_type": "stream",
     "text": [
      "BASELINE =-499.508\n"
     ]
    },
    {
     "name": "stdout",
     "output_type": "stream",
     "text": [
      "DEBUG:root:sblr.signal_r[0:10] - BASELINE= [ 0.508 -0.492 -0.492 -0.492  0.508  0.508  0.508 -0.492  0.508  0.508]\n"
     ]
    },
    {
     "name": "stderr",
     "output_type": "stream",
     "text": [
      "sblr.signal_r[0:10] - BASELINE= [ 0.508 -0.492 -0.492 -0.492  0.508  0.508  0.508 -0.492  0.508  0.508]\n"
     ]
    },
    {
     "name": "stdout",
     "output_type": "stream",
     "text": [
      "DEBUG:root:-->BLR: \n",
      "                     MAU_LEN=250\n",
      "                     thr1 = 5.376, thr2 = 0, thr3 = 1.792 =\n"
     ]
    },
    {
     "name": "stderr",
     "output_type": "stream",
     "text": [
      "-->BLR: \n",
      "                     MAU_LEN=250\n",
      "                     thr1 = 5.376, thr2 = 0, thr3 = 1.792 =\n"
     ]
    },
    {
     "name": "stdout",
     "output_type": "stream",
     "text": [
      "DEBUG:root:n = 250, acum[n] = 0.0 BASELINE =-499.552\n"
     ]
    },
    {
     "name": "stderr",
     "output_type": "stream",
     "text": [
      "n = 250, acum[n] = 0.0 BASELINE =-499.552\n"
     ]
    },
    {
     "name": "stdout",
     "output_type": "stream",
     "text": [
      "DEBUG:root:nm = 250\n"
     ]
    },
    {
     "name": "stderr",
     "output_type": "stream",
     "text": [
      "nm = 250\n"
     ]
    },
    {
     "name": "stdout",
     "output_type": "stream",
     "text": [
      "DEBUG:root:sblr.signal_r[0:10]= [-499. -499. -500. -499. -500. -499. -500. -499. -499. -500.]\n"
     ]
    },
    {
     "name": "stderr",
     "output_type": "stream",
     "text": [
      "sblr.signal_r[0:10]= [-499. -499. -500. -499. -500. -499. -500. -499. -499. -500.]\n"
     ]
    },
    {
     "name": "stdout",
     "output_type": "stream",
     "text": [
      "DEBUG:root:BASELINE =-499.552\n"
     ]
    },
    {
     "name": "stderr",
     "output_type": "stream",
     "text": [
      "BASELINE =-499.552\n"
     ]
    },
    {
     "name": "stdout",
     "output_type": "stream",
     "text": [
      "DEBUG:root:sblr.signal_r[0:10] - BASELINE= [ 0.552  0.552 -0.448  0.552 -0.448  0.552 -0.448  0.552  0.552 -0.448]\n"
     ]
    },
    {
     "name": "stderr",
     "output_type": "stream",
     "text": [
      "sblr.signal_r[0:10] - BASELINE= [ 0.552  0.552 -0.448  0.552 -0.448  0.552 -0.448  0.552  0.552 -0.448]\n"
     ]
    },
    {
     "name": "stdout",
     "output_type": "stream",
     "text": [
      "DEBUG:root:-->BLR: \n",
      "                     MAU_LEN=250\n",
      "                     thr1 = 5.376, thr2 = 0, thr3 = 1.792 =\n"
     ]
    },
    {
     "name": "stderr",
     "output_type": "stream",
     "text": [
      "-->BLR: \n",
      "                     MAU_LEN=250\n",
      "                     thr1 = 5.376, thr2 = 0, thr3 = 1.792 =\n"
     ]
    },
    {
     "name": "stdout",
     "output_type": "stream",
     "text": [
      "DEBUG:root:n = 250, acum[n] = 0.0 BASELINE =-499.56\n"
     ]
    },
    {
     "name": "stderr",
     "output_type": "stream",
     "text": [
      "n = 250, acum[n] = 0.0 BASELINE =-499.56\n"
     ]
    },
    {
     "name": "stdout",
     "output_type": "stream",
     "text": [
      "DEBUG:root:nm = 250\n"
     ]
    },
    {
     "name": "stderr",
     "output_type": "stream",
     "text": [
      "nm = 250\n"
     ]
    },
    {
     "name": "stdout",
     "output_type": "stream",
     "text": [
      "DEBUG:root:sblr.signal_r[0:10]= [-500. -499. -499. -499. -499. -499. -500. -500. -500. -499.]\n"
     ]
    },
    {
     "name": "stderr",
     "output_type": "stream",
     "text": [
      "sblr.signal_r[0:10]= [-500. -499. -499. -499. -499. -499. -500. -500. -500. -499.]\n"
     ]
    },
    {
     "name": "stdout",
     "output_type": "stream",
     "text": [
      "DEBUG:root:BASELINE =-499.56\n"
     ]
    },
    {
     "name": "stderr",
     "output_type": "stream",
     "text": [
      "BASELINE =-499.56\n"
     ]
    },
    {
     "name": "stdout",
     "output_type": "stream",
     "text": [
      "DEBUG:root:sblr.signal_r[0:10] - BASELINE= [-0.44  0.56  0.56  0.56  0.56  0.56 -0.44 -0.44 -0.44  0.56]\n"
     ]
    },
    {
     "name": "stderr",
     "output_type": "stream",
     "text": [
      "sblr.signal_r[0:10] - BASELINE= [-0.44  0.56  0.56  0.56  0.56  0.56 -0.44 -0.44 -0.44  0.56]\n"
     ]
    },
    {
     "name": "stdout",
     "output_type": "stream",
     "text": [
      "INFO:root:-->event number =3\n"
     ]
    },
    {
     "name": "stderr",
     "output_type": "stream",
     "text": [
      "-->event number =3\n"
     ]
    },
    {
     "name": "stdout",
     "output_type": "stream",
     "text": [
      "DEBUG:root:-->BLR: \n",
      "                     MAU_LEN=250\n",
      "                     thr1 = 5.376, thr2 = 0, thr3 = 1.792 =\n"
     ]
    },
    {
     "name": "stderr",
     "output_type": "stream",
     "text": [
      "-->BLR: \n",
      "                     MAU_LEN=250\n",
      "                     thr1 = 5.376, thr2 = 0, thr3 = 1.792 =\n"
     ]
    },
    {
     "name": "stdout",
     "output_type": "stream",
     "text": [
      "DEBUG:root:n = 250, acum[n] = 0.0 BASELINE =-499.436\n"
     ]
    },
    {
     "name": "stderr",
     "output_type": "stream",
     "text": [
      "n = 250, acum[n] = 0.0 BASELINE =-499.436\n"
     ]
    },
    {
     "name": "stdout",
     "output_type": "stream",
     "text": [
      "DEBUG:root:nm = 250\n"
     ]
    },
    {
     "name": "stderr",
     "output_type": "stream",
     "text": [
      "nm = 250\n"
     ]
    },
    {
     "name": "stdout",
     "output_type": "stream",
     "text": [
      "DEBUG:root:sblr.signal_r[0:10]= [-500. -499. -500. -499. -499. -499. -500. -499. -499. -499.]\n"
     ]
    },
    {
     "name": "stderr",
     "output_type": "stream",
     "text": [
      "sblr.signal_r[0:10]= [-500. -499. -500. -499. -499. -499. -500. -499. -499. -499.]\n"
     ]
    },
    {
     "name": "stdout",
     "output_type": "stream",
     "text": [
      "DEBUG:root:BASELINE =-499.436\n"
     ]
    },
    {
     "name": "stderr",
     "output_type": "stream",
     "text": [
      "BASELINE =-499.436\n"
     ]
    },
    {
     "name": "stdout",
     "output_type": "stream",
     "text": [
      "DEBUG:root:sblr.signal_r[0:10] - BASELINE= [-0.564  0.436 -0.564  0.436  0.436  0.436 -0.564  0.436  0.436  0.436]\n"
     ]
    },
    {
     "name": "stderr",
     "output_type": "stream",
     "text": [
      "sblr.signal_r[0:10] - BASELINE= [-0.564  0.436 -0.564  0.436  0.436  0.436 -0.564  0.436  0.436  0.436]\n"
     ]
    },
    {
     "name": "stdout",
     "output_type": "stream",
     "text": [
      "DEBUG:root:-->BLR: \n",
      "                     MAU_LEN=250\n",
      "                     thr1 = 5.376, thr2 = 0, thr3 = 1.792 =\n"
     ]
    },
    {
     "name": "stderr",
     "output_type": "stream",
     "text": [
      "-->BLR: \n",
      "                     MAU_LEN=250\n",
      "                     thr1 = 5.376, thr2 = 0, thr3 = 1.792 =\n"
     ]
    },
    {
     "name": "stdout",
     "output_type": "stream",
     "text": [
      "DEBUG:root:n = 250, acum[n] = 0.0 BASELINE =-499.448\n"
     ]
    },
    {
     "name": "stderr",
     "output_type": "stream",
     "text": [
      "n = 250, acum[n] = 0.0 BASELINE =-499.448\n"
     ]
    },
    {
     "name": "stdout",
     "output_type": "stream",
     "text": [
      "DEBUG:root:nm = 250\n"
     ]
    },
    {
     "name": "stderr",
     "output_type": "stream",
     "text": [
      "nm = 250\n"
     ]
    },
    {
     "name": "stdout",
     "output_type": "stream",
     "text": [
      "DEBUG:root:sblr.signal_r[0:10]= [-499. -499. -500. -499. -499. -499. -500. -500. -500. -500.]\n"
     ]
    },
    {
     "name": "stderr",
     "output_type": "stream",
     "text": [
      "sblr.signal_r[0:10]= [-499. -499. -500. -499. -499. -499. -500. -500. -500. -500.]\n"
     ]
    },
    {
     "name": "stdout",
     "output_type": "stream",
     "text": [
      "DEBUG:root:BASELINE =-499.448\n"
     ]
    },
    {
     "name": "stderr",
     "output_type": "stream",
     "text": [
      "BASELINE =-499.448\n"
     ]
    },
    {
     "name": "stdout",
     "output_type": "stream",
     "text": [
      "DEBUG:root:sblr.signal_r[0:10] - BASELINE= [ 0.448  0.448 -0.552  0.448  0.448  0.448 -0.552 -0.552 -0.552 -0.552]\n"
     ]
    },
    {
     "name": "stderr",
     "output_type": "stream",
     "text": [
      "sblr.signal_r[0:10] - BASELINE= [ 0.448  0.448 -0.552  0.448  0.448  0.448 -0.552 -0.552 -0.552 -0.552]\n"
     ]
    },
    {
     "name": "stdout",
     "output_type": "stream",
     "text": [
      "DEBUG:root:-->BLR: \n",
      "                     MAU_LEN=250\n",
      "                     thr1 = 5.376, thr2 = 0, thr3 = 1.792 =\n"
     ]
    },
    {
     "name": "stderr",
     "output_type": "stream",
     "text": [
      "-->BLR: \n",
      "                     MAU_LEN=250\n",
      "                     thr1 = 5.376, thr2 = 0, thr3 = 1.792 =\n"
     ]
    },
    {
     "name": "stdout",
     "output_type": "stream",
     "text": [
      "DEBUG:root:n = 250, acum[n] = 0.0 BASELINE =-499.492\n"
     ]
    },
    {
     "name": "stderr",
     "output_type": "stream",
     "text": [
      "n = 250, acum[n] = 0.0 BASELINE =-499.492\n"
     ]
    },
    {
     "name": "stdout",
     "output_type": "stream",
     "text": [
      "DEBUG:root:nm = 250\n"
     ]
    },
    {
     "name": "stderr",
     "output_type": "stream",
     "text": [
      "nm = 250\n"
     ]
    },
    {
     "name": "stdout",
     "output_type": "stream",
     "text": [
      "DEBUG:root:sblr.signal_r[0:10]= [-499. -500. -499. -500. -499. -500. -499. -500. -499. -500.]\n"
     ]
    },
    {
     "name": "stderr",
     "output_type": "stream",
     "text": [
      "sblr.signal_r[0:10]= [-499. -500. -499. -500. -499. -500. -499. -500. -499. -500.]\n"
     ]
    },
    {
     "name": "stdout",
     "output_type": "stream",
     "text": [
      "DEBUG:root:BASELINE =-499.492\n"
     ]
    },
    {
     "name": "stderr",
     "output_type": "stream",
     "text": [
      "BASELINE =-499.492\n"
     ]
    },
    {
     "name": "stdout",
     "output_type": "stream",
     "text": [
      "DEBUG:root:sblr.signal_r[0:10] - BASELINE= [ 0.492 -0.508  0.492 -0.508  0.492 -0.508  0.492 -0.508  0.492 -0.508]\n"
     ]
    },
    {
     "name": "stderr",
     "output_type": "stream",
     "text": [
      "sblr.signal_r[0:10] - BASELINE= [ 0.492 -0.508  0.492 -0.508  0.492 -0.508  0.492 -0.508  0.492 -0.508]\n"
     ]
    },
    {
     "name": "stdout",
     "output_type": "stream",
     "text": [
      "DEBUG:root:-->BLR: \n",
      "                     MAU_LEN=250\n",
      "                     thr1 = 5.376, thr2 = 0, thr3 = 1.792 =\n"
     ]
    },
    {
     "name": "stderr",
     "output_type": "stream",
     "text": [
      "-->BLR: \n",
      "                     MAU_LEN=250\n",
      "                     thr1 = 5.376, thr2 = 0, thr3 = 1.792 =\n"
     ]
    },
    {
     "name": "stdout",
     "output_type": "stream",
     "text": [
      "DEBUG:root:n = 250, acum[n] = 0.0 BASELINE =-499.496\n"
     ]
    },
    {
     "name": "stderr",
     "output_type": "stream",
     "text": [
      "n = 250, acum[n] = 0.0 BASELINE =-499.496\n"
     ]
    },
    {
     "name": "stdout",
     "output_type": "stream",
     "text": [
      "DEBUG:root:nm = 250\n"
     ]
    },
    {
     "name": "stderr",
     "output_type": "stream",
     "text": [
      "nm = 250\n"
     ]
    },
    {
     "name": "stdout",
     "output_type": "stream",
     "text": [
      "DEBUG:root:sblr.signal_r[0:10]= [-500. -500. -500. -499. -499. -499. -500. -499. -500. -500.]\n"
     ]
    },
    {
     "name": "stderr",
     "output_type": "stream",
     "text": [
      "sblr.signal_r[0:10]= [-500. -500. -500. -499. -499. -499. -500. -499. -500. -500.]\n"
     ]
    },
    {
     "name": "stdout",
     "output_type": "stream",
     "text": [
      "DEBUG:root:BASELINE =-499.496\n"
     ]
    },
    {
     "name": "stderr",
     "output_type": "stream",
     "text": [
      "BASELINE =-499.496\n"
     ]
    },
    {
     "name": "stdout",
     "output_type": "stream",
     "text": [
      "DEBUG:root:sblr.signal_r[0:10] - BASELINE= [-0.504 -0.504 -0.504  0.496  0.496  0.496 -0.504  0.496 -0.504 -0.504]\n"
     ]
    },
    {
     "name": "stderr",
     "output_type": "stream",
     "text": [
      "sblr.signal_r[0:10] - BASELINE= [-0.504 -0.504 -0.504  0.496  0.496  0.496 -0.504  0.496 -0.504 -0.504]\n"
     ]
    },
    {
     "name": "stdout",
     "output_type": "stream",
     "text": [
      "DEBUG:root:-->BLR: \n",
      "                     MAU_LEN=250\n",
      "                     thr1 = 5.376, thr2 = 0, thr3 = 1.792 =\n"
     ]
    },
    {
     "name": "stderr",
     "output_type": "stream",
     "text": [
      "-->BLR: \n",
      "                     MAU_LEN=250\n",
      "                     thr1 = 5.376, thr2 = 0, thr3 = 1.792 =\n"
     ]
    },
    {
     "name": "stdout",
     "output_type": "stream",
     "text": [
      "DEBUG:root:n = 250, acum[n] = 0.0 BASELINE =-499.512\n"
     ]
    },
    {
     "name": "stderr",
     "output_type": "stream",
     "text": [
      "n = 250, acum[n] = 0.0 BASELINE =-499.512\n"
     ]
    },
    {
     "name": "stdout",
     "output_type": "stream",
     "text": [
      "DEBUG:root:nm = 250\n"
     ]
    },
    {
     "name": "stderr",
     "output_type": "stream",
     "text": [
      "nm = 250\n"
     ]
    },
    {
     "name": "stdout",
     "output_type": "stream",
     "text": [
      "DEBUG:root:sblr.signal_r[0:10]= [-499. -500. -499. -499. -500. -500. -499. -500. -499. -499.]\n"
     ]
    },
    {
     "name": "stderr",
     "output_type": "stream",
     "text": [
      "sblr.signal_r[0:10]= [-499. -500. -499. -499. -500. -500. -499. -500. -499. -499.]\n"
     ]
    },
    {
     "name": "stdout",
     "output_type": "stream",
     "text": [
      "DEBUG:root:BASELINE =-499.512\n"
     ]
    },
    {
     "name": "stderr",
     "output_type": "stream",
     "text": [
      "BASELINE =-499.512\n"
     ]
    },
    {
     "name": "stdout",
     "output_type": "stream",
     "text": [
      "DEBUG:root:sblr.signal_r[0:10] - BASELINE= [ 0.512 -0.488  0.512  0.512 -0.488 -0.488  0.512 -0.488  0.512  0.512]\n"
     ]
    },
    {
     "name": "stderr",
     "output_type": "stream",
     "text": [
      "sblr.signal_r[0:10] - BASELINE= [ 0.512 -0.488  0.512  0.512 -0.488 -0.488  0.512 -0.488  0.512  0.512]\n"
     ]
    },
    {
     "name": "stdout",
     "output_type": "stream",
     "text": [
      "DEBUG:root:-->BLR: \n",
      "                     MAU_LEN=250\n",
      "                     thr1 = 5.376, thr2 = 0, thr3 = 1.792 =\n"
     ]
    },
    {
     "name": "stderr",
     "output_type": "stream",
     "text": [
      "-->BLR: \n",
      "                     MAU_LEN=250\n",
      "                     thr1 = 5.376, thr2 = 0, thr3 = 1.792 =\n"
     ]
    },
    {
     "name": "stdout",
     "output_type": "stream",
     "text": [
      "DEBUG:root:n = 250, acum[n] = 0.0 BASELINE =-499.496\n"
     ]
    },
    {
     "name": "stderr",
     "output_type": "stream",
     "text": [
      "n = 250, acum[n] = 0.0 BASELINE =-499.496\n"
     ]
    },
    {
     "name": "stdout",
     "output_type": "stream",
     "text": [
      "DEBUG:root:nm = 250\n"
     ]
    },
    {
     "name": "stderr",
     "output_type": "stream",
     "text": [
      "nm = 250\n"
     ]
    },
    {
     "name": "stdout",
     "output_type": "stream",
     "text": [
      "DEBUG:root:sblr.signal_r[0:10]= [-499. -500. -499. -499. -500. -500. -499. -500. -499. -500.]\n"
     ]
    },
    {
     "name": "stderr",
     "output_type": "stream",
     "text": [
      "sblr.signal_r[0:10]= [-499. -500. -499. -499. -500. -500. -499. -500. -499. -500.]\n"
     ]
    },
    {
     "name": "stdout",
     "output_type": "stream",
     "text": [
      "DEBUG:root:BASELINE =-499.496\n"
     ]
    },
    {
     "name": "stderr",
     "output_type": "stream",
     "text": [
      "BASELINE =-499.496\n"
     ]
    },
    {
     "name": "stdout",
     "output_type": "stream",
     "text": [
      "DEBUG:root:sblr.signal_r[0:10] - BASELINE= [ 0.496 -0.504  0.496  0.496 -0.504 -0.504  0.496 -0.504  0.496 -0.504]\n"
     ]
    },
    {
     "name": "stderr",
     "output_type": "stream",
     "text": [
      "sblr.signal_r[0:10] - BASELINE= [ 0.496 -0.504  0.496  0.496 -0.504 -0.504  0.496 -0.504  0.496 -0.504]\n"
     ]
    },
    {
     "name": "stdout",
     "output_type": "stream",
     "text": [
      "DEBUG:root:-->BLR: \n",
      "                     MAU_LEN=250\n",
      "                     thr1 = 5.376, thr2 = 0, thr3 = 1.792 =\n"
     ]
    },
    {
     "name": "stderr",
     "output_type": "stream",
     "text": [
      "-->BLR: \n",
      "                     MAU_LEN=250\n",
      "                     thr1 = 5.376, thr2 = 0, thr3 = 1.792 =\n"
     ]
    },
    {
     "name": "stdout",
     "output_type": "stream",
     "text": [
      "DEBUG:root:n = 250, acum[n] = 0.0 BASELINE =-499.456\n"
     ]
    },
    {
     "name": "stderr",
     "output_type": "stream",
     "text": [
      "n = 250, acum[n] = 0.0 BASELINE =-499.456\n"
     ]
    },
    {
     "name": "stdout",
     "output_type": "stream",
     "text": [
      "DEBUG:root:nm = 250\n"
     ]
    },
    {
     "name": "stderr",
     "output_type": "stream",
     "text": [
      "nm = 250\n"
     ]
    },
    {
     "name": "stdout",
     "output_type": "stream",
     "text": [
      "DEBUG:root:sblr.signal_r[0:10]= [-499. -500. -499. -499. -501. -499. -499. -499. -499. -499.]\n"
     ]
    },
    {
     "name": "stderr",
     "output_type": "stream",
     "text": [
      "sblr.signal_r[0:10]= [-499. -500. -499. -499. -501. -499. -499. -499. -499. -499.]\n"
     ]
    },
    {
     "name": "stdout",
     "output_type": "stream",
     "text": [
      "DEBUG:root:BASELINE =-499.456\n"
     ]
    },
    {
     "name": "stderr",
     "output_type": "stream",
     "text": [
      "BASELINE =-499.456\n"
     ]
    },
    {
     "name": "stdout",
     "output_type": "stream",
     "text": [
      "DEBUG:root:sblr.signal_r[0:10] - BASELINE= [ 0.456 -0.544  0.456  0.456 -1.544  0.456  0.456  0.456  0.456  0.456]\n"
     ]
    },
    {
     "name": "stderr",
     "output_type": "stream",
     "text": [
      "sblr.signal_r[0:10] - BASELINE= [ 0.456 -0.544  0.456  0.456 -1.544  0.456  0.456  0.456  0.456  0.456]\n"
     ]
    },
    {
     "name": "stdout",
     "output_type": "stream",
     "text": [
      "DEBUG:root:-->BLR: \n",
      "                     MAU_LEN=250\n",
      "                     thr1 = 5.376, thr2 = 0, thr3 = 1.792 =\n"
     ]
    },
    {
     "name": "stderr",
     "output_type": "stream",
     "text": [
      "-->BLR: \n",
      "                     MAU_LEN=250\n",
      "                     thr1 = 5.376, thr2 = 0, thr3 = 1.792 =\n"
     ]
    },
    {
     "name": "stdout",
     "output_type": "stream",
     "text": [
      "DEBUG:root:n = 250, acum[n] = 0.0 BASELINE =-499.468\n"
     ]
    },
    {
     "name": "stderr",
     "output_type": "stream",
     "text": [
      "n = 250, acum[n] = 0.0 BASELINE =-499.468\n"
     ]
    },
    {
     "name": "stdout",
     "output_type": "stream",
     "text": [
      "DEBUG:root:nm = 250\n"
     ]
    },
    {
     "name": "stderr",
     "output_type": "stream",
     "text": [
      "nm = 250\n"
     ]
    },
    {
     "name": "stdout",
     "output_type": "stream",
     "text": [
      "DEBUG:root:sblr.signal_r[0:10]= [-500. -499. -500. -500. -499. -499. -500. -500. -499. -499.]\n"
     ]
    },
    {
     "name": "stderr",
     "output_type": "stream",
     "text": [
      "sblr.signal_r[0:10]= [-500. -499. -500. -500. -499. -499. -500. -500. -499. -499.]\n"
     ]
    },
    {
     "name": "stdout",
     "output_type": "stream",
     "text": [
      "DEBUG:root:BASELINE =-499.468\n"
     ]
    },
    {
     "name": "stderr",
     "output_type": "stream",
     "text": [
      "BASELINE =-499.468\n"
     ]
    },
    {
     "name": "stdout",
     "output_type": "stream",
     "text": [
      "DEBUG:root:sblr.signal_r[0:10] - BASELINE= [-0.532  0.468 -0.532 -0.532  0.468  0.468 -0.532 -0.532  0.468  0.468]\n"
     ]
    },
    {
     "name": "stderr",
     "output_type": "stream",
     "text": [
      "sblr.signal_r[0:10] - BASELINE= [-0.532  0.468 -0.532 -0.532  0.468  0.468 -0.532 -0.532  0.468  0.468]\n"
     ]
    },
    {
     "name": "stdout",
     "output_type": "stream",
     "text": [
      "DEBUG:root:-->BLR: \n",
      "                     MAU_LEN=250\n",
      "                     thr1 = 5.376, thr2 = 0, thr3 = 1.792 =\n"
     ]
    },
    {
     "name": "stderr",
     "output_type": "stream",
     "text": [
      "-->BLR: \n",
      "                     MAU_LEN=250\n",
      "                     thr1 = 5.376, thr2 = 0, thr3 = 1.792 =\n"
     ]
    },
    {
     "name": "stdout",
     "output_type": "stream",
     "text": [
      "DEBUG:root:n = 250, acum[n] = 0.0 BASELINE =-499.46\n"
     ]
    },
    {
     "name": "stderr",
     "output_type": "stream",
     "text": [
      "n = 250, acum[n] = 0.0 BASELINE =-499.46\n"
     ]
    },
    {
     "name": "stdout",
     "output_type": "stream",
     "text": [
      "DEBUG:root:nm = 250\n"
     ]
    },
    {
     "name": "stderr",
     "output_type": "stream",
     "text": [
      "nm = 250\n"
     ]
    },
    {
     "name": "stdout",
     "output_type": "stream",
     "text": [
      "DEBUG:root:sblr.signal_r[0:10]= [-500. -499. -499. -500. -499. -500. -500. -500. -499. -499.]\n"
     ]
    },
    {
     "name": "stderr",
     "output_type": "stream",
     "text": [
      "sblr.signal_r[0:10]= [-500. -499. -499. -500. -499. -500. -500. -500. -499. -499.]\n"
     ]
    },
    {
     "name": "stdout",
     "output_type": "stream",
     "text": [
      "DEBUG:root:BASELINE =-499.46\n"
     ]
    },
    {
     "name": "stderr",
     "output_type": "stream",
     "text": [
      "BASELINE =-499.46\n"
     ]
    },
    {
     "name": "stdout",
     "output_type": "stream",
     "text": [
      "DEBUG:root:sblr.signal_r[0:10] - BASELINE= [-0.54  0.46  0.46 -0.54  0.46 -0.54 -0.54 -0.54  0.46  0.46]\n"
     ]
    },
    {
     "name": "stderr",
     "output_type": "stream",
     "text": [
      "sblr.signal_r[0:10] - BASELINE= [-0.54  0.46  0.46 -0.54  0.46 -0.54 -0.54 -0.54  0.46  0.46]\n"
     ]
    },
    {
     "name": "stdout",
     "output_type": "stream",
     "text": [
      "DEBUG:root:-->BLR: \n",
      "                     MAU_LEN=250\n",
      "                     thr1 = 5.376, thr2 = 0, thr3 = 1.792 =\n"
     ]
    },
    {
     "name": "stderr",
     "output_type": "stream",
     "text": [
      "-->BLR: \n",
      "                     MAU_LEN=250\n",
      "                     thr1 = 5.376, thr2 = 0, thr3 = 1.792 =\n"
     ]
    },
    {
     "name": "stdout",
     "output_type": "stream",
     "text": [
      "DEBUG:root:n = 250, acum[n] = 0.0 BASELINE =-499.464\n"
     ]
    },
    {
     "name": "stderr",
     "output_type": "stream",
     "text": [
      "n = 250, acum[n] = 0.0 BASELINE =-499.464\n"
     ]
    },
    {
     "name": "stdout",
     "output_type": "stream",
     "text": [
      "DEBUG:root:nm = 250\n"
     ]
    },
    {
     "name": "stderr",
     "output_type": "stream",
     "text": [
      "nm = 250\n"
     ]
    },
    {
     "name": "stdout",
     "output_type": "stream",
     "text": [
      "DEBUG:root:sblr.signal_r[0:10]= [-499. -499. -499. -500. -500. -500. -500. -499. -500. -499.]\n"
     ]
    },
    {
     "name": "stderr",
     "output_type": "stream",
     "text": [
      "sblr.signal_r[0:10]= [-499. -499. -499. -500. -500. -500. -500. -499. -500. -499.]\n"
     ]
    },
    {
     "name": "stdout",
     "output_type": "stream",
     "text": [
      "DEBUG:root:BASELINE =-499.464\n"
     ]
    },
    {
     "name": "stderr",
     "output_type": "stream",
     "text": [
      "BASELINE =-499.464\n"
     ]
    },
    {
     "name": "stdout",
     "output_type": "stream",
     "text": [
      "DEBUG:root:sblr.signal_r[0:10] - BASELINE= [ 0.464  0.464  0.464 -0.536 -0.536 -0.536 -0.536  0.464 -0.536  0.464]\n"
     ]
    },
    {
     "name": "stderr",
     "output_type": "stream",
     "text": [
      "sblr.signal_r[0:10] - BASELINE= [ 0.464  0.464  0.464 -0.536 -0.536 -0.536 -0.536  0.464 -0.536  0.464]\n"
     ]
    },
    {
     "name": "stdout",
     "output_type": "stream",
     "text": [
      "DEBUG:root:-->BLR: \n",
      "                     MAU_LEN=250\n",
      "                     thr1 = 5.376, thr2 = 0, thr3 = 1.792 =\n"
     ]
    },
    {
     "name": "stderr",
     "output_type": "stream",
     "text": [
      "-->BLR: \n",
      "                     MAU_LEN=250\n",
      "                     thr1 = 5.376, thr2 = 0, thr3 = 1.792 =\n"
     ]
    },
    {
     "name": "stdout",
     "output_type": "stream",
     "text": [
      "DEBUG:root:n = 250, acum[n] = 0.0 BASELINE =-499.504\n"
     ]
    },
    {
     "name": "stderr",
     "output_type": "stream",
     "text": [
      "n = 250, acum[n] = 0.0 BASELINE =-499.504\n"
     ]
    },
    {
     "name": "stdout",
     "output_type": "stream",
     "text": [
      "DEBUG:root:nm = 250\n"
     ]
    },
    {
     "name": "stderr",
     "output_type": "stream",
     "text": [
      "nm = 250\n"
     ]
    },
    {
     "name": "stdout",
     "output_type": "stream",
     "text": [
      "DEBUG:root:sblr.signal_r[0:10]= [-499. -499. -499. -500. -499. -499. -500. -499. -499. -500.]\n"
     ]
    },
    {
     "name": "stderr",
     "output_type": "stream",
     "text": [
      "sblr.signal_r[0:10]= [-499. -499. -499. -500. -499. -499. -500. -499. -499. -500.]\n"
     ]
    },
    {
     "name": "stdout",
     "output_type": "stream",
     "text": [
      "DEBUG:root:BASELINE =-499.504\n"
     ]
    },
    {
     "name": "stderr",
     "output_type": "stream",
     "text": [
      "BASELINE =-499.504\n"
     ]
    },
    {
     "name": "stdout",
     "output_type": "stream",
     "text": [
      "DEBUG:root:sblr.signal_r[0:10] - BASELINE= [ 0.504  0.504  0.504 -0.496  0.504  0.504 -0.496  0.504  0.504 -0.496]\n"
     ]
    },
    {
     "name": "stderr",
     "output_type": "stream",
     "text": [
      "sblr.signal_r[0:10] - BASELINE= [ 0.504  0.504  0.504 -0.496  0.504  0.504 -0.496  0.504  0.504 -0.496]\n"
     ]
    },
    {
     "name": "stdout",
     "output_type": "stream",
     "text": [
      "DEBUG:root:-->BLR: \n",
      "                     MAU_LEN=250\n",
      "                     thr1 = 5.376, thr2 = 0, thr3 = 1.792 =\n"
     ]
    },
    {
     "name": "stderr",
     "output_type": "stream",
     "text": [
      "-->BLR: \n",
      "                     MAU_LEN=250\n",
      "                     thr1 = 5.376, thr2 = 0, thr3 = 1.792 =\n"
     ]
    },
    {
     "name": "stdout",
     "output_type": "stream",
     "text": [
      "DEBUG:root:n = 250, acum[n] = 0.0 BASELINE =-499.532\n"
     ]
    },
    {
     "name": "stderr",
     "output_type": "stream",
     "text": [
      "n = 250, acum[n] = 0.0 BASELINE =-499.532\n"
     ]
    },
    {
     "name": "stdout",
     "output_type": "stream",
     "text": [
      "DEBUG:root:nm = 250\n"
     ]
    },
    {
     "name": "stderr",
     "output_type": "stream",
     "text": [
      "nm = 250\n"
     ]
    },
    {
     "name": "stdout",
     "output_type": "stream",
     "text": [
      "DEBUG:root:sblr.signal_r[0:10]= [-499. -499. -500. -500. -500. -500. -499. -499. -500. -499.]\n"
     ]
    },
    {
     "name": "stderr",
     "output_type": "stream",
     "text": [
      "sblr.signal_r[0:10]= [-499. -499. -500. -500. -500. -500. -499. -499. -500. -499.]\n"
     ]
    },
    {
     "name": "stdout",
     "output_type": "stream",
     "text": [
      "DEBUG:root:BASELINE =-499.532\n"
     ]
    },
    {
     "name": "stderr",
     "output_type": "stream",
     "text": [
      "BASELINE =-499.532\n"
     ]
    },
    {
     "name": "stdout",
     "output_type": "stream",
     "text": [
      "DEBUG:root:sblr.signal_r[0:10] - BASELINE= [ 0.532  0.532 -0.468 -0.468 -0.468 -0.468  0.532  0.532 -0.468  0.532]\n"
     ]
    },
    {
     "name": "stderr",
     "output_type": "stream",
     "text": [
      "sblr.signal_r[0:10] - BASELINE= [ 0.532  0.532 -0.468 -0.468 -0.468 -0.468  0.532  0.532 -0.468  0.532]\n"
     ]
    },
    {
     "name": "stdout",
     "output_type": "stream",
     "text": [
      "INFO:root:-->event number =4\n"
     ]
    },
    {
     "name": "stderr",
     "output_type": "stream",
     "text": [
      "-->event number =4\n"
     ]
    },
    {
     "name": "stdout",
     "output_type": "stream",
     "text": [
      "DEBUG:root:-->BLR: \n",
      "                     MAU_LEN=250\n",
      "                     thr1 = 5.376, thr2 = 0, thr3 = 1.792 =\n"
     ]
    },
    {
     "name": "stderr",
     "output_type": "stream",
     "text": [
      "-->BLR: \n",
      "                     MAU_LEN=250\n",
      "                     thr1 = 5.376, thr2 = 0, thr3 = 1.792 =\n"
     ]
    },
    {
     "name": "stdout",
     "output_type": "stream",
     "text": [
      "DEBUG:root:n = 250, acum[n] = 0.0 BASELINE =-499.528\n"
     ]
    },
    {
     "name": "stderr",
     "output_type": "stream",
     "text": [
      "n = 250, acum[n] = 0.0 BASELINE =-499.528\n"
     ]
    },
    {
     "name": "stdout",
     "output_type": "stream",
     "text": [
      "DEBUG:root:nm = 250\n"
     ]
    },
    {
     "name": "stderr",
     "output_type": "stream",
     "text": [
      "nm = 250\n"
     ]
    },
    {
     "name": "stdout",
     "output_type": "stream",
     "text": [
      "DEBUG:root:sblr.signal_r[0:10]= [-500. -499. -499. -499. -500. -500. -500. -499. -500. -500.]\n"
     ]
    },
    {
     "name": "stderr",
     "output_type": "stream",
     "text": [
      "sblr.signal_r[0:10]= [-500. -499. -499. -499. -500. -500. -500. -499. -500. -500.]\n"
     ]
    },
    {
     "name": "stdout",
     "output_type": "stream",
     "text": [
      "DEBUG:root:BASELINE =-499.528\n"
     ]
    },
    {
     "name": "stderr",
     "output_type": "stream",
     "text": [
      "BASELINE =-499.528\n"
     ]
    },
    {
     "name": "stdout",
     "output_type": "stream",
     "text": [
      "DEBUG:root:sblr.signal_r[0:10] - BASELINE= [-0.472  0.528  0.528  0.528 -0.472 -0.472 -0.472  0.528 -0.472 -0.472]\n"
     ]
    },
    {
     "name": "stderr",
     "output_type": "stream",
     "text": [
      "sblr.signal_r[0:10] - BASELINE= [-0.472  0.528  0.528  0.528 -0.472 -0.472 -0.472  0.528 -0.472 -0.472]\n"
     ]
    },
    {
     "name": "stdout",
     "output_type": "stream",
     "text": [
      "DEBUG:root:-->BLR: \n",
      "                     MAU_LEN=250\n",
      "                     thr1 = 5.376, thr2 = 0, thr3 = 1.792 =\n"
     ]
    },
    {
     "name": "stderr",
     "output_type": "stream",
     "text": [
      "-->BLR: \n",
      "                     MAU_LEN=250\n",
      "                     thr1 = 5.376, thr2 = 0, thr3 = 1.792 =\n"
     ]
    },
    {
     "name": "stdout",
     "output_type": "stream",
     "text": [
      "DEBUG:root:n = 250, acum[n] = 0.0 BASELINE =-499.464\n"
     ]
    },
    {
     "name": "stderr",
     "output_type": "stream",
     "text": [
      "n = 250, acum[n] = 0.0 BASELINE =-499.464\n"
     ]
    },
    {
     "name": "stdout",
     "output_type": "stream",
     "text": [
      "DEBUG:root:nm = 250\n"
     ]
    },
    {
     "name": "stderr",
     "output_type": "stream",
     "text": [
      "nm = 250\n"
     ]
    },
    {
     "name": "stdout",
     "output_type": "stream",
     "text": [
      "DEBUG:root:sblr.signal_r[0:10]= [-500. -499. -499. -500. -499. -500. -498. -500. -500. -499.]\n"
     ]
    },
    {
     "name": "stderr",
     "output_type": "stream",
     "text": [
      "sblr.signal_r[0:10]= [-500. -499. -499. -500. -499. -500. -498. -500. -500. -499.]\n"
     ]
    },
    {
     "name": "stdout",
     "output_type": "stream",
     "text": [
      "DEBUG:root:BASELINE =-499.464\n"
     ]
    },
    {
     "name": "stderr",
     "output_type": "stream",
     "text": [
      "BASELINE =-499.464\n"
     ]
    },
    {
     "name": "stdout",
     "output_type": "stream",
     "text": [
      "DEBUG:root:sblr.signal_r[0:10] - BASELINE= [-0.536  0.464  0.464 -0.536  0.464 -0.536  1.464 -0.536 -0.536  0.464]\n"
     ]
    },
    {
     "name": "stderr",
     "output_type": "stream",
     "text": [
      "sblr.signal_r[0:10] - BASELINE= [-0.536  0.464  0.464 -0.536  0.464 -0.536  1.464 -0.536 -0.536  0.464]\n"
     ]
    },
    {
     "name": "stdout",
     "output_type": "stream",
     "text": [
      "DEBUG:root:-->BLR: \n",
      "                     MAU_LEN=250\n",
      "                     thr1 = 5.376, thr2 = 0, thr3 = 1.792 =\n"
     ]
    },
    {
     "name": "stderr",
     "output_type": "stream",
     "text": [
      "-->BLR: \n",
      "                     MAU_LEN=250\n",
      "                     thr1 = 5.376, thr2 = 0, thr3 = 1.792 =\n"
     ]
    },
    {
     "name": "stdout",
     "output_type": "stream",
     "text": [
      "DEBUG:root:n = 250, acum[n] = 0.0 BASELINE =-499.508\n"
     ]
    },
    {
     "name": "stderr",
     "output_type": "stream",
     "text": [
      "n = 250, acum[n] = 0.0 BASELINE =-499.508\n"
     ]
    },
    {
     "name": "stdout",
     "output_type": "stream",
     "text": [
      "DEBUG:root:nm = 250\n"
     ]
    },
    {
     "name": "stderr",
     "output_type": "stream",
     "text": [
      "nm = 250\n"
     ]
    },
    {
     "name": "stdout",
     "output_type": "stream",
     "text": [
      "DEBUG:root:sblr.signal_r[0:10]= [-499. -500. -499. -499. -499. -500. -500. -499. -500. -500.]\n"
     ]
    },
    {
     "name": "stderr",
     "output_type": "stream",
     "text": [
      "sblr.signal_r[0:10]= [-499. -500. -499. -499. -499. -500. -500. -499. -500. -500.]\n"
     ]
    },
    {
     "name": "stdout",
     "output_type": "stream",
     "text": [
      "DEBUG:root:BASELINE =-499.508\n"
     ]
    },
    {
     "name": "stderr",
     "output_type": "stream",
     "text": [
      "BASELINE =-499.508\n"
     ]
    },
    {
     "name": "stdout",
     "output_type": "stream",
     "text": [
      "DEBUG:root:sblr.signal_r[0:10] - BASELINE= [ 0.508 -0.492  0.508  0.508  0.508 -0.492 -0.492  0.508 -0.492 -0.492]\n"
     ]
    },
    {
     "name": "stderr",
     "output_type": "stream",
     "text": [
      "sblr.signal_r[0:10] - BASELINE= [ 0.508 -0.492  0.508  0.508  0.508 -0.492 -0.492  0.508 -0.492 -0.492]\n"
     ]
    },
    {
     "name": "stdout",
     "output_type": "stream",
     "text": [
      "DEBUG:root:-->BLR: \n",
      "                     MAU_LEN=250\n",
      "                     thr1 = 5.376, thr2 = 0, thr3 = 1.792 =\n"
     ]
    },
    {
     "name": "stderr",
     "output_type": "stream",
     "text": [
      "-->BLR: \n",
      "                     MAU_LEN=250\n",
      "                     thr1 = 5.376, thr2 = 0, thr3 = 1.792 =\n"
     ]
    },
    {
     "name": "stdout",
     "output_type": "stream",
     "text": [
      "DEBUG:root:n = 250, acum[n] = 0.0 BASELINE =-499.488\n"
     ]
    },
    {
     "name": "stderr",
     "output_type": "stream",
     "text": [
      "n = 250, acum[n] = 0.0 BASELINE =-499.488\n"
     ]
    },
    {
     "name": "stdout",
     "output_type": "stream",
     "text": [
      "DEBUG:root:nm = 250\n"
     ]
    },
    {
     "name": "stderr",
     "output_type": "stream",
     "text": [
      "nm = 250\n"
     ]
    },
    {
     "name": "stdout",
     "output_type": "stream",
     "text": [
      "DEBUG:root:sblr.signal_r[0:10]= [-499. -499. -500. -500. -500. -500. -499. -499. -499. -500.]\n"
     ]
    },
    {
     "name": "stderr",
     "output_type": "stream",
     "text": [
      "sblr.signal_r[0:10]= [-499. -499. -500. -500. -500. -500. -499. -499. -499. -500.]\n"
     ]
    },
    {
     "name": "stdout",
     "output_type": "stream",
     "text": [
      "DEBUG:root:BASELINE =-499.488\n"
     ]
    },
    {
     "name": "stderr",
     "output_type": "stream",
     "text": [
      "BASELINE =-499.488\n"
     ]
    },
    {
     "name": "stdout",
     "output_type": "stream",
     "text": [
      "DEBUG:root:sblr.signal_r[0:10] - BASELINE= [ 0.488  0.488 -0.512 -0.512 -0.512 -0.512  0.488  0.488  0.488 -0.512]\n"
     ]
    },
    {
     "name": "stderr",
     "output_type": "stream",
     "text": [
      "sblr.signal_r[0:10] - BASELINE= [ 0.488  0.488 -0.512 -0.512 -0.512 -0.512  0.488  0.488  0.488 -0.512]\n"
     ]
    },
    {
     "name": "stdout",
     "output_type": "stream",
     "text": [
      "DEBUG:root:-->BLR: \n",
      "                     MAU_LEN=250\n",
      "                     thr1 = 5.376, thr2 = 0, thr3 = 1.792 =\n"
     ]
    },
    {
     "name": "stderr",
     "output_type": "stream",
     "text": [
      "-->BLR: \n",
      "                     MAU_LEN=250\n",
      "                     thr1 = 5.376, thr2 = 0, thr3 = 1.792 =\n"
     ]
    },
    {
     "name": "stdout",
     "output_type": "stream",
     "text": [
      "DEBUG:root:n = 250, acum[n] = 0.0 BASELINE =-499.516\n"
     ]
    },
    {
     "name": "stderr",
     "output_type": "stream",
     "text": [
      "n = 250, acum[n] = 0.0 BASELINE =-499.516\n"
     ]
    },
    {
     "name": "stdout",
     "output_type": "stream",
     "text": [
      "DEBUG:root:nm = 250\n"
     ]
    },
    {
     "name": "stderr",
     "output_type": "stream",
     "text": [
      "nm = 250\n"
     ]
    },
    {
     "name": "stdout",
     "output_type": "stream",
     "text": [
      "DEBUG:root:sblr.signal_r[0:10]= [-500. -500. -500. -500. -500. -499. -499. -499. -499. -499.]\n"
     ]
    },
    {
     "name": "stderr",
     "output_type": "stream",
     "text": [
      "sblr.signal_r[0:10]= [-500. -500. -500. -500. -500. -499. -499. -499. -499. -499.]\n"
     ]
    },
    {
     "name": "stdout",
     "output_type": "stream",
     "text": [
      "DEBUG:root:BASELINE =-499.516\n"
     ]
    },
    {
     "name": "stderr",
     "output_type": "stream",
     "text": [
      "BASELINE =-499.516\n"
     ]
    },
    {
     "name": "stdout",
     "output_type": "stream",
     "text": [
      "DEBUG:root:sblr.signal_r[0:10] - BASELINE= [-0.484 -0.484 -0.484 -0.484 -0.484  0.516  0.516  0.516  0.516  0.516]\n"
     ]
    },
    {
     "name": "stderr",
     "output_type": "stream",
     "text": [
      "sblr.signal_r[0:10] - BASELINE= [-0.484 -0.484 -0.484 -0.484 -0.484  0.516  0.516  0.516  0.516  0.516]\n"
     ]
    },
    {
     "name": "stdout",
     "output_type": "stream",
     "text": [
      "DEBUG:root:-->BLR: \n",
      "                     MAU_LEN=250\n",
      "                     thr1 = 5.376, thr2 = 0, thr3 = 1.792 =\n"
     ]
    },
    {
     "name": "stderr",
     "output_type": "stream",
     "text": [
      "-->BLR: \n",
      "                     MAU_LEN=250\n",
      "                     thr1 = 5.376, thr2 = 0, thr3 = 1.792 =\n"
     ]
    },
    {
     "name": "stdout",
     "output_type": "stream",
     "text": [
      "DEBUG:root:n = 250, acum[n] = 0.0 BASELINE =-499.412\n"
     ]
    },
    {
     "name": "stderr",
     "output_type": "stream",
     "text": [
      "n = 250, acum[n] = 0.0 BASELINE =-499.412\n"
     ]
    },
    {
     "name": "stdout",
     "output_type": "stream",
     "text": [
      "DEBUG:root:nm = 250\n"
     ]
    },
    {
     "name": "stderr",
     "output_type": "stream",
     "text": [
      "nm = 250\n"
     ]
    },
    {
     "name": "stdout",
     "output_type": "stream",
     "text": [
      "DEBUG:root:sblr.signal_r[0:10]= [-500. -499. -499. -499. -499. -499. -499. -499. -499. -500.]\n"
     ]
    },
    {
     "name": "stderr",
     "output_type": "stream",
     "text": [
      "sblr.signal_r[0:10]= [-500. -499. -499. -499. -499. -499. -499. -499. -499. -500.]\n"
     ]
    },
    {
     "name": "stdout",
     "output_type": "stream",
     "text": [
      "DEBUG:root:BASELINE =-499.412\n"
     ]
    },
    {
     "name": "stderr",
     "output_type": "stream",
     "text": [
      "BASELINE =-499.412\n"
     ]
    },
    {
     "name": "stdout",
     "output_type": "stream",
     "text": [
      "DEBUG:root:sblr.signal_r[0:10] - BASELINE= [-0.588  0.412  0.412  0.412  0.412  0.412  0.412  0.412  0.412 -0.588]\n"
     ]
    },
    {
     "name": "stderr",
     "output_type": "stream",
     "text": [
      "sblr.signal_r[0:10] - BASELINE= [-0.588  0.412  0.412  0.412  0.412  0.412  0.412  0.412  0.412 -0.588]\n"
     ]
    },
    {
     "name": "stdout",
     "output_type": "stream",
     "text": [
      "DEBUG:root:-->BLR: \n",
      "                     MAU_LEN=250\n",
      "                     thr1 = 5.376, thr2 = 0, thr3 = 1.792 =\n"
     ]
    },
    {
     "name": "stderr",
     "output_type": "stream",
     "text": [
      "-->BLR: \n",
      "                     MAU_LEN=250\n",
      "                     thr1 = 5.376, thr2 = 0, thr3 = 1.792 =\n"
     ]
    },
    {
     "name": "stdout",
     "output_type": "stream",
     "text": [
      "DEBUG:root:n = 250, acum[n] = 0.0 BASELINE =-499.516\n"
     ]
    },
    {
     "name": "stderr",
     "output_type": "stream",
     "text": [
      "n = 250, acum[n] = 0.0 BASELINE =-499.516\n"
     ]
    },
    {
     "name": "stdout",
     "output_type": "stream",
     "text": [
      "DEBUG:root:nm = 250\n"
     ]
    },
    {
     "name": "stderr",
     "output_type": "stream",
     "text": [
      "nm = 250\n"
     ]
    },
    {
     "name": "stdout",
     "output_type": "stream",
     "text": [
      "DEBUG:root:sblr.signal_r[0:10]= [-499. -499. -499. -500. -499. -499. -500. -499. -499. -499.]\n"
     ]
    },
    {
     "name": "stderr",
     "output_type": "stream",
     "text": [
      "sblr.signal_r[0:10]= [-499. -499. -499. -500. -499. -499. -500. -499. -499. -499.]\n"
     ]
    },
    {
     "name": "stdout",
     "output_type": "stream",
     "text": [
      "DEBUG:root:BASELINE =-499.516\n"
     ]
    },
    {
     "name": "stderr",
     "output_type": "stream",
     "text": [
      "BASELINE =-499.516\n"
     ]
    },
    {
     "name": "stdout",
     "output_type": "stream",
     "text": [
      "DEBUG:root:sblr.signal_r[0:10] - BASELINE= [ 0.516  0.516  0.516 -0.484  0.516  0.516 -0.484  0.516  0.516  0.516]\n"
     ]
    },
    {
     "name": "stderr",
     "output_type": "stream",
     "text": [
      "sblr.signal_r[0:10] - BASELINE= [ 0.516  0.516  0.516 -0.484  0.516  0.516 -0.484  0.516  0.516  0.516]\n"
     ]
    },
    {
     "name": "stdout",
     "output_type": "stream",
     "text": [
      "DEBUG:root:-->BLR: \n",
      "                     MAU_LEN=250\n",
      "                     thr1 = 5.376, thr2 = 0, thr3 = 1.792 =\n"
     ]
    },
    {
     "name": "stderr",
     "output_type": "stream",
     "text": [
      "-->BLR: \n",
      "                     MAU_LEN=250\n",
      "                     thr1 = 5.376, thr2 = 0, thr3 = 1.792 =\n"
     ]
    },
    {
     "name": "stdout",
     "output_type": "stream",
     "text": [
      "DEBUG:root:n = 250, acum[n] = 0.0 BASELINE =-499.504\n"
     ]
    },
    {
     "name": "stderr",
     "output_type": "stream",
     "text": [
      "n = 250, acum[n] = 0.0 BASELINE =-499.504\n"
     ]
    },
    {
     "name": "stdout",
     "output_type": "stream",
     "text": [
      "DEBUG:root:nm = 250\n"
     ]
    },
    {
     "name": "stderr",
     "output_type": "stream",
     "text": [
      "nm = 250\n"
     ]
    },
    {
     "name": "stdout",
     "output_type": "stream",
     "text": [
      "DEBUG:root:sblr.signal_r[0:10]= [-500. -499. -500. -500. -499. -499. -500. -500. -499. -499.]\n"
     ]
    },
    {
     "name": "stderr",
     "output_type": "stream",
     "text": [
      "sblr.signal_r[0:10]= [-500. -499. -500. -500. -499. -499. -500. -500. -499. -499.]\n"
     ]
    },
    {
     "name": "stdout",
     "output_type": "stream",
     "text": [
      "DEBUG:root:BASELINE =-499.504\n"
     ]
    },
    {
     "name": "stderr",
     "output_type": "stream",
     "text": [
      "BASELINE =-499.504\n"
     ]
    },
    {
     "name": "stdout",
     "output_type": "stream",
     "text": [
      "DEBUG:root:sblr.signal_r[0:10] - BASELINE= [-0.496  0.504 -0.496 -0.496  0.504  0.504 -0.496 -0.496  0.504  0.504]\n"
     ]
    },
    {
     "name": "stderr",
     "output_type": "stream",
     "text": [
      "sblr.signal_r[0:10] - BASELINE= [-0.496  0.504 -0.496 -0.496  0.504  0.504 -0.496 -0.496  0.504  0.504]\n"
     ]
    },
    {
     "name": "stdout",
     "output_type": "stream",
     "text": [
      "DEBUG:root:-->BLR: \n",
      "                     MAU_LEN=250\n",
      "                     thr1 = 5.376, thr2 = 0, thr3 = 1.792 =\n"
     ]
    },
    {
     "name": "stderr",
     "output_type": "stream",
     "text": [
      "-->BLR: \n",
      "                     MAU_LEN=250\n",
      "                     thr1 = 5.376, thr2 = 0, thr3 = 1.792 =\n"
     ]
    },
    {
     "name": "stdout",
     "output_type": "stream",
     "text": [
      "DEBUG:root:n = 250, acum[n] = 0.0 BASELINE =-499.508\n"
     ]
    },
    {
     "name": "stderr",
     "output_type": "stream",
     "text": [
      "n = 250, acum[n] = 0.0 BASELINE =-499.508\n"
     ]
    },
    {
     "name": "stdout",
     "output_type": "stream",
     "text": [
      "DEBUG:root:nm = 250\n"
     ]
    },
    {
     "name": "stderr",
     "output_type": "stream",
     "text": [
      "nm = 250\n"
     ]
    },
    {
     "name": "stdout",
     "output_type": "stream",
     "text": [
      "DEBUG:root:sblr.signal_r[0:10]= [-500. -500. -500. -499. -499. -499. -500. -499. -499. -499.]\n"
     ]
    },
    {
     "name": "stderr",
     "output_type": "stream",
     "text": [
      "sblr.signal_r[0:10]= [-500. -500. -500. -499. -499. -499. -500. -499. -499. -499.]\n"
     ]
    },
    {
     "name": "stdout",
     "output_type": "stream",
     "text": [
      "DEBUG:root:BASELINE =-499.508\n"
     ]
    },
    {
     "name": "stderr",
     "output_type": "stream",
     "text": [
      "BASELINE =-499.508\n"
     ]
    },
    {
     "name": "stdout",
     "output_type": "stream",
     "text": [
      "DEBUG:root:sblr.signal_r[0:10] - BASELINE= [-0.492 -0.492 -0.492  0.508  0.508  0.508 -0.492  0.508  0.508  0.508]\n"
     ]
    },
    {
     "name": "stderr",
     "output_type": "stream",
     "text": [
      "sblr.signal_r[0:10] - BASELINE= [-0.492 -0.492 -0.492  0.508  0.508  0.508 -0.492  0.508  0.508  0.508]\n"
     ]
    },
    {
     "name": "stdout",
     "output_type": "stream",
     "text": [
      "DEBUG:root:-->BLR: \n",
      "                     MAU_LEN=250\n",
      "                     thr1 = 5.376, thr2 = 0, thr3 = 1.792 =\n"
     ]
    },
    {
     "name": "stderr",
     "output_type": "stream",
     "text": [
      "-->BLR: \n",
      "                     MAU_LEN=250\n",
      "                     thr1 = 5.376, thr2 = 0, thr3 = 1.792 =\n"
     ]
    },
    {
     "name": "stdout",
     "output_type": "stream",
     "text": [
      "DEBUG:root:n = 250, acum[n] = 0.0 BASELINE =-499.476\n"
     ]
    },
    {
     "name": "stderr",
     "output_type": "stream",
     "text": [
      "n = 250, acum[n] = 0.0 BASELINE =-499.476\n"
     ]
    },
    {
     "name": "stdout",
     "output_type": "stream",
     "text": [
      "DEBUG:root:nm = 250\n"
     ]
    },
    {
     "name": "stderr",
     "output_type": "stream",
     "text": [
      "nm = 250\n"
     ]
    },
    {
     "name": "stdout",
     "output_type": "stream",
     "text": [
      "DEBUG:root:sblr.signal_r[0:10]= [-500. -500. -500. -499. -499. -499. -500. -500. -500. -500.]\n"
     ]
    },
    {
     "name": "stderr",
     "output_type": "stream",
     "text": [
      "sblr.signal_r[0:10]= [-500. -500. -500. -499. -499. -499. -500. -500. -500. -500.]\n"
     ]
    },
    {
     "name": "stdout",
     "output_type": "stream",
     "text": [
      "DEBUG:root:BASELINE =-499.476\n"
     ]
    },
    {
     "name": "stderr",
     "output_type": "stream",
     "text": [
      "BASELINE =-499.476\n"
     ]
    },
    {
     "name": "stdout",
     "output_type": "stream",
     "text": [
      "DEBUG:root:sblr.signal_r[0:10] - BASELINE= [-0.524 -0.524 -0.524  0.476  0.476  0.476 -0.524 -0.524 -0.524 -0.524]\n"
     ]
    },
    {
     "name": "stderr",
     "output_type": "stream",
     "text": [
      "sblr.signal_r[0:10] - BASELINE= [-0.524 -0.524 -0.524  0.476  0.476  0.476 -0.524 -0.524 -0.524 -0.524]\n"
     ]
    },
    {
     "name": "stdout",
     "output_type": "stream",
     "text": [
      "DEBUG:root:-->BLR: \n",
      "                     MAU_LEN=250\n",
      "                     thr1 = 5.376, thr2 = 0, thr3 = 1.792 =\n"
     ]
    },
    {
     "name": "stderr",
     "output_type": "stream",
     "text": [
      "-->BLR: \n",
      "                     MAU_LEN=250\n",
      "                     thr1 = 5.376, thr2 = 0, thr3 = 1.792 =\n"
     ]
    },
    {
     "name": "stdout",
     "output_type": "stream",
     "text": [
      "DEBUG:root:n = 250, acum[n] = 0.0 BASELINE =-499.48\n"
     ]
    },
    {
     "name": "stderr",
     "output_type": "stream",
     "text": [
      "n = 250, acum[n] = 0.0 BASELINE =-499.48\n"
     ]
    },
    {
     "name": "stdout",
     "output_type": "stream",
     "text": [
      "DEBUG:root:nm = 250\n"
     ]
    },
    {
     "name": "stderr",
     "output_type": "stream",
     "text": [
      "nm = 250\n"
     ]
    },
    {
     "name": "stdout",
     "output_type": "stream",
     "text": [
      "DEBUG:root:sblr.signal_r[0:10]= [-499. -500. -499. -499. -499. -498. -500. -499. -499. -499.]\n"
     ]
    },
    {
     "name": "stderr",
     "output_type": "stream",
     "text": [
      "sblr.signal_r[0:10]= [-499. -500. -499. -499. -499. -498. -500. -499. -499. -499.]\n"
     ]
    },
    {
     "name": "stdout",
     "output_type": "stream",
     "text": [
      "DEBUG:root:BASELINE =-499.48\n"
     ]
    },
    {
     "name": "stderr",
     "output_type": "stream",
     "text": [
      "BASELINE =-499.48\n"
     ]
    },
    {
     "name": "stdout",
     "output_type": "stream",
     "text": [
      "DEBUG:root:sblr.signal_r[0:10] - BASELINE= [ 0.48 -0.52  0.48  0.48  0.48  1.48 -0.52  0.48  0.48  0.48]\n"
     ]
    },
    {
     "name": "stderr",
     "output_type": "stream",
     "text": [
      "sblr.signal_r[0:10] - BASELINE= [ 0.48 -0.52  0.48  0.48  0.48  1.48 -0.52  0.48  0.48  0.48]\n"
     ]
    },
    {
     "name": "stdout",
     "output_type": "stream",
     "text": [
      "DEBUG:root:-->BLR: \n",
      "                     MAU_LEN=250\n",
      "                     thr1 = 5.376, thr2 = 0, thr3 = 1.792 =\n"
     ]
    },
    {
     "name": "stderr",
     "output_type": "stream",
     "text": [
      "-->BLR: \n",
      "                     MAU_LEN=250\n",
      "                     thr1 = 5.376, thr2 = 0, thr3 = 1.792 =\n"
     ]
    },
    {
     "name": "stdout",
     "output_type": "stream",
     "text": [
      "DEBUG:root:n = 250, acum[n] = 0.0 BASELINE =-499.568\n"
     ]
    },
    {
     "name": "stderr",
     "output_type": "stream",
     "text": [
      "n = 250, acum[n] = 0.0 BASELINE =-499.568\n"
     ]
    },
    {
     "name": "stdout",
     "output_type": "stream",
     "text": [
      "DEBUG:root:nm = 250\n"
     ]
    },
    {
     "name": "stderr",
     "output_type": "stream",
     "text": [
      "nm = 250\n"
     ]
    },
    {
     "name": "stdout",
     "output_type": "stream",
     "text": [
      "DEBUG:root:sblr.signal_r[0:10]= [-500. -500. -500. -500. -499. -499. -499. -499. -500. -499.]\n"
     ]
    },
    {
     "name": "stderr",
     "output_type": "stream",
     "text": [
      "sblr.signal_r[0:10]= [-500. -500. -500. -500. -499. -499. -499. -499. -500. -499.]\n"
     ]
    },
    {
     "name": "stdout",
     "output_type": "stream",
     "text": [
      "DEBUG:root:BASELINE =-499.568\n"
     ]
    },
    {
     "name": "stderr",
     "output_type": "stream",
     "text": [
      "BASELINE =-499.568\n"
     ]
    },
    {
     "name": "stdout",
     "output_type": "stream",
     "text": [
      "DEBUG:root:sblr.signal_r[0:10] - BASELINE= [-0.432 -0.432 -0.432 -0.432  0.568  0.568  0.568  0.568 -0.432  0.568]\n"
     ]
    },
    {
     "name": "stderr",
     "output_type": "stream",
     "text": [
      "sblr.signal_r[0:10] - BASELINE= [-0.432 -0.432 -0.432 -0.432  0.568  0.568  0.568  0.568 -0.432  0.568]\n"
     ]
    },
    {
     "name": "stdout",
     "output_type": "stream",
     "text": [
      "INFO:root:-->event number =5\n"
     ]
    },
    {
     "name": "stderr",
     "output_type": "stream",
     "text": [
      "-->event number =5\n"
     ]
    },
    {
     "name": "stdout",
     "output_type": "stream",
     "text": [
      "DEBUG:root:-->BLR: \n",
      "                     MAU_LEN=250\n",
      "                     thr1 = 5.376, thr2 = 0, thr3 = 1.792 =\n"
     ]
    },
    {
     "name": "stderr",
     "output_type": "stream",
     "text": [
      "-->BLR: \n",
      "                     MAU_LEN=250\n",
      "                     thr1 = 5.376, thr2 = 0, thr3 = 1.792 =\n"
     ]
    },
    {
     "name": "stdout",
     "output_type": "stream",
     "text": [
      "DEBUG:root:n = 250, acum[n] = 0.0 BASELINE =-499.484\n"
     ]
    },
    {
     "name": "stderr",
     "output_type": "stream",
     "text": [
      "n = 250, acum[n] = 0.0 BASELINE =-499.484\n"
     ]
    },
    {
     "name": "stdout",
     "output_type": "stream",
     "text": [
      "DEBUG:root:nm = 250\n"
     ]
    },
    {
     "name": "stderr",
     "output_type": "stream",
     "text": [
      "nm = 250\n"
     ]
    },
    {
     "name": "stdout",
     "output_type": "stream",
     "text": [
      "DEBUG:root:sblr.signal_r[0:10]= [-499. -499. -500. -499. -499. -500. -500. -500. -499. -499.]\n"
     ]
    },
    {
     "name": "stderr",
     "output_type": "stream",
     "text": [
      "sblr.signal_r[0:10]= [-499. -499. -500. -499. -499. -500. -500. -500. -499. -499.]\n"
     ]
    },
    {
     "name": "stdout",
     "output_type": "stream",
     "text": [
      "DEBUG:root:BASELINE =-499.484\n"
     ]
    },
    {
     "name": "stderr",
     "output_type": "stream",
     "text": [
      "BASELINE =-499.484\n"
     ]
    },
    {
     "name": "stdout",
     "output_type": "stream",
     "text": [
      "DEBUG:root:sblr.signal_r[0:10] - BASELINE= [ 0.484  0.484 -0.516  0.484  0.484 -0.516 -0.516 -0.516  0.484  0.484]\n"
     ]
    },
    {
     "name": "stderr",
     "output_type": "stream",
     "text": [
      "sblr.signal_r[0:10] - BASELINE= [ 0.484  0.484 -0.516  0.484  0.484 -0.516 -0.516 -0.516  0.484  0.484]\n"
     ]
    },
    {
     "name": "stdout",
     "output_type": "stream",
     "text": [
      "DEBUG:root:-->BLR: \n",
      "                     MAU_LEN=250\n",
      "                     thr1 = 5.376, thr2 = 0, thr3 = 1.792 =\n"
     ]
    },
    {
     "name": "stderr",
     "output_type": "stream",
     "text": [
      "-->BLR: \n",
      "                     MAU_LEN=250\n",
      "                     thr1 = 5.376, thr2 = 0, thr3 = 1.792 =\n"
     ]
    },
    {
     "name": "stdout",
     "output_type": "stream",
     "text": [
      "DEBUG:root:n = 250, acum[n] = 0.0 BASELINE =-499.508\n"
     ]
    },
    {
     "name": "stderr",
     "output_type": "stream",
     "text": [
      "n = 250, acum[n] = 0.0 BASELINE =-499.508\n"
     ]
    },
    {
     "name": "stdout",
     "output_type": "stream",
     "text": [
      "DEBUG:root:nm = 250\n"
     ]
    },
    {
     "name": "stderr",
     "output_type": "stream",
     "text": [
      "nm = 250\n"
     ]
    },
    {
     "name": "stdout",
     "output_type": "stream",
     "text": [
      "DEBUG:root:sblr.signal_r[0:10]= [-499. -499. -499. -499. -499. -500. -500. -500. -500. -500.]\n"
     ]
    },
    {
     "name": "stderr",
     "output_type": "stream",
     "text": [
      "sblr.signal_r[0:10]= [-499. -499. -499. -499. -499. -500. -500. -500. -500. -500.]\n"
     ]
    },
    {
     "name": "stdout",
     "output_type": "stream",
     "text": [
      "DEBUG:root:BASELINE =-499.508\n"
     ]
    },
    {
     "name": "stderr",
     "output_type": "stream",
     "text": [
      "BASELINE =-499.508\n"
     ]
    },
    {
     "name": "stdout",
     "output_type": "stream",
     "text": [
      "DEBUG:root:sblr.signal_r[0:10] - BASELINE= [ 0.508  0.508  0.508  0.508  0.508 -0.492 -0.492 -0.492 -0.492 -0.492]\n"
     ]
    },
    {
     "name": "stderr",
     "output_type": "stream",
     "text": [
      "sblr.signal_r[0:10] - BASELINE= [ 0.508  0.508  0.508  0.508  0.508 -0.492 -0.492 -0.492 -0.492 -0.492]\n"
     ]
    },
    {
     "name": "stdout",
     "output_type": "stream",
     "text": [
      "DEBUG:root:-->BLR: \n",
      "                     MAU_LEN=250\n",
      "                     thr1 = 5.376, thr2 = 0, thr3 = 1.792 =\n"
     ]
    },
    {
     "name": "stderr",
     "output_type": "stream",
     "text": [
      "-->BLR: \n",
      "                     MAU_LEN=250\n",
      "                     thr1 = 5.376, thr2 = 0, thr3 = 1.792 =\n"
     ]
    },
    {
     "name": "stdout",
     "output_type": "stream",
     "text": [
      "DEBUG:root:n = 250, acum[n] = 0.0 BASELINE =-499.496\n"
     ]
    },
    {
     "name": "stderr",
     "output_type": "stream",
     "text": [
      "n = 250, acum[n] = 0.0 BASELINE =-499.496\n"
     ]
    },
    {
     "name": "stdout",
     "output_type": "stream",
     "text": [
      "DEBUG:root:nm = 250\n"
     ]
    },
    {
     "name": "stderr",
     "output_type": "stream",
     "text": [
      "nm = 250\n"
     ]
    },
    {
     "name": "stdout",
     "output_type": "stream",
     "text": [
      "DEBUG:root:sblr.signal_r[0:10]= [-500. -500. -500. -499. -499. -499. -500. -499. -499. -499.]\n"
     ]
    },
    {
     "name": "stderr",
     "output_type": "stream",
     "text": [
      "sblr.signal_r[0:10]= [-500. -500. -500. -499. -499. -499. -500. -499. -499. -499.]\n"
     ]
    },
    {
     "name": "stdout",
     "output_type": "stream",
     "text": [
      "DEBUG:root:BASELINE =-499.496\n"
     ]
    },
    {
     "name": "stderr",
     "output_type": "stream",
     "text": [
      "BASELINE =-499.496\n"
     ]
    },
    {
     "name": "stdout",
     "output_type": "stream",
     "text": [
      "DEBUG:root:sblr.signal_r[0:10] - BASELINE= [-0.504 -0.504 -0.504  0.496  0.496  0.496 -0.504  0.496  0.496  0.496]\n"
     ]
    },
    {
     "name": "stderr",
     "output_type": "stream",
     "text": [
      "sblr.signal_r[0:10] - BASELINE= [-0.504 -0.504 -0.504  0.496  0.496  0.496 -0.504  0.496  0.496  0.496]\n"
     ]
    },
    {
     "name": "stdout",
     "output_type": "stream",
     "text": [
      "DEBUG:root:-->BLR: \n",
      "                     MAU_LEN=250\n",
      "                     thr1 = 5.376, thr2 = 0, thr3 = 1.792 =\n"
     ]
    },
    {
     "name": "stderr",
     "output_type": "stream",
     "text": [
      "-->BLR: \n",
      "                     MAU_LEN=250\n",
      "                     thr1 = 5.376, thr2 = 0, thr3 = 1.792 =\n"
     ]
    },
    {
     "name": "stdout",
     "output_type": "stream",
     "text": [
      "DEBUG:root:n = 250, acum[n] = 0.0 BASELINE =-499.456\n"
     ]
    },
    {
     "name": "stderr",
     "output_type": "stream",
     "text": [
      "n = 250, acum[n] = 0.0 BASELINE =-499.456\n"
     ]
    },
    {
     "name": "stdout",
     "output_type": "stream",
     "text": [
      "DEBUG:root:nm = 250\n"
     ]
    },
    {
     "name": "stderr",
     "output_type": "stream",
     "text": [
      "nm = 250\n"
     ]
    },
    {
     "name": "stdout",
     "output_type": "stream",
     "text": [
      "DEBUG:root:sblr.signal_r[0:10]= [-499. -499. -500. -500. -500. -499. -500. -499. -499. -499.]\n"
     ]
    },
    {
     "name": "stderr",
     "output_type": "stream",
     "text": [
      "sblr.signal_r[0:10]= [-499. -499. -500. -500. -500. -499. -500. -499. -499. -499.]\n"
     ]
    },
    {
     "name": "stdout",
     "output_type": "stream",
     "text": [
      "DEBUG:root:BASELINE =-499.456\n"
     ]
    },
    {
     "name": "stderr",
     "output_type": "stream",
     "text": [
      "BASELINE =-499.456\n"
     ]
    },
    {
     "name": "stdout",
     "output_type": "stream",
     "text": [
      "DEBUG:root:sblr.signal_r[0:10] - BASELINE= [ 0.456  0.456 -0.544 -0.544 -0.544  0.456 -0.544  0.456  0.456  0.456]\n"
     ]
    },
    {
     "name": "stderr",
     "output_type": "stream",
     "text": [
      "sblr.signal_r[0:10] - BASELINE= [ 0.456  0.456 -0.544 -0.544 -0.544  0.456 -0.544  0.456  0.456  0.456]\n"
     ]
    },
    {
     "name": "stdout",
     "output_type": "stream",
     "text": [
      "DEBUG:root:-->BLR: \n",
      "                     MAU_LEN=250\n",
      "                     thr1 = 5.376, thr2 = 0, thr3 = 1.792 =\n"
     ]
    },
    {
     "name": "stderr",
     "output_type": "stream",
     "text": [
      "-->BLR: \n",
      "                     MAU_LEN=250\n",
      "                     thr1 = 5.376, thr2 = 0, thr3 = 1.792 =\n"
     ]
    },
    {
     "name": "stdout",
     "output_type": "stream",
     "text": [
      "DEBUG:root:n = 250, acum[n] = 0.0 BASELINE =-499.468\n"
     ]
    },
    {
     "name": "stderr",
     "output_type": "stream",
     "text": [
      "n = 250, acum[n] = 0.0 BASELINE =-499.468\n"
     ]
    },
    {
     "name": "stdout",
     "output_type": "stream",
     "text": [
      "DEBUG:root:nm = 250\n"
     ]
    },
    {
     "name": "stderr",
     "output_type": "stream",
     "text": [
      "nm = 250\n"
     ]
    },
    {
     "name": "stdout",
     "output_type": "stream",
     "text": [
      "DEBUG:root:sblr.signal_r[0:10]= [-499. -500. -500. -500. -499. -500. -499. -500. -499. -500.]\n"
     ]
    },
    {
     "name": "stderr",
     "output_type": "stream",
     "text": [
      "sblr.signal_r[0:10]= [-499. -500. -500. -500. -499. -500. -499. -500. -499. -500.]\n"
     ]
    },
    {
     "name": "stdout",
     "output_type": "stream",
     "text": [
      "DEBUG:root:BASELINE =-499.468\n"
     ]
    },
    {
     "name": "stderr",
     "output_type": "stream",
     "text": [
      "BASELINE =-499.468\n"
     ]
    },
    {
     "name": "stdout",
     "output_type": "stream",
     "text": [
      "DEBUG:root:sblr.signal_r[0:10] - BASELINE= [ 0.468 -0.532 -0.532 -0.532  0.468 -0.532  0.468 -0.532  0.468 -0.532]\n"
     ]
    },
    {
     "name": "stderr",
     "output_type": "stream",
     "text": [
      "sblr.signal_r[0:10] - BASELINE= [ 0.468 -0.532 -0.532 -0.532  0.468 -0.532  0.468 -0.532  0.468 -0.532]\n"
     ]
    },
    {
     "name": "stdout",
     "output_type": "stream",
     "text": [
      "DEBUG:root:-->BLR: \n",
      "                     MAU_LEN=250\n",
      "                     thr1 = 5.376, thr2 = 0, thr3 = 1.792 =\n"
     ]
    },
    {
     "name": "stderr",
     "output_type": "stream",
     "text": [
      "-->BLR: \n",
      "                     MAU_LEN=250\n",
      "                     thr1 = 5.376, thr2 = 0, thr3 = 1.792 =\n"
     ]
    },
    {
     "name": "stdout",
     "output_type": "stream",
     "text": [
      "DEBUG:root:n = 250, acum[n] = 0.0 BASELINE =-499.488\n"
     ]
    },
    {
     "name": "stderr",
     "output_type": "stream",
     "text": [
      "n = 250, acum[n] = 0.0 BASELINE =-499.488\n"
     ]
    },
    {
     "name": "stdout",
     "output_type": "stream",
     "text": [
      "DEBUG:root:nm = 250\n"
     ]
    },
    {
     "name": "stderr",
     "output_type": "stream",
     "text": [
      "nm = 250\n"
     ]
    },
    {
     "name": "stdout",
     "output_type": "stream",
     "text": [
      "DEBUG:root:sblr.signal_r[0:10]= [-499. -500. -499. -500. -499. -499. -499. -500. -500. -499.]\n"
     ]
    },
    {
     "name": "stderr",
     "output_type": "stream",
     "text": [
      "sblr.signal_r[0:10]= [-499. -500. -499. -500. -499. -499. -499. -500. -500. -499.]\n"
     ]
    },
    {
     "name": "stdout",
     "output_type": "stream",
     "text": [
      "DEBUG:root:BASELINE =-499.488\n"
     ]
    },
    {
     "name": "stderr",
     "output_type": "stream",
     "text": [
      "BASELINE =-499.488\n"
     ]
    },
    {
     "name": "stdout",
     "output_type": "stream",
     "text": [
      "DEBUG:root:sblr.signal_r[0:10] - BASELINE= [ 0.488 -0.512  0.488 -0.512  0.488  0.488  0.488 -0.512 -0.512  0.488]\n"
     ]
    },
    {
     "name": "stderr",
     "output_type": "stream",
     "text": [
      "sblr.signal_r[0:10] - BASELINE= [ 0.488 -0.512  0.488 -0.512  0.488  0.488  0.488 -0.512 -0.512  0.488]\n"
     ]
    },
    {
     "name": "stdout",
     "output_type": "stream",
     "text": [
      "DEBUG:root:-->BLR: \n",
      "                     MAU_LEN=250\n",
      "                     thr1 = 5.376, thr2 = 0, thr3 = 1.792 =\n"
     ]
    },
    {
     "name": "stderr",
     "output_type": "stream",
     "text": [
      "-->BLR: \n",
      "                     MAU_LEN=250\n",
      "                     thr1 = 5.376, thr2 = 0, thr3 = 1.792 =\n"
     ]
    },
    {
     "name": "stdout",
     "output_type": "stream",
     "text": [
      "DEBUG:root:n = 250, acum[n] = 0.0 BASELINE =-499.484\n"
     ]
    },
    {
     "name": "stderr",
     "output_type": "stream",
     "text": [
      "n = 250, acum[n] = 0.0 BASELINE =-499.484\n"
     ]
    },
    {
     "name": "stdout",
     "output_type": "stream",
     "text": [
      "DEBUG:root:nm = 250\n"
     ]
    },
    {
     "name": "stderr",
     "output_type": "stream",
     "text": [
      "nm = 250\n"
     ]
    },
    {
     "name": "stdout",
     "output_type": "stream",
     "text": [
      "DEBUG:root:sblr.signal_r[0:10]= [-499. -499. -500. -499. -500. -499. -499. -499. -499. -500.]\n"
     ]
    },
    {
     "name": "stderr",
     "output_type": "stream",
     "text": [
      "sblr.signal_r[0:10]= [-499. -499. -500. -499. -500. -499. -499. -499. -499. -500.]\n"
     ]
    },
    {
     "name": "stdout",
     "output_type": "stream",
     "text": [
      "DEBUG:root:BASELINE =-499.484\n"
     ]
    },
    {
     "name": "stderr",
     "output_type": "stream",
     "text": [
      "BASELINE =-499.484\n"
     ]
    },
    {
     "name": "stdout",
     "output_type": "stream",
     "text": [
      "DEBUG:root:sblr.signal_r[0:10] - BASELINE= [ 0.484  0.484 -0.516  0.484 -0.516  0.484  0.484  0.484  0.484 -0.516]\n"
     ]
    },
    {
     "name": "stderr",
     "output_type": "stream",
     "text": [
      "sblr.signal_r[0:10] - BASELINE= [ 0.484  0.484 -0.516  0.484 -0.516  0.484  0.484  0.484  0.484 -0.516]\n"
     ]
    },
    {
     "name": "stdout",
     "output_type": "stream",
     "text": [
      "DEBUG:root:-->BLR: \n",
      "                     MAU_LEN=250\n",
      "                     thr1 = 5.376, thr2 = 0, thr3 = 1.792 =\n"
     ]
    },
    {
     "name": "stderr",
     "output_type": "stream",
     "text": [
      "-->BLR: \n",
      "                     MAU_LEN=250\n",
      "                     thr1 = 5.376, thr2 = 0, thr3 = 1.792 =\n"
     ]
    },
    {
     "name": "stdout",
     "output_type": "stream",
     "text": [
      "DEBUG:root:n = 250, acum[n] = 0.0 BASELINE =-499.504\n"
     ]
    },
    {
     "name": "stderr",
     "output_type": "stream",
     "text": [
      "n = 250, acum[n] = 0.0 BASELINE =-499.504\n"
     ]
    },
    {
     "name": "stdout",
     "output_type": "stream",
     "text": [
      "DEBUG:root:nm = 250\n"
     ]
    },
    {
     "name": "stderr",
     "output_type": "stream",
     "text": [
      "nm = 250\n"
     ]
    },
    {
     "name": "stdout",
     "output_type": "stream",
     "text": [
      "DEBUG:root:sblr.signal_r[0:10]= [-500. -500. -500. -499. -500. -500. -500. -499. -501. -500.]\n"
     ]
    },
    {
     "name": "stderr",
     "output_type": "stream",
     "text": [
      "sblr.signal_r[0:10]= [-500. -500. -500. -499. -500. -500. -500. -499. -501. -500.]\n"
     ]
    },
    {
     "name": "stdout",
     "output_type": "stream",
     "text": [
      "DEBUG:root:BASELINE =-499.504\n"
     ]
    },
    {
     "name": "stderr",
     "output_type": "stream",
     "text": [
      "BASELINE =-499.504\n"
     ]
    },
    {
     "name": "stdout",
     "output_type": "stream",
     "text": [
      "DEBUG:root:sblr.signal_r[0:10] - BASELINE= [-0.496 -0.496 -0.496  0.504 -0.496 -0.496 -0.496  0.504 -1.496 -0.496]\n"
     ]
    },
    {
     "name": "stderr",
     "output_type": "stream",
     "text": [
      "sblr.signal_r[0:10] - BASELINE= [-0.496 -0.496 -0.496  0.504 -0.496 -0.496 -0.496  0.504 -1.496 -0.496]\n"
     ]
    },
    {
     "name": "stdout",
     "output_type": "stream",
     "text": [
      "DEBUG:root:-->BLR: \n",
      "                     MAU_LEN=250\n",
      "                     thr1 = 5.376, thr2 = 0, thr3 = 1.792 =\n"
     ]
    },
    {
     "name": "stderr",
     "output_type": "stream",
     "text": [
      "-->BLR: \n",
      "                     MAU_LEN=250\n",
      "                     thr1 = 5.376, thr2 = 0, thr3 = 1.792 =\n"
     ]
    },
    {
     "name": "stdout",
     "output_type": "stream",
     "text": [
      "DEBUG:root:n = 250, acum[n] = 0.0 BASELINE =-499.464\n"
     ]
    },
    {
     "name": "stderr",
     "output_type": "stream",
     "text": [
      "n = 250, acum[n] = 0.0 BASELINE =-499.464\n"
     ]
    },
    {
     "name": "stdout",
     "output_type": "stream",
     "text": [
      "DEBUG:root:nm = 250\n"
     ]
    },
    {
     "name": "stderr",
     "output_type": "stream",
     "text": [
      "nm = 250\n"
     ]
    },
    {
     "name": "stdout",
     "output_type": "stream",
     "text": [
      "DEBUG:root:sblr.signal_r[0:10]= [-499. -499. -499. -500. -499. -499. -500. -499. -499. -500.]\n"
     ]
    },
    {
     "name": "stderr",
     "output_type": "stream",
     "text": [
      "sblr.signal_r[0:10]= [-499. -499. -499. -500. -499. -499. -500. -499. -499. -500.]\n"
     ]
    },
    {
     "name": "stdout",
     "output_type": "stream",
     "text": [
      "DEBUG:root:BASELINE =-499.464\n"
     ]
    },
    {
     "name": "stderr",
     "output_type": "stream",
     "text": [
      "BASELINE =-499.464\n"
     ]
    },
    {
     "name": "stdout",
     "output_type": "stream",
     "text": [
      "DEBUG:root:sblr.signal_r[0:10] - BASELINE= [ 0.464  0.464  0.464 -0.536  0.464  0.464 -0.536  0.464  0.464 -0.536]\n"
     ]
    },
    {
     "name": "stderr",
     "output_type": "stream",
     "text": [
      "sblr.signal_r[0:10] - BASELINE= [ 0.464  0.464  0.464 -0.536  0.464  0.464 -0.536  0.464  0.464 -0.536]\n"
     ]
    },
    {
     "name": "stdout",
     "output_type": "stream",
     "text": [
      "DEBUG:root:-->BLR: \n",
      "                     MAU_LEN=250\n",
      "                     thr1 = 5.376, thr2 = 0, thr3 = 1.792 =\n"
     ]
    },
    {
     "name": "stderr",
     "output_type": "stream",
     "text": [
      "-->BLR: \n",
      "                     MAU_LEN=250\n",
      "                     thr1 = 5.376, thr2 = 0, thr3 = 1.792 =\n"
     ]
    },
    {
     "name": "stdout",
     "output_type": "stream",
     "text": [
      "DEBUG:root:n = 250, acum[n] = 0.0 BASELINE =-499.484\n"
     ]
    },
    {
     "name": "stderr",
     "output_type": "stream",
     "text": [
      "n = 250, acum[n] = 0.0 BASELINE =-499.484\n"
     ]
    },
    {
     "name": "stdout",
     "output_type": "stream",
     "text": [
      "DEBUG:root:nm = 250\n"
     ]
    },
    {
     "name": "stderr",
     "output_type": "stream",
     "text": [
      "nm = 250\n"
     ]
    },
    {
     "name": "stdout",
     "output_type": "stream",
     "text": [
      "DEBUG:root:sblr.signal_r[0:10]= [-500. -500. -500. -500. -499. -500. -500. -500. -499. -500.]\n"
     ]
    },
    {
     "name": "stderr",
     "output_type": "stream",
     "text": [
      "sblr.signal_r[0:10]= [-500. -500. -500. -500. -499. -500. -500. -500. -499. -500.]\n"
     ]
    },
    {
     "name": "stdout",
     "output_type": "stream",
     "text": [
      "DEBUG:root:BASELINE =-499.484\n"
     ]
    },
    {
     "name": "stderr",
     "output_type": "stream",
     "text": [
      "BASELINE =-499.484\n"
     ]
    },
    {
     "name": "stdout",
     "output_type": "stream",
     "text": [
      "DEBUG:root:sblr.signal_r[0:10] - BASELINE= [-0.516 -0.516 -0.516 -0.516  0.484 -0.516 -0.516 -0.516  0.484 -0.516]\n"
     ]
    },
    {
     "name": "stderr",
     "output_type": "stream",
     "text": [
      "sblr.signal_r[0:10] - BASELINE= [-0.516 -0.516 -0.516 -0.516  0.484 -0.516 -0.516 -0.516  0.484 -0.516]\n"
     ]
    },
    {
     "name": "stdout",
     "output_type": "stream",
     "text": [
      "DEBUG:root:-->BLR: \n",
      "                     MAU_LEN=250\n",
      "                     thr1 = 5.376, thr2 = 0, thr3 = 1.792 =\n"
     ]
    },
    {
     "name": "stderr",
     "output_type": "stream",
     "text": [
      "-->BLR: \n",
      "                     MAU_LEN=250\n",
      "                     thr1 = 5.376, thr2 = 0, thr3 = 1.792 =\n"
     ]
    },
    {
     "name": "stdout",
     "output_type": "stream",
     "text": [
      "DEBUG:root:n = 250, acum[n] = 0.0 BASELINE =-499.492\n"
     ]
    },
    {
     "name": "stderr",
     "output_type": "stream",
     "text": [
      "n = 250, acum[n] = 0.0 BASELINE =-499.492\n"
     ]
    },
    {
     "name": "stdout",
     "output_type": "stream",
     "text": [
      "DEBUG:root:nm = 250\n"
     ]
    },
    {
     "name": "stderr",
     "output_type": "stream",
     "text": [
      "nm = 250\n"
     ]
    },
    {
     "name": "stdout",
     "output_type": "stream",
     "text": [
      "DEBUG:root:sblr.signal_r[0:10]= [-499. -500. -499. -500. -499. -499. -500. -499. -499. -500.]\n"
     ]
    },
    {
     "name": "stderr",
     "output_type": "stream",
     "text": [
      "sblr.signal_r[0:10]= [-499. -500. -499. -500. -499. -499. -500. -499. -499. -500.]\n"
     ]
    },
    {
     "name": "stdout",
     "output_type": "stream",
     "text": [
      "DEBUG:root:BASELINE =-499.492\n"
     ]
    },
    {
     "name": "stderr",
     "output_type": "stream",
     "text": [
      "BASELINE =-499.492\n"
     ]
    },
    {
     "name": "stdout",
     "output_type": "stream",
     "text": [
      "DEBUG:root:sblr.signal_r[0:10] - BASELINE= [ 0.492 -0.508  0.492 -0.508  0.492  0.492 -0.508  0.492  0.492 -0.508]\n"
     ]
    },
    {
     "name": "stderr",
     "output_type": "stream",
     "text": [
      "sblr.signal_r[0:10] - BASELINE= [ 0.492 -0.508  0.492 -0.508  0.492  0.492 -0.508  0.492  0.492 -0.508]\n"
     ]
    },
    {
     "name": "stdout",
     "output_type": "stream",
     "text": [
      "DEBUG:root:-->BLR: \n",
      "                     MAU_LEN=250\n",
      "                     thr1 = 5.376, thr2 = 0, thr3 = 1.792 =\n"
     ]
    },
    {
     "name": "stderr",
     "output_type": "stream",
     "text": [
      "-->BLR: \n",
      "                     MAU_LEN=250\n",
      "                     thr1 = 5.376, thr2 = 0, thr3 = 1.792 =\n"
     ]
    },
    {
     "name": "stdout",
     "output_type": "stream",
     "text": [
      "DEBUG:root:n = 250, acum[n] = 0.0 BASELINE =-499.428\n"
     ]
    },
    {
     "name": "stderr",
     "output_type": "stream",
     "text": [
      "n = 250, acum[n] = 0.0 BASELINE =-499.428\n"
     ]
    },
    {
     "name": "stdout",
     "output_type": "stream",
     "text": [
      "DEBUG:root:nm = 250\n"
     ]
    },
    {
     "name": "stderr",
     "output_type": "stream",
     "text": [
      "nm = 250\n"
     ]
    },
    {
     "name": "stdout",
     "output_type": "stream",
     "text": [
      "DEBUG:root:sblr.signal_r[0:10]= [-499. -500. -499. -499. -499. -499. -500. -500. -500. -500.]\n"
     ]
    },
    {
     "name": "stderr",
     "output_type": "stream",
     "text": [
      "sblr.signal_r[0:10]= [-499. -500. -499. -499. -499. -499. -500. -500. -500. -500.]\n"
     ]
    },
    {
     "name": "stdout",
     "output_type": "stream",
     "text": [
      "DEBUG:root:BASELINE =-499.428\n"
     ]
    },
    {
     "name": "stderr",
     "output_type": "stream",
     "text": [
      "BASELINE =-499.428\n"
     ]
    },
    {
     "name": "stdout",
     "output_type": "stream",
     "text": [
      "DEBUG:root:sblr.signal_r[0:10] - BASELINE= [ 0.428 -0.572  0.428  0.428  0.428  0.428 -0.572 -0.572 -0.572 -0.572]\n"
     ]
    },
    {
     "name": "stderr",
     "output_type": "stream",
     "text": [
      "sblr.signal_r[0:10] - BASELINE= [ 0.428 -0.572  0.428  0.428  0.428  0.428 -0.572 -0.572 -0.572 -0.572]\n"
     ]
    },
    {
     "name": "stdout",
     "output_type": "stream",
     "text": [
      "INFO:root:-->event number =6\n"
     ]
    },
    {
     "name": "stderr",
     "output_type": "stream",
     "text": [
      "-->event number =6\n"
     ]
    },
    {
     "name": "stdout",
     "output_type": "stream",
     "text": [
      "DEBUG:root:-->BLR: \n",
      "                     MAU_LEN=250\n",
      "                     thr1 = 5.376, thr2 = 0, thr3 = 1.792 =\n"
     ]
    },
    {
     "name": "stderr",
     "output_type": "stream",
     "text": [
      "-->BLR: \n",
      "                     MAU_LEN=250\n",
      "                     thr1 = 5.376, thr2 = 0, thr3 = 1.792 =\n"
     ]
    },
    {
     "name": "stdout",
     "output_type": "stream",
     "text": [
      "DEBUG:root:n = 250, acum[n] = 0.0 BASELINE =-499.464\n"
     ]
    },
    {
     "name": "stderr",
     "output_type": "stream",
     "text": [
      "n = 250, acum[n] = 0.0 BASELINE =-499.464\n"
     ]
    },
    {
     "name": "stdout",
     "output_type": "stream",
     "text": [
      "DEBUG:root:nm = 250\n"
     ]
    },
    {
     "name": "stderr",
     "output_type": "stream",
     "text": [
      "nm = 250\n"
     ]
    },
    {
     "name": "stdout",
     "output_type": "stream",
     "text": [
      "DEBUG:root:sblr.signal_r[0:10]= [-499. -500. -500. -500. -500. -500. -499. -499. -500. -499.]\n"
     ]
    },
    {
     "name": "stderr",
     "output_type": "stream",
     "text": [
      "sblr.signal_r[0:10]= [-499. -500. -500. -500. -500. -500. -499. -499. -500. -499.]\n"
     ]
    },
    {
     "name": "stdout",
     "output_type": "stream",
     "text": [
      "DEBUG:root:BASELINE =-499.464\n"
     ]
    },
    {
     "name": "stderr",
     "output_type": "stream",
     "text": [
      "BASELINE =-499.464\n"
     ]
    },
    {
     "name": "stdout",
     "output_type": "stream",
     "text": [
      "DEBUG:root:sblr.signal_r[0:10] - BASELINE= [ 0.464 -0.536 -0.536 -0.536 -0.536 -0.536  0.464  0.464 -0.536  0.464]\n"
     ]
    },
    {
     "name": "stderr",
     "output_type": "stream",
     "text": [
      "sblr.signal_r[0:10] - BASELINE= [ 0.464 -0.536 -0.536 -0.536 -0.536 -0.536  0.464  0.464 -0.536  0.464]\n"
     ]
    },
    {
     "name": "stdout",
     "output_type": "stream",
     "text": [
      "DEBUG:root:-->BLR: \n",
      "                     MAU_LEN=250\n",
      "                     thr1 = 5.376, thr2 = 0, thr3 = 1.792 =\n"
     ]
    },
    {
     "name": "stderr",
     "output_type": "stream",
     "text": [
      "-->BLR: \n",
      "                     MAU_LEN=250\n",
      "                     thr1 = 5.376, thr2 = 0, thr3 = 1.792 =\n"
     ]
    },
    {
     "name": "stdout",
     "output_type": "stream",
     "text": [
      "DEBUG:root:n = 250, acum[n] = 0.0 BASELINE =-499.532\n"
     ]
    },
    {
     "name": "stderr",
     "output_type": "stream",
     "text": [
      "n = 250, acum[n] = 0.0 BASELINE =-499.532\n"
     ]
    },
    {
     "name": "stdout",
     "output_type": "stream",
     "text": [
      "DEBUG:root:nm = 250\n"
     ]
    },
    {
     "name": "stderr",
     "output_type": "stream",
     "text": [
      "nm = 250\n"
     ]
    },
    {
     "name": "stdout",
     "output_type": "stream",
     "text": [
      "DEBUG:root:sblr.signal_r[0:10]= [-500. -500. -500. -500. -500. -500. -500. -500. -500. -499.]\n"
     ]
    },
    {
     "name": "stderr",
     "output_type": "stream",
     "text": [
      "sblr.signal_r[0:10]= [-500. -500. -500. -500. -500. -500. -500. -500. -500. -499.]\n"
     ]
    },
    {
     "name": "stdout",
     "output_type": "stream",
     "text": [
      "DEBUG:root:BASELINE =-499.532\n"
     ]
    },
    {
     "name": "stderr",
     "output_type": "stream",
     "text": [
      "BASELINE =-499.532\n"
     ]
    },
    {
     "name": "stdout",
     "output_type": "stream",
     "text": [
      "DEBUG:root:sblr.signal_r[0:10] - BASELINE= [-0.468 -0.468 -0.468 -0.468 -0.468 -0.468 -0.468 -0.468 -0.468  0.532]\n"
     ]
    },
    {
     "name": "stderr",
     "output_type": "stream",
     "text": [
      "sblr.signal_r[0:10] - BASELINE= [-0.468 -0.468 -0.468 -0.468 -0.468 -0.468 -0.468 -0.468 -0.468  0.532]\n"
     ]
    },
    {
     "name": "stdout",
     "output_type": "stream",
     "text": [
      "DEBUG:root:-->BLR: \n",
      "                     MAU_LEN=250\n",
      "                     thr1 = 5.376, thr2 = 0, thr3 = 1.792 =\n"
     ]
    },
    {
     "name": "stderr",
     "output_type": "stream",
     "text": [
      "-->BLR: \n",
      "                     MAU_LEN=250\n",
      "                     thr1 = 5.376, thr2 = 0, thr3 = 1.792 =\n"
     ]
    },
    {
     "name": "stdout",
     "output_type": "stream",
     "text": [
      "DEBUG:root:n = 250, acum[n] = 0.0 BASELINE =-499.564\n"
     ]
    },
    {
     "name": "stderr",
     "output_type": "stream",
     "text": [
      "n = 250, acum[n] = 0.0 BASELINE =-499.564\n"
     ]
    },
    {
     "name": "stdout",
     "output_type": "stream",
     "text": [
      "DEBUG:root:nm = 250\n"
     ]
    },
    {
     "name": "stderr",
     "output_type": "stream",
     "text": [
      "nm = 250\n"
     ]
    },
    {
     "name": "stdout",
     "output_type": "stream",
     "text": [
      "DEBUG:root:sblr.signal_r[0:10]= [-500. -500. -500. -500. -500. -500. -499. -499. -499. -500.]\n"
     ]
    },
    {
     "name": "stderr",
     "output_type": "stream",
     "text": [
      "sblr.signal_r[0:10]= [-500. -500. -500. -500. -500. -500. -499. -499. -499. -500.]\n"
     ]
    },
    {
     "name": "stdout",
     "output_type": "stream",
     "text": [
      "DEBUG:root:BASELINE =-499.564\n"
     ]
    },
    {
     "name": "stderr",
     "output_type": "stream",
     "text": [
      "BASELINE =-499.564\n"
     ]
    },
    {
     "name": "stdout",
     "output_type": "stream",
     "text": [
      "DEBUG:root:sblr.signal_r[0:10] - BASELINE= [-0.436 -0.436 -0.436 -0.436 -0.436 -0.436  0.564  0.564  0.564 -0.436]\n"
     ]
    },
    {
     "name": "stderr",
     "output_type": "stream",
     "text": [
      "sblr.signal_r[0:10] - BASELINE= [-0.436 -0.436 -0.436 -0.436 -0.436 -0.436  0.564  0.564  0.564 -0.436]\n"
     ]
    },
    {
     "name": "stdout",
     "output_type": "stream",
     "text": [
      "DEBUG:root:-->BLR: \n",
      "                     MAU_LEN=250\n",
      "                     thr1 = 5.376, thr2 = 0, thr3 = 1.792 =\n"
     ]
    },
    {
     "name": "stderr",
     "output_type": "stream",
     "text": [
      "-->BLR: \n",
      "                     MAU_LEN=250\n",
      "                     thr1 = 5.376, thr2 = 0, thr3 = 1.792 =\n"
     ]
    },
    {
     "name": "stdout",
     "output_type": "stream",
     "text": [
      "DEBUG:root:n = 250, acum[n] = 0.0 BASELINE =-499.416\n"
     ]
    },
    {
     "name": "stderr",
     "output_type": "stream",
     "text": [
      "n = 250, acum[n] = 0.0 BASELINE =-499.416\n"
     ]
    },
    {
     "name": "stdout",
     "output_type": "stream",
     "text": [
      "DEBUG:root:nm = 250\n"
     ]
    },
    {
     "name": "stderr",
     "output_type": "stream",
     "text": [
      "nm = 250\n"
     ]
    },
    {
     "name": "stdout",
     "output_type": "stream",
     "text": [
      "DEBUG:root:sblr.signal_r[0:10]= [-499. -499. -500. -500. -500. -499. -499. -499. -500. -500.]\n"
     ]
    },
    {
     "name": "stderr",
     "output_type": "stream",
     "text": [
      "sblr.signal_r[0:10]= [-499. -499. -500. -500. -500. -499. -499. -499. -500. -500.]\n"
     ]
    },
    {
     "name": "stdout",
     "output_type": "stream",
     "text": [
      "DEBUG:root:BASELINE =-499.416\n"
     ]
    },
    {
     "name": "stderr",
     "output_type": "stream",
     "text": [
      "BASELINE =-499.416\n"
     ]
    },
    {
     "name": "stdout",
     "output_type": "stream",
     "text": [
      "DEBUG:root:sblr.signal_r[0:10] - BASELINE= [ 0.416  0.416 -0.584 -0.584 -0.584  0.416  0.416  0.416 -0.584 -0.584]\n"
     ]
    },
    {
     "name": "stderr",
     "output_type": "stream",
     "text": [
      "sblr.signal_r[0:10] - BASELINE= [ 0.416  0.416 -0.584 -0.584 -0.584  0.416  0.416  0.416 -0.584 -0.584]\n"
     ]
    },
    {
     "name": "stdout",
     "output_type": "stream",
     "text": [
      "DEBUG:root:-->BLR: \n",
      "                     MAU_LEN=250\n",
      "                     thr1 = 5.376, thr2 = 0, thr3 = 1.792 =\n"
     ]
    },
    {
     "name": "stderr",
     "output_type": "stream",
     "text": [
      "-->BLR: \n",
      "                     MAU_LEN=250\n",
      "                     thr1 = 5.376, thr2 = 0, thr3 = 1.792 =\n"
     ]
    },
    {
     "name": "stdout",
     "output_type": "stream",
     "text": [
      "DEBUG:root:n = 250, acum[n] = 0.0 BASELINE =-499.54\n"
     ]
    },
    {
     "name": "stderr",
     "output_type": "stream",
     "text": [
      "n = 250, acum[n] = 0.0 BASELINE =-499.54\n"
     ]
    },
    {
     "name": "stdout",
     "output_type": "stream",
     "text": [
      "DEBUG:root:nm = 250\n"
     ]
    },
    {
     "name": "stderr",
     "output_type": "stream",
     "text": [
      "nm = 250\n"
     ]
    },
    {
     "name": "stdout",
     "output_type": "stream",
     "text": [
      "DEBUG:root:sblr.signal_r[0:10]= [-500. -500. -500. -500. -499. -499. -499. -500. -499. -499.]\n"
     ]
    },
    {
     "name": "stderr",
     "output_type": "stream",
     "text": [
      "sblr.signal_r[0:10]= [-500. -500. -500. -500. -499. -499. -499. -500. -499. -499.]\n"
     ]
    },
    {
     "name": "stdout",
     "output_type": "stream",
     "text": [
      "DEBUG:root:BASELINE =-499.54\n"
     ]
    },
    {
     "name": "stderr",
     "output_type": "stream",
     "text": [
      "BASELINE =-499.54\n"
     ]
    },
    {
     "name": "stdout",
     "output_type": "stream",
     "text": [
      "DEBUG:root:sblr.signal_r[0:10] - BASELINE= [-0.46 -0.46 -0.46 -0.46  0.54  0.54  0.54 -0.46  0.54  0.54]\n"
     ]
    },
    {
     "name": "stderr",
     "output_type": "stream",
     "text": [
      "sblr.signal_r[0:10] - BASELINE= [-0.46 -0.46 -0.46 -0.46  0.54  0.54  0.54 -0.46  0.54  0.54]\n"
     ]
    },
    {
     "name": "stdout",
     "output_type": "stream",
     "text": [
      "DEBUG:root:-->BLR: \n",
      "                     MAU_LEN=250\n",
      "                     thr1 = 5.376, thr2 = 0, thr3 = 1.792 =\n"
     ]
    },
    {
     "name": "stderr",
     "output_type": "stream",
     "text": [
      "-->BLR: \n",
      "                     MAU_LEN=250\n",
      "                     thr1 = 5.376, thr2 = 0, thr3 = 1.792 =\n"
     ]
    },
    {
     "name": "stdout",
     "output_type": "stream",
     "text": [
      "DEBUG:root:n = 250, acum[n] = 0.0 BASELINE =-499.488\n"
     ]
    },
    {
     "name": "stderr",
     "output_type": "stream",
     "text": [
      "n = 250, acum[n] = 0.0 BASELINE =-499.488\n"
     ]
    },
    {
     "name": "stdout",
     "output_type": "stream",
     "text": [
      "DEBUG:root:nm = 250\n"
     ]
    },
    {
     "name": "stderr",
     "output_type": "stream",
     "text": [
      "nm = 250\n"
     ]
    },
    {
     "name": "stdout",
     "output_type": "stream",
     "text": [
      "DEBUG:root:sblr.signal_r[0:10]= [-499. -499. -499. -500. -500. -500. -499. -500. -499. -499.]\n"
     ]
    },
    {
     "name": "stderr",
     "output_type": "stream",
     "text": [
      "sblr.signal_r[0:10]= [-499. -499. -499. -500. -500. -500. -499. -500. -499. -499.]\n"
     ]
    },
    {
     "name": "stdout",
     "output_type": "stream",
     "text": [
      "DEBUG:root:BASELINE =-499.488\n"
     ]
    },
    {
     "name": "stderr",
     "output_type": "stream",
     "text": [
      "BASELINE =-499.488\n"
     ]
    },
    {
     "name": "stdout",
     "output_type": "stream",
     "text": [
      "DEBUG:root:sblr.signal_r[0:10] - BASELINE= [ 0.488  0.488  0.488 -0.512 -0.512 -0.512  0.488 -0.512  0.488  0.488]\n"
     ]
    },
    {
     "name": "stderr",
     "output_type": "stream",
     "text": [
      "sblr.signal_r[0:10] - BASELINE= [ 0.488  0.488  0.488 -0.512 -0.512 -0.512  0.488 -0.512  0.488  0.488]\n"
     ]
    },
    {
     "name": "stdout",
     "output_type": "stream",
     "text": [
      "DEBUG:root:-->BLR: \n",
      "                     MAU_LEN=250\n",
      "                     thr1 = 5.376, thr2 = 0, thr3 = 1.792 =\n"
     ]
    },
    {
     "name": "stderr",
     "output_type": "stream",
     "text": [
      "-->BLR: \n",
      "                     MAU_LEN=250\n",
      "                     thr1 = 5.376, thr2 = 0, thr3 = 1.792 =\n"
     ]
    },
    {
     "name": "stdout",
     "output_type": "stream",
     "text": [
      "DEBUG:root:n = 250, acum[n] = 0.0 BASELINE =-499.52\n"
     ]
    },
    {
     "name": "stderr",
     "output_type": "stream",
     "text": [
      "n = 250, acum[n] = 0.0 BASELINE =-499.52\n"
     ]
    },
    {
     "name": "stdout",
     "output_type": "stream",
     "text": [
      "DEBUG:root:nm = 250\n"
     ]
    },
    {
     "name": "stderr",
     "output_type": "stream",
     "text": [
      "nm = 250\n"
     ]
    },
    {
     "name": "stdout",
     "output_type": "stream",
     "text": [
      "DEBUG:root:sblr.signal_r[0:10]= [-500. -500. -500. -499. -499. -500. -500. -499. -500. -499.]\n"
     ]
    },
    {
     "name": "stderr",
     "output_type": "stream",
     "text": [
      "sblr.signal_r[0:10]= [-500. -500. -500. -499. -499. -500. -500. -499. -500. -499.]\n"
     ]
    },
    {
     "name": "stdout",
     "output_type": "stream",
     "text": [
      "DEBUG:root:BASELINE =-499.52\n"
     ]
    },
    {
     "name": "stderr",
     "output_type": "stream",
     "text": [
      "BASELINE =-499.52\n"
     ]
    },
    {
     "name": "stdout",
     "output_type": "stream",
     "text": [
      "DEBUG:root:sblr.signal_r[0:10] - BASELINE= [-0.48 -0.48 -0.48  0.52  0.52 -0.48 -0.48  0.52 -0.48  0.52]\n"
     ]
    },
    {
     "name": "stderr",
     "output_type": "stream",
     "text": [
      "sblr.signal_r[0:10] - BASELINE= [-0.48 -0.48 -0.48  0.52  0.52 -0.48 -0.48  0.52 -0.48  0.52]\n"
     ]
    },
    {
     "name": "stdout",
     "output_type": "stream",
     "text": [
      "DEBUG:root:-->BLR: \n",
      "                     MAU_LEN=250\n",
      "                     thr1 = 5.376, thr2 = 0, thr3 = 1.792 =\n"
     ]
    },
    {
     "name": "stderr",
     "output_type": "stream",
     "text": [
      "-->BLR: \n",
      "                     MAU_LEN=250\n",
      "                     thr1 = 5.376, thr2 = 0, thr3 = 1.792 =\n"
     ]
    },
    {
     "name": "stdout",
     "output_type": "stream",
     "text": [
      "DEBUG:root:n = 250, acum[n] = 0.0 BASELINE =-499.44\n"
     ]
    },
    {
     "name": "stderr",
     "output_type": "stream",
     "text": [
      "n = 250, acum[n] = 0.0 BASELINE =-499.44\n"
     ]
    },
    {
     "name": "stdout",
     "output_type": "stream",
     "text": [
      "DEBUG:root:nm = 250\n"
     ]
    },
    {
     "name": "stderr",
     "output_type": "stream",
     "text": [
      "nm = 250\n"
     ]
    },
    {
     "name": "stdout",
     "output_type": "stream",
     "text": [
      "DEBUG:root:sblr.signal_r[0:10]= [-500. -499. -499. -499. -499. -500. -499. -499. -500. -500.]\n"
     ]
    },
    {
     "name": "stderr",
     "output_type": "stream",
     "text": [
      "sblr.signal_r[0:10]= [-500. -499. -499. -499. -499. -500. -499. -499. -500. -500.]\n"
     ]
    },
    {
     "name": "stdout",
     "output_type": "stream",
     "text": [
      "DEBUG:root:BASELINE =-499.44\n"
     ]
    },
    {
     "name": "stderr",
     "output_type": "stream",
     "text": [
      "BASELINE =-499.44\n"
     ]
    },
    {
     "name": "stdout",
     "output_type": "stream",
     "text": [
      "DEBUG:root:sblr.signal_r[0:10] - BASELINE= [-0.56  0.44  0.44  0.44  0.44 -0.56  0.44  0.44 -0.56 -0.56]\n"
     ]
    },
    {
     "name": "stderr",
     "output_type": "stream",
     "text": [
      "sblr.signal_r[0:10] - BASELINE= [-0.56  0.44  0.44  0.44  0.44 -0.56  0.44  0.44 -0.56 -0.56]\n"
     ]
    },
    {
     "name": "stdout",
     "output_type": "stream",
     "text": [
      "DEBUG:root:-->BLR: \n",
      "                     MAU_LEN=250\n",
      "                     thr1 = 5.376, thr2 = 0, thr3 = 1.792 =\n"
     ]
    },
    {
     "name": "stderr",
     "output_type": "stream",
     "text": [
      "-->BLR: \n",
      "                     MAU_LEN=250\n",
      "                     thr1 = 5.376, thr2 = 0, thr3 = 1.792 =\n"
     ]
    },
    {
     "name": "stdout",
     "output_type": "stream",
     "text": [
      "DEBUG:root:n = 250, acum[n] = 0.0 BASELINE =-499.536\n"
     ]
    },
    {
     "name": "stderr",
     "output_type": "stream",
     "text": [
      "n = 250, acum[n] = 0.0 BASELINE =-499.536\n"
     ]
    },
    {
     "name": "stdout",
     "output_type": "stream",
     "text": [
      "DEBUG:root:nm = 250\n"
     ]
    },
    {
     "name": "stderr",
     "output_type": "stream",
     "text": [
      "nm = 250\n"
     ]
    },
    {
     "name": "stdout",
     "output_type": "stream",
     "text": [
      "DEBUG:root:sblr.signal_r[0:10]= [-500. -500. -500. -499. -501. -500. -500. -499. -500. -500.]\n"
     ]
    },
    {
     "name": "stderr",
     "output_type": "stream",
     "text": [
      "sblr.signal_r[0:10]= [-500. -500. -500. -499. -501. -500. -500. -499. -500. -500.]\n"
     ]
    },
    {
     "name": "stdout",
     "output_type": "stream",
     "text": [
      "DEBUG:root:BASELINE =-499.536\n"
     ]
    },
    {
     "name": "stderr",
     "output_type": "stream",
     "text": [
      "BASELINE =-499.536\n"
     ]
    },
    {
     "name": "stdout",
     "output_type": "stream",
     "text": [
      "DEBUG:root:sblr.signal_r[0:10] - BASELINE= [-0.464 -0.464 -0.464  0.536 -1.464 -0.464 -0.464  0.536 -0.464 -0.464]\n"
     ]
    },
    {
     "name": "stderr",
     "output_type": "stream",
     "text": [
      "sblr.signal_r[0:10] - BASELINE= [-0.464 -0.464 -0.464  0.536 -1.464 -0.464 -0.464  0.536 -0.464 -0.464]\n"
     ]
    },
    {
     "name": "stdout",
     "output_type": "stream",
     "text": [
      "DEBUG:root:-->BLR: \n",
      "                     MAU_LEN=250\n",
      "                     thr1 = 5.376, thr2 = 0, thr3 = 1.792 =\n"
     ]
    },
    {
     "name": "stderr",
     "output_type": "stream",
     "text": [
      "-->BLR: \n",
      "                     MAU_LEN=250\n",
      "                     thr1 = 5.376, thr2 = 0, thr3 = 1.792 =\n"
     ]
    },
    {
     "name": "stdout",
     "output_type": "stream",
     "text": [
      "DEBUG:root:n = 250, acum[n] = 0.0 BASELINE =-499.524\n"
     ]
    },
    {
     "name": "stderr",
     "output_type": "stream",
     "text": [
      "n = 250, acum[n] = 0.0 BASELINE =-499.524\n"
     ]
    },
    {
     "name": "stdout",
     "output_type": "stream",
     "text": [
      "DEBUG:root:nm = 250\n"
     ]
    },
    {
     "name": "stderr",
     "output_type": "stream",
     "text": [
      "nm = 250\n"
     ]
    },
    {
     "name": "stdout",
     "output_type": "stream",
     "text": [
      "DEBUG:root:sblr.signal_r[0:10]= [-499. -499. -499. -500. -499. -500. -499. -499. -500. -499.]\n"
     ]
    },
    {
     "name": "stderr",
     "output_type": "stream",
     "text": [
      "sblr.signal_r[0:10]= [-499. -499. -499. -500. -499. -500. -499. -499. -500. -499.]\n"
     ]
    },
    {
     "name": "stdout",
     "output_type": "stream",
     "text": [
      "DEBUG:root:BASELINE =-499.524\n"
     ]
    },
    {
     "name": "stderr",
     "output_type": "stream",
     "text": [
      "BASELINE =-499.524\n"
     ]
    },
    {
     "name": "stdout",
     "output_type": "stream",
     "text": [
      "DEBUG:root:sblr.signal_r[0:10] - BASELINE= [ 0.524  0.524  0.524 -0.476  0.524 -0.476  0.524  0.524 -0.476  0.524]\n"
     ]
    },
    {
     "name": "stderr",
     "output_type": "stream",
     "text": [
      "sblr.signal_r[0:10] - BASELINE= [ 0.524  0.524  0.524 -0.476  0.524 -0.476  0.524  0.524 -0.476  0.524]\n"
     ]
    },
    {
     "name": "stdout",
     "output_type": "stream",
     "text": [
      "DEBUG:root:-->BLR: \n",
      "                     MAU_LEN=250\n",
      "                     thr1 = 5.376, thr2 = 0, thr3 = 1.792 =\n"
     ]
    },
    {
     "name": "stderr",
     "output_type": "stream",
     "text": [
      "-->BLR: \n",
      "                     MAU_LEN=250\n",
      "                     thr1 = 5.376, thr2 = 0, thr3 = 1.792 =\n"
     ]
    },
    {
     "name": "stdout",
     "output_type": "stream",
     "text": [
      "DEBUG:root:n = 250, acum[n] = 0.0 BASELINE =-499.524\n"
     ]
    },
    {
     "name": "stderr",
     "output_type": "stream",
     "text": [
      "n = 250, acum[n] = 0.0 BASELINE =-499.524\n"
     ]
    },
    {
     "name": "stdout",
     "output_type": "stream",
     "text": [
      "DEBUG:root:nm = 250\n"
     ]
    },
    {
     "name": "stderr",
     "output_type": "stream",
     "text": [
      "nm = 250\n"
     ]
    },
    {
     "name": "stdout",
     "output_type": "stream",
     "text": [
      "DEBUG:root:sblr.signal_r[0:10]= [-500. -499. -499. -500. -499. -499. -500. -500. -499. -500.]\n"
     ]
    },
    {
     "name": "stderr",
     "output_type": "stream",
     "text": [
      "sblr.signal_r[0:10]= [-500. -499. -499. -500. -499. -499. -500. -500. -499. -500.]\n"
     ]
    },
    {
     "name": "stdout",
     "output_type": "stream",
     "text": [
      "DEBUG:root:BASELINE =-499.524\n"
     ]
    },
    {
     "name": "stderr",
     "output_type": "stream",
     "text": [
      "BASELINE =-499.524\n"
     ]
    },
    {
     "name": "stdout",
     "output_type": "stream",
     "text": [
      "DEBUG:root:sblr.signal_r[0:10] - BASELINE= [-0.476  0.524  0.524 -0.476  0.524  0.524 -0.476 -0.476  0.524 -0.476]\n"
     ]
    },
    {
     "name": "stderr",
     "output_type": "stream",
     "text": [
      "sblr.signal_r[0:10] - BASELINE= [-0.476  0.524  0.524 -0.476  0.524  0.524 -0.476 -0.476  0.524 -0.476]\n"
     ]
    },
    {
     "name": "stdout",
     "output_type": "stream",
     "text": [
      "DEBUG:root:-->BLR: \n",
      "                     MAU_LEN=250\n",
      "                     thr1 = 5.376, thr2 = 0, thr3 = 1.792 =\n"
     ]
    },
    {
     "name": "stderr",
     "output_type": "stream",
     "text": [
      "-->BLR: \n",
      "                     MAU_LEN=250\n",
      "                     thr1 = 5.376, thr2 = 0, thr3 = 1.792 =\n"
     ]
    },
    {
     "name": "stdout",
     "output_type": "stream",
     "text": [
      "DEBUG:root:n = 250, acum[n] = 0.0 BASELINE =-499.432\n"
     ]
    },
    {
     "name": "stderr",
     "output_type": "stream",
     "text": [
      "n = 250, acum[n] = 0.0 BASELINE =-499.432\n"
     ]
    },
    {
     "name": "stdout",
     "output_type": "stream",
     "text": [
      "DEBUG:root:nm = 250\n"
     ]
    },
    {
     "name": "stderr",
     "output_type": "stream",
     "text": [
      "nm = 250\n"
     ]
    },
    {
     "name": "stdout",
     "output_type": "stream",
     "text": [
      "DEBUG:root:sblr.signal_r[0:10]= [-500. -499. -499. -499. -500. -500. -500. -499. -499. -499.]\n"
     ]
    },
    {
     "name": "stderr",
     "output_type": "stream",
     "text": [
      "sblr.signal_r[0:10]= [-500. -499. -499. -499. -500. -500. -500. -499. -499. -499.]\n"
     ]
    },
    {
     "name": "stdout",
     "output_type": "stream",
     "text": [
      "DEBUG:root:BASELINE =-499.432\n"
     ]
    },
    {
     "name": "stderr",
     "output_type": "stream",
     "text": [
      "BASELINE =-499.432\n"
     ]
    },
    {
     "name": "stdout",
     "output_type": "stream",
     "text": [
      "DEBUG:root:sblr.signal_r[0:10] - BASELINE= [-0.568  0.432  0.432  0.432 -0.568 -0.568 -0.568  0.432  0.432  0.432]\n"
     ]
    },
    {
     "name": "stderr",
     "output_type": "stream",
     "text": [
      "sblr.signal_r[0:10] - BASELINE= [-0.568  0.432  0.432  0.432 -0.568 -0.568 -0.568  0.432  0.432  0.432]\n"
     ]
    },
    {
     "name": "stdout",
     "output_type": "stream",
     "text": [
      "INFO:root:-->event number =7\n"
     ]
    },
    {
     "name": "stderr",
     "output_type": "stream",
     "text": [
      "-->event number =7\n"
     ]
    },
    {
     "name": "stdout",
     "output_type": "stream",
     "text": [
      "DEBUG:root:-->BLR: \n",
      "                     MAU_LEN=250\n",
      "                     thr1 = 5.376, thr2 = 0, thr3 = 1.792 =\n"
     ]
    },
    {
     "name": "stderr",
     "output_type": "stream",
     "text": [
      "-->BLR: \n",
      "                     MAU_LEN=250\n",
      "                     thr1 = 5.376, thr2 = 0, thr3 = 1.792 =\n"
     ]
    },
    {
     "name": "stdout",
     "output_type": "stream",
     "text": [
      "DEBUG:root:n = 250, acum[n] = 0.0 BASELINE =-499.524\n"
     ]
    },
    {
     "name": "stderr",
     "output_type": "stream",
     "text": [
      "n = 250, acum[n] = 0.0 BASELINE =-499.524\n"
     ]
    },
    {
     "name": "stdout",
     "output_type": "stream",
     "text": [
      "DEBUG:root:nm = 250\n"
     ]
    },
    {
     "name": "stderr",
     "output_type": "stream",
     "text": [
      "nm = 250\n"
     ]
    },
    {
     "name": "stdout",
     "output_type": "stream",
     "text": [
      "DEBUG:root:sblr.signal_r[0:10]= [-500. -500. -500. -499. -499. -500. -500. -499. -500. -500.]\n"
     ]
    },
    {
     "name": "stderr",
     "output_type": "stream",
     "text": [
      "sblr.signal_r[0:10]= [-500. -500. -500. -499. -499. -500. -500. -499. -500. -500.]\n"
     ]
    },
    {
     "name": "stdout",
     "output_type": "stream",
     "text": [
      "DEBUG:root:BASELINE =-499.524\n"
     ]
    },
    {
     "name": "stderr",
     "output_type": "stream",
     "text": [
      "BASELINE =-499.524\n"
     ]
    },
    {
     "name": "stdout",
     "output_type": "stream",
     "text": [
      "DEBUG:root:sblr.signal_r[0:10] - BASELINE= [-0.476 -0.476 -0.476  0.524  0.524 -0.476 -0.476  0.524 -0.476 -0.476]\n"
     ]
    },
    {
     "name": "stderr",
     "output_type": "stream",
     "text": [
      "sblr.signal_r[0:10] - BASELINE= [-0.476 -0.476 -0.476  0.524  0.524 -0.476 -0.476  0.524 -0.476 -0.476]\n"
     ]
    },
    {
     "name": "stdout",
     "output_type": "stream",
     "text": [
      "DEBUG:root:-->BLR: \n",
      "                     MAU_LEN=250\n",
      "                     thr1 = 5.376, thr2 = 0, thr3 = 1.792 =\n"
     ]
    },
    {
     "name": "stderr",
     "output_type": "stream",
     "text": [
      "-->BLR: \n",
      "                     MAU_LEN=250\n",
      "                     thr1 = 5.376, thr2 = 0, thr3 = 1.792 =\n"
     ]
    },
    {
     "name": "stdout",
     "output_type": "stream",
     "text": [
      "DEBUG:root:n = 250, acum[n] = 0.0 BASELINE =-499.464\n"
     ]
    },
    {
     "name": "stderr",
     "output_type": "stream",
     "text": [
      "n = 250, acum[n] = 0.0 BASELINE =-499.464\n"
     ]
    },
    {
     "name": "stdout",
     "output_type": "stream",
     "text": [
      "DEBUG:root:nm = 250\n"
     ]
    },
    {
     "name": "stderr",
     "output_type": "stream",
     "text": [
      "nm = 250\n"
     ]
    },
    {
     "name": "stdout",
     "output_type": "stream",
     "text": [
      "DEBUG:root:sblr.signal_r[0:10]= [-499. -500. -499. -499. -499. -499. -500. -499. -500. -499.]\n"
     ]
    },
    {
     "name": "stderr",
     "output_type": "stream",
     "text": [
      "sblr.signal_r[0:10]= [-499. -500. -499. -499. -499. -499. -500. -499. -500. -499.]\n"
     ]
    },
    {
     "name": "stdout",
     "output_type": "stream",
     "text": [
      "DEBUG:root:BASELINE =-499.464\n"
     ]
    },
    {
     "name": "stderr",
     "output_type": "stream",
     "text": [
      "BASELINE =-499.464\n"
     ]
    },
    {
     "name": "stdout",
     "output_type": "stream",
     "text": [
      "DEBUG:root:sblr.signal_r[0:10] - BASELINE= [ 0.464 -0.536  0.464  0.464  0.464  0.464 -0.536  0.464 -0.536  0.464]\n"
     ]
    },
    {
     "name": "stderr",
     "output_type": "stream",
     "text": [
      "sblr.signal_r[0:10] - BASELINE= [ 0.464 -0.536  0.464  0.464  0.464  0.464 -0.536  0.464 -0.536  0.464]\n"
     ]
    },
    {
     "name": "stdout",
     "output_type": "stream",
     "text": [
      "DEBUG:root:-->BLR: \n",
      "                     MAU_LEN=250\n",
      "                     thr1 = 5.376, thr2 = 0, thr3 = 1.792 =\n"
     ]
    },
    {
     "name": "stderr",
     "output_type": "stream",
     "text": [
      "-->BLR: \n",
      "                     MAU_LEN=250\n",
      "                     thr1 = 5.376, thr2 = 0, thr3 = 1.792 =\n"
     ]
    },
    {
     "name": "stdout",
     "output_type": "stream",
     "text": [
      "DEBUG:root:n = 250, acum[n] = 0.0 BASELINE =-499.488\n"
     ]
    },
    {
     "name": "stderr",
     "output_type": "stream",
     "text": [
      "n = 250, acum[n] = 0.0 BASELINE =-499.488\n"
     ]
    },
    {
     "name": "stdout",
     "output_type": "stream",
     "text": [
      "DEBUG:root:nm = 250\n"
     ]
    },
    {
     "name": "stderr",
     "output_type": "stream",
     "text": [
      "nm = 250\n"
     ]
    },
    {
     "name": "stdout",
     "output_type": "stream",
     "text": [
      "DEBUG:root:sblr.signal_r[0:10]= [-499. -499. -500. -500. -499. -500. -499. -500. -500. -499.]\n"
     ]
    },
    {
     "name": "stderr",
     "output_type": "stream",
     "text": [
      "sblr.signal_r[0:10]= [-499. -499. -500. -500. -499. -500. -499. -500. -500. -499.]\n"
     ]
    },
    {
     "name": "stdout",
     "output_type": "stream",
     "text": [
      "DEBUG:root:BASELINE =-499.488\n"
     ]
    },
    {
     "name": "stderr",
     "output_type": "stream",
     "text": [
      "BASELINE =-499.488\n"
     ]
    },
    {
     "name": "stdout",
     "output_type": "stream",
     "text": [
      "DEBUG:root:sblr.signal_r[0:10] - BASELINE= [ 0.488  0.488 -0.512 -0.512  0.488 -0.512  0.488 -0.512 -0.512  0.488]\n"
     ]
    },
    {
     "name": "stderr",
     "output_type": "stream",
     "text": [
      "sblr.signal_r[0:10] - BASELINE= [ 0.488  0.488 -0.512 -0.512  0.488 -0.512  0.488 -0.512 -0.512  0.488]\n"
     ]
    },
    {
     "name": "stdout",
     "output_type": "stream",
     "text": [
      "DEBUG:root:-->BLR: \n",
      "                     MAU_LEN=250\n",
      "                     thr1 = 5.376, thr2 = 0, thr3 = 1.792 =\n"
     ]
    },
    {
     "name": "stderr",
     "output_type": "stream",
     "text": [
      "-->BLR: \n",
      "                     MAU_LEN=250\n",
      "                     thr1 = 5.376, thr2 = 0, thr3 = 1.792 =\n"
     ]
    },
    {
     "name": "stdout",
     "output_type": "stream",
     "text": [
      "DEBUG:root:n = 250, acum[n] = 0.0 BASELINE =-499.5\n"
     ]
    },
    {
     "name": "stderr",
     "output_type": "stream",
     "text": [
      "n = 250, acum[n] = 0.0 BASELINE =-499.5\n"
     ]
    },
    {
     "name": "stdout",
     "output_type": "stream",
     "text": [
      "DEBUG:root:nm = 250\n"
     ]
    },
    {
     "name": "stderr",
     "output_type": "stream",
     "text": [
      "nm = 250\n"
     ]
    },
    {
     "name": "stdout",
     "output_type": "stream",
     "text": [
      "DEBUG:root:sblr.signal_r[0:10]= [-500. -499. -499. -499. -500. -499. -499. -499. -500. -500.]\n"
     ]
    },
    {
     "name": "stderr",
     "output_type": "stream",
     "text": [
      "sblr.signal_r[0:10]= [-500. -499. -499. -499. -500. -499. -499. -499. -500. -500.]\n"
     ]
    },
    {
     "name": "stdout",
     "output_type": "stream",
     "text": [
      "DEBUG:root:BASELINE =-499.5\n"
     ]
    },
    {
     "name": "stderr",
     "output_type": "stream",
     "text": [
      "BASELINE =-499.5\n"
     ]
    },
    {
     "name": "stdout",
     "output_type": "stream",
     "text": [
      "DEBUG:root:sblr.signal_r[0:10] - BASELINE= [-0.5  0.5  0.5  0.5 -0.5  0.5  0.5  0.5 -0.5 -0.5]\n"
     ]
    },
    {
     "name": "stderr",
     "output_type": "stream",
     "text": [
      "sblr.signal_r[0:10] - BASELINE= [-0.5  0.5  0.5  0.5 -0.5  0.5  0.5  0.5 -0.5 -0.5]\n"
     ]
    },
    {
     "name": "stdout",
     "output_type": "stream",
     "text": [
      "DEBUG:root:-->BLR: \n",
      "                     MAU_LEN=250\n",
      "                     thr1 = 5.376, thr2 = 0, thr3 = 1.792 =\n"
     ]
    },
    {
     "name": "stderr",
     "output_type": "stream",
     "text": [
      "-->BLR: \n",
      "                     MAU_LEN=250\n",
      "                     thr1 = 5.376, thr2 = 0, thr3 = 1.792 =\n"
     ]
    },
    {
     "name": "stdout",
     "output_type": "stream",
     "text": [
      "DEBUG:root:n = 250, acum[n] = 0.0 BASELINE =-499.512\n"
     ]
    },
    {
     "name": "stderr",
     "output_type": "stream",
     "text": [
      "n = 250, acum[n] = 0.0 BASELINE =-499.512\n"
     ]
    },
    {
     "name": "stdout",
     "output_type": "stream",
     "text": [
      "DEBUG:root:nm = 250\n"
     ]
    },
    {
     "name": "stderr",
     "output_type": "stream",
     "text": [
      "nm = 250\n"
     ]
    },
    {
     "name": "stdout",
     "output_type": "stream",
     "text": [
      "DEBUG:root:sblr.signal_r[0:10]= [-500. -500. -500. -500. -500. -499. -500. -500. -500. -500.]\n"
     ]
    },
    {
     "name": "stderr",
     "output_type": "stream",
     "text": [
      "sblr.signal_r[0:10]= [-500. -500. -500. -500. -500. -499. -500. -500. -500. -500.]\n"
     ]
    },
    {
     "name": "stdout",
     "output_type": "stream",
     "text": [
      "DEBUG:root:BASELINE =-499.512\n"
     ]
    },
    {
     "name": "stderr",
     "output_type": "stream",
     "text": [
      "BASELINE =-499.512\n"
     ]
    },
    {
     "name": "stdout",
     "output_type": "stream",
     "text": [
      "DEBUG:root:sblr.signal_r[0:10] - BASELINE= [-0.488 -0.488 -0.488 -0.488 -0.488  0.512 -0.488 -0.488 -0.488 -0.488]\n"
     ]
    },
    {
     "name": "stderr",
     "output_type": "stream",
     "text": [
      "sblr.signal_r[0:10] - BASELINE= [-0.488 -0.488 -0.488 -0.488 -0.488  0.512 -0.488 -0.488 -0.488 -0.488]\n"
     ]
    },
    {
     "name": "stdout",
     "output_type": "stream",
     "text": [
      "DEBUG:root:-->BLR: \n",
      "                     MAU_LEN=250\n",
      "                     thr1 = 5.376, thr2 = 0, thr3 = 1.792 =\n"
     ]
    },
    {
     "name": "stderr",
     "output_type": "stream",
     "text": [
      "-->BLR: \n",
      "                     MAU_LEN=250\n",
      "                     thr1 = 5.376, thr2 = 0, thr3 = 1.792 =\n"
     ]
    },
    {
     "name": "stdout",
     "output_type": "stream",
     "text": [
      "DEBUG:root:n = 250, acum[n] = 0.0 BASELINE =-499.456\n"
     ]
    },
    {
     "name": "stderr",
     "output_type": "stream",
     "text": [
      "n = 250, acum[n] = 0.0 BASELINE =-499.456\n"
     ]
    },
    {
     "name": "stdout",
     "output_type": "stream",
     "text": [
      "DEBUG:root:nm = 250\n"
     ]
    },
    {
     "name": "stderr",
     "output_type": "stream",
     "text": [
      "nm = 250\n"
     ]
    },
    {
     "name": "stdout",
     "output_type": "stream",
     "text": [
      "DEBUG:root:sblr.signal_r[0:10]= [-500. -499. -499. -499. -499. -499. -500. -500. -499. -500.]\n"
     ]
    },
    {
     "name": "stderr",
     "output_type": "stream",
     "text": [
      "sblr.signal_r[0:10]= [-500. -499. -499. -499. -499. -499. -500. -500. -499. -500.]\n"
     ]
    },
    {
     "name": "stdout",
     "output_type": "stream",
     "text": [
      "DEBUG:root:BASELINE =-499.456\n"
     ]
    },
    {
     "name": "stderr",
     "output_type": "stream",
     "text": [
      "BASELINE =-499.456\n"
     ]
    },
    {
     "name": "stdout",
     "output_type": "stream",
     "text": [
      "DEBUG:root:sblr.signal_r[0:10] - BASELINE= [-0.544  0.456  0.456  0.456  0.456  0.456 -0.544 -0.544  0.456 -0.544]\n"
     ]
    },
    {
     "name": "stderr",
     "output_type": "stream",
     "text": [
      "sblr.signal_r[0:10] - BASELINE= [-0.544  0.456  0.456  0.456  0.456  0.456 -0.544 -0.544  0.456 -0.544]\n"
     ]
    },
    {
     "name": "stdout",
     "output_type": "stream",
     "text": [
      "DEBUG:root:-->BLR: \n",
      "                     MAU_LEN=250\n",
      "                     thr1 = 5.376, thr2 = 0, thr3 = 1.792 =\n"
     ]
    },
    {
     "name": "stderr",
     "output_type": "stream",
     "text": [
      "-->BLR: \n",
      "                     MAU_LEN=250\n",
      "                     thr1 = 5.376, thr2 = 0, thr3 = 1.792 =\n"
     ]
    },
    {
     "name": "stdout",
     "output_type": "stream",
     "text": [
      "DEBUG:root:n = 250, acum[n] = 0.0 BASELINE =-499.52\n"
     ]
    },
    {
     "name": "stderr",
     "output_type": "stream",
     "text": [
      "n = 250, acum[n] = 0.0 BASELINE =-499.52\n"
     ]
    },
    {
     "name": "stdout",
     "output_type": "stream",
     "text": [
      "DEBUG:root:nm = 250\n"
     ]
    },
    {
     "name": "stderr",
     "output_type": "stream",
     "text": [
      "nm = 250\n"
     ]
    },
    {
     "name": "stdout",
     "output_type": "stream",
     "text": [
      "DEBUG:root:sblr.signal_r[0:10]= [-500. -500. -500. -500. -499. -500. -499. -500. -500. -500.]\n"
     ]
    },
    {
     "name": "stderr",
     "output_type": "stream",
     "text": [
      "sblr.signal_r[0:10]= [-500. -500. -500. -500. -499. -500. -499. -500. -500. -500.]\n"
     ]
    },
    {
     "name": "stdout",
     "output_type": "stream",
     "text": [
      "DEBUG:root:BASELINE =-499.52\n"
     ]
    },
    {
     "name": "stderr",
     "output_type": "stream",
     "text": [
      "BASELINE =-499.52\n"
     ]
    },
    {
     "name": "stdout",
     "output_type": "stream",
     "text": [
      "DEBUG:root:sblr.signal_r[0:10] - BASELINE= [-0.48 -0.48 -0.48 -0.48  0.52 -0.48  0.52 -0.48 -0.48 -0.48]\n"
     ]
    },
    {
     "name": "stderr",
     "output_type": "stream",
     "text": [
      "sblr.signal_r[0:10] - BASELINE= [-0.48 -0.48 -0.48 -0.48  0.52 -0.48  0.52 -0.48 -0.48 -0.48]\n"
     ]
    },
    {
     "name": "stdout",
     "output_type": "stream",
     "text": [
      "DEBUG:root:-->BLR: \n",
      "                     MAU_LEN=250\n",
      "                     thr1 = 5.376, thr2 = 0, thr3 = 1.792 =\n"
     ]
    },
    {
     "name": "stderr",
     "output_type": "stream",
     "text": [
      "-->BLR: \n",
      "                     MAU_LEN=250\n",
      "                     thr1 = 5.376, thr2 = 0, thr3 = 1.792 =\n"
     ]
    },
    {
     "name": "stdout",
     "output_type": "stream",
     "text": [
      "DEBUG:root:n = 250, acum[n] = 0.0 BASELINE =-499.484\n"
     ]
    },
    {
     "name": "stderr",
     "output_type": "stream",
     "text": [
      "n = 250, acum[n] = 0.0 BASELINE =-499.484\n"
     ]
    },
    {
     "name": "stdout",
     "output_type": "stream",
     "text": [
      "DEBUG:root:nm = 250\n"
     ]
    },
    {
     "name": "stderr",
     "output_type": "stream",
     "text": [
      "nm = 250\n"
     ]
    },
    {
     "name": "stdout",
     "output_type": "stream",
     "text": [
      "DEBUG:root:sblr.signal_r[0:10]= [-500. -499. -500. -499. -500. -500. -500. -500. -500. -499.]\n"
     ]
    },
    {
     "name": "stderr",
     "output_type": "stream",
     "text": [
      "sblr.signal_r[0:10]= [-500. -499. -500. -499. -500. -500. -500. -500. -500. -499.]\n"
     ]
    },
    {
     "name": "stdout",
     "output_type": "stream",
     "text": [
      "DEBUG:root:BASELINE =-499.484\n"
     ]
    },
    {
     "name": "stderr",
     "output_type": "stream",
     "text": [
      "BASELINE =-499.484\n"
     ]
    },
    {
     "name": "stdout",
     "output_type": "stream",
     "text": [
      "DEBUG:root:sblr.signal_r[0:10] - BASELINE= [-0.516  0.484 -0.516  0.484 -0.516 -0.516 -0.516 -0.516 -0.516  0.484]\n"
     ]
    },
    {
     "name": "stderr",
     "output_type": "stream",
     "text": [
      "sblr.signal_r[0:10] - BASELINE= [-0.516  0.484 -0.516  0.484 -0.516 -0.516 -0.516 -0.516 -0.516  0.484]\n"
     ]
    },
    {
     "name": "stdout",
     "output_type": "stream",
     "text": [
      "DEBUG:root:-->BLR: \n",
      "                     MAU_LEN=250\n",
      "                     thr1 = 5.376, thr2 = 0, thr3 = 1.792 =\n"
     ]
    },
    {
     "name": "stderr",
     "output_type": "stream",
     "text": [
      "-->BLR: \n",
      "                     MAU_LEN=250\n",
      "                     thr1 = 5.376, thr2 = 0, thr3 = 1.792 =\n"
     ]
    },
    {
     "name": "stdout",
     "output_type": "stream",
     "text": [
      "DEBUG:root:n = 250, acum[n] = 0.0 BASELINE =-499.488\n"
     ]
    },
    {
     "name": "stderr",
     "output_type": "stream",
     "text": [
      "n = 250, acum[n] = 0.0 BASELINE =-499.488\n"
     ]
    },
    {
     "name": "stdout",
     "output_type": "stream",
     "text": [
      "DEBUG:root:nm = 250\n"
     ]
    },
    {
     "name": "stderr",
     "output_type": "stream",
     "text": [
      "nm = 250\n"
     ]
    },
    {
     "name": "stdout",
     "output_type": "stream",
     "text": [
      "DEBUG:root:sblr.signal_r[0:10]= [-500. -499. -500. -500. -500. -500. -499. -499. -500. -499.]\n"
     ]
    },
    {
     "name": "stderr",
     "output_type": "stream",
     "text": [
      "sblr.signal_r[0:10]= [-500. -499. -500. -500. -500. -500. -499. -499. -500. -499.]\n"
     ]
    },
    {
     "name": "stdout",
     "output_type": "stream",
     "text": [
      "DEBUG:root:BASELINE =-499.488\n"
     ]
    },
    {
     "name": "stderr",
     "output_type": "stream",
     "text": [
      "BASELINE =-499.488\n"
     ]
    },
    {
     "name": "stdout",
     "output_type": "stream",
     "text": [
      "DEBUG:root:sblr.signal_r[0:10] - BASELINE= [-0.512  0.488 -0.512 -0.512 -0.512 -0.512  0.488  0.488 -0.512  0.488]\n"
     ]
    },
    {
     "name": "stderr",
     "output_type": "stream",
     "text": [
      "sblr.signal_r[0:10] - BASELINE= [-0.512  0.488 -0.512 -0.512 -0.512 -0.512  0.488  0.488 -0.512  0.488]\n"
     ]
    },
    {
     "name": "stdout",
     "output_type": "stream",
     "text": [
      "DEBUG:root:-->BLR: \n",
      "                     MAU_LEN=250\n",
      "                     thr1 = 5.376, thr2 = 0, thr3 = 1.792 =\n"
     ]
    },
    {
     "name": "stderr",
     "output_type": "stream",
     "text": [
      "-->BLR: \n",
      "                     MAU_LEN=250\n",
      "                     thr1 = 5.376, thr2 = 0, thr3 = 1.792 =\n"
     ]
    },
    {
     "name": "stdout",
     "output_type": "stream",
     "text": [
      "DEBUG:root:n = 250, acum[n] = 0.0 BASELINE =-499.488\n"
     ]
    },
    {
     "name": "stderr",
     "output_type": "stream",
     "text": [
      "n = 250, acum[n] = 0.0 BASELINE =-499.488\n"
     ]
    },
    {
     "name": "stdout",
     "output_type": "stream",
     "text": [
      "DEBUG:root:nm = 250\n"
     ]
    },
    {
     "name": "stderr",
     "output_type": "stream",
     "text": [
      "nm = 250\n"
     ]
    },
    {
     "name": "stdout",
     "output_type": "stream",
     "text": [
      "DEBUG:root:sblr.signal_r[0:10]= [-499. -500. -499. -500. -499. -499. -499. -499. -499. -500.]\n"
     ]
    },
    {
     "name": "stderr",
     "output_type": "stream",
     "text": [
      "sblr.signal_r[0:10]= [-499. -500. -499. -500. -499. -499. -499. -499. -499. -500.]\n"
     ]
    },
    {
     "name": "stdout",
     "output_type": "stream",
     "text": [
      "DEBUG:root:BASELINE =-499.488\n"
     ]
    },
    {
     "name": "stderr",
     "output_type": "stream",
     "text": [
      "BASELINE =-499.488\n"
     ]
    },
    {
     "name": "stdout",
     "output_type": "stream",
     "text": [
      "DEBUG:root:sblr.signal_r[0:10] - BASELINE= [ 0.488 -0.512  0.488 -0.512  0.488  0.488  0.488  0.488  0.488 -0.512]\n"
     ]
    },
    {
     "name": "stderr",
     "output_type": "stream",
     "text": [
      "sblr.signal_r[0:10] - BASELINE= [ 0.488 -0.512  0.488 -0.512  0.488  0.488  0.488  0.488  0.488 -0.512]\n"
     ]
    },
    {
     "name": "stdout",
     "output_type": "stream",
     "text": [
      "DEBUG:root:-->BLR: \n",
      "                     MAU_LEN=250\n",
      "                     thr1 = 5.376, thr2 = 0, thr3 = 1.792 =\n"
     ]
    },
    {
     "name": "stderr",
     "output_type": "stream",
     "text": [
      "-->BLR: \n",
      "                     MAU_LEN=250\n",
      "                     thr1 = 5.376, thr2 = 0, thr3 = 1.792 =\n"
     ]
    },
    {
     "name": "stdout",
     "output_type": "stream",
     "text": [
      "DEBUG:root:n = 250, acum[n] = 0.0 BASELINE =-499.544\n"
     ]
    },
    {
     "name": "stderr",
     "output_type": "stream",
     "text": [
      "n = 250, acum[n] = 0.0 BASELINE =-499.544\n"
     ]
    },
    {
     "name": "stdout",
     "output_type": "stream",
     "text": [
      "DEBUG:root:nm = 250\n"
     ]
    },
    {
     "name": "stderr",
     "output_type": "stream",
     "text": [
      "nm = 250\n"
     ]
    },
    {
     "name": "stdout",
     "output_type": "stream",
     "text": [
      "DEBUG:root:sblr.signal_r[0:10]= [-500. -500. -499. -500. -500. -500. -500. -500. -499. -499.]\n"
     ]
    },
    {
     "name": "stderr",
     "output_type": "stream",
     "text": [
      "sblr.signal_r[0:10]= [-500. -500. -499. -500. -500. -500. -500. -500. -499. -499.]\n"
     ]
    },
    {
     "name": "stdout",
     "output_type": "stream",
     "text": [
      "DEBUG:root:BASELINE =-499.544\n"
     ]
    },
    {
     "name": "stderr",
     "output_type": "stream",
     "text": [
      "BASELINE =-499.544\n"
     ]
    },
    {
     "name": "stdout",
     "output_type": "stream",
     "text": [
      "DEBUG:root:sblr.signal_r[0:10] - BASELINE= [-0.456 -0.456  0.544 -0.456 -0.456 -0.456 -0.456 -0.456  0.544  0.544]\n"
     ]
    },
    {
     "name": "stderr",
     "output_type": "stream",
     "text": [
      "sblr.signal_r[0:10] - BASELINE= [-0.456 -0.456  0.544 -0.456 -0.456 -0.456 -0.456 -0.456  0.544  0.544]\n"
     ]
    },
    {
     "name": "stdout",
     "output_type": "stream",
     "text": [
      "DEBUG:root:-->BLR: \n",
      "                     MAU_LEN=250\n",
      "                     thr1 = 5.376, thr2 = 0, thr3 = 1.792 =\n"
     ]
    },
    {
     "name": "stderr",
     "output_type": "stream",
     "text": [
      "-->BLR: \n",
      "                     MAU_LEN=250\n",
      "                     thr1 = 5.376, thr2 = 0, thr3 = 1.792 =\n"
     ]
    },
    {
     "name": "stdout",
     "output_type": "stream",
     "text": [
      "DEBUG:root:n = 250, acum[n] = 0.0 BASELINE =-499.512\n"
     ]
    },
    {
     "name": "stderr",
     "output_type": "stream",
     "text": [
      "n = 250, acum[n] = 0.0 BASELINE =-499.512\n"
     ]
    },
    {
     "name": "stdout",
     "output_type": "stream",
     "text": [
      "DEBUG:root:nm = 250\n"
     ]
    },
    {
     "name": "stderr",
     "output_type": "stream",
     "text": [
      "nm = 250\n"
     ]
    },
    {
     "name": "stdout",
     "output_type": "stream",
     "text": [
      "DEBUG:root:sblr.signal_r[0:10]= [-499. -500. -500. -499. -500. -500. -500. -500. -500. -499.]\n"
     ]
    },
    {
     "name": "stderr",
     "output_type": "stream",
     "text": [
      "sblr.signal_r[0:10]= [-499. -500. -500. -499. -500. -500. -500. -500. -500. -499.]\n"
     ]
    },
    {
     "name": "stdout",
     "output_type": "stream",
     "text": [
      "DEBUG:root:BASELINE =-499.512\n"
     ]
    },
    {
     "name": "stderr",
     "output_type": "stream",
     "text": [
      "BASELINE =-499.512\n"
     ]
    },
    {
     "name": "stdout",
     "output_type": "stream",
     "text": [
      "DEBUG:root:sblr.signal_r[0:10] - BASELINE= [ 0.512 -0.488 -0.488  0.512 -0.488 -0.488 -0.488 -0.488 -0.488  0.512]\n"
     ]
    },
    {
     "name": "stderr",
     "output_type": "stream",
     "text": [
      "sblr.signal_r[0:10] - BASELINE= [ 0.512 -0.488 -0.488  0.512 -0.488 -0.488 -0.488 -0.488 -0.488  0.512]\n"
     ]
    },
    {
     "name": "stdout",
     "output_type": "stream",
     "text": [
      "INFO:root:-->event number =8\n"
     ]
    },
    {
     "name": "stderr",
     "output_type": "stream",
     "text": [
      "-->event number =8\n"
     ]
    },
    {
     "name": "stdout",
     "output_type": "stream",
     "text": [
      "DEBUG:root:-->BLR: \n",
      "                     MAU_LEN=250\n",
      "                     thr1 = 5.376, thr2 = 0, thr3 = 1.792 =\n"
     ]
    },
    {
     "name": "stderr",
     "output_type": "stream",
     "text": [
      "-->BLR: \n",
      "                     MAU_LEN=250\n",
      "                     thr1 = 5.376, thr2 = 0, thr3 = 1.792 =\n"
     ]
    },
    {
     "name": "stdout",
     "output_type": "stream",
     "text": [
      "DEBUG:root:n = 250, acum[n] = 0.0 BASELINE =-499.476\n"
     ]
    },
    {
     "name": "stderr",
     "output_type": "stream",
     "text": [
      "n = 250, acum[n] = 0.0 BASELINE =-499.476\n"
     ]
    },
    {
     "name": "stdout",
     "output_type": "stream",
     "text": [
      "DEBUG:root:nm = 250\n"
     ]
    },
    {
     "name": "stderr",
     "output_type": "stream",
     "text": [
      "nm = 250\n"
     ]
    },
    {
     "name": "stdout",
     "output_type": "stream",
     "text": [
      "DEBUG:root:sblr.signal_r[0:10]= [-499. -499. -499. -500. -499. -499. -499. -499. -500. -500.]\n"
     ]
    },
    {
     "name": "stderr",
     "output_type": "stream",
     "text": [
      "sblr.signal_r[0:10]= [-499. -499. -499. -500. -499. -499. -499. -499. -500. -500.]\n"
     ]
    },
    {
     "name": "stdout",
     "output_type": "stream",
     "text": [
      "DEBUG:root:BASELINE =-499.476\n"
     ]
    },
    {
     "name": "stderr",
     "output_type": "stream",
     "text": [
      "BASELINE =-499.476\n"
     ]
    },
    {
     "name": "stdout",
     "output_type": "stream",
     "text": [
      "DEBUG:root:sblr.signal_r[0:10] - BASELINE= [ 0.476  0.476  0.476 -0.524  0.476  0.476  0.476  0.476 -0.524 -0.524]\n"
     ]
    },
    {
     "name": "stderr",
     "output_type": "stream",
     "text": [
      "sblr.signal_r[0:10] - BASELINE= [ 0.476  0.476  0.476 -0.524  0.476  0.476  0.476  0.476 -0.524 -0.524]\n"
     ]
    },
    {
     "name": "stdout",
     "output_type": "stream",
     "text": [
      "DEBUG:root:-->BLR: \n",
      "                     MAU_LEN=250\n",
      "                     thr1 = 5.376, thr2 = 0, thr3 = 1.792 =\n"
     ]
    },
    {
     "name": "stderr",
     "output_type": "stream",
     "text": [
      "-->BLR: \n",
      "                     MAU_LEN=250\n",
      "                     thr1 = 5.376, thr2 = 0, thr3 = 1.792 =\n"
     ]
    },
    {
     "name": "stdout",
     "output_type": "stream",
     "text": [
      "DEBUG:root:n = 250, acum[n] = 0.0 BASELINE =-499.496\n"
     ]
    },
    {
     "name": "stderr",
     "output_type": "stream",
     "text": [
      "n = 250, acum[n] = 0.0 BASELINE =-499.496\n"
     ]
    },
    {
     "name": "stdout",
     "output_type": "stream",
     "text": [
      "DEBUG:root:nm = 250\n"
     ]
    },
    {
     "name": "stderr",
     "output_type": "stream",
     "text": [
      "nm = 250\n"
     ]
    },
    {
     "name": "stdout",
     "output_type": "stream",
     "text": [
      "DEBUG:root:sblr.signal_r[0:10]= [-500. -499. -500. -499. -499. -500. -500. -499. -499. -499.]\n"
     ]
    },
    {
     "name": "stderr",
     "output_type": "stream",
     "text": [
      "sblr.signal_r[0:10]= [-500. -499. -500. -499. -499. -500. -500. -499. -499. -499.]\n"
     ]
    },
    {
     "name": "stdout",
     "output_type": "stream",
     "text": [
      "DEBUG:root:BASELINE =-499.496\n"
     ]
    },
    {
     "name": "stderr",
     "output_type": "stream",
     "text": [
      "BASELINE =-499.496\n"
     ]
    },
    {
     "name": "stdout",
     "output_type": "stream",
     "text": [
      "DEBUG:root:sblr.signal_r[0:10] - BASELINE= [-0.504  0.496 -0.504  0.496  0.496 -0.504 -0.504  0.496  0.496  0.496]\n"
     ]
    },
    {
     "name": "stderr",
     "output_type": "stream",
     "text": [
      "sblr.signal_r[0:10] - BASELINE= [-0.504  0.496 -0.504  0.496  0.496 -0.504 -0.504  0.496  0.496  0.496]\n"
     ]
    },
    {
     "name": "stdout",
     "output_type": "stream",
     "text": [
      "DEBUG:root:-->BLR: \n",
      "                     MAU_LEN=250\n",
      "                     thr1 = 5.376, thr2 = 0, thr3 = 1.792 =\n"
     ]
    },
    {
     "name": "stderr",
     "output_type": "stream",
     "text": [
      "-->BLR: \n",
      "                     MAU_LEN=250\n",
      "                     thr1 = 5.376, thr2 = 0, thr3 = 1.792 =\n"
     ]
    },
    {
     "name": "stdout",
     "output_type": "stream",
     "text": [
      "DEBUG:root:n = 250, acum[n] = 0.0 BASELINE =-499.512\n"
     ]
    },
    {
     "name": "stderr",
     "output_type": "stream",
     "text": [
      "n = 250, acum[n] = 0.0 BASELINE =-499.512\n"
     ]
    },
    {
     "name": "stdout",
     "output_type": "stream",
     "text": [
      "DEBUG:root:nm = 250\n"
     ]
    },
    {
     "name": "stderr",
     "output_type": "stream",
     "text": [
      "nm = 250\n"
     ]
    },
    {
     "name": "stdout",
     "output_type": "stream",
     "text": [
      "DEBUG:root:sblr.signal_r[0:10]= [-500. -500. -500. -499. -499. -499. -499. -499. -500. -499.]\n"
     ]
    },
    {
     "name": "stderr",
     "output_type": "stream",
     "text": [
      "sblr.signal_r[0:10]= [-500. -500. -500. -499. -499. -499. -499. -499. -500. -499.]\n"
     ]
    },
    {
     "name": "stdout",
     "output_type": "stream",
     "text": [
      "DEBUG:root:BASELINE =-499.512\n"
     ]
    },
    {
     "name": "stderr",
     "output_type": "stream",
     "text": [
      "BASELINE =-499.512\n"
     ]
    },
    {
     "name": "stdout",
     "output_type": "stream",
     "text": [
      "DEBUG:root:sblr.signal_r[0:10] - BASELINE= [-0.488 -0.488 -0.488  0.512  0.512  0.512  0.512  0.512 -0.488  0.512]\n"
     ]
    },
    {
     "name": "stderr",
     "output_type": "stream",
     "text": [
      "sblr.signal_r[0:10] - BASELINE= [-0.488 -0.488 -0.488  0.512  0.512  0.512  0.512  0.512 -0.488  0.512]\n"
     ]
    },
    {
     "name": "stdout",
     "output_type": "stream",
     "text": [
      "DEBUG:root:-->BLR: \n",
      "                     MAU_LEN=250\n",
      "                     thr1 = 5.376, thr2 = 0, thr3 = 1.792 =\n"
     ]
    },
    {
     "name": "stderr",
     "output_type": "stream",
     "text": [
      "-->BLR: \n",
      "                     MAU_LEN=250\n",
      "                     thr1 = 5.376, thr2 = 0, thr3 = 1.792 =\n"
     ]
    },
    {
     "name": "stdout",
     "output_type": "stream",
     "text": [
      "DEBUG:root:n = 250, acum[n] = 0.0 BASELINE =-499.524\n"
     ]
    },
    {
     "name": "stderr",
     "output_type": "stream",
     "text": [
      "n = 250, acum[n] = 0.0 BASELINE =-499.524\n"
     ]
    },
    {
     "name": "stdout",
     "output_type": "stream",
     "text": [
      "DEBUG:root:nm = 250\n"
     ]
    },
    {
     "name": "stderr",
     "output_type": "stream",
     "text": [
      "nm = 250\n"
     ]
    },
    {
     "name": "stdout",
     "output_type": "stream",
     "text": [
      "DEBUG:root:sblr.signal_r[0:10]= [-500. -499. -500. -499. -499. -500. -499. -499. -499. -499.]\n"
     ]
    },
    {
     "name": "stderr",
     "output_type": "stream",
     "text": [
      "sblr.signal_r[0:10]= [-500. -499. -500. -499. -499. -500. -499. -499. -499. -499.]\n"
     ]
    },
    {
     "name": "stdout",
     "output_type": "stream",
     "text": [
      "DEBUG:root:BASELINE =-499.524\n"
     ]
    },
    {
     "name": "stderr",
     "output_type": "stream",
     "text": [
      "BASELINE =-499.524\n"
     ]
    },
    {
     "name": "stdout",
     "output_type": "stream",
     "text": [
      "DEBUG:root:sblr.signal_r[0:10] - BASELINE= [-0.476  0.524 -0.476  0.524  0.524 -0.476  0.524  0.524  0.524  0.524]\n"
     ]
    },
    {
     "name": "stderr",
     "output_type": "stream",
     "text": [
      "sblr.signal_r[0:10] - BASELINE= [-0.476  0.524 -0.476  0.524  0.524 -0.476  0.524  0.524  0.524  0.524]\n"
     ]
    },
    {
     "name": "stdout",
     "output_type": "stream",
     "text": [
      "DEBUG:root:-->BLR: \n",
      "                     MAU_LEN=250\n",
      "                     thr1 = 5.376, thr2 = 0, thr3 = 1.792 =\n"
     ]
    },
    {
     "name": "stderr",
     "output_type": "stream",
     "text": [
      "-->BLR: \n",
      "                     MAU_LEN=250\n",
      "                     thr1 = 5.376, thr2 = 0, thr3 = 1.792 =\n"
     ]
    },
    {
     "name": "stdout",
     "output_type": "stream",
     "text": [
      "DEBUG:root:n = 250, acum[n] = 0.0 BASELINE =-499.468\n"
     ]
    },
    {
     "name": "stderr",
     "output_type": "stream",
     "text": [
      "n = 250, acum[n] = 0.0 BASELINE =-499.468\n"
     ]
    },
    {
     "name": "stdout",
     "output_type": "stream",
     "text": [
      "DEBUG:root:nm = 250\n"
     ]
    },
    {
     "name": "stderr",
     "output_type": "stream",
     "text": [
      "nm = 250\n"
     ]
    },
    {
     "name": "stdout",
     "output_type": "stream",
     "text": [
      "DEBUG:root:sblr.signal_r[0:10]= [-499. -500. -499. -499. -499. -499. -499. -500. -499. -500.]\n"
     ]
    },
    {
     "name": "stderr",
     "output_type": "stream",
     "text": [
      "sblr.signal_r[0:10]= [-499. -500. -499. -499. -499. -499. -499. -500. -499. -500.]\n"
     ]
    },
    {
     "name": "stdout",
     "output_type": "stream",
     "text": [
      "DEBUG:root:BASELINE =-499.468\n"
     ]
    },
    {
     "name": "stderr",
     "output_type": "stream",
     "text": [
      "BASELINE =-499.468\n"
     ]
    },
    {
     "name": "stdout",
     "output_type": "stream",
     "text": [
      "DEBUG:root:sblr.signal_r[0:10] - BASELINE= [ 0.468 -0.532  0.468  0.468  0.468  0.468  0.468 -0.532  0.468 -0.532]\n"
     ]
    },
    {
     "name": "stderr",
     "output_type": "stream",
     "text": [
      "sblr.signal_r[0:10] - BASELINE= [ 0.468 -0.532  0.468  0.468  0.468  0.468  0.468 -0.532  0.468 -0.532]\n"
     ]
    },
    {
     "name": "stdout",
     "output_type": "stream",
     "text": [
      "DEBUG:root:-->BLR: \n",
      "                     MAU_LEN=250\n",
      "                     thr1 = 5.376, thr2 = 0, thr3 = 1.792 =\n"
     ]
    },
    {
     "name": "stderr",
     "output_type": "stream",
     "text": [
      "-->BLR: \n",
      "                     MAU_LEN=250\n",
      "                     thr1 = 5.376, thr2 = 0, thr3 = 1.792 =\n"
     ]
    },
    {
     "name": "stdout",
     "output_type": "stream",
     "text": [
      "DEBUG:root:n = 250, acum[n] = 0.0 BASELINE =-499.464\n"
     ]
    },
    {
     "name": "stderr",
     "output_type": "stream",
     "text": [
      "n = 250, acum[n] = 0.0 BASELINE =-499.464\n"
     ]
    },
    {
     "name": "stdout",
     "output_type": "stream",
     "text": [
      "DEBUG:root:nm = 250\n"
     ]
    },
    {
     "name": "stderr",
     "output_type": "stream",
     "text": [
      "nm = 250\n"
     ]
    },
    {
     "name": "stdout",
     "output_type": "stream",
     "text": [
      "DEBUG:root:sblr.signal_r[0:10]= [-499. -500. -500. -500. -499. -499. -500. -499. -500. -499.]\n"
     ]
    },
    {
     "name": "stderr",
     "output_type": "stream",
     "text": [
      "sblr.signal_r[0:10]= [-499. -500. -500. -500. -499. -499. -500. -499. -500. -499.]\n"
     ]
    },
    {
     "name": "stdout",
     "output_type": "stream",
     "text": [
      "DEBUG:root:BASELINE =-499.464\n"
     ]
    },
    {
     "name": "stderr",
     "output_type": "stream",
     "text": [
      "BASELINE =-499.464\n"
     ]
    },
    {
     "name": "stdout",
     "output_type": "stream",
     "text": [
      "DEBUG:root:sblr.signal_r[0:10] - BASELINE= [ 0.464 -0.536 -0.536 -0.536  0.464  0.464 -0.536  0.464 -0.536  0.464]\n"
     ]
    },
    {
     "name": "stderr",
     "output_type": "stream",
     "text": [
      "sblr.signal_r[0:10] - BASELINE= [ 0.464 -0.536 -0.536 -0.536  0.464  0.464 -0.536  0.464 -0.536  0.464]\n"
     ]
    },
    {
     "name": "stdout",
     "output_type": "stream",
     "text": [
      "DEBUG:root:-->BLR: \n",
      "                     MAU_LEN=250\n",
      "                     thr1 = 5.376, thr2 = 0, thr3 = 1.792 =\n"
     ]
    },
    {
     "name": "stderr",
     "output_type": "stream",
     "text": [
      "-->BLR: \n",
      "                     MAU_LEN=250\n",
      "                     thr1 = 5.376, thr2 = 0, thr3 = 1.792 =\n"
     ]
    },
    {
     "name": "stdout",
     "output_type": "stream",
     "text": [
      "DEBUG:root:n = 250, acum[n] = 0.0 BASELINE =-499.508\n"
     ]
    },
    {
     "name": "stderr",
     "output_type": "stream",
     "text": [
      "n = 250, acum[n] = 0.0 BASELINE =-499.508\n"
     ]
    },
    {
     "name": "stdout",
     "output_type": "stream",
     "text": [
      "DEBUG:root:nm = 250\n"
     ]
    },
    {
     "name": "stderr",
     "output_type": "stream",
     "text": [
      "nm = 250\n"
     ]
    },
    {
     "name": "stdout",
     "output_type": "stream",
     "text": [
      "DEBUG:root:sblr.signal_r[0:10]= [-500. -500. -500. -499. -500. -500. -499. -499. -499. -499.]\n"
     ]
    },
    {
     "name": "stderr",
     "output_type": "stream",
     "text": [
      "sblr.signal_r[0:10]= [-500. -500. -500. -499. -500. -500. -499. -499. -499. -499.]\n"
     ]
    },
    {
     "name": "stdout",
     "output_type": "stream",
     "text": [
      "DEBUG:root:BASELINE =-499.508\n"
     ]
    },
    {
     "name": "stderr",
     "output_type": "stream",
     "text": [
      "BASELINE =-499.508\n"
     ]
    },
    {
     "name": "stdout",
     "output_type": "stream",
     "text": [
      "DEBUG:root:sblr.signal_r[0:10] - BASELINE= [-0.492 -0.492 -0.492  0.508 -0.492 -0.492  0.508  0.508  0.508  0.508]\n"
     ]
    },
    {
     "name": "stderr",
     "output_type": "stream",
     "text": [
      "sblr.signal_r[0:10] - BASELINE= [-0.492 -0.492 -0.492  0.508 -0.492 -0.492  0.508  0.508  0.508  0.508]\n"
     ]
    },
    {
     "name": "stdout",
     "output_type": "stream",
     "text": [
      "DEBUG:root:-->BLR: \n",
      "                     MAU_LEN=250\n",
      "                     thr1 = 5.376, thr2 = 0, thr3 = 1.792 =\n"
     ]
    },
    {
     "name": "stderr",
     "output_type": "stream",
     "text": [
      "-->BLR: \n",
      "                     MAU_LEN=250\n",
      "                     thr1 = 5.376, thr2 = 0, thr3 = 1.792 =\n"
     ]
    },
    {
     "name": "stdout",
     "output_type": "stream",
     "text": [
      "DEBUG:root:n = 250, acum[n] = 0.0 BASELINE =-499.468\n"
     ]
    },
    {
     "name": "stderr",
     "output_type": "stream",
     "text": [
      "n = 250, acum[n] = 0.0 BASELINE =-499.468\n"
     ]
    },
    {
     "name": "stdout",
     "output_type": "stream",
     "text": [
      "DEBUG:root:nm = 250\n"
     ]
    },
    {
     "name": "stderr",
     "output_type": "stream",
     "text": [
      "nm = 250\n"
     ]
    },
    {
     "name": "stdout",
     "output_type": "stream",
     "text": [
      "DEBUG:root:sblr.signal_r[0:10]= [-500. -500. -500. -500. -499. -499. -499. -499. -499. -499.]\n"
     ]
    },
    {
     "name": "stderr",
     "output_type": "stream",
     "text": [
      "sblr.signal_r[0:10]= [-500. -500. -500. -500. -499. -499. -499. -499. -499. -499.]\n"
     ]
    },
    {
     "name": "stdout",
     "output_type": "stream",
     "text": [
      "DEBUG:root:BASELINE =-499.468\n"
     ]
    },
    {
     "name": "stderr",
     "output_type": "stream",
     "text": [
      "BASELINE =-499.468\n"
     ]
    },
    {
     "name": "stdout",
     "output_type": "stream",
     "text": [
      "DEBUG:root:sblr.signal_r[0:10] - BASELINE= [-0.532 -0.532 -0.532 -0.532  0.468  0.468  0.468  0.468  0.468  0.468]\n"
     ]
    },
    {
     "name": "stderr",
     "output_type": "stream",
     "text": [
      "sblr.signal_r[0:10] - BASELINE= [-0.532 -0.532 -0.532 -0.532  0.468  0.468  0.468  0.468  0.468  0.468]\n"
     ]
    },
    {
     "name": "stdout",
     "output_type": "stream",
     "text": [
      "DEBUG:root:-->BLR: \n",
      "                     MAU_LEN=250\n",
      "                     thr1 = 5.376, thr2 = 0, thr3 = 1.792 =\n"
     ]
    },
    {
     "name": "stderr",
     "output_type": "stream",
     "text": [
      "-->BLR: \n",
      "                     MAU_LEN=250\n",
      "                     thr1 = 5.376, thr2 = 0, thr3 = 1.792 =\n"
     ]
    },
    {
     "name": "stdout",
     "output_type": "stream",
     "text": [
      "DEBUG:root:n = 250, acum[n] = 0.0 BASELINE =-499.528\n"
     ]
    },
    {
     "name": "stderr",
     "output_type": "stream",
     "text": [
      "n = 250, acum[n] = 0.0 BASELINE =-499.528\n"
     ]
    },
    {
     "name": "stdout",
     "output_type": "stream",
     "text": [
      "DEBUG:root:nm = 250\n"
     ]
    },
    {
     "name": "stderr",
     "output_type": "stream",
     "text": [
      "nm = 250\n"
     ]
    },
    {
     "name": "stdout",
     "output_type": "stream",
     "text": [
      "DEBUG:root:sblr.signal_r[0:10]= [-500. -500. -499. -499. -499. -500. -499. -499. -499. -500.]\n"
     ]
    },
    {
     "name": "stderr",
     "output_type": "stream",
     "text": [
      "sblr.signal_r[0:10]= [-500. -500. -499. -499. -499. -500. -499. -499. -499. -500.]\n"
     ]
    },
    {
     "name": "stdout",
     "output_type": "stream",
     "text": [
      "DEBUG:root:BASELINE =-499.528\n"
     ]
    },
    {
     "name": "stderr",
     "output_type": "stream",
     "text": [
      "BASELINE =-499.528\n"
     ]
    },
    {
     "name": "stdout",
     "output_type": "stream",
     "text": [
      "DEBUG:root:sblr.signal_r[0:10] - BASELINE= [-0.472 -0.472  0.528  0.528  0.528 -0.472  0.528  0.528  0.528 -0.472]\n"
     ]
    },
    {
     "name": "stderr",
     "output_type": "stream",
     "text": [
      "sblr.signal_r[0:10] - BASELINE= [-0.472 -0.472  0.528  0.528  0.528 -0.472  0.528  0.528  0.528 -0.472]\n"
     ]
    },
    {
     "name": "stdout",
     "output_type": "stream",
     "text": [
      "DEBUG:root:-->BLR: \n",
      "                     MAU_LEN=250\n",
      "                     thr1 = 5.376, thr2 = 0, thr3 = 1.792 =\n"
     ]
    },
    {
     "name": "stderr",
     "output_type": "stream",
     "text": [
      "-->BLR: \n",
      "                     MAU_LEN=250\n",
      "                     thr1 = 5.376, thr2 = 0, thr3 = 1.792 =\n"
     ]
    },
    {
     "name": "stdout",
     "output_type": "stream",
     "text": [
      "DEBUG:root:n = 250, acum[n] = 0.0 BASELINE =-499.496\n"
     ]
    },
    {
     "name": "stderr",
     "output_type": "stream",
     "text": [
      "n = 250, acum[n] = 0.0 BASELINE =-499.496\n"
     ]
    },
    {
     "name": "stdout",
     "output_type": "stream",
     "text": [
      "DEBUG:root:nm = 250\n"
     ]
    },
    {
     "name": "stderr",
     "output_type": "stream",
     "text": [
      "nm = 250\n"
     ]
    },
    {
     "name": "stdout",
     "output_type": "stream",
     "text": [
      "DEBUG:root:sblr.signal_r[0:10]= [-499. -499. -499. -499. -499. -500. -500. -500. -500. -499.]\n"
     ]
    },
    {
     "name": "stderr",
     "output_type": "stream",
     "text": [
      "sblr.signal_r[0:10]= [-499. -499. -499. -499. -499. -500. -500. -500. -500. -499.]\n"
     ]
    },
    {
     "name": "stdout",
     "output_type": "stream",
     "text": [
      "DEBUG:root:BASELINE =-499.496\n"
     ]
    },
    {
     "name": "stderr",
     "output_type": "stream",
     "text": [
      "BASELINE =-499.496\n"
     ]
    },
    {
     "name": "stdout",
     "output_type": "stream",
     "text": [
      "DEBUG:root:sblr.signal_r[0:10] - BASELINE= [ 0.496  0.496  0.496  0.496  0.496 -0.504 -0.504 -0.504 -0.504  0.496]\n"
     ]
    },
    {
     "name": "stderr",
     "output_type": "stream",
     "text": [
      "sblr.signal_r[0:10] - BASELINE= [ 0.496  0.496  0.496  0.496  0.496 -0.504 -0.504 -0.504 -0.504  0.496]\n"
     ]
    },
    {
     "name": "stdout",
     "output_type": "stream",
     "text": [
      "DEBUG:root:-->BLR: \n",
      "                     MAU_LEN=250\n",
      "                     thr1 = 5.376, thr2 = 0, thr3 = 1.792 =\n"
     ]
    },
    {
     "name": "stderr",
     "output_type": "stream",
     "text": [
      "-->BLR: \n",
      "                     MAU_LEN=250\n",
      "                     thr1 = 5.376, thr2 = 0, thr3 = 1.792 =\n"
     ]
    },
    {
     "name": "stdout",
     "output_type": "stream",
     "text": [
      "DEBUG:root:n = 250, acum[n] = 0.0 BASELINE =-499.44\n"
     ]
    },
    {
     "name": "stderr",
     "output_type": "stream",
     "text": [
      "n = 250, acum[n] = 0.0 BASELINE =-499.44\n"
     ]
    },
    {
     "name": "stdout",
     "output_type": "stream",
     "text": [
      "DEBUG:root:nm = 250\n"
     ]
    },
    {
     "name": "stderr",
     "output_type": "stream",
     "text": [
      "nm = 250\n"
     ]
    },
    {
     "name": "stdout",
     "output_type": "stream",
     "text": [
      "DEBUG:root:sblr.signal_r[0:10]= [-500. -499. -499. -500. -499. -499. -500. -500. -499. -500.]\n"
     ]
    },
    {
     "name": "stderr",
     "output_type": "stream",
     "text": [
      "sblr.signal_r[0:10]= [-500. -499. -499. -500. -499. -499. -500. -500. -499. -500.]\n"
     ]
    },
    {
     "name": "stdout",
     "output_type": "stream",
     "text": [
      "DEBUG:root:BASELINE =-499.44\n"
     ]
    },
    {
     "name": "stderr",
     "output_type": "stream",
     "text": [
      "BASELINE =-499.44\n"
     ]
    },
    {
     "name": "stdout",
     "output_type": "stream",
     "text": [
      "DEBUG:root:sblr.signal_r[0:10] - BASELINE= [-0.56  0.44  0.44 -0.56  0.44  0.44 -0.56 -0.56  0.44 -0.56]\n"
     ]
    },
    {
     "name": "stderr",
     "output_type": "stream",
     "text": [
      "sblr.signal_r[0:10] - BASELINE= [-0.56  0.44  0.44 -0.56  0.44  0.44 -0.56 -0.56  0.44 -0.56]\n"
     ]
    },
    {
     "name": "stdout",
     "output_type": "stream",
     "text": [
      "DEBUG:root:-->BLR: \n",
      "                     MAU_LEN=250\n",
      "                     thr1 = 5.376, thr2 = 0, thr3 = 1.792 =\n"
     ]
    },
    {
     "name": "stderr",
     "output_type": "stream",
     "text": [
      "-->BLR: \n",
      "                     MAU_LEN=250\n",
      "                     thr1 = 5.376, thr2 = 0, thr3 = 1.792 =\n"
     ]
    },
    {
     "name": "stdout",
     "output_type": "stream",
     "text": [
      "DEBUG:root:n = 250, acum[n] = 0.0 BASELINE =-499.472\n"
     ]
    },
    {
     "name": "stderr",
     "output_type": "stream",
     "text": [
      "n = 250, acum[n] = 0.0 BASELINE =-499.472\n"
     ]
    },
    {
     "name": "stdout",
     "output_type": "stream",
     "text": [
      "DEBUG:root:nm = 250\n"
     ]
    },
    {
     "name": "stderr",
     "output_type": "stream",
     "text": [
      "nm = 250\n"
     ]
    },
    {
     "name": "stdout",
     "output_type": "stream",
     "text": [
      "DEBUG:root:sblr.signal_r[0:10]= [-500. -499. -499. -499. -500. -500. -499. -499. -500. -499.]\n"
     ]
    },
    {
     "name": "stderr",
     "output_type": "stream",
     "text": [
      "sblr.signal_r[0:10]= [-500. -499. -499. -499. -500. -500. -499. -499. -500. -499.]\n"
     ]
    },
    {
     "name": "stdout",
     "output_type": "stream",
     "text": [
      "DEBUG:root:BASELINE =-499.472\n"
     ]
    },
    {
     "name": "stderr",
     "output_type": "stream",
     "text": [
      "BASELINE =-499.472\n"
     ]
    },
    {
     "name": "stdout",
     "output_type": "stream",
     "text": [
      "DEBUG:root:sblr.signal_r[0:10] - BASELINE= [-0.528  0.472  0.472  0.472 -0.528 -0.528  0.472  0.472 -0.528  0.472]\n"
     ]
    },
    {
     "name": "stderr",
     "output_type": "stream",
     "text": [
      "sblr.signal_r[0:10] - BASELINE= [-0.528  0.472  0.472  0.472 -0.528 -0.528  0.472  0.472 -0.528  0.472]\n"
     ]
    },
    {
     "name": "stdout",
     "output_type": "stream",
     "text": [
      "INFO:root:-->event number =9\n"
     ]
    },
    {
     "name": "stderr",
     "output_type": "stream",
     "text": [
      "-->event number =9\n"
     ]
    },
    {
     "name": "stdout",
     "output_type": "stream",
     "text": [
      "DEBUG:root:-->BLR: \n",
      "                     MAU_LEN=250\n",
      "                     thr1 = 5.376, thr2 = 0, thr3 = 1.792 =\n"
     ]
    },
    {
     "name": "stderr",
     "output_type": "stream",
     "text": [
      "-->BLR: \n",
      "                     MAU_LEN=250\n",
      "                     thr1 = 5.376, thr2 = 0, thr3 = 1.792 =\n"
     ]
    },
    {
     "name": "stdout",
     "output_type": "stream",
     "text": [
      "DEBUG:root:n = 250, acum[n] = 0.0 BASELINE =-499.48\n"
     ]
    },
    {
     "name": "stderr",
     "output_type": "stream",
     "text": [
      "n = 250, acum[n] = 0.0 BASELINE =-499.48\n"
     ]
    },
    {
     "name": "stdout",
     "output_type": "stream",
     "text": [
      "DEBUG:root:nm = 250\n"
     ]
    },
    {
     "name": "stderr",
     "output_type": "stream",
     "text": [
      "nm = 250\n"
     ]
    },
    {
     "name": "stdout",
     "output_type": "stream",
     "text": [
      "DEBUG:root:sblr.signal_r[0:10]= [-499. -500. -500. -500. -500. -501. -500. -499. -499. -499.]\n"
     ]
    },
    {
     "name": "stderr",
     "output_type": "stream",
     "text": [
      "sblr.signal_r[0:10]= [-499. -500. -500. -500. -500. -501. -500. -499. -499. -499.]\n"
     ]
    },
    {
     "name": "stdout",
     "output_type": "stream",
     "text": [
      "DEBUG:root:BASELINE =-499.48\n"
     ]
    },
    {
     "name": "stderr",
     "output_type": "stream",
     "text": [
      "BASELINE =-499.48\n"
     ]
    },
    {
     "name": "stdout",
     "output_type": "stream",
     "text": [
      "DEBUG:root:sblr.signal_r[0:10] - BASELINE= [ 0.48 -0.52 -0.52 -0.52 -0.52 -1.52 -0.52  0.48  0.48  0.48]\n"
     ]
    },
    {
     "name": "stderr",
     "output_type": "stream",
     "text": [
      "sblr.signal_r[0:10] - BASELINE= [ 0.48 -0.52 -0.52 -0.52 -0.52 -1.52 -0.52  0.48  0.48  0.48]\n"
     ]
    },
    {
     "name": "stdout",
     "output_type": "stream",
     "text": [
      "DEBUG:root:-->BLR: \n",
      "                     MAU_LEN=250\n",
      "                     thr1 = 5.376, thr2 = 0, thr3 = 1.792 =\n"
     ]
    },
    {
     "name": "stderr",
     "output_type": "stream",
     "text": [
      "-->BLR: \n",
      "                     MAU_LEN=250\n",
      "                     thr1 = 5.376, thr2 = 0, thr3 = 1.792 =\n"
     ]
    },
    {
     "name": "stdout",
     "output_type": "stream",
     "text": [
      "DEBUG:root:n = 250, acum[n] = 0.0 BASELINE =-499.504\n"
     ]
    },
    {
     "name": "stderr",
     "output_type": "stream",
     "text": [
      "n = 250, acum[n] = 0.0 BASELINE =-499.504\n"
     ]
    },
    {
     "name": "stdout",
     "output_type": "stream",
     "text": [
      "DEBUG:root:nm = 250\n"
     ]
    },
    {
     "name": "stderr",
     "output_type": "stream",
     "text": [
      "nm = 250\n"
     ]
    },
    {
     "name": "stdout",
     "output_type": "stream",
     "text": [
      "DEBUG:root:sblr.signal_r[0:10]= [-500. -500. -500. -500. -499. -500. -500. -499. -499. -500.]\n"
     ]
    },
    {
     "name": "stderr",
     "output_type": "stream",
     "text": [
      "sblr.signal_r[0:10]= [-500. -500. -500. -500. -499. -500. -500. -499. -499. -500.]\n"
     ]
    },
    {
     "name": "stdout",
     "output_type": "stream",
     "text": [
      "DEBUG:root:BASELINE =-499.504\n"
     ]
    },
    {
     "name": "stderr",
     "output_type": "stream",
     "text": [
      "BASELINE =-499.504\n"
     ]
    },
    {
     "name": "stdout",
     "output_type": "stream",
     "text": [
      "DEBUG:root:sblr.signal_r[0:10] - BASELINE= [-0.496 -0.496 -0.496 -0.496  0.504 -0.496 -0.496  0.504  0.504 -0.496]\n"
     ]
    },
    {
     "name": "stderr",
     "output_type": "stream",
     "text": [
      "sblr.signal_r[0:10] - BASELINE= [-0.496 -0.496 -0.496 -0.496  0.504 -0.496 -0.496  0.504  0.504 -0.496]\n"
     ]
    },
    {
     "name": "stdout",
     "output_type": "stream",
     "text": [
      "DEBUG:root:-->BLR: \n",
      "                     MAU_LEN=250\n",
      "                     thr1 = 5.376, thr2 = 0, thr3 = 1.792 =\n"
     ]
    },
    {
     "name": "stderr",
     "output_type": "stream",
     "text": [
      "-->BLR: \n",
      "                     MAU_LEN=250\n",
      "                     thr1 = 5.376, thr2 = 0, thr3 = 1.792 =\n"
     ]
    },
    {
     "name": "stdout",
     "output_type": "stream",
     "text": [
      "DEBUG:root:n = 250, acum[n] = 0.0 BASELINE =-499.456\n"
     ]
    },
    {
     "name": "stderr",
     "output_type": "stream",
     "text": [
      "n = 250, acum[n] = 0.0 BASELINE =-499.456\n"
     ]
    },
    {
     "name": "stdout",
     "output_type": "stream",
     "text": [
      "DEBUG:root:nm = 250\n"
     ]
    },
    {
     "name": "stderr",
     "output_type": "stream",
     "text": [
      "nm = 250\n"
     ]
    },
    {
     "name": "stdout",
     "output_type": "stream",
     "text": [
      "DEBUG:root:sblr.signal_r[0:10]= [-499. -499. -500. -500. -500. -499. -499. -499. -499. -499.]\n"
     ]
    },
    {
     "name": "stderr",
     "output_type": "stream",
     "text": [
      "sblr.signal_r[0:10]= [-499. -499. -500. -500. -500. -499. -499. -499. -499. -499.]\n"
     ]
    },
    {
     "name": "stdout",
     "output_type": "stream",
     "text": [
      "DEBUG:root:BASELINE =-499.456\n"
     ]
    },
    {
     "name": "stderr",
     "output_type": "stream",
     "text": [
      "BASELINE =-499.456\n"
     ]
    },
    {
     "name": "stdout",
     "output_type": "stream",
     "text": [
      "DEBUG:root:sblr.signal_r[0:10] - BASELINE= [ 0.456  0.456 -0.544 -0.544 -0.544  0.456  0.456  0.456  0.456  0.456]\n"
     ]
    },
    {
     "name": "stderr",
     "output_type": "stream",
     "text": [
      "sblr.signal_r[0:10] - BASELINE= [ 0.456  0.456 -0.544 -0.544 -0.544  0.456  0.456  0.456  0.456  0.456]\n"
     ]
    },
    {
     "name": "stdout",
     "output_type": "stream",
     "text": [
      "DEBUG:root:-->BLR: \n",
      "                     MAU_LEN=250\n",
      "                     thr1 = 5.376, thr2 = 0, thr3 = 1.792 =\n"
     ]
    },
    {
     "name": "stderr",
     "output_type": "stream",
     "text": [
      "-->BLR: \n",
      "                     MAU_LEN=250\n",
      "                     thr1 = 5.376, thr2 = 0, thr3 = 1.792 =\n"
     ]
    },
    {
     "name": "stdout",
     "output_type": "stream",
     "text": [
      "DEBUG:root:n = 250, acum[n] = 0.0 BASELINE =-499.488\n"
     ]
    },
    {
     "name": "stderr",
     "output_type": "stream",
     "text": [
      "n = 250, acum[n] = 0.0 BASELINE =-499.488\n"
     ]
    },
    {
     "name": "stdout",
     "output_type": "stream",
     "text": [
      "DEBUG:root:nm = 250\n"
     ]
    },
    {
     "name": "stderr",
     "output_type": "stream",
     "text": [
      "nm = 250\n"
     ]
    },
    {
     "name": "stdout",
     "output_type": "stream",
     "text": [
      "DEBUG:root:sblr.signal_r[0:10]= [-499. -500. -499. -499. -499. -500. -501. -499. -499. -500.]\n"
     ]
    },
    {
     "name": "stderr",
     "output_type": "stream",
     "text": [
      "sblr.signal_r[0:10]= [-499. -500. -499. -499. -499. -500. -501. -499. -499. -500.]\n"
     ]
    },
    {
     "name": "stdout",
     "output_type": "stream",
     "text": [
      "DEBUG:root:BASELINE =-499.488\n"
     ]
    },
    {
     "name": "stderr",
     "output_type": "stream",
     "text": [
      "BASELINE =-499.488\n"
     ]
    },
    {
     "name": "stdout",
     "output_type": "stream",
     "text": [
      "DEBUG:root:sblr.signal_r[0:10] - BASELINE= [ 0.488 -0.512  0.488  0.488  0.488 -0.512 -1.512  0.488  0.488 -0.512]\n"
     ]
    },
    {
     "name": "stderr",
     "output_type": "stream",
     "text": [
      "sblr.signal_r[0:10] - BASELINE= [ 0.488 -0.512  0.488  0.488  0.488 -0.512 -1.512  0.488  0.488 -0.512]\n"
     ]
    },
    {
     "name": "stdout",
     "output_type": "stream",
     "text": [
      "DEBUG:root:-->BLR: \n",
      "                     MAU_LEN=250\n",
      "                     thr1 = 5.376, thr2 = 0, thr3 = 1.792 =\n"
     ]
    },
    {
     "name": "stderr",
     "output_type": "stream",
     "text": [
      "-->BLR: \n",
      "                     MAU_LEN=250\n",
      "                     thr1 = 5.376, thr2 = 0, thr3 = 1.792 =\n"
     ]
    },
    {
     "name": "stdout",
     "output_type": "stream",
     "text": [
      "DEBUG:root:n = 250, acum[n] = 0.0 BASELINE =-499.5\n"
     ]
    },
    {
     "name": "stderr",
     "output_type": "stream",
     "text": [
      "n = 250, acum[n] = 0.0 BASELINE =-499.5\n"
     ]
    },
    {
     "name": "stdout",
     "output_type": "stream",
     "text": [
      "DEBUG:root:nm = 250\n"
     ]
    },
    {
     "name": "stderr",
     "output_type": "stream",
     "text": [
      "nm = 250\n"
     ]
    },
    {
     "name": "stdout",
     "output_type": "stream",
     "text": [
      "DEBUG:root:sblr.signal_r[0:10]= [-500. -499. -499. -499. -499. -500. -500. -500. -499. -500.]\n"
     ]
    },
    {
     "name": "stderr",
     "output_type": "stream",
     "text": [
      "sblr.signal_r[0:10]= [-500. -499. -499. -499. -499. -500. -500. -500. -499. -500.]\n"
     ]
    },
    {
     "name": "stdout",
     "output_type": "stream",
     "text": [
      "DEBUG:root:BASELINE =-499.5\n"
     ]
    },
    {
     "name": "stderr",
     "output_type": "stream",
     "text": [
      "BASELINE =-499.5\n"
     ]
    },
    {
     "name": "stdout",
     "output_type": "stream",
     "text": [
      "DEBUG:root:sblr.signal_r[0:10] - BASELINE= [-0.5  0.5  0.5  0.5  0.5 -0.5 -0.5 -0.5  0.5 -0.5]\n"
     ]
    },
    {
     "name": "stderr",
     "output_type": "stream",
     "text": [
      "sblr.signal_r[0:10] - BASELINE= [-0.5  0.5  0.5  0.5  0.5 -0.5 -0.5 -0.5  0.5 -0.5]\n"
     ]
    },
    {
     "name": "stdout",
     "output_type": "stream",
     "text": [
      "DEBUG:root:-->BLR: \n",
      "                     MAU_LEN=250\n",
      "                     thr1 = 5.376, thr2 = 0, thr3 = 1.792 =\n"
     ]
    },
    {
     "name": "stderr",
     "output_type": "stream",
     "text": [
      "-->BLR: \n",
      "                     MAU_LEN=250\n",
      "                     thr1 = 5.376, thr2 = 0, thr3 = 1.792 =\n"
     ]
    },
    {
     "name": "stdout",
     "output_type": "stream",
     "text": [
      "DEBUG:root:n = 250, acum[n] = 0.0 BASELINE =-499.504\n"
     ]
    },
    {
     "name": "stderr",
     "output_type": "stream",
     "text": [
      "n = 250, acum[n] = 0.0 BASELINE =-499.504\n"
     ]
    },
    {
     "name": "stdout",
     "output_type": "stream",
     "text": [
      "DEBUG:root:nm = 250\n"
     ]
    },
    {
     "name": "stderr",
     "output_type": "stream",
     "text": [
      "nm = 250\n"
     ]
    },
    {
     "name": "stdout",
     "output_type": "stream",
     "text": [
      "DEBUG:root:sblr.signal_r[0:10]= [-499. -500. -499. -500. -499. -500. -499. -500. -500. -499.]\n"
     ]
    },
    {
     "name": "stderr",
     "output_type": "stream",
     "text": [
      "sblr.signal_r[0:10]= [-499. -500. -499. -500. -499. -500. -499. -500. -500. -499.]\n"
     ]
    },
    {
     "name": "stdout",
     "output_type": "stream",
     "text": [
      "DEBUG:root:BASELINE =-499.504\n"
     ]
    },
    {
     "name": "stderr",
     "output_type": "stream",
     "text": [
      "BASELINE =-499.504\n"
     ]
    },
    {
     "name": "stdout",
     "output_type": "stream",
     "text": [
      "DEBUG:root:sblr.signal_r[0:10] - BASELINE= [ 0.504 -0.496  0.504 -0.496  0.504 -0.496  0.504 -0.496 -0.496  0.504]\n"
     ]
    },
    {
     "name": "stderr",
     "output_type": "stream",
     "text": [
      "sblr.signal_r[0:10] - BASELINE= [ 0.504 -0.496  0.504 -0.496  0.504 -0.496  0.504 -0.496 -0.496  0.504]\n"
     ]
    },
    {
     "name": "stdout",
     "output_type": "stream",
     "text": [
      "DEBUG:root:-->BLR: \n",
      "                     MAU_LEN=250\n",
      "                     thr1 = 5.376, thr2 = 0, thr3 = 1.792 =\n"
     ]
    },
    {
     "name": "stderr",
     "output_type": "stream",
     "text": [
      "-->BLR: \n",
      "                     MAU_LEN=250\n",
      "                     thr1 = 5.376, thr2 = 0, thr3 = 1.792 =\n"
     ]
    },
    {
     "name": "stdout",
     "output_type": "stream",
     "text": [
      "DEBUG:root:n = 250, acum[n] = 0.0 BASELINE =-499.444\n"
     ]
    },
    {
     "name": "stderr",
     "output_type": "stream",
     "text": [
      "n = 250, acum[n] = 0.0 BASELINE =-499.444\n"
     ]
    },
    {
     "name": "stdout",
     "output_type": "stream",
     "text": [
      "DEBUG:root:nm = 250\n"
     ]
    },
    {
     "name": "stderr",
     "output_type": "stream",
     "text": [
      "nm = 250\n"
     ]
    },
    {
     "name": "stdout",
     "output_type": "stream",
     "text": [
      "DEBUG:root:sblr.signal_r[0:10]= [-499. -500. -499. -499. -499. -500. -499. -500. -499. -499.]\n"
     ]
    },
    {
     "name": "stderr",
     "output_type": "stream",
     "text": [
      "sblr.signal_r[0:10]= [-499. -500. -499. -499. -499. -500. -499. -500. -499. -499.]\n"
     ]
    },
    {
     "name": "stdout",
     "output_type": "stream",
     "text": [
      "DEBUG:root:BASELINE =-499.444\n"
     ]
    },
    {
     "name": "stderr",
     "output_type": "stream",
     "text": [
      "BASELINE =-499.444\n"
     ]
    },
    {
     "name": "stdout",
     "output_type": "stream",
     "text": [
      "DEBUG:root:sblr.signal_r[0:10] - BASELINE= [ 0.444 -0.556  0.444  0.444  0.444 -0.556  0.444 -0.556  0.444  0.444]\n"
     ]
    },
    {
     "name": "stderr",
     "output_type": "stream",
     "text": [
      "sblr.signal_r[0:10] - BASELINE= [ 0.444 -0.556  0.444  0.444  0.444 -0.556  0.444 -0.556  0.444  0.444]\n"
     ]
    },
    {
     "name": "stdout",
     "output_type": "stream",
     "text": [
      "DEBUG:root:-->BLR: \n",
      "                     MAU_LEN=250\n",
      "                     thr1 = 5.376, thr2 = 0, thr3 = 1.792 =\n"
     ]
    },
    {
     "name": "stderr",
     "output_type": "stream",
     "text": [
      "-->BLR: \n",
      "                     MAU_LEN=250\n",
      "                     thr1 = 5.376, thr2 = 0, thr3 = 1.792 =\n"
     ]
    },
    {
     "name": "stdout",
     "output_type": "stream",
     "text": [
      "DEBUG:root:n = 250, acum[n] = 0.0 BASELINE =-499.54\n"
     ]
    },
    {
     "name": "stderr",
     "output_type": "stream",
     "text": [
      "n = 250, acum[n] = 0.0 BASELINE =-499.54\n"
     ]
    },
    {
     "name": "stdout",
     "output_type": "stream",
     "text": [
      "DEBUG:root:nm = 250\n"
     ]
    },
    {
     "name": "stderr",
     "output_type": "stream",
     "text": [
      "nm = 250\n"
     ]
    },
    {
     "name": "stdout",
     "output_type": "stream",
     "text": [
      "DEBUG:root:sblr.signal_r[0:10]= [-500. -500. -499. -499. -500. -500. -499. -499. -500. -499.]\n"
     ]
    },
    {
     "name": "stderr",
     "output_type": "stream",
     "text": [
      "sblr.signal_r[0:10]= [-500. -500. -499. -499. -500. -500. -499. -499. -500. -499.]\n"
     ]
    },
    {
     "name": "stdout",
     "output_type": "stream",
     "text": [
      "DEBUG:root:BASELINE =-499.54\n"
     ]
    },
    {
     "name": "stderr",
     "output_type": "stream",
     "text": [
      "BASELINE =-499.54\n"
     ]
    },
    {
     "name": "stdout",
     "output_type": "stream",
     "text": [
      "DEBUG:root:sblr.signal_r[0:10] - BASELINE= [-0.46 -0.46  0.54  0.54 -0.46 -0.46  0.54  0.54 -0.46  0.54]\n"
     ]
    },
    {
     "name": "stderr",
     "output_type": "stream",
     "text": [
      "sblr.signal_r[0:10] - BASELINE= [-0.46 -0.46  0.54  0.54 -0.46 -0.46  0.54  0.54 -0.46  0.54]\n"
     ]
    },
    {
     "name": "stdout",
     "output_type": "stream",
     "text": [
      "DEBUG:root:-->BLR: \n",
      "                     MAU_LEN=250\n",
      "                     thr1 = 5.376, thr2 = 0, thr3 = 1.792 =\n"
     ]
    },
    {
     "name": "stderr",
     "output_type": "stream",
     "text": [
      "-->BLR: \n",
      "                     MAU_LEN=250\n",
      "                     thr1 = 5.376, thr2 = 0, thr3 = 1.792 =\n"
     ]
    },
    {
     "name": "stdout",
     "output_type": "stream",
     "text": [
      "DEBUG:root:n = 250, acum[n] = 0.0 BASELINE =-499.504\n"
     ]
    },
    {
     "name": "stderr",
     "output_type": "stream",
     "text": [
      "n = 250, acum[n] = 0.0 BASELINE =-499.504\n"
     ]
    },
    {
     "name": "stdout",
     "output_type": "stream",
     "text": [
      "DEBUG:root:nm = 250\n"
     ]
    },
    {
     "name": "stderr",
     "output_type": "stream",
     "text": [
      "nm = 250\n"
     ]
    },
    {
     "name": "stdout",
     "output_type": "stream",
     "text": [
      "DEBUG:root:sblr.signal_r[0:10]= [-499. -500. -500. -499. -500. -500. -500. -499. -500. -500.]\n"
     ]
    },
    {
     "name": "stderr",
     "output_type": "stream",
     "text": [
      "sblr.signal_r[0:10]= [-499. -500. -500. -499. -500. -500. -500. -499. -500. -500.]\n"
     ]
    },
    {
     "name": "stdout",
     "output_type": "stream",
     "text": [
      "DEBUG:root:BASELINE =-499.504\n"
     ]
    },
    {
     "name": "stderr",
     "output_type": "stream",
     "text": [
      "BASELINE =-499.504\n"
     ]
    },
    {
     "name": "stdout",
     "output_type": "stream",
     "text": [
      "DEBUG:root:sblr.signal_r[0:10] - BASELINE= [ 0.504 -0.496 -0.496  0.504 -0.496 -0.496 -0.496  0.504 -0.496 -0.496]\n"
     ]
    },
    {
     "name": "stderr",
     "output_type": "stream",
     "text": [
      "sblr.signal_r[0:10] - BASELINE= [ 0.504 -0.496 -0.496  0.504 -0.496 -0.496 -0.496  0.504 -0.496 -0.496]\n"
     ]
    },
    {
     "name": "stdout",
     "output_type": "stream",
     "text": [
      "DEBUG:root:-->BLR: \n",
      "                     MAU_LEN=250\n",
      "                     thr1 = 5.376, thr2 = 0, thr3 = 1.792 =\n"
     ]
    },
    {
     "name": "stderr",
     "output_type": "stream",
     "text": [
      "-->BLR: \n",
      "                     MAU_LEN=250\n",
      "                     thr1 = 5.376, thr2 = 0, thr3 = 1.792 =\n"
     ]
    },
    {
     "name": "stdout",
     "output_type": "stream",
     "text": [
      "DEBUG:root:n = 250, acum[n] = 0.0 BASELINE =-499.504\n"
     ]
    },
    {
     "name": "stderr",
     "output_type": "stream",
     "text": [
      "n = 250, acum[n] = 0.0 BASELINE =-499.504\n"
     ]
    },
    {
     "name": "stdout",
     "output_type": "stream",
     "text": [
      "DEBUG:root:nm = 250\n"
     ]
    },
    {
     "name": "stderr",
     "output_type": "stream",
     "text": [
      "nm = 250\n"
     ]
    },
    {
     "name": "stdout",
     "output_type": "stream",
     "text": [
      "DEBUG:root:sblr.signal_r[0:10]= [-499. -500. -501. -499. -500. -499. -499. -499. -500. -499.]\n"
     ]
    },
    {
     "name": "stderr",
     "output_type": "stream",
     "text": [
      "sblr.signal_r[0:10]= [-499. -500. -501. -499. -500. -499. -499. -499. -500. -499.]\n"
     ]
    },
    {
     "name": "stdout",
     "output_type": "stream",
     "text": [
      "DEBUG:root:BASELINE =-499.504\n"
     ]
    },
    {
     "name": "stderr",
     "output_type": "stream",
     "text": [
      "BASELINE =-499.504\n"
     ]
    },
    {
     "name": "stdout",
     "output_type": "stream",
     "text": [
      "DEBUG:root:sblr.signal_r[0:10] - BASELINE= [ 0.504 -0.496 -1.496  0.504 -0.496  0.504  0.504  0.504 -0.496  0.504]\n"
     ]
    },
    {
     "name": "stderr",
     "output_type": "stream",
     "text": [
      "sblr.signal_r[0:10] - BASELINE= [ 0.504 -0.496 -1.496  0.504 -0.496  0.504  0.504  0.504 -0.496  0.504]\n"
     ]
    },
    {
     "name": "stdout",
     "output_type": "stream",
     "text": [
      "DEBUG:root:-->BLR: \n",
      "                     MAU_LEN=250\n",
      "                     thr1 = 5.376, thr2 = 0, thr3 = 1.792 =\n"
     ]
    },
    {
     "name": "stderr",
     "output_type": "stream",
     "text": [
      "-->BLR: \n",
      "                     MAU_LEN=250\n",
      "                     thr1 = 5.376, thr2 = 0, thr3 = 1.792 =\n"
     ]
    },
    {
     "name": "stdout",
     "output_type": "stream",
     "text": [
      "DEBUG:root:n = 250, acum[n] = 0.0 BASELINE =-499.52\n"
     ]
    },
    {
     "name": "stderr",
     "output_type": "stream",
     "text": [
      "n = 250, acum[n] = 0.0 BASELINE =-499.52\n"
     ]
    },
    {
     "name": "stdout",
     "output_type": "stream",
     "text": [
      "DEBUG:root:nm = 250\n"
     ]
    },
    {
     "name": "stderr",
     "output_type": "stream",
     "text": [
      "nm = 250\n"
     ]
    },
    {
     "name": "stdout",
     "output_type": "stream",
     "text": [
      "DEBUG:root:sblr.signal_r[0:10]= [-499. -499. -499. -500. -499. -500. -499. -499. -500. -500.]\n"
     ]
    },
    {
     "name": "stderr",
     "output_type": "stream",
     "text": [
      "sblr.signal_r[0:10]= [-499. -499. -499. -500. -499. -500. -499. -499. -500. -500.]\n"
     ]
    },
    {
     "name": "stdout",
     "output_type": "stream",
     "text": [
      "DEBUG:root:BASELINE =-499.52\n"
     ]
    },
    {
     "name": "stderr",
     "output_type": "stream",
     "text": [
      "BASELINE =-499.52\n"
     ]
    },
    {
     "name": "stdout",
     "output_type": "stream",
     "text": [
      "DEBUG:root:sblr.signal_r[0:10] - BASELINE= [ 0.52  0.52  0.52 -0.48  0.52 -0.48  0.52  0.52 -0.48 -0.48]\n"
     ]
    },
    {
     "name": "stderr",
     "output_type": "stream",
     "text": [
      "sblr.signal_r[0:10] - BASELINE= [ 0.52  0.52  0.52 -0.48  0.52 -0.48  0.52  0.52 -0.48 -0.48]\n"
     ]
    },
    {
     "name": "stdout",
     "output_type": "stream",
     "text": [
      "DEBUG:root:-->BLR: \n",
      "                     MAU_LEN=250\n",
      "                     thr1 = 5.376, thr2 = 0, thr3 = 1.792 =\n"
     ]
    },
    {
     "name": "stderr",
     "output_type": "stream",
     "text": [
      "-->BLR: \n",
      "                     MAU_LEN=250\n",
      "                     thr1 = 5.376, thr2 = 0, thr3 = 1.792 =\n"
     ]
    },
    {
     "name": "stdout",
     "output_type": "stream",
     "text": [
      "DEBUG:root:n = 250, acum[n] = 0.0 BASELINE =-499.484\n"
     ]
    },
    {
     "name": "stderr",
     "output_type": "stream",
     "text": [
      "n = 250, acum[n] = 0.0 BASELINE =-499.484\n"
     ]
    },
    {
     "name": "stdout",
     "output_type": "stream",
     "text": [
      "DEBUG:root:nm = 250\n"
     ]
    },
    {
     "name": "stderr",
     "output_type": "stream",
     "text": [
      "nm = 250\n"
     ]
    },
    {
     "name": "stdout",
     "output_type": "stream",
     "text": [
      "DEBUG:root:sblr.signal_r[0:10]= [-500. -500. -499. -499. -500. -500. -499. -499. -500. -500.]\n"
     ]
    },
    {
     "name": "stderr",
     "output_type": "stream",
     "text": [
      "sblr.signal_r[0:10]= [-500. -500. -499. -499. -500. -500. -499. -499. -500. -500.]\n"
     ]
    },
    {
     "name": "stdout",
     "output_type": "stream",
     "text": [
      "DEBUG:root:BASELINE =-499.484\n"
     ]
    },
    {
     "name": "stderr",
     "output_type": "stream",
     "text": [
      "BASELINE =-499.484\n"
     ]
    },
    {
     "name": "stdout",
     "output_type": "stream",
     "text": [
      "DEBUG:root:sblr.signal_r[0:10] - BASELINE= [-0.516 -0.516  0.484  0.484 -0.516 -0.516  0.484  0.484 -0.516 -0.516]\n"
     ]
    },
    {
     "name": "stderr",
     "output_type": "stream",
     "text": [
      "sblr.signal_r[0:10] - BASELINE= [-0.516 -0.516  0.484  0.484 -0.516 -0.516  0.484  0.484 -0.516 -0.516]\n"
     ]
    },
    {
     "name": "stdout",
     "output_type": "stream",
     "text": [
      "Leaving Isidora. Safe travels!\n"
     ]
    }
   ],
   "source": [
    "ISIDORA(['-i','-d','DEBUG','-c','/Users/jjgomezcadenas/Documents/Development/NEXT/IC/Config/ISIDORA_NA_ZLIB_test.csv'])"
   ]
  },
  {
   "cell_type": "markdown",
   "metadata": {},
   "source": [
    "### Checking the file"
   ]
  },
  {
   "cell_type": "code",
   "execution_count": 50,
   "metadata": {
    "collapsed": false
   },
   "outputs": [],
   "source": [
    "h5f =tables.open_file('/Users/jjgomezcadenas/Documents/Development/NEXT/data/Waveforms/25ns/WF_Na_ZLIB_offset500_RWF.h5', \"r+\") "
   ]
  },
  {
   "cell_type": "code",
   "execution_count": null,
   "metadata": {
    "collapsed": true
   },
   "outputs": [],
   "source": []
  },
  {
   "cell_type": "code",
   "execution_count": 51,
   "metadata": {
    "collapsed": false
   },
   "outputs": [],
   "source": [
    "pmtrwf = h5f.root.RD.pmtrwf"
   ]
  },
  {
   "cell_type": "code",
   "execution_count": 52,
   "metadata": {
    "collapsed": true
   },
   "outputs": [],
   "source": [
    "pmttwf = h5f.root.RD.pmttwf"
   ]
  },
  {
   "cell_type": "code",
   "execution_count": 53,
   "metadata": {
    "collapsed": true
   },
   "outputs": [],
   "source": [
    "pmtcwf = h5f.root.RD.pmtcwf"
   ]
  },
  {
   "cell_type": "code",
   "execution_count": 54,
   "metadata": {
    "collapsed": true
   },
   "outputs": [],
   "source": [
    "epmt = h5f.root.RD.epmt"
   ]
  },
  {
   "cell_type": "code",
   "execution_count": 55,
   "metadata": {
    "collapsed": false
   },
   "outputs": [],
   "source": [
    "CA = FP.C12"
   ]
  },
  {
   "cell_type": "code",
   "execution_count": 56,
   "metadata": {
    "collapsed": false
   },
   "outputs": [
    {
     "data": {
      "text/plain": [
       "array([ 6.02975448,  6.22547194,  6.0671337 ,  6.22159457,  6.29999787,\n",
       "        6.09892384,  6.18289435,  6.21775591,  6.19306671,  6.30518792,\n",
       "        6.20359891,  6.31231192])"
      ]
     },
     "execution_count": 56,
     "metadata": {},
     "output_type": "execute_result"
    }
   ],
   "source": [
    "CA/nF"
   ]
  },
  {
   "cell_type": "code",
   "execution_count": 57,
   "metadata": {
    "collapsed": true
   },
   "outputs": [],
   "source": [
    "coef = accumulator_coefficients(pmtrwf,CA)"
   ]
  },
  {
   "cell_type": "code",
   "execution_count": 58,
   "metadata": {
    "collapsed": false
   },
   "outputs": [
    {
     "data": {
      "text/plain": [
       "array([ 0.0017643 ,  0.00170883,  0.00175343,  0.0017099 ,  0.00168862,\n",
       "        0.00174429,  0.0017206 ,  0.00171095,  0.00171778,  0.00168723,\n",
       "        0.00171486,  0.00168533])"
      ]
     },
     "execution_count": 58,
     "metadata": {},
     "output_type": "execute_result"
    }
   ],
   "source": [
    "coef"
   ]
  },
  {
   "cell_type": "code",
   "execution_count": 59,
   "metadata": {
    "collapsed": true
   },
   "outputs": [],
   "source": [
    "pmtrwf = h5f.root.RD.pmtrwf\n",
    "pmttwf = h5f.root.RD.pmttwf\n",
    "pmtcwf = h5f.root.RD.pmtcwf\n",
    "pmtrd = pmtrwf[0, 0] #WF for event = 0, PMT = 0\n",
    "pmttw = pmttwf[0, 0] #WF for event = 0, PMT = 0\n",
    "pmtcw = pmtcwf[0, 0] #WF for event = 0, PMT = 0"
   ]
  },
  {
   "cell_type": "code",
   "execution_count": 60,
   "metadata": {
    "collapsed": false
   },
   "outputs": [
    {
     "data": {
      "image/png": "[encoded data removed]",
      "text/plain": [
       "<matplotlib.figure.Figure at 0x108e599d0>"
      ]
     },
     "metadata": {},
     "output_type": "display_data"
    }
   ],
   "source": [
    "plts(pmtrd, signal_start=0, signal_end=25000, offset=10)"
   ]
  },
  {
   "cell_type": "code",
   "execution_count": 61,
   "metadata": {
    "collapsed": false
   },
   "outputs": [
    {
     "data": {
      "image/png": "[encoded data removed]",
      "text/plain": [
       "<matplotlib.figure.Figure at 0x107fd9cd0>"
      ]
     },
     "metadata": {},
     "output_type": "display_data"
    }
   ],
   "source": [
    "plts(pmtcw, signal_start=0, signal_end=25000, offset=10)"
   ]
  },
  {
   "cell_type": "code",
   "execution_count": 62,
   "metadata": {
    "collapsed": true
   },
   "outputs": [],
   "source": [
    "baseline = h5f.root.BLR.baseline"
   ]
  },
  {
   "cell_type": "code",
   "execution_count": 63,
   "metadata": {
    "collapsed": false
   },
   "outputs": [
    {
     "data": {
      "text/plain": [
       "/BLR/baseline (EArray(10, 12), shuffle, zlib(1)) ''\n",
       "  atom := Float32Atom(shape=(), dflt=0.0)\n",
       "  maindim := 0\n",
       "  flavor := 'numpy'\n",
       "  byteorder := 'little'\n",
       "  chunkshape := (1365, 12)"
      ]
     },
     "execution_count": 63,
     "metadata": {},
     "output_type": "execute_result"
    }
   ],
   "source": [
    "baseline"
   ]
  },
  {
   "cell_type": "code",
   "execution_count": 64,
   "metadata": {
    "collapsed": false
   },
   "outputs": [
    {
     "data": {
      "text/plain": [
       "[<matplotlib.lines.Line2D at 0x1081fe290>,\n",
       " <matplotlib.lines.Line2D at 0x1081fe5d0>,\n",
       " <matplotlib.lines.Line2D at 0x1080041d0>,\n",
       " <matplotlib.lines.Line2D at 0x108004bd0>,\n",
       " <matplotlib.lines.Line2D at 0x108004a50>,\n",
       " <matplotlib.lines.Line2D at 0x1080042d0>,\n",
       " <matplotlib.lines.Line2D at 0x108004210>,\n",
       " <matplotlib.lines.Line2D at 0x10856e750>,\n",
       " <matplotlib.lines.Line2D at 0x108004b50>,\n",
       " <matplotlib.lines.Line2D at 0x108004450>,\n",
       " <matplotlib.lines.Line2D at 0x108004250>,\n",
       " <matplotlib.lines.Line2D at 0x108004cd0>]"
      ]
     },
     "execution_count": 64,
     "metadata": {},
     "output_type": "execute_result"
    },
    {
     "data": {
      "image/png": "[encoded data removed]",
      "text/plain": [
       "<matplotlib.figure.Figure at 0x108533090>"
      ]
     },
     "metadata": {},
     "output_type": "display_data"
    }
   ],
   "source": [
    "plt.plot(baseline)"
   ]
  },
  {
   "cell_type": "code",
   "execution_count": 65,
   "metadata": {
    "collapsed": false
   },
   "outputs": [
    {
     "name": "stdout",
     "output_type": "stream",
     "text": [
      "[-499.53201294 -499.46798706 -499.54400635 -499.49200439 -499.48400879\n",
      " -499.46398926 -499.46398926 -499.42401123 -499.53601074 -499.53601074\n",
      " -499.42800903 -499.46398926]\n"
     ]
    }
   ],
   "source": [
    "print(baseline[0])"
   ]
  },
  {
   "cell_type": "markdown",
   "metadata": {},
   "source": [
    "### Description of the BLR algorithm"
   ]
  },
  {
   "cell_type": "markdown",
   "metadata": {},
   "source": [
    "1. The algorithm starts by computing the baseline, via a sliding MAU, which is initialized over the first few hundred samples.  "
   ]
  },
  {
   "cell_type": "code",
   "execution_count": null,
   "metadata": {
    "collapsed": true
   },
   "outputs": [],
   "source": [
    "#sblr.MAU[0:nm] = SGN.lfilter(B_MAU,1, signal_daq[0:nm])\n",
    "#sblr.acum[nm] =  sblr.MAU[nm]\n",
    "#sblr.BASELINE = sblr.MAU[nm-1]"
   ]
  },
  {
   "cell_type": "markdown",
   "metadata": {},
   "source": [
    "1. The algorithm starts by computing the baseline, via a sliding MAU, which is initialized over the first few hundred samples.\n",
    "2. A trigger line is defined adding a threshold (thr1) to the baseline defined by the MAU. "
   ]
  },
  {
   "cell_type": "code",
   "execution_count": null,
   "metadata": {
    "collapsed": true
   },
   "outputs": [],
   "source": [
    "#for k in range(nm,len_signal_daq): \n",
    "#       trigger_line = sblr.MAU[k-1] + thr1"
   ]
  },
  {
   "cell_type": "code",
   "execution_count": null,
   "metadata": {
    "collapsed": false
   },
   "outputs": [],
   "source": [
    "plts(pmtrd, signal_start=5100, signal_end=5200, offset=10)"
   ]
  },
  {
   "cell_type": "markdown",
   "metadata": {},
   "source": [
    "thr1 can be set at a number of sigmas above the noise. One can see in the plot above that the signal is up at about 10 counts. The noise ADC corresponds to 2-3 counts, thus 3 x Noise appears reasonable. "
   ]
  },
  {
   "cell_type": "markdown",
   "metadata": {},
   "source": [
    "The raw signal then raises up and eventually swings to negative values, due to the HPF of the FEE."
   ]
  },
  {
   "cell_type": "code",
   "execution_count": null,
   "metadata": {
    "collapsed": false
   },
   "outputs": [],
   "source": [
    "plts(pmtrd, signal_start=5000, signal_end=6000, offset=10)"
   ]
  },
  {
   "cell_type": "markdown",
   "metadata": {},
   "source": [
    "The algorithm will raise the flag pulse_on = 1 when the *raw signal* goes above threshold and will continue recovering signal while the *reconstructed signal* is positive, that is above a trheshold defined by the trigger line (and an optinal additional threshold, thr2, which can be taken equal to zero for well behaved signals). "
   ]
  },
  {
   "cell_type": "markdown",
   "metadata": {},
   "source": [
    "Once the reconstructed signal drops below zero, the flag for pulse_on is set to zero, and a second flag, wait_over is set to one. Wait_over=1 while the raw_signal is below the reconstructed signal minus a threshold (thr3). Notice that the reconstructed signal is near zero, but one must continue accumulating while the raw signal is negative. The raw signal has often a long tail. "
   ]
  },
  {
   "cell_type": "code",
   "execution_count": null,
   "metadata": {
    "collapsed": true
   },
   "outputs": [],
   "source": [
    "#if signal_daq[k-1] < sblr.signal_r[k-1] - thr3:"
   ]
  },
  {
   "cell_type": "code",
   "execution_count": null,
   "metadata": {
    "collapsed": false
   },
   "outputs": [],
   "source": [
    "plts(pmtrd, signal_start=6000, signal_end=8000, offset=10)"
   ]
  },
  {
   "cell_type": "markdown",
   "metadata": {},
   "source": [
    "In essence, the BLR algorithm will stop accumulating when the raw signal reaches zero. "
   ]
  },
  {
   "cell_type": "markdown",
   "metadata": {},
   "source": [
    "##### Examples"
   ]
  },
  {
   "cell_type": "markdown",
   "metadata": {},
   "source": [
    "##### High thresholds"
   ]
  },
  {
   "cell_type": "code",
   "execution_count": null,
   "metadata": {
    "collapsed": true
   },
   "outputs": [],
   "source": [
    "mau_len =250; thr1 = 20; thr2 = 0;  thr3 = 5; "
   ]
  },
  {
   "cell_type": "code",
   "execution_count": null,
   "metadata": {
    "collapsed": false
   },
   "outputs": [],
   "source": [
    "%time sbl = BLR(pmtrd, coef[0], mau_len, thr1, thr2, thr3, \"DEBUG\")"
   ]
  },
  {
   "cell_type": "code",
   "execution_count": null,
   "metadata": {
    "collapsed": true
   },
   "outputs": [],
   "source": [
    "def plts(signal, signal_start=0, signal_end=1e+4, offset=5):\n",
    "\n",
    "    ax1 = plt.subplot(1,1,1)\n",
    "    ymin =np.amin(signal[signal_start:signal_end]) - offset\n",
    "    ymax =np.amax(signal[signal_start:signal_end]) + offset\n",
    "    ax1.set_xlim([signal_start, signal_end])\n",
    "    ax1.set_ylim([ymin, ymax])\n",
    "    plt.plot(signal)\n"
   ]
  },
  {
   "cell_type": "code",
   "execution_count": null,
   "metadata": {
    "collapsed": false
   },
   "outputs": [],
   "source": [
    "plts(pmtrd, signal_start=5000, signal_end=8000, offset=50)"
   ]
  },
  {
   "cell_type": "code",
   "execution_count": null,
   "metadata": {
    "collapsed": false
   },
   "outputs": [],
   "source": [
    "plts(sbl.signal_r, signal_start=5000, signal_end=8000, offset=50)"
   ]
  },
  {
   "cell_type": "code",
   "execution_count": null,
   "metadata": {
    "collapsed": false,
    "scrolled": true
   },
   "outputs": [],
   "source": [
    "plts(sbl.pulse_on, signal_start=5000, signal_end=8000, offset=1)"
   ]
  },
  {
   "cell_type": "markdown",
   "metadata": {},
   "source": [
    "##### NB: pulse_on =0 aroun 5400, but all the signal has not been recovered. The negative swing of the raw signal still will add a second pulse between 5400 and 5600 or so. wait over will switch on to 1. The algorithm has to keep track of whether the recovered signal is near zero (in which case the MAU is updated) or raises again, in which case the MAU is frozen. "
   ]
  },
  {
   "cell_type": "code",
   "execution_count": null,
   "metadata": {
    "collapsed": true
   },
   "outputs": [],
   "source": [
    "#                     if signal_daq[k-1] < sblr.signal_r[k-1] - thr3:\n",
    "#                         # raw signal still below recovered signal \n",
    "#                         # keep compensating pulse\n",
    "#                         # is the recovered signal near offset?\n",
    "#                         upper = offset + (thr3 + thr2)\n",
    "#                         lower = offset - (thr3 + thr2)\n",
    "                        \n",
    "#                         if sblr.signal_r[k-1] > lower and sblr.signal_r[k-1] < upper:\n",
    "#                             # we are near offset, activate MAU. \n",
    "                            \n",
    "#                             signal_i[k] = sblr.signal_r[k-1]\n",
    "#                             sblr.MAU[k] = np.sum(signal_i[k-nm:k])*1./nm\n",
    "                                      \n",
    "#                         else: \n",
    "#                             # rec signal not near offset MAU frozen  \n",
    "#                             sblr.MAU[k] = sblr.MAU[k-1]\n",
    "#                             signal_i[k] = sblr.MAU[k-1]\n",
    "                            \n",
    "#                         # keep adding recovered signal  \n",
    "#                         sblr.acum[k] = sblr.acum[k-1] + signal_daq[k] - sblr.MAU[k]\n",
    "#                         sblr.signal_r[k] = signal_daq[k] + coef*sblr.acum[k]\n",
    "                        \n",
    "#                     else:  # raw signal above recovered signal: we are done \n",
    "                        \n",
    "#                         wait_over = 0\n",
    "#                         sblr.acum[k] = sblr.MAU[k-1]\n",
    "#                         sblr.signal_r[k] = signal_daq[k]\n",
    "#                         signal_i[k] = sblr.signal_r[k]\n",
    "#                         sblr.MAU[k] = np.sum(signal_i[k-nm:k])*1./nm"
   ]
  },
  {
   "cell_type": "markdown",
   "metadata": {},
   "source": [
    "#### Wait over until raw signal near zero"
   ]
  },
  {
   "cell_type": "code",
   "execution_count": null,
   "metadata": {
    "collapsed": false
   },
   "outputs": [],
   "source": [
    "plts(sbl.wait_over, signal_start=5150, signal_end=8000, offset=1)"
   ]
  },
  {
   "cell_type": "code",
   "execution_count": null,
   "metadata": {
    "collapsed": false
   },
   "outputs": [],
   "source": [
    "plts(sbl.offset, signal_start=0, signal_end=25000, offset=5)"
   ]
  },
  {
   "cell_type": "code",
   "execution_count": null,
   "metadata": {
    "collapsed": true
   },
   "outputs": [],
   "source": []
  },
  {
   "cell_type": "code",
   "execution_count": null,
   "metadata": {
    "collapsed": false
   },
   "outputs": [],
   "source": [
    "plts(sbl.trigger_line, signal_start=0, signal_end=25000, offset=5)"
   ]
  },
  {
   "cell_type": "code",
   "execution_count": null,
   "metadata": {
    "collapsed": false
   },
   "outputs": [],
   "source": [
    "plts(sbl.MAU, signal_start=0, signal_end=25000, offset=5)"
   ]
  },
  {
   "cell_type": "code",
   "execution_count": null,
   "metadata": {
    "collapsed": false
   },
   "outputs": [],
   "source": [
    "plts(sbl.pulse_on, signal_start=5000, signal_end=9000, offset=1)\n",
    "plts(sbl.wait_over, signal_start=5000, signal_end=9000, offset=1)\n",
    "plts(sbl.MAU, signal_start=5000, signal_end=9000, offset=1)"
   ]
  },
  {
   "cell_type": "code",
   "execution_count": null,
   "metadata": {
    "collapsed": false
   },
   "outputs": [],
   "source": [
    "plts(sbl.signal_r, signal_start=5000, signal_end=7500, offset=50)"
   ]
  },
  {
   "cell_type": "code",
   "execution_count": null,
   "metadata": {
    "collapsed": true
   },
   "outputs": [],
   "source": []
  },
  {
   "cell_type": "code",
   "execution_count": null,
   "metadata": {
    "collapsed": false
   },
   "outputs": [],
   "source": [
    "plts(sbl.acum, signal_start=5150, signal_end=8000, offset=50)"
   ]
  },
  {
   "cell_type": "markdown",
   "metadata": {},
   "source": [
    "Notice the jump in the accumulator, near 7500. This is due to the thr3 being a bit too large"
   ]
  },
  {
   "cell_type": "code",
   "execution_count": null,
   "metadata": {
    "collapsed": false
   },
   "outputs": [],
   "source": [
    "plts(sbl.acum, signal_start=7400, signal_end=7500, offset=50)"
   ]
  },
  {
   "cell_type": "code",
   "execution_count": null,
   "metadata": {
    "collapsed": false
   },
   "outputs": [],
   "source": [
    "plts(sbl.signal_r, signal_start=5500, signal_end=10000, offset=5)"
   ]
  },
  {
   "cell_type": "markdown",
   "metadata": {},
   "source": [
    "##### Notice the jump around 7500"
   ]
  },
  {
   "cell_type": "code",
   "execution_count": null,
   "metadata": {
    "collapsed": false
   },
   "outputs": [],
   "source": [
    "plts(sbl.signal_r, signal_start=6000, signal_end=10000, offset=5)"
   ]
  },
  {
   "cell_type": "code",
   "execution_count": null,
   "metadata": {
    "collapsed": false
   },
   "outputs": [],
   "source": [
    "plts(pmtrd, signal_start=6000, signal_end=10000, offset=5)"
   ]
  },
  {
   "cell_type": "markdown",
   "metadata": {},
   "source": [
    "##### The jump is due to a too high level for thr3 which introduces a discontinuity when the raw and recovered signals approach each other"
   ]
  },
  {
   "cell_type": "code",
   "execution_count": null,
   "metadata": {
    "collapsed": true
   },
   "outputs": [],
   "source": [
    "epes = np.sum(pmttw)"
   ]
  },
  {
   "cell_type": "code",
   "execution_count": null,
   "metadata": {
    "collapsed": true
   },
   "outputs": [],
   "source": [
    "erec = np.sum(sbl.signal_r)"
   ]
  },
  {
   "cell_type": "code",
   "execution_count": null,
   "metadata": {
    "collapsed": false
   },
   "outputs": [],
   "source": [
    "epes"
   ]
  },
  {
   "cell_type": "code",
   "execution_count": null,
   "metadata": {
    "collapsed": false
   },
   "outputs": [],
   "source": [
    "erec"
   ]
  },
  {
   "cell_type": "code",
   "execution_count": null,
   "metadata": {
    "collapsed": false
   },
   "outputs": [],
   "source": [
    "erec/epes"
   ]
  },
  {
   "cell_type": "code",
   "execution_count": null,
   "metadata": {
    "collapsed": true
   },
   "outputs": [],
   "source": [
    "etmax = np.amax(pmttw)"
   ]
  },
  {
   "cell_type": "code",
   "execution_count": null,
   "metadata": {
    "collapsed": true
   },
   "outputs": [],
   "source": [
    "ermax = np.amax(sbl.signal_r)"
   ]
  },
  {
   "cell_type": "code",
   "execution_count": null,
   "metadata": {
    "collapsed": false
   },
   "outputs": [],
   "source": [
    "etmax"
   ]
  },
  {
   "cell_type": "code",
   "execution_count": null,
   "metadata": {
    "collapsed": false
   },
   "outputs": [],
   "source": [
    "ermax"
   ]
  },
  {
   "cell_type": "code",
   "execution_count": null,
   "metadata": {
    "collapsed": false
   },
   "outputs": [],
   "source": [
    "ermax/etmax"
   ]
  },
  {
   "cell_type": "markdown",
   "metadata": {},
   "source": [
    "####  Low thresholds"
   ]
  },
  {
   "cell_type": "code",
   "execution_count": null,
   "metadata": {
    "collapsed": false
   },
   "outputs": [],
   "source": [
    "%time sbl = BLR(pmtrd, coef[0], 250, 5, 0, 1, \"DEBUG\")"
   ]
  },
  {
   "cell_type": "code",
   "execution_count": null,
   "metadata": {
    "collapsed": false
   },
   "outputs": [],
   "source": [
    "plts(sbl.pulse_on, signal_start=5150, signal_end=8000, offset=1)"
   ]
  },
  {
   "cell_type": "code",
   "execution_count": null,
   "metadata": {
    "collapsed": false
   },
   "outputs": [],
   "source": [
    "plts(sbl.wait_over, signal_start=5150, signal_end=25000, offset=1)"
   ]
  },
  {
   "cell_type": "code",
   "execution_count": null,
   "metadata": {
    "collapsed": false
   },
   "outputs": [],
   "source": [
    "plts(sbl.signal_r, signal_start=5000, signal_end=7500, offset=50)"
   ]
  },
  {
   "cell_type": "code",
   "execution_count": null,
   "metadata": {
    "collapsed": false
   },
   "outputs": [],
   "source": [
    "plts(sbl.acum, signal_start=5150, signal_end=25000, offset=50)"
   ]
  },
  {
   "cell_type": "markdown",
   "metadata": {},
   "source": [
    "##### With a much lower threshold the accumulator ends up gracefully, but wait_over is always one, the raw and recovered signals never quite converge"
   ]
  },
  {
   "cell_type": "code",
   "execution_count": null,
   "metadata": {
    "collapsed": false
   },
   "outputs": [],
   "source": [
    "plts(sbl.acum, signal_start=9000, signal_end=25000, offset=50)"
   ]
  },
  {
   "cell_type": "code",
   "execution_count": null,
   "metadata": {
    "collapsed": false
   },
   "outputs": [],
   "source": [
    "plts(sbl.signal_r, signal_start=6000, signal_end=10000, offset=5)"
   ]
  },
  {
   "cell_type": "code",
   "execution_count": null,
   "metadata": {
    "collapsed": false
   },
   "outputs": [],
   "source": [
    "plts(pmtrd, signal_start=6000, signal_end=10000, offset=5)"
   ]
  },
  {
   "cell_type": "code",
   "execution_count": null,
   "metadata": {
    "collapsed": true
   },
   "outputs": [],
   "source": [
    "erec = np.sum(sbl.signal_r)"
   ]
  },
  {
   "cell_type": "code",
   "execution_count": null,
   "metadata": {
    "collapsed": false
   },
   "outputs": [],
   "source": [
    "erec"
   ]
  },
  {
   "cell_type": "code",
   "execution_count": null,
   "metadata": {
    "collapsed": false
   },
   "outputs": [],
   "source": [
    "erec/epes"
   ]
  },
  {
   "cell_type": "markdown",
   "metadata": {},
   "source": [
    "##### We recover almost 50 % more signal. This is clearly a fake, due to the fact that both signals oscilate around zero and we keep adding to the accumulator"
   ]
  },
  {
   "cell_type": "markdown",
   "metadata": {},
   "source": [
    "### Using noise as criterium to set thresholds"
   ]
  },
  {
   "cell_type": "markdown",
   "metadata": {},
   "source": [
    "##### Measured adc noise"
   ]
  },
  {
   "cell_type": "code",
   "execution_count": null,
   "metadata": {
    "collapsed": false
   },
   "outputs": [],
   "source": [
    "FP.NOISE_ADC"
   ]
  },
  {
   "cell_type": "code",
   "execution_count": null,
   "metadata": {
    "collapsed": false
   },
   "outputs": [],
   "source": [
    "%time sbl = BLR(pmtrd, coef[0], mau_len=250, thr1 = 3*FP.NOISE_ADC, thr2 = 0, thr3 = FP.NOISE_ADC, log='INFO')"
   ]
  },
  {
   "cell_type": "code",
   "execution_count": null,
   "metadata": {
    "collapsed": false
   },
   "outputs": [],
   "source": [
    "plts(sbl.pulse_on, signal_start=5150, signal_end=9000, offset=1)"
   ]
  },
  {
   "cell_type": "code",
   "execution_count": null,
   "metadata": {
    "collapsed": false
   },
   "outputs": [],
   "source": [
    "plts(sbl.wait_over, signal_start=5150, signal_end=9000, offset=1)"
   ]
  },
  {
   "cell_type": "markdown",
   "metadata": {},
   "source": [
    "##### The signal ends now nicely. "
   ]
  },
  {
   "cell_type": "code",
   "execution_count": null,
   "metadata": {
    "collapsed": false
   },
   "outputs": [],
   "source": [
    "plts(sbl.signal_r, signal_start=5000, signal_end=7500, offset=50)"
   ]
  },
  {
   "cell_type": "code",
   "execution_count": null,
   "metadata": {
    "collapsed": false
   },
   "outputs": [],
   "source": [
    "plts(sbl.acum, signal_start=5150, signal_end=25000, offset=50)"
   ]
  },
  {
   "cell_type": "code",
   "execution_count": null,
   "metadata": {
    "collapsed": false
   },
   "outputs": [],
   "source": [
    "plts(sbl.acum, signal_start=8000, signal_end=9000, offset=50)"
   ]
  },
  {
   "cell_type": "markdown",
   "metadata": {},
   "source": [
    "##### There is still a jump in the accumulator, but smaller"
   ]
  },
  {
   "cell_type": "markdown",
   "metadata": {},
   "source": [
    "##### NB! getting wait_over to zero has a cost in the accumulator"
   ]
  },
  {
   "cell_type": "code",
   "execution_count": null,
   "metadata": {
    "collapsed": false
   },
   "outputs": [],
   "source": [
    "plts(sbl.signal_r, signal_start=6000, signal_end=10000, offset=5)"
   ]
  },
  {
   "cell_type": "code",
   "execution_count": null,
   "metadata": {
    "collapsed": false
   },
   "outputs": [],
   "source": [
    "plts(pmtrd, signal_start=6000, signal_end=10000, offset=5)"
   ]
  },
  {
   "cell_type": "markdown",
   "metadata": {},
   "source": [
    "##### But the recovered signal is flatter"
   ]
  },
  {
   "cell_type": "code",
   "execution_count": null,
   "metadata": {
    "collapsed": false
   },
   "outputs": [],
   "source": [
    "plts(sbl.pulse_on, signal_start=5000, signal_end=9000, offset=1)\n",
    "plts(sbl.wait_over, signal_start=5000, signal_end=9000, offset=1)\n",
    "plts(sbl.MAU, signal_start=5000, signal_end=9000, offset=1)"
   ]
  },
  {
   "cell_type": "code",
   "execution_count": null,
   "metadata": {
    "collapsed": false
   },
   "outputs": [],
   "source": [
    "%time sbl = BLR(pmtrd, coef[0], mau_len=250, thr1 = 1*FP.NOISE_ADC, thr2 = 0, thr3 = FP.NOISE_ADC, log='INFO')"
   ]
  },
  {
   "cell_type": "code",
   "execution_count": null,
   "metadata": {
    "collapsed": false
   },
   "outputs": [],
   "source": [
    "plts(sbl.signal_r, signal_start=5000, signal_end=8500, offset=50)"
   ]
  },
  {
   "cell_type": "code",
   "execution_count": null,
   "metadata": {
    "collapsed": false
   },
   "outputs": [],
   "source": [
    "plts(sbl.acum, signal_start=8000, signal_end=9000, offset=50)"
   ]
  },
  {
   "cell_type": "code",
   "execution_count": null,
   "metadata": {
    "collapsed": false
   },
   "outputs": [],
   "source": [
    "plts(sbl.signal_r, signal_start=6000, signal_end=10000, offset=5)"
   ]
  },
  {
   "cell_type": "code",
   "execution_count": null,
   "metadata": {
    "collapsed": false
   },
   "outputs": [],
   "source": [
    "plts(sbl.pulse_on, signal_start=5000, signal_end=9000, offset=1)\n",
    "plts(sbl.wait_over, signal_start=5000, signal_end=9000, offset=1)\n",
    "plts(sbl.MAU, signal_start=5000, signal_end=9000, offset=1)"
   ]
  },
  {
   "cell_type": "code",
   "execution_count": null,
   "metadata": {
    "collapsed": true
   },
   "outputs": [],
   "source": []
  },
  {
   "cell_type": "code",
   "execution_count": null,
   "metadata": {
    "collapsed": true
   },
   "outputs": [],
   "source": [
    "erec = np.sum(sbl.signal_r)"
   ]
  },
  {
   "cell_type": "code",
   "execution_count": null,
   "metadata": {
    "collapsed": false
   },
   "outputs": [],
   "source": [
    "erec"
   ]
  },
  {
   "cell_type": "code",
   "execution_count": null,
   "metadata": {
    "collapsed": false
   },
   "outputs": [],
   "source": [
    "erec/epes"
   ]
  },
  {
   "cell_type": "code",
   "execution_count": null,
   "metadata": {
    "collapsed": true
   },
   "outputs": [],
   "source": [
    "emax = np.amax(sbl.signal_r)"
   ]
  },
  {
   "cell_type": "code",
   "execution_count": null,
   "metadata": {
    "collapsed": false
   },
   "outputs": [],
   "source": [
    "emax"
   ]
  },
  {
   "cell_type": "code",
   "execution_count": null,
   "metadata": {
    "collapsed": true
   },
   "outputs": [],
   "source": [
    "epsm = np.amax(pmttw)"
   ]
  },
  {
   "cell_type": "code",
   "execution_count": null,
   "metadata": {
    "collapsed": false
   },
   "outputs": [],
   "source": [
    "epsm"
   ]
  },
  {
   "cell_type": "code",
   "execution_count": null,
   "metadata": {
    "collapsed": false
   },
   "outputs": [],
   "source": [
    "emax/epsm"
   ]
  },
  {
   "cell_type": "markdown",
   "metadata": {},
   "source": [
    "#### Fine tuning near threshold. "
   ]
  },
  {
   "cell_type": "markdown",
   "metadata": {},
   "source": [
    "When the recovered signal is near threshold, one can in principle use thr2 to fine-tue the algorithm, so that the MAU is updated near threshold, allowing for a better track of the baseline. "
   ]
  },
  {
   "cell_type": "code",
   "execution_count": null,
   "metadata": {
    "collapsed": false
   },
   "outputs": [],
   "source": [
    "%time sbl = BLR(pmtrd, coef[0], mau_len=250, thr1 = 3*FP.NOISE_ADC, thr2 = FP.NOISE_ADC, thr3 = FP.NOISE_ADC, log='INFO')"
   ]
  },
  {
   "cell_type": "code",
   "execution_count": null,
   "metadata": {
    "collapsed": false
   },
   "outputs": [],
   "source": [
    "plts(sbl.pulse_on, signal_start=5150, signal_end=9000, offset=1)\n",
    "plts(sbl.wait_over, signal_start=5150, signal_end=9000, offset=1)\n"
   ]
  },
  {
   "cell_type": "code",
   "execution_count": null,
   "metadata": {
    "collapsed": false
   },
   "outputs": [],
   "source": [
    "plts(sbl.acum, signal_start=5150, signal_end=25000, offset=50)\n"
   ]
  },
  {
   "cell_type": "code",
   "execution_count": null,
   "metadata": {
    "collapsed": false
   },
   "outputs": [],
   "source": [
    "plts(sbl.acum, signal_start=8000, signal_end=9000, offset=50)\n"
   ]
  },
  {
   "cell_type": "code",
   "execution_count": null,
   "metadata": {
    "collapsed": false
   },
   "outputs": [],
   "source": [
    "plts(sbl.signal_r, signal_start=6000, signal_end=10000, offset=5)"
   ]
  },
  {
   "cell_type": "code",
   "execution_count": null,
   "metadata": {
    "collapsed": false
   },
   "outputs": [],
   "source": [
    "plts(pmtrd, signal_start=6000, signal_end=10000, offset=5)"
   ]
  },
  {
   "cell_type": "code",
   "execution_count": null,
   "metadata": {
    "collapsed": false
   },
   "outputs": [],
   "source": [
    "plts(pmtrd, signal_start=6000, signal_end=10000, offset=25)\n",
    "plts(sbl.signal_r, signal_start=6000, signal_end=10000, offset=25)\n"
   ]
  },
  {
   "cell_type": "markdown",
   "metadata": {},
   "source": [
    "#####  The effect of thr2 seems to be negligible. "
   ]
  },
  {
   "cell_type": "code",
   "execution_count": null,
   "metadata": {
    "collapsed": false
   },
   "outputs": [],
   "source": [
    "plts(sbl.signal_r, signal_start=8000, signal_end=20000, offset=2)"
   ]
  },
  {
   "cell_type": "markdown",
   "metadata": {},
   "source": [
    "##### The recovered signal oscillates around zero, as it should be, adding the tail to the signal should be a net effect of near zero. We can study this by computing the energy of the signal while pulse_on =1 and wait_over = 1"
   ]
  },
  {
   "cell_type": "code",
   "execution_count": null,
   "metadata": {
    "collapsed": true
   },
   "outputs": [],
   "source": [
    "erec = np.sum(sbl.signal_r)"
   ]
  },
  {
   "cell_type": "code",
   "execution_count": null,
   "metadata": {
    "collapsed": false
   },
   "outputs": [],
   "source": [
    "erec"
   ]
  },
  {
   "cell_type": "code",
   "execution_count": null,
   "metadata": {
    "collapsed": false
   },
   "outputs": [],
   "source": [
    "erec/epes"
   ]
  },
  {
   "cell_type": "code",
   "execution_count": null,
   "metadata": {
    "collapsed": true
   },
   "outputs": [],
   "source": [
    "#energy = np.dot(pulse_f,(signal_r-BASELINE)) "
   ]
  },
  {
   "cell_type": "markdown",
   "metadata": {},
   "source": [
    "##### First we recompute the energy subtracting the Baseline. "
   ]
  },
  {
   "cell_type": "code",
   "execution_count": null,
   "metadata": {
    "collapsed": true
   },
   "outputs": [],
   "source": [
    "erec = np.sum(sbl.signal_r - sbl.BASELINE)"
   ]
  },
  {
   "cell_type": "code",
   "execution_count": null,
   "metadata": {
    "collapsed": false
   },
   "outputs": [],
   "source": [
    "erec"
   ]
  },
  {
   "cell_type": "code",
   "execution_count": null,
   "metadata": {
    "collapsed": false
   },
   "outputs": [],
   "source": [
    "erec/epes"
   ]
  },
  {
   "cell_type": "markdown",
   "metadata": {},
   "source": [
    "##### Now we require that pulse_on =1 or wait_over = 1"
   ]
  },
  {
   "cell_type": "code",
   "execution_count": null,
   "metadata": {
    "collapsed": false
   },
   "outputs": [],
   "source": [
    "erec1 = np.dot(sbl.pulse_on, sbl.signal_r - sbl.BASELINE)"
   ]
  },
  {
   "cell_type": "code",
   "execution_count": null,
   "metadata": {
    "collapsed": true
   },
   "outputs": [],
   "source": [
    "erec2 = np.dot(sbl.wait_over, sbl.signal_r - sbl.BASELINE)"
   ]
  },
  {
   "cell_type": "code",
   "execution_count": null,
   "metadata": {
    "collapsed": true
   },
   "outputs": [],
   "source": [
    "erec = erec1 + erec2"
   ]
  },
  {
   "cell_type": "code",
   "execution_count": null,
   "metadata": {
    "collapsed": false
   },
   "outputs": [],
   "source": [
    "erec1"
   ]
  },
  {
   "cell_type": "code",
   "execution_count": null,
   "metadata": {
    "collapsed": false
   },
   "outputs": [],
   "source": [
    "erec2"
   ]
  },
  {
   "cell_type": "code",
   "execution_count": null,
   "metadata": {
    "collapsed": false
   },
   "outputs": [],
   "source": [
    "erec"
   ]
  },
  {
   "cell_type": "code",
   "execution_count": null,
   "metadata": {
    "collapsed": false
   },
   "outputs": [],
   "source": [
    "erec/epes"
   ]
  },
  {
   "cell_type": "markdown",
   "metadata": {},
   "source": [
    "##### Notice that we recover a bit more of signal if we do not add the tail (slight negative swing)"
   ]
  },
  {
   "cell_type": "markdown",
   "metadata": {},
   "source": [
    "### What is the dependence of the recovered signal with the value of thresholds? (number of sigmas)"
   ]
  },
  {
   "cell_type": "code",
   "execution_count": null,
   "metadata": {
    "collapsed": true
   },
   "outputs": [],
   "source": [
    "def blr_mp(nsigma1=3,nsigma2=1):\n",
    "    \"\"\"\n",
    "    A Marco Polo function to study the dependence of BLR with thresholds\n",
    "    \"\"\"\n",
    "    sbl = BLR(pmtrd, coef[0], mau_len=250, thr1 = nsigma1*FP.NOISE_ADC, \n",
    "              thr2 = 0, thr3 = nsigma2*FP.NOISE_ADC, log='INFO')\n",
    "    \n",
    "    plts(sbl.pulse_on, signal_start=5150, signal_end=9000, offset=1)\n",
    "    plts(sbl.wait_over, signal_start=5150, signal_end=9000, offset=1)\n",
    "    plt.show()\n",
    "    plts(sbl.acum, signal_start=5150, signal_end=25000, offset=50)\n",
    "    plt.show()\n",
    "    plts(sbl.acum, signal_start=8000, signal_end=9000, offset=50)\n",
    "    plt.show()\n",
    "    plts(sbl.signal_r, signal_start=5000, signal_end=9500, offset=50)\n",
    "    plt.show()\n",
    "    plts(sbl.signal_r, signal_start=6000, signal_end=10000, offset=5)\n",
    "    plt.show()\n",
    "    plts(sbl.signal_r, signal_start=8000, signal_end=20000, offset=2)\n",
    "    plt.show()\n",
    "    plts(pmtrd, signal_start=6000, signal_end=10000, offset=5)\n",
    "    plt.show()\n",
    "    plts(pmtrd, signal_start=8000, signal_end=20000, offset=5)\n",
    "    plt.show()\n",
    "    erec_a = np.sum(sbl.signal_r)\n",
    "    erec_b = np.sum(sbl.signal_r - sbl.BASELINE)\n",
    "    erec1 = np.dot(sbl.pulse_on, sbl.signal_r - sbl.BASELINE)\n",
    "    erec2 = np.dot(sbl.wait_over, sbl.signal_r - sbl.BASELINE)\n",
    "    erec_c = erec1 + erec2\n",
    "    print(\"erec_a = {}, erec_b = {}, erec_c = {}\".format(erec_a,erec_b,erec_c))\n",
    "    print(\"erec_1 = {}, erec_2 = {}\".format(erec1,erec2))\n",
    "    \n",
    "    \n",
    "\n",
    "\n",
    "    \n",
    "    "
   ]
  },
  {
   "cell_type": "code",
   "execution_count": null,
   "metadata": {
    "collapsed": false
   },
   "outputs": [],
   "source": [
    "blr_mp(nsigma1=3,nsigma2=1)"
   ]
  },
  {
   "cell_type": "code",
   "execution_count": null,
   "metadata": {
    "collapsed": false
   },
   "outputs": [],
   "source": [
    "blr_mp(nsigma1=4,nsigma2=1)"
   ]
  },
  {
   "cell_type": "code",
   "execution_count": null,
   "metadata": {
    "collapsed": false
   },
   "outputs": [],
   "source": [
    "blr_mp(nsigma1=5,nsigma2=1)"
   ]
  },
  {
   "cell_type": "code",
   "execution_count": null,
   "metadata": {
    "collapsed": false
   },
   "outputs": [],
   "source": [
    "n_5_3 = 109598.6546/110882.442971"
   ]
  },
  {
   "cell_type": "code",
   "execution_count": null,
   "metadata": {
    "collapsed": false
   },
   "outputs": [],
   "source": [
    "n_5_3"
   ]
  },
  {
   "cell_type": "markdown",
   "metadata": {},
   "source": [
    "##### changing the number of sigmas from 3 to 5 introduces a variation of 0.6 per mil. Thus the cut is robust"
   ]
  },
  {
   "cell_type": "code",
   "execution_count": null,
   "metadata": {
    "collapsed": false
   },
   "outputs": [],
   "source": [
    "blr_mp(nsigma1=2,nsigma2=2)"
   ]
  },
  {
   "cell_type": "code",
   "execution_count": null,
   "metadata": {
    "collapsed": true
   },
   "outputs": [],
   "source": [
    "n_3_3_2 = 110403.159327/110882.442971"
   ]
  },
  {
   "cell_type": "code",
   "execution_count": null,
   "metadata": {
    "collapsed": false
   },
   "outputs": [],
   "source": [
    "n_3_3_2"
   ]
  },
  {
   "cell_type": "markdown",
   "metadata": {},
   "source": [
    "##### The variation is now 5 parts per mil and a clear discontinuity is seen. The threshold thr3 cannot be too high!"
   ]
  },
  {
   "cell_type": "code",
   "execution_count": null,
   "metadata": {
    "collapsed": false
   },
   "outputs": [],
   "source": [
    "blr_mp(nsigma1=2,nsigma2=0.5)"
   ]
  },
  {
   "cell_type": "markdown",
   "metadata": {},
   "source": [
    "##### Lowering the threshold too much implies that wait_over = 1 all the time and we keep accumulating even when the raw signal is near zero."
   ]
  },
  {
   "cell_type": "code",
   "execution_count": null,
   "metadata": {
    "collapsed": true
   },
   "outputs": [],
   "source": [
    "plts(sbl.pulse_on, signal_start=5000, signal_end=9000, offset=1)\n",
    "plts(sbl.wait_over, signal_start=5000, signal_end=9000, offset=1)\n",
    "plts(sbl.MAU, signal_start=5000, signal_end=9000, offset=1)"
   ]
  },
  {
   "cell_type": "markdown",
   "metadata": {},
   "source": [
    "#### IN CONCLUSION: the algo seems robust setting thr1 = 3 * sigma, thr2 = 0, thr3 = 1* sigma, where sigma is the rms of the noise. It also appears robust at thr1 = sigma, thr2 = sigma"
   ]
  },
  {
   "cell_type": "code",
   "execution_count": null,
   "metadata": {
    "collapsed": true
   },
   "outputs": [],
   "source": []
  },
  {
   "cell_type": "markdown",
   "metadata": {},
   "source": [
    "### Looking at all PMTs in the event"
   ]
  },
  {
   "cell_type": "code",
   "execution_count": null,
   "metadata": {
    "collapsed": true
   },
   "outputs": [],
   "source": [
    "def blr12(pmtrwf, epmt, coef, nsigma1 = 3, nsigma2 =1, event_number=0):\n",
    "    \"\"\"\n",
    "    BLR algorithm for the 12 PMTs in the EP\n",
    "    pmtrwf.shape = (nof_events, nof_sensors, wf_length)\n",
    "    \"\"\"\n",
    "    NPMT = pmtrwf.shape[1]\n",
    "    EREC=[]\n",
    "    ER = []\n",
    "    SBL =[]\n",
    "    ETRUE = []\n",
    "    E={}\n",
    "    for i in range(NPMT):\n",
    "        pmtrd = pmtrwf[event_number, i]\n",
    "        sbl = BLR(pmtrd, coef[i], mau_len=250, thr1 = nsigma1*FP.NOISE_ADC, \n",
    "              thr2 = 0, thr3 = nsigma2*FP.NOISE_ADC, log='INFO')\n",
    "        \n",
    "        erec1 = np.dot(sbl.pulse_on, sbl.signal_r - sbl.BASELINE)\n",
    "        erec2 = np.dot(sbl.wait_over, sbl.signal_r - sbl.BASELINE)\n",
    "        erec = erec1 + erec2\n",
    "        EREC.append(erec)\n",
    "        ETRUE.append(epmt[event_number,i])\n",
    "        ER.append(erec/epmt[event_number,i])\n",
    "        SBL.append(sbl)\n",
    "    E['etrue'] = ETRUE\n",
    "    E['erec'] = EREC\n",
    "    E['eratio'] = ER\n",
    "    return pd.DataFrame(E), SBL\n",
    "        "
   ]
  },
  {
   "cell_type": "code",
   "execution_count": null,
   "metadata": {
    "collapsed": false
   },
   "outputs": [],
   "source": [
    "%time eDF, SBL = blr12(pmtrwf, epmt, coef, nsigma1 = 3, nsigma2 =1, event_number=0)"
   ]
  },
  {
   "cell_type": "code",
   "execution_count": null,
   "metadata": {
    "collapsed": false
   },
   "outputs": [],
   "source": [
    "eDF"
   ]
  },
  {
   "cell_type": "code",
   "execution_count": null,
   "metadata": {
    "collapsed": false
   },
   "outputs": [],
   "source": [
    "eDF.describe()"
   ]
  },
  {
   "cell_type": "code",
   "execution_count": null,
   "metadata": {
    "collapsed": true
   },
   "outputs": [],
   "source": [
    "error = 0.07/18.7"
   ]
  },
  {
   "cell_type": "code",
   "execution_count": null,
   "metadata": {
    "collapsed": false
   },
   "outputs": [],
   "source": [
    "error*1000."
   ]
  },
  {
   "cell_type": "markdown",
   "metadata": {},
   "source": [
    "### Ratio between true and reconstructed energy in the PMTs "
   ]
  },
  {
   "cell_type": "markdown",
   "metadata": {},
   "source": [
    "The Ratio between true and reconstructed energy in the PMTs must be a good estimator of the uncertainties introduced by the BLR algorithm. For arbitrary events, the energy in each PMT is different (due to geometrical effects) but the ratio between true en reconstructed energy must be the same. For event zero we can see that the std of the ratio is 007, thus std/mean implies a relative error short of 4 per mil which appears acceptable. "
   ]
  },
  {
   "cell_type": "markdown",
   "metadata": {},
   "source": [
    "### Iterating over events"
   ]
  },
  {
   "cell_type": "code",
   "execution_count": null,
   "metadata": {
    "collapsed": false
   },
   "outputs": [],
   "source": [
    "def blr_er(pmtrwf, epmt, coef, nsigma1 = 3, nsigma2 =1, first_event=0, last_event=10):\n",
    "    \"\"\"\n",
    "    BLR algorithm for the 12 PMTs in the EP\n",
    "    pmtrwf.shape = (nof_events, nof_sensors, wf_length)\n",
    "    \"\"\"\n",
    "    NPMT = pmtrwf.shape[1]\n",
    "    E={}\n",
    "    for iev in range(first_event,last_event):\n",
    "        ER = []\n",
    "        for i in range(NPMT):\n",
    "            pmtrd = pmtrwf[iev, i]\n",
    "            sbl = BLR(pmtrd, coef[i], mau_len=250, thr1 = nsigma1*FP.NOISE_ADC, \n",
    "                      thr2 = 0, thr3 = nsigma2*FP.NOISE_ADC, log='INFO')\n",
    "        \n",
    "            erec1 = np.dot(sbl.pulse_on, sbl.signal_r - sbl.BASELINE)\n",
    "            erec2 = np.dot(sbl.wait_over, sbl.signal_r - sbl.BASELINE)\n",
    "            erec = erec1 + erec2\n",
    "        \n",
    "            ER.append(erec/epmt[iev,i])\n",
    "        \n",
    "        E[iev] = ER\n",
    "   \n",
    "    return pd.DataFrame(E)"
   ]
  },
  {
   "cell_type": "code",
   "execution_count": null,
   "metadata": {
    "collapsed": false
   },
   "outputs": [],
   "source": [
    "%time edf = blr_er(pmtrwf, epmt, coef, nsigma1 = 3, nsigma2 =1, first_event=0, last_event=10)"
   ]
  },
  {
   "cell_type": "code",
   "execution_count": null,
   "metadata": {
    "collapsed": false
   },
   "outputs": [],
   "source": [
    "edf"
   ]
  },
  {
   "cell_type": "code",
   "execution_count": null,
   "metadata": {
    "collapsed": false
   },
   "outputs": [],
   "source": [
    "edf.describe()"
   ]
  },
  {
   "cell_type": "markdown",
   "metadata": {},
   "source": [
    "##### Notice that event = 5 has a lower ratio than all others. Let us examine this event in more detail"
   ]
  },
  {
   "cell_type": "code",
   "execution_count": null,
   "metadata": {
    "collapsed": true
   },
   "outputs": [],
   "source": [
    "def blr12_mp(pmtrwf, epmt, coef, nsigma1 = 3, nsigma2 =1, event_number=5, pmt_number=0):\n",
    "    \"\"\"\n",
    "    A Marco Polo function to examine events\n",
    "    \"\"\"\n",
    "    eDF, SBL = blr12(pmtrwf, epmt, coef, nsigma1, nsigma2, event_number)\n",
    "    return eDF, SBL\n",
    "    \n",
    "    #blr12_plt(eDF.ix[event_number],SBL[event_number],pmtrwf[event_number, pmt_number])\n",
    "\n",
    "def blr12_plt(edf,sbl,pmtrd):\n",
    "    \"\"\"\n",
    "    plot interesting stuff\n",
    "    \"\"\"\n",
    "    plts(pmtrd, signal_start=0, signal_end=25000, offset=50)\n",
    "    plt.show()\n",
    "    plts(sbl.signal_r, signal_start=0, signal_end=25000, offset=50)\n",
    "    plt.show()\n",
    "    plts(sbl.pulse_on, signal_start=5150, signal_end=9000, offset=1)\n",
    "    plt.show()\n",
    "    plts(sbl.wait_over, signal_start=5150, signal_end=9000, offset=1)\n",
    "    plt.show()\n",
    "    plts(sbl.acum, signal_start=5150, signal_end=25000, offset=50)\n",
    "    plt.show()\n",
    "    plts(sbl.acum, signal_start=8000, signal_end=9000, offset=50)\n",
    "    plt.show()\n",
    "    plts(sbl.signal_r, signal_start=5000, signal_end=9500, offset=50)\n",
    "    plt.show()\n",
    "    plts(sbl.signal_r, signal_start=6000, signal_end=10000, offset=5)\n",
    "    plt.show()\n",
    "    plts(sbl.signal_r, signal_start=8000, signal_end=20000, offset=2)\n",
    "    plt.show()\n",
    "    plts(pmtrd, signal_start=6000, signal_end=10000, offset=5)\n",
    "    plt.show()\n",
    "    plts(pmtrd, signal_start=8000, signal_end=20000, offset=5)\n",
    "    plt.show()\n",
    "    erec_a = np.sum(sbl.signal_r)\n",
    "    erec_b = np.sum(sbl.signal_r - sbl.BASELINE)\n",
    "    erec1 = np.dot(sbl.pulse_on, sbl.signal_r - sbl.BASELINE)\n",
    "    erec2 = np.dot(sbl.wait_over, sbl.signal_r - sbl.BASELINE)\n",
    "    erec_c = erec1 + erec2\n",
    "    print(\"erec_a = {}, erec_b = {}, erec_c = {}\".format(erec_a,erec_b,erec_c))\n",
    "    print(\"erec_1 = {}, erec_2 = {}\".format(erec1,erec2))\n",
    "    print(\"edf = {}\".format(edf))\n",
    "    "
   ]
  },
  {
   "cell_type": "code",
   "execution_count": null,
   "metadata": {
    "collapsed": true
   },
   "outputs": [],
   "source": [
    "eDF, SBL = blr12_mp(pmtrwf, epmt, coef, nsigma1 = 3, nsigma2 =1, event_number=5, pmt_number=0)"
   ]
  },
  {
   "cell_type": "code",
   "execution_count": null,
   "metadata": {
    "collapsed": true
   },
   "outputs": [],
   "source": [
    "event_number=5; pmt_number=0"
   ]
  },
  {
   "cell_type": "code",
   "execution_count": null,
   "metadata": {
    "collapsed": false
   },
   "outputs": [],
   "source": [
    "blr12_plt(eDF.ix[event_number],SBL[event_number],pmtrwf[event_number, pmt_number])"
   ]
  },
  {
   "cell_type": "markdown",
   "metadata": {},
   "source": [
    "#####  The event is a very small signal. Study in detail"
   ]
  },
  {
   "cell_type": "code",
   "execution_count": null,
   "metadata": {
    "collapsed": false
   },
   "outputs": [],
   "source": [
    "plts(pmtrwf[5, 0], signal_start=7000, signal_end=10000, offset=10)"
   ]
  },
  {
   "cell_type": "code",
   "execution_count": null,
   "metadata": {
    "collapsed": true
   },
   "outputs": [],
   "source": [
    "sbl = SBL[0]"
   ]
  },
  {
   "cell_type": "code",
   "execution_count": null,
   "metadata": {
    "collapsed": true
   },
   "outputs": [],
   "source": []
  },
  {
   "cell_type": "code",
   "execution_count": null,
   "metadata": {
    "collapsed": false
   },
   "outputs": [],
   "source": [
    "plts(sbl.pulse_on, signal_start=7000, signal_end=10000, offset=1)\n"
   ]
  },
  {
   "cell_type": "code",
   "execution_count": null,
   "metadata": {
    "collapsed": false
   },
   "outputs": [],
   "source": [
    "plts(sbl.wait_over, signal_start=7000, signal_end=10000, offset=1)"
   ]
  },
  {
   "cell_type": "code",
   "execution_count": null,
   "metadata": {
    "collapsed": false
   },
   "outputs": [],
   "source": [
    "plts(sbl.signal_r, signal_start=7000, signal_end=10000, offset=10)"
   ]
  },
  {
   "cell_type": "code",
   "execution_count": null,
   "metadata": {
    "collapsed": false
   },
   "outputs": [],
   "source": [
    "plts(sbl.signal_r, signal_start=8500, signal_end=10000, offset=10)"
   ]
  },
  {
   "cell_type": "code",
   "execution_count": null,
   "metadata": {
    "collapsed": false
   },
   "outputs": [],
   "source": [
    "plts(pmtrwf[5, 0], signal_start=8500, signal_end=10000, offset=10)"
   ]
  },
  {
   "cell_type": "code",
   "execution_count": null,
   "metadata": {
    "collapsed": false
   },
   "outputs": [],
   "source": [
    "plts(pmttwf[5, 0], signal_start=0, signal_end=25000, offset=10)"
   ]
  },
  {
   "cell_type": "code",
   "execution_count": null,
   "metadata": {
    "collapsed": false
   },
   "outputs": [],
   "source": [
    "plts(pmttwf[0, 0], signal_start=0, signal_end=25000, offset=10)"
   ]
  },
  {
   "cell_type": "code",
   "execution_count": null,
   "metadata": {
    "collapsed": false
   },
   "outputs": [],
   "source": [
    "epmt"
   ]
  },
  {
   "cell_type": "code",
   "execution_count": null,
   "metadata": {
    "collapsed": false
   },
   "outputs": [],
   "source": [
    "epmt[5,0]"
   ]
  },
  {
   "cell_type": "code",
   "execution_count": null,
   "metadata": {
    "collapsed": false
   },
   "outputs": [],
   "source": [
    "epmt[0,0]"
   ]
  },
  {
   "cell_type": "markdown",
   "metadata": {},
   "source": [
    "####  The algorithm appears to work well, but clearly the accuracy in the reconstruction depends on the intensity of the signal, for event 5 the true signal is about 20 times smaller than for event 0"
   ]
  },
  {
   "cell_type": "code",
   "execution_count": null,
   "metadata": {
    "collapsed": false
   },
   "outputs": [],
   "source": [
    "plts(pmtrwf[5, 0], signal_start=7800, signal_end=8200, offset=10)"
   ]
  },
  {
   "cell_type": "code",
   "execution_count": null,
   "metadata": {
    "collapsed": false
   },
   "outputs": [],
   "source": [
    "plts(sbl.pulse_on, signal_start=7800, signal_end=8200, offset=1)"
   ]
  },
  {
   "cell_type": "code",
   "execution_count": null,
   "metadata": {
    "collapsed": false
   },
   "outputs": [],
   "source": [
    "plts(sbl.signal_r, signal_start=7800, signal_end=8200, offset=10)"
   ]
  },
  {
   "cell_type": "code",
   "execution_count": null,
   "metadata": {
    "collapsed": false
   },
   "outputs": [],
   "source": [
    "plts(pmtrwf[5, 0], signal_start=8200, signal_end=9500, offset=10)"
   ]
  },
  {
   "cell_type": "code",
   "execution_count": null,
   "metadata": {
    "collapsed": false
   },
   "outputs": [],
   "source": [
    "plts(sbl.wait_over, signal_start=8200, signal_end=9500, offset=2)"
   ]
  },
  {
   "cell_type": "code",
   "execution_count": null,
   "metadata": {
    "collapsed": false
   },
   "outputs": [],
   "source": [
    "plts(sbl.signal_r, signal_start=8200, signal_end=9500, offset=10)"
   ]
  },
  {
   "cell_type": "markdown",
   "metadata": {},
   "source": [
    "##### Signal appears perfectly recovered. Perhaps cutoff too high?"
   ]
  },
  {
   "cell_type": "code",
   "execution_count": null,
   "metadata": {
    "collapsed": false
   },
   "outputs": [],
   "source": [
    "%time edf = blr_er(pmtrwf, epmt, coef, nsigma1 = 2, nsigma2 =1, first_event=0, last_event=10)"
   ]
  },
  {
   "cell_type": "code",
   "execution_count": null,
   "metadata": {
    "collapsed": false
   },
   "outputs": [],
   "source": [
    "edf"
   ]
  },
  {
   "cell_type": "code",
   "execution_count": null,
   "metadata": {
    "collapsed": false
   },
   "outputs": [],
   "source": [
    "edf.describe()"
   ]
  },
  {
   "cell_type": "code",
   "execution_count": null,
   "metadata": {
    "collapsed": false
   },
   "outputs": [],
   "source": [
    "%time edf = blr_er(pmtrwf, epmt, coef, nsigma1 = 1, nsigma2 =1, first_event=0, last_event=10)"
   ]
  },
  {
   "cell_type": "code",
   "execution_count": null,
   "metadata": {
    "collapsed": false
   },
   "outputs": [],
   "source": [
    "edf"
   ]
  },
  {
   "cell_type": "code",
   "execution_count": null,
   "metadata": {
    "collapsed": false
   },
   "outputs": [],
   "source": [
    "edf.describe()"
   ]
  },
  {
   "cell_type": "markdown",
   "metadata": {},
   "source": [
    "###  LOW CUTOFFs appear to be the best strategy!"
   ]
  },
  {
   "cell_type": "code",
   "execution_count": null,
   "metadata": {
    "collapsed": true
   },
   "outputs": [],
   "source": [
    "import FEParam as FP"
   ]
  },
  {
   "cell_type": "code",
   "execution_count": null,
   "metadata": {
    "collapsed": true
   },
   "outputs": [],
   "source": [
    "from scipy import signal as SGN"
   ]
  },
  {
   "cell_type": "markdown",
   "metadata": {},
   "source": [
    "#### Inverse signal"
   ]
  },
  {
   "cell_type": "code",
   "execution_count": null,
   "metadata": {
    "collapsed": true
   },
   "outputs": [],
   "source": [
    "len_WF = pmtrwf.shape[2]"
   ]
  },
  {
   "cell_type": "code",
   "execution_count": null,
   "metadata": {
    "collapsed": true
   },
   "outputs": [],
   "source": [
    "signal_t = np.arange(0.0, len_WF*1., 1., dtype=np.double)"
   ]
  },
  {
   "cell_type": "code",
   "execution_count": null,
   "metadata": {
    "collapsed": true
   },
   "outputs": [],
   "source": [
    "def inverse_signal(pmtrd_,signal_t, event_number,CA):\n",
    "    \"\"\"\n",
    "    Peform Base line Restoration\n",
    "    CA is an array with the values of the capacitances for the PMTs\n",
    "    \"\"\"\n",
    "    import FEParam as FP\n",
    "    import FEE2 as FE\n",
    "    \n",
    "    len_WF = pmtrd_.shape[2]\n",
    "    NPMT = pmtrd_.shape[1]\n",
    "    ene_pmt =np.zeros(len_WF, dtype=np.int32)\n",
    "    \n",
    "    inv = []\n",
    "    for j in range(NPMT):\n",
    "        pmtrd = pmtrd_[event_number, j] #waveform for event event_number, PMT j\n",
    "        \n",
    "        #Deconvolution\n",
    "        fee = FE.FEE(C=CA[j],R= FP.R, f=FP.freq_LPF, RG=FP.V_GAIN)\n",
    "        signal_inv_daq = fee.InverseSignalDAQ(signal_t)  #inverse function\n",
    "        inv.append( signal_inv_daq)\n",
    "    return pd.Series(inv)"
   ]
  },
  {
   "cell_type": "code",
   "execution_count": null,
   "metadata": {
    "collapsed": false
   },
   "outputs": [],
   "source": [
    "idf = inverse_signal(pmtrwf,signal_t,event_number = 0, CA=FP.C12)"
   ]
  },
  {
   "cell_type": "code",
   "execution_count": null,
   "metadata": {
    "collapsed": false
   },
   "outputs": [],
   "source": [
    "idf"
   ]
  },
  {
   "cell_type": "code",
   "execution_count": null,
   "metadata": {
    "collapsed": false
   },
   "outputs": [],
   "source": [
    "def plot_inverse(wfdf):\n",
    "    \"\"\"\n",
    "    plot the inverse function\n",
    "    \"\"\"\n",
    "    \n",
    "    plt.figure(figsize=(12,12))\n",
    "    \n",
    "    for i in range(12):\n",
    "        wf = wfdf.ix[i]\n",
    "        ax1 = plt.subplot(3,4,i+1)\n",
    "        ax1.set_xlim([0, len(wf)])\n",
    "        SetPlotLabels(xlabel='t (ns)', ylabel='adc')\n",
    "        plt.plot(wf[1:])\n",
    "\n",
    "    plt.show()"
   ]
  },
  {
   "cell_type": "code",
   "execution_count": null,
   "metadata": {
    "collapsed": false
   },
   "outputs": [],
   "source": [
    "plot_inverse(idf)"
   ]
  },
  {
   "cell_type": "markdown",
   "metadata": {},
   "source": [
    "### ISIDORA DRIVER"
   ]
  },
  {
   "cell_type": "code",
   "execution_count": null,
   "metadata": {
    "collapsed": true
   },
   "outputs": [],
   "source": [
    "from Configure import configure"
   ]
  },
  {
   "cell_type": "code",
   "execution_count": null,
   "metadata": {
    "collapsed": true
   },
   "outputs": [],
   "source": [
    "from cities import isidora"
   ]
  },
  {
   "cell_type": "code",
   "execution_count": null,
   "metadata": {
    "collapsed": true
   },
   "outputs": [],
   "source": [
    "def ISIDORA(argv):\n",
    "    INFO, CFP = configure(argv[0],argv[1:])\n",
    "    if INFO:\n",
    "        print(isidora)\n",
    "\n",
    "    wait()\n",
    "    \n",
    "    print(\"\"\"\n",
    "        ISIDORA:\n",
    "        1. Reads an Nh5 file produced by DIOMIRA, which stores the\n",
    "            raw waveforms (RWF) for the PMTs and SiPMs waveforms, as well as\n",
    "            data on geometry, sensors and MC. The RDWF of the PMTs\n",
    "            show negative swing due to the HPF of the EP FEE electronics\n",
    "\n",
    "        2. Performs DBLR on the PMT RWF and produces corrected waveforms (CWF).\n",
    "\n",
    "        3. Adds the CWF and ancilliary info to the DST \n",
    "\n",
    "        4. Computes the energy of the PMTs per each event and writes to DST\n",
    "\n",
    "        \"\"\")\n",
    "\n",
    "    \n",
    "    PATH_IN=CFP['PATH_IN'] \n",
    "    FILE_IN=CFP['FILE_IN']\n",
    "    FIRST_EVT=CFP['FIRST_EVT']\n",
    "    LAST_EVT=CFP['LAST_EVT']\n",
    "    RUN_ALL=CFP['RUN_ALL']\n",
    "    COEF=CFP['COEF']\n",
    "    CA=farray_from_string(CFP['CA'])*nF \n",
    "    AC=farray_from_string(CFP['AC']) \n",
    "    MAU_LEN=CFP['MAU_LEN']\n",
    "    NSIGMA1=CFP['NSIGMA1'] \n",
    "    NSIGMA2=CFP['NSIGMA2'] \n",
    "\n",
    "    NEVENTS = LAST_EVT -  FIRST_EVT\n",
    "\n",
    "\n",
    "    logger.info(\"input path ={}; file_in ={} \".format(\n",
    "        PATH_IN,FILE_IN))\n",
    "\n",
    "    logger.info(\"first event = {} last event = {} nof events requested = {} \".format(\n",
    "        FIRST_EVT,LAST_EVT,NEVENTS))\n",
    "\n",
    "    logger.info(\"MAU length = {} n_sigma1 = {} n_sigma2 = {} \".format(\n",
    "        MAU_LEN,NSIGMA1,NSIGMA2))\n",
    "    logger.info(\"CA sigma(nf) = {}  \".format(CA/nF))\n",
    "    \n",
    "\n",
    "    # open the input file in mode append \n",
    "    with tables.open_file(\"{}/{}\".format(PATH_IN,FILE_IN), \"a\") as h5in: \n",
    "        # access the PMT raw data in file \n",
    "        pmtrd_ = h5in.root.RD.pmtrwf\n",
    "\n",
    "        #pmtrd_.shape = (nof_events, nof_sensors, wf_length)    \n",
    "        \n",
    "        NPMT = pmtrd_.shape[1]\n",
    "        PMTWL = pmtrd_.shape[2] \n",
    "        NEVENTS_DST = pmtrd_.shape[0]\n",
    "\n",
    "        logger.info(\"nof PMTs = {} nof events in input DST = {} \".format(\n",
    "        NPMT,NEVENTS_DST))\n",
    "\n",
    "        logger.info(\"lof PMT WF (MC) = {} \".format(\n",
    "        PMTWL))\n",
    "\n",
    "        wait()\n",
    "            \n",
    "        # create an extensible array to store the CWF waveforms\n",
    "        # if it exists remove and create again\n",
    "        pmtcwf =0\n",
    "        try:\n",
    "            pmtcwf = h5in.root.RD.pmtcwf\n",
    "            h5in.remove_node(\"/RD\",\"pmtcwf\")\n",
    "            pmtcwf = h5in.create_earray(h5in.root.RD, \"pmtcwf\", \n",
    "                                    atom=tables.FloatAtom(), \n",
    "                                    shape=(0, NPMT, PMTWL), \n",
    "                                    expectedrows=NEVENTS_DST)\n",
    "        except tables.exceptions.NodeError:\n",
    "            pmtcwf = h5in.create_earray(h5in.root.RD, \"pmtcwf\", \n",
    "                                    atom=tables.FloatAtom(), \n",
    "                                    shape=(0, NPMT, PMTWL), \n",
    "                                    expectedrows=NEVENTS_DST)\n",
    "\n",
    "        # create a group to store BLR configuration (por PMT0)\n",
    "\n",
    "        rgroup = 0\n",
    "        try:\n",
    "            rgroup = h5in.root.BLR\n",
    "            \n",
    "        except tables.exceptions.NodeError:\n",
    "            rgroup = h5in.create_group(h5in.root, \"BLR\")\n",
    "\n",
    "        \n",
    "        MAU = 0\n",
    "        acum = 0\n",
    "        pulse_on = 0\n",
    "        wait_over = 0\n",
    "\n",
    "        try:\n",
    "            mau = h5in.root.BLR.mau\n",
    "            h5in.remove_node(\"/BLR\",\"mau\")\n",
    "            mau = h5in.create_earray(h5in.root.BLR, \"mau\", \n",
    "                                    atom=tables.FloatAtom(), \n",
    "                                    shape=(0, PMTWL), \n",
    "                                    expectedrows=NEVENTS_DST)\n",
    "        except tables.exceptions.NodeError:\n",
    "            mau = h5in.create_earray(h5in.root.BLR, \"mau\", \n",
    "                                    atom=tables.FloatAtom(), \n",
    "                                    shape=(0, PMTWL), \n",
    "                                    expectedrows=NEVENTS_DST)\n",
    "        try:\n",
    "            pulse_on = h5in.root.BLR.pulse_on\n",
    "            h5in.remove_node(\"/BLR\",\"pulse_on\")\n",
    "            pulse_on = h5in.create_earray(h5in.root.BLR, \"pulse_on\", \n",
    "                                    atom=tables.IntAtom(), \n",
    "                                    shape=(0, PMTWL), \n",
    "                                    expectedrows=NEVENTS_DST)\n",
    "        except tables.exceptions.NodeError:\n",
    "            pulse_on = h5in.create_earray(h5in.root.BLR, \"pulse_on\", \n",
    "                                    atom=tables.IntAtom(), \n",
    "                                    shape=(0, PMTWL), \n",
    "                                    expectedrows=NEVENTS_DST)\n",
    "        try:\n",
    "            wait_over = h5in.root.BLR.wait_over\n",
    "            h5in.remove_node(\"/BLR\",\"wait_over\")\n",
    "            wait_over = h5in.create_earray(h5in.root.BLR, \"wait_over\", \n",
    "                                    atom=tables.IntAtom(), \n",
    "                                    shape=(0, PMTWL), \n",
    "                                    expectedrows=NEVENTS_DST)\n",
    "        except tables.exceptions.NodeError:\n",
    "            wait_over = h5in.create_earray(h5in.root.BLR, \"wait_over\", \n",
    "                                    atom=tables.IntAtom(), \n",
    "                                    shape=(0, PMTWL), \n",
    "                                    expectedrows=NEVENTS_DST)\n",
    "        try:\n",
    "            acum  = h5in.root.BLR.acum \n",
    "            h5in.remove_node(\"/BLR\",\"acum\")\n",
    "            acum  = h5in.create_earray(h5in.root.BLR, \"acum\", \n",
    "                                    atom=tables.FloatAtom(), \n",
    "                                    shape=(0, PMTWL), \n",
    "                                    expectedrows=NEVENTS_DST)\n",
    "        except tables.exceptions.NodeError:\n",
    "            acum  = h5in.create_earray(h5in.root.BLR, \"acum\", \n",
    "                                    atom=tables.FloatAtom(), \n",
    "                                    shape=(0, PMTWL), \n",
    "                                    expectedrows=NEVENTS_DST)\n",
    "\n",
    "            \n",
    "        if NEVENTS > NEVENTS_DST and RUN_ALL == False:\n",
    "            print(\"\"\"\n",
    "                Refusing to run: you have requested\n",
    "                FIRST_EVT = {}\n",
    "                LAST_EVT  = {}\n",
    "                Thus you want to run over {} events\n",
    "                but the size of the DST is {} events.\n",
    "                Please change your choice or select RUN_ALL = TRUE\n",
    "                to run over the whole DST when this happens\n",
    "                \"\"\".format(FIRST_EVT,LAST_EVT,NEVENTS,NEVENTS_DST))\n",
    "            sys.exit(0)\n",
    "\n",
    "        elif  NEVENTS > NEVENTS_DST and RUN_ALL == True:\n",
    "            FIRST_EVT = 0\n",
    "            LAST_EVT = NEVENTS_DST\n",
    "            NEVENTS = NEVENTS_DST\n",
    "\n",
    "            \n",
    "        for i in range(FIRST_EVT,LAST_EVT):\n",
    "            \n",
    "            logger.info(\"-->event number ={}\".format(i))\n",
    "\n",
    "            #DBLR\n",
    "            coeff_acc = AC\n",
    "            if COEF == 0:\n",
    "                coeff_acc = accumulator_coefficients(pmtrd_,CA)\n",
    "\n",
    "\n",
    "            BLRS = DBLR(pmtrd_, i, coeff_acc, mau_len=MAU_LEN,\n",
    "                        thr1 = NSIGMA1*FP.NOISE_ADC, thr2=0, \n",
    "                        thr3 = NSIGMA2*FP.NOISE_ADC, log='INFO')\n",
    "\n",
    "            \n",
    "            pmtCWF = []\n",
    "            for blr in BLRS:\n",
    "                pmtCWF.append(blr.signal_r)\n",
    "                \n",
    "            #append to pmtcwd\n",
    "            pmtcwf.append(np.array(pmtCWF).reshape(1, NPMT, PMTWL))\n",
    "\n",
    "            # append BLR variables\n",
    "\n",
    "            mau_pmt0 = BLRS[0].MAU\n",
    "            mau.append(mau_pmt0.reshape(1, PMTWL))\n",
    "\n",
    "            pulse_on0 = BLRS[0].pulse_on\n",
    "            pulse_on.append(pulse_on0.reshape(1, PMTWL))\n",
    "\n",
    "            wait_over0 = BLRS[0].wait_over\n",
    "            wait_over.append(wait_over0.reshape(1, PMTWL))\n",
    "\n",
    "            acum0  = BLRS[0].acum\n",
    "            acum.append(acum0.reshape(1, PMTWL))\n",
    "                \n",
    "                \n",
    "        pmtcwf.flush()\n",
    "        mau.flush()\n",
    "        pulse_on.flush()\n",
    "        wait_over.flush()\n",
    "        acum.flush()\n",
    "        \n",
    "\n",
    "    print(\"Leaving Isidora. Safe travels!\")\n",
    "\n",
    "          "
   ]
  },
  {
   "cell_type": "markdown",
   "metadata": {},
   "source": [
    "### The energy criteria"
   ]
  },
  {
   "cell_type": "markdown",
   "metadata": {},
   "source": [
    "1. Cannot use only pulse_over = 1 (event 0 shows that the algorithm does not identify the second pulse as a pulse on, but as a wait-over (e.g, signal recovery).\n",
    "2. Take as energy all the wait_over tail is probably prone to add zeros. Not good idea either, I think. \n",
    "3. Possibly best is to find peaks in the reconstructed signal and then add the energy"
   ]
  },
  {
   "cell_type": "code",
   "execution_count": null,
   "metadata": {
    "collapsed": false
   },
   "outputs": [],
   "source": [
    "plts(pmtcwf[0, 0], signal_start=6000, signal_end=9000, offset=5)"
   ]
  },
  {
   "cell_type": "markdown",
   "metadata": {},
   "source": [
    "Not smart to keep adding numbers close to zero!"
   ]
  },
  {
   "cell_type": "markdown",
   "metadata": {},
   "source": [
    "### Plotting sensor energy"
   ]
  },
  {
   "cell_type": "code",
   "execution_count": null,
   "metadata": {
    "collapsed": true
   },
   "outputs": [],
   "source": [
    "from PandaUtil import *"
   ]
  },
  {
   "cell_type": "code",
   "execution_count": null,
   "metadata": {
    "collapsed": true
   },
   "outputs": [],
   "source": []
  },
  {
   "cell_type": "code",
   "execution_count": null,
   "metadata": {
    "collapsed": true
   },
   "outputs": [],
   "source": [
    "h5f = tb.open_file('../../data/Waveforms/25ns/WF_Na_test_RWF.h5', \"r+\")"
   ]
  },
  {
   "cell_type": "code",
   "execution_count": null,
   "metadata": {
    "collapsed": false
   },
   "outputs": [],
   "source": [
    "geom_t = h5f.root.Detector.DetectorGeometry"
   ]
  },
  {
   "cell_type": "code",
   "execution_count": null,
   "metadata": {
    "collapsed": false
   },
   "outputs": [],
   "source": [
    "geom_df = read_data_geom(geom_t)"
   ]
  },
  {
   "cell_type": "code",
   "execution_count": null,
   "metadata": {
    "collapsed": false
   },
   "outputs": [],
   "source": [
    "geom_df"
   ]
  },
  {
   "cell_type": "code",
   "execution_count": null,
   "metadata": {
    "collapsed": true
   },
   "outputs": [],
   "source": [
    "pmt_t = h5f.root.Sensors.DataPMT\n",
    "sipm_t = h5f.root.Sensors.DataSiPM"
   ]
  },
  {
   "cell_type": "code",
   "execution_count": null,
   "metadata": {
    "collapsed": true
   },
   "outputs": [],
   "source": [
    "pmtdf = read_data_sensors(pmt_t)"
   ]
  },
  {
   "cell_type": "code",
   "execution_count": null,
   "metadata": {
    "collapsed": true
   },
   "outputs": [],
   "source": [
    "sipmdf = read_data_sensors(sipm_t)"
   ]
  },
  {
   "cell_type": "code",
   "execution_count": null,
   "metadata": {
    "collapsed": false
   },
   "outputs": [],
   "source": [
    "pmtdf"
   ]
  },
  {
   "cell_type": "code",
   "execution_count": null,
   "metadata": {
    "collapsed": false
   },
   "outputs": [],
   "source": [
    "epmt"
   ]
  },
  {
   "cell_type": "code",
   "execution_count": null,
   "metadata": {
    "collapsed": false
   },
   "outputs": [],
   "source": [
    "def plot_ene_pmt(geom_df,sensor_df, epmt, event_number=0, radius=10):\n",
    "    \"\"\"\n",
    "    plots the reconstructed energy of the PMTs\n",
    "    energy_se is a series describing the reconstructed energy \n",
    "    in each PMT\n",
    "    \"\"\"\n",
    "    x =sensor_df['x'].values\n",
    "    y =sensor_df['y'].values\n",
    "    r =np.ones(len(sensor_df['x'].values))*radius\n",
    "    col = epmt[event_number] \n",
    "    \n",
    "    plt.figure(figsize=(10,10))\n",
    "    ax = plt.subplot(aspect='equal')\n",
    "    circles(x, y, r, c=col, alpha=0.5, ec='none')\n",
    "    plt.colorbar()\n",
    "    #xlim(-198,198)  #one should use geom info\n",
    "    #ylim(-198,198)\n",
    "    xlim(geom_df['xdet_min'],geom_df['xdet_max'])\n",
    "    ylim(geom_df['ydet_min'],geom_df['ydet_max'])\n",
    "    return col"
   ]
  },
  {
   "cell_type": "code",
   "execution_count": null,
   "metadata": {
    "collapsed": false
   },
   "outputs": [],
   "source": [
    "plot_ene_pmt(geom_df,pmtdf, epmt, event_number = 0, radius=10)"
   ]
  },
  {
   "cell_type": "code",
   "execution_count": null,
   "metadata": {
    "collapsed": false
   },
   "outputs": [],
   "source": [
    "plot_ene_pmt(geom_df,pmtdf, epmt, event_number = 1, radius=10)"
   ]
  },
  {
   "cell_type": "code",
   "execution_count": null,
   "metadata": {
    "collapsed": false
   },
   "outputs": [],
   "source": [
    "plot_ene_pmt(geom_df,pmtdf, epmt, event_number = 3, radius=10)"
   ]
  }
 ],
 "metadata": {
  "anaconda-cloud": {},
  "kernelspec": {
   "display_name": "Python [Root]",
   "language": "python",
   "name": "Python [Root]"
  },
  "language_info": {
   "codemirror_mode": {
    "name": "ipython",
    "version": 2
   },
   "file_extension": ".py",
   "mimetype": "text/x-python",
   "name": "python",
   "nbconvert_exporter": "python",
   "pygments_lexer": "ipython2",
   "version": "2.7.12"
  }
 },
 "nbformat": 4,
 "nbformat_minor": 0
}
