{
 "cells": [
  {
   "cell_type": "markdown",
   "metadata": {},
   "source": [
    "# calibration analysis"
   ]
  },
  {
   "cell_type": "markdown",
   "metadata": {},
   "source": [
    "Ana the calibration parameters from different calibration runs"
   ]
  },
  {
   "cell_type": "code",
   "execution_count": 1,
   "metadata": {
    "collapsed": true
   },
   "outputs": [],
   "source": [
    "# general imports\n",
    "from __future__ import print_function\n",
    "%matplotlib inline\n",
    "%load_ext autoreload\n",
    "%autoreload 2\n",
    "import numpy as np\n",
    "import tables\n",
    "import pandas as pd\n",
    "import time\n",
    "import matplotlib\n",
    "import matplotlib.pyplot as plt\n",
    "from matplotlib.mlab import griddata\n",
    "matplotlib.style.use('ggplot')"
   ]
  },
  {
   "cell_type": "code",
   "execution_count": 2,
   "metadata": {
    "collapsed": false
   },
   "outputs": [
    {
     "name": "stdout",
     "output_type": "stream",
     "text": [
      "last visit 29/10/2016 at 16:53:07\n"
     ]
    }
   ],
   "source": [
    "idate, ihour = time.strftime(\"%d/%m/%Y\"), time.strftime(\"%H:%M:%S\")\n",
    "print('last visit {} at {}'.format(idate, ihour))"
   ]
  },
  {
   "cell_type": "code",
   "execution_count": 3,
   "metadata": {
    "collapsed": true
   },
   "outputs": [],
   "source": [
    "idir = '/Users/hernando/Investigacion/NEXT/NEXT-Reco/icnew/Data/NEW/pmtcalib/'\n",
    "runs = [1994, 2012, 2014, 2063, 2064, 2065, 2066, 2068, 2069, 2070]"
   ]
  },
  {
   "cell_type": "code",
   "execution_count": 4,
   "metadata": {
    "collapsed": false
   },
   "outputs": [],
   "source": [
    "def getpan(irun):\n",
    "    ifile = 'calf_R'+str(irun)+'_pg_panda.h5'\n",
    "    store = pd.HDFStore(idir+ifile)\n",
    "    pan = store.df\n",
    "    return pan\n",
    "\n",
    "pans = map(getpan, runs)"
   ]
  },
  {
   "cell_type": "code",
   "execution_count": 5,
   "metadata": {
    "collapsed": false
   },
   "outputs": [],
   "source": [
    "nruns = len(runs)\n",
    "def var(label,k):\n",
    "    return np.array(map(lambda i: pans[i][label][k], range(nruns)))\n",
    "\n",
    "nsens = 12\n",
    "sens = range(nsens)"
   ]
  },
  {
   "cell_type": "code",
   "execution_count": 6,
   "metadata": {
    "collapsed": false
   },
   "outputs": [
    {
     "name": "stdout",
     "output_type": "stream",
     "text": [
      "['chi2', 'gain', 'indexes', 'noise', 'noise-pe', 'ntot', 'pedestal', 'pes']\n"
     ]
    }
   ],
   "source": [
    "labels = map(str, pans[0].columns)\n",
    "print(labels)\n",
    "dopan = {}\n",
    "for label in labels:\n",
    "    vmean, vstd = [], []\n",
    "    for i in range(nsens):\n",
    "        xvar = var(label,i)\n",
    "        vmean.append(np.mean(xvar))\n",
    "        vstd.append(np.std(xvar))\n",
    "    dopan[label] = np.array(vmean)\n",
    "    dopan['e'+label] =np.array(vstd)\n",
    "opan = pd.DataFrame(dopan)"
   ]
  },
  {
   "cell_type": "code",
   "execution_count": 7,
   "metadata": {
    "collapsed": false
   },
   "outputs": [
    {
     "data": {
      "text/html": [
       "<div>\n",
       "<table border=\"1\" class=\"dataframe\">\n",
       "  <thead>\n",
       "    <tr style=\"text-align: right;\">\n",
       "      <th></th>\n",
       "      <th>chi2</th>\n",
       "      <th>echi2</th>\n",
       "      <th>egain</th>\n",
       "      <th>eindexes</th>\n",
       "      <th>enoise</th>\n",
       "      <th>enoise-pe</th>\n",
       "      <th>entot</th>\n",
       "      <th>epedestal</th>\n",
       "      <th>epes</th>\n",
       "      <th>gain</th>\n",
       "      <th>indexes</th>\n",
       "      <th>noise</th>\n",
       "      <th>noise-pe</th>\n",
       "      <th>ntot</th>\n",
       "      <th>pedestal</th>\n",
       "      <th>pes</th>\n",
       "    </tr>\n",
       "  </thead>\n",
       "  <tbody>\n",
       "    <tr>\n",
       "      <th>0</th>\n",
       "      <td>0.865259</td>\n",
       "      <td>0.089125</td>\n",
       "      <td>0.610413</td>\n",
       "      <td>0.0</td>\n",
       "      <td>0.381209</td>\n",
       "      <td>0.758833</td>\n",
       "      <td>59.151875</td>\n",
       "      <td>0.339437</td>\n",
       "      <td>0.518904</td>\n",
       "      <td>17.428622</td>\n",
       "      <td>10.0</td>\n",
       "      <td>7.623354</td>\n",
       "      <td>6.583663</td>\n",
       "      <td>119849.357699</td>\n",
       "      <td>0.146320</td>\n",
       "      <td>1.054707</td>\n",
       "    </tr>\n",
       "    <tr>\n",
       "      <th>1</th>\n",
       "      <td>0.916670</td>\n",
       "      <td>0.149079</td>\n",
       "      <td>0.342333</td>\n",
       "      <td>0.0</td>\n",
       "      <td>0.315649</td>\n",
       "      <td>0.588330</td>\n",
       "      <td>34.668193</td>\n",
       "      <td>0.228852</td>\n",
       "      <td>0.455659</td>\n",
       "      <td>19.753431</td>\n",
       "      <td>11.0</td>\n",
       "      <td>7.590457</td>\n",
       "      <td>7.569431</td>\n",
       "      <td>119816.763332</td>\n",
       "      <td>0.161858</td>\n",
       "      <td>0.925466</td>\n",
       "    </tr>\n",
       "    <tr>\n",
       "      <th>2</th>\n",
       "      <td>0.895153</td>\n",
       "      <td>0.135453</td>\n",
       "      <td>0.384365</td>\n",
       "      <td>0.0</td>\n",
       "      <td>0.354628</td>\n",
       "      <td>0.538479</td>\n",
       "      <td>41.679559</td>\n",
       "      <td>0.230840</td>\n",
       "      <td>0.550386</td>\n",
       "      <td>20.457672</td>\n",
       "      <td>8.0</td>\n",
       "      <td>7.021289</td>\n",
       "      <td>7.223702</td>\n",
       "      <td>119848.040556</td>\n",
       "      <td>0.306719</td>\n",
       "      <td>1.095980</td>\n",
       "    </tr>\n",
       "    <tr>\n",
       "      <th>3</th>\n",
       "      <td>0.884336</td>\n",
       "      <td>0.110763</td>\n",
       "      <td>0.337548</td>\n",
       "      <td>0.0</td>\n",
       "      <td>0.379215</td>\n",
       "      <td>0.476664</td>\n",
       "      <td>61.397246</td>\n",
       "      <td>0.134772</td>\n",
       "      <td>0.484761</td>\n",
       "      <td>25.118604</td>\n",
       "      <td>9.0</td>\n",
       "      <td>7.262983</td>\n",
       "      <td>8.930547</td>\n",
       "      <td>119792.708830</td>\n",
       "      <td>0.299124</td>\n",
       "      <td>0.946790</td>\n",
       "    </tr>\n",
       "    <tr>\n",
       "      <th>4</th>\n",
       "      <td>0.973980</td>\n",
       "      <td>0.179182</td>\n",
       "      <td>0.899830</td>\n",
       "      <td>0.0</td>\n",
       "      <td>0.425064</td>\n",
       "      <td>0.777983</td>\n",
       "      <td>117.075122</td>\n",
       "      <td>0.503430</td>\n",
       "      <td>0.555175</td>\n",
       "      <td>23.093848</td>\n",
       "      <td>0.0</td>\n",
       "      <td>7.621489</td>\n",
       "      <td>9.585797</td>\n",
       "      <td>119776.518928</td>\n",
       "      <td>0.325574</td>\n",
       "      <td>1.161004</td>\n",
       "    </tr>\n",
       "    <tr>\n",
       "      <th>5</th>\n",
       "      <td>1.286652</td>\n",
       "      <td>0.729750</td>\n",
       "      <td>1.806608</td>\n",
       "      <td>0.0</td>\n",
       "      <td>1.234620</td>\n",
       "      <td>1.636750</td>\n",
       "      <td>494.776286</td>\n",
       "      <td>2.211382</td>\n",
       "      <td>0.552674</td>\n",
       "      <td>24.618756</td>\n",
       "      <td>1.0</td>\n",
       "      <td>8.168156</td>\n",
       "      <td>9.940464</td>\n",
       "      <td>119568.359873</td>\n",
       "      <td>1.194277</td>\n",
       "      <td>1.329976</td>\n",
       "    </tr>\n",
       "    <tr>\n",
       "      <th>6</th>\n",
       "      <td>0.976583</td>\n",
       "      <td>0.107962</td>\n",
       "      <td>0.620440</td>\n",
       "      <td>0.0</td>\n",
       "      <td>0.403863</td>\n",
       "      <td>0.729293</td>\n",
       "      <td>81.991398</td>\n",
       "      <td>0.579847</td>\n",
       "      <td>0.552744</td>\n",
       "      <td>25.355296</td>\n",
       "      <td>2.0</td>\n",
       "      <td>7.721829</td>\n",
       "      <td>9.360204</td>\n",
       "      <td>119752.876289</td>\n",
       "      <td>0.404076</td>\n",
       "      <td>1.128615</td>\n",
       "    </tr>\n",
       "    <tr>\n",
       "      <th>7</th>\n",
       "      <td>0.908677</td>\n",
       "      <td>0.133985</td>\n",
       "      <td>0.290931</td>\n",
       "      <td>0.0</td>\n",
       "      <td>0.351010</td>\n",
       "      <td>0.564284</td>\n",
       "      <td>40.115878</td>\n",
       "      <td>0.162538</td>\n",
       "      <td>0.364945</td>\n",
       "      <td>25.897288</td>\n",
       "      <td>3.0</td>\n",
       "      <td>7.457024</td>\n",
       "      <td>10.141758</td>\n",
       "      <td>119836.977676</td>\n",
       "      <td>0.065571</td>\n",
       "      <td>0.721419</td>\n",
       "    </tr>\n",
       "    <tr>\n",
       "      <th>8</th>\n",
       "      <td>0.910205</td>\n",
       "      <td>0.087153</td>\n",
       "      <td>0.490112</td>\n",
       "      <td>0.0</td>\n",
       "      <td>0.104173</td>\n",
       "      <td>0.601729</td>\n",
       "      <td>50.392329</td>\n",
       "      <td>0.104332</td>\n",
       "      <td>0.504436</td>\n",
       "      <td>23.821737</td>\n",
       "      <td>4.0</td>\n",
       "      <td>7.495795</td>\n",
       "      <td>8.485968</td>\n",
       "      <td>119792.591239</td>\n",
       "      <td>0.274112</td>\n",
       "      <td>0.988572</td>\n",
       "    </tr>\n",
       "    <tr>\n",
       "      <th>9</th>\n",
       "      <td>0.860715</td>\n",
       "      <td>0.111864</td>\n",
       "      <td>0.499567</td>\n",
       "      <td>0.0</td>\n",
       "      <td>0.189480</td>\n",
       "      <td>0.549785</td>\n",
       "      <td>49.791461</td>\n",
       "      <td>0.329972</td>\n",
       "      <td>0.560002</td>\n",
       "      <td>20.967350</td>\n",
       "      <td>5.0</td>\n",
       "      <td>7.502173</td>\n",
       "      <td>7.227339</td>\n",
       "      <td>119851.295564</td>\n",
       "      <td>0.380016</td>\n",
       "      <td>1.111146</td>\n",
       "    </tr>\n",
       "    <tr>\n",
       "      <th>10</th>\n",
       "      <td>0.876457</td>\n",
       "      <td>0.093900</td>\n",
       "      <td>0.302770</td>\n",
       "      <td>0.0</td>\n",
       "      <td>0.331425</td>\n",
       "      <td>0.546007</td>\n",
       "      <td>57.426119</td>\n",
       "      <td>0.173417</td>\n",
       "      <td>0.458481</td>\n",
       "      <td>22.105513</td>\n",
       "      <td>6.0</td>\n",
       "      <td>6.941487</td>\n",
       "      <td>8.017390</td>\n",
       "      <td>119828.300976</td>\n",
       "      <td>0.261517</td>\n",
       "      <td>0.919683</td>\n",
       "    </tr>\n",
       "    <tr>\n",
       "      <th>11</th>\n",
       "      <td>0.984161</td>\n",
       "      <td>0.085168</td>\n",
       "      <td>0.339313</td>\n",
       "      <td>0.0</td>\n",
       "      <td>0.365432</td>\n",
       "      <td>0.786992</td>\n",
       "      <td>104.568114</td>\n",
       "      <td>0.162665</td>\n",
       "      <td>0.472679</td>\n",
       "      <td>32.986622</td>\n",
       "      <td>7.0</td>\n",
       "      <td>7.135440</td>\n",
       "      <td>12.324349</td>\n",
       "      <td>119776.793112</td>\n",
       "      <td>0.326851</td>\n",
       "      <td>0.929755</td>\n",
       "    </tr>\n",
       "  </tbody>\n",
       "</table>\n",
       "</div>"
      ],
      "text/plain": [
       "        chi2     echi2     egain  eindexes    enoise  enoise-pe       entot  \\\n",
       "0   0.865259  0.089125  0.610413       0.0  0.381209   0.758833   59.151875   \n",
       "1   0.916670  0.149079  0.342333       0.0  0.315649   0.588330   34.668193   \n",
       "2   0.895153  0.135453  0.384365       0.0  0.354628   0.538479   41.679559   \n",
       "3   0.884336  0.110763  0.337548       0.0  0.379215   0.476664   61.397246   \n",
       "4   0.973980  0.179182  0.899830       0.0  0.425064   0.777983  117.075122   \n",
       "5   1.286652  0.729750  1.806608       0.0  1.234620   1.636750  494.776286   \n",
       "6   0.976583  0.107962  0.620440       0.0  0.403863   0.729293   81.991398   \n",
       "7   0.908677  0.133985  0.290931       0.0  0.351010   0.564284   40.115878   \n",
       "8   0.910205  0.087153  0.490112       0.0  0.104173   0.601729   50.392329   \n",
       "9   0.860715  0.111864  0.499567       0.0  0.189480   0.549785   49.791461   \n",
       "10  0.876457  0.093900  0.302770       0.0  0.331425   0.546007   57.426119   \n",
       "11  0.984161  0.085168  0.339313       0.0  0.365432   0.786992  104.568114   \n",
       "\n",
       "    epedestal      epes       gain  indexes     noise   noise-pe  \\\n",
       "0    0.339437  0.518904  17.428622     10.0  7.623354   6.583663   \n",
       "1    0.228852  0.455659  19.753431     11.0  7.590457   7.569431   \n",
       "2    0.230840  0.550386  20.457672      8.0  7.021289   7.223702   \n",
       "3    0.134772  0.484761  25.118604      9.0  7.262983   8.930547   \n",
       "4    0.503430  0.555175  23.093848      0.0  7.621489   9.585797   \n",
       "5    2.211382  0.552674  24.618756      1.0  8.168156   9.940464   \n",
       "6    0.579847  0.552744  25.355296      2.0  7.721829   9.360204   \n",
       "7    0.162538  0.364945  25.897288      3.0  7.457024  10.141758   \n",
       "8    0.104332  0.504436  23.821737      4.0  7.495795   8.485968   \n",
       "9    0.329972  0.560002  20.967350      5.0  7.502173   7.227339   \n",
       "10   0.173417  0.458481  22.105513      6.0  6.941487   8.017390   \n",
       "11   0.162665  0.472679  32.986622      7.0  7.135440  12.324349   \n",
       "\n",
       "             ntot  pedestal       pes  \n",
       "0   119849.357699  0.146320  1.054707  \n",
       "1   119816.763332  0.161858  0.925466  \n",
       "2   119848.040556  0.306719  1.095980  \n",
       "3   119792.708830  0.299124  0.946790  \n",
       "4   119776.518928  0.325574  1.161004  \n",
       "5   119568.359873  1.194277  1.329976  \n",
       "6   119752.876289  0.404076  1.128615  \n",
       "7   119836.977676  0.065571  0.721419  \n",
       "8   119792.591239  0.274112  0.988572  \n",
       "9   119851.295564  0.380016  1.111146  \n",
       "10  119828.300976  0.261517  0.919683  \n",
       "11  119776.793112  0.326851  0.929755  "
      ]
     },
     "execution_count": 7,
     "metadata": {},
     "output_type": "execute_result"
    }
   ],
   "source": [
    "opan"
   ]
  },
  {
   "cell_type": "code",
   "execution_count": 16,
   "metadata": {
    "collapsed": false
   },
   "outputs": [
    {
     "data": {
      "image/png": "[encoded data removed]",
      "text/plain": [
       "<matplotlib.figure.Figure at 0x11b3d4050>"
      ]
     },
     "metadata": {},
     "output_type": "display_data"
    }
   ],
   "source": [
    "import calib as sc\n",
    "\n",
    "again = [22.91, 23.75, 25.3, 25.99, 23.70, 20.89, 22.13, 33.09, 20.43, 25.16, 15.85, 18.21]\n",
    "aegain = [0.14, 0.17, 0.09, 0.09, 0.08, 0.11, 0.08, 0.06, 0.11, 0.07, 0.25, 0.15]\n",
    "\n",
    "anoise_pe = [9.69, 10.73, 9.27, 9.88, 8.32, 7.03, 7.85, 12.01, 7.18, 8.72, 7.20, 8.17] \n",
    "aenoise_pe = [0.12, 0.14, 0.10, 0.09, 0.09, 0.11, 0.09, 0.07, 0.11, 0.08, 0.18, 0.13]\n",
    "\n",
    "def xyey_(label):\n",
    "    x = opan['indexes']\n",
    "    y = opan[label]\n",
    "    ey = opan['e'+label]\n",
    "    vals = zip(x.values,y.values,ey.values)\n",
    "    vals.sort()\n",
    "    x = np.array(map(lambda val: val[0], vals))\n",
    "    y = np.array(map(lambda val: val[1], vals))\n",
    "    ey = np.array(map(lambda val: val[2], vals))\n",
    "    return x,y,ey\n",
    "\n",
    "def polo_sens(labels):\n",
    "    n = len(labels)\n",
    "    nx, ny, figsize = sc.plt_subplots(n)\n",
    "    fig, axes = plt.subplots(nx, ny, figsize=figsize)\n",
    "    plt.suptitle('calibration PMTS')\n",
    "    for i, label in enumerate(labels):\n",
    "        ax = plt.subplot(nx, ny, i+1)\n",
    "        x, y, ey = xyey_(label)\n",
    "        ax.errorbar(x, y, ey, fmt='o', label='jah')\n",
    "        if (label == 'gain'):\n",
    "            ax.errorbar(x, again, aegain, fmt='*', label='al')\n",
    "        if (label == 'noise-pe'):\n",
    "            ax.errorbar(x, anoise_pe, aenoise_pe, fmt='*', label='art')\n",
    "        ax.legend()\n",
    "        plt.xlim(-1.,12.)\n",
    "        ax.set_title(label)\n",
    "    fig.tight_layout()\n",
    "    plt.show()\n",
    "    return fig\n",
    "\n",
    "ilabels = ['gain','noise','noise-pe','chi2','pedestal','pes']\n",
    "fig = polo_sens(ilabels)\n",
    "fig.savefig(idir+'pmt_calib_summary.pdf')"
   ]
  },
  {
   "cell_type": "code",
   "execution_count": 17,
   "metadata": {
    "collapsed": false
   },
   "outputs": [
    {
     "data": {
      "text/plain": [
       "[<matplotlib.lines.Line2D at 0x11bbf3e90>]"
      ]
     },
     "execution_count": 17,
     "metadata": {},
     "output_type": "execute_result"
    },
    {
     "data": {
      "image/png": "[encoded data removed]",
      "text/plain": [
       "<matplotlib.figure.Figure at 0x11b3dbc50>"
      ]
     },
     "metadata": {},
     "output_type": "display_data"
    }
   ],
   "source": [
    "rat = opan['noise-pe']/opan['gain']\n",
    "plt.plot(rat, marker='*')"
   ]
  },
  {
   "cell_type": "code",
   "execution_count": 18,
   "metadata": {
    "collapsed": false
   },
   "outputs": [],
   "source": [
    "opan.to_csv(idir+'pmt_calib_summary.cvs')\n",
    "opan.to_hdf(idir+'pmt_calib_summary.h5','df',mode='w',format='table',data_columns=True)"
   ]
  },
  {
   "cell_type": "code",
   "execution_count": null,
   "metadata": {
    "collapsed": true
   },
   "outputs": [],
   "source": []
  }
 ],
 "metadata": {
  "anaconda-cloud": {},
  "kernelspec": {
   "display_name": "Python [Root]",
   "language": "python",
   "name": "Python [Root]"
  },
  "language_info": {
   "codemirror_mode": {
    "name": "ipython",
    "version": 2
   },
   "file_extension": ".py",
   "mimetype": "text/x-python",
   "name": "python",
   "nbconvert_exporter": "python",
   "pygments_lexer": "ipython2",
   "version": "2.7.12"
  }
 },
 "nbformat": 4,
 "nbformat_minor": 0
}
