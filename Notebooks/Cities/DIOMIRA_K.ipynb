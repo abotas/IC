{
 "cells": [
  {
   "cell_type": "markdown",
   "metadata": {},
   "source": [
    "# DIOMIRA Kublai"
   ]
  },
  {
   "cell_type": "markdown",
   "metadata": {},
   "source": [
    "## Running DIOMIRA Script"
   ]
  },
  {
   "cell_type": "code",
   "execution_count": 1,
   "metadata": {
    "collapsed": false
   },
   "outputs": [],
   "source": [
    "from __future__ import print_function\n",
    "%matplotlib inline\n",
    "%load_ext autoreload\n",
    "%autoreload 2\n",
    "import cProfile"
   ]
  },
  {
   "cell_type": "code",
   "execution_count": 2,
   "metadata": {
    "collapsed": true
   },
   "outputs": [],
   "source": [
    "import pandas as pd\n",
    "import tables as tb\n",
    "import numpy as np\n",
    "from Util import *\n",
    "import time"
   ]
  },
  {
   "cell_type": "code",
   "execution_count": 3,
   "metadata": {
    "collapsed": true
   },
   "outputs": [],
   "source": [
    "%matplotlib inline"
   ]
  },
  {
   "cell_type": "code",
   "execution_count": 4,
   "metadata": {
    "collapsed": true
   },
   "outputs": [],
   "source": [
    "import mplFunctions as mpl\n",
    "import wfmFunctions as wfm"
   ]
  },
  {
   "cell_type": "code",
   "execution_count": 5,
   "metadata": {
    "collapsed": true
   },
   "outputs": [],
   "source": [
    "import matplotlib\n",
    "import matplotlib.pyplot as plt\n",
    "matplotlib.style.use('ggplot')"
   ]
  },
  {
   "cell_type": "markdown",
   "metadata": {},
   "source": [
    "### DIOMIRA_K revisited in:"
   ]
  },
  {
   "cell_type": "code",
   "execution_count": 6,
   "metadata": {
    "collapsed": false
   },
   "outputs": [
    {
     "name": "stdout",
     "output_type": "stream",
     "text": [
      "11/10/2016\n"
     ]
    }
   ],
   "source": [
    "print(time.strftime(\"%d/%m/%Y\"))"
   ]
  },
  {
   "cell_type": "code",
   "execution_count": 7,
   "metadata": {
    "collapsed": false
   },
   "outputs": [
    {
     "name": "stdout",
     "output_type": "stream",
     "text": [
      "20:40:27\n"
     ]
    }
   ],
   "source": [
    "print(time.strftime(\"%H:%M:%S\"))"
   ]
  },
  {
   "cell_type": "markdown",
   "metadata": {},
   "source": [
    "## Running Diomira over preproc Kr file"
   ]
  },
  {
   "cell_type": "markdown",
   "metadata": {},
   "source": [
    "#### Update: running DIOMIRA after major update (\"the Gonzalo\")"
   ]
  },
  {
   "cell_type": "code",
   "execution_count": 8,
   "metadata": {
    "collapsed": true
   },
   "outputs": [],
   "source": [
    "%less ../../Config/DIOMIRA_NA_ZLIB_test.csv"
   ]
  },
  {
   "cell_type": "raw",
   "metadata": {},
   "source": [
    "# Configuration file for DIOMIRA\n",
    "# The parameters for DIOMIRA are:\n",
    "#\n",
    "#        PATH_IN = path to input DST file (must be a MCRD file)\n",
    "#        FILE_IN = name of input DST file\n",
    "#        PATH_OUT = path to output DST file (RWF file)\n",
    "#        FILE_OUT = name of ouput DST file (RWF file)\n",
    "#        PATH_DB  = path to the database directory\n",
    "#        FIRST_EVT,LAST_EVT,RUN_ALL,\n",
    "#\n",
    "#        RUN_ALL is used to decide whether to run all the events in the file\n",
    "#        in case that the total number of events requested (LAST_EVT-FIRST_EVT) \n",
    "#        exceeds the number of events in the DST file. If RUN_ALL is set to 1 (True), \n",
    "#        the script will run over all elements in the DST, \n",
    "#        otherwise it will exit with a warning.\n",
    "#        CLIB = compression library used: values can be 'ZLIB', 'BLOSC' or 'NONE'\n",
    "#        CLEVEL = compression level\n",
    "#\n",
    "PATH_IN,PATH_OUT,FILE_IN,FILE_OUT,PATH_DB,FIRST_EVT,LAST_EVT,RUN_ALL,CLIB,CLEVEL, END \n",
    "/Users/jjgomezcadenas/Documents/Development/NEXT/data/test/,/Users/jjgomezcadenas/Documents/Development/NEXT/data/Waveforms/25ns/,nexus_NEW_NEXT_v0_08_00_Kr_ACTIVE_5bar_1000kev_0.next_10000.root.h5,Kr_ACTIVE_5bar_evt_10.h5,/Users/jjgomezcadenas/Documents/Development/NEXT/IC/Database,0,10,1,zlib,1,1"
   ]
  },
  {
   "cell_type": "code",
   "execution_count": 9,
   "metadata": {
    "collapsed": false
   },
   "outputs": [
    {
     "name": "stdout",
     "output_type": "stream",
     "text": [
      "Debug level = INFO\n",
      "input path =/Users/jjgomezcadenas/Documents/Development/NEXT/data/test/; output path = /Users/jjgomezcadenas/Documents/Development/NEXT/data/Waveforms/25ns/; file_in =nexus_NEW_NEXT_v0_08_00_Kr_ACTIVE_5bar_1000kev_0.next_10000.root.h5 file_out =Kr_ACTIVE_5bar_evt_10.h5\n",
      "first event = 0 last event = 10 nof events requested = 10 \n",
      "Compression library = zlib Compression level = 1 \n",
      "nof PMTs = 12 nof  SiPMs = 1789 nof events in input DST = 1000 \n",
      "lof SiPM WF = 1200000 lof PMT WF (MC) = 1200 lof PMT WF (FEE) = 48000\n",
      "Initializing NoiseSampler... OK\n",
      "INFO:root:-->event number =0\n"
     ]
    },
    {
     "name": "stderr",
     "output_type": "stream",
     "text": [
      "-->event number =0\n"
     ]
    },
    {
     "name": "stdout",
     "output_type": "stream",
     "text": [
      "INFO:root:-->event number =1\n"
     ]
    },
    {
     "name": "stderr",
     "output_type": "stream",
     "text": [
      "-->event number =1\n"
     ]
    },
    {
     "name": "stdout",
     "output_type": "stream",
     "text": [
      "INFO:root:-->event number =2\n"
     ]
    },
    {
     "name": "stderr",
     "output_type": "stream",
     "text": [
      "-->event number =2\n"
     ]
    },
    {
     "name": "stdout",
     "output_type": "stream",
     "text": [
      "INFO:root:-->event number =3\n"
     ]
    },
    {
     "name": "stderr",
     "output_type": "stream",
     "text": [
      "-->event number =3\n"
     ]
    },
    {
     "name": "stdout",
     "output_type": "stream",
     "text": [
      "INFO:root:-->event number =4\n"
     ]
    },
    {
     "name": "stderr",
     "output_type": "stream",
     "text": [
      "-->event number =4\n"
     ]
    },
    {
     "name": "stdout",
     "output_type": "stream",
     "text": [
      "INFO:root:-->event number =5\n"
     ]
    },
    {
     "name": "stderr",
     "output_type": "stream",
     "text": [
      "-->event number =5\n"
     ]
    },
    {
     "name": "stdout",
     "output_type": "stream",
     "text": [
      "INFO:root:-->event number =6\n"
     ]
    },
    {
     "name": "stderr",
     "output_type": "stream",
     "text": [
      "-->event number =6\n"
     ]
    },
    {
     "name": "stdout",
     "output_type": "stream",
     "text": [
      "INFO:root:-->event number =7\n"
     ]
    },
    {
     "name": "stderr",
     "output_type": "stream",
     "text": [
      "-->event number =7\n"
     ]
    },
    {
     "name": "stdout",
     "output_type": "stream",
     "text": [
      "INFO:root:-->event number =8\n"
     ]
    },
    {
     "name": "stderr",
     "output_type": "stream",
     "text": [
      "-->event number =8\n"
     ]
    },
    {
     "name": "stdout",
     "output_type": "stream",
     "text": [
      "INFO:root:-->event number =9\n"
     ]
    },
    {
     "name": "stderr",
     "output_type": "stream",
     "text": [
      "-->event number =9\n"
     ]
    },
    {
     "name": "stdout",
     "output_type": "stream",
     "text": [
      "DIOMIRA has run over 9 events in 35.4734499454 seconds\n",
      "Leaving Diomira. Safe travels!\n",
      "CPU times: user 30.7 s, sys: 4.81 s, total: 35.5 s\n",
      "Wall time: 37.2 s\n"
     ]
    }
   ],
   "source": [
    "%time %run ../../Cities/DIOMIRA.py -c ../../Config/DIOMIRA_NA_ZLIB_test.csv "
   ]
  },
  {
   "cell_type": "code",
   "execution_count": null,
   "metadata": {
    "collapsed": true
   },
   "outputs": [],
   "source": []
  },
  {
   "cell_type": "markdown",
   "metadata": {},
   "source": [
    "### Checking file"
   ]
  },
  {
   "cell_type": "code",
   "execution_count": null,
   "metadata": {
    "collapsed": false
   },
   "outputs": [],
   "source": [
    "%rm '/Users/jjgomezcadenas/Documents/Development/NEXT/data/Waveforms/25ns/Kr_ACTIVE_5bar_evt_10.h5'"
   ]
  },
  {
   "cell_type": "markdown",
   "metadata": {},
   "source": [
    "Abou 1 M per event, 2.7 seconds per event"
   ]
  },
  {
   "cell_type": "code",
   "execution_count": null,
   "metadata": {
    "collapsed": true
   },
   "outputs": [],
   "source": [
    "h5f =tables.open_file('/Users/jjgomezcadenas/Documents/Development/NEXT/data/Waveforms/25ns/Kr_ACTIVE_5bar_evt_1000.h5')"
   ]
  },
  {
   "cell_type": "code",
   "execution_count": null,
   "metadata": {
    "collapsed": true
   },
   "outputs": [],
   "source": [
    "pmtrwf = h5f.root.RD.pmtrwf"
   ]
  },
  {
   "cell_type": "code",
   "execution_count": null,
   "metadata": {
    "collapsed": false
   },
   "outputs": [],
   "source": [
    "h5f"
   ]
  },
  {
   "cell_type": "code",
   "execution_count": null,
   "metadata": {
    "collapsed": false
   },
   "outputs": [],
   "source": [
    "mpl.scan_waveforms(pmtrwf,list_of_events=[100,500,700,900])"
   ]
  },
  {
   "cell_type": "code",
   "execution_count": null,
   "metadata": {
    "collapsed": false
   },
   "outputs": [],
   "source": [
    "pmtr0 = pmtrwf[500,0]"
   ]
  },
  {
   "cell_type": "code",
   "execution_count": null,
   "metadata": {
    "collapsed": false
   },
   "outputs": [],
   "source": [
    "plt.plot(pmtr0)"
   ]
  },
  {
   "cell_type": "markdown",
   "metadata": {},
   "source": [
    "####  There is a problem with some of the waveforms.\n",
    "\n",
    "See http://localhost:8888/notebooks/Cities/DIOMIRA-NB-XenonPreprocStudy-10-01-16.ipynb for details"
   ]
  },
  {
   "cell_type": "markdown",
   "metadata": {},
   "source": [
    "## Running over \"old\" reference file (Na events)"
   ]
  },
  {
   "cell_type": "code",
   "execution_count": null,
   "metadata": {
    "collapsed": true
   },
   "outputs": [],
   "source": [
    "%less ../../Config/DIOMIRA_NA_ZLIB_test2.csv"
   ]
  },
  {
   "cell_type": "raw",
   "metadata": {},
   "source": [
    "# Configuration file for DIOMIRA\n",
    "# The parameters for DIOMIRA are:\n",
    "#\n",
    "#        PATH_IN = path to input DST file (must be a MCRD file)\n",
    "#        FILE_IN = name of input DST file\n",
    "#        PATH_OUT = path to output DST file (RWF file)\n",
    "#        FILE_OUT = name of ouput DST file (RWF file)\n",
    "#        FIRST_EVT,LAST_EVT,RUN_ALL,\n",
    "#\n",
    "#        RUN_ALL is used to decide whether to run all the events in the file\n",
    "#        in case that the total number of events requested (LAST_EVT-FIRST_EVT) \n",
    "#        exceeds the number of events in the DST file. If RUN_ALL is set to 1 (True), \n",
    "#        the script will run over all elements in the DST, \n",
    "#        otherwise it will exit with a warning.\n",
    "#        CLIB = compression library used: values can be 'ZLIB', 'BLOSC' or 'NONE'\n",
    "#        CLEVEL = compression level\n",
    "#\n",
    "PATH_IN,PATH_OUT,FILE_IN,FILE_OUT,FIRST_EVT,LAST_EVT,RUN_ALL,CLIB,CLEVEL, END \n",
    "/Users/jjgomezcadenas/Documents/Development/NEXT/data/Waveforms/WF-NA-ZLIB/,/Users/jjgomezcadenas/Documents/Development/NEXT/data/Waveforms/25ns/,WF_Na_1Kevts_comp1_chunk32k.h5,WF_Na_ZLIB_evt1000_RWF.h5,0,1000,1,zlib,1,1"
   ]
  },
  {
   "cell_type": "code",
   "execution_count": null,
   "metadata": {
    "collapsed": false
   },
   "outputs": [],
   "source": [
    "%time %run ../../Cities/DIOMIRA.py -c ../../Config/DIOMIRA_NA_ZLIB_test2.csv "
   ]
  },
  {
   "cell_type": "markdown",
   "metadata": {},
   "source": [
    "### 600 buffer vs 1200 mus buffer"
   ]
  },
  {
   "cell_type": "markdown",
   "metadata": {},
   "source": [
    "#### 600 buffer "
   ]
  },
  {
   "cell_type": "raw",
   "metadata": {},
   "source": [
    "Run over 999 events in 1483.39240885 seconds\n",
    "Leaving Diomira. Safe travels!\n",
    "CPU times: user 21min 17s, sys: 2min 36s, total: 23min 54s\n",
    "Wall time: 24min 44s"
   ]
  },
  {
   "cell_type": "markdown",
   "metadata": {},
   "source": [
    "#### 1200 mus buffer"
   ]
  },
  {
   "cell_type": "raw",
   "metadata": {},
   "source": [
    "Run over 999 events in 2683.65389395 seconds\n",
    "Leaving Diomira. Safe travels!\n",
    "CPU times: user 38min 51s, sys: 5min 32s, total: 44min 24s\n",
    "Wall time: 44min 44s"
   ]
  },
  {
   "cell_type": "markdown",
   "metadata": {},
   "source": [
    "### 900 mus expect halfways"
   ]
  },
  {
   "cell_type": "code",
   "execution_count": null,
   "metadata": {
    "collapsed": false
   },
   "outputs": [],
   "source": [
    "(1.5+2.7)/2."
   ]
  },
  {
   "cell_type": "code",
   "execution_count": null,
   "metadata": {
    "collapsed": true
   },
   "outputs": [],
   "source": []
  },
  {
   "cell_type": "markdown",
   "metadata": {},
   "source": [
    "#### Examine pstats file"
   ]
  },
  {
   "cell_type": "raw",
   "metadata": {
    "collapsed": false
   },
   "source": [
    "!python -m cProfile -o ../../Prof/diomira_py_29_9_16_2.stat ../../Cities/DIOMIRA.py -c ../../Config/DIOMIRA_NA_ZLIB_test2.csv"
   ]
  },
  {
   "cell_type": "raw",
   "metadata": {
    "collapsed": false
   },
   "source": [
    "import pstats\n",
    "p = pstats.Stats('../../Prof/diomira_py_29_9_16.stat')\n",
    "p.sort_stats('time').print_stats(10)"
   ]
  },
  {
   "cell_type": "markdown",
   "metadata": {},
   "source": [
    "*1.5 seconds per event*"
   ]
  },
  {
   "cell_type": "code",
   "execution_count": null,
   "metadata": {
    "collapsed": true
   },
   "outputs": [],
   "source": [
    "h5f.close()"
   ]
  },
  {
   "cell_type": "code",
   "execution_count": null,
   "metadata": {
    "collapsed": true
   },
   "outputs": [],
   "source": []
  }
 ],
 "metadata": {
  "kernelspec": {
   "display_name": "Python [Root]",
   "language": "python",
   "name": "Python [Root]"
  },
  "language_info": {
   "codemirror_mode": {
    "name": "ipython",
    "version": 2
   },
   "file_extension": ".py",
   "mimetype": "text/x-python",
   "name": "python",
   "nbconvert_exporter": "python",
   "pygments_lexer": "ipython2",
   "version": "2.7.12"
  }
 },
 "nbformat": 4,
 "nbformat_minor": 0
}
