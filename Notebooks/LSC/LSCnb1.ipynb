{
 "cells": [
  {
   "cell_type": "markdown",
   "metadata": {},
   "source": [
    "# LSC Notebook"
   ]
  },
  {
   "cell_type": "markdown",
   "metadata": {},
   "source": [
    "## LSC studies"
   ]
  },
  {
   "cell_type": "code",
   "execution_count": 87,
   "metadata": {
    "collapsed": true
   },
   "outputs": [],
   "source": [
    "import time"
   ]
  },
  {
   "cell_type": "code",
   "execution_count": 1,
   "metadata": {
    "collapsed": true
   },
   "outputs": [],
   "source": [
    "from __future__ import print_function"
   ]
  },
  {
   "cell_type": "code",
   "execution_count": 2,
   "metadata": {
    "collapsed": true
   },
   "outputs": [],
   "source": [
    "%matplotlib inline"
   ]
  },
  {
   "cell_type": "code",
   "execution_count": 3,
   "metadata": {
    "collapsed": true
   },
   "outputs": [],
   "source": [
    "%load_ext autoreload"
   ]
  },
  {
   "cell_type": "code",
   "execution_count": 4,
   "metadata": {
    "collapsed": true
   },
   "outputs": [],
   "source": [
    "%autoreload 2"
   ]
  },
  {
   "cell_type": "code",
   "execution_count": 5,
   "metadata": {
    "collapsed": true
   },
   "outputs": [],
   "source": [
    "import matplotlib.pyplot as plt\n",
    "import pandas as pd\n",
    "import tables as tb\n",
    "import numpy as np\n",
    "import MPLibFunctions as mpl\n",
    "import PDFunctions as pdf\n",
    "from Util import *\n",
    "import FEParam as FP\n",
    "from scipy import signal as SGN"
   ]
  },
  {
   "cell_type": "code",
   "execution_count": 32,
   "metadata": {
    "collapsed": true
   },
   "outputs": [],
   "source": [
    "import logging\n",
    "import sys\n",
    "logger = logging.getLogger()\n",
    "logger.handlers[0].stream = sys.stdout\n",
    "logger.setLevel(logging.DEBUG)"
   ]
  },
  {
   "cell_type": "code",
   "execution_count": 88,
   "metadata": {
    "collapsed": false
   },
   "outputs": [
    {
     "name": "stdout",
     "output_type": "stream",
     "text": [
      "22/09/2016\n",
      "17:28:55\n"
     ]
    }
   ],
   "source": [
    "print(time.strftime(\"%d/%m/%Y\"))\n",
    "print(time.strftime(\"%H:%M:%S\"))"
   ]
  },
  {
   "cell_type": "markdown",
   "metadata": {},
   "source": [
    "### First study of pulses at the LSC with hdf5"
   ]
  },
  {
   "cell_type": "markdown",
   "metadata": {},
   "source": [
    "1. hdf5 files generated with current version of writer still show problems\n",
    "2. generated pulses are too short. "
   ]
  },
  {
   "cell_type": "code",
   "execution_count": 6,
   "metadata": {
    "collapsed": false
   },
   "outputs": [
    {
     "name": "stdout",
     "output_type": "stream",
     "text": [
      "\u001b[0m\u001b[38;5;34mpulseVar_r2033.h5\u001b[0m*  \u001b[38;5;34mpulseVar_r2058.h5\u001b[0m*\r\n",
      "\u001b[m"
     ]
    }
   ],
   "source": [
    "%ls ../../../data/LSC/"
   ]
  },
  {
   "cell_type": "code",
   "execution_count": 7,
   "metadata": {
    "collapsed": false
   },
   "outputs": [],
   "source": [
    "h5f =tb.open_file('../../../data/LSC/pulseVar_r2058.h5')"
   ]
  },
  {
   "cell_type": "code",
   "execution_count": 8,
   "metadata": {
    "collapsed": false
   },
   "outputs": [
    {
     "data": {
      "text/plain": [
       "File(filename=../../../data/LSC/pulseVar_r2058.h5, title='', mode='r', root_uep='/', filters=Filters(complevel=0, shuffle=False, fletcher32=False, least_significant_digit=None))\n",
       "/ (RootGroup) ''\n",
       "/pmtrd (EArray(2, 6, 48000), zlib(1)) ''\n",
       "  atom := Float32Atom(shape=(), dflt=0.0)\n",
       "  maindim := 0\n",
       "  flavor := 'numpy'\n",
       "  byteorder := 'little'\n",
       "  chunkshape := (1, 1, 32768)\n",
       "/sipmrd (EArray(2, 1215, 1200), zlib(1)) ''\n",
       "  atom := Float32Atom(shape=(), dflt=0.0)\n",
       "  maindim := 0\n",
       "  flavor := 'numpy'\n",
       "  byteorder := 'little'\n",
       "  chunkshape := (1, 50, 1200)\n",
       "/Detector (Group) ''\n",
       "/Detector/DetectorGeometry (Table(1,)) ''\n",
       "  description := {\n",
       "  \"x_det\": Float32Col(shape=(2,), dflt=0.0, pos=0),\n",
       "  \"y_det\": Float32Col(shape=(2,), dflt=0.0, pos=1),\n",
       "  \"z_det\": Float32Col(shape=(2,), dflt=0.0, pos=2),\n",
       "  \"r_det\": Float32Col(shape=(), dflt=0.0, pos=3)}\n",
       "  byteorder := 'little'\n",
       "  chunkshape := (2340,)\n",
       "/Sensors (Group) ''\n",
       "/Sensors/DataPMT (Table(6,)) ''\n",
       "  description := {\n",
       "  \"channel\": Int32Col(shape=(), dflt=0, pos=0),\n",
       "  \"active\": Int32Col(shape=(), dflt=0, pos=1),\n",
       "  \"position\": Float32Col(shape=(3,), dflt=0.0, pos=2),\n",
       "  \"gain\": Float32Col(shape=(), dflt=0.0, pos=3),\n",
       "  \"adc_to_pes\": Float32Col(shape=(), dflt=0.0, pos=4)}\n",
       "  byteorder := 'little'\n",
       "  chunkshape := (2340,)\n",
       "/Sensors/DataSiPM (Table(1789,)) ''\n",
       "  description := {\n",
       "  \"channel\": Int32Col(shape=(), dflt=0, pos=0),\n",
       "  \"active\": Int32Col(shape=(), dflt=0, pos=1),\n",
       "  \"position\": Float32Col(shape=(3,), dflt=0.0, pos=2),\n",
       "  \"gain\": Float32Col(shape=(), dflt=0.0, pos=3),\n",
       "  \"adc_to_pes\": Float32Col(shape=(), dflt=0.0, pos=4)}\n",
       "  byteorder := 'little'\n",
       "  chunkshape := (2340,)"
      ]
     },
     "execution_count": 8,
     "metadata": {},
     "output_type": "execute_result"
    }
   ],
   "source": [
    "h5f"
   ]
  },
  {
   "cell_type": "code",
   "execution_count": 9,
   "metadata": {
    "collapsed": true
   },
   "outputs": [],
   "source": [
    "pmtrwf = h5f.root.pmtrd"
   ]
  },
  {
   "cell_type": "code",
   "execution_count": 10,
   "metadata": {
    "collapsed": false
   },
   "outputs": [
    {
     "data": {
      "text/plain": [
       "[<matplotlib.lines.Line2D at 0x7ff0fdb57750>]"
      ]
     },
     "execution_count": 10,
     "metadata": {},
     "output_type": "execute_result"
    },
    {
     "data": {
      "image/png": "[encoded data removed]",
      "text/plain": [
       "<matplotlib.figure.Figure at 0x7ff114409ed0>"
      ]
     },
     "metadata": {},
     "output_type": "display_data"
    }
   ],
   "source": [
    "plt.plot(pmtrwf[0,0])"
   ]
  },
  {
   "cell_type": "markdown",
   "metadata": {},
   "source": [
    "#### Issues"
   ]
  },
  {
   "cell_type": "markdown",
   "metadata": {},
   "source": [
    "1. Scale is wrong\n",
    "2. Only 6 PMTs written\n",
    "3. PMTRD field is not correct. Must be PMTRWF (in folder RD)"
   ]
  },
  {
   "cell_type": "code",
   "execution_count": null,
   "metadata": {
    "collapsed": true
   },
   "outputs": [],
   "source": []
  },
  {
   "cell_type": "code",
   "execution_count": 15,
   "metadata": {
    "collapsed": false
   },
   "outputs": [
    {
     "data": {
      "text/plain": [
       "[<matplotlib.lines.Line2D at 0x7ff0fd86c190>]"
      ]
     },
     "execution_count": 15,
     "metadata": {},
     "output_type": "execute_result"
    },
    {
     "data": {
      "image/png": "[encoded data removed]",
      "text/plain": [
       "<matplotlib.figure.Figure at 0x7ff0fd9578d0>"
      ]
     },
     "metadata": {},
     "output_type": "display_data"
    }
   ],
   "source": [
    "ax1 = plt.subplot(1,1,1)\n",
    "ax1.set_xlim([100, 400])\n",
    "plt.plot(pmtrwf[0,0])"
   ]
  },
  {
   "cell_type": "code",
   "execution_count": 38,
   "metadata": {
    "collapsed": true
   },
   "outputs": [],
   "source": [
    "pmt0 = pmtrwf[0,0]*1e+44*(-1)"
   ]
  },
  {
   "cell_type": "code",
   "execution_count": 39,
   "metadata": {
    "collapsed": false
   },
   "outputs": [
    {
     "data": {
      "text/plain": [
       "[<matplotlib.lines.Line2D at 0x7ff0fcf2e5d0>]"
      ]
     },
     "execution_count": 39,
     "metadata": {},
     "output_type": "execute_result"
    },
    {
     "data": {
      "image/png": "[encoded data removed]",
      "text/plain": [
       "<matplotlib.figure.Figure at 0x7ff0fd02b110>"
      ]
     },
     "metadata": {},
     "output_type": "display_data"
    }
   ],
   "source": [
    "ax1 = plt.subplot(1,1,1)\n",
    "ax1.set_xlim([0, 3000])\n",
    "plt.plot(pmt0)"
   ]
  },
  {
   "cell_type": "code",
   "execution_count": 40,
   "metadata": {
    "collapsed": true
   },
   "outputs": [],
   "source": [
    "signal_daq = pmt0[0:2000]"
   ]
  },
  {
   "cell_type": "code",
   "execution_count": 42,
   "metadata": {
    "collapsed": false
   },
   "outputs": [
    {
     "data": {
      "text/plain": [
       "[<matplotlib.lines.Line2D at 0x7ff0fd308190>]"
      ]
     },
     "execution_count": 42,
     "metadata": {},
     "output_type": "execute_result"
    },
    {
     "data": {
      "image/png": "[encoded data removed]",
      "text/plain": [
       "<matplotlib.figure.Figure at 0x7ff0fce9c390>"
      ]
     },
     "metadata": {},
     "output_type": "display_data"
    }
   ],
   "source": [
    "ax1 = plt.subplot(1,1,1)\n",
    "ax1.set_xlim([0, 400])\n",
    "plt.plot(signal_daq)"
   ]
  },
  {
   "cell_type": "markdown",
   "metadata": {},
   "source": [
    "###  Deconv function"
   ]
  },
  {
   "cell_type": "code",
   "execution_count": 31,
   "metadata": {
    "collapsed": true
   },
   "outputs": [],
   "source": [
    "class SBLR:\n",
    "    \"\"\"\n",
    "    Signals BLR: a simple class to hold of the signals relevant for BLR\n",
    "    \"\"\"\n",
    "    def __init__(self, len_signal_daq):\n",
    "        \"\"\"\n",
    "        len_signal_daq: length of the signal to deconvolute\n",
    "        \n",
    "        \n",
    "        \"\"\"\n",
    "        \n",
    "        self.MAU = np.zeros(len_signal_daq, dtype=np.double)\n",
    "        self.acum = np.zeros(len_signal_daq, dtype=np.double)\n",
    "        self.signal_r = np.zeros(len_signal_daq, dtype=np.double)\n",
    "        self.pulse_on = np.zeros(len_signal_daq, dtype=np.double)\n",
    "        self.wait_over = np.zeros(len_signal_daq, dtype=np.double)\n",
    "        self.offset = np.zeros(len_signal_daq, dtype=np.double)\n",
    "        self.BASELINE = 0\n",
    "        \n",
    "\n",
    "def BLR(signal_daq, coef, mau_len=250, thr1 = 3*FP.NOISE_ADC, thr2 = FP.NOISE_ADC, \n",
    "        thr3 = FP.NOISE_ADC, log='INFO'):\n",
    "\n",
    "    \"\"\"\n",
    "    Deconvolution offline of the DAQ signal using a MAU\n",
    "    moving window-average filter of a vector data. See notebook \n",
    "    y(n) = (1/WindowSize)(x(n) + x(n-1) + ... + x(n-windowSize))\n",
    "    in a filter operation filter(b,a,x):\n",
    "    b = (1/WindowSize)*ones(WindowSize) = (1/WS)*[1,1,1,...]: numerator\n",
    "    a = 1 : denominator\n",
    "    y = filter(b,a,x)\n",
    "    y[0] = b[0]*x[0] = (1/WS) * x[0]\n",
    "    y[1] = (1/WS) * (x[0] + x[1])\n",
    "    y[WS-1] = mean(x[0:WS])\n",
    "    y[WS] = mean(x[1:WS+1])\n",
    "    and so on\n",
    "    \"\"\"\n",
    "    \n",
    "    lg = 'logging.'+log\n",
    "    logger.setLevel(eval(lg))\n",
    "    len_signal_daq = len(signal_daq)\n",
    "    sblr = SBLR(len_signal_daq)\n",
    "\n",
    "    signal_i = np.copy(signal_daq) #uses to update MAU while procesing signal\n",
    "    nm = mau_len\n",
    "    B_MAU = (1./nm)*np.ones(nm)\n",
    "\n",
    "#   MAU averages the signal in the initial tranch \n",
    "#    allows to compute the baseline of the signal  \n",
    "    \n",
    "    sblr.MAU[0:nm] = SGN.lfilter(B_MAU,1, signal_daq[0:nm])\n",
    "    sblr.acum[nm] =  sblr.MAU[nm]\n",
    "    sblr.BASELINE = sblr.MAU[nm-1]\n",
    "\n",
    "    logging.debug(\"\"\"-->BLR: \n",
    "                     MAU_LEN={}\n",
    "                     thr1 = {}, thr2 = {}, thr3 = {} =\"\"\".format(\n",
    "                     mau_len, thr1, thr2, thr3))\n",
    "    logging.debug(\"n = {}, acum[n] = {} BASELINE ={}\".format(nm, sblr.acum[nm],sblr.BASELINE))\n",
    "\n",
    "#----------\n",
    "\n",
    "# While MAU inits BLR is switched off, thus signal_r = signal_daq \n",
    "\n",
    "    sblr.signal_r[0:nm] = signal_daq[0:nm] \n",
    "    pulse_on=0\n",
    "    wait_over=0\n",
    "    offset = 0\n",
    "    \n",
    "    # MAU has computed the offset using nm samples\n",
    "    # now loop until the end of DAQ window\n",
    "\n",
    "    logging.debug(\"nm = {}\".format(nm))\n",
    "    \n",
    "    for k in range(nm,len_signal_daq): \n",
    "\n",
    "        trigger_line = sblr.MAU[k-1] + thr1\n",
    "        sblr.pulse_on[k] = pulse_on\n",
    "        sblr.wait_over[k] = wait_over \n",
    "        sblr.offset[k] = offset\n",
    "        \n",
    "        # condition: raw signal raises above trigger line and \n",
    "        # we are not in the tail\n",
    "        # (wait_over == 0)\n",
    "        if signal_daq[k] > trigger_line and wait_over == 0:\n",
    "\n",
    "            # if the pulse just started pulse_on = 0.\n",
    "            # In this case compute the offset as value \n",
    "            #of the MAU before pulse starts (at k-1)\n",
    "\n",
    "            if pulse_on == 0: # pulse just started\n",
    "                #offset computed as the value of MAU before pulse starts\n",
    "                offset = sblr.MAU[k-1]  \n",
    "                pulse_on = 1 \n",
    "                \n",
    "            #Pulse is on: Freeze the MAU\n",
    "            sblr.MAU[k] = sblr.MAU[k-1]  \n",
    "            signal_i[k] = sblr.MAU[k-1]  #signal_i follows the MAU\n",
    "            \n",
    "            #update recovered signal, correcting by offset\n",
    "            sblr.acum[k] = sblr.acum[k-1] + signal_daq[k] - offset;\n",
    "            sblr.signal_r[k] = signal_daq[k] + coef*sblr.acum[k] \n",
    "                  \n",
    "            \n",
    "        else:  #no signal or raw signal has dropped below threshold\n",
    "                      \n",
    "        # but raw signal can be negative for a while and still contribute to the\n",
    "        # reconstructed signal.\n",
    "\n",
    "            if pulse_on == 1: #reconstructed signal still on\n",
    "                # switch the pulse off only when recovered signal \n",
    "                #drops below threshold\n",
    "                #slide the MAU, still frozen. \n",
    "                # keep recovering signal\n",
    "                \n",
    "                sblr.MAU[k] = sblr.MAU[k-1] \n",
    "                signal_i[k] = sblr.MAU[k-1]\n",
    "                sblr.acum[k] = sblr.acum[k-1] + signal_daq[k] - offset;\n",
    "                sblr.signal_r[k] = signal_daq[k] + coef*sblr.acum[k] \n",
    "                \n",
    "                #if the recovered signal drops before trigger line \n",
    "                #rec pulse is over!\n",
    "                if sblr.signal_r[k] < trigger_line + thr2:\n",
    "                    wait_over = 1  #start tail compensation\n",
    "                    pulse_on = 0   #recovered pulse is over\n",
    "                      \n",
    "\n",
    "            else:  #recovered signal has droped below trigger line\n",
    "            #need to compensate the tail to avoid drifting due to erros in \n",
    "            #baseline calculatoin\n",
    "\n",
    "                if wait_over == 1: #compensating pulse\n",
    "                    # recovered signal and raw signal \n",
    "                    #must be equal within a threshold\n",
    "                    # otherwise keep compensating pluse\n",
    "                        \n",
    "                    if signal_daq[k-1] < sblr.signal_r[k-1] - thr3:\n",
    "                        # raw signal still below recovered signal \n",
    "                        # keep compensating pulse\n",
    "                        # is the recovered signal near offset?\n",
    "                        upper = offset + (thr3 + thr2)\n",
    "                        lower = offset - (thr3 + thr2)\n",
    "                        \n",
    "                        if sblr.signal_r[k-1] > lower and sblr.signal_r[k-1] < upper:\n",
    "                            # we are near offset, activate MAU. \n",
    "                            \n",
    "                            signal_i[k] = sblr.signal_r[k-1]\n",
    "                            sblr.MAU[k] = np.sum(signal_i[k-nm:k])*1./nm\n",
    "                                      \n",
    "                        else: \n",
    "                            # rec signal not near offset MAU frozen  \n",
    "                            sblr.MAU[k] = sblr.MAU[k-1]\n",
    "                            signal_i[k] = sblr.MAU[k-1]\n",
    "                            \n",
    "                        # keep adding recovered signal  \n",
    "                        sblr.acum[k] = sblr.acum[k-1] + signal_daq[k] - sblr.MAU[k]\n",
    "                        sblr.signal_r[k] = signal_daq[k] + coef*sblr.acum[k]\n",
    "                        \n",
    "                    else:  # raw signal above recovered signal: we are done \n",
    "                        \n",
    "                        wait_over = 0\n",
    "                        sblr.acum[k] = sblr.MAU[k-1]\n",
    "                        sblr.signal_r[k] = signal_daq[k]\n",
    "                        signal_i[k] = sblr.signal_r[k]\n",
    "                        sblr.MAU[k] = np.sum(signal_i[k-nm:k])*1./nm\n",
    "                        \n",
    "                            \n",
    "                else: #signal still not found\n",
    "                    \n",
    "                    #update MAU and signals\n",
    "                    sblr.MAU[k] = np.sum(signal_i[k-nm:k]*1.)/nm   \n",
    "                    sblr.acum[k] = sblr.MAU[k-1]\n",
    "                    sblr.signal_r[k] = signal_daq[k]\n",
    "                    signal_i[k] = sblr.signal_r[k]  \n",
    "                                                                                                       \n",
    "    #energy = np.dot(pulse_f,(signal_r-BASELINE)) \n",
    "    \n",
    "    logging.debug(\"sblr.signal_r[0:10]= {}\".format(sblr.signal_r[0:10]))\n",
    "    logging.debug(\"BASELINE ={}\".format(sblr.BASELINE))\n",
    "                       \n",
    "    sblr.signal_r = sblr.signal_r - sblr.BASELINE\n",
    "    \n",
    "    logging.debug(\"sblr.signal_r[0:10] - BASELINE= {}\".format(sblr.signal_r[0:10]))\n",
    "   \n",
    "    return  sblr\n",
    "\n",
    "def accumulator_coefficients(pmtrd,CA):\n",
    "    \"\"\"\n",
    "    Compute the accumulator coefficients for DBLR\n",
    "    It computes the inverse function of the HPF and takes\n",
    "    the accumulator as the value of the function anywhere\n",
    "    but the first bin (the inverse is a step function with\n",
    "    constant value equal to the accumulator)\n",
    "    CA are the values of the capacitances defining the filter\n",
    "    (1/(2CR)) for each PMT\n",
    "    \"\"\"\n",
    "    len_WF = pmtrd.shape[2]\n",
    "    NPMT = pmtrd.shape[1]\n",
    "    \n",
    "    coef_acc =np.zeros(NPMT, dtype=np.double)\n",
    "\n",
    "    signal_t = np.arange(0.0, len_WF*1., 1., dtype=np.double)\n",
    "\n",
    "    for j in range(NPMT):\n",
    "        \n",
    "        fee = FE.FEE(C=CA[j],R= FP.R, f=FP.freq_LPF, RG=FP.V_GAIN)\n",
    "        signal_inv_daq = fee.InverseSignalDAQ(signal_t)  #inverse function\n",
    "        coef_acc[j] = signal_inv_daq[10] #any index is valid, function is flat\n",
    "        \n",
    "    return coef_acc\n",
    "\n",
    "def DBLR(pmtrd, event_number, coeff_acc, mau_len=250,\n",
    "         thr1 = FP.NOISE_ADC, thr2=FP.NOISE_ADC, thr3 = FP.NOISE_ADC, log='INFO'):\n",
    "    \"\"\"\n",
    "    Peform Base line Restoration\n",
    "    coeff_acc is an array with the coefficients of the accumulator\n",
    "    Threshold 1 is used to decide when raw signal raises up above trigger line\n",
    "    Threshold 2 is used to decide when reconstructed signal is above trigger line\n",
    "    Threshold 3 is used to compare Raw and Rec signal\n",
    "    \"\"\"\n",
    "    \n",
    "    len_WF = pmtrd.shape[2]\n",
    "    NPMT = pmtrd.shape[1]\n",
    "    \n",
    "    BLRS =[]\n",
    "    for j in range(NPMT):\n",
    "        sblr = BLR(pmtrd[event_number, j], coeff_acc[j], mau_len, thr1, thr2, thr3, log)\n",
    "        BLRS.append(sblr)\n",
    "       \n",
    "    return BLRS\n",
    "\n"
   ]
  },
  {
   "cell_type": "code",
   "execution_count": 33,
   "metadata": {
    "collapsed": true
   },
   "outputs": [],
   "source": [
    "acc = 0.0016414818563650"
   ]
  },
  {
   "cell_type": "code",
   "execution_count": 43,
   "metadata": {
    "collapsed": false
   },
   "outputs": [
    {
     "name": "stdout",
     "output_type": "stream",
     "text": [
      "DEBUG:root:-->BLR: \n",
      "                     MAU_LEN=200\n",
      "                     thr1 = 3.0, thr2 = 0.0, thr3 = 1.0 =\n",
      "DEBUG:root:n = 200, acum[n] = 0.0 BASELINE =-356.236694302\n",
      "DEBUG:root:nm = 200\n",
      "DEBUG:root:sblr.signal_r[0:10]= [-356.77058902 -356.77058902 -356.91071886 -357.05084871 -356.63045917\n",
      " -356.63045917 -356.77058902 -356.63045917 -356.63045917 -356.63045917]\n",
      "DEBUG:root:BASELINE =-356.236694302\n",
      "DEBUG:root:sblr.signal_r[0:10] - BASELINE= [-0.53389471 -0.53389471 -0.67402456 -0.81415441 -0.39376487 -0.39376487\n",
      " -0.53389471 -0.39376487 -0.39376487 -0.39376487]\n"
     ]
    }
   ],
   "source": [
    "sblr = BLR(signal_daq, acc, 200, 3., 0., 1., 'DEBUG')"
   ]
  },
  {
   "cell_type": "code",
   "execution_count": 44,
   "metadata": {
    "collapsed": false
   },
   "outputs": [
    {
     "data": {
      "text/plain": [
       "[<matplotlib.lines.Line2D at 0x7ff0fcda0750>]"
      ]
     },
     "execution_count": 44,
     "metadata": {},
     "output_type": "execute_result"
    },
    {
     "data": {
      "image/png": "[encoded data removed]",
      "text/plain": [
       "<matplotlib.figure.Figure at 0x7ff0fce74290>"
      ]
     },
     "metadata": {},
     "output_type": "display_data"
    }
   ],
   "source": [
    "ax1 = plt.subplot(1,1,1)\n",
    "ax1.set_xlim([0, 400])\n",
    "plt.plot(sblr.signal_r)"
   ]
  },
  {
   "cell_type": "code",
   "execution_count": 71,
   "metadata": {
    "collapsed": false
   },
   "outputs": [
    {
     "data": {
      "text/plain": [
       "[<matplotlib.lines.Line2D at 0x7ff0fc99d610>]"
      ]
     },
     "execution_count": 71,
     "metadata": {},
     "output_type": "execute_result"
    },
    {
     "data": {
      "image/png": "[encoded data removed]",
      "text/plain": [
       "<matplotlib.figure.Figure at 0x7ff0fcb2e090>"
      ]
     },
     "metadata": {},
     "output_type": "display_data"
    }
   ],
   "source": [
    "ax1 = plt.subplot(1,1,1)\n",
    "ax1.set_xlim([200, 300])\n",
    "plt.plot(sblr.pulse_on)"
   ]
  },
  {
   "cell_type": "code",
   "execution_count": 47,
   "metadata": {
    "collapsed": false
   },
   "outputs": [
    {
     "data": {
      "text/plain": [
       "[<matplotlib.lines.Line2D at 0x7ff0fcc16490>]"
      ]
     },
     "execution_count": 47,
     "metadata": {},
     "output_type": "execute_result"
    },
    {
     "data": {
      "image/png": "[encoded data removed]",
      "text/plain": [
       "<matplotlib.figure.Figure at 0x7ff0fcc65250>"
      ]
     },
     "metadata": {},
     "output_type": "display_data"
    }
   ],
   "source": [
    "ax1 = plt.subplot(1,1,1)\n",
    "ax1.set_xlim([0, 400])\n",
    "plt.plot(sblr.wait_over)"
   ]
  },
  {
   "cell_type": "code",
   "execution_count": 48,
   "metadata": {
    "collapsed": false
   },
   "outputs": [
    {
     "data": {
      "text/plain": [
       "[<matplotlib.lines.Line2D at 0x7ff0fcada210>]"
      ]
     },
     "execution_count": 48,
     "metadata": {},
     "output_type": "execute_result"
    },
    {
     "data": {
      "image/png": "[encoded data removed]",
      "text/plain": [
       "<matplotlib.figure.Figure at 0x7ff0fcb248d0>"
      ]
     },
     "metadata": {},
     "output_type": "display_data"
    }
   ],
   "source": [
    "ax1 = plt.subplot(1,1,1)\n",
    "ax1.set_xlim([0, 400])\n",
    "plt.plot(sblr.acum)"
   ]
  },
  {
   "cell_type": "markdown",
   "metadata": {},
   "source": [
    "Signal is too narrow and can't be deconvoluted."
   ]
  },
  {
   "cell_type": "code",
   "execution_count": 61,
   "metadata": {
    "collapsed": true
   },
   "outputs": [],
   "source": [
    "def wf_thr(wf,threshold=1):\n",
    "    \"\"\"\n",
    "    return a zero supressed waveform (more generally, the vaules of wf above threshold)\n",
    "    \"\"\"\n",
    "    return wf.loc[lambda df: df.values >threshold]"
   ]
  },
  {
   "cell_type": "code",
   "execution_count": 79,
   "metadata": {
    "collapsed": false
   },
   "outputs": [
    {
     "data": {
      "text/plain": [
       "numpy.ndarray"
      ]
     },
     "execution_count": 79,
     "metadata": {},
     "output_type": "execute_result"
    }
   ],
   "source": [
    "type(sblr.pulse_on)"
   ]
  },
  {
   "cell_type": "code",
   "execution_count": 80,
   "metadata": {
    "collapsed": true
   },
   "outputs": [],
   "source": [
    "pon = sblr.pulse_on[0:400]"
   ]
  },
  {
   "cell_type": "code",
   "execution_count": 81,
   "metadata": {
    "collapsed": true
   },
   "outputs": [],
   "source": [
    "spon = pd.Series(pon)"
   ]
  },
  {
   "cell_type": "code",
   "execution_count": 84,
   "metadata": {
    "collapsed": false
   },
   "outputs": [],
   "source": [
    "pulse_on = wf_thr(pd.Series(sblr.pulse_on[0:400]),threshold=0.5)"
   ]
  },
  {
   "cell_type": "code",
   "execution_count": 86,
   "metadata": {
    "collapsed": false
   },
   "outputs": [
    {
     "data": {
      "text/plain": [
       "0.7"
      ]
     },
     "execution_count": 86,
     "metadata": {},
     "output_type": "execute_result"
    }
   ],
   "source": [
    "len(pulse_on)*25./1000."
   ]
  },
  {
   "cell_type": "markdown",
   "metadata": {},
   "source": [
    "#### Issues"
   ]
  },
  {
   "cell_type": "markdown",
   "metadata": {},
   "source": [
    "1. Pulse is too short. Deconvolution does not work properly in very short pulses. "
   ]
  },
  {
   "cell_type": "markdown",
   "metadata": {},
   "source": [
    "### Actions"
   ]
  },
  {
   "cell_type": "markdown",
   "metadata": {},
   "source": [
    "1. JMB and PN to fix writer. Three issues: a) field (pmtrwf no pmtrd), b) number of PMTs, c) waveform scale.\n",
    "\n",
    "2. AL to try and generate wider pulses.\n",
    "\n",
    "3. VH to review this notebook and confirm agrees with analysis (pulses too short)."
   ]
  },
  {
   "cell_type": "code",
   "execution_count": null,
   "metadata": {
    "collapsed": true
   },
   "outputs": [],
   "source": []
  }
 ],
 "metadata": {
  "kernelspec": {
   "display_name": "Python [Root]",
   "language": "python",
   "name": "Python [Root]"
  },
  "language_info": {
   "codemirror_mode": {
    "name": "ipython",
    "version": 2
   },
   "file_extension": ".py",
   "mimetype": "text/x-python",
   "name": "python",
   "nbconvert_exporter": "python",
   "pygments_lexer": "ipython2",
   "version": "2.7.12"
  }
 },
 "nbformat": 4,
 "nbformat_minor": 0
}
