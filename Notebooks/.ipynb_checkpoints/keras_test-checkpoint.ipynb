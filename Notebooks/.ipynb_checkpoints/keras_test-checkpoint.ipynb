{
 "cells": [
  {
   "cell_type": "code",
   "execution_count": 1,
   "metadata": {
    "collapsed": true
   },
   "outputs": [],
   "source": [
    "dataFile = open('data.txt', 'r')\n",
    "\n",
    "x = []\n",
    "y = []\n",
    "sipm = []\n",
    "\n",
    "for line in dataFile:\n",
    "    data = line.split(',')\n",
    "    x.append(data[0])\n",
    "    y.append(data[1])\n",
    "    sipm.append(data[2:])\n"
   ]
  },
  {
   "cell_type": "code",
   "execution_count": 2,
   "metadata": {
    "collapsed": true
   },
   "outputs": [],
   "source": [
    "import numpy as np\n",
    "x = np.array(x).astype('float32') / 80\n",
    "y = np.array(y).astype('float32') / 80\n",
    "\n",
    "sipm = np.array(sipm).astype('float32') #Normalize\n",
    "\n",
    "x_train = x[0:40000]\n",
    "y_train = y[0:40000]\n",
    "x_test = x[40000:50000]\n",
    "y_test = y[40000:50000]\n",
    "\n",
    "sipm_train = sipm[0:40000]\n",
    "sipm_test = sipm[40000:50000]"
   ]
  },
  {
   "cell_type": "code",
   "execution_count": 3,
   "metadata": {
    "collapsed": true
   },
   "outputs": [],
   "source": [
    "traintensor = sipm_train.reshape(40000, 1, 8, 8)\n",
    "testtensor = sipm_test.reshape(10000, 1, 8, 8)"
   ]
  },
  {
   "cell_type": "code",
   "execution_count": 4,
   "metadata": {
    "collapsed": false
   },
   "outputs": [
    {
     "name": "stderr",
     "output_type": "stream",
     "text": [
      "Using Theano backend.\n"
     ]
    },
    {
     "name": "stdout",
     "output_type": "stream",
     "text": [
      "Epoch 1/20\n",
      "5s - loss: 0.0026\n",
      "Epoch 2/20\n",
      "4s - loss: 4.2226e-04\n",
      "Epoch 3/20\n",
      "5s - loss: 2.5106e-04\n",
      "Epoch 4/20\n",
      "4s - loss: 1.7603e-04\n",
      "Epoch 5/20\n",
      "5s - loss: 1.4241e-04\n",
      "Epoch 6/20\n",
      "5s - loss: 1.2217e-04\n",
      "Epoch 7/20\n",
      "5s - loss: 1.1125e-04\n",
      "Epoch 8/20\n",
      "6s - loss: 9.9352e-05\n",
      "Epoch 9/20\n",
      "5s - loss: 9.1153e-05\n",
      "Epoch 10/20\n",
      "6s - loss: 8.4295e-05\n",
      "Epoch 11/20\n",
      "5s - loss: 7.9158e-05\n",
      "Epoch 12/20\n",
      "5s - loss: 7.3898e-05\n",
      "Epoch 13/20\n",
      "4s - loss: 7.0692e-05\n",
      "Epoch 14/20\n",
      "4s - loss: 6.6944e-05\n",
      "Epoch 15/20\n",
      "4s - loss: 6.4395e-05\n",
      "Epoch 16/20\n",
      "5s - loss: 6.1547e-05\n",
      "Epoch 17/20\n",
      "5s - loss: 5.9696e-05\n",
      "Epoch 18/20\n",
      "4s - loss: 5.8410e-05\n",
      "Epoch 19/20\n",
      "5s - loss: 5.6684e-05\n",
      "Epoch 20/20\n",
      "6s - loss: 5.4397e-05\n"
     ]
    },
    {
     "data": {
      "text/plain": [
       "<keras.callbacks.History at 0x7f3a176e2940>"
      ]
     },
     "execution_count": 4,
     "metadata": {},
     "output_type": "execute_result"
    }
   ],
   "source": [
    "from keras.models import Sequential\n",
    "from keras.layers.core import Flatten\n",
    "from keras.layers.convolutional import Convolution2D, MaxPooling2D\n",
    "from keras.layers.core import Activation\n",
    "from keras.layers.core import Dropout\n",
    "from keras.layers.core import Dense\n",
    "\n",
    "img_rows = 8\n",
    "img_cols = 8\n",
    "kernel_size = 3 # Size of the kernel for the convolution layers\n",
    "pool_size = 2 # Size of the pooling region for the pooling layers\n",
    "\n",
    "model = Sequential()\n",
    "\n",
    "model.add(Convolution2D(32, # Number convolution channels to generate\n",
    "                        kernel_size, kernel_size,\n",
    "                        border_mode='valid',\n",
    "                        input_shape=(1, img_rows, img_cols)))\n",
    "model.add(Activation('relu'))\n",
    "\n",
    "model.add(Convolution2D(32, # Number convolution channels to generate\n",
    "                        kernel_size, kernel_size,\n",
    "                        border_mode='valid',\n",
    "                        input_shape=(32, img_rows, img_cols)))\n",
    "model.add(Activation('relu'))\n",
    "                                     \n",
    "model.add(MaxPooling2D(pool_size=(pool_size, pool_size)))\n",
    "#model.add(Dropout(0.25))\n",
    "model.add(Flatten())\n",
    "\n",
    "model.add(Dense(128))\n",
    "model.add(Activation('relu'))\n",
    "#model.add(Dropout(0.5))               \n",
    "model.add(Dense(1))\n",
    "model.add(Activation('sigmoid'))\n",
    "\n",
    "model.compile(loss='mean_squared_error', optimizer='rmsprop')\n",
    "#model.compile(optimizer='rmsprop',loss='mse')\n",
    "\n",
    "model.fit(\n",
    "    traintensor, # Training data\n",
    "    x_train, # Labels of training data\n",
    "    batch_size=128, # Batch size for the optimizer algorithm\n",
    "    nb_epoch=20, # Number of epochs to run the optimizer algorithm\n",
    "    verbose=2 # Level of verbosity of the log messages\n",
    ")\n",
    "\n",
    "#score = model.evaluate(testtensor, x_test)\n",
    "#print(\"Test loss\", score[0])"
   ]
  },
  {
   "cell_type": "code",
   "execution_count": 5,
   "metadata": {
    "collapsed": false
   },
   "outputs": [],
   "source": [
    "predictions = model.predict(testtensor)"
   ]
  },
  {
   "cell_type": "code",
   "execution_count": 6,
   "metadata": {
    "collapsed": false
   },
   "outputs": [],
   "source": [
    "errors = (predictions - x_test)"
   ]
  },
  {
   "cell_type": "code",
   "execution_count": 7,
   "metadata": {
    "collapsed": false
   },
   "outputs": [],
   "source": [
    "errors = []\n",
    "errorsFile = open('errors.txt', 'w')\n",
    "for i in range(len(predictions)):\n",
    "    error = (predictions[i] - x_test[i]) * 80\n",
    "    errors.append(error[0])\n",
    "    errorsFile.write('{}\\n'.format(error[0]))\n",
    "errorsFile.close()"
   ]
  },
  {
   "cell_type": "code",
   "execution_count": 8,
   "metadata": {
    "collapsed": false
   },
   "outputs": [
    {
     "data": {
      "image/png": "[encoded data removed]",
      "text/plain": [
       "<matplotlib.figure.Figure at 0x7f3a16fcad30>"
      ]
     },
     "metadata": {},
     "output_type": "display_data"
    }
   ],
   "source": [
    "import numpy as np\n",
    "import matplotlib.mlab as mlab\n",
    "import matplotlib.pyplot as plt\n",
    "%matplotlib inline  \n",
    "\n",
    "# the histogram of the data\n",
    "n, bins, patches = plt.hist(errors, 50, normed=1, facecolor='green', alpha=0.75)\n",
    "\n",
    "plt.xlabel('Smarts')\n",
    "plt.ylabel('Probability')\n",
    "plt.title('')\n",
    "#plt.axis([40, 160, 0, 0.03])\n",
    "plt.grid(True)\n",
    "\n",
    "plt.show()"
   ]
  },
  {
   "cell_type": "code",
   "execution_count": 9,
   "metadata": {
    "collapsed": false
   },
   "outputs": [
    {
     "name": "stdout",
     "output_type": "stream",
     "text": [
      "27.942698001861572, 27.239699363708496 --> 0.7029986381530762\n",
      "7.11344301700592, 7.073709964752197 --> 0.039733052253723145\n",
      "38.04574012756348, 37.14810132980347 --> 0.8976387977600098\n",
      "75.47384262084961, 74.05439853668213 --> 1.4194440841674805\n",
      "79.51274394989014, 79.21669960021973 --> 0.29604434967041016\n",
      "4.327563047409058, 4.221180081367493 --> 0.10638296604156494\n",
      "41.86337471008301, 41.299500465393066 --> 0.5638742446899414\n",
      "28.74655246734619, 28.378000259399414 --> 0.36855220794677734\n",
      "27.893712520599365, 27.38919973373413 --> 0.5045127868652344\n",
      "76.4387035369873, 75.88120460510254 --> 0.5574989318847656\n"
     ]
    }
   ],
   "source": [
    "for i in range(10):\n",
    "    print('{0}, {1} --> {2}'.format(predictions[i][0]*80,x_test[i]*80, errors[i]))"
   ]
  },
  {
   "cell_type": "code",
   "execution_count": 59,
   "metadata": {
    "collapsed": false
   },
   "outputs": [
    {
     "name": "stdout",
     "output_type": "stream",
     "text": [
      "-2.26463794708\n",
      "1.64939939976\n"
     ]
    }
   ],
   "source": [
    "print(min(errors))\n",
    "print(max(errors))"
   ]
  },
  {
   "cell_type": "code",
   "execution_count": null,
   "metadata": {
    "collapsed": true
   },
   "outputs": [],
   "source": []
  }
 ],
 "metadata": {
  "kernelspec": {
   "display_name": "Python 2",
   "language": "python",
   "name": "python2"
  },
  "language_info": {
   "codemirror_mode": {
    "name": "ipython",
    "version": 2
   },
   "file_extension": ".py",
   "mimetype": "text/x-python",
   "name": "python",
   "nbconvert_exporter": "python",
   "pygments_lexer": "ipython2",
   "version": "2.7.12"
  }
 },
 "nbformat": 4,
 "nbformat_minor": 0
}
