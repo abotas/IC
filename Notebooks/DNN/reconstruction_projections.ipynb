{
 "cells": [
  {
   "cell_type": "markdown",
   "metadata": {},
   "source": [
    "# 2D projections for DNN-based reconstruction\n",
    "\n",
    "Our DNN-based strategy for reconstruction can be described as follows:\n",
    "\n",
    "Training:\n",
    "1. Run many events in a box of pure xenon. \n",
    "2. Place the event in a random location in the active region and drift all hits to the EL plane (applying both transverse and longitudinal diffusion). Voxelize with some small resolution and store the resulting (x,y,z) coordinates and energies in an HDF5 file.\n",
    "3. Slice the event in z, that is, make an x-y projection with some chosen pixel size (which may be larger than the x-y dimensions of the chosen voxel size in step 2).\n",
    "4. Determine the range of all slices (the maximum extent in x and y) and eliminate slices that have a range greater than some chosen value. It is assumed that in the analysis, slices with a range greater than this value will be broken up into smaller slices that fit within the chosen range. Collect all slices that fit within the chosen range to be used as training/validation/test events.\n",
    "5. For the collected slices, construct a corresponding SiPM map with a size large enough to fit the chosen range.\n",
    "6. Train a DNN to reconstruct slice projections from SiPM maps; (x = [the SiPM map], y = [corresponding projection])\n",
    "\n",
    "Analysis:\n",
    "1. We begin with slices created from real data (or data-like MC). In this case we only have access to the SiPM maps and not \n",
    "2. Find active regions along the SiPM plane and extract subsets corresponding to our slice region.\n",
    "3. Reconstruct the slice using the DNN.\n",
    "4. Piece the track together from the reconstructed slices. The reconstructed slice coordinates will need to be translated into real (x,y) coordinates by considering where in the tracking plane the SiPM subset was taken and the voxel sizes.\n",
    "\n",
    "* Note we may have to deal with \"clashes\" in slices, that is, two slices which together extend beyond the chosen DNN reconstruction range but are not separated enough to be covered by two completely independent reconstruction ranges."
   ]
  },
  {
   "cell_type": "markdown",
   "metadata": {},
   "source": [
    "## Preparation of events\n",
    "\n",
    "We begin with an HDF5 file containing voxels for $0\\nu\\beta\\beta$ events generated in a box of pure xenon, and with tracks restricted to a volume of $200 \\times 200 \\times 200$ mm$^3$.  The file contains 1 dataset per track, each a $4 \\times N$ array, where $N$ is the number of voxels in the event. The 4 \"rows\" in the array correspond to the x-index, y-index, z-index, and energy of the voxels.  Note that since the (x,y,z) information is stored as indices one needs to know the voxel dimensions to convert to coordinates in mm. Here we are using voxels of $1 \\times 1 \\times 1$ mm$^3$\n",
    "\n",
    "We extract the events from this file and then proceed to slice the events in $z$ into slices of some chosen width.  Then, we take $xy$ projections of the hits in each slice and restrict slice sizes to $100 \\times 100$ mm."
   ]
  },
  {
   "cell_type": "code",
   "execution_count": 1,
   "metadata": {
    "collapsed": false
   },
   "outputs": [
    {
     "name": "stdout",
     "output_type": "stream",
     "text": [
      "Populating the interactive namespace from numpy and matplotlib\n"
     ]
    }
   ],
   "source": [
    "%pylab inline"
   ]
  },
  {
   "cell_type": "code",
   "execution_count": 2,
   "metadata": {
    "collapsed": false
   },
   "outputs": [
    {
     "name": "stderr",
     "output_type": "stream",
     "text": [
      "Using Theano backend.\n"
     ]
    }
   ],
   "source": [
    "from keras.models import Sequential\n",
    "from keras.layers import Dense, Activation, Convolution2D, MaxPooling2D, Reshape, Flatten\n",
    "from keras.optimizers import SGD\n",
    "\n",
    "from matplotlib.patches import Ellipse\n",
    "import h5py\n",
    "import numpy as np\n",
    "import math\n",
    "import matplotlib.pyplot as plt\n",
    "import random as rd\n",
    "import sys\n",
    "\n",
    "# Add the Utilties directory to the system path so the file sipm_param can be imported.\n",
    "sys.path.append(\"../Utilities\")\n",
    "from sipm_param import *"
   ]
  },
  {
   "cell_type": "markdown",
   "metadata": {},
   "source": [
    "Define the 3D grid extent and range limits. Note that we have two potentially different voxel sizes: those in which the Geant4 events were originally voxelized (\"Geant4 voxels\") and those we are using for x-y projections (\"projection voxels\" - defined below)."
   ]
  },
  {
   "cell_type": "code",
   "execution_count": 3,
   "metadata": {
    "collapsed": false
   },
   "outputs": [],
   "source": [
    "# Range limits from extraction of Geant4-simulated events.\n",
    "NX = 200\n",
    "NY = 200\n",
    "NZ = 200\n",
    "\n",
    "# Projection voxel sizes in mm\n",
    "vSizeX = 1\n",
    "vSizeY = 1\n",
    "\n",
    "# The slice width, in Geant4 voxels\n",
    "slice_width = 5.\n",
    "\n",
    "# Range limit in x and y for slices (assuming a square range), in voxels\n",
    "RNG_LIM = 100\n",
    "\n",
    "# SiPM plane geometry definition\n",
    "nsipm = 10             # number of SiPMs in response map (a 10x10 response map covers a 100x100 range)\n",
    "sipm_pitch = 10.       # distance between SiPMs\n",
    "sipm_edge_width = 5.   # distance between SiPM and edge of board\n",
    "\n",
    "# -----------------------------------------------------------------------------------------------------------\n",
    "# Variables for computing an EL point location\n",
    "xlen = 2*sipm_edge_width + (nsipm-1)*sipm_pitch       # (mm) side length of rectangle\n",
    "ylen = 2*sipm_edge_width + (nsipm-1)*sipm_pitch       # (mm) side length of rectangle\n",
    "wbin = 2.0                                            # (mm) bin width\n",
    "\n",
    "# Compute the positions of the SiPMs\n",
    "pos_x = np.ones(nsipm**2)*sipm_edge_width + (np.ones(nsipm*nsipm)*range(nsipm**2) % nsipm)*sipm_pitch\n",
    "pos_y = np.ones(nsipm**2)*sipm_edge_width + np.floor(np.ones(nsipm*nsipm)*range(nsipm**2) / nsipm)*sipm_pitch"
   ]
  },
  {
   "cell_type": "markdown",
   "metadata": {
    "collapsed": true
   },
   "source": [
    "First load the HDF5 file containing a list of 3D voxels for each event recorded from the Geant4 simulation."
   ]
  },
  {
   "cell_type": "code",
   "execution_count": 4,
   "metadata": {
    "collapsed": false
   },
   "outputs": [],
   "source": [
    "h5f = h5py.File(\"/Users/jrenner/Dropbox/IFIC/vox_dnn_bb0nu_dnn_111_1x1x1.h5\")\n",
    "Ntrks = min(len(h5f),4000)   # choose the number of events to slice"
   ]
  },
  {
   "cell_type": "markdown",
   "metadata": {},
   "source": [
    "Define a function to slice an event."
   ]
  },
  {
   "cell_type": "code",
   "execution_count": 5,
   "metadata": {
    "collapsed": true
   },
   "outputs": [],
   "source": [
    "# Create slices for the specified event.\n",
    "#  hfile: the HDF5 files containing the events\n",
    "#  nevt: the event number to slice\n",
    "#  zwidth: the slice width in mm\n",
    "#\n",
    "#  returns: [energies, slices]\n",
    "#   where energies is a list of the energies in each slice\n",
    "#   and slices is a matrix of size [Nslices,NY,NX] containing normalized slices\n",
    "def slice_evt(hfile,nevt,zwidth):\n",
    "    \n",
    "    # Get the event from the file.\n",
    "    htrk = hfile['trk{0}'.format(nevt)]\n",
    "    \n",
    "    # Get the z-range.\n",
    "    zmin = np.min(htrk[2]); zmax = np.max(htrk[2])\n",
    "    \n",
    "    # Create slices of width zwidth beginning from zmin.\n",
    "    nslices = int(math.ceil((zmax - zmin)/zwidth))\n",
    "    #print \"{0} slices for event {1}\".format(nslices,nevt)\n",
    "    \n",
    "    slices = np.zeros([nslices,NY,NX])\n",
    "    energies = np.zeros(nslices)\n",
    "    for x,y,z,e in zip(htrk[0],htrk[1],htrk[2],htrk[3]):\n",
    "        \n",
    "        # Add the energy at (x,y,z) to the (x,y) value of the correct slice.\n",
    "        islice = int((z - zmin)/zwidth)\n",
    "        if(islice == nslices): islice -= 1\n",
    "        slices[islice][y][x] += e\n",
    "        energies[islice] += e\n",
    "    \n",
    "    # Normalize the slices.\n",
    "    for s in range(nslices):\n",
    "        slices[s] /= energies[s]\n",
    "        \n",
    "    # Return the list of slices and energies.\n",
    "    return [energies, slices]"
   ]
  },
  {
   "cell_type": "markdown",
   "metadata": {},
   "source": [
    "Save slices from all events that lie within a certain range."
   ]
  },
  {
   "cell_type": "code",
   "execution_count": 6,
   "metadata": {
    "collapsed": false
   },
   "outputs": [
    {
     "name": "stdout",
     "output_type": "stream",
     "text": [
      "Slicing event 0\n"
     ]
    },
    {
     "name": "stderr",
     "output_type": "stream",
     "text": [
      "/opt/local/Library/Frameworks/Python.framework/Versions/2.7/lib/python2.7/site-packages/ipykernel/__main__.py:28: VisibleDeprecationWarning: using a non-integer number instead of an integer will result in an error in the future\n"
     ]
    },
    {
     "name": "stdout",
     "output_type": "stream",
     "text": [
      "Slicing event 40\n",
      "Slicing event 80\n",
      "Slicing event 120\n",
      "Slicing event 160\n",
      "Slicing event 200\n",
      "Slicing event 240\n",
      "Range of 117 for event 241 slice 2, energy 446.00497975; slice not included\n",
      "Slicing event 280\n",
      "Range of 156 for event 292 slice 7, energy 160.054877202; slice not included\n",
      "Range of 139 for event 292 slice 8, energy 97.3269882952; slice not included\n",
      "Range of 160 for event 313 slice 5, energy 269.281027904; slice not included\n",
      "Slicing event 320\n",
      "Slicing event 360\n",
      "Range of 68 for event 391 slice 0, energy 489.835665211; slice not included\n",
      "Range of 65 for event 391 slice 1, energy 203.17067263; slice not included\n",
      "Range of 26 for event 391 slice 2, energy 255.484291792; slice not included\n",
      "Slicing event 400\n",
      "Slicing event 440\n",
      "Range of 103 for event 453 slice 5, energy 456.584512219; slice not included\n",
      "Range of 44 for event 472 slice 1, energy 962.288612472; slice not included\n",
      "Range of 45 for event 472 slice 2, energy 246.416385226; slice not included\n",
      "Slicing event 480\n",
      "Range of 120 for event 512 slice 3, energy 276.835980599; slice not included\n",
      "Slicing event 520\n",
      "Slicing event 560\n",
      "Range of 106 for event 577 slice 1, energy 524.685618419; slice not included\n",
      "Slicing event 600\n",
      "Range of 30 for event 626 slice 1, energy 769.478240358; slice not included\n",
      "Slicing event 640\n",
      "Range of 77 for event 650 slice 12, energy 1345.37764366; slice not included\n",
      "Slicing event 680\n",
      "Range of 22 for event 691 slice 8, energy 685.747993537; slice not included\n",
      "Slicing event 720\n",
      "Range of 129 for event 757 slice 5, energy 328.917734297; slice not included\n",
      "Slicing event 760\n",
      "Slicing event 800\n",
      "Range of 103 for event 812 slice 1, energy 1148.96622679; slice not included\n",
      "Range of 104 for event 812 slice 2, energy 415.841500175; slice not included\n",
      "Slicing event 840\n",
      "Range of 152 for event 862 slice 3, energy 802.660284107; slice not included\n",
      "Slicing event 880\n",
      "Slicing event 920\n",
      "Range of 160 for event 957 slice 3, energy 255.469466536; slice not included\n",
      "Slicing event 960\n",
      "Range of 157 for event 992 slice 10, energy 75.0665513014; slice not included\n",
      "Slicing event 1000\n",
      "Range of 111 for event 1033 slice 0, energy 486.668295718; slice not included\n",
      "Range of 106 for event 1033 slice 1, energy 457.846590533; slice not included\n",
      "Range of 116 for event 1036 slice 5, energy 117.607645803; slice not included\n",
      "Range of 115 for event 1036 slice 6, energy 261.115487639; slice not included\n",
      "Slicing event 1040\n",
      "Range of 28 for event 1042 slice 4, energy 216.325154297; slice not included\n",
      "Range of 32 for event 1042 slice 5, energy 518.199278225; slice not included\n",
      "Range of 35 for event 1042 slice 6, energy 577.428411767; slice not included\n",
      "Slicing event 1080\n",
      "Slicing event 1120\n",
      "Range of 99 for event 1144 slice 8, energy 476.590365958; slice not included\n",
      "Slicing event 1160\n",
      "Slicing event 1200\n",
      "Range of 129 for event 1223 slice 0, energy 424.17136892; slice not included\n",
      "Range of 124 for event 1223 slice 1, energy 565.562745821; slice not included\n",
      "Range of 122 for event 1223 slice 2, energy 549.916045388; slice not included\n",
      "Slicing event 1240\n",
      "Range of 172 for event 1263 slice 6, energy 477.815489387; slice not included\n",
      "Range of 135 for event 1266 slice 1, energy 840.886211001; slice not included\n",
      "Range of 123 for event 1266 slice 3, energy 131.343977325; slice not included\n",
      "Slicing event 1280\n",
      "Slicing event 1320\n",
      "Range of 50 for event 1322 slice 1, energy 450.885554023; slice not included\n",
      "Range of 95 for event 1343 slice 0, energy 58.9485459298; slice not included\n",
      "Range of 107 for event 1347 slice 2, energy 108.769502723; slice not included\n",
      "Slicing event 1360\n",
      "Range of 101 for event 1361 slice 2, energy 967.888077597; slice not included\n",
      "Slicing event 1400\n",
      "Slicing event 1440\n",
      "Range of 173 for event 1454 slice 8, energy 959.576482345; slice not included\n",
      "Range of 162 for event 1454 slice 9, energy 43.359786975; slice not included\n",
      "Range of 22 for event 1468 slice 2, energy 54.293912185; slice not included\n",
      "Range of 19 for event 1468 slice 3, energy 223.954738145; slice not included\n",
      "Range of 18 for event 1468 slice 4, energy 65.6032022168; slice not included\n",
      "Slicing event 1480\n",
      "Range of 106 for event 1519 slice 10, energy 438.36862829; slice not included\n",
      "Slicing event 1520\n",
      "Slicing event 1560\n",
      "Slicing event 1600\n",
      "Slicing event 1640\n",
      "Slicing event 1680\n",
      "Range of 37 for event 1685 slice 5, energy 176.888062299; slice not included\n",
      "Range of 24 for event 1685 slice 6, energy 165.58733943; slice not included\n",
      "Range of 9 for event 1714 slice 5, energy 38.3056441131; slice not included\n",
      "Slicing event 1720\n",
      "Range of 125 for event 1722 slice 7, energy 233.767258973; slice not included\n",
      "Range of 115 for event 1722 slice 8, energy 171.849429238; slice not included\n",
      "Slicing event 1760\n",
      "Range of 68 for event 1773 slice 11, energy 162.709462649; slice not included\n",
      "Slicing event 1800\n",
      "Slicing event 1840\n",
      "Slicing event 1880\n",
      "Slicing event 1920\n",
      "Range of 108 for event 1943 slice 6, energy 65.9472718835; slice not included\n",
      "Slicing event 1960\n",
      "Range of 113 for event 1960 slice 3, energy 793.364330659; slice not included\n",
      "Slicing event 2000\n",
      "Slicing event 2040\n",
      "Range of 100 for event 2057 slice 8, energy 303.712013297; slice not included\n",
      "Slicing event 2080\n",
      "Range of 155 for event 2095 slice 5, energy 1277.96326808; slice not included\n",
      "Slicing event 2120\n",
      "Range of 38 for event 2151 slice 1, energy 844.334002818; slice not included\n",
      "Range of 29 for event 2151 slice 2, energy 159.595696103; slice not included\n",
      "Slicing event 2160\n",
      "Range of 22 for event 2183 slice 2, energy 96.6507508799; slice not included\n",
      "Range of 35 for event 2183 slice 3, energy 190.558178502; slice not included\n",
      "Slicing event 2200\n",
      "Slicing event 2240\n",
      "Range of 70 for event 2263 slice 2, energy 519.92222826; slice not included\n",
      "Slicing event 2280\n",
      "Slicing event 2320\n",
      "Slicing event 2360\n",
      "Range of 89 for event 2362 slice 1, energy 373.656475097; slice not included\n",
      "Range of 102 for event 2371 slice 8, energy 826.471086531; slice not included\n",
      "Range of 99 for event 2371 slice 10, energy 65.2607663558; slice not included\n",
      "Range of 104 for event 2374 slice 0, energy 245.832498983; slice not included\n",
      "Range of 38 for event 2380 slice 0, energy 424.022478663; slice not included\n",
      "Slicing event 2400\n",
      "Range of 39 for event 2415 slice 5, energy 531.006670137; slice not included\n",
      "Slicing event 2440\n",
      "Range of 21 for event 2471 slice 3, energy 800.585389546; slice not included\n",
      "Range of 123 for event 2476 slice 3, energy 509.509612569; slice not included\n",
      "Slicing event 2480\n",
      "Range of 47 for event 2502 slice 7, energy 391.410896664; slice not included\n",
      "Range of 160 for event 2515 slice 2, energy 254.052700968; slice not included\n",
      "Slicing event 2520\n",
      "Range of 39 for event 2551 slice 11, energy 150.066712756; slice not included\n",
      "Slicing event 2560\n",
      "Range of 25 for event 2561 slice 3, energy 437.422228464; slice not included\n",
      "Range of 47 for event 2576 slice 0, energy 302.268383392; slice not included\n",
      "Range of 58 for event 2576 slice 2, energy 388.141691875; slice not included\n",
      "Slicing event 2600\n",
      "Range of 40 for event 2618 slice 7, energy 296.957566985; slice not included\n",
      "Range of 73 for event 2618 slice 8, energy 246.941589112; slice not included\n",
      "Slicing event 2640\n",
      "Range of 48 for event 2644 slice 3, energy 269.164668469; slice not included\n",
      "Range of 30 for event 2644 slice 8, energy 386.949465602; slice not included\n",
      "Range of 22 for event 2653 slice 2, energy 138.26603468; slice not included\n",
      "Range of 24 for event 2653 slice 4, energy 648.774157192; slice not included\n",
      "Range of 154 for event 2655 slice 0, energy 324.914890222; slice not included\n",
      "Slicing event 2680\n",
      "Range of 32 for event 2682 slice 9, energy 159.789277345; slice not included\n",
      "Range of 31 for event 2682 slice 10, energy 112.022286455; slice not included\n",
      "Slicing event 2720\n",
      "Range of 100 for event 2744 slice 1, energy 680.178325613; slice not included\n",
      "Slicing event 2760\n",
      "Range of 175 for event 2774 slice 0, energy 125.077374373; slice not included\n",
      "Range of 90 for event 2780 slice 10, energy 368.725982878; slice not included\n",
      "Range of 136 for event 2799 slice 12, energy 349.628500754; slice not included\n",
      "Slicing event 2800\n",
      "Range of 17 for event 2801 slice 3, energy 292.174815586; slice not included\n",
      "Range of 15 for event 2801 slice 4, energy 516.444173354; slice not included\n",
      "Range of 5 for event 2801 slice 5, energy 190.104580478; slice not included\n",
      "Slicing event 2840\n",
      "Range of 25 for event 2846 slice 5, energy 356.995009487; slice not included\n",
      "Slicing event 2880\n",
      "Range of 101 for event 2915 slice 4, energy 487.646423068; slice not included\n",
      "Range of 101 for event 2915 slice 8, energy 73.0470563735; slice not included\n",
      "Slicing event 2920\n",
      "Slicing event 2960\n",
      "Range of 116 for event 2971 slice 7, energy 141.84504976; slice not included\n",
      "Range of 126 for event 2971 slice 9, energy 88.2666564283; slice not included\n",
      "Range of 101 for event 2987 slice 2, energy 704.888299491; slice not included\n",
      "Slicing event 3000\n",
      "Slicing event 3040\n",
      "Slicing event 3080\n",
      "Range of 117 for event 3099 slice 7, energy 98.1056118959; slice not included\n",
      "Slicing event 3120\n",
      "Slicing event 3160\n",
      "Range of 121 for event 3167 slice 12, energy 308.660856765; slice not included\n",
      "Range of 38 for event 3183 slice 0, energy 829.721202968; slice not included\n",
      "Range of 57 for event 3183 slice 2, energy 164.502707542; slice not included\n",
      "Slicing event 3200\n",
      "Range of 55 for event 3222 slice 1, energy 555.035116036; slice not included\n",
      "Range of 100 for event 3230 slice 1, energy 215.188803587; slice not included\n",
      "Range of 102 for event 3230 slice 2, energy 278.316296094; slice not included\n",
      "Range of 106 for event 3233 slice 7, energy 70.8352653998; slice not included\n",
      "Slicing event 3240\n",
      "Slicing event 3280\n",
      "Range of 111 for event 3290 slice 4, energy 545.517157969; slice not included\n",
      "Range of 72 for event 3293 slice 0, energy 301.184082961; slice not included\n",
      "Range of 4 for event 3305 slice 1, energy 584.166929554; slice not included\n",
      "Range of 7 for event 3305 slice 2, energy 270.152525183; slice not included\n",
      "Range of 11 for event 3305 slice 3, energy 746.477059265; slice not included\n",
      "Slicing event 3320\n",
      "Range of 105 for event 3340 slice 3, energy 459.674720314; slice not included\n",
      "Slicing event 3360\n",
      "Range of 97 for event 3397 slice 10, energy 782.085839139; slice not included\n",
      "Range of 93 for event 3397 slice 11, energy 210.729916368; slice not included\n",
      "Slicing event 3400\n",
      "Slicing event 3440\n",
      "Slicing event 3480\n",
      "Slicing event 3520\n",
      "Range of 39 for event 3550 slice 0, energy 201.652300187; slice not included\n",
      "Slicing event 3560\n",
      "Slicing event 3600\n",
      "Range of 103 for event 3620 slice 3, energy 185.200428156; slice not included\n",
      "Range of 29 for event 3639 slice 4, energy 462.219176992; slice not included\n",
      "Range of 26 for event 3639 slice 5, energy 450.016875435; slice not included\n",
      "Slicing event 3640\n",
      "Range of 55 for event 3642 slice 0, energy 467.199373205; slice not included\n",
      "Slicing event 3680\n",
      "Slicing event 3720\n",
      "Range of 75 for event 3723 slice 1, energy 546.222139874; slice not included\n",
      "Range of 73 for event 3723 slice 2, energy 286.999029999; slice not included\n",
      "Range of 74 for event 3738 slice 5, energy 335.665494807; slice not included\n",
      "Slicing event 3760\n",
      "Slicing event 3800\n",
      "Slicing event 3840\n",
      "Slicing event 3880\n",
      "Range of 127 for event 3903 slice 10, energy 277.833925074; slice not included\n",
      "Range of 125 for event 3903 slice 11, energy 269.412512215; slice not included\n",
      "Slicing event 3920\n",
      "Slicing event 3960\n",
      "Range of 107 for event 3964 slice 0, energy 480.020529002; slice not included\n",
      "Range of 131 for event 3964 slice 1, energy 198.81291006; slice not included\n"
     ]
    }
   ],
   "source": [
    "# Create the HDF5 file.\n",
    "h5slices = h5py.File(\"slices.h5\",'w')\n",
    "\n",
    "xrng = []; yrng = []   # x- and y-ranges\n",
    "nspevt = []            # number of slices per event\n",
    "slices_x = []; slices_y = []; slices_e = []   # slice arrays\n",
    "for ee in range(Ntrks):\n",
    "    \n",
    "    if(ee % int(Ntrks/100) == 0):\n",
    "        print \"Slicing event {0}\".format(ee)\n",
    "        \n",
    "    # Slice the event.\n",
    "    en,sl = slice_evt(h5f,ee,slice_width)\n",
    "    nslices = len(en)\n",
    "    nspevt.append(nslices)\n",
    "    \n",
    "    # Get information about each slice.\n",
    "    for ss in range(nslices):\n",
    "        \n",
    "        # Don't include 0-energy slices.\n",
    "        if(en[ss] < 1.0e-6):\n",
    "            continue\n",
    "        \n",
    "        # Get lists of the nonzero x,y,z indices and E values.\n",
    "        cslice = sl[ss]\n",
    "        nzy,nzx = np.nonzero(cslice)\n",
    "        nze = cslice[np.nonzero(cslice)]\n",
    "        \n",
    "        # Extract several quantities of interest.\n",
    "        xmin = np.min(nzx); xmax = np.max(nzx)\n",
    "        ymin = np.min(nzy); ymax = np.max(nzy)\n",
    "        xrng.append(xmax - xmin + 1)\n",
    "        yrng.append(ymax - ymin + 1)\n",
    "        \n",
    "        # Save the slice if within range.\n",
    "        if((xmax - xmin) >= RNG_LIM-1 or (ymax - ymin) >= RNG_LIM-1):\n",
    "            print \"Range of {0} for event {1} slice {2}, energy {3}; slice not included\".format(xmax-xmin,ee,ss,en[ss])\n",
    "        else:\n",
    "            \n",
    "            # Center the slices about RNG_LIM/2.\n",
    "            x0 = int((xmin + xmax)/2. - RNG_LIM/2.)\n",
    "            y0 = int((ymin + ymax)/2. - RNG_LIM/2.)\n",
    "            nzx -= x0; nzy -= y0\n",
    "            \n",
    "            # Create the slice array.\n",
    "            snum = len(slices_x)\n",
    "            slices_x.append(nzx); slices_y.append(nzy); slices_e.append(nze)\n",
    "            carr = np.array([nzx, nzy, nze])\n",
    "            \n",
    "            # Create the corresponding SiPM map.\n",
    "            sipm_map = np.zeros(nsipm*nsipm)\n",
    "            for xpt,ypt,ept in zip(nzx,nzy,nze):\n",
    "\n",
    "                # Compute the distances and probabilities.  Add the probabilities to the sipm map.\n",
    "                rr = np.array([math.sqrt((xi - xpt)**2 + (yi - ypt)**2) for xi,yi in zip(pos_x,pos_y)])\n",
    "                probs = 0.5*(sipm_par(0, rr) + sipm_par(1, rr))\n",
    "                sipm_map += probs*ept\n",
    "\n",
    "            # Normalize the probability map, and set sigma = 1.\n",
    "            sipm_map -= np.mean(sipm_map)\n",
    "            sipm_map /= np.std(sipm_map)\n",
    "            \n",
    "            # Save the slice and the SiPM map to an HDF5 file.\n",
    "            h5slices.create_dataset(\"slice{0}\".format(snum),data=carr)\n",
    "            h5slices.create_dataset(\"sipm{0}\".format(snum),data=sipm_map)\n",
    "            \n",
    "h5slices.close()"
   ]
  },
  {
   "cell_type": "markdown",
   "metadata": {},
   "source": [
    "Histogram the slice ranges: the majority of slices span quite a small range. We choose 100x100 as our reconstruction range, though we may want to try other values."
   ]
  },
  {
   "cell_type": "code",
   "execution_count": 7,
   "metadata": {
    "collapsed": false
   },
   "outputs": [
    {
     "data": {
      "image/png": "[encoded data removed]",
      "text/plain": [
       "<matplotlib.figure.Figure at 0x10fab5ad0>"
      ]
     },
     "metadata": {},
     "output_type": "display_data"
    },
    {
     "name": "stdout",
     "output_type": "stream",
     "text": [
      "Total of 36947 slices.\n"
     ]
    }
   ],
   "source": [
    "# Plot the histograms.\n",
    "fig = plt.figure()\n",
    "fig.set_figheight(5.0)\n",
    "fig.set_figwidth(15.0)\n",
    "\n",
    "ax1 = fig.add_subplot(121)\n",
    "ax1.hist(xrng,bins=25)\n",
    "ax1.set_xlabel(\"Slice x-width (mm)\")\n",
    "ax1.set_ylabel(\"Counts/bin\")\n",
    "\n",
    "ax2 = fig.add_subplot(122)\n",
    "ax2.hist(yrng,bins=25)\n",
    "ax2.set_xlabel(\"Slice y-width (mm)\")\n",
    "ax2.set_ylabel(\"Counts/bin\")\n",
    "\n",
    "plt.show()\n",
    "\n",
    "print \"Total of {0} slices.\".format(len(xrng))"
   ]
  },
  {
   "cell_type": "markdown",
   "metadata": {},
   "source": [
    "Slice one event and plot one slice (full range)."
   ]
  },
  {
   "cell_type": "code",
   "execution_count": 8,
   "metadata": {
    "collapsed": false
   },
   "outputs": [
    {
     "name": "stderr",
     "output_type": "stream",
     "text": [
      "/opt/local/Library/Frameworks/Python.framework/Versions/2.7/lib/python2.7/site-packages/ipykernel/__main__.py:28: VisibleDeprecationWarning: using a non-integer number instead of an integer will result in an error in the future\n"
     ]
    },
    {
     "data": {
      "image/png": "[encoded data removed]",
      "text/plain": [
       "<matplotlib.figure.Figure at 0x1117ab8d0>"
      ]
     },
     "metadata": {},
     "output_type": "display_data"
    }
   ],
   "source": [
    "# Choose the event and slice number to plot.\n",
    "plt_evt = 23\n",
    "plt_sl = 3\n",
    "\n",
    "# -----------------------------------------------------------------------------------------------------\n",
    "en,sl = slice_evt(h5f,plt_evt,slice_width)\n",
    "max_en = np.where(en == en.max())[0][0]\n",
    "\n",
    "# Get lists of the nonzero x,y,z indices and E values.\n",
    "pslice = sl[plt_sl]\n",
    "nzy,nzx = np.nonzero(pslice)\n",
    "nze = pslice[np.nonzero(pslice)]\n",
    "\n",
    "# Create the plot.\n",
    "fig = plt.figure()\n",
    "ax1 = fig.add_subplot(111)\n",
    "hxz, xxz, yxz = np.histogram2d(nzy, nzx, weights=nze, normed=False, bins=(NY, NX), range=[[0,NY],[0,NX]])\n",
    "extent3 = [yxz[0], yxz[-1], xxz[0], xxz[-1]]\n",
    "sp3 = ax1.imshow(hxz, extent=extent3, interpolation='none', aspect='auto', origin='lower')\n",
    "ax1.set_xlabel(\"x (mm)\")\n",
    "ax1.set_ylabel(\"Y (mm)\")\n",
    "cbp3 = plt.colorbar(sp3);\n",
    "cbp3.set_label('Fractional Energy');\n",
    "\n",
    "plt.show()"
   ]
  },
  {
   "cell_type": "markdown",
   "metadata": {},
   "source": [
    "Close the HDF5 file containing the Geant4 voxels of the event."
   ]
  },
  {
   "cell_type": "code",
   "execution_count": 9,
   "metadata": {
    "collapsed": true
   },
   "outputs": [],
   "source": [
    "h5f.close()"
   ]
  },
  {
   "cell_type": "markdown",
   "metadata": {},
   "source": [
    "## DNN training and reconstruction\n",
    "\n",
    "The stored events and SiPM maps can now be read in and used to train a DNN."
   ]
  },
  {
   "cell_type": "code",
   "execution_count": 13,
   "metadata": {
    "collapsed": false
   },
   "outputs": [
    {
     "name": "stdout",
     "output_type": "stream",
     "text": [
      "73646 events available\n"
     ]
    },
    {
     "name": "stderr",
     "output_type": "stream",
     "text": [
      "/opt/local/Library/Frameworks/Python.framework/Versions/2.7/lib/python2.7/site-packages/ipykernel/__main__.py:29: VisibleDeprecationWarning: using a non-integer number instead of an integer will result in an error in the future\n"
     ]
    }
   ],
   "source": [
    "# Number of events to read.\n",
    "Nevts_train = 20000\n",
    "Nevts_test = 2000\n",
    "gridSize = int(RNG_LIM*RNG_LIM)\n",
    "mapSize = nsipm*nsipm\n",
    "\n",
    "x_train = np.zeros([Nevts_train,mapSize])\n",
    "x_test = np.zeros([Nevts_test,mapSize])\n",
    "y_train = np.zeros([Nevts_train,gridSize])\n",
    "y_test = np.zeros([Nevts_test,gridSize])\n",
    "\n",
    "# Open the HDF5 file.\n",
    "evtFile = h5py.File(\"slices.h5\",'r')\n",
    "\n",
    "# Start reading the events.\n",
    "print \"{0} events available\".format(len(evtFile))\n",
    "nevents = min(len(evtFile),Nevts_train+Nevts_test)\n",
    "for ee in range(nevents):\n",
    "    \n",
    "    # Get the data from the HDF5 file.\n",
    "    slice_obj = evtFile[\"slice{0}\".format(ee)]\n",
    "    map_obj = evtFile[\"sipm{0}\".format(ee)]\n",
    "    \n",
    "    # Create the grid.\n",
    "    xslices = slice_obj[0]; yslices = slice_obj[1]; eslices = slice_obj[2]\n",
    "    slice_grid = np.zeros(gridSize)\n",
    "    for xv,yv,ev in zip(xslices,yslices,eslices):\n",
    "        igrid = xv + RNG_LIM*yv\n",
    "        slice_grid[igrid] += ev\n",
    "    \n",
    "    # Store the event.\n",
    "    if(ee >= Nevts_train): \n",
    "        x_test[ee-Nevts_train] = map_obj\n",
    "        y_test[ee-Nevts_train] = slice_grid\n",
    "    else:\n",
    "        x_train[ee] = map_obj\n",
    "        y_train[ee] = slice_grid"
   ]
  },
  {
   "cell_type": "markdown",
   "metadata": {},
   "source": [
    "Plot one event: grid distribution and corresponding SiPM map"
   ]
  },
  {
   "cell_type": "code",
   "execution_count": 14,
   "metadata": {
    "collapsed": false
   },
   "outputs": [
    {
     "data": {
      "image/png": "[encoded data removed]",
      "text/plain": [
       "<matplotlib.figure.Figure at 0x1106315d0>"
      ]
     },
     "metadata": {},
     "output_type": "display_data"
    }
   ],
   "source": [
    "# Plot one event.\n",
    "plt_train = False   # set to True to plot a training event, False to plot a test event\n",
    "pevt = 2            # the event number\n",
    "if(plt_train):\n",
    "    xarr = x_train[pevt]\n",
    "    yarr = y_train[pevt]\n",
    "else:\n",
    "    xarr = x_test[pevt]\n",
    "    yarr = y_test[pevt]\n",
    "\n",
    "# Create the figure.\n",
    "fig = plt.figure();\n",
    "fig.set_figheight(5.0)\n",
    "fig.set_figwidth(15.0)\n",
    "\n",
    "# Plot the SiPM response map.\n",
    "ax1 = fig.add_subplot(121); \n",
    "ax1.axis([0, xlen, 0, ylen]);\n",
    "probs = (xarr - min(xarr))\n",
    "probs /= max(probs)\n",
    "for x,y,p in zip(pos_x, pos_y, probs):\n",
    "    \n",
    "    # Set up the location; note we must invert y due to a pi rotation\n",
    "    #  about the x-axis.\n",
    "    r = Ellipse(xy=(x,y), width=2., height=2.);\n",
    "    r.set_facecolor('0');\n",
    "    r.set_alpha(0.02 + 0.98*p);\n",
    "    ax1.add_artist(r);\n",
    "ax1.set_xlabel(\"x (mm)\")\n",
    "ax1.set_ylabel(\"Y (mm)\")\n",
    "\n",
    "# Plot the grid.\n",
    "grid_vals = np.reshape(yarr,(-1,RNG_LIM))\n",
    "ax2 = fig.add_subplot(122)\n",
    "extent3 = [0, RNG_LIM, 0, RNG_LIM]\n",
    "sp3 = ax2.imshow(grid_vals, extent=extent3, interpolation='none', aspect='auto', origin='lower')\n",
    "ax2.set_xlabel(\"x (mm)\")\n",
    "ax2.set_ylabel(\"Y (mm)\")\n",
    "cbp3 = plt.colorbar(sp3);\n",
    "cbp3.set_label('Fractional Energy');"
   ]
  },
  {
   "cell_type": "code",
   "execution_count": 17,
   "metadata": {
    "collapsed": false
   },
   "outputs": [
    {
     "name": "stdout",
     "output_type": "stream",
     "text": [
      "____________________________________________________________________________________________________\n",
      "Layer (type)                     Output Shape          Param #     Connected to                     \n",
      "====================================================================================================\n",
      "reshape_4 (Reshape)              (None, 1, 10, 10)     0           reshape_input_4[0][0]            \n",
      "____________________________________________________________________________________________________\n",
      "convolution2d_7 (Convolution2D)  (None, 256, 10, 10)   6656        reshape_4[0][0]                  \n",
      "____________________________________________________________________________________________________\n",
      "activation_10 (Activation)       (None, 256, 10, 10)   0           convolution2d_7[0][0]            \n",
      "____________________________________________________________________________________________________\n",
      "maxpooling2d_4 (MaxPooling2D)    (None, 256, 5, 5)     0           activation_10[0][0]              \n",
      "____________________________________________________________________________________________________\n",
      "convolution2d_8 (Convolution2D)  (None, 128, 5, 5)     295040      maxpooling2d_4[0][0]             \n",
      "____________________________________________________________________________________________________\n",
      "activation_11 (Activation)       (None, 128, 5, 5)     0           convolution2d_8[0][0]            \n",
      "____________________________________________________________________________________________________\n",
      "flatten_4 (Flatten)              (None, 3200)          0           activation_11[0][0]              \n",
      "____________________________________________________________________________________________________\n",
      "dense_4 (Dense)                  (None, 10000)         32010000    flatten_4[0][0]                  \n",
      "____________________________________________________________________________________________________\n",
      "activation_12 (Activation)       (None, 10000)         0           dense_4[0][0]                    \n",
      "====================================================================================================\n",
      "Total params: 32311696\n",
      "____________________________________________________________________________________________________\n"
     ]
    }
   ],
   "source": [
    "# Construct a DNN.\n",
    "model = Sequential()\n",
    "\n",
    "# Reshape the input\n",
    "model.add(Reshape((1, nsipm, nsipm), input_shape=(nsipm*nsipm,)))\n",
    "\n",
    "# 3x3 conv layer: output has shape (None, 64, 10, 10)\n",
    "model.add(Convolution2D(256, 5, 5, border_mode='same'))\n",
    "model.add(Activation(\"relu\"))\n",
    "\n",
    "# Max pooling: output has shape (None, 64, 5, 5)\n",
    "model.add(MaxPooling2D(pool_size=(2, 2), strides=(2,2), border_mode='valid', dim_ordering='default'))\n",
    "\n",
    "# 2x2 conv layer: output has shape (None, 32, 5, 5)\n",
    "model.add(Convolution2D(128, 3, 3, border_mode='same'))\n",
    "model.add(Activation(\"relu\"))\n",
    "\n",
    "# Densely connected layers\n",
    "newdim = nsipm/2 # new image dimension after pooling layer\n",
    "model.add(Flatten())\n",
    "model.add(Dense(output_dim=RNG_LIM*RNG_LIM, input_dim=128*newdim*newdim))\n",
    "model.add(Activation(\"softmax\"))\n",
    "\n",
    "# Setup\n",
    "model.compile(loss='categorical_crossentropy', optimizer=SGD(lr=0.1, momentum=0.9, nesterov=True))\n",
    "model.summary()"
   ]
  },
  {
   "cell_type": "code",
   "execution_count": 18,
   "metadata": {
    "collapsed": false
   },
   "outputs": [
    {
     "name": "stdout",
     "output_type": "stream",
     "text": [
      "Epoch 1/10\n",
      "20000/20000 [==============================] - 211s - loss: 5.7146   \n",
      "Epoch 2/10\n",
      "20000/20000 [==============================] - 202s - loss: 4.4990   \n",
      "Epoch 3/10\n",
      "20000/20000 [==============================] - 201s - loss: 4.1720   \n",
      "Epoch 4/10\n",
      "20000/20000 [==============================] - 198s - loss: 3.9772   \n",
      "Epoch 5/10\n",
      "20000/20000 [==============================] - 197s - loss: 3.8434   \n",
      "Epoch 6/10\n",
      "20000/20000 [==============================] - 920s - loss: 3.7482   \n",
      "Epoch 7/10\n",
      "20000/20000 [==============================] - 198s - loss: 3.6712   \n",
      "Epoch 8/10\n",
      "20000/20000 [==============================] - 193s - loss: 3.6125   \n",
      "Epoch 9/10\n",
      "20000/20000 [==============================] - 200s - loss: 3.5644   \n",
      "Epoch 10/10\n",
      "20000/20000 [==============================] - 198s - loss: 3.5162   \n"
     ]
    },
    {
     "data": {
      "text/plain": [
       "<keras.callbacks.History at 0x112b91ad0>"
      ]
     },
     "execution_count": 18,
     "metadata": {},
     "output_type": "execute_result"
    }
   ],
   "source": [
    "model.fit(x_train, y_train, nb_epoch=10, batch_size=50)"
   ]
  },
  {
   "cell_type": "code",
   "execution_count": 19,
   "metadata": {
    "collapsed": false
   },
   "outputs": [
    {
     "name": "stdout",
     "output_type": "stream",
     "text": [
      "2000/2000 [==============================] - 3s     \n",
      "\n",
      "Mean loss is 3.82053271532\n"
     ]
    }
   ],
   "source": [
    "# Evaluate the model and produce a list of predictions for the test data.\n",
    "loss_and_metrics = model.evaluate(x_test, y_test, batch_size=50);\n",
    "y_pred = model.predict(x_test, batch_size=32, verbose=0)\n",
    "print(\"\\nMean loss is {0}\".format(loss_and_metrics))"
   ]
  },
  {
   "cell_type": "code",
   "execution_count": 21,
   "metadata": {
    "collapsed": false
   },
   "outputs": [
    {
     "data": {
      "image/png": "[encoded data removed]",
      "text/plain": [
       "<matplotlib.figure.Figure at 0x110abd310>"
      ]
     },
     "metadata": {},
     "output_type": "display_data"
    }
   ],
   "source": [
    "# Plot true vs. reconstructed for a test event.\n",
    "pevt = 1\n",
    "y_true = y_test[pevt]\n",
    "y_calc = y_pred[pevt]\n",
    "\n",
    "# Create the figure.\n",
    "fig = plt.figure();\n",
    "fig.set_figheight(5.0)\n",
    "fig.set_figwidth(15.0)\n",
    "extent = [0, RNG_LIM, 0, RNG_LIM]\n",
    "\n",
    "# Plot the truth.\n",
    "ax1 = fig.add_subplot(121); \n",
    "grid_true = np.reshape(y_true,(-1,RNG_LIM))\n",
    "sp3 = ax1.imshow(grid_true, extent=extent, interpolation='none', aspect='auto', origin='lower')\n",
    "ax1.set_xlabel(\"x (mm)\")\n",
    "ax1.set_ylabel(\"Y (mm)\")\n",
    "ax1.set_title(\"True Energy Distribution\")\n",
    "cbp3 = plt.colorbar(sp3);\n",
    "cbp3.set_label('Fractional Energy');\n",
    "\n",
    "# Plot the grid.\n",
    "ax2 = fig.add_subplot(122)\n",
    "grid_calc = np.reshape(y_calc,(-1,RNG_LIM))\n",
    "sp3 = ax2.imshow(grid_calc, extent=extent, interpolation='none', aspect='auto', origin='lower')\n",
    "ax2.set_xlabel(\"x (mm)\")\n",
    "ax2.set_ylabel(\"Y (mm)\")\n",
    "ax2.set_title(\"Reconstructed Energy Distribution\")\n",
    "cbp3 = plt.colorbar(sp3);\n",
    "cbp3.set_label('Fractional Energy');"
   ]
  },
  {
   "cell_type": "code",
   "execution_count": null,
   "metadata": {
    "collapsed": true
   },
   "outputs": [],
   "source": []
  }
 ],
 "metadata": {
  "kernelspec": {
   "display_name": "Python 2",
   "language": "python",
   "name": "python2"
  },
  "language_info": {
   "codemirror_mode": {
    "name": "ipython",
    "version": 2
   },
   "file_extension": ".py",
   "mimetype": "text/x-python",
   "name": "python",
   "nbconvert_exporter": "python",
   "pygments_lexer": "ipython2",
   "version": "2.7.11"
  }
 },
 "nbformat": 4,
 "nbformat_minor": 0
}
