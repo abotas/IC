{
 "cells": [
  {
   "cell_type": "markdown",
   "metadata": {},
   "source": [
    "# Nh5 Event Model"
   ]
  },
  {
   "cell_type": "markdown",
   "metadata": {},
   "source": [
    "## Notes on building an event model based in hdf5, pytabes and pandas"
   ]
  },
  {
   "cell_type": "code",
   "execution_count": 1,
   "metadata": {
    "collapsed": true
   },
   "outputs": [],
   "source": [
    "from __future__ import print_function"
   ]
  },
  {
   "cell_type": "markdown",
   "metadata": {},
   "source": [
    "### GATE event model"
   ]
  },
  {
   "cell_type": "markdown",
   "metadata": {},
   "source": [
    "GATE event model (EM) can be exposed to python (via pyROOT). On the other hand:\n",
    "\n",
    "1. Since the GATE objects were designed in C++, the objects exposed to python are \"C++ translations\" performed by pyROOT. This comes at the cost of loosing reflection/introspection. pyROOT objects can only be manipulated using their C++ interfaces, which are often not obviously translated to python (maps is a good example). \n",
    "\n",
    "2. GATE objects are stored using ROOT. Depending on your faith you may consider this a blessing or a curse. \n",
    "\n",
    "3. A description of GATE EVM is here:\n",
    "\n",
    "http://next.ific.uv.es:8888/nextsw/dstbuilder/wikis/EventModel"
   ]
  },
  {
   "cell_type": "markdown",
   "metadata": {},
   "source": [
    "## Nh5 Event Model"
   ]
  },
  {
   "cell_type": "markdown",
   "metadata": {},
   "source": [
    "### Raw Data objects"
   ]
  },
  {
   "cell_type": "markdown",
   "metadata": {},
   "source": [
    "#### Monte Carlo Raw  Data (MCRD) True Waveforms (TWF), Raw Waveforms (RWF),  Base Line Restored (BLR) waveforms and Corrected Waveforms (CWF) "
   ]
  },
  {
   "cell_type": "markdown",
   "metadata": {},
   "source": [
    "1. For detailed studies of the Energy Plane FEE, waveforms (bins of 1 ns) in photoelectrons (pes) are neeed. We refer to these as Monte Carlo Raw Data (MCRD). The PMT MCRD is the input to the Simulation of the Energy Plane Response (SIERPE), which convolutes the MCRD with the response of the Energy plane FEE and outputs True Waveforms, BLR Waveforms and Raw Waveforms. \n",
    "\n",
    "2. There are also MCRD for the SiPMs, in bins of 1 mus. The SiPM MCRD is the input to the simulation of the SiPM noise, which in turn creates RWF for the SiPMs (also binned in 1 mus).\n",
    "\n",
    "3. PMT TWF are simply MCRD which are: a) Zero Supressed (ZS); b) binned at 1 mus (to save space and match PMT and SiPMs, eg., for PMAPS). \n",
    "\n",
    "4. PMT RWF are the output of the FEE + DAQ. They are obtained by convoluting the MCRD with the LPF and HPF characteristic of the Energy Plane FEE. They are also decimated by the DAQ. The output of the FEE + DAQ is in adc counts. \n",
    "\n",
    "5. PMT BLR are also output of the FEE + DAQ, but applying only the LPF, e.g, they correspond to the response of an electronics that would not distort the WF, or to the outuput of a perfectly resoted baseline (thus the Base Line Restored or BLR). \n",
    "\n",
    "6. We save TWF, RWF and BLR waveforms for the PMTs. In the Monte Carlo data, the three sets will allow detailed comparisons to quantify the effect of noise and peak-finding in the resolution (comparison TWF and BLR) and the effect of convolution/deconvolution (RWF are lated deconvolved using a BLR algorithm and produce corrected waveforms, CWF, which can be compared with BLR waveforms)\n",
    "\n",
    "7. Notice that the DETSIM/ART chain works directly with \"perfect\" ZS-BLR waveforms. The studies of GML, PF and others show very good energy resolution, but many critical effects are being skipped. \n",
    "\n",
    "8. In the data produced by the DAQ we will save BLR waveforms and RWF too. In the data BLR are PMT waveforms which have been corrected by BLR in the FPGA, while RWF are direct output from the DAQ. \n",
    "\n"
   ]
  },
  {
   "cell_type": "markdown",
   "metadata": {},
   "source": [
    "### Structure of the Nh5 files and data flow"
   ]
  },
  {
   "cell_type": "markdown",
   "metadata": {},
   "source": [
    "1. For detailed MC simulation of the EP one needs to produce (using NEXUS) MCRD files. In spite of the fact that 1 ns waveforms are very large (thus MCRD files weight about 10 MB per event if not compressed), compression is very effective here, since most of the WF contents are zeros. The actual size of the event is of the order of 336 kb. \n",
    "\n",
    "2.1 DIOMIRA takes as an imput MCRD files and writes h5f files whih contain:\n",
    "\n",
    "    a. PMT RWF waveforms (SIERPE with HPF on)-- name of field: pmtrwf\n",
    "    \n",
    "    b. PMT BLR waveforms (SIEPRE with HPF off)--name of field: pmtblr\n",
    "    \n",
    "    c. SiPM RWF (noise simulation of the SiPMs)--name of field: sipmrwf\n",
    "    \n",
    "    d. PMT TWF (MCRD for PMTs ZS and rebinned at 1 mus)-- name of field: pmttwf\n",
    "    \n",
    "    e. SiPM TWF (MCRD for SiPMs, ZS, bins of 1 mus)-- name of field: sipmtwf\n",
    "    \n",
    "    f. In addition DIOMIRA copies true monte carlo (true particles and tracks) tables from MCRD files, a table with the FEE parameters, and tables with geometry and calib info for PMTs and SiPMs\n",
    "\n",
    "2.2 Saving the pmtrwf, pmtblr and sipmrwf as Int32, compression is also effective (many zeros can be taken away). Since the pmtrwf and pmtblr are smaller than pmtrd, the size of the event is of ther order of 500 kb per event. \n",
    "\n",
    "2.3 DAQ (real data) produces an h5f file that corresponds to the DIOMIRA simulation (without the TWFs). That is:\n",
    "\n",
    "    a. PMT RWF (BLR off in FPGA)-- name of field: pmtrwf\n",
    "    \n",
    "    b. PMT BLR (BLR on in FPGA)-- name of field: pmtblr\n",
    "    \n",
    "    c. SiPM --name of field: sipmrwf\n",
    "\n",
    "2.4 Thus, notice that the file produced by DIOMIRA is equivalent to the file produced by DAQ except for the additional tables related with true waveforms (and Monte Carlo tracks, etc.). \n",
    "    \n",
    "     \n",
    "3. ISIDORA reads the h5f file produced by either DIOMIRA or DAQ. Then pmtrwf waveforms are passed by BLR algorithm to produce cwf (oputput pmtcwf) which are added to the file. The resulting file shoule weight less than 1 MB per event \n",
    "    \n",
    "4. DOROTEA reads the h5f file, produces PMAPS and saves them into an additional table (PMAP table).\n",
    "\n",
    "5. ZAIRA uses PMAPS to produce a Kripton analysis. "
   ]
  },
  {
   "cell_type": "code",
   "execution_count": null,
   "metadata": {
    "collapsed": true
   },
   "outputs": [],
   "source": []
  }
 ],
 "metadata": {
  "anaconda-cloud": {},
  "kernelspec": {
   "display_name": "Python [Root]",
   "language": "python",
   "name": "Python [Root]"
  },
  "language_info": {
   "codemirror_mode": {
    "name": "ipython",
    "version": 2
   },
   "file_extension": ".py",
   "mimetype": "text/x-python",
   "name": "python",
   "nbconvert_exporter": "python",
   "pygments_lexer": "ipython2",
   "version": "2.7.12"
  }
 },
 "nbformat": 4,
 "nbformat_minor": 0
}
