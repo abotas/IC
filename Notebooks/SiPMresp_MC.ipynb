{
 "cells": [
  {
   "cell_type": "markdown",
   "metadata": {},
   "source": [
    "Generate EL points and simulate SiPM responses. \n",
    "\n",
    "Arrays (earrays) are created in tables and are extendable. They are stored in a group in f.root referring to the number of EL pts (NUM_ELPT) simulated per event in this toy montecarlo.\n",
    "\n",
    "Because these data stored in different groups in f.root depending on NUM_ELPT, a single .h file created by this code could later be modified to contain new SiPM response data with different NUM_ELPT. New data for NUM_ELPT=2 (for example) in one group and old data for NUM_ELPT=1 in a different group.\n",
    "\n",
    "with previous data under one f.root.group and new data under a new f.root.group. This means that if you run this code multiple times with different NUM_ELPT you can store data for different ELPTs/event in the same .h file. "
   ]
  },
  {
   "cell_type": "code",
   "execution_count": 1,
   "metadata": {
    "collapsed": false
   },
   "outputs": [],
   "source": [
    "from __future__ import print_function\n",
    "\n",
    "\n",
    "import random\n",
    "import tables\n",
    "import numpy as np\n",
    "\n",
    "NSIPM = 8\n",
    "NUM_ELPT = 1     # max num points observed in EL in same timestep \n",
    "                 \n",
    "sipm_pitch = 10.0     # SiPM pitch in mm\n",
    "sipm_edge_width = 5.0 # width of edge of dice board in mm\n",
    "ze = 10.0             # distance between SiPM plane and EL gap\n",
    "grid_space = 2.0      # grid spacing in mm\n",
    "d_gap = 5.0           # length of EL gap\n",
    "n_tbins = 2           # number of time bins collected as electron crosses EL\n",
    "\n",
    "N = 1   # Number of photons (probably not necessary due to normalization)\n",
    "\n",
    "nevts = 2 # num events for each num EL pt\n",
    "\n",
    "max_xy = (NSIPM-1)*sipm_pitch + 2*sipm_edge_width # maximum x and y value (80 mm)\n",
    "max_p = max_xy /grid_space                        # number of points per line (40)\n",
    "\n",
    "\n",
    "# initialize\n",
    "sipm_res = np.zeros((nevts,NSIPM**2),dtype=np.float64) #SiPM responses\n",
    "x = np.empty((NUM_ELPT,nevts),dtype = np.float64)      #xcoord for evt\n",
    "y = np.empty((NUM_ELPT,nevts),dtype = np.float64)      #ycoord for evt\n",
    "E = np.empty((NUM_ELPT,nevts),dtype = np.float64)      #energy fraction for evt\n",
    "\n"
   ]
  },
  {
   "cell_type": "markdown",
   "metadata": {},
   "source": [
    "Set up the SiPM positions"
   ]
  },
  {
   "cell_type": "code",
   "execution_count": 2,
   "metadata": {
    "collapsed": false
   },
   "outputs": [
    {
     "name": "stdout",
     "output_type": "stream",
     "text": [
      "[(5.0, 5.0), (5.0, 15.0), (5.0, 25.0), (5.0, 35.0), (5.0, 45.0), (5.0, 55.0), (5.0, 65.0), (5.0, 75.0), (15.0, 5.0), (15.0, 15.0), (15.0, 25.0), (15.0, 35.0), (15.0, 45.0), (15.0, 55.0), (15.0, 65.0), (15.0, 75.0), (25.0, 5.0), (25.0, 15.0), (25.0, 25.0), (25.0, 35.0), (25.0, 45.0), (25.0, 55.0), (25.0, 65.0), (25.0, 75.0), (35.0, 5.0), (35.0, 15.0), (35.0, 25.0), (35.0, 35.0), (35.0, 45.0), (35.0, 55.0), (35.0, 65.0), (35.0, 75.0), (45.0, 5.0), (45.0, 15.0), (45.0, 25.0), (45.0, 35.0), (45.0, 45.0), (45.0, 55.0), (45.0, 65.0), (45.0, 75.0), (55.0, 5.0), (55.0, 15.0), (55.0, 25.0), (55.0, 35.0), (55.0, 45.0), (55.0, 55.0), (55.0, 65.0), (55.0, 75.0), (65.0, 5.0), (65.0, 15.0), (65.0, 25.0), (65.0, 35.0), (65.0, 45.0), (65.0, 55.0), (65.0, 65.0), (65.0, 75.0), (75.0, 5.0), (75.0, 15.0), (75.0, 25.0), (75.0, 35.0), (75.0, 45.0), (75.0, 55.0), (75.0, 65.0), (75.0, 75.0)]\n"
     ]
    }
   ],
   "source": [
    "sipm_pos_x = []\n",
    "for i in range(NSIPM): sipm_pos_x.extend([sipm_edge_width + i*sipm_pitch]*NSIPM)\n",
    "sipm_pos_y = [sipm_edge_width + i*sipm_pitch for i in range(NSIPM)]*NSIPM\n",
    "\n",
    "print(zip(sipm_pos_x,sipm_pos_y))\n"
   ]
  },
  {
   "cell_type": "markdown",
   "metadata": {},
   "source": [
    "Generate array of El events"
   ]
  },
  {
   "cell_type": "code",
   "execution_count": 3,
   "metadata": {
    "collapsed": false
   },
   "outputs": [],
   "source": [
    "#Generate energy fractions for each point from uniform distribution so that they sum to 1\n",
    "E = np.random.uniform(0,1,(NUM_ELPT,nevts))\n",
    "E = E / E.sum(axis=0)\n",
    "\n",
    "#Generate x,y coords for each elpt\n",
    "for i in range(NUM_ELPT):\n",
    "    elpt = np.random.randint(0,1600,nevts)\n",
    "    x[i] = (elpt % max_p)*grid_space + 1\n",
    "    y[i] = (np.floor(elpt/max_p))*grid_space + 1\n",
    "    \n",
    "    \n",
    "\n",
    "\n"
   ]
  },
  {
   "cell_type": "markdown",
   "metadata": {},
   "source": [
    "Define sipm response function"
   ]
  },
  {
   "cell_type": "code",
   "execution_count": 4,
   "metadata": {
    "collapsed": false
   },
   "outputs": [],
   "source": [
    "\"\"\"\n",
    "sipm_param.py\n",
    "author: jrenner\n",
    "Defines the SiPM parameterization functions as:\n",
    "N(x) = M*sum(c_n*x^n) for n = 0 to n = 9\n",
    "where x is the distance of the SiPM from some central point of\n",
    "light emission.\n",
    "Because the response is characterized over several time bins, we\n",
    "have several values for M and the coefficients.\n",
    "\"\"\"\n",
    "import numpy as np\n",
    "\n",
    "# Number of time bins\n",
    "n_tbins = 2\n",
    "\n",
    "# Coefficients from S2 parameterization\n",
    "M = [1.599, 1.599]\n",
    "c0 = [7.72708346764e-05, 0.000116782596518]\n",
    "c1 = [-1.69330613273e-07, 3.05115354927e-06]\n",
    "c2 = [-1.52173658255e-06, -7.00800605142e-06]\n",
    "c3 = [-2.4985972302e-07, 6.53907883449e-07]\n",
    "c4 = [1.12327204397e-07, 8.95230202525e-08]\n",
    "c5 = [-1.49353264606e-08, -2.27173290582e-08]\n",
    "c6 = [1.04614146487e-09, 2.00740799864e-09]\n",
    "c7 = [-4.19111362353e-11, -9.21915945523e-11]\n",
    "c8 = [9.12129133361e-13, 2.20534216312e-12]\n",
    "c9 = [-8.40089561697e-15, -2.1795164563e-14]\n",
    "\n",
    "# Maximum radial extent of parameterization\n",
    "rmax = 20.\n",
    "\n",
    "# Return the SiPM response for the specified time bin and radial distance.\n",
    "def sipm_par(tbin,r):\n",
    "\n",
    "    # Ensure the time bin value is valid.\n",
    "    if(tbin < 0 or tbin >= n_tbins):\n",
    "        print(\"Invalid time bin in sipm_param: returning 0.0 ...\")\n",
    "        return 0.0\n",
    "\n",
    "    # Calculate the response based on the parametrization.\n",
    "    vpar = M[tbin]*(c0[tbin] + c1[tbin]*r + c2[tbin]*r**2 + c3[tbin]*r**3 + \n",
    "    c4[tbin]*r**4 + c5[tbin]*r**5 + c6[tbin]*r**6 + c7[tbin]*r**7 + \n",
    "    c8[tbin]*r**8 + c9[tbin]*r**9)\n",
    "\n",
    "    # Zero the response for radii too large.\n",
    "    if(hasattr(vpar, \"__len__\")):\n",
    "        ret = np.zeros(len(vpar)); iret = 0\n",
    "        for rv,pv in zip(r,vpar):\n",
    "            if(rv < rmax):\n",
    "                ret[iret] = pv\n",
    "            iret += 1\n",
    "        return ret\n",
    "    else:\n",
    "        if(r < rmax):\n",
    "            return vpar\n",
    "        return 0.0\n"
   ]
  },
  {
   "cell_type": "markdown",
   "metadata": {},
   "source": [
    "Generate SiPM responses"
   ]
  },
  {
   "cell_type": "code",
   "execution_count": 5,
   "metadata": {
    "collapsed": false
   },
   "outputs": [],
   "source": [
    "\n",
    "posxy = zip(sipm_pos_x,sipm_pos_y)\n",
    "#R = np.empty_like(sipm_res)\n",
    "\n",
    "\n",
    "# generate responses of sipms \n",
    "p = 0\n",
    "#for each EL point (NUM_ELPT)...\n",
    "for e in E:\n",
    "    xy = zip(x[p],y[p])\n",
    "    \n",
    "    evt = 0\n",
    "    # for each event (xi,yi) are its coordinates... \n",
    "    for xi,yi in xy:\n",
    "        idx = 0 \n",
    "        \n",
    "        # for each sipm get sipm_par.\n",
    "        for posx,posy in posxy:\n",
    "            \n",
    "            #calculate distance between this sipm and xi,yi\n",
    "            r = np.sqrt((posx - xi)**2 + (posy - yi)**2)\n",
    "            \n",
    "            #add this response to previous responses weighted by this event's energy fraction\n",
    "            sipm_res[evt,idx] = sipm_res[evt,idx] +  sipm_par(0,r)*e[evt]\n",
    "            if n_tbins == 2: \n",
    "                sipm_res[evt,idx] = sipm_res[evt,idx] +  sipm_par(1,r)*e[evt]\n",
    "                \n",
    "            idx += 1 #iterate thru SIPMs\n",
    "        evt += 1 #iterate thru events\n",
    "    p += 1 #iterate thru points\n",
    "        \n",
    "#multiply by number of photons, not neccessary when assuming infinite photons (set N = 1)\n",
    "if n_tbins == 2: sipm_res = sipm_res * N / 2 #average time of 2 bins\n",
    "else: sipm_res *= N\n",
    "\n",
    "#Normalize for the DNN\n",
    "mean = np.mean(sipm_res)\n",
    "std = np.std(sipm_res)\n",
    "sipm_res = (sipm_res - mean)/std\n",
    "\n",
    "\n",
    "#print(sipm_res)\n",
    "#print(x)"
   ]
  },
  {
   "cell_type": "markdown",
   "metadata": {},
   "source": [
    "Put responses in a table"
   ]
  },
  {
   "cell_type": "code",
   "execution_count": 6,
   "metadata": {
    "collapsed": false,
    "scrolled": true
   },
   "outputs": [
    {
     "name": "stdout",
     "output_type": "stream",
     "text": [
      "resp.h (File) ''\n",
      "Last modif.: 'Tue Aug 23 22:46:54 2016'\n",
      "Object Tree: \n",
      "/ (RootGroup) ''\n",
      "/sim_1pt (Group) 'Group for 1 ELPTs'\n",
      "/sim_1pt/sipm_resp (EArray(1, 2, 64), shuffle, blosc(9)) ''\n",
      "/sim_1pt/x (EArray(1, 2), shuffle, blosc(9)) ''\n",
      "/sim_1pt/y (EArray(1, 2), shuffle, blosc(9)) ''\n",
      "\n"
     ]
    }
   ],
   "source": [
    "# Store \"x\" in a chunked array with level 5 BLOSC compression...\n",
    "f = tables.open_file('resp.h', 'w')\n",
    "\n",
    "filters = tables.Filters(complib='blosc', complevel=9, shuffle=False)\n",
    "groupname = 'sim_' + str(NUM_ELPT) + 'pt'\n",
    "group = f.create_group(f.root, groupname, 'Group for ' + str(NUM_ELPT) + ' ELPTs')\n",
    "\n",
    "#x\n",
    "atom = tables.Atom.from_dtype(x.dtype)\n",
    "x1 = f.create_earray(group, 'x', atom, (0,nevts), filters=filters) \n",
    "                                                                         # extensible along first index for additional\n",
    "                                                                         # x coords of additional\n",
    "                                                                         # data points can be added (if multiple data                                                                        \n",
    "#y                                                                       # points per event)\n",
    "atom = tables.Atom.from_dtype(y.dtype)                                  \n",
    "y1 = f.create_earray(group, 'y', atom, (0,nevts), filters=filters)\n",
    "\n",
    "\n",
    "#sipm\n",
    "atom = tables.Atom.from_dtype(sipm_res.dtype)  #sipm_res1 probably doesn't need to be extendable\n",
    "sipm_res1 = f.create_earray(group, 'sipm_resp', atom, (0,nevts,NSIPM**2), filters=filters) \n",
    "\n",
    "\n",
    "for p in range(NUM_ELPT):\n",
    "    x1.append([x[p]])  \n",
    "    y1.append([y[p]])\n",
    "sipm_res1.append([sipm_res])\n",
    "\n",
    "print(f)\n",
    "\n",
    "f.close()\n"
   ]
  },
  {
   "cell_type": "markdown",
   "metadata": {},
   "source": [
    "Done!"
   ]
  }
 ],
 "metadata": {
  "kernelspec": {
   "display_name": "Python 2",
   "language": "python",
   "name": "python2"
  },
  "language_info": {
   "codemirror_mode": {
    "name": "ipython",
    "version": 2
   },
   "file_extension": ".py",
   "mimetype": "text/x-python",
   "name": "python",
   "nbconvert_exporter": "python",
   "pygments_lexer": "ipython2",
   "version": "2.7.12"
  }
 },
 "nbformat": 4,
 "nbformat_minor": 0
}
