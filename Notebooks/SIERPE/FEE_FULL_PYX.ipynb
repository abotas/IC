{
 "cells": [
  {
   "cell_type": "markdown",
   "metadata": {},
   "source": [
    "  # FEE PYX"
   ]
  },
  {
   "cell_type": "markdown",
   "metadata": {},
   "source": [
    "Cython version of FEE class"
   ]
  },
  {
   "cell_type": "code",
   "execution_count": 2,
   "metadata": {
    "collapsed": true
   },
   "outputs": [],
   "source": [
    "from __future__ import print_function"
   ]
  },
  {
   "cell_type": "code",
   "execution_count": 3,
   "metadata": {
    "collapsed": true
   },
   "outputs": [],
   "source": [
    "import matplotlib\n",
    "import numpy as np\n",
    "from scipy import signal\n",
    "import matplotlib.pyplot as plt\n",
    "from IPython.display import Image\n",
    "from IPython.core.display import HTML \n",
    "%matplotlib inline\n",
    "%load_ext autoreload\n",
    "%autoreload 2"
   ]
  },
  {
   "cell_type": "code",
   "execution_count": 4,
   "metadata": {
    "collapsed": true
   },
   "outputs": [],
   "source": [
    "import Core.system_of_units as units\n",
    "import Core.mplFunctions as mpl\n",
    "import Core.wfmFunctions as wfm\n",
    "import Core.tblFunctions as tbl\n",
    "import Sierpe.FEE as FE\n",
    "from scipy import signal\n",
    "from Core.coreFunctions import wait\n",
    "from Database import loadDB"
   ]
  },
  {
   "cell_type": "code",
   "execution_count": 5,
   "metadata": {
    "collapsed": true
   },
   "outputs": [],
   "source": [
    "import ICython.Core.system_of_units as SU"
   ]
  },
  {
   "cell_type": "code",
   "execution_count": 6,
   "metadata": {
    "collapsed": true
   },
   "outputs": [],
   "source": [
    "%load_ext Cython"
   ]
  },
  {
   "cell_type": "code",
   "execution_count": 7,
   "metadata": {
    "collapsed": true
   },
   "outputs": [],
   "source": [
    "import time"
   ]
  },
  {
   "cell_type": "markdown",
   "metadata": {},
   "source": [
    "### Last revisited on:"
   ]
  },
  {
   "cell_type": "code",
   "execution_count": 8,
   "metadata": {
    "collapsed": false
   },
   "outputs": [
    {
     "name": "stdout",
     "output_type": "stream",
     "text": [
      "24/11/2016\n",
      "15:26:57\n"
     ]
    }
   ],
   "source": [
    "print(time.strftime(\"%d/%m/%Y\"))\n",
    "print(time.strftime(\"%H:%M:%S\"))"
   ]
  },
  {
   "cell_type": "code",
   "execution_count": 38,
   "metadata": {
    "collapsed": false
   },
   "outputs": [],
   "source": [
    "%%cython\n",
    "\n",
    "cdef class Simple:\n",
    "    cdef double fee\n",
    "    cdef double x[10]\n",
    "    def __init__(self):\n",
    "        self.fee = 10\n",
    "\n",
    "cdef class Test:\n",
    "    cdef Simple smp\n",
    "    def __init__(self):\n",
    "        self.smp = Simple()\n",
    "    "
   ]
  },
  {
   "cell_type": "code",
   "execution_count": null,
   "metadata": {
    "collapsed": true
   },
   "outputs": [],
   "source": []
  },
  {
   "cell_type": "code",
   "execution_count": 53,
   "metadata": {
    "collapsed": false
   },
   "outputs": [],
   "source": [
    "%%cython\n",
    "\"\"\"\n",
    "Classes and functions describing the electronics of the\n",
    "PMT plane FEE.\n",
    "(full model)\n",
    "VH, JJGC, November, 2016\n",
    "\"\"\"\n",
    "import numpy as np\n",
    "cimport numpy as np\n",
    "from scipy import signal\n",
    "import Database.loadDB as DB\n",
    "cimport ICython.Core.system_of_units as SU\n",
    "\n",
    "\n",
    "cdef class FEEGlobals:\n",
    "    cdef readonly double PMT_GAIN, x_slope, x_flat, FEE_GAIN, DAQ_GAIN, LSB, NOISE_I\n",
    "    cdef readonly NOISE_DAQ, C2, C1, R1, Zin, t_sample, time_step, f_sample, f_mc \n",
    "    cdef readonly f_LPF1, f_LPF2, ADC_TO_PES_LPF, ADC_TO_PES \n",
    "    cdef readonly int NBITS, OFFSET, CEILING \n",
    "    \n",
    "    def __init__(self):\n",
    "        units = SU.SystemOfUnits()\n",
    "\n",
    "        self.PMT_GAIN = 1.7e6\n",
    "        self.x_slope=5.*units.ns\n",
    "        self.x_flat=1.*units.ns\n",
    "        self.FEE_GAIN = 582.237*units.ohm\n",
    "        self.DAQ_GAIN = 1.25\n",
    "        self.NBITS = 12\n",
    "        self.LSB = 2.0*units.V/2**self.NBITS/self.DAQ_GAIN\n",
    "        self.NOISE_I = self.LSB/(self.FEE_GAIN*self.DAQ_GAIN)\n",
    "        self.NOISE_DAQ = 0.313*units.mV\n",
    "\n",
    "        self.C2 = 8*units.nF\n",
    "        self.C1 = 2714*units.nF\n",
    "        self.R1 = 1567*units.ohm\n",
    "        self.Zin = 62*units.ohm\n",
    "        self.t_sample = 25*units.ns\n",
    "        self.f_sample = 1./self.t_sample\n",
    "        self.time_step = 1.*units.ns\n",
    "        self.f_mc = 1./self.time_step\n",
    "        self.f_LPF1 = 3*units.MHZ\n",
    "        self.f_LPF2 = 10*units.MHZ\n",
    "        self.ADC_TO_PES_LPF = 24.1  # After LPF, comes out from spe area\n",
    "        self.ADC_TO_PES = 23.1\n",
    "        self.OFFSET = 2500  # offset adc\n",
    "        self.CEILING = 4096  # ceiling of adc\n",
    "\n",
    "    cpdef double i_to_adc(self):\n",
    "        \"\"\"\n",
    "        current to adc counts\n",
    "        \"\"\"\n",
    "        return self.FEE_GAIN/self.LSB\n",
    "\n",
    "\n",
    "    cpdef double i_to_v(self):\n",
    "        \"\"\"\n",
    "        current to voltage\n",
    "        \"\"\"\n",
    "        return self.FEE_GAIN\n",
    "\n",
    "\n",
    "    cpdef double v_to_adc(self):\n",
    "        \"\"\"\n",
    "        voltage to adc\n",
    "        \"\"\"\n",
    "        return 1./self.LSB\n",
    "\n",
    "    \n",
    "cdef class SPE:\n",
    "    \"\"\"\n",
    "    Represents a single photo-electron in the PMT\n",
    "    \"\"\"\n",
    "    \n",
    "    cdef FEEGlobals fee\n",
    "    cdef SU.SystemOfUnits units\n",
    "    cdef double A\n",
    "    \n",
    "    def __init__(self):\n",
    "        self.fee = FEEGlobals()\n",
    "        self.units = SU.SystemOfUnits()\n",
    "                \n",
    "    \n",
    "    cpdef np.ndarray[np.float64_t, ndim=1] spe(self):\n",
    "        \"\"\"\n",
    "        single photoelectron pulse\n",
    "        \"\"\"\n",
    "        \n",
    "        cdef double spe_base = self.fee.x_slope + self.fee.x_flat\n",
    "        self.A = self.fee.PMT_GAIN*self.units.eplus/spe_base\n",
    "        cdef int nns = int(self.fee.x_slope/self.fee.time_step)\n",
    "        cdef int nnf = int(self.fee.x_flat/self.fee.time_step)\n",
    " \n",
    "        cdef np.ndarray[np.float64_t, ndim=1] rise = np.linspace(0, self.A, num=nns)\n",
    "        cdef np.ndarray[np.float64_t, ndim=1] fall = np.linspace(self.A, 0, num=nns)\n",
    "        cdef np.ndarray[np.float64_t, ndim=1] flat = self.A*np.ones(nnf)\n",
    "        \n",
    "        return np.concatenate((rise, flat, fall))\n",
    "    \n",
    "    cpdef np.ndarray[np.float64_t, ndim=1] spe_pulse(self, float t0, float tmax, float time_step):\n",
    "        \"\"\"\n",
    "    \n",
    "        Returns a SPE pulse at time t0\n",
    "        with baseline extending in steps of time_step from 0 to tmax\n",
    "        determined by DELTA_L\n",
    "        \"\"\"\n",
    "        cdef int n = int(t0/time_step)\n",
    "        cdef int nmax = int(tmax/time_step)\n",
    "\n",
    "        cdef  np.ndarray[np.float64_t, ndim=1] DELTA = np.zeros(nmax)   # Dirac delta of size DELTA_L\n",
    "        DELTA[n] = 1\n",
    "    \n",
    "        cdef  np.ndarray[np.float64_t, ndim=1] spe_pulse = signal.convolve(DELTA, self.spe())\n",
    "\n",
    "        return spe_pulse\n",
    "    \n",
    "    cpdef np.ndarray[np.float64_t, ndim=1] spe_pulse_train(self,\n",
    "                                                           signal_start,\n",
    "                                                           signal_length, \n",
    "                                                           daq_window,\n",
    "                                                           time_step):\n",
    "        \"\"\"\n",
    "        Returns a train of SPE pulses between signal_start\n",
    "        and start+length in daq_window separated by tstep\n",
    "        \"\"\"\n",
    "        cdef int nmin = int(signal_start/time_step)\n",
    "        cdef int nmax = int((signal_start + signal_length)/time_step)\n",
    "        cdef int NMAX = int(daq_window/time_step)\n",
    "    \n",
    "        cdef  np.ndarray[np.float64_t, ndim=1] DELTA = np.zeros(NMAX)\n",
    "        DELTA[nmin:nmax+1] = 1.\n",
    "    \n",
    "        cdef np.ndarray[np.float64_t, ndim=1] spe_pulse = signal.convolve(DELTA, self.spe())\n",
    "\n",
    "        return spe_pulse\n",
    "    \n",
    "    cpdef np.ndarray[np.float64_t, ndim=1] spe_pulse_from_ivector(self, np.ndarray[np.int64_t, ndim=1] cnt):\n",
    "        \"\"\"\n",
    "        Returns a train of SPE pulses corresponding to vector cnt\n",
    "        \"\"\"\n",
    "\n",
    "        return signal.convolve(cnt[0:-len(self.spe())+1], self.spe())\n",
    "    \n",
    "    cpdef np.ndarray[np.float64_t, ndim=1] spe_pulse_from_fvector(self, np.ndarray[np.float64_t, ndim=1] cnt):\n",
    "        \"\"\"\n",
    "        Returns a train of SPE pulses corresponding to vector cnt\n",
    "        \"\"\"\n",
    "\n",
    "        return signal.convolve(cnt[0:-len(self.spe())+1], self.spe())\n",
    "\n",
    "\n",
    "cdef class FEE:\n",
    "    \"\"\"\n",
    "    Complete model of Front-end electronics.\n",
    "    \"\"\"\n",
    "    cdef double noise_FEEPMB_rms, noise_DAQ_rms\n",
    "    cdef FEEGlobals fee\n",
    "    cdef double coeff_blr_pmt[12] \n",
    "    cdef double coeff_c_pmt[12] \n",
    "    cdef double freq_LHPFd_pmt[12]\n",
    "    cdef double C1_pmt[12] \n",
    "    cdef double R1_pmt[12]\n",
    "    cdef double A1_pmt[12] \n",
    "    cdef double A2_pmt[12]\n",
    "    cdef double Cr_pmt[12]\n",
    "    cdef double ZC_pmt[12]\n",
    "    \n",
    "    \n",
    "    def __init__(self, coeff_blr_pmt, coeff_c_pmt, noise_FEEPMB_rms, noise_DAQ_rms):\n",
    "        self.fee = FEEGlobals()\n",
    "        self.units = SU.SystemOfUnits()\n",
    "        self.coeff_blr_pmt = coeff_blr_pmt\n",
    "        self.coeff_c_pmt = coeff_c_pmt\n",
    "        self.noise_FEEPMB_rms = noise_FEEPMB_rms\n",
    "        self.noise_DAQ_rms = noise_DAQ_rms\n",
    "        \n",
    "        self.A1 = self.fee.R1 * self.fee.Zin/(self.fee.R1 + self.fee.Zin)  # ohms\n",
    "        self.A2 = self.fee.FEE_GAIN/self.self.A1  # ohms/ohms = []\n",
    "        self.R =  self.fee.R1 + self.fee.Zin\n",
    "        self.Cr = 1. + self.fee.C1/self.fee.C2\n",
    "        self.C =  self.fee.C1/self.self.Cr\n",
    "        self.ZC = self.fee.Zin/self.self.Cr\n",
    "\n",
    "        self.freq_LHPF = 1./(self.R * self.C)\n",
    "        self.freq_LPF1 = self.fee.f_LPF1 * 2 * np.pi\n",
    "        self.freq_LPF2 = self.fee.f_LPF2 * 2 * np.pi\n",
    "\n",
    "        self.freq_LHPFd = self.freq_LHPF/(self.fee.f_sample * np.pi)\n",
    "        self.freq_LPF1d = self.freq_LPF1/(self.fee.f_sample * np.pi)\n",
    "        self.freq_LPF2d = self.freq_LPF2/(self.fee.f_sample  *np.pi)\n",
    "        \n",
    "        self.coeff_blr = self.freq_LHPFd * np.pi\n",
    "        self.freq_zero = 1./(self.R1 * self.C1)\n",
    "        self.coeff_c = self.freq_zero/(self.fee.f_sample * np.pi)\n",
    "        \n",
    "        cdef int i\n",
    "        for i in range(12):\n",
    "            self.freq_LHPFd_pmt[i] = self.coeff_blr_pmt[i]/np.pi\n",
    "            self.C1_pmt[i] = (self.coeff_blr_pmt[i]/self.coeff_c_pmt[i])*(self.fee.C2/np.pi)\n",
    "            self.R1_pmt[i] = 1./(self.coeff_c_pmt[i]*self.C1_pmt[i]*self.fee.f_sample*np.pi)\n",
    "            self.A1_pmt[i] = self.R1_pmt[i] * self.fee.Zin/(self.R1_pmt[i] + self.fee.Zin)  # ohms\n",
    "            self.A2_pmt[i] = self.fee.FEE_GAIN/self.A1_pmt[i]  # ohms/ohms = []\n",
    "            self.Cr_pmt[i] = 1. + self.C1_pmt[i]/self.fee.C2\n",
    "            self.ZC_pmt[i] = self.fee.Zin/self.Cr_pmt[i]\n",
    "        \n",
    "    \n",
    "    cpdef np.ndarray[np.float64_t, ndim=1] noise_adc(self, np.ndarray[np.float64_t, ndim=1] signal_in_adc):\n",
    "        \"\"\"\n",
    "        Equivalent Noise of the DAQ added at the output\n",
    "        of the system\n",
    "        input: a signal (in units of adc counts)\n",
    "        output: a signal with DAQ noise added\n",
    "        \"\"\"\n",
    "        \n",
    "        cdef double noise_daq = self.fee.NOISE_DAQ * self.fee.v_to_adc()\n",
    "        return signal_in_adc + np.random.normal(0,\n",
    "                                                noise_daq,\n",
    "                                                len(signal_in_adc))\n",
    "    \n",
    "    cpdef filter_sfee_lpf(self):\n",
    "        \"\"\"\n",
    "        output: buttersworth parameters of the equivalent LPF \n",
    "        \"\"\"\n",
    "        # LPF order 1\n",
    "        cdef np.ndarray[np.float64_t, ndim=1] a1, b1, a2, b2, b_aux, b\n",
    "        \n",
    "        b1, a1 = signal.butter(1, self.freq_LPF1d, 'low', analog=False)\n",
    "        # LPF order 4\n",
    "        b2, a2 = signal.butter(4, self.freq_LPF2d, 'low', analog=False)\n",
    "        # convolve LPF1, LPF2\n",
    "        a = np.convolve(a1, a2, mode='full')\n",
    "        b_aux = np.convolve(b1, b2, mode='full')\n",
    "        b = self.fee.FEE_GAIN*b_aux\n",
    "        return b, a\n",
    "    \n",
    "    cpdef filter_fee(self, int ipmt):\n",
    "        \"\"\"\n",
    "           ipmt = pmt number\n",
    "           output: buttersworth parameters of the equivalent FEE filter\n",
    "        \"\"\"\n",
    "\n",
    "    \n",
    "        cdef double coef = self.freq_LHPFd_pmt[ipmt]\n",
    "        cdef double A1 = self.A1_pmt[ipmt]\n",
    "        cdef double A2 = self.A2_pmt[ipmt]\n",
    "        cdef double ZC = self.ZC_pmt[ipmt]\n",
    "    \n",
    "        if ipmt == -1:\n",
    "            coef = self.freq_LHPFd\n",
    "            A1 = self.A1\n",
    "            A2 = self.A2\n",
    "            ZC = self.ZC\n",
    "    \n",
    "        cdef np.ndarray[np.float64_t, ndim=1] a1, b1, a2, b2, a0, b0, b11, a11, b21, a21 \n",
    "        cdef np.ndarray[np.float64_t, ndim=1] a_aux, b_aux, b_aux2, a, b\n",
    "    \n",
    "        b1, a1 = signal.butter(1, coef, 'high', analog=False)\n",
    "        b2, a2 = signal.butter(1, coef, 'low', analog=False)\n",
    "\n",
    "        b0 = b2*ZC + b1*A1  # in ohms\n",
    "        a0 = a1\n",
    "\n",
    "        # LPF order 1\n",
    "        b1l, a1l = signal.butter(1,\n",
    "                                 self.freq_LPF1d, 'low',\n",
    "                                 analog=False)\n",
    "        # LPF order 4\n",
    "        b2l, a2l = signal.butter(4,\n",
    "                                 self.freq_LPF2d, 'low',\n",
    "                                 analog=False)\n",
    "        # convolve HPF, LPF1\n",
    "        a_aux = np.convolve(a0, a1l, mode='full')\n",
    "        b_aux = np.convolve(b0, b1l, mode='full')\n",
    "    \n",
    "        # convolve HPF+LPF1, LPF2\n",
    "        a = np.convolve(a_aux, a2l, mode='full')\n",
    "        b_aux2 = np.convolve(b_aux, b2l, mode='full')\n",
    "        b = A2*b_aux2  # in ohms\n",
    "\n",
    "        return b, a\n",
    "   \n",
    "    cpdef filter_cleaner(self, int ipmt):\n",
    "        \"\"\"\n",
    "        cleans the input signal\n",
    "        \"\"\"\n",
    "        cdef double coef = self.coeff_c_pmt[ipmt]\n",
    "        if ipmt == -1:\n",
    "            coef = self.coeff_c\n",
    "        \n",
    "        cdef np.ndarray[np.float64_t, ndim=1] a, b\n",
    "    \n",
    "        b, a = signal.butter(1, coef, 'high', analog=False)\n",
    "\n",
    "        return b, a\n",
    "    \n",
    "    cpdef np.ndarray[np.float64_t, ndim=1] signal_v_fee(self, \n",
    "                                                        np.ndarray[np.float64_t, ndim=1] signal_i, \n",
    "                                                        int ipmt):\n",
    "        \"\"\"\n",
    "        input: signal_i = signal current (i = A)\n",
    "           pmt number\n",
    "        output: signal_v (in volts) with effect FEE\n",
    "\n",
    "        ++++++++++++++++++++++++++++++++++++++++++++++++\n",
    "        +++++++++++ PMT+FEE NOISE ADDED HERE +++++++++++\n",
    "        ++++++++++++++++++++++++++++++++++++++++++++++++\n",
    "\n",
    "        \"\"\"\n",
    "        \n",
    "        cdef np.ndarray[np.float64_t, ndim=1] noise_FEEin = np.zeros(len(signal_i))\n",
    "        if self.noise_FEEPMB_rms > 0:\n",
    "            noise_FEEin = np.random.normal(0,\n",
    "                                           self.noise_FEEPMB_rms,\n",
    "                                           len(signal_i))\n",
    "\n",
    "        # Equivalent Noise of the FEE + PMT BASE added at the input\n",
    "        # of the system to get the noise filtering effect\n",
    "        cdef np.ndarray[np.float64_t, ndim=1] a, b\n",
    "\n",
    "        b, a = self.filter_fee(ipmt)  # b in ohms\n",
    "        # filtered signal in I*R = V\n",
    "        return signal.lfilter(b, a, signal_i + noise_FEEin)\n",
    "    \n",
    "    \n",
    "    cpdef np.ndarray[np.float64_t, ndim=1] signal_clean(self, \n",
    "                                                        np.ndarray[np.float64_t, ndim=1] signal_fee, \n",
    "                                                        int ipmt):\n",
    "        \"\"\"\n",
    "        input: signal_fee = adc, convoluted\n",
    "           instance of class FEE\n",
    "        output: signal_c cleaning filter passed\n",
    "\n",
    "        \"\"\"\n",
    "        cdef np.ndarray[np.float64_t, ndim=1] a, b\n",
    "        b, a = self.filter_cleaner(ipmt)\n",
    "        return signal.lfilter(b, a, signal_fee)\n",
    "    \n",
    "    cpdef np.ndarray[np.float64_t, ndim=1] daq_decimator(self,\n",
    "                                                         float f_sample1, \n",
    "                                                         float f_sample2, \n",
    "                                                         np.ndarray[np.float64_t, ndim=1] signal_in):\n",
    "        \"\"\"\n",
    "        downscales the signal vector according to the\n",
    "        scale defined by f_sample1 (1 GHZ) and\n",
    "        f_sample2 (40 Mhz).\n",
    "        Includes anti-aliasing filter\n",
    "        \"\"\"\n",
    "\n",
    "        cdef int scale = int(f_sample1/f_sample2)\n",
    "        return signal.decimate(signal_in, scale, ftype='fir')\n",
    "\n"
   ]
  },
  {
   "cell_type": "code",
   "execution_count": 18,
   "metadata": {
    "collapsed": true
   },
   "outputs": [],
   "source": [
    "feg = FEEGlobals()\n",
    "units = SU.SystemOfUnits()"
   ]
  },
  {
   "cell_type": "code",
   "execution_count": 19,
   "metadata": {
    "collapsed": true
   },
   "outputs": [],
   "source": [
    "cspe = SPE()"
   ]
  },
  {
   "cell_type": "code",
   "execution_count": 20,
   "metadata": {
    "collapsed": true
   },
   "outputs": [],
   "source": [
    "spe = FE.SPE()"
   ]
  },
  {
   "cell_type": "code",
   "execution_count": 21,
   "metadata": {
    "collapsed": false
   },
   "outputs": [
    {
     "data": {
      "text/plain": [
       "[<matplotlib.lines.Line2D at 0x10e896110>]"
      ]
     },
     "execution_count": 21,
     "metadata": {},
     "output_type": "execute_result"
    },
    {
     "data": {
      "image/png": "[encoded data removed]",
      "text/plain": [
       "<matplotlib.figure.Figure at 0x10d961450>"
      ]
     },
     "metadata": {},
     "output_type": "display_data"
    }
   ],
   "source": [
    "plt.plot(spe.spe)"
   ]
  },
  {
   "cell_type": "code",
   "execution_count": 22,
   "metadata": {
    "collapsed": false
   },
   "outputs": [
    {
     "data": {
      "text/plain": [
       "[<matplotlib.lines.Line2D at 0x10daf12d0>]"
      ]
     },
     "execution_count": 22,
     "metadata": {},
     "output_type": "execute_result"
    },
    {
     "data": {
      "image/png": "[encoded data removed]",
      "text/plain": [
       "<matplotlib.figure.Figure at 0x10e771bd0>"
      ]
     },
     "metadata": {},
     "output_type": "display_data"
    }
   ],
   "source": [
    "plt.plot(cspe.spe())"
   ]
  },
  {
   "cell_type": "code",
   "execution_count": 23,
   "metadata": {
    "collapsed": false
   },
   "outputs": [
    {
     "data": {
      "text/plain": [
       "[<matplotlib.lines.Line2D at 0x10e0f7e50>]"
      ]
     },
     "execution_count": 23,
     "metadata": {},
     "output_type": "execute_result"
    },
    {
     "data": {
      "image/png": "[encoded data removed]",
      "text/plain": [
       "<matplotlib.figure.Figure at 0x10e757790>"
      ]
     },
     "metadata": {},
     "output_type": "display_data"
    }
   ],
   "source": [
    "plt.plot(FE.spe_pulse(spe,t0=100*units.ns, tmax=200*units.ns,\n",
    "              time_step=1*units.ns))"
   ]
  },
  {
   "cell_type": "code",
   "execution_count": 24,
   "metadata": {
    "collapsed": false
   },
   "outputs": [
    {
     "data": {
      "text/plain": [
       "[<matplotlib.lines.Line2D at 0x10e055d90>]"
      ]
     },
     "execution_count": 24,
     "metadata": {},
     "output_type": "execute_result"
    },
    {
     "data": {
      "image/png": "[encoded data removed]",
      "text/plain": [
       "<matplotlib.figure.Figure at 0x10d8cfb10>"
      ]
     },
     "metadata": {},
     "output_type": "display_data"
    }
   ],
   "source": [
    "plt.plot(cspe.spe_pulse(t0=100*units.ns, tmax=200*units.ns,\n",
    "              time_step=1*units.ns))"
   ]
  },
  {
   "cell_type": "code",
   "execution_count": 25,
   "metadata": {
    "collapsed": false
   },
   "outputs": [
    {
     "data": {
      "text/plain": [
       "[<matplotlib.lines.Line2D at 0x10e086590>]"
      ]
     },
     "execution_count": 25,
     "metadata": {},
     "output_type": "execute_result"
    },
    {
     "data": {
      "image/png": "[encoded data removed]",
      "text/plain": [
       "<matplotlib.figure.Figure at 0x10e05bd50>"
      ]
     },
     "metadata": {},
     "output_type": "display_data"
    }
   ],
   "source": [
    "plt.plot(FE.spe_pulse_train(spe,\n",
    "                    signal_start=2000*units.ns,\n",
    "                    signal_length=5000*units.ns, daq_window=20*units.mus,\n",
    "                    time_step=1*units.ns))"
   ]
  },
  {
   "cell_type": "code",
   "execution_count": 26,
   "metadata": {
    "collapsed": false
   },
   "outputs": [
    {
     "data": {
      "text/plain": [
       "[<matplotlib.lines.Line2D at 0x10e7c8a10>]"
      ]
     },
     "execution_count": 26,
     "metadata": {},
     "output_type": "execute_result"
    },
    {
     "data": {
      "image/png": "[encoded data removed]",
      "text/plain": [
       "<matplotlib.figure.Figure at 0x10e0c7dd0>"
      ]
     },
     "metadata": {},
     "output_type": "display_data"
    }
   ],
   "source": [
    "plt.plot(cspe.spe_pulse_train(signal_start=2000*units.ns,\n",
    "                    signal_length=5000*units.ns, daq_window=20*units.mus,\n",
    "                    time_step=1*units.ns))"
   ]
  },
  {
   "cell_type": "code",
   "execution_count": 27,
   "metadata": {
    "collapsed": true
   },
   "outputs": [],
   "source": [
    "cnt = np.random.poisson(5, 10000)"
   ]
  },
  {
   "cell_type": "code",
   "execution_count": 28,
   "metadata": {
    "collapsed": false
   },
   "outputs": [
    {
     "data": {
      "text/plain": [
       "[<matplotlib.lines.Line2D at 0x10e144a90>]"
      ]
     },
     "execution_count": 28,
     "metadata": {},
     "output_type": "execute_result"
    },
    {
     "data": {
      "image/png": "[encoded data removed]",
      "text/plain": [
       "<matplotlib.figure.Figure at 0x10e0a59d0>"
      ]
     },
     "metadata": {},
     "output_type": "display_data"
    }
   ],
   "source": [
    "plt.plot(FE.spe_pulse_from_vector(spe, cnt))"
   ]
  },
  {
   "cell_type": "code",
   "execution_count": 29,
   "metadata": {
    "collapsed": false
   },
   "outputs": [
    {
     "data": {
      "text/plain": [
       "[<matplotlib.lines.Line2D at 0x10e25a610>]"
      ]
     },
     "execution_count": 29,
     "metadata": {},
     "output_type": "execute_result"
    },
    {
     "data": {
      "image/png": "[encoded data removed]",
      "text/plain": [
       "<matplotlib.figure.Figure at 0x10e160410>"
      ]
     },
     "metadata": {},
     "output_type": "display_data"
    }
   ],
   "source": [
    "plt.plot(cspe.spe_pulse_from_ivector(cnt))"
   ]
  },
  {
   "cell_type": "code",
   "execution_count": null,
   "metadata": {
    "collapsed": true
   },
   "outputs": [],
   "source": []
  }
 ],
 "metadata": {
  "kernelspec": {
   "display_name": "Python 2",
   "language": "python",
   "name": "python2"
  },
  "language_info": {
   "codemirror_mode": {
    "name": "ipython",
    "version": 2
   },
   "file_extension": ".py",
   "mimetype": "text/x-python",
   "name": "python",
   "nbconvert_exporter": "python",
   "pygments_lexer": "ipython2",
   "version": "2.7.11"
  }
 },
 "nbformat": 4,
 "nbformat_minor": 0
}
