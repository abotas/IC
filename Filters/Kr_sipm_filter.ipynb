{
 "cells": [
  {
   "cell_type": "markdown",
   "metadata": {},
   "source": [
    "# Kr SiPM filter"
   ]
  },
  {
   "cell_type": "markdown",
   "metadata": {},
   "source": [
    "First runs with the detector have several problems in data adquisition. The SiPMs electronics saturate when an alpha is produced in the detector and the control software must be restarted, which takes about 1 second. This causes some events to be incomplete. There are two similar scenarios:\n",
    "1.- When the first event is taken, the SiPMs are saturated and the SiPM data is not stored for all the events in the same file.\n",
    "2.- If the first event contains SiPM data, it is not guaranteed that all SiPM channels are alive (not saturated). In this case the sofware fills the dead channels' waveforms with 2\\*\\*16 - 1.\n",
    "\n",
    "We must filter out these kind of events and keep only those that are in good shape for an analysis. More over, we take this oportunity to merge the (filtered) events into a single file."
   ]
  },
  {
   "cell_type": "code",
   "execution_count": null,
   "metadata": {
    "collapsed": true
   },
   "outputs": [],
   "source": [
    "from __future__ import print_function\n",
    "import sys\n",
    "import glob\n",
    "import tables as tb\n",
    "import numpy as np"
   ]
  },
  {
   "cell_type": "code",
   "execution_count": null,
   "metadata": {
    "collapsed": true
   },
   "outputs": [],
   "source": [
    "def create_new_file(h5out, h5in, nfiles):\n",
    "    NEVT, NPMT, PMTWL = h5in.root.RD.pmtrwf.shape\n",
    "    NEVT, NSIPM, SIPMWL = h5in.root.RD.sipmrwf.shape\n",
    "    NEVT *= nfiles\n",
    "\n",
    "    \n",
    "    rungroup = h5out.create_group(h5out.root, \"Run\")\n",
    "    h5in.root.Run.runInfo.copy(newparent=rungroup)\n",
    "    evt_out = h5out.create_earray(h5out.root.Run, \"event_number\",\n",
    "                                  atom=tb.Int16Atom(),\n",
    "                                  shape=(0,),\n",
    "                                  expectedrows=NEVT)\n",
    "    \n",
    "    detgroup = h5out.create_group(h5out.root, \"Detector\")\n",
    "    h5in.root.Detector.DetectorGeometry.copy(newparent=detgroup)\n",
    "\n",
    "    snsgroup = h5out.create_group(h5out.root, \"Sensors\")\n",
    "    h5in.root.Sensors.DataPMT.copy(newparent=snsgroup)\n",
    "    h5in.root.Sensors.DataBLR.copy(newparent=snsgroup)\n",
    "    h5in.root.Sensors.DataSiPM.copy(newparent=snsgroup)\n",
    "    \n",
    "    h5out.create_group(h5out.root,\"RD\")\n",
    "    pmt_out = h5out.create_earray(h5out.root.RD, \"pmtrwf\",\n",
    "                                  atom=tb.Int16Atom(),\n",
    "                                  shape=(0, NPMT, PMTWL),\n",
    "                                  expectedrows=NEVT)\n",
    "\n",
    "    blr_out = h5out.create_earray(h5out.root.RD, \"pmtblr\",\n",
    "                                  atom=tb.Int16Atom(),\n",
    "                                  shape=(0, NPMT, PMTWL),\n",
    "                                  expectedrows=NEVT)\n",
    "\n",
    "    sipm_out = h5out.create_earray(h5out.root.RD, \"sipmrwf\",\n",
    "                                   atom=tb.Int16Atom(),\n",
    "                                   shape=(0, NSIPM, SIPMWL),\n",
    "                                   expectedrows=NEVT)\n",
    "    return evt_out, pmt_out, blr_out, sipm_out\n",
    "    \n",
    "def filter_events(h5in, fill_number = 2**16 - 1):\n",
    "    if \"/RD/sipmrwf\" not in h5in:\n",
    "        return np.array([])\n",
    "    else:\n",
    "        return np.arange(h5in.root.RD.sipmrwf.shape[0])\n",
    "    \"\"\"\n",
    "    sipmrwf = h5in.root.RD.sipmrwf\n",
    "    print([fill_number in wf for wf in sipmrwf])\n",
    "    valid_events = [i for i, wf in enumerate(sipmrwf) if fill_number not in wf]\n",
    "    return valid_events\n",
    "    \"\"\"\n",
    "\n",
    "def Kr_sipm_filter(outputfilename, *inputfilenames):\n",
    "    with tb.open_file(outputfilename, \"w\", filters=tb.Filters(complevel=4, complib=\"zlib\")) as h5out:\n",
    "        create_file = True\n",
    "        n_events_in = 0\n",
    "        n_events_out = 0\n",
    "        for i, filename in enumerate(inputfilenames):\n",
    "            print(\"Opening\",filename)\n",
    "            with tb.open_file(filename, \"r\") as h5in:\n",
    "                filtered_events = filter_events(h5in)\n",
    "                n_events_in += h5in.root.RD.pmtrwf.shape[0]\n",
    "                n_events_out += len(filtered_events)\n",
    "                if create_file and filtered_events.size:\n",
    "                    evt_out, pmt_out, blr_out, sipm_out = create_new_file(h5out, h5in, len(inputfilenames))\n",
    "                    create_file = False\n",
    "                for evt in filtered_events:\n",
    "                    evt_out.append(h5in.root.Run.event_number[evt][np.newaxis])\n",
    "                    pmt_out.append(h5in.root.RD.pmtrwf[evt][np.newaxis])\n",
    "                    blr_out.append(h5in.root.RD.pmtblr[evt][np.newaxis])\n",
    "                    sipm_out.append(h5in.root.RD.sipmrwf[evt][np.newaxis])\n",
    "        pmt_out.flush()\n",
    "        blr_out.flush()\n",
    "        sipm_out.flush()\n",
    "    print(\"# events in = {}, # events out = {}, ratio = {}\".format(n_events_in, n_events_out, n_events_out*1.0/n_events_in))"
   ]
  },
  {
   "cell_type": "raw",
   "metadata": {},
   "source": [
    "infiles = glob.glob(\"./../../Shifts/data/run_2545.gdc1next.*.next1el_2545.root.h5\")\n",
    "outfile = \"./../../Shifts/data/merged.h5\"\n",
    "Kr_sipm_filter(outfile, *infiles)"
   ]
  },
  {
   "cell_type": "raw",
   "metadata": {},
   "source": [
    "%ls -lha ../../Shifts/data/*"
   ]
  },
  {
   "cell_type": "code",
   "execution_count": null,
   "metadata": {
    "collapsed": false
   },
   "outputs": [],
   "source": [
    "#f.close()\n",
    "f=tb.open_file(\"./../../Shifts/data/merged.h5\")"
   ]
  },
  {
   "cell_type": "code",
   "execution_count": null,
   "metadata": {
    "collapsed": false
   },
   "outputs": [],
   "source": [
    "c = [ 2**16-1 in f.root.RD.sipmrwf[i] for i in range(2888) ]\n",
    "print(\"Number of events with 2**16-1\", sum( map( int, c ) ))\n",
    "c = [ -1 in f.root.RD.sipmrwf[i] for i in range(2888) ]\n",
    "print(\"Number of events with -1\", sum( map( int, c ) ))"
   ]
  },
  {
   "cell_type": "code",
   "execution_count": null,
   "metadata": {
    "collapsed": false
   },
   "outputs": [],
   "source": [
    "%matplotlib inline\n",
    "import matplotlib.pyplot as plt\n",
    "import mplFunctions as mpl\n",
    "import sensorFunctions as sns\n",
    "\n",
    "sipmdf = sns.read_data_sensors(f.root.Sensors.DataSiPM)"
   ]
  },
  {
   "cell_type": "code",
   "execution_count": null,
   "metadata": {
    "collapsed": false
   },
   "outputs": [],
   "source": [
    "sipmrwf = f.root.RD.sipmrwf\n",
    "evt=0\n",
    "maxsipm = np.unravel_index(sipmrwf[evt].argmax(), sipmrwf[evt].shape)[0]\n",
    "print(\"SiPM with greatest peak is at index {} with ID {}\".format(maxsipm, sipmdf.ix[maxsipm].channel))\n",
    "\n",
    "#plt.plot(sipmrwf[evt, maxsipm, :])\n",
    "#plt.plot(sipmrwf[evt, 800, :])\n",
    "plt.plot(sipmrwf[evt].T)\n",
    "plt.xlabel(\"time ($\\mu$s)\")\n",
    "plt.ylabel(\"Energy (adc)\")"
   ]
  },
  {
   "cell_type": "code",
   "execution_count": null,
   "metadata": {
    "collapsed": true
   },
   "outputs": [],
   "source": []
  }
 ],
 "metadata": {
  "anaconda-cloud": {},
  "kernelspec": {
   "display_name": "Python [conda root]",
   "language": "python",
   "name": "conda-root-py"
  },
  "language_info": {
   "codemirror_mode": {
    "name": "ipython",
    "version": 2
   },
   "file_extension": ".py",
   "mimetype": "text/x-python",
   "name": "python",
   "nbconvert_exporter": "python",
   "pygments_lexer": "ipython2",
   "version": "2.7.12"
  }
 },
 "nbformat": 4,
 "nbformat_minor": 1
}
