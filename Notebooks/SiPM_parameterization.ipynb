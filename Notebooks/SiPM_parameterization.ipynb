{
 "cells": [
  {
   "cell_type": "markdown",
   "metadata": {},
   "source": [
    "# SiPM parameterization\n",
    "\n"
   ]
  },
  {
   "cell_type": "code",
   "execution_count": 1,
   "metadata": {
    "collapsed": false
   },
   "outputs": [
    {
     "name": "stdout",
     "output_type": "stream",
     "text": [
      "Populating the interactive namespace from numpy and matplotlib\n"
     ]
    }
   ],
   "source": [
    "%pylab inline"
   ]
  },
  {
   "cell_type": "code",
   "execution_count": 2,
   "metadata": {
    "collapsed": false
   },
   "outputs": [],
   "source": [
    "import numpy as np\n",
    "import math\n",
    "import matplotlib.pyplot as plt\n",
    "from matplotlib.patches import Ellipse\n",
    "import random as rd\n",
    "import sys\n",
    "\n",
    "# Add the Utilties directory to the system path so the file sipm_param can be imported.\n",
    "sys.path.append(\"../Utilities\")\n",
    "from sipm_param import *"
   ]
  },
  {
   "cell_type": "markdown",
   "metadata": {
    "collapsed": true
   },
   "source": [
    "The parameterization is done in two time bins and can be accessed through the function sipm_par(tbin, r) defined in Utilities/sipm_param.py.  Here tbin is the time bin and r is the radial distance from the EL point at which the SiPM of interest is located."
   ]
  },
  {
   "cell_type": "markdown",
   "metadata": {},
   "source": [
    "## SiPM response for different time bins"
   ]
  },
  {
   "cell_type": "code",
   "execution_count": 3,
   "metadata": {
    "collapsed": false
   },
   "outputs": [
    {
     "data": {
      "image/png": "[encoded data removed]",
      "text/plain": [
       "<matplotlib.figure.Figure at 0x10ee35910>"
      ]
     },
     "metadata": {},
     "output_type": "display_data"
    }
   ],
   "source": [
    "# Plot the SiPM response out to r = 20 (much beyond this the response becomes negative and should not be considered)\n",
    "rr = np.arange(0, 20, 0.01)\n",
    "\n",
    "# Time bin 0\n",
    "p0 = sipm_par(0, rr)\n",
    "plt.plot(rr, p0, color='blue', lw=2, label='Time bin 0')\n",
    "\n",
    "# Time bin 1\n",
    "p1 = sipm_par(1, rr)\n",
    "plt.plot(rr, p1, color='green', lw=2, label='Time bin 1')\n",
    "\n",
    "lnd = plt.legend(loc=1,frameon=False,handletextpad=0);"
   ]
  },
  {
   "cell_type": "markdown",
   "metadata": {},
   "source": [
    "## How to use the parameterization"
   ]
  },
  {
   "cell_type": "markdown",
   "metadata": {},
   "source": [
    "For photons generated at a point (x,y), an SiPM at a point ($x_i$,$y_i$) will observe a number of photons $n$ (on average) equal to\n",
    "\n",
    "$n = N_0p_{0}(r) + N_1p_{1}(r)$\n",
    "\n",
    "where $r = \\sqrt{(x-x_i)^2 + (y-y_i)^2}$ and $N_0$ and $N_1$ are the number of photons generated in times that fall in the first and second time bins of the SiPM responses.  Let us assume that:\n",
    "\n",
    "1. The SiPM response bins are 1 $\\mu$s in length\n",
    "2. Photons are emitted uniformly across the gap over a time of $\\Delta t = 2$ $\\mu$s.\n",
    "\n",
    "With these assumptions the number of photons detected according to the response in time bin 0 is equal to that detected according to the response in time bin 2, or $N_{0} = N_{1} = N/2$.  \n",
    "\n",
    "To avoid statistics of photon detection we assume an \"infinite\" amount of light is generated at each EL point, $N \\rightarrow \\infty$.  Therefore we will generate a pattern on a set of SiPMs according to the response curves assuming $N = 1$, refrain from introducing any fluctuations in the number of detected photons, and then normalize the response map to a mean of 0 and standard deviation of 1."
   ]
  },
  {
   "cell_type": "code",
   "execution_count": 4,
   "metadata": {
    "collapsed": true
   },
   "outputs": [],
   "source": [
    "# Geometry definition.\n",
    "nsipm = 8\n",
    "sipm_pitch = 10.       # distance between SiPMs\n",
    "sipm_edge_width = 5.   # distance between SiPM and edge of board\n",
    "\n",
    "# Variables for computing an EL point location.\n",
    "xlen = 2*sipm_edge_width + 7*sipm_pitch       # (mm) side length of rectangle\n",
    "ylen = 2*sipm_edge_width + 7*sipm_pitch       # (mm) side length of rectangle\n",
    "wbin = 2.0                                    # (mm) bin width\n",
    "\n",
    "# Compute the positions of the SiPMs.\n",
    "pos_x = np.ones(nsipm**2)*sipm_edge_width + (np.ones(nsipm*nsipm)*range(nsipm**2) % nsipm)*sipm_pitch\n",
    "pos_y = np.ones(nsipm**2)*sipm_edge_width + np.floor(np.ones(nsipm*nsipm)*range(nsipm**2) / nsipm)*sipm_pitch"
   ]
  },
  {
   "cell_type": "code",
   "execution_count": 19,
   "metadata": {
    "collapsed": false
   },
   "outputs": [],
   "source": [
    "# Generate a random EL point and compute the probabilities of detection for each SiPM.\n",
    "xpt = rd.random()*xlen\n",
    "ypt = rd.random()*ylen\n",
    "\n",
    "rr = np.array([math.sqrt((xi - xpt)**2 + (yi - ypt)**2) for xi,yi in zip(pos_x,pos_y)])\n",
    "probs = 0.5*(sipm_par(0, rr) + sipm_par(1, rr))\n",
    "\n",
    "# Shift and normalize the probabilities.\n",
    "minprob = min(probs); probs += abs(minprob)\n",
    "maxprob = max(probs); probs /= maxprob"
   ]
  },
  {
   "cell_type": "code",
   "execution_count": 21,
   "metadata": {
    "collapsed": false
   },
   "outputs": [
    {
     "data": {
      "image/png": "[encoded data removed]",
      "text/plain": [
       "<matplotlib.figure.Figure at 0x10f234b10>"
      ]
     },
     "metadata": {},
     "output_type": "display_data"
    }
   ],
   "source": [
    "# Set up a plot.\n",
    "fig = plt.figure();\n",
    "ax1 = fig.add_subplot(111);\n",
    "ax1.axis([0, xlen, 0, ylen]);\n",
    "\n",
    "# Create circles and plot them according to the probabilities.    \n",
    "for x,y,p in zip(pos_x, pos_y, probs):\n",
    "\n",
    "    #print \"Placing sipm at ({0},{1}) with prob {2}\".format(x,y,p);\n",
    "    \n",
    "    # Set up the location; note we must invert y due to a pi rotation\n",
    "    #  about the x-axis.\n",
    "    r = Ellipse(xy=(x,y), width=2., height=2.);\n",
    "    r.set_facecolor('0');\n",
    "    r.set_alpha(0.02 + 0.98*p);\n",
    "    ax1.add_artist(r);\n",
    "    mrk = Ellipse(xy=(xpt,ypt), width=2., height=2.);\n",
    "    mrk.set_facecolor('r');\n",
    "    ax1.add_artist(mrk);\n",
    "\n",
    "# Show the plot.\n",
    "plt.xlabel(\"x (mm)\");\n",
    "plt.ylabel(\"y (mm)\");"
   ]
  },
  {
   "cell_type": "code",
   "execution_count": null,
   "metadata": {
    "collapsed": true
   },
   "outputs": [],
   "source": []
  }
 ],
 "metadata": {
  "kernelspec": {
   "display_name": "Python 2",
   "language": "python",
   "name": "python2"
  },
  "language_info": {
   "codemirror_mode": {
    "name": "ipython",
    "version": 2
   },
   "file_extension": ".py",
   "mimetype": "text/x-python",
   "name": "python",
   "nbconvert_exporter": "python",
   "pygments_lexer": "ipython2",
   "version": "2.7.11"
  }
 },
 "nbformat": 4,
 "nbformat_minor": 0
}
