{
 "cells": [
  {
   "cell_type": "markdown",
   "metadata": {},
   "source": [
    "# LSC Notebook"
   ]
  },
  {
   "cell_type": "markdown",
   "metadata": {},
   "source": [
    "## LSC studies"
   ]
  },
  {
   "cell_type": "code",
   "execution_count": 1,
   "metadata": {
    "collapsed": true
   },
   "outputs": [],
   "source": [
    "from __future__ import print_function"
   ]
  },
  {
   "cell_type": "code",
   "execution_count": 2,
   "metadata": {
    "collapsed": true
   },
   "outputs": [],
   "source": [
    "%matplotlib inline"
   ]
  },
  {
   "cell_type": "code",
   "execution_count": 3,
   "metadata": {
    "collapsed": true
   },
   "outputs": [],
   "source": [
    "%load_ext autoreload"
   ]
  },
  {
   "cell_type": "code",
   "execution_count": 4,
   "metadata": {
    "collapsed": true
   },
   "outputs": [],
   "source": [
    "%autoreload 2"
   ]
  },
  {
   "cell_type": "code",
   "execution_count": 5,
   "metadata": {
    "collapsed": true
   },
   "outputs": [],
   "source": [
    "import matplotlib.pyplot as plt\n",
    "import pandas as pd\n",
    "import tables as tb\n",
    "import numpy as np\n",
    "import MPLibFunctions as mpl\n",
    "import PDFunctions as pdf\n",
    "from Util import *\n",
    "import FEParam as FP\n",
    "from scipy import signal as SGN"
   ]
  },
  {
   "cell_type": "code",
   "execution_count": 6,
   "metadata": {
    "collapsed": false
   },
   "outputs": [
    {
     "name": "stdout",
     "output_type": "stream",
     "text": [
      "\u001b[31mpulseVar_r2033.h5\u001b[m\u001b[m*\r\n"
     ]
    }
   ],
   "source": [
    "%ls ../../../data/LSC/"
   ]
  },
  {
   "cell_type": "code",
   "execution_count": 7,
   "metadata": {
    "collapsed": true
   },
   "outputs": [],
   "source": [
    "h5f =tb.open_file('../../../data/LSC/pulseVar_r2033.h5')"
   ]
  },
  {
   "cell_type": "code",
   "execution_count": 8,
   "metadata": {
    "collapsed": false
   },
   "outputs": [
    {
     "data": {
      "text/plain": [
       "File(filename=../../../data/LSC/pulseVar_r2033.h5, title='', mode='r', root_uep='/', filters=Filters(complevel=0, shuffle=False, fletcher32=False, least_significant_digit=None))\n",
       "/ (RootGroup) ''\n",
       "/pmtrd (EArray(2, 6, 48000), zlib(1)) ''\n",
       "  atom := Float32Atom(shape=(), dflt=0.0)\n",
       "  maindim := 0\n",
       "  flavor := 'numpy'\n",
       "  byteorder := 'little'\n",
       "  chunkshape := (1, 1, 32768)\n",
       "/sipmrd (EArray(2, 1215, 1200), zlib(1)) ''\n",
       "  atom := Float32Atom(shape=(), dflt=0.0)\n",
       "  maindim := 0\n",
       "  flavor := 'numpy'\n",
       "  byteorder := 'little'\n",
       "  chunkshape := (1, 50, 1200)\n",
       "/Detector (Group) ''\n",
       "/Detector/DetectorGeometry (Table(1,)) ''\n",
       "  description := {\n",
       "  \"x_det\": Float32Col(shape=(2,), dflt=0.0, pos=0),\n",
       "  \"y_det\": Float32Col(shape=(2,), dflt=0.0, pos=1),\n",
       "  \"z_det\": Float32Col(shape=(2,), dflt=0.0, pos=2),\n",
       "  \"r_det\": Float32Col(shape=(), dflt=0.0, pos=3)}\n",
       "  byteorder := 'little'\n",
       "  chunkshape := (2340,)\n",
       "/Sensors (Group) ''\n",
       "/Sensors/DataPMT (Table(6,)) ''\n",
       "  description := {\n",
       "  \"channel\": Int32Col(shape=(), dflt=0, pos=0),\n",
       "  \"active\": Int32Col(shape=(), dflt=0, pos=1),\n",
       "  \"position\": Float32Col(shape=(3,), dflt=0.0, pos=2),\n",
       "  \"gain\": Float32Col(shape=(), dflt=0.0, pos=3),\n",
       "  \"adc_to_pes\": Float32Col(shape=(), dflt=0.0, pos=4)}\n",
       "  byteorder := 'little'\n",
       "  chunkshape := (2340,)\n",
       "/Sensors/DataSiPM (Table(1789,)) ''\n",
       "  description := {\n",
       "  \"channel\": Int32Col(shape=(), dflt=0, pos=0),\n",
       "  \"active\": Int32Col(shape=(), dflt=0, pos=1),\n",
       "  \"position\": Float32Col(shape=(3,), dflt=0.0, pos=2),\n",
       "  \"gain\": Float32Col(shape=(), dflt=0.0, pos=3),\n",
       "  \"adc_to_pes\": Float32Col(shape=(), dflt=0.0, pos=4)}\n",
       "  byteorder := 'little'\n",
       "  chunkshape := (2340,)"
      ]
     },
     "execution_count": 8,
     "metadata": {},
     "output_type": "execute_result"
    }
   ],
   "source": [
    "h5f"
   ]
  },
  {
   "cell_type": "code",
   "execution_count": 9,
   "metadata": {
    "collapsed": true
   },
   "outputs": [],
   "source": [
    "pmtrwf = h5f.root.pmtrd"
   ]
  },
  {
   "cell_type": "code",
   "execution_count": 10,
   "metadata": {
    "collapsed": false
   },
   "outputs": [
    {
     "data": {
      "text/plain": [
       "[<matplotlib.lines.Line2D at 0x10db40250>]"
      ]
     },
     "execution_count": 10,
     "metadata": {},
     "output_type": "execute_result"
    },
    {
     "data": {
      "image/png": "[encoded data removed]",
      "text/plain": [
       "<matplotlib.figure.Figure at 0x10d93e7d0>"
      ]
     },
     "metadata": {},
     "output_type": "display_data"
    }
   ],
   "source": [
    "plt.plot(pmtrwf[0,0])"
   ]
  },
  {
   "cell_type": "code",
   "execution_count": 13,
   "metadata": {
    "collapsed": false
   },
   "outputs": [
    {
     "data": {
      "text/plain": [
       "[<matplotlib.lines.Line2D at 0x10e730050>]"
      ]
     },
     "execution_count": 13,
     "metadata": {},
     "output_type": "execute_result"
    },
    {
     "data": {
      "image/png": "[encoded data removed]",
      "text/plain": [
       "<matplotlib.figure.Figure at 0x10e050410>"
      ]
     },
     "metadata": {},
     "output_type": "display_data"
    }
   ],
   "source": [
    "ax1 = plt.subplot(1,1,1)\n",
    "ax1.set_xlim([0, 1000])\n",
    "plt.plot(pmtrwf[0,0])"
   ]
  },
  {
   "cell_type": "code",
   "execution_count": 14,
   "metadata": {
    "collapsed": true
   },
   "outputs": [],
   "source": [
    "pmt0 = pmtrwf[0,0]"
   ]
  },
  {
   "cell_type": "code",
   "execution_count": 15,
   "metadata": {
    "collapsed": false
   },
   "outputs": [
    {
     "data": {
      "text/plain": [
       "array([  3.53127213e-42,   3.53267343e-42,   3.53127213e-42,\n",
       "         3.53267343e-42,   3.53407473e-42,   3.53127213e-42,\n",
       "         3.53127213e-42,   3.53127213e-42,   3.53267343e-42,\n",
       "         3.52987083e-42,   3.53267343e-42,   3.53267343e-42,\n",
       "         3.53267343e-42,   3.53407473e-42,   3.53127213e-42,\n",
       "         3.53267343e-42,   3.53127213e-42,   3.53127213e-42,\n",
       "         3.53267343e-42,   3.53267343e-42,   3.53127213e-42,\n",
       "         3.53267343e-42,   3.53267343e-42,   3.53127213e-42,\n",
       "         3.53127213e-42,   3.53127213e-42,   3.53267343e-42,\n",
       "         3.53127213e-42,   3.52987083e-42,   3.52566694e-42,\n",
       "         3.52006174e-42,   3.51585785e-42,   3.51165395e-42,\n",
       "         3.50604876e-42,   3.49904227e-42,   3.49483837e-42,\n",
       "         3.49904227e-42,   3.50745006e-42,   3.52006174e-42,\n",
       "         3.53127213e-42,   3.53687732e-42,   3.53967992e-42,\n",
       "         3.53827862e-42,   3.53687732e-42,   3.53267343e-42,\n",
       "         3.53267343e-42,   3.53267343e-42,   3.53267343e-42,\n",
       "         3.53267343e-42,   3.53267343e-42], dtype=float32)"
      ]
     },
     "execution_count": 15,
     "metadata": {},
     "output_type": "execute_result"
    }
   ],
   "source": [
    "pmt0[200:250]"
   ]
  },
  {
   "cell_type": "code",
   "execution_count": 17,
   "metadata": {
    "collapsed": false
   },
   "outputs": [
    {
     "data": {
      "text/plain": [
       "[<matplotlib.lines.Line2D at 0x10ebb6c90>]"
      ]
     },
     "execution_count": 17,
     "metadata": {},
     "output_type": "execute_result"
    },
    {
     "data": {
      "image/png": "[encoded data removed]",
      "text/plain": [
       "<matplotlib.figure.Figure at 0x10e9b3a90>"
      ]
     },
     "metadata": {},
     "output_type": "display_data"
    }
   ],
   "source": [
    "ax1 = plt.subplot(1,1,1)\n",
    "ax1.set_xlim([1000, 3000])\n",
    "plt.plot(pmtrwf[0,0])"
   ]
  },
  {
   "cell_type": "code",
   "execution_count": null,
   "metadata": {
    "collapsed": true
   },
   "outputs": [],
   "source": []
  },
  {
   "cell_type": "code",
   "execution_count": null,
   "metadata": {
    "collapsed": true
   },
   "outputs": [],
   "source": []
  }
 ],
 "metadata": {
  "kernelspec": {
   "display_name": "Python 2",
   "language": "python",
   "name": "python2"
  },
  "language_info": {
   "codemirror_mode": {
    "name": "ipython",
    "version": 2
   },
   "file_extension": ".py",
   "mimetype": "text/x-python",
   "name": "python",
   "nbconvert_exporter": "python",
   "pygments_lexer": "ipython2",
   "version": "2.7.11"
  }
 },
 "nbformat": 4,
 "nbformat_minor": 0
}
