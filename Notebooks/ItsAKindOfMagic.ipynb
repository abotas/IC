{
 "cells": [
  {
   "cell_type": "markdown",
   "metadata": {},
   "source": [
    "# It's a kind of magic"
   ]
  },
  {
   "cell_type": "markdown",
   "metadata": {},
   "source": [
    "## A notebook to keep notes of magic commands and other tricks of the Jupiter trade"
   ]
  },
  {
   "cell_type": "code",
   "execution_count": 6,
   "metadata": {
    "collapsed": true
   },
   "outputs": [],
   "source": [
    "from __future__ import print_function"
   ]
  },
  {
   "cell_type": "code",
   "execution_count": 7,
   "metadata": {
    "collapsed": false
   },
   "outputs": [],
   "source": [
    "from IPython.display import YouTubeVideo"
   ]
  },
  {
   "cell_type": "code",
   "execution_count": 9,
   "metadata": {
    "collapsed": false
   },
   "outputs": [],
   "source": [
    "#YouTubeVideo('https://www.youtube.com/watch?v=0p_1QSUsbsM')"
   ]
  },
  {
   "cell_type": "code",
   "execution_count": 12,
   "metadata": {
    "collapsed": true
   },
   "outputs": [],
   "source": [
    "from IPython.display import Image"
   ]
  },
  {
   "cell_type": "code",
   "execution_count": 13,
   "metadata": {
    "collapsed": false
   },
   "outputs": [
    {
     "data": {
      "image/jpeg": "[encoded data removed]",
      "text/plain": [
       "<IPython.core.display.Image object>"
      ]
     },
     "execution_count": 13,
     "metadata": {},
     "output_type": "execute_result"
    }
   ],
   "source": [
    "Image(filename='../Images/Magic.jpg') "
   ]
  },
  {
   "cell_type": "code",
   "execution_count": 14,
   "metadata": {
    "collapsed": false
   },
   "outputs": [
    {
     "name": "stdout",
     "output_type": "stream",
     "text": [
      "Populating the interactive namespace from numpy and matplotlib\n"
     ]
    }
   ],
   "source": [
    "%pylab inline"
   ]
  },
  {
   "cell_type": "code",
   "execution_count": 15,
   "metadata": {
    "collapsed": false
   },
   "outputs": [
    {
     "data": {
      "application/json": {
       "cell": {
        "!": "OSMagics",
        "HTML": "Other",
        "SVG": "Other",
        "bash": "Other",
        "capture": "ExecutionMagics",
        "debug": "ExecutionMagics",
        "file": "Other",
        "html": "DisplayMagics",
        "javascript": "DisplayMagics",
        "js": "DisplayMagics",
        "latex": "DisplayMagics",
        "perl": "Other",
        "prun": "ExecutionMagics",
        "pypy": "Other",
        "python": "Other",
        "python2": "Other",
        "python3": "Other",
        "ruby": "Other",
        "script": "ScriptMagics",
        "sh": "Other",
        "svg": "DisplayMagics",
        "sx": "OSMagics",
        "system": "OSMagics",
        "time": "ExecutionMagics",
        "timeit": "ExecutionMagics",
        "writefile": "OSMagics"
       },
       "line": {
        "alias": "OSMagics",
        "alias_magic": "BasicMagics",
        "autocall": "AutoMagics",
        "automagic": "AutoMagics",
        "autosave": "KernelMagics",
        "bookmark": "OSMagics",
        "cat": "Other",
        "cd": "OSMagics",
        "clear": "KernelMagics",
        "colors": "BasicMagics",
        "config": "ConfigMagics",
        "connect_info": "KernelMagics",
        "cp": "Other",
        "debug": "ExecutionMagics",
        "dhist": "OSMagics",
        "dirs": "OSMagics",
        "doctest_mode": "BasicMagics",
        "ed": "Other",
        "edit": "KernelMagics",
        "env": "OSMagics",
        "gui": "BasicMagics",
        "hist": "Other",
        "history": "HistoryMagics",
        "killbgscripts": "ScriptMagics",
        "ldir": "Other",
        "less": "KernelMagics",
        "lf": "Other",
        "lk": "Other",
        "ll": "Other",
        "load": "CodeMagics",
        "load_ext": "ExtensionMagics",
        "loadpy": "CodeMagics",
        "logoff": "LoggingMagics",
        "logon": "LoggingMagics",
        "logstart": "LoggingMagics",
        "logstate": "LoggingMagics",
        "logstop": "LoggingMagics",
        "ls": "Other",
        "lsmagic": "BasicMagics",
        "lx": "Other",
        "macro": "ExecutionMagics",
        "magic": "BasicMagics",
        "man": "KernelMagics",
        "matplotlib": "PylabMagics",
        "mkdir": "Other",
        "more": "KernelMagics",
        "mv": "Other",
        "notebook": "BasicMagics",
        "page": "BasicMagics",
        "pastebin": "CodeMagics",
        "pdb": "ExecutionMagics",
        "pdef": "NamespaceMagics",
        "pdoc": "NamespaceMagics",
        "pfile": "NamespaceMagics",
        "pinfo": "NamespaceMagics",
        "pinfo2": "NamespaceMagics",
        "popd": "OSMagics",
        "pprint": "BasicMagics",
        "precision": "BasicMagics",
        "profile": "BasicMagics",
        "prun": "ExecutionMagics",
        "psearch": "NamespaceMagics",
        "psource": "NamespaceMagics",
        "pushd": "OSMagics",
        "pwd": "OSMagics",
        "pycat": "OSMagics",
        "pylab": "PylabMagics",
        "qtconsole": "KernelMagics",
        "quickref": "BasicMagics",
        "recall": "HistoryMagics",
        "rehashx": "OSMagics",
        "reload_ext": "ExtensionMagics",
        "rep": "Other",
        "rerun": "HistoryMagics",
        "reset": "NamespaceMagics",
        "reset_selective": "NamespaceMagics",
        "rm": "Other",
        "rmdir": "Other",
        "run": "ExecutionMagics",
        "save": "CodeMagics",
        "sc": "OSMagics",
        "set_env": "OSMagics",
        "store": "StoreMagics",
        "sx": "OSMagics",
        "system": "OSMagics",
        "tb": "ExecutionMagics",
        "time": "ExecutionMagics",
        "timeit": "ExecutionMagics",
        "unalias": "OSMagics",
        "unload_ext": "ExtensionMagics",
        "who": "NamespaceMagics",
        "who_ls": "NamespaceMagics",
        "whos": "NamespaceMagics",
        "xdel": "NamespaceMagics",
        "xmode": "BasicMagics"
       }
      },
      "text/plain": [
       "Available line magics:\n",
       "%alias  %alias_magic  %autocall  %automagic  %autosave  %bookmark  %cat  %cd  %clear  %colors  %config  %connect_info  %cp  %debug  %dhist  %dirs  %doctest_mode  %ed  %edit  %env  %gui  %hist  %history  %killbgscripts  %ldir  %less  %lf  %lk  %ll  %load  %load_ext  %loadpy  %logoff  %logon  %logstart  %logstate  %logstop  %ls  %lsmagic  %lx  %macro  %magic  %man  %matplotlib  %mkdir  %more  %mv  %notebook  %page  %pastebin  %pdb  %pdef  %pdoc  %pfile  %pinfo  %pinfo2  %popd  %pprint  %precision  %profile  %prun  %psearch  %psource  %pushd  %pwd  %pycat  %pylab  %qtconsole  %quickref  %recall  %rehashx  %reload_ext  %rep  %rerun  %reset  %reset_selective  %rm  %rmdir  %run  %save  %sc  %set_env  %store  %sx  %system  %tb  %time  %timeit  %unalias  %unload_ext  %who  %who_ls  %whos  %xdel  %xmode\n",
       "\n",
       "Available cell magics:\n",
       "%%!  %%HTML  %%SVG  %%bash  %%capture  %%debug  %%file  %%html  %%javascript  %%js  %%latex  %%perl  %%prun  %%pypy  %%python  %%python2  %%python3  %%ruby  %%script  %%sh  %%svg  %%sx  %%system  %%time  %%timeit  %%writefile\n",
       "\n",
       "Automagic is ON, % prefix IS NOT needed for line magics."
      ]
     },
     "execution_count": 15,
     "metadata": {},
     "output_type": "execute_result"
    }
   ],
   "source": [
    "% lsmagic"
   ]
  },
  {
   "cell_type": "code",
   "execution_count": 16,
   "metadata": {
    "collapsed": false
   },
   "outputs": [
    {
     "name": "stdout",
     "output_type": "stream",
     "text": [
      "DIOMIRA.ipynb          ISIDORA.ipynb          PlotUtil.ipynb\r\n",
      "Dorothea.ipynb         ItsAKindOfMagic.ipynb  SIERPE.ipynb\r\n",
      "IC.ipynb               Nh5DST.ipynb\r\n"
     ]
    }
   ],
   "source": [
    "ls"
   ]
  },
  {
   "cell_type": "code",
   "execution_count": 17,
   "metadata": {
    "collapsed": false
   },
   "outputs": [
    {
     "data": {
      "text/plain": [
       "{'Apple_PubSub_Socket_Render': '/private/tmp/com.apple.launchd.L8bSyU2p7A/Render',\n",
       " 'CC': '/usr/bin/clang',\n",
       " 'CLICOLOR': '1',\n",
       " 'CXX': '/usr/bin/clang++',\n",
       " 'DEVELOPMENT': '/Users/jjgomezcadenas/Documents/Development',\n",
       " 'DNN': '/Users/jjgomezcadenas/Documents/Development/DNN',\n",
       " 'DYLD_LIBRARY_PATH': '/Users/jjgomezcadenas/Documents/Software/hdf5-1.8.17/hdf5/lib:/Users/jjgomezcadenas/Documents/Software/sqlite-autoconf-3100200/lib:/usr/local//lib/usr/local/lib:/usr/lib',\n",
       " 'GATE_DIR': '/Users/jjgomezcadenas/Documents/Development/NEXTRR/Releases/NEXT_HEAD/sources/GATE',\n",
       " 'GIT_PAGER': 'cat',\n",
       " 'HDF5_DIR': '/Users/jjgomezcadenas/Documents/Software/hdf5-1.8.17/hdf5',\n",
       " 'HOME': '/Users/jjgomezcadenas',\n",
       " 'IC': '/Users/jjgomezcadenas/Documents/Development/NEXT/IC/',\n",
       " 'ICDIR': '/Users/jjgomezcadenas/Documents/Development/NEXT/IC',\n",
       " 'JPY_PARENT_PID': '41081',\n",
       " 'LANG': 'en_US.UTF-8',\n",
       " 'LC_ALL': 'en_US.UTF-8',\n",
       " 'LC_CTYPE': 'UTF-8',\n",
       " 'LD_LIBRARY_PATH': '/Users/jjgomezcadenas/Documents/Software/hdf5-1.8.17/hdf5/lib:/Users/jjgomezcadenas/Documents/Software/sqlite-autoconf-3100200/lib:/usr/local//lib/usr/local/lib:/usr/lib',\n",
       " 'LOGNAME': 'jjgomezcadenas',\n",
       " 'MKL_NUM_THREADS': '1',\n",
       " 'NEXT': '/Users/jjgomezcadenas/Documents/Development/NEXT',\n",
       " 'OLDPWD': '/Users/jjgomezcadenas/Documents/Development/NEXT/IC',\n",
       " 'PAGER': 'cat',\n",
       " 'PATH': '/Users/jjgomezcadenas/Documents/Software/hdf5-1.8.17/hdf5/bin:/Users/jjgomezcadenas/Documents/Software/sqlite-autoconf-3100200/bin:/usr/local//bin:/usr/local/bin:/usr/bin:/bin:/usr/sbin:/sbin',\n",
       " 'PESOA': '/Users/jjgomezcadenas/Documents/Development/PESOA/',\n",
       " 'PFMW': '/System/Library/Frameworks/Python.framework/Versions/Current/',\n",
       " 'PS1': 'Jupiter->',\n",
       " 'PWD': '/Users/jjgomezcadenas/Documents/Development/NEXT/IC',\n",
       " 'PYTHONPATH': '/Users/jjgomezcadenas/Documents/Development/NEXT/IC:/Users/jjgomezcadenas/Documents/Development/NEXT/IC/Cities:/Users/jjgomezcadenas/Documents/Development/NEXT/IC/Notebooks:/Users/jjgomezcadenas/Documents/Development/NEXT/IC/Utilities:/Users/jjgomezcadenas/Documents/Development/NEXT/IC/Sierpe:/usr/local//lib:/usr/local/lib://System/Library/Frameworks/Python.framework/Versions/Current/',\n",
       " 'ROOTSYS': '/usr/local/',\n",
       " 'SECURITYSESSIONID': '186a6',\n",
       " 'SHELL': '/bin/bash',\n",
       " 'SHLVL': '1',\n",
       " 'SOFTWARE': '/Users/jjgomezcadenas/Documents/Software',\n",
       " 'SQLITE_DIR': '/Users/jjgomezcadenas/Documents/Software/sqlite-autoconf-3100200',\n",
       " 'SSH_AUTH_SOCK': '/private/tmp/com.apple.launchd.v3TUpBa94Z/Listeners',\n",
       " 'TERM': 'xterm-color',\n",
       " 'TERM_PROGRAM': 'Apple_Terminal',\n",
       " 'TERM_PROGRAM_VERSION': '361.1',\n",
       " 'TERM_SESSION_ID': '40226AE9-CFC9-4DBF-954F-FD0EF03AAFC5',\n",
       " 'TMPDIR': '/var/folders/2r/c66rxmg10fj3pzmwdkbcy6c40000gn/T/',\n",
       " 'USER': 'jjgomezcadenas',\n",
       " 'XPC_FLAGS': '0x0',\n",
       " 'XPC_SERVICE_NAME': '0',\n",
       " '_': '/usr/local//bin/jupyter',\n",
       " '__CF_USER_TEXT_ENCODING': '0x1F5:0x0:0x0'}"
      ]
     },
     "execution_count": 17,
     "metadata": {},
     "output_type": "execute_result"
    }
   ],
   "source": [
    "env"
   ]
  },
  {
   "cell_type": "code",
   "execution_count": 21,
   "metadata": {
    "collapsed": false
   },
   "outputs": [],
   "source": [
    "%matplotlib inline"
   ]
  },
  {
   "cell_type": "code",
   "execution_count": 23,
   "metadata": {
    "collapsed": false
   },
   "outputs": [
    {
     "data": {
      "text/latex": [
       "\\begin{equation}\n",
       "E = mc^2\n",
       "\\end{equation}"
      ],
      "text/plain": [
       "<IPython.core.display.Latex object>"
      ]
     },
     "metadata": {},
     "output_type": "display_data"
    }
   ],
   "source": [
    "%%latex\n",
    "\\begin{equation}\n",
    "E = mc^2\n",
    "\\end{equation}"
   ]
  },
  {
   "cell_type": "markdown",
   "metadata": {},
   "source": [
    "https://blog.dominodatalab.com/lesser-known-ways-of-using-notebooks/"
   ]
  },
  {
   "cell_type": "markdown",
   "metadata": {},
   "source": [
    "http://ipython.readthedocs.io/en/stable/"
   ]
  }
 ],
 "metadata": {
  "kernelspec": {
   "display_name": "Python 2",
   "language": "python",
   "name": "python2"
  },
  "language_info": {
   "codemirror_mode": {
    "name": "ipython",
    "version": 2
   },
   "file_extension": ".py",
   "mimetype": "text/x-python",
   "name": "python",
   "nbconvert_exporter": "python",
   "pygments_lexer": "ipython2",
   "version": "2.7.11"
  }
 },
 "nbformat": 4,
 "nbformat_minor": 0
}
