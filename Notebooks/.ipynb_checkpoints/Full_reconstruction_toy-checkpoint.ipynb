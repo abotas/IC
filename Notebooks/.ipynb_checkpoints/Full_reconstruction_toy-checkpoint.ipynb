{
 "cells": [
  {
   "cell_type": "markdown",
   "metadata": {},
   "source": [
    "# Reconstruction with Keras\n"
   ]
  },
  {
   "cell_type": "code",
   "execution_count": 1,
   "metadata": {
    "collapsed": false
   },
   "outputs": [
    {
     "name": "stderr",
     "output_type": "stream",
     "text": [
      "Using Theano backend.\n",
      "/usr/local/lib/python2.7/site-packages/matplotlib/font_manager.py:273: UserWarning: Matplotlib is building the font cache using fc-list. This may take a moment.\n",
      "  warnings.warn('Matplotlib is building the font cache using fc-list. This may take a moment.')\n"
     ]
    }
   ],
   "source": [
    "from keras.models       import Sequential\n",
    "from keras.layers       import Dense, Activation, Dropout\n",
    "from keras.optimizers   import SGD, Adam, Nadam         \n",
    "from keras              import callbacks\n",
    "\n",
    "from matplotlib.patches import Ellipse\n",
    "\n",
    "%matplotlib inline\n",
    "\n",
    "import matplotlib.pyplot as plt\n",
    "import numpy  as np\n",
    "import random as rd\n",
    "import tables as tb\n",
    "import math\n",
    "import sys\n",
    "\n",
    "# Add the Utilties directory to the system path so the file sipm_param can be imported.\n",
    "sys.path.append(\"../Utilities\")\n",
    "from sipm_param import *\n",
    "\n",
    "# Number of EL points to generate per event.\n",
    "N_ELpts = 2"
   ]
  },
  {
   "cell_type": "markdown",
   "metadata": {},
   "source": [
    "Below are a few important switches that determine how the data used and created here are loaded and stored."
   ]
  },
  {
   "cell_type": "code",
   "execution_count": 2,
   "metadata": {
    "collapsed": false
   },
   "outputs": [],
   "source": [
    "Save_hist  = False     # Set to True to save the history of the model\n",
    "Save_model = False     # Save the neural net (including the learned weights) for future training/teseting\n",
    "\n",
    "MOD_hist  = False      # if MOD_hist, script will modify existing HISTORY .h file, adding a node in pytable\n",
    "                       # with loss history\n",
    "                       # if not MOD_hist, will create a new .h file and do the same thing\n",
    "                       # **Note if Save_hist is False, MOD_hist does not matter \n",
    "\n",
    "# specify file where data is to be read or written (or neither if desired, but not both)          \n",
    "MC_filename =  'TMC_data.h'          \n",
    "            \n",
    "Load_MC = True    # set to true to load existing SiPM response data\n",
    "\n",
    "if Load_MC:     Save_MC = False   # Save SiPM response/label data only if it doesn't already exist in a .h file\n",
    "else:           Save_MC = True    # (do not save data that is already saved)\n",
    "\n",
    "if Save_MC:\n",
    "    # Must set MOD_data # Set to true to create a new group (for a new N_ELpts) in an existing .h file\n",
    "    MOD_data = True     # Set to false to create a new .h file entirely (will overwrite existing ifle)\n",
    "    \n",
    "ES = False              # set to true to implement early stopping\n",
    "if ES == True: \n",
    "    N_layers = -1       # must specify number of total layers now\n",
    "    ES_filepath =  'ES_' + str(N_ELpts) + 'hits' + str(N_layers) + 'lay.h'\n",
    "    print(ES_filepath)\n",
    "\n",
    "                        "
   ]
  },
  {
   "cell_type": "markdown",
   "metadata": {
    "collapsed": true
   },
   "source": [
    "The parameterization is done in two time bins and can be accessed through the function sipm_par(tbin, r) defined in Utilities/sipm_param.py.  Here tbin is the time bin and r is the radial distance from the EL point at which the SiPM of interest is located."
   ]
  },
  {
   "cell_type": "code",
   "execution_count": 3,
   "metadata": {
    "collapsed": false
   },
   "outputs": [],
   "source": [
    "# Geometry definition.\n",
    "nsipm = 8\n",
    "sipm_pitch = 10.       # distance between SiPMs\n",
    "sipm_edge_width = 5.   # distance between SiPM and edge of board\n",
    "\n",
    "# Variables for computing an EL point location.\n",
    "xlen = 2*sipm_edge_width + 7*sipm_pitch       # (mm) side length of rectangle\n",
    "ylen = 2*sipm_edge_width + 7*sipm_pitch       # (mm) side length of rectangle\n",
    "if xlen == ylen: max_xy = xlen\n",
    "wbin = 2.0                                    # (mm) bin width\n",
    "\n",
    "# Compute the positions of the SiPMs.\n",
    "pos_x = np.ones(nsipm**2)*sipm_edge_width + (np.ones(nsipm*nsipm)*range(nsipm**2) % nsipm)*sipm_pitch\n",
    "pos_y = np.ones(nsipm**2)*sipm_edge_width + np.floor(np.ones(nsipm*nsipm)*range(nsipm**2) / nsipm)*sipm_pitch"
   ]
  },
  {
   "cell_type": "markdown",
   "metadata": {},
   "source": [
    "Now load or generate the hits and SiPM response data"
   ]
  },
  {
   "cell_type": "code",
   "execution_count": 4,
   "metadata": {
    "collapsed": false
   },
   "outputs": [
    {
     "name": "stdout",
     "output_type": "stream",
     "text": [
      "-- Loading data from file: TMC_data.h ...\n",
      "/sim_2pt (Group) 'Group for 2 ELPTs'\n",
      "-- Load complete\n"
     ]
    }
   ],
   "source": [
    "# ** All of the parameters listed above must be the same as those used to create the data in f.root.group ** #\n",
    "# ** This can be changed if needed so that the above parameters are also saved/loaded in the pytable, but ** #\n",
    "# ** for the moment this seems unnecessary.                                                               ** #\n",
    "if Load_MC:\n",
    "    f = tb.open_file(MC_filename, 'r')\n",
    "    \n",
    "    # access correct group\n",
    "    if N_ELpts  == 1: dat_tree = f.root.sim_1pt\n",
    "    elif N_ELpts ==2: dat_tree = f.root.sim_2pt\n",
    "    elif N_ELpts ==3: dat_tree = f.root.sim_3pt\n",
    "    elif N_ELpts ==4: dat_tree = f.root.sim_4pt    \n",
    "    \n",
    "    print('-- Loading data from file: ' + MC_filename + ' ...')\n",
    "    x_train = dat_tree.xtrain[:]\n",
    "    y_train = dat_tree.ytrain[:]\n",
    "    x_valid = dat_tree.xvalid[:]\n",
    "    y_valid = dat_tree.yvalid[:]\n",
    "    \n",
    "    Nevts_train = y_train.shape[0]\n",
    "    Nevts_valid = y_valid.shape[0]\n",
    "    Nevts = Nevts_train + Nevts_valid\n",
    "    \n",
    "    print(dat_tree)\n",
    "    f.close()\n",
    "    print('-- Load complete')\n",
    "    \n",
    "    \n",
    "# Generate the data    \n",
    "else:\n",
    "    print('-- Generating hits and response data ... ')\n",
    "    \n",
    "    # Number of events to generate.\n",
    "    Nevts_train = 100000  # specify\n",
    "    Nevts_valid = 10000   # specify\n",
    "\n",
    "    # Set up the training sets.\n",
    "    x_train = np.zeros([Nevts_train,nsipm*nsipm]); x_valid = np.zeros([Nevts_valid,nsipm*nsipm])\n",
    "    y_train = np.zeros([Nevts_train,2*N_ELpts]);   y_valid = np.zeros([Nevts_valid,2*N_ELpts])\n",
    "\n",
    "    # Generate the events.\n",
    "    Nevts = Nevts_train + Nevts_valid\n",
    "\n",
    "    # generate and sort ypts\n",
    "    Xpts = np.sort(np.random.uniform(0,xlen,(Nevts,N_ELpts)),axis=1)\n",
    "\n",
    "    for nn in range(Nevts):\n",
    "\n",
    "        if(nn % int(Nevts/10) == 0):\n",
    "            print \"-- Event {0} of {1} ...\".format(nn,Nevts)\n",
    "\n",
    "        # For each event, generate a number of random EL points and compute the probabilities of detection for each SiPM.\n",
    "        sipm_map = np.zeros(nsipm*nsipm)\n",
    "        for npt in range(N_ELpts):\n",
    "\n",
    "            # Generate the point.\n",
    "            #xpt = rd.random()*xlen\n",
    "            xpt = Xpts[nn,npt]\n",
    "            ypt = rd.random()*ylen\n",
    "\n",
    "            # Compute the distances and probabilities.  Add the probabilities to the sipm map.\n",
    "            rr = np.array([math.sqrt((xi - xpt)**2 + (yi - ypt)**2) for xi,yi in zip(pos_x,pos_y)])\n",
    "            probs = 0.5*(sipm_par(0, rr) + sipm_par(1, rr))\n",
    "            sipm_map += probs\n",
    "\n",
    "            # Fill the y matrix with the generated points.\n",
    "            if(nn >= Nevts_train):\n",
    "                y_valid[nn-Nevts_train][2*npt] = xpt/xlen\n",
    "                y_valid[nn-Nevts_train][2*npt+1] = ypt/ylen\n",
    "            else:\n",
    "                y_train[nn][2*npt] = xpt/xlen\n",
    "                y_train[nn][2*npt+1] = ypt/ylen\n",
    "\n",
    "        # Normalize the probability map, and set sigma = 1.\n",
    "        sipm_map -= np.mean(sipm_map)\n",
    "        sipm_map /= np.std(sipm_map)\n",
    "\n",
    "        # Fill the x matrix for the generated points.\n",
    "        if(nn >= Nevts_train):\n",
    "            x_valid[nn-Nevts_train] = sipm_map\n",
    "        else:\n",
    "            x_train[nn] = sipm_map"
   ]
  },
  {
   "cell_type": "markdown",
   "metadata": {},
   "source": [
    "Save montecarlo data if Save_MC"
   ]
  },
  {
   "cell_type": "code",
   "execution_count": 5,
   "metadata": {
    "collapsed": false
   },
   "outputs": [],
   "source": [
    "if Save_MC:\n",
    "    if MOD_data: \n",
    "        f = tb.open_file(MC_filename, 'r+')    # modify\n",
    "        print('-- Modifying '  +  MC_filename  + ' to contain new montecarlo data ...')\n",
    "        \n",
    "    else:  \n",
    "        f = tb.open_file(MC_filename, 'w')      # else write\n",
    "        print('-- Writing new ' +  MC_filename   + ' to contain new montecarlo data ...')\n",
    "        \n",
    "    \n",
    "    # compress tables arrays with blosc, but don't shuffle\n",
    "    filters = tb.Filters(complib='blosc', complevel=9, shuffle=False) \n",
    "\n",
    "    groupname = 'sim_' + str(N_ELpts) + 'pt'\n",
    "    group = f.create_group(f.root, groupname, 'Group for ' + str(N_ELpts) + ' ELPTs') \n",
    "\n",
    "    # ** The arrays used here are extensible (EArrays), this means that we can add more data later if we want\n",
    "    #    so that in the futre we can train on a larger training set. \n",
    "    #    To add one SiPM response map to the training data you would open the table in the .h file,\n",
    "    #    access the correct group, and then maps to xdat.\n",
    "    #    For example, to append one map to the training data with 3 E_LPts you would write:\n",
    "    #    f.root.sim_3pt.xtrain.append([map]) when map is a numpy ndarray with one dimension of size nsipm^2 \n",
    "    \n",
    "    atom = tb.Atom.from_dtype(x_train.dtype) \n",
    "    xtrain = f.create_earray(group, 'xtrain', atom, (0,nsipm**2),  filters=filters, expectedrows=Nevts_train)\n",
    "    \n",
    "    atom = tb.Atom.from_dtype(y_train.dtype) \n",
    "    ytrain = f.create_earray(group, 'ytrain', atom, (0,2*N_ELpts), filters=filters, expectedrows=Nevts_train)    \n",
    "    \n",
    "    atom = tb.Atom.from_dtype(x_valid.dtype) \n",
    "    xvalid = f.create_earray(group, 'xvalid', atom, (0,nsipm**2),  filters=filters, expectedrows=Nevts_valid)   \n",
    "\n",
    "    atom = tb.Atom.from_dtype(y_valid.dtype) \n",
    "    yvalid = f.create_earray(group, 'yvalid', atom, (0,2*N_ELpts), filters=filters, expectedrows=Nevts_valid)\n",
    "    \n",
    "    print('-- Saving training data ...')\n",
    "    \n",
    "    #Now put the data in the arrays\n",
    "    for ev in range(Nevts_train):\n",
    "        xtrain.append([x_train[ev]])\n",
    "        ytrain.append([y_train[ev]])\n",
    "    \n",
    "    print('-- Saving validation data ...')\n",
    "    \n",
    "    for ev in range(Nevts_valid):\n",
    "        xvalid.append([x_valid[ev]])\n",
    "        yvalid.append([y_valid[ev]])\n",
    "    \n",
    "    print(f)\n",
    "    f.close()"
   ]
  },
  {
   "cell_type": "markdown",
   "metadata": {},
   "source": [
    "Define some networks"
   ]
  },
  {
   "cell_type": "code",
   "execution_count": 6,
   "metadata": {
    "collapsed": false
   },
   "outputs": [],
   "source": [
    "# construct a 5 layer network\n",
    "def lay5():\n",
    "    model = Sequential()\n",
    "    model.add(Dense(output_dim=2048, input_dim=nsipm*nsipm))\n",
    "    model.add(Activation(\"relu\"))\n",
    "    model.add(Dense(output_dim=1024))\n",
    "    model.add(Activation(\"relu\"))\n",
    "    model.add(Dense(output_dim=512))\n",
    "    model.add(Activation(\"relu\"))\n",
    "    model.add(Dense(output_dim=256))\n",
    "    model.add(Activation(\"relu\"))\n",
    "    model.add(Dropout(.25))    # **Note this is drop rate, not keep rate (like in tf)\n",
    "    model.add(Dense(output_dim=2*N_ELpts))\n",
    "    model.add(Activation(\"sigmoid\"))\n",
    "    \n",
    "    # Nadam optimizer is probabaly a safe choice at least for our deep networks. It is adam optimizer with Nesterov\n",
    "    # Momentum. Nesterov Momentum takes into account future expected future gradient gradient, unlike traditional Mom.\n",
    "    model.compile(loss='mse', optimizer=Nadam(lr=0.002, beta_1=0.9, beta_2=0.999, epsilon=1e-08, schedule_decay=0.004))\n",
    "    model.summary()\n",
    "    N_layers = 5\n",
    "    return model,N_layers\n",
    "    \n",
    "# construct a 4 layer network\n",
    "def lay4():\n",
    "    model = Sequential()\n",
    "    model.add(Dense(output_dim=2048, input_dim=nsipm*nsipm))\n",
    "    model.add(Activation(\"relu\"))\n",
    "    model.add(Dense(output_dim=1024))\n",
    "    model.add(Activation(\"relu\"))\n",
    "    model.add(Dense(output_dim=512))\n",
    "    model.add(Activation(\"relu\"))\n",
    "    model.add(Dropout(.2))\n",
    "    model.add(Dense(output_dim=2*N_ELpts))\n",
    "    model.add(Activation(\"sigmoid\"))\n",
    "    model.compile(loss='mse', optimizer=Nadam(lr=0.002, beta_1=0.9, beta_2=0.999, epsilon=1e-08, schedule_decay=0.004))\n",
    "    model.summary()\n",
    "    N_layers = 4\n",
    "    return model,N_layers\n",
    "    \n",
    "# etc .. \n",
    "def lay3():\n",
    "    model = Sequential()\n",
    "    model.add(Dense(output_dim=2048, input_dim=nsipm*nsipm))\n",
    "    model.add(Activation(\"relu\"))\n",
    "    model.add(Dense(output_dim=1024))\n",
    "    model.add(Activation(\"relu\"))\n",
    "    model.add(Dropout(.15))\n",
    "    model.add(Dense(output_dim=2*N_ELpts))\n",
    "    model.add(Activation(\"sigmoid\"))\n",
    "    #model.compile(loss='mse', optimizer=SGD(lr=1.0, momentum=0.9, nesterov=True))\n",
    "    model.compile(loss='mse', optimizer=Nadam(lr=0.002, beta_1=0.9, beta_2=0.999, epsilon=1e-08, schedule_decay=0.004))\n",
    "\n",
    "    model.summary()\n",
    "    N_layers = 3\n",
    "    return model,N_layers\n",
    "\n",
    "def lay2():\n",
    "    model = Sequential()\n",
    "    model.add(Dense(output_dim=2048, input_dim=nsipm*nsipm))\n",
    "    model.add(Activation(\"relu\"))\n",
    "    #model.add(Dropout(.25))\n",
    "    model.add(Dense(output_dim=2*N_ELpts))\n",
    "    model.add(Activation(\"sigmoid\"))\n",
    "    model.compile(loss ='mse',  optimizer=SGD(lr=1.0, momentum=0.9, nesterov=True))\n",
    "    #model.compile(loss='mse', optimizer=Nadam(lr=0.002, beta_1=0.9, beta_2=0.999, epsilon=1e-08, schedule_decay=0.004))\n",
    "    model.summary()\n",
    "    N_layers = 2\n",
    "    return model,N_layers\n",
    "    \n",
    "def lay1():\n",
    "    model = Sequential()\n",
    "    model.add(Dense(output_dim=2*N_ELpts, input_dim=nsipm**2))\n",
    "    model.add(Activation(\"sigmoid\"))\n",
    "    model.compile(loss='mse', optimizer=SGD(lr=1.0, momentum=0.9, nesterov=True))\n",
    "    model.summary()\n",
    "    N_layers = 1\n",
    "    return model,N_layers\n",
    "\n"
   ]
  },
  {
   "cell_type": "markdown",
   "metadata": {},
   "source": [
    "Call layered a network and begin training"
   ]
  },
  {
   "cell_type": "code",
   "execution_count": 7,
   "metadata": {
    "collapsed": false
   },
   "outputs": [
    {
     "name": "stdout",
     "output_type": "stream",
     "text": [
      "____________________________________________________________________________________________________\n",
      "Layer (type)                     Output Shape          Param #     Connected to                     \n",
      "====================================================================================================\n",
      "dense_1 (Dense)                  (None, 2048)          133120      dense_input_1[0][0]              \n",
      "____________________________________________________________________________________________________\n",
      "activation_1 (Activation)        (None, 2048)          0           dense_1[0][0]                    \n",
      "____________________________________________________________________________________________________\n",
      "dense_2 (Dense)                  (None, 4)             8196        activation_1[0][0]               \n",
      "____________________________________________________________________________________________________\n",
      "activation_2 (Activation)        (None, 4)             0           dense_2[0][0]                    \n",
      "====================================================================================================\n",
      "Total params: 141316\n",
      "____________________________________________________________________________________________________\n",
      "Train on 100000 samples, validate on 10000 samples\n",
      "Epoch 1/20\n",
      "3s - loss: 0.0041 - val_loss: 0.0026\n",
      "Epoch 2/20\n",
      "4s - loss: 0.0023 - val_loss: 0.0020\n",
      "Epoch 3/20\n",
      "4s - loss: 0.0019 - val_loss: 0.0018\n",
      "Epoch 4/20\n",
      "4s - loss: 0.0017 - val_loss: 0.0017\n",
      "Epoch 5/20\n",
      "4s - loss: 0.0015 - val_loss: 0.0015\n",
      "Epoch 6/20\n",
      "4s - loss: 0.0014 - val_loss: 0.0014\n",
      "Epoch 7/20\n",
      "4s - loss: 0.0013 - val_loss: 0.0013\n",
      "Epoch 8/20\n",
      "3s - loss: 0.0012 - val_loss: 0.0012\n",
      "Epoch 9/20\n",
      "4s - loss: 0.0012 - val_loss: 0.0013\n",
      "Epoch 10/20\n",
      "4s - loss: 0.0011 - val_loss: 0.0012\n",
      "Epoch 11/20\n",
      "4s - loss: 0.0011 - val_loss: 0.0012\n",
      "Epoch 12/20\n",
      "4s - loss: 0.0011 - val_loss: 0.0013\n",
      "Epoch 13/20\n",
      "4s - loss: 0.0011 - val_loss: 0.0011\n",
      "Epoch 14/20\n",
      "4s - loss: 0.0010 - val_loss: 0.0012\n",
      "Epoch 15/20\n",
      "4s - loss: 0.0010 - val_loss: 0.0011\n",
      "Epoch 16/20\n",
      "4s - loss: 9.8685e-04 - val_loss: 0.0012\n",
      "Epoch 17/20\n",
      "3s - loss: 9.5243e-04 - val_loss: 0.0010\n",
      "Epoch 18/20\n",
      "3s - loss: 9.4828e-04 - val_loss: 0.0010\n",
      "Epoch 19/20\n",
      "4s - loss: 9.2863e-04 - val_loss: 0.0010\n",
      "Epoch 20/20\n",
      "3s - loss: 9.0983e-04 - val_loss: 0.0010\n"
     ]
    }
   ],
   "source": [
    "# call desired network\n",
    "model,N_layers = lay2()\n",
    "\n",
    "# stop early and save best model\n",
    "if ES and Save_model:\n",
    "    callbacks = [\n",
    "        callbacks.EarlyStopping(monitor='val_loss', patience=3, mode='min'), # stop training if val_loss \n",
    "                                                                             # stops decreasing for 3 epochs\n",
    "        \n",
    "        callbacks.ModelCheckpoint(ES_filepath, monitor='val_loss', save_best_only=True, mode='min')] # save best model\n",
    "# stop early do not save    \n",
    "elif ES:\n",
    "    callbacks =[callbacks.EarlyStopping(monitor='val_loss', patience=3, mode='min')]\n",
    "\n",
    "# do not stop early, decide whether to save later *use this when comparing error of different numbers of layers\n",
    "else: callbacks =[]\n",
    "             \n",
    "hist = model.fit(x_train, y_train, nb_epoch=20, batch_size=100,  \n",
    "                 validation_data=(x_valid,y_valid),\n",
    "                 verbose=2, callbacks=callbacks);  "
   ]
  },
  {
   "cell_type": "markdown",
   "metadata": {},
   "source": [
    "Plot training and validation error over epochs"
   ]
  },
  {
   "cell_type": "code",
   "execution_count": 8,
   "metadata": {
    "collapsed": false
   },
   "outputs": [
    {
     "data": {
      "image/png": "[encoded data removed]",
      "text/plain": [
       "<matplotlib.figure.Figure at 0x1110250d0>"
      ]
     },
     "metadata": {},
     "output_type": "display_data"
    }
   ],
   "source": [
    "val   = plt.plot(range(0,len(hist.history['loss'])),\n",
    "                 np.sqrt(np.array(hist.history['val_loss'])/N_ELpts)*max_xy, 'b', label='Val error')\n",
    "train = plt.plot(range(0,len(hist.history['loss'])),\n",
    "                 np.sqrt(np.array(hist.history['loss'])    /N_ELpts)*max_xy, 'r', label='Train error')\n",
    "plt.legend(loc='upper right')\n",
    "plt.xlabel('Epochs')\n",
    "plt.ylabel('Mean error per hit (mm)')\n",
    "plt.title(str(N_ELpts) + ' hit(s), ' + str(N_layers) +' layers')\n",
    "plt.grid(True)\n",
    "plt.show()"
   ]
  },
  {
   "cell_type": "markdown",
   "metadata": {},
   "source": [
    "Plot histogram of error"
   ]
  },
  {
   "cell_type": "code",
   "execution_count": 19,
   "metadata": {
    "collapsed": false
   },
   "outputs": [
    {
     "data": {
      "image/png": "[encoded data removed]",
      "text/plain": [
       "<matplotlib.figure.Figure at 0x1142f5c10>"
      ]
     },
     "metadata": {},
     "output_type": "display_data"
    }
   ],
   "source": [
    "# Get model's predictions, plot the error in a histogram\n",
    "predictions = model.predict(x_valid)\n",
    "st = (predictions - y_valid)**2\n",
    "E = np.empty((Nevts_valid,N_ELpts))\n",
    "for pt in range(N_ELpts):\n",
    "    E[:,pt] = np.sqrt(st[:,2*pt] + st[:,2*pt+1])*80\n",
    "\n",
    "# plot the histogram, of average error per point in distance\n",
    "n, bins, patches = plt.hist(E.flatten(), 500, color='red', normed=1, alpha=0.75)\n",
    "plt.xlim(0,10)\n",
    "plt.xlabel('Error/Hit (mm)')\n",
    "plt.grid(True)\n",
    "plt.title(str(N_ELpts) + ' hit(s), ' + str(N_layers) +' layers')\n",
    "plt.show()"
   ]
  },
  {
   "cell_type": "markdown",
   "metadata": {},
   "source": [
    "Plot error as a function of the distance of the EL hit from the center of the EL plane (40,40) "
   ]
  },
  {
   "cell_type": "code",
   "execution_count": 10,
   "metadata": {
    "collapsed": false
   },
   "outputs": [
    {
     "data": {
      "image/png": "[encoded data removed]",
      "text/plain": [
       "<matplotlib.figure.Figure at 0x1135e7a50>"
      ]
     },
     "metadata": {},
     "output_type": "display_data"
    }
   ],
   "source": [
    "from collections import defaultdict\n",
    "dd=defaultdict(int) # defaultdict whose keys are distance from 40,40, whose values are error\n",
    "dn=defaultdict(int) # defaultdict whose keys are distance from 40,40, whose values are the number of evts \n",
    "                    # with that distance\n",
    "\n",
    "for ev in range(Nevts_valid):\n",
    "    for pt in range(N_ELpts):\n",
    "        dist = np.sqrt((y_valid[ev,2*pt]*xlen-40)**2 + (y_valid[ev,2*pt+1]*ylen-40)**2)\n",
    "        dd[dist] += E[ev,pt]\n",
    "        dn[dist] += 1\n",
    "\n",
    "for key in dd: dd[key] /= dn[key]\n",
    "\n",
    "# this line is pretty meaningless since I am picking the degree polynomial --------->\n",
    "bestfit = plt.plot(np.unique(dd.keys()), np.poly1d(np.polyfit(dd.keys(),dd.values(), 3))(np.unique(dd.keys())))\n",
    "\n",
    "# bin error for plotting\n",
    "bins = defaultdict(int)\n",
    "no   = defaultdict(int)\n",
    "for key in dd:\n",
    "    bins[round(key)] += dd[key]\n",
    "    no[round(key)]   += 1\n",
    "for key in bins: bins[key] /= no[key]   \n",
    "plt.scatter(bins.keys(),bins.values())\n",
    "\n",
    "plt.xlabel('Radial distance of EL hit from center of EL plane')\n",
    "plt.ylabel('Average error per hit (mm)')\n",
    "plt.title(str(N_ELpts) + ' hit(s), ' + str(N_layers) +' layers')\n",
    "plt.grid(True)\n",
    "plt.show()"
   ]
  },
  {
   "cell_type": "markdown",
   "metadata": {},
   "source": [
    "Plot a training event"
   ]
  },
  {
   "cell_type": "code",
   "execution_count": 17,
   "metadata": {
    "collapsed": false
   },
   "outputs": [
    {
     "data": {
      "image/png": "[encoded data removed]",
      "text/plain": [
       "<matplotlib.figure.Figure at 0x109785650>"
      ]
     },
     "metadata": {},
     "output_type": "display_data"
    }
   ],
   "source": [
    "# Plot one event.\n",
    "plt_train = False\n",
    "pevt = np.random.randint(0,Nevts_valid)\n",
    "fig = plt.figure();\n",
    "ax1 = fig.add_subplot(111);\n",
    "ax1.axis([0, xlen, 0, ylen]);\n",
    "\n",
    "if(plt_train):\n",
    "    xarr = x_train[pevt]\n",
    "    yarr = y_train[pevt]\n",
    "else:\n",
    "    xarr = x_valid[pevt]\n",
    "    yarr = y_valid[pevt]\n",
    "\n",
    "# Create circles and plot them according to the probabilities.\n",
    "probs = (xarr - min(xarr))\n",
    "probs /= max(probs)\n",
    "for x,y,p in zip(pos_x, pos_y, probs):\n",
    "\n",
    "    #print \"Placing sipm at ({0},{1}) with prob {2}\".format(x,y,p);\n",
    "    \n",
    "    # Set up the location; note we must invert y due to a pi rotation\n",
    "    #  about the x-axis.\n",
    "    r = Ellipse(xy=(x,y), width=2., height=2.);\n",
    "    r.set_facecolor('0');\n",
    "    r.set_alpha(0.02 + 0.98*p);\n",
    "    ax1.add_artist(r);\n",
    "\n",
    "# Place large blue circles for actual EL points.\n",
    "for npt in range(len(yarr)/2):\n",
    "    xpt = yarr[2*npt]*xlen\n",
    "    ypt = yarr[2*npt+1]*ylen\n",
    "    mrk = Ellipse(xy=(xpt,ypt), width=4., height=4.);\n",
    "    mrk.set_facecolor('b');\n",
    "    ax1.add_artist(mrk);\n",
    "    \n",
    "# Place small red circles for predicted EL points.\n",
    "for npt in range(len(predictions[pevt])/2):\n",
    "    xpt = predictions[pevt][2*npt]*xlen\n",
    "    ypt = predictions[pevt][2*npt+1]*ylen\n",
    "    mrk = Ellipse(xy=(xpt,ypt), width=2., height=2.);\n",
    "    mrk.set_facecolor('r');\n",
    "    ax1.add_artist(mrk);\n",
    "\n",
    "# Show the plot.\n",
    "plt.xlabel(\"x (mm)\");\n",
    "plt.ylabel(\"y (mm)\");\n",
    "plt.show()"
   ]
  },
  {
   "cell_type": "markdown",
   "metadata": {},
   "source": [
    "Compare with other machine learning tools:"
   ]
  },
  {
   "cell_type": "code",
   "execution_count": 12,
   "metadata": {
    "collapsed": false
   },
   "outputs": [
    {
     "name": "stderr",
     "output_type": "stream",
     "text": [
      "/usr/local/lib/python2.7/site-packages/scipy/linalg/basic.py:884: RuntimeWarning: internal gelsd driver lwork query error, required iwork dimension not returned. This is likely the result of LAPACK bug 0038, fixed in LAPACK 3.2.2 (released July 21, 2010). Falling back to 'gelss' driver.\n",
      "  warnings.warn(mesg, RuntimeWarning)\n"
     ]
    },
    {
     "name": "stdout",
     "output_type": "stream",
     "text": [
      "----training now----\n",
      "LinReg Error in mm/hit: 16.1953514159\n"
     ]
    }
   ],
   "source": [
    "from sklearn.linear_model import LinearRegression\n",
    "linreg = LinearRegression()\n",
    "linreg_model = linreg.fit(x_train, y_train)\n",
    "print('----training now----')\n",
    "print('LinReg Error in mm/hit: '  + str(\n",
    "        np.sqrt(np.sum((linreg_model.predict(x_valid) - y_valid)**2/N_ELpts/y_valid.shape[0])) * 80) )"
   ]
  },
  {
   "cell_type": "markdown",
   "metadata": {},
   "source": [
    "Save the model if not already saved "
   ]
  },
  {
   "cell_type": "code",
   "execution_count": 13,
   "metadata": {
    "collapsed": false
   },
   "outputs": [],
   "source": [
    "if not ES and Save_model: \n",
    "    model_filename = str(N_ELpts) + 'hit' + str(N_layers) +'lay.h'\n",
    "    model.save(model_filename)"
   ]
  },
  {
   "cell_type": "markdown",
   "metadata": {},
   "source": [
    "Also save the history for DNNcomparison"
   ]
  },
  {
   "cell_type": "code",
   "execution_count": 14,
   "metadata": {
    "collapsed": false
   },
   "outputs": [],
   "source": [
    "hist_filename = 'adamhist_' + str(N_ELpts) + 'hit.h'\n",
    "\n",
    "if Save_hist and not ES: # Can get rid of 'and not ES', but at the moment i dont want to keep the history \n",
    "                         # for comparison if each of the histories will have different numbers of epochs\n",
    "        \n",
    "    if MOD_hist: f = tb.open_file(hist_filename, 'r+')\n",
    "    else:        f = tb.open_file(hist_filename, 'w' )\n",
    "\n",
    "    filters = tb.Filters(complib='blosc', complevel=9, shuffle=False) # define tables filters\n",
    "    arrayname = str(N_layers) + 'lay'                                 # define new array name, (could be carray)\n",
    "    \n",
    "    # put history in ndarray\n",
    "    val_err_hist = np.sqrt(np.array(hist.history['val_loss'])/N_ELpts)*max_xy\n",
    "    \n",
    "    # put ndarray in tables earray\n",
    "    atom = tb.Atom.from_dtype(val_err_hist.dtype)\n",
    "    err_hist = f.create_earray(f.root,arrayname, atom, (0,val_err_hist.shape[0]), filters=filters)\n",
    "    err_hist.append([val_err_hist])"
   ]
  },
  {
   "cell_type": "code",
   "execution_count": 15,
   "metadata": {
    "collapsed": false
   },
   "outputs": [],
   "source": [
    "if Save_hist and not ES:\n",
    "    print(f)\n",
    "    f.close()"
   ]
  },
  {
   "cell_type": "code",
   "execution_count": 16,
   "metadata": {
    "collapsed": true
   },
   "outputs": [],
   "source": [
    "f.close()"
   ]
  },
  {
   "cell_type": "markdown",
   "metadata": {
    "collapsed": true
   },
   "source": []
  }
 ],
 "metadata": {
  "kernelspec": {
   "display_name": "Python 2",
   "language": "python",
   "name": "python2"
  },
  "language_info": {
   "codemirror_mode": {
    "name": "ipython",
    "version": 2
   },
   "file_extension": ".py",
   "mimetype": "text/x-python",
   "name": "python",
   "nbconvert_exporter": "python",
   "pygments_lexer": "ipython2",
   "version": "2.7.12"
  }
 },
 "nbformat": 4,
 "nbformat_minor": 0
}
