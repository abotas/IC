{
 "cells": [
  {
   "cell_type": "markdown",
   "metadata": {},
   "source": [
    "# CONFIGURE-UT"
   ]
  },
  {
   "cell_type": "markdown",
   "metadata": {},
   "source": [
    "## Unit test for Configure.py"
   ]
  },
  {
   "cell_type": "markdown",
   "metadata": {},
   "source": [
    "### PEP8 and pyflakes"
   ]
  },
  {
   "cell_type": "code",
   "execution_count": 1,
   "metadata": {
    "collapsed": true
   },
   "outputs": [],
   "source": [
    "!pep8 ../../Core/Configure.py"
   ]
  },
  {
   "cell_type": "code",
   "execution_count": 2,
   "metadata": {
    "collapsed": false
   },
   "outputs": [
    {
     "name": "stdout",
     "output_type": "stream",
     "text": [
      "../../Core/Configure.py:5: 'logging' imported but unused\r\n"
     ]
    }
   ],
   "source": [
    "!pyflakes ../../Core/Configure.py"
   ]
  },
  {
   "cell_type": "markdown",
   "metadata": {},
   "source": [
    "needs to be imported to set the logger!"
   ]
  },
  {
   "cell_type": "code",
   "execution_count": 3,
   "metadata": {
    "collapsed": false
   },
   "outputs": [
    {
     "data": {
      "text/plain": [
       "'hello Pilo'"
      ]
     },
     "execution_count": 3,
     "metadata": {},
     "output_type": "execute_result"
    }
   ],
   "source": [
    "hola = ['hello', ' ', 'Pilo']\n",
    "''.join(hola)"
   ]
  },
  {
   "cell_type": "code",
   "execution_count": 4,
   "metadata": {
    "collapsed": true
   },
   "outputs": [],
   "source": [
    "# %load ../../Core/Configure.py\n",
    "\"\"\"\n",
    "Configure running options for the cities\n",
    "JJGC August 2016\n",
    "\"\"\"\n",
    "import logging\n",
    "from LogConfig import logger\n",
    "import pandas as pd\n",
    "import getopt\n",
    "import sys\n",
    "\n",
    "\n",
    "def cdf_to_dict(cdf):\n",
    "    \"\"\"\n",
    "    transforms the configuration data frame into a dictionary\n",
    "    \"\"\"\n",
    "    dc = {}\n",
    "    for k in cdf.keys():\n",
    "        dc[k] = cdf[k][0]\n",
    "    return dc\n",
    "\n",
    "\n",
    "def usage(program_name):\n",
    "    \"\"\"\n",
    "    Usage of program\n",
    "    \"\"\"\n",
    "    print(\"\"\"\n",
    "        Usage: python (run) {} [args]\n",
    "\n",
    "\n",
    "        where args are:\n",
    "         -h (--help) : this text\n",
    "         -i (--info) : print a text describing the invisible city of DIOMIRA\n",
    "         -d (--debug) : can be set to 'DEBUG','INFO','WARNING','ERROR'\n",
    "         -c (--cfile) : full path to a configuration file\n",
    "\n",
    "        \"\"\".format(program_name))\n",
    "\n",
    "\n",
    "def configure(pname, argv):\n",
    "    \"\"\"\n",
    "    reads arguments from the command line and configures job\n",
    "    \"\"\"\n",
    "    DEBUG = 'INFO'\n",
    "    INFO = False\n",
    "    cfile = ''\n",
    "\n",
    "    try:\n",
    "        opts, args = getopt.getopt(argv,\n",
    "                                   \"hid:c:\",\n",
    "                                   [\"help\", \"info\", \"debug\", \"cfile\"])\n",
    "    except getopt.GetoptError:\n",
    "        usage(pname)\n",
    "        sys.exit(2)\n",
    "\n",
    "    for opt, arg in opts:\n",
    "        if opt in (\"-h\", \"--help\"):\n",
    "            usage(pname)\n",
    "            sys.exit()\n",
    "        elif opt in (\"-d\", \"--debug\"):\n",
    "            DEBUG = arg\n",
    "        elif opt in (\"-i\", \"--info\"):\n",
    "            INFO = True\n",
    "        elif opt in (\"-c\", \"--cfile\"):\n",
    "            cfile = arg\n",
    "\n",
    "    #lg = 'logging.'+DEBUG \n",
    "    lg = ''.join(['logging.', DEBUG]) #preferred by python idiom\n",
    "    logger.setLevel(eval(lg))\n",
    "\n",
    "    if cfile == '':\n",
    "        print(\"Path to configuration file not given\")\n",
    "        usage(pname)\n",
    "        sys.exit()\n",
    "\n",
    "    cfp = pd.read_csv(cfile, comment=\"#\")\n",
    "    CFP = cdf_to_dict(cfp)\n",
    "    return DEBUG, INFO, CFP\n",
    "\n",
    "\n",
    "def define_event_loop(FIRST_EVT, LAST_EVT, NEVENTS, NEVENTS_DST, RUN_ALL):\n",
    "    \"\"\"\n",
    "    defines the number of events to run in the loop\n",
    "    \"\"\"\n",
    "    first = FIRST_EVT\n",
    "    last = LAST_EVT\n",
    "    if NEVENTS > NEVENTS_DST and RUN_ALL is False:\n",
    "        print(\"\"\"\n",
    "                Refusing to run: you have requested\n",
    "                FIRST_EVT = {}\n",
    "                LAST_EVT  = {}\n",
    "                Thus you want to run over {} events\n",
    "                but the size of the DST is {} events.\n",
    "                Please change your choice or select RUN_ALL = TRUE\n",
    "                to run over the whole DST when this happens\n",
    "                \"\"\".format(FIRST_EVT, LAST_EVT, NEVENTS, NEVENTS_DST))\n",
    "        sys.exit(0)\n",
    "\n",
    "    elif NEVENTS > NEVENTS_DST and RUN_ALL is True:\n",
    "        first = 0\n",
    "        last = NEVENTS_DST\n",
    "    return first, last\n",
    "\n",
    "#\n",
    "#\n",
    "#\n",
    "#\n",
    "# if __name__ == '__main__':\n",
    "#     INFO, CFP = configure(sys.argv[0],sys.argv[1:])\n"
   ]
  },
  {
   "cell_type": "code",
   "execution_count": null,
   "metadata": {
    "collapsed": false
   },
   "outputs": [],
   "source": [
    "ls ../../Config/DIOMIRA_default.csv"
   ]
  },
  {
   "cell_type": "code",
   "execution_count": null,
   "metadata": {
    "collapsed": true
   },
   "outputs": [],
   "source": [
    "%less ../../Config/DIOMIRA_default.csv"
   ]
  },
  {
   "cell_type": "markdown",
   "metadata": {},
   "source": [
    "#Configuration file for DIOMIRA\n",
    "PATH_IN,PATH_OUT,FILE_IN,FILE_OUT,FIRST_EVT,LAST_EVT,RUN_ALL,END \n",
    "/Users/jjgomezcadenas/Documents/Development/NEXT/data/Waveforms/,/Users/jjgomezcadenas/Documents/Development/NEXT/data/Waveforms/25ns/,WF_Tl_0.h5,WF_Tl_0_RWF.h5,0,99,1,1"
   ]
  },
  {
   "cell_type": "code",
   "execution_count": 5,
   "metadata": {
    "collapsed": false
   },
   "outputs": [],
   "source": [
    "DEBUG,INFO,CFP = configure('DIOMIRA',['-i','-d','DEBUG','-c','../../Config/DIOMIRA_default.csv'])"
   ]
  },
  {
   "cell_type": "code",
   "execution_count": 6,
   "metadata": {
    "collapsed": false
   },
   "outputs": [
    {
     "data": {
      "text/plain": [
       "'DEBUG'"
      ]
     },
     "execution_count": 6,
     "metadata": {},
     "output_type": "execute_result"
    }
   ],
   "source": [
    "DEBUG"
   ]
  },
  {
   "cell_type": "code",
   "execution_count": 7,
   "metadata": {
    "collapsed": false
   },
   "outputs": [
    {
     "data": {
      "text/plain": [
       "True"
      ]
     },
     "execution_count": 7,
     "metadata": {},
     "output_type": "execute_result"
    }
   ],
   "source": [
    "INFO"
   ]
  },
  {
   "cell_type": "code",
   "execution_count": 8,
   "metadata": {
    "collapsed": false
   },
   "outputs": [
    {
     "data": {
      "text/plain": [
       "{'END ': 1,\n",
       " 'FILE_IN': 'WF_Tl_0.h5',\n",
       " 'FILE_OUT': 'WF_Tl_0_RWF.h5',\n",
       " 'FIRST_EVT': 0,\n",
       " 'LAST_EVT': 99,\n",
       " 'PATH_IN': '/Users/jjgomezcadenas/Documents/Development/NEXT/data/Waveforms/',\n",
       " 'PATH_OUT': '/Users/jjgomezcadenas/Documents/Development/NEXT/data/Waveforms/25ns/',\n",
       " 'RUN_ALL': 1}"
      ]
     },
     "execution_count": 8,
     "metadata": {},
     "output_type": "execute_result"
    }
   ],
   "source": [
    "CFP"
   ]
  },
  {
   "cell_type": "code",
   "execution_count": null,
   "metadata": {
    "collapsed": true
   },
   "outputs": [],
   "source": []
  },
  {
   "cell_type": "code",
   "execution_count": null,
   "metadata": {
    "collapsed": true
   },
   "outputs": [],
   "source": []
  }
 ],
 "metadata": {
  "anaconda-cloud": {},
  "kernelspec": {
   "display_name": "Python [Root]",
   "language": "python",
   "name": "Python [Root]"
  },
  "language_info": {
   "codemirror_mode": {
    "name": "ipython",
    "version": 2
   },
   "file_extension": ".py",
   "mimetype": "text/x-python",
   "name": "python",
   "nbconvert_exporter": "python",
   "pygments_lexer": "ipython2",
   "version": "2.7.12"
  }
 },
 "nbformat": 4,
 "nbformat_minor": 0
}
