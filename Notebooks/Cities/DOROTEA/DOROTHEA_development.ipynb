{
 "cells": [
  {
   "cell_type": "code",
   "execution_count": 1,
   "metadata": {
    "collapsed": false
   },
   "outputs": [
    {
     "name": "stdout",
     "output_type": "stream",
     "text": [
      "Run last on 11/11/2016 at 11:38:16\n"
     ]
    }
   ],
   "source": [
    "from __future__ import print_function\n",
    "import math\n",
    "import time\n",
    "import numpy as np\n",
    "import tables as tb\n",
    "import matplotlib.pyplot as plt\n",
    "import system_of_units as units\n",
    "import Nh5\n",
    "import tblFunctions as tbl\n",
    "%matplotlib inline\n",
    "%load_ext autoreload\n",
    "%autoreload 2\n",
    "print(\"Run last on {} at {}\".format(time.strftime(\"%d/%m/%Y\"),time.strftime(\"%H:%M:%S\")))"
   ]
  },
  {
   "cell_type": "code",
   "execution_count": 2,
   "metadata": {
    "collapsed": true
   },
   "outputs": [],
   "source": [
    "try:\n",
    "    f.close()\n",
    "except:\n",
    "    pass"
   ]
  },
  {
   "cell_type": "code",
   "execution_count": 3,
   "metadata": {
    "collapsed": true
   },
   "outputs": [],
   "source": [
    "f = tb.open_file(\"/Users/Gonzalo/github/IC/data/out0.h5\")"
   ]
  },
  {
   "cell_type": "code",
   "execution_count": 4,
   "metadata": {
    "collapsed": false
   },
   "outputs": [
    {
     "name": "stdout",
     "output_type": "stream",
     "text": [
      "/Users/Gonzalo/github/IC/data/out0.h5 (File) ''\n",
      "Last modif.: 'Mon Oct 24 00:16:03 2016'\n",
      "Object Tree: \n",
      "/ (RootGroup) ''\n",
      "/BLR (Group) ''\n",
      "/BLR/mau (EArray(500, 32000), shuffle, zlib(4)) ''\n",
      "/BLR/pulse_on (EArray(500, 32000), shuffle, zlib(4)) ''\n",
      "/BLR/wait_over (EArray(500, 32000), shuffle, zlib(4)) ''\n",
      "/Detector (Group) ''\n",
      "/Detector/DetectorGeometry (Table(1,)) ''\n",
      "/MC (Group) ''\n",
      "/MC/FEE (Table(1,)) 'EP-FEE parameters'\n",
      "/MC/MCTracks (Table(4144,), zlib(1)) ''\n",
      "/RD (Group) ''\n",
      "/RD/pmtblr (EArray(500, 12, 32000), shuffle, zlib(4)) ''\n",
      "/RD/pmtcwf (EArray(500, 12, 32000), shuffle, zlib(4)) ''\n",
      "/RD/pmtrwf (EArray(500, 12, 32000), shuffle, zlib(4)) ''\n",
      "/RD/sipmrwf (EArray(500, 1789, 800), shuffle, zlib(4)) ''\n",
      "/Sensors (Group) ''\n",
      "/Sensors/DataBLR (Table(12,)) ''\n",
      "/Sensors/DataPMT (Table(12,)) ''\n",
      "/Sensors/DataSiPM (Table(1789,)) ''\n",
      "/TWF (Group) ''\n",
      "/TWF/PMT (Table(7008,), shuffle, zlib(4)) 'Store for PMTs TWF'\n",
      "/TWF/SiPM (Table(44112,), shuffle, zlib(4)) 'Store for SiPM TWF'\n",
      "/ZS (Group) ''\n",
      "/ZS/BLR (EArray(500, 1, 32000), shuffle, zlib(4)) ''\n",
      "/ZS/PMT (EArray(500, 1, 32000), shuffle, zlib(4)) ''\n",
      "/ZS/SiPM (EArray(500, 1789, 800), shuffle, zlib(4)) ''\n",
      "\n"
     ]
    }
   ],
   "source": [
    "print(f)"
   ]
  },
  {
   "cell_type": "code",
   "execution_count": 5,
   "metadata": {
    "collapsed": false
   },
   "outputs": [],
   "source": [
    "pmtzs = f.root.ZS.PMT\n",
    "sipmzs = f.root.ZS.SiPM"
   ]
  },
  {
   "cell_type": "markdown",
   "metadata": {},
   "source": [
    "# PMap definition (including Signal and Peak)"
   ]
  },
  {
   "cell_type": "code",
   "execution_count": 6,
   "metadata": {
    "collapsed": false
   },
   "outputs": [],
   "source": [
    "# WARNINGS:\n",
    "# some input arguments need to be copied (for some reason I don't understand)\n",
    "# otherwise, they will be taken from previous calls (wtf!?)\n",
    "\n",
    "class Signal:\n",
    "    \"\"\"\n",
    "    Structure to hold peak types.\n",
    "    \n",
    "    Attributes\n",
    "    ----------\n",
    "    UNKNOWN : string\n",
    "        Unknown signal type.\n",
    "    S1 : string\n",
    "        S1 signal type.\n",
    "    S2 : string\n",
    "        S2 signal type.\n",
    "    \"\"\"\n",
    "    UNKNOWN = \"??\"\n",
    "    S1 = \"S1\"\n",
    "    S2 = \"S2\"\n",
    "\n",
    "\n",
    "class Peak:\n",
    "    \"\"\"\n",
    "    A Peak is a collection of consecutive 1mus-slices containing both\n",
    "    anode and cathode information.\n",
    "    \n",
    "    Parameters\n",
    "    ----------\n",
    "    times : 1-dim np.ndarray\n",
    "        Time for each slice\n",
    "    pmt_ene : 1-dim np.ndarray\n",
    "        Signal recorded by the summed PMT for each slice\n",
    "    sipm_enes : 2-dim np.ndarray\n",
    "        Signal recorded by the SiPMs (axis 1) for each slice (axis 0)\n",
    "    tothrs : 1-dim np.ndarray\n",
    "        Number os 25ns-samples with signal for each slice\n",
    "    peaktype : string, optional\n",
    "        Peak type: Signal.S1, Signal.S2 or Signal.UNKNOWN\n",
    "        default is Signal.UNKNOWN\n",
    "    \"\"\"\n",
    "    \n",
    "    def __init__(self, times, pmt_ene, sipm_enes, tothrs, peaktype=Signal.UNKNOWN):\n",
    "        self.times = np.copy(times)\n",
    "        self.cathode = np.copy(pmt_ene)\n",
    "        self.anode = np.copy(sipm_enes)\n",
    "        self.tothrs = np.copy(tothrs)\n",
    "        self.signal = peaktype\n",
    "        \n",
    "        self.tmin = self.times[0]\n",
    "        self.tmax = self.times[-1]\n",
    "        self.width = self.tmax - self.tmin\n",
    "        \n",
    "        self.peakmax = self.times[np.argmax(self.cathode)], np.max(self.cathode)\n",
    "        self.cathode_integral = self.cathode.sum()\n",
    "        self.anode_integral = self.anode.sum()\n",
    "        \n",
    "    def __iter__(self):\n",
    "        for data in zip(self.times, self.tothrs, self.cathode, self.anode):\n",
    "            yield data\n",
    "    \n",
    "    def __str__(self):\n",
    "        zs = lambda qs: [(ID, q) for ID, q in enumerate(qs) if q]\n",
    "        header = \"Peak type: {} Cathode sum: {} Anode sum: {}\\n\".format(self.signal,\n",
    "                                                                        self.cathode_integral,\n",
    "                                                                        self.anode_integral)\n",
    "        header = header + \"time ToT cathode anode\\n\"\n",
    "        body = '\\n'.join([\"{} {} {} {}\".format(t, tot, e, zs(q)) for t, tot, e, q in self])\n",
    "        return header + body\n",
    "    \n",
    "    def __repr__(self):\n",
    "        return str(self)\n",
    "\n",
    "\n",
    "class PMap:\n",
    "    \"\"\"\n",
    "    A PMap is a collection of peaks found in the same event.\n",
    "    \"\"\"\n",
    "    def __init__(self, t0=-1., peaks=[]):\n",
    "        self.t0 = t0\n",
    "        self.peaks = list(peaks)\n",
    "        \n",
    "    def __str__(self):\n",
    "        header = 'PMAP with {} peaks. Event t0 = {} mus'.format(len(self.peaks), self.t0)\n",
    "        body = '\\n'.join(['Peak #{}\\n{}'.format(i, peak) for i, peak in enumerate(self.peaks)])\n",
    "        return header + '\\n\\n' + body\n",
    "    \n",
    "    def __iter__(self):\n",
    "        for peak in peaks:\n",
    "            yield peak\n",
    "\n",
    "    def __repr__(self):\n",
    "        return str(self)\n",
    "\n",
    "\n",
    "def build_pmap(pmtwf, sipmwfs, stride=40):\n",
    "    \"\"\"\n",
    "    Finds any peak in the waveform and rebins it.\n",
    "    \"\"\"\n",
    "    to_mus = 25*stride*units.ns/units.mus\n",
    "    \n",
    "    nbins = int(math.ceil(len(pmtwf)*1.0/stride))\n",
    "    pmap = PMap()\n",
    "    ene_pmt = []\n",
    "    ene_sipms = []\n",
    "    time_over_thrs = []\n",
    "    tmin = float(\"inf\")\n",
    "    foundS2 = False\n",
    "    \n",
    "    for i in range(nbins):\n",
    "        low = i * stride\n",
    "        upp = low + stride\n",
    "        slice_ = pmtwf[low:upp]\n",
    "        e = slice_.sum()\n",
    "        q = sipmwfs[:, i].flatten()\n",
    "        t = i\n",
    "\n",
    "        # Non-empty slice, append it and carry on\n",
    "        if e > 0.:\n",
    "            if t<tmin:\n",
    "                tmin = t\n",
    "            ene_pmt.append(e)\n",
    "            q = np.concatenate((q,np.zeros(3)))\n",
    "            ene_sipms.append(q)\n",
    "            time_over_thrs.append(np.nonzero(slice_)[0].size)\n",
    "\n",
    "        # Empty slice. Everything accumulated so far is a peak.\n",
    "        # It will be S1-like if it is a short peak\n",
    "        elif len(ene_pmt) > 0:\n",
    "            sigtype = Signal.S2 if len(ene_pmt)>1 else Signal.S1 if not foundS2 else Signal.UNKNOWN\n",
    "            if sigtype==Signal.S2:\n",
    "                foundS2 = True\n",
    "            tmax = t\n",
    "            peak = Peak(np.arange(tmin, tmax)*to_mus,\n",
    "                        ene_pmt, ene_sipms,\n",
    "                        time_over_thrs, sigtype)\n",
    "            pmap.peaks.append(peak)\n",
    "\n",
    "            rebin_wf = []\n",
    "            tmin = float(\"inf\")\n",
    "            ene_pmt = []\n",
    "            ene_sipms = []\n",
    "            time_over_thrs = []\n",
    "\n",
    "    return pmap\n",
    "\n",
    "\n",
    "def store_pmap(pmap, table, evt):\n",
    "    row = table.row\n",
    "    for i, peak in enumerate(pmap.peaks):\n",
    "        for time, ToT, e, qs in peak:\n",
    "            row[\"event\"] = evt\n",
    "            row[\"peak\"] = i\n",
    "            row[\"signal\"] = peak.signal\n",
    "            row[\"time\"] = time\n",
    "            row[\"ToT\"] = ToT\n",
    "            row[\"cathode\"] = e\n",
    "            row[\"anode\"] = qs\n",
    "            row.append()\n",
    "    table.flush()\n",
    "    \n",
    "\n",
    "def read_pmap(table, evt):\n",
    "    \"\"\"\n",
    "    Reads back the pmap stored in table.\n",
    "    \"\"\"\n",
    "    pmap = PMap()\n",
    "    peaks = set(table.read_where(\"event=={}\".format(evt), field=\"peak\"))\n",
    "    for peak in peaks:\n",
    "        coords = table.get_where_list(\"(event == {}) & \"\n",
    "                                      \"(peak == {})\".format(evt, peak))\n",
    "        signal = table[coords[0]][\"signal\"]\n",
    "        times = table.read_coordinates(coords, \"time\")\n",
    "        ToT = table.read_coordinates(coords, \"ToT\")\n",
    "        cathode = table.read_coordinates(coords, \"cathode\")\n",
    "        anode = table.read_coordinates(coords, \"anode\")\n",
    "        pmap.peaks.append(Peak(times, cathode, anode, ToT, signal))\n",
    "    return pmap\n"
   ]
  },
  {
   "cell_type": "markdown",
   "metadata": {},
   "source": [
    "# Test PMap creation"
   ]
  },
  {
   "cell_type": "code",
   "execution_count": 7,
   "metadata": {
    "collapsed": false
   },
   "outputs": [],
   "source": [
    "evt = 1\n",
    "pmap = build_pmap(pmtzs[evt][0], sipmzs[evt])"
   ]
  },
  {
   "cell_type": "code",
   "execution_count": 8,
   "metadata": {
    "collapsed": false,
    "scrolled": true
   },
   "outputs": [
    {
     "name": "stdout",
     "output_type": "stream",
     "text": [
      "PMAP with 2 peaks. Event t0 = -1.0 mus\n",
      "\n",
      "Peak #0\n",
      "Peak type: S1 Cathode sum: 4 Anode sum: 0.0\n",
      "time ToT cathode anode\n",
      "100.0 2 4 []\n",
      "Peak #1\n",
      "Peak type: S2 Cathode sum: 10101 Anode sum: 531.0\n",
      "time ToT cathode anode\n",
      "380.0 5 9 []\n",
      "381.0 31 141 [(1020, 5.0), (1280, 8.0)]\n",
      "382.0 40 458 [(1020, 6.0), (1279, 7.0), (1280, 7.0), (1281, 4.0), (1288, 8.0)]\n",
      "383.0 40 1113 [(1020, 9.0), (1279, 11.0), (1280, 38.0), (1281, 10.0), (1287, 5.0), (1288, 15.0)]\n",
      "384.0 40 1875 [(1019, 8.0), (1020, 26.0), (1021, 6.0), (1279, 11.0), (1280, 42.0), (1281, 13.0), (1287, 5.0), (1288, 11.0)]\n",
      "385.0 40 2221 [(1019, 11.0), (1020, 22.0), (1279, 14.0), (1280, 42.0), (1281, 11.0), (1287, 9.0), (1288, 18.0), (1289, 5.0)]\n",
      "386.0 40 1949 [(1019, 4.0), (1020, 10.0), (1021, 4.0), (1279, 9.0), (1280, 43.0), (1281, 10.0), (1287, 4.0), (1288, 15.0)]\n",
      "387.0 40 1312 [(1020, 5.0), (1279, 7.0), (1280, 17.0), (1281, 4.0)]\n",
      "388.0 40 638 [(1280, 7.0), (1281, 5.0)]\n",
      "389.0 40 316 []\n",
      "390.0 29 69 []\n"
     ]
    }
   ],
   "source": [
    "print(pmap)"
   ]
  },
  {
   "cell_type": "markdown",
   "metadata": {},
   "source": [
    "# Test PMap IO"
   ]
  },
  {
   "cell_type": "code",
   "execution_count": 9,
   "metadata": {
    "collapsed": false
   },
   "outputs": [
    {
     "name": "stdout",
     "output_type": "stream",
     "text": [
      "PMAP with 2 peaks. Event t0 = -1.0 mus\n",
      "\n",
      "Peak #0\n",
      "Peak type: S1 Cathode sum: 4.0 Anode sum: 0.0\n",
      "time ToT cathode anode\n",
      "100.0 2 4.0 []\n",
      "Peak #1\n",
      "Peak type: S2 Cathode sum: 10101.0 Anode sum: 531.0\n",
      "time ToT cathode anode\n",
      "380.0 5 9.0 []\n",
      "381.0 31 141.0 [(1020, 5.0), (1280, 8.0)]\n",
      "382.0 40 458.0 [(1020, 6.0), (1279, 7.0), (1280, 7.0), (1281, 4.0), (1288, 8.0)]\n",
      "383.0 40 1113.0 [(1020, 9.0), (1279, 11.0), (1280, 38.0), (1281, 10.0), (1287, 5.0), (1288, 15.0)]\n",
      "384.0 40 1875.0 [(1019, 8.0), (1020, 26.0), (1021, 6.0), (1279, 11.0), (1280, 42.0), (1281, 13.0), (1287, 5.0), (1288, 11.0)]\n",
      "385.0 40 2221.0 [(1019, 11.0), (1020, 22.0), (1279, 14.0), (1280, 42.0), (1281, 11.0), (1287, 9.0), (1288, 18.0), (1289, 5.0)]\n",
      "386.0 40 1949.0 [(1019, 4.0), (1020, 10.0), (1021, 4.0), (1279, 9.0), (1280, 43.0), (1281, 10.0), (1287, 4.0), (1288, 15.0)]\n",
      "387.0 40 1312.0 [(1020, 5.0), (1279, 7.0), (1280, 17.0), (1281, 4.0)]\n",
      "388.0 40 638.0 [(1280, 7.0), (1281, 5.0)]\n",
      "389.0 40 316.0 []\n",
      "390.0 29 69.0 []\n"
     ]
    }
   ],
   "source": [
    "h5out = tb.open_file(\"pmap_test.h5\", \"w\")\n",
    "out_table = h5out.create_table(h5out.root, \"PMAP\", Nh5.PMAP, \"Store for PMaps\", tbl.filters(\"ZLIB4\"))\n",
    "store_pmap(pmap, out_table, 0)\n",
    "h5out.close()\n",
    "h5out = tb.open_file(\"pmap_test.h5\")\n",
    "pmap = read_pmap(h5out.root.PMAP, 0)\n",
    "h5out.close()\n",
    "print(pmap)"
   ]
  },
  {
   "cell_type": "markdown",
   "metadata": {},
   "source": [
    "# Timing PMap process"
   ]
  },
  {
   "cell_type": "code",
   "execution_count": 229,
   "metadata": {
    "collapsed": false
   },
   "outputs": [
    {
     "name": "stdout",
     "output_type": "stream",
     "text": [
      "17.0374040604\n"
     ]
    }
   ],
   "source": [
    "t0 = time.time()\n",
    "pmaps = [build_pmap(pmtzs[evt][0],sipmzs[evt]) for evt in range(500)]\n",
    "print(time.time()-t0)"
   ]
  },
  {
   "cell_type": "markdown",
   "metadata": {},
   "source": [
    "# Data study"
   ]
  },
  {
   "cell_type": "markdown",
   "metadata": {},
   "source": [
    "### Histogram of the number of non-zero 25ns-samples in the same peak"
   ]
  },
  {
   "cell_type": "code",
   "execution_count": 230,
   "metadata": {
    "collapsed": false
   },
   "outputs": [
    {
     "data": {
      "image/png": "[encoded data removed]",
      "text/plain": [
       "<matplotlib.figure.Figure at 0x11b46e6d0>"
      ]
     },
     "metadata": {},
     "output_type": "display_data"
    }
   ],
   "source": [
    "data = [pk.tothrs.sum() for pmap in pmaps for pk in pmap.peaks]\n",
    "h = plt.hist(np.array(data).flatten(), 100, range=(0,600))\n",
    "plt.xlabel(\"# non-zero 25-ns samples\")\n",
    "plt.ylabel(\"Entries\")\n",
    "plt.yscale(\"log\")"
   ]
  },
  {
   "cell_type": "markdown",
   "metadata": {},
   "source": [
    "### Histogram of the width of the peaks"
   ]
  },
  {
   "cell_type": "code",
   "execution_count": 231,
   "metadata": {
    "collapsed": false
   },
   "outputs": [
    {
     "data": {
      "image/png": "[encoded data removed]",
      "text/plain": [
       "<matplotlib.figure.Figure at 0x11e140610>"
      ]
     },
     "metadata": {},
     "output_type": "display_data"
    }
   ],
   "source": [
    "data = [pk.width for pmap in pmaps for pk in pmap.peaks]\n",
    "h = plt.hist(np.array(data).flatten(), 50, range=(0,50))\n",
    "plt.xlabel(\"Peak width (mus)\")\n",
    "plt.ylabel(\"Entries\")\n",
    "plt.yscale('log')"
   ]
  },
  {
   "cell_type": "markdown",
   "metadata": {},
   "source": [
    "### Scatter plot of the number of non-zero samples vs width of the peaks"
   ]
  },
  {
   "cell_type": "code",
   "execution_count": 233,
   "metadata": {
    "collapsed": false
   },
   "outputs": [
    {
     "data": {
      "text/plain": [
       "<matplotlib.text.Text at 0x11d16a490>"
      ]
     },
     "execution_count": 233,
     "metadata": {},
     "output_type": "execute_result"
    },
    {
     "data": {
      "image/png": "[encoded data removed]",
      "text/plain": [
       "<matplotlib.figure.Figure at 0x11b723ed0>"
      ]
     },
     "metadata": {},
     "output_type": "display_data"
    }
   ],
   "source": [
    "width, tot = zip(*[(pk.width, pk.tothrs.sum()) for pmap in pmaps for pk in pmap.peaks])\n",
    "h = plt.scatter(width, tot)\n",
    "plt.xlabel(\"Peak width (mus)\")\n",
    "plt.ylabel(\"# non-zero 25-ns samples\")"
   ]
  },
  {
   "cell_type": "markdown",
   "metadata": {},
   "source": [
    "### Histogram of the width of the peaks for non-zero samples < 20"
   ]
  },
  {
   "cell_type": "code",
   "execution_count": 234,
   "metadata": {
    "collapsed": false
   },
   "outputs": [
    {
     "data": {
      "image/png": "[encoded data removed]",
      "text/plain": [
       "<matplotlib.figure.Figure at 0x11c0d7e50>"
      ]
     },
     "metadata": {},
     "output_type": "display_data"
    }
   ],
   "source": [
    "data = [pk.width for pmap in pmaps for pk in pmap.peaks if pk.tothrs.sum()<20]\n",
    "h = plt.hist(np.array(data).flatten(), 50, range=(0,50))\n",
    "plt.yscale('log')"
   ]
  },
  {
   "cell_type": "markdown",
   "metadata": {},
   "source": [
    "### Histogram of the number of non-zero samples for 1-mus peaks"
   ]
  },
  {
   "cell_type": "code",
   "execution_count": 236,
   "metadata": {
    "collapsed": false
   },
   "outputs": [
    {
     "data": {
      "image/png": "[encoded data removed]",
      "text/plain": [
       "<matplotlib.figure.Figure at 0x11a4e6e10>"
      ]
     },
     "metadata": {},
     "output_type": "display_data"
    }
   ],
   "source": [
    "data = [pk.tothrs.sum() for pmap in pmaps for pk in pmap.peaks if pk.width==1.]\n",
    "h = plt.hist(np.array(data).flatten(), 50, range=(0,50))\n",
    "plt.yscale('log')"
   ]
  },
  {
   "cell_type": "markdown",
   "metadata": {},
   "source": [
    "**S1 can be defined based on the # of non-zero samples or the peak width**"
   ]
  }
 ],
 "metadata": {
  "anaconda-cloud": {},
  "kernelspec": {
   "display_name": "Python [conda root]",
   "language": "python",
   "name": "conda-root-py"
  },
  "language_info": {
   "codemirror_mode": {
    "name": "ipython",
    "version": 2
   },
   "file_extension": ".py",
   "mimetype": "text/x-python",
   "name": "python",
   "nbconvert_exporter": "python",
   "pygments_lexer": "ipython2",
   "version": "2.7.12"
  }
 },
 "nbformat": 4,
 "nbformat_minor": 1
}
