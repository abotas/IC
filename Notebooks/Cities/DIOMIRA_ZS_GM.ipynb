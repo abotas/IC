{
 "cells": [
  {
   "cell_type": "markdown",
   "metadata": {},
   "source": [
    "# Applying zero-suppression to DIOMIRA's output"
   ]
  },
  {
   "cell_type": "markdown",
   "metadata": {},
   "source": [
    "### Why?\n",
    "Compression algorithms work well with data showing regular patterns which in our case translates to the large amount of (exact) zeroes in the true waveforms. Due to the introduction of noise to the SiPMs raw waveforms, the output file size has been increased by a factor 50-100 because compression algorithms are no longer efficient. To tackle this issue, the data must be zero-suppressed, getting rid of a large fraction of the SiPMs waveforms that will not be stored."
   ]
  },
  {
   "cell_type": "markdown",
   "metadata": {},
   "source": [
    "### How?"
   ]
  },
  {
   "cell_type": "markdown",
   "metadata": {},
   "source": [
    "The SiPMs noise distributions can be described as a sum of (low-charge) gaussians distributions, each one exponentially smaller. The easiest way to differenciate signal from noise is to place a cut in the SiPMs waveforms so that anything below that level is ignored. Such value (which may be different for every SiPM) must be optimized depending on the conditions and the event signature.\n",
    "\n",
    "A new function has been introduced to [sensorFunctions.py](../../Core/sensorFunctions.py) to perform the zero-suppression:"
   ]
  },
  {
   "cell_type": "code",
   "execution_count": 1,
   "metadata": {
    "collapsed": false
   },
   "outputs": [],
   "source": [
    "def sensor_wise_zero_suppresion(data,thresholds, to_mus=None):\n",
    "    '''\n",
    "        takes an array of waveforms, applies the corresponding threshold to\n",
    "        each row and returns a dictionary with the data frames of the survivors.\n",
    "    '''\n",
    "    # If threshold is a single value, transform it into an array\n",
    "    if not hasattr(thresholds, '__iter__'): thresholds = np.ones( data.shape[0] ) * thresholds\n",
    "\n",
    "    def zs_df(waveform,threshold):\n",
    "        '''\n",
    "            Get the zero-supressed wfms. Return None if it is completely suppresed.\n",
    "        '''\n",
    "        t = np.argwhere(waveform>threshold).flatten()\n",
    "        if not t.any(): return None\n",
    "        return wf2df( t if to_mus is None else t*to_mus,waveform[t] )\n",
    "\n",
    "    return { i : df for i,df in enumerate(map(zs_df,data,thresholds)) if not df is None }"
   ]
  },
  {
   "cell_type": "markdown",
   "metadata": {},
   "source": [
    "##### sensor_wise_zero_suppression function"
   ]
  },
  {
   "cell_type": "markdown",
   "metadata": {},
   "source": [
    "This function takes an array of waveforms of shape (nsensors,nsamples) and an array of thresholds of shape (1,nsensors) and filters each row with the correspondent threshold. If the zero-suppressed waveform contains anything different than zero it is converted to a pandas data frame and returned within a dictionary that maps each ID to its zero-suppressed waveform."
   ]
  },
  {
   "cell_type": "code",
   "execution_count": 3,
   "metadata": {
    "collapsed": false
   },
   "outputs": [
    {
     "name": "stdout",
     "output_type": "stream",
     "text": [
      "Array: [[  6.   7.   8.   9.  10.  11.]\n",
      " [ 12.  13.  14.  15.  16.  17.]] Thresholds: [9.0, 14.0]\n",
      "\n",
      "Sensor  0 \n",
      "   ene_pes  time_mus\n",
      "0     10.0         4\n",
      "1     11.0         5 \n",
      "\n",
      "Sensor  1 \n",
      "   ene_pes  time_mus\n",
      "0     15.0         3\n",
      "1     16.0         4\n",
      "2     17.0         5 \n",
      "\n"
     ]
    }
   ],
   "source": [
    "########### TEST ##############\n",
    "import wfmFunctions as wfm\n",
    "import numpy as np\n",
    "a  = np.arange(6.,18.).reshape(2,6)\n",
    "th = [9.,14.]\n",
    "print 'Array:',a,'Thresholds:',th\n",
    "# This should return a dictionary with:\n",
    "# 0 mapping to a data frame with [4.,5.] as time_mus and [10.,11.] as ene_pes\n",
    "# 1 mapping to a data frame with [3.,4.,5.] as time_mus and [15.,16.,17.] as ene_pes\n",
    "print ''\n",
    "for sns,df in wfm.sensor_wise_zero_suppresion(a,th).items():\n",
    "    print 'Sensor ',sns,'\\n',df,'\\n'"
   ]
  },
  {
   "cell_type": "markdown",
   "metadata": {
    "collapsed": true
   },
   "source": [
    "As mentioned before, the cut applied to the waveforms is based on the SiPMs' noise distributions. In order to remove a certain fraction ****c**** of the noise, the number of photoelectrons that covers the distribution to such ****c**** must be found:"
   ]
  },
  {
   "cell_type": "code",
   "execution_count": 4,
   "metadata": {
    "collapsed": false
   },
   "outputs": [
    {
     "data": {
      "image/png": "[encoded data removed]",
      "text/plain": [
       "<IPython.core.display.Image object>"
      ]
     },
     "execution_count": 4,
     "metadata": {},
     "output_type": "execute_result"
    }
   ],
   "source": [
    "from IPython.display import Image\n",
    "Image(filename='../../Images/NoiseThreshold.png')"
   ]
  },
  {
   "cell_type": "raw",
   "metadata": {},
   "source": [
    "from RandomSampling import *\n",
    "import matplotlib\n",
    "import matplotlib.pyplot as plt\n",
    "%matplotlib inline\n",
    "ns = NoiseSampler('../../Database/NoiseSiPM_NEW.dat',{j:i for i,j in enumerate(1000*i+1000+j for i in range(28) for j in range(64)) if not j in [14010,15047,25049]})\n",
    "th = ns.ComputeThresholds()\n",
    "plt.yscale('log')\n",
    "sipm = 900\n",
    "print ns.probs.shape\n",
    "cutfraction = 0.999\n",
    "cut = np.argwhere(ns.probs[sipm].cumsum()>cutfraction)[0][0]\n",
    "thr = ns.xbins[cut]\n",
    "print 'Cut will be applied to {} photoelectrons'.format(thr)\n",
    "\n",
    "plt.title('Noise PDF')\n",
    "plt.xlabel('# photoelectrons')\n",
    "plt.ylabel('Probability')\n",
    "plt.text(thr,ns.probs[sipm][cut]*1.2,'Threshold = {:.3} pes\\nwith a cut of {}'.format(thr,cutfraction),color='b')\n",
    "plt.plot(ns.xbins,ns.probs[sipm],color='r',linewidth=2)\n",
    "plt.fill_between(ns.xbins[:cut],ns.probs[sipm][:cut])\n",
    "plt.savefig('../../Images/NoiseThreshold.png')\n"
   ]
  },
  {
   "cell_type": "markdown",
   "metadata": {},
   "source": [
    "This is done by the new method ComputeThresholds in the [RandomSampling](../../Core/RandomSampling.py) class:"
   ]
  },
  {
   "cell_type": "code",
   "execution_count": 5,
   "metadata": {
    "collapsed": true
   },
   "outputs": [],
   "source": [
    "def ComputeThresholds( self, noise_cut = 0.99 ):\n",
    "    '''\n",
    "        Find the number of pes at which each noise distribution leaves behind\n",
    "        the noise_cut fraction of its population.\n",
    "    '''\n",
    "    return np.array( [ self.xbins[np.argwhere( probs > noise_cut )[0][0]] for i,probs in enumerate(np.apply_along_axis( np.cumsum, 1, self.probs )) ] )"
   ]
  },
  {
   "cell_type": "markdown",
   "metadata": {},
   "source": [
    "The cut to be performed is an input to the ComputeThresholds method and can be changed by the user. For this reason, a new configuration parameter has been introduced, which needs to be written in the csv file:\n",
    "````\n",
    "NOISE_CUT_FRACTION = CFP['NOISE_CUT_FRACTION']\n",
    "````\n"
   ]
  },
  {
   "cell_type": "markdown",
   "metadata": {},
   "source": [
    "### Storage of waveforms\n",
    "Because waveforms are no longer equal-sized objects, they cannot be stored in a earray and a table must be used. The table description is the same as for true waveforms so it has been generalized in [Nh5.py](../../Core/Nh5.py):"
   ]
  },
  {
   "cell_type": "code",
   "execution_count": 6,
   "metadata": {
    "collapsed": false
   },
   "outputs": [
    {
     "ename": "NameError",
     "evalue": "name 'tables' is not defined",
     "output_type": "error",
     "traceback": [
      "\u001b[0;31m---------------------------------------------------------------------------\u001b[0m",
      "\u001b[0;31mNameError\u001b[0m                                 Traceback (most recent call last)",
      "\u001b[0;32m<ipython-input-6-ce85db4768c7>\u001b[0m in \u001b[0;36m<module>\u001b[0;34m()\u001b[0m\n\u001b[0;32m----> 1\u001b[0;31m \u001b[0;32mclass\u001b[0m \u001b[0mSENSOR_WF\u001b[0m\u001b[0;34m(\u001b[0m\u001b[0mtables\u001b[0m\u001b[0;34m.\u001b[0m\u001b[0mIsDescription\u001b[0m\u001b[0;34m)\u001b[0m\u001b[0;34m:\u001b[0m \u001b[0;31m### FROM PMT_TWF AND SIPM_TWF\u001b[0m\u001b[0;34m\u001b[0m\u001b[0m\n\u001b[0m\u001b[1;32m      2\u001b[0m     \"\"\"\n\u001b[1;32m      3\u001b[0m     \u001b[0mDescribes\u001b[0m \u001b[0ma\u001b[0m \u001b[0mtrue\u001b[0m \u001b[0mwaveform\u001b[0m \u001b[0;34m(\u001b[0m\u001b[0mzero\u001b[0m \u001b[0msupressed\u001b[0m\u001b[0;34m)\u001b[0m\u001b[0;34m\u001b[0m\u001b[0m\n\u001b[1;32m      4\u001b[0m     \"\"\"\n\u001b[1;32m      5\u001b[0m     \u001b[0mevent\u001b[0m \u001b[0;34m=\u001b[0m \u001b[0mtables\u001b[0m\u001b[0;34m.\u001b[0m\u001b[0mUInt32Col\u001b[0m\u001b[0;34m(\u001b[0m\u001b[0mpos\u001b[0m\u001b[0;34m=\u001b[0m\u001b[0;36m0\u001b[0m\u001b[0;34m)\u001b[0m\u001b[0;34m\u001b[0m\u001b[0m\n",
      "\u001b[0;31mNameError\u001b[0m: name 'tables' is not defined"
     ]
    }
   ],
   "source": [
    "class SENSOR_WF(tables.IsDescription): ### FROM PMT_TWF AND SIPM_TWF\n",
    "    \"\"\"\n",
    "    Describes a true waveform (zero supressed)\n",
    "    \"\"\"\n",
    "    event = tables.UInt32Col(pos=0)\n",
    "    ID = tables.UInt32Col(pos=1)\n",
    "    time_mus = tables.Float32Col(pos=2)\n",
    "    ene_pes = tables.Float32Col(pos=3)"
   ]
  },
  {
   "cell_type": "markdown",
   "metadata": {},
   "source": [
    "The function used to store waveforms has been generalized in the same way:"
   ]
  },
  {
   "cell_type": "code",
   "execution_count": 7,
   "metadata": {
    "collapsed": false
   },
   "outputs": [],
   "source": [
    "def store_wf(event, table, WF):\n",
    "    \"\"\"\n",
    "    Store WF in table\n",
    "    \"\"\"\n",
    "    row = table.row\n",
    "    for isens,wf in WF.items():\n",
    "        for t,e in zip(wf.time_mus, wf.ene_pes):\n",
    "            row['event'] = event\n",
    "            row['ID'] = isens\n",
    "            row['time_mus'] = t\n",
    "            row['ene_pes'] = e\n",
    "            row.append()\n",
    "    table.flush()"
   ]
  },
  {
   "cell_type": "markdown",
   "metadata": {},
   "source": [
    "Other changes in **DIOMIRA** are very localized:\n",
    "1) Before opening the outputfile the thresholds are computed:\n",
    "```\n",
    "sipms_noise_thresholds_ = sipms_noise_sampler_.ComputeThresholds(NOISE_CUT_FRACTION)\n",
    "```\n",
    "2) The storage of SiPMs' RWF is declared as a table:\n",
    "````\n",
    "sipm_rwf_table = h5out.create_table( rgroup, \"sipmrwf\", SENSOR_WF, \"Store for SiPMs RWF\",\n",
    "                                     tables.Filters(complib=CLIB, complevel=CLEVEL) )\n",
    "````\n",
    "3) Before storing the waveforms, they are zero-suppressed:\n",
    "````\n",
    "zs_wfms = sns.sensor_wise_zero_suppresion(dataSiPM,thresholds)\n",
    "store_wf( i, sipm_rwf_table, zs_wfms )\n",
    "````"
   ]
  },
  {
   "cell_type": "markdown",
   "metadata": {},
   "source": [
    "## Running DIOMIRA"
   ]
  },
  {
   "cell_type": "markdown",
   "metadata": {},
   "source": [
    "**The execution time has increased by 25%, probably because of the zero-suppression algorithm. However the size of the output file is ~8 smaller.**"
   ]
  },
  {
   "cell_type": "markdown",
   "metadata": {},
   "source": [
    "# DIOMIRA COMES BACK TO NON-ZS!!!!"
   ]
  },
  {
   "cell_type": "code",
   "execution_count": 1,
   "metadata": {
    "collapsed": false
   },
   "outputs": [
    {
     "name": "stdout",
     "output_type": "stream",
     "text": [
      "/Users/Gonzalo/github/IC/Cities\n"
     ]
    }
   ],
   "source": [
    "%cd ../../Cities/"
   ]
  },
  {
   "cell_type": "code",
   "execution_count": 3,
   "metadata": {
    "collapsed": false
   },
   "outputs": [
    {
     "name": "stdout",
     "output_type": "stream",
     "text": [
      "Debug level = INFO\n",
      "input path =/Users/Gonzalo/github/IC/data/; output path = /Users/Gonzalo/github/IC/data/; file_in =in0.h5 file_out =out0.h5\n",
      "path to database = /Users/Gonzalo/github/IC/Database/\n",
      "first event = 0 last event = 100 nof events requested = 100 \n",
      "Compression library = zlib Compression level = 1 \n",
      "nof PMTs = 12 nof  SiPMs = 1789 nof events in input DST = 100 \n",
      "lof SiPM WF = 800000 lof PMT WF (MC) = 800 lof PMT WF (FEE) = 32000\n",
      "Initializing NoiseSampler... OK\n",
      "-->event number =0\n"
     ]
    },
    {
     "name": "stderr",
     "output_type": "stream",
     "text": [
      "/Applications/anaconda2/lib/python2.7/site-packages/scipy/signal/signaltools.py:3073: FutureWarning:  Note: Decimate's zero_phase keyword argument will default to True in a future release. Until then, decimate defaults to one-way filtering for backwards compatibility. Ideally, always set this argument explicitly.\n",
      "  \"explicitly.\", FutureWarning)\n"
     ]
    },
    {
     "name": "stdout",
     "output_type": "stream",
     "text": [
      "-->event number =1\n",
      "-->event number =2\n",
      "-->event number =3\n",
      "-->event number =4\n",
      "-->event number =5\n",
      "-->event number =6\n",
      "-->event number =7\n",
      "-->event number =8\n",
      "-->event number =9\n",
      "-->event number =10\n",
      "-->event number =11\n",
      "-->event number =12\n",
      "-->event number =13\n",
      "-->event number =14\n",
      "-->event number =15\n",
      "-->event number =16\n",
      "-->event number =17\n",
      "-->event number =18\n",
      "-->event number =19\n",
      "-->event number =20\n",
      "-->event number =21\n",
      "-->event number =22\n",
      "-->event number =23\n",
      "-->event number =24\n",
      "-->event number =25\n",
      "-->event number =26\n",
      "-->event number =27\n",
      "-->event number =28\n",
      "-->event number =29\n",
      "-->event number =30\n",
      "-->event number =31\n",
      "-->event number =32\n",
      "-->event number =33\n",
      "-->event number =34\n",
      "-->event number =35\n",
      "-->event number =36\n",
      "-->event number =37\n",
      "-->event number =38\n",
      "-->event number =39\n",
      "-->event number =40\n",
      "-->event number =41\n",
      "-->event number =42\n",
      "-->event number =43\n",
      "-->event number =44\n",
      "-->event number =45\n",
      "-->event number =46\n",
      "-->event number =47\n",
      "-->event number =48\n",
      "-->event number =49\n",
      "-->event number =50\n",
      "-->event number =51\n",
      "-->event number =52\n",
      "-->event number =53\n",
      "-->event number =54\n",
      "-->event number =55\n",
      "-->event number =56\n",
      "-->event number =57\n",
      "-->event number =58\n",
      "-->event number =59\n",
      "-->event number =60\n",
      "-->event number =61\n",
      "-->event number =62\n",
      "-->event number =63\n",
      "-->event number =64\n",
      "-->event number =65\n",
      "-->event number =66\n",
      "-->event number =67\n",
      "-->event number =68\n",
      "-->event number =69\n",
      "-->event number =70\n",
      "-->event number =71\n",
      "-->event number =72\n",
      "-->event number =73\n",
      "-->event number =74\n",
      "-->event number =75\n",
      "-->event number =76\n",
      "-->event number =77\n",
      "-->event number =78\n",
      "-->event number =79\n",
      "-->event number =80\n",
      "-->event number =81\n",
      "-->event number =82\n",
      "-->event number =83\n",
      "-->event number =84\n",
      "-->event number =85\n",
      "-->event number =86\n",
      "-->event number =87\n",
      "-->event number =88\n",
      "-->event number =89\n",
      "-->event number =90\n",
      "-->event number =91\n",
      "-->event number =92\n",
      "-->event number =93\n",
      "-->event number =94\n",
      "-->event number =95\n",
      "-->event number =96\n",
      "-->event number =97\n",
      "-->event number =98\n",
      "-->event number =99\n",
      "DIOMIRA has run over 99 events in 179.537244081 seconds\n",
      "Leaving Diomira. Safe travels!\n"
     ]
    }
   ],
   "source": [
    "run DIOMIRA.py -c ../Config/DIOMIRA_default.csv"
   ]
  },
  {
   "cell_type": "code",
   "execution_count": 4,
   "metadata": {
    "collapsed": false
   },
   "outputs": [
    {
     "name": "stdout",
     "output_type": "stream",
     "text": [
      "total 1154488\r\n",
      "drwxr-xr-x   5 Gonzalo  staff   170B Oct 12 19:06 \u001b[36m.\u001b[m\u001b[m/\r\n",
      "drwxr-xr-x  21 Gonzalo  staff   714B Oct 13 01:24 \u001b[36m..\u001b[m\u001b[m/\r\n",
      "-rw-r--r--@  1 Gonzalo  staff    24M Oct 12 19:05 dst_NEXT_v0_08_02_Kr_ACTIVE_0_0_5bar_MCRD_10000.root.h5\r\n",
      "lrwxr-xr-x   1 Gonzalo  staff    55B Oct 12 19:06 \u001b[1m\u001b[31min0.h5\u001b[m\u001b[m@ -> dst_NEXT_v0_08_02_Kr_ACTIVE_0_0_5bar_MCRD_10000.root.h5\r\n",
      "-rw-r--r--   1 Gonzalo  staff   540M Oct 13 15:53 out0.h5\r\n"
     ]
    }
   ],
   "source": [
    "%ls -lah ../data/"
   ]
  },
  {
   "cell_type": "markdown",
   "metadata": {},
   "source": [
    "## Data check"
   ]
  },
  {
   "cell_type": "code",
   "execution_count": 42,
   "metadata": {
    "collapsed": false
   },
   "outputs": [
    {
     "name": "stdout",
     "output_type": "stream",
     "text": [
      "The autoreload extension is already loaded. To reload it, use:\n",
      "  %reload_ext autoreload\n"
     ]
    },
    {
     "data": {
      "text/plain": [
       "<matplotlib.figure.Figure at 0x11a236690>"
      ]
     },
     "execution_count": 42,
     "metadata": {},
     "output_type": "execute_result"
    },
    {
     "data": {
      "text/plain": [
       "<matplotlib.figure.Figure at 0x11a236690>"
      ]
     },
     "metadata": {},
     "output_type": "display_data"
    }
   ],
   "source": [
    "import mplFunctions as mpl\n",
    "import wfmFunctions as wfm\n",
    "import sensorFunctions as snf\n",
    "import numpy as np\n",
    "import tables as tb\n",
    "import pandas as pd\n",
    "import matplotlib\n",
    "import matplotlib.pyplot as plt\n",
    "%load_ext autoreload\n",
    "%autoreload 2\n",
    "%matplotlib inline\n",
    "plt.figure(figsize=(45,60))"
   ]
  },
  {
   "cell_type": "code",
   "execution_count": 43,
   "metadata": {
    "collapsed": false
   },
   "outputs": [
    {
     "name": "stdout",
     "output_type": "stream",
     "text": [
      "/Users/Gonzalo/github/IC/data/out0.h5 (File) ''\n",
      "Last modif.: 'Thu Oct 13 15:53:04 2016'\n",
      "Object Tree: \n",
      "/ (RootGroup) ''\n",
      "/Detector (Group) ''\n",
      "/Detector/DetectorGeometry (Table(1,)) ''\n",
      "/MC (Group) ''\n",
      "/MC/FEE (Table(1,)) 'EP-FEE parameters'\n",
      "/MC/MCTracks (Table(806,), zlib(1)) ''\n",
      "/RD (Group) ''\n",
      "/RD/pmtrwf (EArray(100, 12, 32000), shuffle, zlib(1)) ''\n",
      "/RD/sipmrwf (EArray(100, 1789, 800), shuffle, zlib(1)) ''\n",
      "/Sensors (Group) ''\n",
      "/Sensors/DataPMT (Table(12,)) ''\n",
      "/Sensors/DataSiPM (Table(1789,)) ''\n",
      "/TWF (Group) ''\n",
      "/TWF/PMT (Table(1420,), shuffle, zlib(1)) 'Store for PMTs TWF'\n",
      "/TWF/SiPM (Table(10465,), shuffle, zlib(1)) 'Store for SiPMs TWF'\n",
      "\n"
     ]
    }
   ],
   "source": [
    "h5f = tb.open_file('/Users/Gonzalo/github/IC/data/out0.h5')\n",
    "print(h5f)"
   ]
  },
  {
   "cell_type": "code",
   "execution_count": 44,
   "metadata": {
    "collapsed": false
   },
   "outputs": [],
   "source": [
    "def get_vectors(h5f):\n",
    "    \"\"\"\n",
    "    input: file pointer\n",
    "    returns: data vectors\n",
    "    \"\"\"\n",
    "    pmttwf = h5f.root.TWF.PMT\n",
    "    sipmtwf = h5f.root.TWF.SiPM\n",
    "    pmtrwf = h5f.root.RD.pmtrwf\n",
    "    sipmrwf = h5f.root.RD.sipmrwf\n",
    "    geom_t = h5f.root.Detector.DetectorGeometry\n",
    "    pmt_t = h5f.root.Sensors.DataPMT\n",
    "    sipm_t = h5f.root.Sensors.DataSiPM\n",
    "    gdf = snf.read_data_geom(geom_t)\n",
    "    pmtdf = snf.read_data_sensors(pmt_t)\n",
    "    sipmdf = snf.read_data_sensors(sipm_t)\n",
    "    return pmttwf,sipmtwf,pmtrwf,sipmrwf,pmtdf,sipmdf,gdf"
   ]
  },
  {
   "cell_type": "code",
   "execution_count": 45,
   "metadata": {
    "collapsed": false
   },
   "outputs": [],
   "source": [
    "pmttwf,sipmtwf,pmtrwf,sipmrwf,pmtdf,sipmdf,gdf = get_vectors(h5f)"
   ]
  },
  {
   "cell_type": "code",
   "execution_count": 69,
   "metadata": {
    "collapsed": false
   },
   "outputs": [
    {
     "name": "stdout",
     "output_type": "stream",
     "text": [
      "SiPM with greatest peak is at index 331 with ID 6011.0\n"
     ]
    },
    {
     "data": {
      "image/png": "[encoded data removed]",
      "text/plain": [
       "<matplotlib.figure.Figure at 0x119e10ad0>"
      ]
     },
     "metadata": {},
     "output_type": "display_data"
    }
   ],
   "source": [
    "mpl.plot_best(sipmrwf,sipmtwf,sipmdf,0)"
   ]
  },
  {
   "cell_type": "code",
   "execution_count": 80,
   "metadata": {
    "collapsed": false
   },
   "outputs": [
    {
     "data": {
      "text/plain": [
       "<matplotlib.figure.Figure at 0x118e1eb50>"
      ]
     },
     "metadata": {},
     "output_type": "display_data"
    },
    {
     "data": {
      "image/png": "[encoded data removed]",
      "text/plain": [
       "<matplotlib.figure.Figure at 0x118d2b450>"
      ]
     },
     "metadata": {},
     "output_type": "display_data"
    }
   ],
   "source": [
    "mpl.plot_best_group(sipmrwf,sipmtwf,0)"
   ]
  },
  {
   "cell_type": "code",
   "execution_count": 76,
   "metadata": {
    "collapsed": false
   },
   "outputs": [
    {
     "name": "stdout",
     "output_type": "stream",
     "text": [
      "Initializing NoiseSampler... OK\n"
     ]
    }
   ],
   "source": [
    "from RandomSampling import NoiseSampler as SiPMsNoiseSampler\n",
    "ns = SiPMsNoiseSampler('../../Database/NoiseSiPM_NEW.dat',{ j:i for i,j in enumerate([1000*i+1000+j for i in range(28) for j in range(64)]) if not j in [14010,15047,25049]})"
   ]
  },
  {
   "cell_type": "code",
   "execution_count": 63,
   "metadata": {
    "collapsed": false,
    "scrolled": false
   },
   "outputs": [
    {
     "data": {
      "text/plain": [
       "[<matplotlib.lines.Line2D at 0x119c30250>]"
      ]
     },
     "execution_count": 63,
     "metadata": {},
     "output_type": "execute_result"
    },
    {
     "data": {
      "image/png": "[encoded data removed]",
      "text/plain": [
       "<matplotlib.figure.Figure at 0x11a1f8350>"
      ]
     },
     "metadata": {},
     "output_type": "display_data"
    }
   ],
   "source": [
    "cuts = np.array([1 - 0.1**i for i in range(10)])\n",
    "nsens = []\n",
    "for th in map( ns.ComputeThresholds, cuts):\n",
    "    zs = wfm.sensor_wise_zero_suppresion(sipmrwf[0],th)\n",
    "    nsens.append(len(zs))\n",
    "plt.xscale('log')\n",
    "plt.yscale('log')\n",
    "plt.plot(1-cuts,nsens)"
   ]
  },
  {
   "cell_type": "code",
   "execution_count": null,
   "metadata": {
    "collapsed": true
   },
   "outputs": [],
   "source": []
  },
  {
   "cell_type": "code",
   "execution_count": null,
   "metadata": {
    "collapsed": true
   },
   "outputs": [],
   "source": []
  },
  {
   "cell_type": "code",
   "execution_count": null,
   "metadata": {
    "collapsed": true
   },
   "outputs": [],
   "source": []
  },
  {
   "cell_type": "code",
   "execution_count": null,
   "metadata": {
    "collapsed": true
   },
   "outputs": [],
   "source": []
  },
  {
   "cell_type": "code",
   "execution_count": null,
   "metadata": {
    "collapsed": true
   },
   "outputs": [],
   "source": [
    "####"
   ]
  },
  {
   "cell_type": "raw",
   "metadata": {},
   "source": [
    "pnl0 = wfm.read_wf_table(pmttwf,0)\n",
    "pnls = [wfm.read_wf_table(pmttwf,i) for i in range(100)]"
   ]
  },
  {
   "cell_type": "raw",
   "metadata": {},
   "source": [
    "def integrate_panel(panel):\n",
    "    return integrate_time(panel).sum(1).ene_pes\n",
    "\n",
    "def histo_energy(panels,list_of_events = None):\n",
    "    if list_of_events is None: list_of_events = range(len(panels))\n",
    "    evt_E = map( integrate_panel, map( panels.__getitem__, list_of_events ) )\n",
    "    mpl.histo(evt_E,10)\n",
    "\n",
    "def integrate_time(panel):\n",
    "    return panel.sum()\n",
    "\n",
    "def histo_energy_pmt(panels,list_of_events = None):\n",
    "    if list_of_events is None: list_of_events = range(len(panels))\n",
    "    pmt_E = map( integrate_time, map( panels.__getitem__, list_of_events ) )\n",
    "    pmts = range(12)\n",
    "    enes = np.array([[df[1].ene_pes for df in evtset.iteritems()] for evtset in pmt_E])\n",
    "    aves = enes.mean(axis=0).flatten()\n",
    "    sums = np.array([ ene / ene.sum() for ene in enes ]).mean(axis=0).flatten()\n",
    "    plt.plot(pmts,aves/aves.sum())\n",
    "    plt.plot(pmts,sums)"
   ]
  },
  {
   "cell_type": "raw",
   "metadata": {},
   "source": [
    "for i in integrate_time(pnl0).iteritems(): print i[1].ene_pes;break"
   ]
  },
  {
   "cell_type": "raw",
   "metadata": {},
   "source": [
    "histo_energy(pnls)"
   ]
  },
  {
   "cell_type": "raw",
   "metadata": {},
   "source": [
    "histo_energy_pmt(pnls)"
   ]
  },
  {
   "cell_type": "raw",
   "metadata": {},
   "source": [
    "def plot_best(sipmrwf,sipmtwf, sipmdf = 0, evt = 0):\n",
    "    '''\n",
    "        Plot the noisy waveform of the SiPM with greatest charge and superimpose the true waveform.\n",
    "    '''\n",
    "    print 1\n",
    "    panel_raw  = wfm.read_wf_table(sipmrwf,evt)\n",
    "    print panel_raw[0]\n",
    "    panel_true = wfm.read_wf_table(sipmtwf,evt)\n",
    "    print 3\n",
    "    maxsipm = sorted(dict_map( lambda x: x.ene_pes.max(), panel_raw ).items(), key = lambda x:x[1])[-1][0]\n",
    "\n",
    "    print(\"SiPM with greatest peak is at index {} with ID {}\".format(maxsipm,sipmdf.ix[maxsipm].channel))\n",
    "\n",
    "\n",
    "    plt.plot(sipmrwf[evt,maxsipm,:])\n",
    "    plt.plot(true_times,true_amps)\n"
   ]
  },
  {
   "cell_type": "raw",
   "metadata": {},
   "source": [
    "plot_best(sipmrwf,sipmtwf)"
   ]
  },
  {
   "cell_type": "raw",
   "metadata": {},
   "source": []
  },
  {
   "cell_type": "raw",
   "metadata": {},
   "source": []
  },
  {
   "cell_type": "raw",
   "metadata": {},
   "source": [
    "#sipmtwf[sipmtwf.get_where_list('event == 0')]\n",
    "set(pmttwf.read_where('event == 0',field='ID'))\n",
    "#list(sipmrwf.where('event==0'))\n",
    "#sipmrwf[]\n",
    "#help(sipmrwf)\n"
   ]
  },
  {
   "cell_type": "raw",
   "metadata": {},
   "source": [
    "set(sipmrwf.col('ID'))"
   ]
  },
  {
   "cell_type": "raw",
   "metadata": {},
   "source": [
    "help(pd.Panel)"
   ]
  },
  {
   "cell_type": "raw",
   "metadata": {},
   "source": [
    "p = wfm.read_twf(pmttwf,0)"
   ]
  },
  {
   "cell_type": "raw",
   "metadata": {},
   "source": [
    "#for i,df in p.iteritems(): print(i);print(df)\n",
    "np.ones(4) * 1.5"
   ]
  },
  {
   "cell_type": "raw",
   "metadata": {},
   "source": [
    "def rebin_df(df,stride=40):\n",
    "    return wfm.wf2df(*wfm.rebin_twf(*wfm.df2wf(df), stride = stride))"
   ]
  },
  {
   "cell_type": "raw",
   "metadata": {},
   "source": [
    "for i,j in p.iteritems(): print(i,type(j))"
   ]
  },
  {
   "cell_type": "raw",
   "metadata": {},
   "source": [
    "#p.apply(rebin_df,axis='major')\n",
    "#p.apply( lambda x: print(x,type(x)), axis=('items') )\n",
    "#p[0]['time_mus']\n",
    "pp = rebin_panel(p,2)\n",
    "print(p[0])\n",
    "print(pp[0])"
   ]
  },
  {
   "cell_type": "raw",
   "metadata": {},
   "source": [
    "print('time_mus ',p[0].time_mus)\n",
    "print('ene_pes  ',p[0].ene_pes)"
   ]
  },
  {
   "cell_type": "raw",
   "metadata": {},
   "source": [
    "#p.as_matrix()\n",
    "#p.xs(0)\n",
    "for i in p: print(i,p[i])"
   ]
  },
  {
   "cell_type": "raw",
   "metadata": {},
   "source": [
    "p.major_axis"
   ]
  },
  {
   "cell_type": "raw",
   "metadata": {},
   "source": [
    "help(pd.Series)"
   ]
  },
  {
   "cell_type": "raw",
   "metadata": {},
   "source": [
    "p"
   ]
  },
  {
   "cell_type": "raw",
   "metadata": {},
   "source": []
  }
 ],
 "metadata": {
  "anaconda-cloud": {},
  "kernelspec": {
   "display_name": "Python [conda root]",
   "language": "python",
   "name": "conda-root-py"
  },
  "language_info": {
   "codemirror_mode": {
    "name": "ipython",
    "version": 2
   },
   "file_extension": ".py",
   "mimetype": "text/x-python",
   "name": "python",
   "nbconvert_exporter": "python",
   "pygments_lexer": "ipython2",
   "version": "2.7.12"
  }
 },
 "nbformat": 4,
 "nbformat_minor": 1
}
