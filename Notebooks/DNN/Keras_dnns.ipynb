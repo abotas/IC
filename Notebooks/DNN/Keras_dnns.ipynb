{
 "cells": [
  {
   "cell_type": "markdown",
   "metadata": {},
   "source": [
    "# DNNs in Keras"
   ]
  },
  {
   "cell_type": "code",
   "execution_count": 106,
   "metadata": {
    "collapsed": false
   },
   "outputs": [],
   "source": [
    "from keras.models import Sequential\n",
    "from keras.layers import Dense, Activation\n",
    "from keras.optimizers import SGD\n",
    "\n",
    "\n",
    "import math\n",
    "import matplotlib.pyplot as plt\n",
    "import numpy as np\n",
    "import random as rd"
   ]
  },
  {
   "cell_type": "markdown",
   "metadata": {},
   "source": [
    "# Event Generation: y = cos(x)\n",
    "Generate some number of test and training events"
   ]
  },
  {
   "cell_type": "code",
   "execution_count": 107,
   "metadata": {
    "collapsed": false
   },
   "outputs": [
    {
     "name": "stdout",
     "output_type": "stream",
     "text": [
      "-- Event 0 of 11000 ...\n",
      "-- Event 1100 of 11000 ...\n",
      "-- Event 2200 of 11000 ...\n",
      "-- Event 3300 of 11000 ...\n",
      "-- Event 4400 of 11000 ...\n",
      "-- Event 5500 of 11000 ...\n",
      "-- Event 6600 of 11000 ...\n",
      "-- Event 7700 of 11000 ...\n",
      "-- Event 8800 of 11000 ...\n",
      "-- Event 9900 of 11000 ...\n"
     ]
    }
   ],
   "source": [
    "# Number of events to generate.\n",
    "Nevts_train = 10000\n",
    "Nevts_test = 1000\n",
    "\n",
    "# Set up the training sets.\n",
    "x_train = np.zeros([Nevts_train,1]); x_test = np.zeros([Nevts_test,1])\n",
    "y_train = np.zeros([Nevts_train,1]); y_test = np.zeros([Nevts_test,1])\n",
    "\n",
    "# Generate y = cos(x) for x in [0,2pi).\n",
    "Nevts = Nevts_train + Nevts_test\n",
    "for nn in range(Nevts):\n",
    "\n",
    "    if(nn % int(Nevts/10) == 0):\n",
    "        print \"-- Event {0} of {1} ...\".format(nn,Nevts)\n",
    "\n",
    "    # Generate angle and cosine.\n",
    "    th0 = rd.random()*2*math.pi\n",
    "    cth0 = math.cos(th0)\n",
    "    \n",
    "    # Write the information to the datasets.\n",
    "    if(nn >= Nevts_train):\n",
    "        x_test[nn-Nevts_train][0] = th0/(2.*math.pi)\n",
    "        y_test[nn-Nevts_train][0] = (1 + cth0)/2.\n",
    "    else:\n",
    "        x_train[nn][0] = th0/(2.*math.pi)\n",
    "        y_train[nn][0] = (1 + cth0)/2.\n",
    "        "
   ]
  },
  {
   "cell_type": "markdown",
   "metadata": {},
   "source": [
    "# Keras-based NN\n",
    "Now build a NN and run the training step using Keras"
   ]
  },
  {
   "cell_type": "code",
   "execution_count": 108,
   "metadata": {
    "collapsed": false
   },
   "outputs": [
    {
     "name": "stdout",
     "output_type": "stream",
     "text": [
      "____________________________________________________________________________________________________\n",
      "Layer (type)                     Output Shape          Param #     Connected to                     \n",
      "====================================================================================================\n",
      "dense_37 (Dense)                 (None, 1024)          2048        dense_input_19[0][0]             \n",
      "____________________________________________________________________________________________________\n",
      "activation_36 (Activation)       (None, 1024)          0           dense_37[0][0]                   \n",
      "____________________________________________________________________________________________________\n",
      "dense_38 (Dense)                 (None, 1)             1025        activation_36[0][0]              \n",
      "____________________________________________________________________________________________________\n",
      "activation_37 (Activation)       (None, 1)             0           dense_38[0][0]                   \n",
      "====================================================================================================\n",
      "Total params: 3073\n",
      "____________________________________________________________________________________________________\n"
     ]
    }
   ],
   "source": [
    "model = Sequential()\n",
    "model.add(Dense(output_dim=1024, input_dim=1))\n",
    "model.add(Activation(\"relu\"))\n",
    "model.add(Dense(output_dim=1))\n",
    "model.add(Activation(\"sigmoid\"))\n",
    "model.compile(loss='mse', optimizer=SGD(lr=0.1, momentum=0.9, nesterov=True))\n",
    "model.summary()"
   ]
  },
  {
   "cell_type": "code",
   "execution_count": 109,
   "metadata": {
    "collapsed": false
   },
   "outputs": [
    {
     "name": "stdout",
     "output_type": "stream",
     "text": [
      "Epoch 1/25\n",
      "10000/10000 [==============================] - 0s - loss: 0.0982     \n",
      "Epoch 2/25\n",
      "10000/10000 [==============================] - 0s - loss: 0.0160     \n",
      "Epoch 3/25\n",
      "10000/10000 [==============================] - 0s - loss: 0.0022     \n",
      "Epoch 4/25\n",
      "10000/10000 [==============================] - 0s - loss: 8.5844e-04     \n",
      "Epoch 5/25\n",
      "10000/10000 [==============================] - 0s - loss: 5.8973e-04     \n",
      "Epoch 6/25\n",
      "10000/10000 [==============================] - 0s - loss: 5.0429e-04     \n",
      "Epoch 7/25\n",
      "10000/10000 [==============================] - 0s - loss: 4.6661e-04     \n",
      "Epoch 8/25\n",
      "10000/10000 [==============================] - 0s - loss: 4.4425e-04     \n",
      "Epoch 9/25\n",
      "10000/10000 [==============================] - 0s - loss: 4.3209e-04     \n",
      "Epoch 10/25\n",
      "10000/10000 [==============================] - 0s - loss: 4.2214e-04     \n",
      "Epoch 11/25\n",
      "10000/10000 [==============================] - 0s - loss: 4.1436e-04     \n",
      "Epoch 12/25\n",
      "10000/10000 [==============================] - 0s - loss: 4.0997e-04     \n",
      "Epoch 13/25\n",
      "10000/10000 [==============================] - 0s - loss: 4.0594e-04     \n",
      "Epoch 14/25\n",
      "10000/10000 [==============================] - 0s - loss: 4.0160e-04     \n",
      "Epoch 15/25\n",
      "10000/10000 [==============================] - 0s - loss: 3.9962e-04     \n",
      "Epoch 16/25\n",
      "10000/10000 [==============================] - 0s - loss: 3.9744e-04     \n",
      "Epoch 17/25\n",
      "10000/10000 [==============================] - 0s - loss: 3.9502e-04     \n",
      "Epoch 18/25\n",
      "10000/10000 [==============================] - 0s - loss: 3.9432e-04     \n",
      "Epoch 19/25\n",
      "10000/10000 [==============================] - 0s - loss: 3.9293e-04     \n",
      "Epoch 20/25\n",
      "10000/10000 [==============================] - 0s - loss: 3.9120e-04     \n",
      "Epoch 21/25\n",
      "10000/10000 [==============================] - 0s - loss: 3.9009e-04     \n",
      "Epoch 22/25\n",
      "10000/10000 [==============================] - 0s - loss: 3.8966e-04     \n",
      "Epoch 23/25\n",
      "10000/10000 [==============================] - 0s - loss: 3.8891e-04     \n",
      "Epoch 24/25\n",
      "10000/10000 [==============================] - 0s - loss: 3.8829e-04     \n",
      "Epoch 25/25\n",
      "10000/10000 [==============================] - 0s - loss: 3.8687e-04     \n"
     ]
    }
   ],
   "source": [
    "model.fit(x_train, y_train, nb_epoch=25, batch_size=32);"
   ]
  },
  {
   "cell_type": "code",
   "execution_count": 110,
   "metadata": {
    "collapsed": false
   },
   "outputs": [
    {
     "name": "stdout",
     "output_type": "stream",
     "text": [
      "  32/1000 [..............................] - ETA: 0s\n",
      "Mean loss is 0.000377597482875\n"
     ]
    }
   ],
   "source": [
    "# Evaluate the model and produce a list of predictions for the test data.\n",
    "loss_and_metrics = model.evaluate(x_test, y_test, batch_size=32);\n",
    "y_pred = model.predict(x_test, batch_size=32, verbose=0)\n",
    "print(\"\\nMean loss is {0}\".format(loss_and_metrics))"
   ]
  },
  {
   "cell_type": "code",
   "execution_count": 111,
   "metadata": {
    "collapsed": false
   },
   "outputs": [
    {
     "data": {
      "image/png": "[encoded data removed]",
      "text/plain": [
       "<matplotlib.figure.Figure at 0x116455390>"
      ]
     },
     "metadata": {},
     "output_type": "display_data"
    }
   ],
   "source": [
    "# Plot the actual (blue) vs. predicted (red) results\n",
    "plt.scatter(2*x_test*math.pi,2*y_test-1,marker='.',color='blue')\n",
    "plt.scatter(2*x_test*math.pi,2*y_pred-1,marker='.',color='red')\n",
    "plt.xlabel(\"x\"); plt.ylabel(\"cos(x)\")\n",
    "plt.show()"
   ]
  },
  {
   "cell_type": "code",
   "execution_count": null,
   "metadata": {
    "collapsed": true
   },
   "outputs": [],
   "source": []
  }
 ],
 "metadata": {
  "kernelspec": {
   "display_name": "Python 2",
   "language": "python",
   "name": "python2"
  },
  "language_info": {
   "codemirror_mode": {
    "name": "ipython",
    "version": 2
   },
   "file_extension": ".py",
   "mimetype": "text/x-python",
   "name": "python",
   "nbconvert_exporter": "python",
   "pygments_lexer": "ipython2",
   "version": "2.7.11"
  }
 },
 "nbformat": 4,
 "nbformat_minor": 1
}
