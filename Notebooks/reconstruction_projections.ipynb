{
 "cells": [
  {
   "cell_type": "markdown",
   "metadata": {},
   "source": [
    "# 2D projections for DNN-based reconstruction\n"
   ]
  },
  {
   "cell_type": "code",
   "execution_count": 1,
   "metadata": {
    "collapsed": false
   },
   "outputs": [
    {
     "name": "stderr",
     "output_type": "stream",
     "text": [
      "/opt/local/Library/Frameworks/Python.framework/Versions/2.7/lib/python2.7/site-packages/matplotlib/font_manager.py:273: UserWarning: Matplotlib is building the font cache using fc-list. This may take a moment.\n",
      "  warnings.warn('Matplotlib is building the font cache using fc-list. This may take a moment.')\n"
     ]
    },
    {
     "name": "stdout",
     "output_type": "stream",
     "text": [
      "Populating the interactive namespace from numpy and matplotlib\n"
     ]
    }
   ],
   "source": [
    "%pylab inline"
   ]
  },
  {
   "cell_type": "code",
   "execution_count": 2,
   "metadata": {
    "collapsed": false
   },
   "outputs": [
    {
     "name": "stderr",
     "output_type": "stream",
     "text": [
      "Using Theano backend.\n"
     ]
    }
   ],
   "source": [
    "from keras.models import Sequential\n",
    "from keras.layers import Dense, Activation\n",
    "from keras.optimizers import SGD\n",
    "\n",
    "from matplotlib.patches import Ellipse\n",
    "import h5py\n",
    "import numpy as np\n",
    "import math\n",
    "import matplotlib.pyplot as plt\n",
    "import random as rd\n",
    "import sys\n",
    "\n",
    "# Add the Utilties directory to the system path so the file sipm_param can be imported.\n",
    "sys.path.append(\"../Utilities\")\n",
    "from sipm_param import *\n",
    "\n",
    "# Plan:\n",
    "# - plot one slice\n",
    "# - histogram over many slices: x-extent, y-extent\n",
    "# - plot several indicative slices\n",
    "# - package slices of interest into HDF5 file for training"
   ]
  },
  {
   "cell_type": "code",
   "execution_count": 19,
   "metadata": {
    "collapsed": false
   },
   "outputs": [],
   "source": [
    "# Define the 3D grid extent and range limits in PIXELS\n",
    "NX = 200\n",
    "NY = 200\n",
    "NZ = 200\n",
    "\n",
    "# Pixel and slice sizes in PIXELS\n",
    "vSizeX = 1\n",
    "vSizeY = 1\n",
    "slice_width = 5.\n",
    "\n",
    "# Range limit in x-y for slices in PIXELS\n",
    "RNG_LIM = 100\n",
    "\n",
    "# Number of SiPMs in response map\n",
    "nsipm = 10\n",
    "\n",
    "# Geometry definition.\n",
    "nsipm = 10\n",
    "sipm_pitch = 10.       # distance between SiPMs\n",
    "sipm_edge_width = 5.   # distance between SiPM and edge of board\n",
    "\n",
    "# Variables for computing an EL point location.\n",
    "xlen = 2*sipm_edge_width + (nsipm-1)*sipm_pitch       # (mm) side length of rectangle\n",
    "ylen = 2*sipm_edge_width + (nsipm-1)*sipm_pitch       # (mm) side length of rectangle\n",
    "wbin = 2.0                                    # (mm) bin width\n",
    "\n",
    "# Compute the positions of the SiPMs.\n",
    "pos_x = np.ones(nsipm**2)*sipm_edge_width + (np.ones(nsipm*nsipm)*range(nsipm**2) % nsipm)*sipm_pitch\n",
    "pos_y = np.ones(nsipm**2)*sipm_edge_width + np.floor(np.ones(nsipm*nsipm)*range(nsipm**2) / nsipm)*sipm_pitch"
   ]
  },
  {
   "cell_type": "markdown",
   "metadata": {
    "collapsed": true
   },
   "source": [
    "First load the HDF5 file containing a list of 3D pixels for each event with nonzero energy."
   ]
  },
  {
   "cell_type": "code",
   "execution_count": 15,
   "metadata": {
    "collapsed": true
   },
   "outputs": [],
   "source": [
    "h5f = h5py.File(\"/Users/josh/Dropbox/IFIC/vox_dnn_bb0nu_dnn_111_1x1x1.h5\")\n",
    "Ntrks = len(h5f)"
   ]
  },
  {
   "cell_type": "markdown",
   "metadata": {},
   "source": [
    "Define a functions to slice an event."
   ]
  },
  {
   "cell_type": "code",
   "execution_count": 16,
   "metadata": {
    "collapsed": true
   },
   "outputs": [],
   "source": [
    "# Create slices for the specified event.\n",
    "#  hfile: the HDF5 files containing the events\n",
    "#  nevt: the event number to slice\n",
    "#  zwidth: the slice width in mm\n",
    "#\n",
    "#  returns: [energies, slices]\n",
    "#   where energies is a list of the energies in each slice\n",
    "#   and slices is a matrix of size [Nslices,NY,NX] containing normalized slices\n",
    "def slice_evt(hfile,nevt,zwidth):\n",
    "    \n",
    "    # Get the event from the file.\n",
    "    htrk = hfile['trk{0}'.format(nevt)]\n",
    "    \n",
    "    # Get the z-range.\n",
    "    zmin = np.min(htrk[2]); zmax = np.max(htrk[2])\n",
    "    \n",
    "    # Create slices of width zwidth beginning from zmin.\n",
    "    nslices = int(math.ceil((zmax - zmin)/zwidth))\n",
    "    #print \"{0} slices for event {1}\".format(nslices,nevt)\n",
    "    \n",
    "    slices = np.zeros([nslices,NY,NX])\n",
    "    energies = np.zeros(nslices)\n",
    "    for x,y,z,e in zip(htrk[0],htrk[1],htrk[2],htrk[3]):\n",
    "        \n",
    "        # Add the energy at (x,y,z) to the (x,y) value of the correct slice.\n",
    "        islice = int((z - zmin)/zwidth)\n",
    "        if(islice == nslices): islice -= 1\n",
    "        slices[islice][y][x] += e\n",
    "        energies[islice] += e\n",
    "    \n",
    "    # Normalize the slices.\n",
    "    for s in range(nslices):\n",
    "        slices[s] /= energies[s]\n",
    "        \n",
    "    # Return the list of slices and energies.\n",
    "    return [energies, slices]"
   ]
  },
  {
   "cell_type": "markdown",
   "metadata": {},
   "source": [
    "Save slices from all events that lie within a certain range."
   ]
  },
  {
   "cell_type": "code",
   "execution_count": 17,
   "metadata": {
    "collapsed": false
   },
   "outputs": [
    {
     "name": "stdout",
     "output_type": "stream",
     "text": [
      "Slicing event 0\n"
     ]
    },
    {
     "name": "stderr",
     "output_type": "stream",
     "text": [
      "/opt/local/Library/Frameworks/Python.framework/Versions/2.7/lib/python2.7/site-packages/ipykernel/__main__.py:28: VisibleDeprecationWarning: using a non-integer number instead of an integer will result in an error in the future\n"
     ]
    }
   ],
   "source": [
    "# Create the HDF5 file.\n",
    "h5slices = h5py.File(\"slices.h5\",'w')\n",
    "\n",
    "xrng = []; yrng = []   # x- and y-ranges\n",
    "nspevt = []            # number of slices per event\n",
    "slices_x = []; slices_y = []; slices_e = []   # slice arrays\n",
    "for ee in range(20):\n",
    "    \n",
    "    if(ee % int(Ntrks/100) == 0):\n",
    "        print \"Slicing event {0}\".format(ee)\n",
    "        \n",
    "    # Slice the event.\n",
    "    en,sl = slice_evt(h5f,ee,slice_width)\n",
    "    nslices = len(en)\n",
    "    nspevt.append(nslices)\n",
    "    \n",
    "    # Get information about each slice.\n",
    "    for ss in range(nslices):\n",
    "        \n",
    "        # Don't include 0-energy slices.\n",
    "        if(en[ss] < 1.0e-6):\n",
    "            continue\n",
    "        \n",
    "        # Get lists of the nonzero x,y,z indices and E values.\n",
    "        cslice = sl[ss]\n",
    "        nzy,nzx = np.nonzero(cslice)\n",
    "        nze = cslice[np.nonzero(cslice)]\n",
    "        \n",
    "        # Extract several quantities of interest.\n",
    "        xmin = np.min(nzx); xmax = np.max(nzx)\n",
    "        ymin = np.min(nzy); ymax = np.max(nzy)\n",
    "        xrng.append(xmax - xmin + 1)\n",
    "        yrng.append(ymax - ymin + 1)\n",
    "        \n",
    "        # Save the slice if within range.\n",
    "        if(xmax - xmin > RNG_LIM or ymax - ymin > RNG_LIM):\n",
    "            print \"Range of {0} for event {1} slice {2}, energy {3}; slice not included\".format(xmax-xmin,ee,ss,en[ss])\n",
    "        else:\n",
    "            \n",
    "            # Center the slices about RNG_LIM/2.\n",
    "            x0 = (xmin + xmax)/2. - RNG_LIM/2.\n",
    "            y0 = (ymin + ymax)/2. - RNG_LIM/2.\n",
    "            nzx -= x0; nzy -= y0\n",
    "            \n",
    "            # Create the slice array.\n",
    "            snum = len(slices_x)\n",
    "            slices_x.append(nzx); slices_y.append(nzy); slices_e.append(nze)\n",
    "            carr = np.array([nzx, nzy, nze])\n",
    "            \n",
    "            # Create the corresponding SiPM map.\n",
    "            sipm_map = np.zeros(nsipm*nsipm)\n",
    "            for xpt,ypt,ept in zip(xpts,ypts,epts):\n",
    "\n",
    "                # Compute the distances and probabilities.  Add the probabilities to the sipm map.\n",
    "                rr = np.array([math.sqrt((xi - xpt)**2 + (yi - ypt)**2) for xi,yi in zip(pos_x,pos_y)])\n",
    "                probs = 0.5*(sipm_par(0, rr) + sipm_par(1, rr))\n",
    "                sipm_map += probs*ept\n",
    "\n",
    "            # Normalize the probability map, and set sigma = 1.\n",
    "            sipm_map -= np.mean(sipm_map)\n",
    "            sipm_map /= np.std(sipm_map)\n",
    "            \n",
    "            # Save the slice and the SiPM map to an HDF5 file.\n",
    "            h5slices.create_dataset(\"slice{0}\".format(snum),data=carr)\n",
    "            h5slices.create_dataset(\"sipm{0}\".format(snum),data=sipm_map)\n",
    "            \n",
    "h5slices.close()"
   ]
  },
  {
   "cell_type": "markdown",
   "metadata": {},
   "source": [
    "Histogram several quantities of interest."
   ]
  },
  {
   "cell_type": "code",
   "execution_count": 22,
   "metadata": {
    "collapsed": false
   },
   "outputs": [
    {
     "data": {
      "image/png": "[encoded data removed]",
      "text/plain": [
       "<matplotlib.figure.Figure at 0x1078648d0>"
      ]
     },
     "metadata": {},
     "output_type": "display_data"
    }
   ],
   "source": [
    "# Plot the histograms.\n",
    "fig = plt.figure()\n",
    "ax1 = fig.add_subplot(121)\n",
    "ax1.hist(xrng,bins=25)\n",
    "\n",
    "ax2 = fig.add_subplot(122)\n",
    "ax2.hist(yrng,bins=25)\n",
    "\n",
    "plt.show()"
   ]
  },
  {
   "cell_type": "markdown",
   "metadata": {},
   "source": [
    "Slice one event and plot one slice (full range)."
   ]
  },
  {
   "cell_type": "code",
   "execution_count": 23,
   "metadata": {
    "collapsed": false
   },
   "outputs": [
    {
     "ename": "ValueError",
     "evalue": "Not a location (Invalid object id)",
     "output_type": "error",
     "traceback": [
      "\u001b[0;31m---------------------------------------------------------------------------\u001b[0m",
      "\u001b[0;31mValueError\u001b[0m                                Traceback (most recent call last)",
      "\u001b[0;32m<ipython-input-23-83d911b45a08>\u001b[0m in \u001b[0;36m<module>\u001b[0;34m()\u001b[0m\n\u001b[0;32m----> 1\u001b[0;31m \u001b[0men\u001b[0m\u001b[0;34m,\u001b[0m\u001b[0msl\u001b[0m \u001b[0;34m=\u001b[0m \u001b[0mslice_evt\u001b[0m\u001b[0;34m(\u001b[0m\u001b[0mh5f\u001b[0m\u001b[0;34m,\u001b[0m\u001b[0;36m23\u001b[0m\u001b[0;34m,\u001b[0m\u001b[0;36m5.\u001b[0m\u001b[0;34m)\u001b[0m\u001b[0;34m\u001b[0m\u001b[0m\n\u001b[0m\u001b[1;32m      2\u001b[0m \u001b[0mmax_en\u001b[0m \u001b[0;34m=\u001b[0m \u001b[0mnp\u001b[0m\u001b[0;34m.\u001b[0m\u001b[0mwhere\u001b[0m\u001b[0;34m(\u001b[0m\u001b[0men\u001b[0m \u001b[0;34m==\u001b[0m \u001b[0men\u001b[0m\u001b[0;34m.\u001b[0m\u001b[0mmax\u001b[0m\u001b[0;34m(\u001b[0m\u001b[0;34m)\u001b[0m\u001b[0;34m)\u001b[0m\u001b[0;34m[\u001b[0m\u001b[0;36m0\u001b[0m\u001b[0;34m]\u001b[0m\u001b[0;34m[\u001b[0m\u001b[0;36m0\u001b[0m\u001b[0;34m]\u001b[0m\u001b[0;34m\u001b[0m\u001b[0m\n\u001b[1;32m      3\u001b[0m \u001b[0;32mprint\u001b[0m \u001b[0men\u001b[0m\u001b[0;34m\u001b[0m\u001b[0m\n\u001b[1;32m      4\u001b[0m \u001b[0;32mprint\u001b[0m \u001b[0mmax_en\u001b[0m\u001b[0;34m\u001b[0m\u001b[0m\n\u001b[1;32m      5\u001b[0m \u001b[0;34m\u001b[0m\u001b[0m\n",
      "\u001b[0;32m<ipython-input-16-e42f8e98903c>\u001b[0m in \u001b[0;36mslice_evt\u001b[0;34m(hfile, nevt, zwidth)\u001b[0m\n\u001b[1;32m     10\u001b[0m \u001b[0;34m\u001b[0m\u001b[0m\n\u001b[1;32m     11\u001b[0m     \u001b[0;31m# Get the event from the file.\u001b[0m\u001b[0;34m\u001b[0m\u001b[0;34m\u001b[0m\u001b[0m\n\u001b[0;32m---> 12\u001b[0;31m     \u001b[0mhtrk\u001b[0m \u001b[0;34m=\u001b[0m \u001b[0mhfile\u001b[0m\u001b[0;34m[\u001b[0m\u001b[0;34m'trk{0}'\u001b[0m\u001b[0;34m.\u001b[0m\u001b[0mformat\u001b[0m\u001b[0;34m(\u001b[0m\u001b[0mnevt\u001b[0m\u001b[0;34m)\u001b[0m\u001b[0;34m]\u001b[0m\u001b[0;34m\u001b[0m\u001b[0m\n\u001b[0m\u001b[1;32m     13\u001b[0m \u001b[0;34m\u001b[0m\u001b[0m\n\u001b[1;32m     14\u001b[0m     \u001b[0;31m# Get the z-range.\u001b[0m\u001b[0;34m\u001b[0m\u001b[0;34m\u001b[0m\u001b[0m\n",
      "\u001b[0;32mh5py/_objects.pyx\u001b[0m in \u001b[0;36mh5py._objects.with_phil.wrapper (/opt/local/var/macports/build/_opt_mports_dports_python_py-h5py/py27-h5py/work/h5py-2.5.0/h5py/_objects.c:2576)\u001b[0;34m()\u001b[0m\n",
      "\u001b[0;32mh5py/_objects.pyx\u001b[0m in \u001b[0;36mh5py._objects.with_phil.wrapper (/opt/local/var/macports/build/_opt_mports_dports_python_py-h5py/py27-h5py/work/h5py-2.5.0/h5py/_objects.c:2535)\u001b[0;34m()\u001b[0m\n",
      "\u001b[0;32m/opt/local/Library/Frameworks/Python.framework/Versions/2.7/lib/python2.7/site-packages/h5py/_hl/group.pyc\u001b[0m in \u001b[0;36m__getitem__\u001b[0;34m(self, name)\u001b[0m\n\u001b[1;32m    162\u001b[0m                 \u001b[0;32mraise\u001b[0m \u001b[0mValueError\u001b[0m\u001b[0;34m(\u001b[0m\u001b[0;34m\"Invalid HDF5 object reference\"\u001b[0m\u001b[0;34m)\u001b[0m\u001b[0;34m\u001b[0m\u001b[0m\n\u001b[1;32m    163\u001b[0m         \u001b[0;32melse\u001b[0m\u001b[0;34m:\u001b[0m\u001b[0;34m\u001b[0m\u001b[0m\n\u001b[0;32m--> 164\u001b[0;31m             \u001b[0moid\u001b[0m \u001b[0;34m=\u001b[0m \u001b[0mh5o\u001b[0m\u001b[0;34m.\u001b[0m\u001b[0mopen\u001b[0m\u001b[0;34m(\u001b[0m\u001b[0mself\u001b[0m\u001b[0;34m.\u001b[0m\u001b[0mid\u001b[0m\u001b[0;34m,\u001b[0m \u001b[0mself\u001b[0m\u001b[0;34m.\u001b[0m\u001b[0m_e\u001b[0m\u001b[0;34m(\u001b[0m\u001b[0mname\u001b[0m\u001b[0;34m)\u001b[0m\u001b[0;34m,\u001b[0m \u001b[0mlapl\u001b[0m\u001b[0;34m=\u001b[0m\u001b[0mself\u001b[0m\u001b[0;34m.\u001b[0m\u001b[0m_lapl\u001b[0m\u001b[0;34m)\u001b[0m\u001b[0;34m\u001b[0m\u001b[0m\n\u001b[0m\u001b[1;32m    165\u001b[0m \u001b[0;34m\u001b[0m\u001b[0m\n\u001b[1;32m    166\u001b[0m         \u001b[0motype\u001b[0m \u001b[0;34m=\u001b[0m \u001b[0mh5i\u001b[0m\u001b[0;34m.\u001b[0m\u001b[0mget_type\u001b[0m\u001b[0;34m(\u001b[0m\u001b[0moid\u001b[0m\u001b[0;34m)\u001b[0m\u001b[0;34m\u001b[0m\u001b[0m\n",
      "\u001b[0;32mh5py/_objects.pyx\u001b[0m in \u001b[0;36mh5py._objects.with_phil.wrapper (/opt/local/var/macports/build/_opt_mports_dports_python_py-h5py/py27-h5py/work/h5py-2.5.0/h5py/_objects.c:2576)\u001b[0;34m()\u001b[0m\n",
      "\u001b[0;32mh5py/_objects.pyx\u001b[0m in \u001b[0;36mh5py._objects.with_phil.wrapper (/opt/local/var/macports/build/_opt_mports_dports_python_py-h5py/py27-h5py/work/h5py-2.5.0/h5py/_objects.c:2535)\u001b[0;34m()\u001b[0m\n",
      "\u001b[0;32mh5py/h5o.pyx\u001b[0m in \u001b[0;36mh5py.h5o.open (/opt/local/var/macports/build/_opt_mports_dports_python_py-h5py/py27-h5py/work/h5py-2.5.0/h5py/h5o.c:3548)\u001b[0;34m()\u001b[0m\n",
      "\u001b[0;31mValueError\u001b[0m: Not a location (Invalid object id)"
     ]
    }
   ],
   "source": [
    "en,sl = slice_evt(h5f,23,5.)\n",
    "max_en = np.where(en == en.max())[0][0]\n",
    "print en\n",
    "print max_en\n",
    "\n",
    "# Get lists of the nonzero x,y,z indices and E values.\n",
    "pslice = sl[3]#sl[max_en]\n",
    "nzy,nzx = np.nonzero(pslice)\n",
    "nze = pslice[np.nonzero(pslice)]\n",
    "\n",
    "# Combine into one single 4 x N array, where N is the number of nonzero elements.\n",
    "#carr = np.array([nzx, nzy, nzz, nze]);\n",
    "\n",
    "# Create the plot.\n",
    "fig = plt.figure()\n",
    "ax1 = fig.add_subplot(111)\n",
    "hxz, xxz, yxz = np.histogram2d(nzy, nzx, weights=nze, normed=False, bins=(NY, NX), range=[[0,NY],[0,NX]])\n",
    "extent3 = [yxz[0], yxz[-1], xxz[0], xxz[-1]]\n",
    "sp3 = ax1.imshow(hxz, extent=extent3, interpolation='none', aspect='auto', origin='lower')\n",
    "ax1.set_xlabel(\"x (mm)\")\n",
    "ax1.set_ylabel(\"Y (mm)\")\n",
    "cbp3 = plt.colorbar(sp3);\n",
    "cbp3.set_label('Energy (keV)');\n",
    "\n",
    "plt.show()"
   ]
  },
  {
   "cell_type": "markdown",
   "metadata": {},
   "source": [
    "Close the HDF5 file containing the pixels of the event."
   ]
  },
  {
   "cell_type": "code",
   "execution_count": 21,
   "metadata": {
    "collapsed": true
   },
   "outputs": [],
   "source": [
    "h5f.close()"
   ]
  },
  {
   "cell_type": "markdown",
   "metadata": {},
   "source": [
    "# Reconstruction with DNNs\n",
    "\n",
    "The stored events and SiPM maps can now be read in and used to train a DNN."
   ]
  },
  {
   "cell_type": "code",
   "execution_count": null,
   "metadata": {
    "collapsed": true
   },
   "outputs": [],
   "source": [
    "# Number of events to read.\n",
    "Nevts_train = 4000\n",
    "Nevts_test = 400\n",
    "gridSize = int(RNG_LIM*RNG_LIM)\n",
    "mapSize = nsipm*nsipm\n",
    "\n",
    "x_train = np.zeros([Nevts_train,mapSize])\n",
    "x_test = np.zeros([Nevts_test,mapSize])\n",
    "y_train = np.zeros([Nevts_train,gridSize])\n",
    "y_test = np.zeros([Nevts_test,gridSize])\n",
    "\n",
    "# Open the HDF5 file.\n",
    "evtFile = h5py.File(\"slices.h5\",'r')\n",
    "\n",
    "# Start reading the events.\n",
    "nevents = len(evtFile)\n",
    "for ee in range(nevents):\n",
    "    \n",
    "    # Get the data from the HDF5 file.\n",
    "    slice_obj = evtFile[\"slice{0}\".format(ee)]\n",
    "    map_obj = evtFile[\"sipm{0}\".format(ee)]\n",
    "    \n",
    "    # Create the grid.\n",
    "    xslices = slice_obj[0]; yslices = slice_obj[1]; eslices = slice_obj[2]\n",
    "    slice_grid = np.zeros(gridSize)\n",
    "    for xv,yv,ev in zip(xslices,yslices,eslices):\n",
    "        igrid = xv + RNG_LIM*yv\n",
    "        slice_grid[igrid] += ev\n",
    "    \n",
    "    # Store the event.\n",
    "    if(nn >= Nevts_train): \n",
    "        x_test[nn-Nevts_train] = map_obj\n",
    "        y_test[nn-Nevts_train] = slice_grid\n",
    "    else:\n",
    "        x_train[nn] = map_obj\n",
    "        y_train[nn] = slice_grid"
   ]
  },
  {
   "cell_type": "code",
   "execution_count": null,
   "metadata": {
    "collapsed": true
   },
   "outputs": [],
   "source": []
  },
  {
   "cell_type": "code",
   "execution_count": null,
   "metadata": {
    "collapsed": false
   },
   "outputs": [],
   "source": [
    "# Construct a DNN.\n",
    "model = Sequential()\n",
    "model.add(Dense(output_dim=1024, input_dim=nsipm*nsipm))\n",
    "model.add(Activation(\"relu\"))\n",
    "model.add(Dense(output_dim=1024))\n",
    "model.add(Activation(\"relu\"))\n",
    "model.add(Dense(output_dim=1024))\n",
    "model.add(Activation(\"relu\"))\n",
    "model.add(Dense(output_dim=2*N_ELpts))\n",
    "model.add(Activation(\"sigmoid\"))\n",
    "model.compile(loss='mse', optimizer=SGD(lr=1.0, momentum=0.9, nesterov=True))\n",
    "model.summary()"
   ]
  },
  {
   "cell_type": "code",
   "execution_count": null,
   "metadata": {
    "collapsed": false
   },
   "outputs": [],
   "source": [
    "model.fit(x_train, y_train, nb_epoch=100, batch_size=100);"
   ]
  },
  {
   "cell_type": "code",
   "execution_count": null,
   "metadata": {
    "collapsed": false
   },
   "outputs": [],
   "source": [
    "# Evaluate the model and produce a list of predictions for the test data.\n",
    "loss_and_metrics = model.evaluate(x_test, y_test, batch_size=100);\n",
    "y_pred = model.predict(x_test, batch_size=32, verbose=0)\n",
    "print(\"\\nMean loss is {0}\".format(loss_and_metrics))"
   ]
  },
  {
   "cell_type": "code",
   "execution_count": null,
   "metadata": {
    "collapsed": false
   },
   "outputs": [],
   "source": [
    "# Plot one event.\n",
    "plt_train = False\n",
    "pevt = 4\n",
    "fig = plt.figure();\n",
    "ax1 = fig.add_subplot(111);\n",
    "ax1.axis([0, xlen, 0, ylen]);\n",
    "\n",
    "if(plt_train):\n",
    "    xarr = x_train[pevt]\n",
    "    yarr = y_train[pevt]\n",
    "else:\n",
    "    xarr = x_test[pevt]\n",
    "    yarr = y_test[pevt]\n",
    "\n",
    "# Create circles and plot them according to the probabilities.\n",
    "probs = (xarr - min(xarr))\n",
    "probs /= max(probs)\n",
    "for x,y,p in zip(pos_x, pos_y, probs):\n",
    "\n",
    "    #print \"Placing sipm at ({0},{1}) with prob {2}\".format(x,y,p);\n",
    "    \n",
    "    # Set up the location; note we must invert y due to a pi rotation\n",
    "    #  about the x-axis.\n",
    "    r = Ellipse(xy=(x,y), width=2., height=2.);\n",
    "    r.set_facecolor('0');\n",
    "    r.set_alpha(0.02 + 0.98*p);\n",
    "    ax1.add_artist(r);\n",
    "\n",
    "# Place large blue circles for actual EL points.\n",
    "for npt in range(len(yarr)/2):\n",
    "    xpt = yarr[2*npt]*xlen\n",
    "    ypt = yarr[2*npt+1]*ylen\n",
    "    mrk = Ellipse(xy=(xpt,ypt), width=4., height=4.);\n",
    "    mrk.set_facecolor('b');\n",
    "    ax1.add_artist(mrk);\n",
    "    \n",
    "# Place small red circles for predicted EL points.\n",
    "for npt in range(len(y_pred[pevt])/2):\n",
    "    xpt = y_pred[pevt][2*npt]*xlen\n",
    "    ypt = y_pred[pevt][2*npt+1]*ylen\n",
    "    mrk = Ellipse(xy=(xpt,ypt), width=2., height=2.);\n",
    "    mrk.set_facecolor('r');\n",
    "    ax1.add_artist(mrk);\n",
    "\n",
    "# Show the plot.\n",
    "plt.xlabel(\"x (mm)\");\n",
    "plt.ylabel(\"y (mm)\");"
   ]
  },
  {
   "cell_type": "code",
   "execution_count": null,
   "metadata": {
    "collapsed": true
   },
   "outputs": [],
   "source": []
  },
  {
   "cell_type": "code",
   "execution_count": null,
   "metadata": {
    "collapsed": true
   },
   "outputs": [],
   "source": []
  }
 ],
 "metadata": {
  "kernelspec": {
   "display_name": "Python 2",
   "language": "python",
   "name": "python2"
  },
  "language_info": {
   "codemirror_mode": {
    "name": "ipython",
    "version": 2
   },
   "file_extension": ".py",
   "mimetype": "text/x-python",
   "name": "python",
   "nbconvert_exporter": "python",
   "pygments_lexer": "ipython2",
   "version": "2.7.11"
  }
 },
 "nbformat": 4,
 "nbformat_minor": 0
}
