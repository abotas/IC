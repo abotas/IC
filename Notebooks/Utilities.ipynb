{
 "cells": [
  {
   "cell_type": "markdown",
   "metadata": {},
   "source": [
    "# Utilities"
   ]
  },
  {
   "cell_type": "markdown",
   "metadata": {},
   "source": [
    "## A notebook to experiment with Utilities for IC"
   ]
  },
  {
   "cell_type": "code",
   "execution_count": 3,
   "metadata": {
    "collapsed": false
   },
   "outputs": [
    {
     "name": "stdout",
     "output_type": "stream",
     "text": [
      "Populating the interactive namespace from numpy and matplotlib\n"
     ]
    }
   ],
   "source": [
    "pylab inline"
   ]
  },
  {
   "cell_type": "code",
   "execution_count": 4,
   "metadata": {
    "collapsed": true
   },
   "outputs": [],
   "source": [
    "import tables\n",
    "import pandas as pd\n",
    "import logging\n",
    "import getopt"
   ]
  },
  {
   "cell_type": "markdown",
   "metadata": {},
   "source": [
    "### Read config files with Pandas"
   ]
  },
  {
   "cell_type": "markdown",
   "metadata": {},
   "source": [
    "#### config file example"
   ]
  },
  {
   "cell_type": "code",
   "execution_count": 6,
   "metadata": {
    "collapsed": true
   },
   "outputs": [],
   "source": [
    "def usage():\n",
    "    \"\"\"\n",
    "    Usage of program\n",
    "    \"\"\"\n",
    "    print(\"\"\"\n",
    "        Usage: python (run) DIOMIRA [args]\n",
    "        where args are:\n",
    "         -h (--help) : this text\n",
    "         -i (--info) : print a text describing the invisible city of DIOMIRA\n",
    "         -d (--debug) : can be set to 'DEBUG','INFO','WARNING','ERROR'\n",
    "         -c (--cfile) : full path to a configuration file\n",
    "         \n",
    "         example of configuration file \n",
    "\n",
    "         # comment line  \n",
    "        Names of parameters (comma separated)\n",
    "        Values of parameters (comma separated)\n",
    "        \n",
    "        The parameters for DIOMIRA are:\n",
    "\n",
    "        PATH_IN = path to input DST file (must be a MCRD file)\n",
    "        FILE_IN = name of input DST file\n",
    "        PATH_OUT = path to output DST file (RWF file)\n",
    "        FILE_OUT = name of ouput DST file (RWF file)\n",
    "        FIRST_EVT,LAST_EVT,RUN_ALL,\n",
    "\n",
    "        RUN_ALL is used to decide whether to run all the events in the file\n",
    "        in case that the total number of events requested (LAST_EVT-FIRST_EVT) \n",
    "        exceeds the number of events in the DST file. If RUN_ALL is set to 1 (True), \n",
    "        the script will run over all elements in the DST, \n",
    "        otherwise it will exit with a warning.\n",
    "\n",
    "\n",
    "        \"\"\")"
   ]
  },
  {
   "cell_type": "code",
   "execution_count": 16,
   "metadata": {
    "collapsed": true
   },
   "outputs": [],
   "source": [
    "def wait():\n",
    "\traw_input(\"Press a key...\")"
   ]
  },
  {
   "cell_type": "code",
   "execution_count": 29,
   "metadata": {
    "collapsed": true
   },
   "outputs": [],
   "source": [
    "def configure(argv):\n",
    "    \"\"\"\n",
    "    reads arguments from the command line and configures job\n",
    "    \"\"\"\n",
    "    \n",
    "    global DEBUG, PATH_IN, PATH_OUT, FILE_IN, FILE_OUT\n",
    "    global  FIRST_EVT, LAST_EVT,NEVENTS, RUN_ALL, INFO\n",
    "    \n",
    "    print(\"argv = {}\".format(argv))\n",
    "    \n",
    "    DEBUG='INFO'\n",
    "    INFO = False\n",
    "    cfile =''\n",
    "    try:\n",
    "        opts, args = getopt.getopt(argv, \"hid:c:\", [\"help\",\"info\",\"debug\",\"cfile\"])\n",
    "\n",
    "    except getopt.GetoptError:\n",
    "        usage()\n",
    "        #sys.exit(2)\n",
    "        wait()\n",
    "    for opt, arg in opts:\n",
    "        if opt in (\"-h\", \"--help\"):\n",
    "            usage()\n",
    "            #sys.exit()\n",
    "            wait()\n",
    "        elif opt in (\"-d\", \"--debug\"):\n",
    "            DEBUG = arg\n",
    "        elif opt in (\"-i\", \"--info\"):\n",
    "            INFO = True\n",
    "        elif opt in (\"-c\", \"--cfile\"):\n",
    "            cfile = arg\n",
    " \n",
    "    lg = 'logging.'+DEBUG\n",
    "    logging.basicConfig(level=eval(lg))\n",
    "\n",
    "    if cfile == '':\n",
    "        print(\"Path to configuration file not given\")\n",
    "        usage()\n",
    "        wait()\n",
    "        #sys.exit()  uncomment in script\n",
    "\n",
    "    CFP =pd.read_csv(cfile,comment=\"#\")\n",
    "    print(\"\"\"\n",
    "        Configuration parameters \\n \n",
    "        {}\n",
    "        \"\"\".format(CFP))\n",
    "    return CFP"
   ]
  },
  {
   "cell_type": "markdown",
   "metadata": {},
   "source": [
    "Configure is called from main configure(sys.argv[1:])"
   ]
  },
  {
   "cell_type": "code",
   "execution_count": 36,
   "metadata": {
    "collapsed": false
   },
   "outputs": [
    {
     "name": "stdout",
     "output_type": "stream",
     "text": [
      "argv = ['-c', '/Users/jjgomezcadenas/Documents/Development/NEXT/IC/Config/DIOMIRA_NA_ZLIB_test2.csv']\n",
      "\n",
      "        Configuration parameters \n",
      " \n",
      "                                                     PATH_IN  \\\n",
      "0  /Users/jjgomezcadenas/Documents/Development/NE...   \n",
      "\n",
      "                                            PATH_OUT  \\\n",
      "0  /Users/jjgomezcadenas/Documents/Development/NE...   \n",
      "\n",
      "                          FILE_IN           FILE_OUT  FIRST_EVT  LAST_EVT  \\\n",
      "0  WF_Na_1Kevts_comp1_chunk32k.h5  WF_Na_test_RWF.h5          0        10   \n",
      "\n",
      "   RUN_ALL                                                C12  END   \n",
      "0        1  6.02975448 6.22547194 6.0671337 6.22159457 6.2...     1  \n",
      "        \n"
     ]
    }
   ],
   "source": [
    "CFP = configure(['-c','/Users/jjgomezcadenas/Documents/Development/NEXT/IC/Config/DIOMIRA_NA_ZLIB_test2.csv'])"
   ]
  },
  {
   "cell_type": "code",
   "execution_count": 31,
   "metadata": {
    "collapsed": false
   },
   "outputs": [
    {
     "data": {
      "text/html": [
       "<div>\n",
       "<table border=\"1\" class=\"dataframe\">\n",
       "  <thead>\n",
       "    <tr style=\"text-align: right;\">\n",
       "      <th></th>\n",
       "      <th>PATH_IN</th>\n",
       "      <th>PATH_OUT</th>\n",
       "      <th>FILE_IN</th>\n",
       "      <th>FILE_OUT</th>\n",
       "      <th>FIRST_EVT</th>\n",
       "      <th>LAST_EVT</th>\n",
       "      <th>RUN_ALL</th>\n",
       "      <th>C12</th>\n",
       "      <th>END</th>\n",
       "    </tr>\n",
       "  </thead>\n",
       "  <tbody>\n",
       "    <tr>\n",
       "      <th>0</th>\n",
       "      <td>/Users/jjgomezcadenas/Documents/Development/NE...</td>\n",
       "      <td>/Users/jjgomezcadenas/Documents/Development/NE...</td>\n",
       "      <td>WF_Na_1Kevts_comp1_chunk32k.h5</td>\n",
       "      <td>WF_Na_test_RWF.h5</td>\n",
       "      <td>0</td>\n",
       "      <td>10</td>\n",
       "      <td>1</td>\n",
       "      <td>1 2 3 4 5</td>\n",
       "      <td>1</td>\n",
       "    </tr>\n",
       "  </tbody>\n",
       "</table>\n",
       "</div>"
      ],
      "text/plain": [
       "                                             PATH_IN  \\\n",
       "0  /Users/jjgomezcadenas/Documents/Development/NE...   \n",
       "\n",
       "                                            PATH_OUT  \\\n",
       "0  /Users/jjgomezcadenas/Documents/Development/NE...   \n",
       "\n",
       "                          FILE_IN           FILE_OUT  FIRST_EVT  LAST_EVT  \\\n",
       "0  WF_Na_1Kevts_comp1_chunk32k.h5  WF_Na_test_RWF.h5          0        10   \n",
       "\n",
       "   RUN_ALL        C12  END   \n",
       "0        1  1 2 3 4 5     1  "
      ]
     },
     "execution_count": 31,
     "metadata": {},
     "output_type": "execute_result"
    }
   ],
   "source": [
    "CFP"
   ]
  },
  {
   "cell_type": "code",
   "execution_count": 77,
   "metadata": {
    "collapsed": false
   },
   "outputs": [
    {
     "data": {
      "text/plain": [
       "Index([u'PATH_IN', u'PATH_OUT', u'FILE_IN', u'FILE_OUT', u'FIRST_EVT',\n",
       "       u'LAST_EVT', u'RUN_ALL', u'C12', u'END '],\n",
       "      dtype='object')"
      ]
     },
     "execution_count": 77,
     "metadata": {},
     "output_type": "execute_result"
    }
   ],
   "source": [
    "CFP.keys()"
   ]
  },
  {
   "cell_type": "code",
   "execution_count": 85,
   "metadata": {
    "collapsed": false
   },
   "outputs": [
    {
     "data": {
      "text/plain": [
       "pandas.core.frame.DataFrame"
      ]
     },
     "execution_count": 85,
     "metadata": {},
     "output_type": "execute_result"
    }
   ],
   "source": [
    "type(CFP)"
   ]
  },
  {
   "cell_type": "code",
   "execution_count": 89,
   "metadata": {
    "collapsed": true
   },
   "outputs": [],
   "source": [
    "def cdf_to_dict(cdf):\n",
    "    dc ={}\n",
    "    for k in CFP.keys():\n",
    "        dc[k] = cdf[k][0]\n",
    "    return dc\n",
    "    "
   ]
  },
  {
   "cell_type": "code",
   "execution_count": 90,
   "metadata": {
    "collapsed": false
   },
   "outputs": [],
   "source": [
    "cfp = cdf_to_dict(CFP)"
   ]
  },
  {
   "cell_type": "code",
   "execution_count": 91,
   "metadata": {
    "collapsed": false
   },
   "outputs": [
    {
     "data": {
      "text/plain": [
       "{'C12': '6.02975448 6.22547194 6.0671337 6.22159457 6.29999787 6.09892384 6.18289435 6.21775591 6.19306671 6.30518792 6.20359891 6.31231192',\n",
       " 'END ': 1,\n",
       " 'FILE_IN': 'WF_Na_1Kevts_comp1_chunk32k.h5',\n",
       " 'FILE_OUT': 'WF_Na_test_RWF.h5',\n",
       " 'FIRST_EVT': 0,\n",
       " 'LAST_EVT': 10,\n",
       " 'PATH_IN': '/Users/jjgomezcadenas/Documents/Development/NEXT/data/Waveforms/WF-NA-ZLIB/',\n",
       " 'PATH_OUT': '/Users/jjgomezcadenas/Documents/Development/NEXT/data/Waveforms/25ns/',\n",
       " 'RUN_ALL': 1}"
      ]
     },
     "execution_count": 91,
     "metadata": {},
     "output_type": "execute_result"
    }
   ],
   "source": [
    "cfp"
   ]
  },
  {
   "cell_type": "code",
   "execution_count": null,
   "metadata": {
    "collapsed": true
   },
   "outputs": [],
   "source": []
  },
  {
   "cell_type": "code",
   "execution_count": 37,
   "metadata": {
    "collapsed": false
   },
   "outputs": [
    {
     "data": {
      "text/plain": [
       "0    6.02975448 6.22547194 6.0671337 6.22159457 6.2...\n",
       "Name: C12, dtype: object"
      ]
     },
     "execution_count": 37,
     "metadata": {},
     "output_type": "execute_result"
    }
   ],
   "source": [
    "CFP['C12']"
   ]
  },
  {
   "cell_type": "code",
   "execution_count": 50,
   "metadata": {
    "collapsed": true
   },
   "outputs": [],
   "source": [
    "oarr = CFP['C12'][0]"
   ]
  },
  {
   "cell_type": "code",
   "execution_count": 54,
   "metadata": {
    "collapsed": false
   },
   "outputs": [
    {
     "data": {
      "text/plain": [
       "'6.02975448 6.22547194 6.0671337 6.22159457 6.29999787 6.09892384 6.18289435 6.21775591 6.19306671 6.30518792 6.20359891 6.31231192'"
      ]
     },
     "execution_count": 54,
     "metadata": {},
     "output_type": "execute_result"
    }
   ],
   "source": [
    "oarr"
   ]
  },
  {
   "cell_type": "code",
   "execution_count": 52,
   "metadata": {
    "collapsed": false
   },
   "outputs": [
    {
     "data": {
      "text/plain": [
       "str"
      ]
     },
     "execution_count": 52,
     "metadata": {},
     "output_type": "execute_result"
    }
   ],
   "source": [
    "type(oarr)"
   ]
  },
  {
   "cell_type": "code",
   "execution_count": 57,
   "metadata": {
    "collapsed": true
   },
   "outputs": [],
   "source": [
    "sarr = oarr.split(' ')"
   ]
  },
  {
   "cell_type": "code",
   "execution_count": 64,
   "metadata": {
    "collapsed": false
   },
   "outputs": [
    {
     "data": {
      "text/plain": [
       "['6.02975448',\n",
       " '6.22547194',\n",
       " '6.0671337',\n",
       " '6.22159457',\n",
       " '6.29999787',\n",
       " '6.09892384',\n",
       " '6.18289435',\n",
       " '6.21775591',\n",
       " '6.19306671',\n",
       " '6.30518792',\n",
       " '6.20359891',\n",
       " '6.31231192']"
      ]
     },
     "execution_count": 64,
     "metadata": {},
     "output_type": "execute_result"
    }
   ],
   "source": [
    "sarr"
   ]
  },
  {
   "cell_type": "code",
   "execution_count": null,
   "metadata": {
    "collapsed": true
   },
   "outputs": [],
   "source": []
  },
  {
   "cell_type": "code",
   "execution_count": 72,
   "metadata": {
    "collapsed": false
   },
   "outputs": [],
   "source": [
    "def str_to_float(sarr):\n",
    "    arr = []\n",
    "    for x in sarr:\n",
    "        arr.append(float(x))\n",
    "    return np.array(arr)"
   ]
  },
  {
   "cell_type": "code",
   "execution_count": 73,
   "metadata": {
    "collapsed": false
   },
   "outputs": [],
   "source": [
    "arr = str_to_float(sarr)"
   ]
  },
  {
   "cell_type": "code",
   "execution_count": 74,
   "metadata": {
    "collapsed": false
   },
   "outputs": [
    {
     "data": {
      "text/plain": [
       "array([ 6.02975448,  6.22547194,  6.0671337 ,  6.22159457,  6.29999787,\n",
       "        6.09892384,  6.18289435,  6.21775591,  6.19306671,  6.30518792,\n",
       "        6.20359891,  6.31231192])"
      ]
     },
     "execution_count": 74,
     "metadata": {},
     "output_type": "execute_result"
    }
   ],
   "source": [
    "arr"
   ]
  },
  {
   "cell_type": "code",
   "execution_count": null,
   "metadata": {
    "collapsed": true
   },
   "outputs": [],
   "source": []
  }
 ],
 "metadata": {
  "kernelspec": {
   "display_name": "Python 2",
   "language": "python",
   "name": "python2"
  },
  "language_info": {
   "codemirror_mode": {
    "name": "ipython",
    "version": 2
   },
   "file_extension": ".py",
   "mimetype": "text/x-python",
   "name": "python",
   "nbconvert_exporter": "python",
   "pygments_lexer": "ipython2",
   "version": "2.7.11"
  }
 },
 "nbformat": 4,
 "nbformat_minor": 0
}
