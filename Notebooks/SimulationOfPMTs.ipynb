{
 "cells": [
  {
   "cell_type": "markdown",
   "metadata": {},
   "source": [
    "# Simulation of the energy plane PMTs"
   ]
  },
  {
   "cell_type": "code",
   "execution_count": 1,
   "metadata": {
    "collapsed": false
   },
   "outputs": [
    {
     "name": "stdout",
     "output_type": "stream",
     "text": [
      "Populating the interactive namespace from numpy and matplotlib\n"
     ]
    }
   ],
   "source": [
    "%pylab inline"
   ]
  },
  {
   "cell_type": "code",
   "execution_count": 2,
   "metadata": {
    "collapsed": true
   },
   "outputs": [],
   "source": [
    "from IPython.display import Image"
   ]
  },
  {
   "cell_type": "markdown",
   "metadata": {},
   "source": [
    "## PMT response"
   ]
  },
  {
   "cell_type": "markdown",
   "metadata": {},
   "source": [
    "### The SPE class"
   ]
  },
  {
   "cell_type": "code",
   "execution_count": 3,
   "metadata": {
    "collapsed": true
   },
   "outputs": [],
   "source": [
    "from scipy import signal as SGN\n",
    "import numpy as np"
   ]
  },
  {
   "cell_type": "code",
   "execution_count": 4,
   "metadata": {
    "collapsed": true
   },
   "outputs": [],
   "source": [
    "from system_of_units import *"
   ]
  },
  {
   "cell_type": "code",
   "execution_count": 5,
   "metadata": {
    "collapsed": true
   },
   "outputs": [],
   "source": [
    "import FEParam as FP"
   ]
  },
  {
   "cell_type": "code",
   "execution_count": 6,
   "metadata": {
    "collapsed": false
   },
   "outputs": [],
   "source": [
    "# spe is parameterized as an isosceles trapezoid of diagonal \n",
    "#   xxxxx-xxxxx      \n",
    "#           --- \n",
    "#         -     -\n",
    "#       -         -\n",
    "#     -             -\n",
    "#   -                 -\n",
    "#   1 2 3 4 515 4 3 2 1\n",
    "# x_slope = 5 ns, x_flat = 1 ns\n",
    "\n",
    "###########################################################\n",
    "class SPE:\n",
    "\n",
    "  def __init__(self,pmt_gain=4.5e6,x_slope = 5*ns,x_flat = 1*ns):\n",
    "    \"\"\"\n",
    "    Defines a spe \n",
    "    \"\"\"\n",
    "    self.pmt_gain=pmt_gain\n",
    "    self.x_slope=x_slope\n",
    "    self.x_flat=x_flat\n",
    "    \n",
    "    self.spe_base = self.x_slope + self.x_flat\n",
    "    self.spe_length = 2*self.x_slope + self.x_flat\n",
    "\n",
    "    self.A=self.pmt_gain*eplus/self.spe_base  #current  \n",
    "    self.V = self.A*FP.spe_i_to_v()\n",
    "    self.nADC = int(self.A*FP.spe_i_to_adc())\n",
    "\n",
    "    self.t = np.arange(0,self.spe_length,FP.time_step)\n",
    "    nns = int(self.x_slope/FP.time_step)\n",
    "    nnf = int(self.x_flat/FP.time_step)\n",
    "    rise = np.linspace(0,self.A, num=nns)\n",
    "    fall = np.linspace(self.A,0, num=nns)\n",
    "    flat = self.A*np.ones(nnf)\n",
    "    self.spe=np.concatenate((rise,flat,fall))\n",
    "    \n",
    "        \n",
    "  def Spe(self):\n",
    "    \"\"\"\n",
    "    Returns a SPE\n",
    "    \"\"\"\n",
    "    return self.t,self.spe\n",
    "\n",
    "  def SpePulse(self,t0, tmax=1e+6*ns):\n",
    "    \"\"\"\n",
    "    Returns a SPE pulse at time t0\n",
    "    with baseline extending in steps of time_step from 0 to tmax determined by DELTA_L\n",
    "    \"\"\"\n",
    "    n = int(t0/FP.time_step)\n",
    "    nmax = int(tmax/FP.time_step)\n",
    "    if n >= nmax:\n",
    "      print \"error in SpePulse n = %d nmax = %d \"%(\n",
    "        n, nmax)\n",
    "      sys.exit()\n",
    "\n",
    "    \n",
    "    DELTA=np.zeros(nmax)   #Dirac delta of size DELTA_L\n",
    "    DELTA[n]=1\n",
    "    step = FP.time_step/ns\n",
    "    spe_pulse_t =np.arange(0,len(DELTA) + len(self.spe) -1,step)\n",
    "    spe_pulse = SGN.convolve(DELTA, self.spe)\n",
    "    \n",
    "    return spe_pulse_t,spe_pulse\n",
    "\n",
    "  def SpePulseTrain(self,tlow,tup,tmax=1e+6*ns):\n",
    "    \"\"\"\n",
    "    Returns a train of SPE pulses between tlow and tup separated by tstep\n",
    "    \"\"\"\n",
    "    nmin = int(tlow/FP.time_step)\n",
    "    nmax = int(tup/FP.time_step)\n",
    "    NMAX = int(tmax/FP.time_step)\n",
    "    step = FP.time_step/ns\n",
    "\n",
    "    if nmax >= NMAX:\n",
    "      print \"error in SpePulse train nmax = %d NMAX = %d \"%(\n",
    "        nmax, NMAX)\n",
    "      sys.exit()\n",
    "\n",
    "    DELTA=np.zeros(NMAX)\n",
    "    DELTA[nmin:nmax+1] = 1\n",
    "    spe_pulse_t =np.arange(0,len(DELTA) + len(self.spe) -1,step)\n",
    "    spe_pulse = SGN.convolve(DELTA, self.spe)\n",
    "      \n",
    "    return spe_pulse_t,spe_pulse\n",
    "\n",
    "  def SpePulseFromVectorPE(self,cnt):\n",
    "    \"\"\"\n",
    "    Returns a train of SPE pulses corresponding to vector cnt\n",
    "    \"\"\"\n",
    "    \n",
    "    spe_pulse = SGN.convolve(cnt[0:-len(self.spe)+1], self.spe)\n",
    "      \n",
    "    return spe_pulse\n",
    "\n",
    "  def __str__(self):\n",
    "        \n",
    "    s= \"\"\"\n",
    "        SPE:\n",
    "        Gain = %7.2f I (muA) = %7.2f, V (mV) = %7.2f, ADC = %d\n",
    "      \"\"\"%(self.pmt_gain, self.A/microampere, self.V/mV, self.nADC )\n",
    "    return s\n"
   ]
  },
  {
   "cell_type": "code",
   "execution_count": 7,
   "metadata": {
    "collapsed": true
   },
   "outputs": [],
   "source": [
    "from PlotUtil import *"
   ]
  },
  {
   "cell_type": "code",
   "execution_count": 8,
   "metadata": {
    "collapsed": false
   },
   "outputs": [
    {
     "name": "stdout",
     "output_type": "stream",
     "text": [
      "\n",
      "        SPE:\n",
      "        Gain = 4500000.00 I (muA) =  120.16, V (mV) =   30.04, ADC = 76\n",
      "      \n"
     ]
    }
   ],
   "source": [
    "spe = SPE()\n",
    "print spe"
   ]
  },
  {
   "cell_type": "code",
   "execution_count": 9,
   "metadata": {
    "collapsed": true
   },
   "outputs": [],
   "source": [
    "signal_start=2000*ns\n",
    "signal_length=200*microsecond\n",
    "daq_window = 1*millisecond"
   ]
  },
  {
   "cell_type": "code",
   "execution_count": 10,
   "metadata": {
    "collapsed": false
   },
   "outputs": [
    {
     "data": {
      "image/png": "[encoded data removed]",
      "text/plain": [
       "<matplotlib.figure.Figure at 0x10870b9d0>"
      ]
     },
     "metadata": {},
     "output_type": "display_data"
    }
   ],
   "source": [
    "signal_end = signal_start + signal_length\n",
    "  \n",
    "signal_t, signal_PE = spe.SpePulseTrain(signal_start,signal_end,daq_window)\n",
    "\n",
    "plot_signal(signal_t/ns,signal_PE/muA, \n",
    "                  title = 'Input Signal: PE Train', \n",
    "                  signal_start=0*ns, signal_end=len(signal_t)/ns, \n",
    "                  units='muA')"
   ]
  },
  {
   "cell_type": "markdown",
   "metadata": {},
   "source": [
    "## FEE response"
   ]
  },
  {
   "cell_type": "code",
   "execution_count": 11,
   "metadata": {
    "collapsed": true
   },
   "outputs": [],
   "source": [
    "from Util import *"
   ]
  },
  {
   "cell_type": "code",
   "execution_count": 12,
   "metadata": {
    "collapsed": true
   },
   "outputs": [],
   "source": [
    "import SPE as SP"
   ]
  },
  {
   "cell_type": "code",
   "execution_count": 13,
   "metadata": {
    "collapsed": true
   },
   "outputs": [],
   "source": [
    "def DownScaleSignal(signal_t, signal, scale):\n",
    " \t\"\"\"\n",
    " \tdownscales the time and signal vectors\n",
    " \t\"\"\"\n",
    "\tsignal_d=SGN.decimate(signal,scale,ftype='fir')\n",
    "\tsignal_t_d = SGN.decimate(signal_t,scale,ftype='fir')\n",
    "\n",
    "\t#pulse_plot(signal_t_d, signal_d)\n",
    "\treturn signal_t_d, signal_d"
   ]
  },
  {
   "cell_type": "code",
   "execution_count": 14,
   "metadata": {
    "collapsed": true
   },
   "outputs": [],
   "source": [
    "class Filter:\n",
    "\n",
    " \tdef __init__(self,ftype='high',fc=5E3,fs= 1e+9):\n",
    "\t\t\"\"\"\n",
    "\t\tDefines a Butterworth HPF (high pass frequency) or LPF (low pass frequencey) filter \n",
    "\t\tthe default sampling frequencey is 1 GHz (inverse of 1 ns time)\n",
    "\t\ttype may be equal to hig or low\n",
    "\t\t\"\"\"\n",
    "\t\tself.fc = fc\n",
    "\t\tself.fs = fs\n",
    "\t\tself.W = 2*self.fc/self.fs\n",
    "\t\tself.ftype = ftype\n",
    "\t\tself.b, self.a = SGN.butter(1, self.W, btype=self.ftype, analog=False, output='ba')\n",
    "\t\tself.ba, self.aa = SGN.butter(1, 2*self.fc, btype=self.ftype, analog=True, output='ba')\n",
    "\n",
    "\tdef FilterCoef(self):\n",
    "\t\t\"\"\"\n",
    "\t\tReturns the filter coefficients\n",
    "\t\t\"\"\"\n",
    "  \t\treturn self.b,self.a\n",
    "\n",
    "  \tdef FilterAnalogCoef(self):\n",
    "\t\t\"\"\"\n",
    "\t\tReturns the filter coefficients\n",
    "\t\t\"\"\"\n",
    "  \t\treturn self.ba,self.aa\n",
    "\n",
    "\tdef FilterPulse(self,pulse):\n",
    "\t\t\"\"\"\n",
    "\t\tFilters a pulse\n",
    "\t\t\"\"\"\n",
    "  \t\treturn SGN.lfilter(self.b,self.a, pulse)\n",
    "\n",
    "  \tdef FilterResponse(self):\n",
    "  \t\t\"\"\"\n",
    "  \t\tGives the response of the filter y frequency-amplitude\n",
    "  \t\t\"\"\"\n",
    "\n",
    "  \t\tself.w, self.h = SGN.freqs(self.ba, self.aa)\n",
    "  \t\treturn self.w, self.h\n",
    "\n",
    "\n",
    "\tdef __str__(self):\n",
    "        \n",
    "\t\ts= \"\"\"\n",
    "\t\tFilter:\n",
    "\t\tfc = %7.2f Hz, fs = %7.2f, W = %7.2f Hz type = %s  \n",
    "\t\t\"\"\"%(self.fc, self.fs, self.W, self.ftype)\n",
    "\t\treturn s\n",
    "\n",
    "\t"
   ]
  },
  {
   "cell_type": "code",
   "execution_count": 15,
   "metadata": {
    "collapsed": true
   },
   "outputs": [],
   "source": [
    "class FEE:\n",
    "\t\"\"\"\n",
    "\tEmulates the effect of the PMT + FEE:\n",
    "\t1) PMT gain G\n",
    "\t2) A HPF, due to the FEE decoupling capacitor C and the associated series resitor R\n",
    "\t3) A LPF that shapes the signal, with a frequencey f and a noise\n",
    "\t4) A resitor gain RG to transform current in voltage\n",
    "\t\"\"\"\n",
    "\n",
    " \tdef __init__(self,PMTG=4.5e6, C=6.75*nF,R= 2350*ohm, \n",
    " \t\t\t\t f=2E6*hertz, fn=2E5*hertz, RG=250*ohm):\n",
    "\n",
    " \t\tself.PMTG = PMTG\n",
    " \t\tself.C = C\n",
    " \t\tself.R = R\n",
    " \t\tself.f_LPF = f\n",
    " \t\tself.fn_LPF = fn\n",
    " \t\tself.RG = RG\n",
    " \t\tself.f_HPF=(1./(2*pi*R*C))\n",
    " \t\tself.hpf = Filter(ftype='high',fc=self.f_HPF,fs=FP.f_sample)\n",
    "\t\tself.lpf = Filter(ftype='low',fc=self.f_LPF,fs=FP.f_sample)\n",
    "\t\tself.hpfr = Filter(ftype='high',fc=self.f_HPF,fs=FP.f_sample_DAQ)\n",
    "\n",
    "\n",
    "\tdef Filter(self,signal):\n",
    "\t\t\"\"\"\n",
    "\t\tfor an input signal in pes, returns the effect of the electronics\n",
    "\t\t\"\"\"\n",
    "\t\tsignal_hp = self.hpf.FilterPulse(signal)\n",
    "  \t\tsignal_hp_lp = self.lpf.FilterPulse(signal_hp)\n",
    "  \t\n",
    "  \t\treturn signal_hp, signal_hp_lp\n",
    "\n",
    "  \tdef FilterInverse(self, signal):\n",
    "  \t\t\"\"\"\n",
    "  \t\tReturns the inverse of the HPF filter in bins of 1ns\n",
    "  \t\t\"\"\"\n",
    "  \t\tb_HPr,a_HPr = self.hpf.FilterCoef()\n",
    "\t\th_t_inv = SGN.lfilter(a_HPr,b_HPr, signal)\n",
    "\t\treturn h_t_inv\n",
    "\n",
    "\tdef FilterInverseDAQ(self, signal):\n",
    "\t\t\"\"\"\n",
    "\t\tReturns the inverse of the HPF filter in bins of time_DAQ (25 ns)\n",
    "\t\t\"\"\"\n",
    "  \t\tb_HPr,a_HPr = self.hpfr.FilterCoef()\n",
    "\t\th_t_inv = SGN.lfilter(a_HPr,b_HPr, signal)\n",
    "\t\treturn h_t_inv\n",
    "\n",
    "\tdef FEESignal(self,signal_current, noise_rms=0.3*mV):\n",
    " \t\t\"\"\"\n",
    " \t\tfilters the input signal according to the filters and transforms it in volts\n",
    " \t\t\"\"\"\n",
    " \t\tsignal_hp, signal_hp_lp = self.Filter(signal_current)\n",
    " \t\tnoise = self.FEENoise(len(signal_current), noise_rms)\n",
    " \t\treturn signal_hp_lp*self.RG + noise\n",
    "\n",
    "\n",
    " \tdef DAQSignal(self,signal_t, signal_fee, noise_rms=0.3*mV):\n",
    " \t\t\"\"\"\n",
    " \t\tdownscale the signal after the FEE\n",
    " \t\t\n",
    " \t\t\"\"\"\n",
    "\n",
    "\t\tsignal_t_d, signal_d = DownScaleSignal(signal_t, signal_fee, int(FP.time_DAQ))\n",
    "\t\tsignal_daq = signal_d/FP.voltsToAdc\n",
    "\t\tnoise = self.FEENoise(len(signal_daq), noise_rms/FP.voltsToAdc)\n",
    " \t\treturn signal_t_d, signal_daq + noise\n",
    "\n",
    " \tdef FEENoise(self, signal_length, noise_rms=0.3*mV):\n",
    " \t\t\"\"\"\n",
    " \t\tfilters the input signal according to the filters and transforms it in volts\n",
    " \t\t\"\"\"\n",
    " \t\tif noise_rms > 0:\n",
    " \t\t\tnoise = np.random.normal(0, noise_rms, signal_length)\n",
    " \t\t\treturn noise\n",
    " \t\telse:\n",
    " \t\t\treturn np.zeros(signal_length)\n",
    "\n",
    "\n",
    " \tdef VSignal(self,signal_current):\n",
    " \t\t\"\"\"\n",
    " \t\tTakes a current input signal and transforms it to volts\n",
    " \t\t\"\"\"\n",
    " \t\treturn signal_current*self.RG\n",
    "\n",
    " \tdef InverseSignal(self, signal_t):\n",
    " \t\t\"\"\"\n",
    " \t\tComputes the inverse signal for deconvolution \n",
    " \t\t\"\"\"\n",
    "\t\tpulse = np.zeros(len(signal_t))\n",
    "\t\tpulse[0]=1\n",
    "\t\n",
    "\t\tsignal_fee_inv = self.FilterInverse(pulse)\n",
    "\t\treturn signal_fee_inv\n",
    "\n",
    "\tdef InverseSignalDAQ(self, signal_t):\n",
    "\t\t\"\"\"\n",
    "\t\tComputes the inverse signal in bins of DAQ\n",
    "\t\t\"\"\"\n",
    "\t\tpulse = np.zeros(len(signal_t))\n",
    "\t\tpulse[0]=1\n",
    "\t\n",
    "\t\tsignal_daq_inv = self.FilterInverseDAQ(pulse)\n",
    "\t\treturn signal_daq_inv\n",
    "\n",
    "\n",
    "\n",
    " \tdef __str__(self):\n",
    "        \n",
    "\t\ts= \"\"\"\n",
    "\t\tNEW FEE\n",
    "  \t\tPMT gain = %7.2g\n",
    "  \t\tdecoupling capacitor = %7.2f nF\n",
    "  \t\tdecoupling resistor = %7.2f ohm\n",
    "  \t\tresitor gain = %7.2f ohm\n",
    "  \t\tHPF frequency = %7.2g Hz  W_HPF = %7.2g \n",
    "  \t\tLPF frequency = %7.2g Hz  W_LPF = %7.2g\n",
    "  \t\tLPF frequency noise = %7.2g Hz  \n",
    "  \"\"\"%(self.PMTG,self.C/nF,self.R/ohm, self.RG/ohm,\n",
    "  \t\tself.f_HPF/hertz,self.hpf.W,\n",
    "  \t\tself.f_LPF/hertz, self.lpf.W,\n",
    "  \t\tself.fn_LPF/hertz)\n",
    "\t\t\n",
    "\t\treturn s\n"
   ]
  },
  {
   "cell_type": "code",
   "execution_count": 16,
   "metadata": {
    "collapsed": true
   },
   "outputs": [],
   "source": [
    "\tsingle_pe =False\n",
    "\tsignal_start=2000*ns\n",
    "\tsignal_length=5000*ns\n",
    "\tdaq_window = 20*microsecond\n",
    "\tnoise_rms=0.3*mV\n",
    "\tnoise_DAQ = noise_rms/FP.voltsToAdc\n"
   ]
  },
  {
   "cell_type": "code",
   "execution_count": 17,
   "metadata": {
    "collapsed": false
   },
   "outputs": [
    {
     "data": {
      "text/plain": [
       "0.768"
      ]
     },
     "execution_count": 17,
     "metadata": {},
     "output_type": "execute_result"
    }
   ],
   "source": [
    "noise_DAQ "
   ]
  },
  {
   "cell_type": "code",
   "execution_count": 18,
   "metadata": {
    "collapsed": false
   },
   "outputs": [
    {
     "name": "stdout",
     "output_type": "stream",
     "text": [
      "\n",
      "\t\tNEW FEE\n",
      "  \t\tPMT gain = 4.5e+06\n",
      "  \t\tdecoupling capacitor =    6.75 nF\n",
      "  \t\tdecoupling resistor = 2350.00 ohm\n",
      "  \t\tresitor gain =  250.00 ohm\n",
      "  \t\tHPF frequency =   1e+04 Hz  W_HPF =   2e-05 \n",
      "  \t\tLPF frequency =   2e+06 Hz  W_LPF =   0.004\n",
      "  \t\tLPF frequency noise =   2e+05 Hz  \n",
      "  \n"
     ]
    }
   ],
   "source": [
    "\tfee = FEE()\n",
    "\tprint fee\n"
   ]
  },
  {
   "cell_type": "code",
   "execution_count": 19,
   "metadata": {
    "collapsed": false
   },
   "outputs": [],
   "source": [
    "signal_end = signal_start + signal_length\n",
    "  \n",
    "signal_t = 0\n",
    "signal_PE = 0"
   ]
  },
  {
   "cell_type": "code",
   "execution_count": 20,
   "metadata": {
    "collapsed": true
   },
   "outputs": [],
   "source": [
    "signal_t, signal_PE = spe.SpePulseTrain(signal_start,signal_end,daq_window)"
   ]
  },
  {
   "cell_type": "code",
   "execution_count": 21,
   "metadata": {
    "collapsed": false
   },
   "outputs": [
    {
     "data": {
      "image/png": "[encoded data removed]",
      "text/plain": [
       "<matplotlib.figure.Figure at 0x10b8d3f10>"
      ]
     },
     "metadata": {},
     "output_type": "display_data"
    }
   ],
   "source": [
    "plot_signal(signal_t/ns,signal_PE/muA, \n",
    "                \ttitle = 'Input Signal: PE Train', \n",
    "                \tsignal_start=0*ns, signal_end=len(signal_t)/ns, \n",
    "                \tunits='muA')"
   ]
  },
  {
   "cell_type": "code",
   "execution_count": 22,
   "metadata": {
    "collapsed": true
   },
   "outputs": [],
   "source": [
    "signal_PE_v = fee.VSignal(signal_PE)"
   ]
  },
  {
   "cell_type": "code",
   "execution_count": 23,
   "metadata": {
    "collapsed": false
   },
   "outputs": [
    {
     "data": {
      "image/png": "[encoded data removed]",
      "text/plain": [
       "<matplotlib.figure.Figure at 0x10c9129d0>"
      ]
     },
     "metadata": {},
     "output_type": "display_data"
    }
   ],
   "source": [
    "plot_signal(signal_t/ns,signal_PE_v/mV, \n",
    "        title = 'Input Signal: PE Train', \n",
    "        signal_start=0*ns, signal_end=len(signal_t)/ns, \n",
    "        units='mV')\n"
   ]
  },
  {
   "cell_type": "code",
   "execution_count": 24,
   "metadata": {
    "collapsed": true
   },
   "outputs": [],
   "source": [
    "signal_fee = fee.FEESignal(signal_PE, noise_rms=noise_rms)"
   ]
  },
  {
   "cell_type": "code",
   "execution_count": 25,
   "metadata": {
    "collapsed": false
   },
   "outputs": [
    {
     "data": {
      "image/png": "[encoded data removed]",
      "text/plain": [
       "<matplotlib.figure.Figure at 0x10ca83d10>"
      ]
     },
     "metadata": {},
     "output_type": "display_data"
    }
   ],
   "source": [
    "\t\tplot_signal(signal_t/ns,signal_fee/mV, \n",
    "                \ttitle = 'Signal after FEE (filtered)', \n",
    "                \tsignal_start=0*ns, signal_end=len(signal_t)/ns, \n",
    "                \tunits='mV')\n"
   ]
  },
  {
   "cell_type": "markdown",
   "metadata": {},
   "source": [
    "The effect of the differentiation by the HPF is evident!"
   ]
  },
  {
   "cell_type": "markdown",
   "metadata": {},
   "source": [
    "To deconvolute, one computes the inverse of the signal"
   ]
  },
  {
   "cell_type": "code",
   "execution_count": 26,
   "metadata": {
    "collapsed": true
   },
   "outputs": [],
   "source": [
    "signal_fee_inv = fee.InverseSignal(signal_t)"
   ]
  },
  {
   "cell_type": "code",
   "execution_count": 27,
   "metadata": {
    "collapsed": false
   },
   "outputs": [
    {
     "data": {
      "image/png": "[encoded data removed]",
      "text/plain": [
       "<matplotlib.figure.Figure at 0x10cc20a90>"
      ]
     },
     "metadata": {},
     "output_type": "display_data"
    }
   ],
   "source": [
    "plot_signal(signal_t/ns,signal_fee_inv,\n",
    "                title = 'Inverse FEE', \n",
    "                signal_start=0*ns, signal_end=10*ns, \n",
    "                units='')"
   ]
  },
  {
   "cell_type": "markdown",
   "metadata": {},
   "source": [
    "which is a delta function. The corecting coefficient can be taken anywhere after 1"
   ]
  },
  {
   "cell_type": "code",
   "execution_count": 28,
   "metadata": {
    "collapsed": true
   },
   "outputs": [],
   "source": [
    "def DeconvSimple(signal,signal_inv):\n",
    "\t\"\"\"\n",
    "\tDeconvolution of the fine-grained fee signal (no DAQ)\n",
    "\tno noise\n",
    "\tusing true start and end of signals\n",
    "\t\"\"\"\n",
    "\n",
    "\tcoef = signal_inv[100]\n",
    "\t\n",
    "\tprint \"coef = %7.4g\"%coef\n",
    "\n",
    "\tacum = np.zeros(len(signal))\n",
    "\n",
    "\tacum[0]=coef*signal[0]\n",
    "\tfor n in xrange(1,len(signal)):\n",
    "\t\tacum[n] = acum[n-1] + signal[n]\n",
    "\n",
    "\tsignal_r = signal + coef*acum\n",
    "\n",
    "\treturn signal_r"
   ]
  },
  {
   "cell_type": "code",
   "execution_count": 29,
   "metadata": {
    "collapsed": false
   },
   "outputs": [
    {
     "name": "stdout",
     "output_type": "stream",
     "text": [
      "coef = 6.304e-05\n"
     ]
    }
   ],
   "source": [
    "signal_r = DeconvSimple(signal_fee,signal_fee_inv)"
   ]
  },
  {
   "cell_type": "code",
   "execution_count": 30,
   "metadata": {
    "collapsed": false
   },
   "outputs": [
    {
     "data": {
      "image/png": "[encoded data removed]",
      "text/plain": [
       "<matplotlib.figure.Figure at 0x10ca6c510>"
      ]
     },
     "metadata": {},
     "output_type": "display_data"
    }
   ],
   "source": [
    "\t\tplot_signal(signal_t/ns,signal_r/mV,\n",
    "                \ttitle = 'Deconv simple', \n",
    "                \tsignal_start=0, signal_end=len(signal_t), \n",
    "                \tunits='mV')"
   ]
  },
  {
   "cell_type": "code",
   "execution_count": null,
   "metadata": {
    "collapsed": true
   },
   "outputs": [],
   "source": []
  }
 ],
 "metadata": {
  "kernelspec": {
   "display_name": "Python 2",
   "language": "python",
   "name": "python2"
  },
  "language_info": {
   "codemirror_mode": {
    "name": "ipython",
    "version": 2
   },
   "file_extension": ".py",
   "mimetype": "text/x-python",
   "name": "python",
   "nbconvert_exporter": "python",
   "pygments_lexer": "ipython2",
   "version": "2.7.11"
  }
 },
 "nbformat": 4,
 "nbformat_minor": 0
}
