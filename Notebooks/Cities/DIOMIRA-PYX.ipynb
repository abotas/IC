{
 "cells": [
  {
   "cell_type": "markdown",
   "metadata": {},
   "source": [
    "# DIOMIRA"
   ]
  },
  {
   "cell_type": "markdown",
   "metadata": {},
   "source": [
    "## A nb to develop the cython version of DIOMIRA"
   ]
  },
  {
   "cell_type": "code",
   "execution_count": 1,
   "metadata": {
    "collapsed": true
   },
   "outputs": [],
   "source": [
    "from __future__ import print_function\n",
    "%matplotlib inline\n",
    "%load_ext autoreload\n",
    "%autoreload 2"
   ]
  },
  {
   "cell_type": "code",
   "execution_count": 2,
   "metadata": {
    "collapsed": false
   },
   "outputs": [
    {
     "name": "stdout",
     "output_type": "stream",
     "text": [
      "env: IPYTHONDIR=/Users/jjgomezcadenas/Documents/Development/IPYTHON\n"
     ]
    }
   ],
   "source": [
    "%env IPYTHONDIR=/Users/jjgomezcadenas/Documents/Development/IPYTHON"
   ]
  },
  {
   "cell_type": "code",
   "execution_count": 3,
   "metadata": {
    "collapsed": true
   },
   "outputs": [],
   "source": [
    "%load_ext Cython"
   ]
  },
  {
   "cell_type": "code",
   "execution_count": 6,
   "metadata": {
    "collapsed": true
   },
   "outputs": [],
   "source": [
    "import pandas as pd\n",
    "import numpy as np\n",
    "import FEParam as FP\n",
    "import tables"
   ]
  },
  {
   "cell_type": "code",
   "execution_count": 46,
   "metadata": {
    "collapsed": true
   },
   "outputs": [],
   "source": [
    "h5f =tables.open_file('/Users/jjgomezcadenas/Documents/Development/NEXT/data/Waveforms/25ns/WF_Na_ZLIB_test100_RWF.h5')"
   ]
  },
  {
   "cell_type": "code",
   "execution_count": 47,
   "metadata": {
    "collapsed": true
   },
   "outputs": [],
   "source": [
    "pmtrwf = h5f.root.RD.pmtrwf"
   ]
  },
  {
   "cell_type": "markdown",
   "metadata": {},
   "source": [
    "### Python version"
   ]
  },
  {
   "cell_type": "code",
   "execution_count": 48,
   "metadata": {
    "collapsed": true
   },
   "outputs": [],
   "source": [
    "\n",
    "def rebin_pmt_array(a,stride):\n",
    "    \"\"\"\n",
    "    rebins pmt array a according to stride\n",
    "    there is a rebin_array in util which uses\n",
    "    lenb = (len(a))/int(stride)\n",
    "    this version uses (lean(a)+1) to correct from the fact that the\n",
    "    MCRD is 599999 channels (should be 600000)\n",
    "    \"\"\"\n",
    "    \n",
    "    lenb = (len(a)+1)/int(stride)\n",
    "    b = np.zeros(lenb)\n",
    "    j=0\n",
    "    for i in range(lenb):\n",
    "        b[i] = np.sum(a[j:j+stride])\n",
    "        j+= stride\n",
    "    return b\n",
    "\n",
    "def rebin_signal(event_number,pmtrd_, stride):\n",
    "    \"\"\"\n",
    "    rebins the MCRD signal to produce TWF (pes, bins 25 ns)\n",
    "    \"\"\"\n",
    "    \n",
    "    rdata = []\n",
    "\n",
    "    for j in range(pmtrd_.shape[1]):\n",
    "        pmt = pmtrd_[event_number, j] #waveform for event event_number, PMT j\n",
    "        twf = rebin_pmt_array(pmt, stride)\n",
    "        \n",
    "        rdata.append(twf)\n",
    "    return np.array(rdata)\n",
    "\n",
    "def rebin_signals(pmtrd, stride=40, list_of_events=[0]):\n",
    "    \"\"\"\n",
    "    rebin the signals in a list of events\n",
    "    \"\"\"\n",
    "    for event in list_of_events:\n",
    "        rebin_signal(event,pmtrd, stride)\n",
    "        \n",
    "        "
   ]
  },
  {
   "cell_type": "code",
   "execution_count": 49,
   "metadata": {
    "collapsed": false
   },
   "outputs": [
    {
     "data": {
      "text/plain": [
       "<function __main__.rebin_signals>"
      ]
     },
     "execution_count": 49,
     "metadata": {},
     "output_type": "execute_result"
    }
   ],
   "source": [
    "rebin_signals"
   ]
  },
  {
   "cell_type": "code",
   "execution_count": 8,
   "metadata": {
    "collapsed": true
   },
   "outputs": [],
   "source": []
  },
  {
   "cell_type": "code",
   "execution_count": 50,
   "metadata": {
    "collapsed": false
   },
   "outputs": [
    {
     "name": "stdout",
     "output_type": "stream",
     "text": [
      "1 loop, best of 3: 2.71 s per loop\n"
     ]
    }
   ],
   "source": [
    "%timeit rebin_signals(pmtrwf, stride=40, list_of_events=range(100))"
   ]
  },
  {
   "cell_type": "markdown",
   "metadata": {},
   "source": [
    "### Cython version (just compile python)"
   ]
  },
  {
   "cell_type": "code",
   "execution_count": 52,
   "metadata": {
    "collapsed": false
   },
   "outputs": [],
   "source": [
    "%%cython\n",
    "import pandas as pd\n",
    "import numpy as np\n",
    "import FEParam as FP\n",
    "import tables\n",
    "\n",
    "def rebin_pmt_array(a,stride):\n",
    "    \"\"\"\n",
    "    rebins pmt array a according to stride\n",
    "    there is a rebin_array in util which uses\n",
    "    lenb = (len(a))/int(stride)\n",
    "    this version uses (lean(a)+1) to correct from the fact that the\n",
    "    MCRD is 599999 channels (should be 600000)\n",
    "    \"\"\"\n",
    "    \n",
    "    lenb = (len(a)+1)/int(stride)\n",
    "    b = np.zeros(lenb)\n",
    "    j=0\n",
    "    for i in range(lenb):\n",
    "        b[i] = np.sum(a[j:j+stride])\n",
    "        j+= stride\n",
    "    return b\n",
    "\n",
    "def rebin_signal(event_number,pmtrd_, stride):\n",
    "    \"\"\"\n",
    "    rebins the MCRD signal to produce TWF (pes, bins 25 ns)\n",
    "    \"\"\"\n",
    "    \n",
    "    rdata = []\n",
    "\n",
    "    for j in range(pmtrd_.shape[1]):\n",
    "        pmt = pmtrd_[event_number, j] #waveform for event event_number, PMT j\n",
    "        twf = rebin_pmt_array(pmt, stride)\n",
    "        \n",
    "        rdata.append(twf)\n",
    "    return np.array(rdata)\n",
    "\n",
    "def rebin_signals(pmtrd, stride=40, list_of_events=[0]):\n",
    "    \"\"\"\n",
    "    rebin the signals in a list of events\n",
    "    \"\"\"\n",
    "    for event in list_of_events:\n",
    "        rebin_signal(event,pmtrd, stride)"
   ]
  },
  {
   "cell_type": "code",
   "execution_count": 53,
   "metadata": {
    "collapsed": false
   },
   "outputs": [
    {
     "data": {
      "text/plain": [
       "<function _cython_magic_3e2d21d9b55534167d1cdd6678f1621a.rebin_signals>"
      ]
     },
     "execution_count": 53,
     "metadata": {},
     "output_type": "execute_result"
    }
   ],
   "source": [
    "rebin_signals"
   ]
  },
  {
   "cell_type": "code",
   "execution_count": 54,
   "metadata": {
    "collapsed": false
   },
   "outputs": [
    {
     "name": "stdout",
     "output_type": "stream",
     "text": [
      "1 loop, best of 3: 2.7 s per loop\n"
     ]
    }
   ],
   "source": [
    "%timeit rebin_signals(pmtrwf, stride=40, list_of_events=range(100))"
   ]
  },
  {
   "cell_type": "markdown",
   "metadata": {},
   "source": [
    "### Cython version (supposedly optimized)"
   ]
  },
  {
   "cell_type": "code",
   "execution_count": 58,
   "metadata": {
    "collapsed": true
   },
   "outputs": [],
   "source": [
    "%%cython\n",
    "import pandas as pd\n",
    "import numpy as np\n",
    "import FEParam as FP\n",
    "import tables\n",
    "\n",
    "def rebin_pmt_array(float [:] a,int stride):\n",
    "    \"\"\"\n",
    "    rebins pmt array a according to stride\n",
    "    there is a rebin_array in util which uses\n",
    "    lenb = (len(a))/int(stride)\n",
    "    this version uses (lean(a)+1) to correct from the fact that the\n",
    "    MCRD is 599999 channels (should be 600000)\n",
    "    \"\"\"\n",
    "    cdef int lenb\n",
    "    lenb = (len(a)+1)/stride\n",
    "    b = np.zeros(lenb, dtype = np.float)\n",
    "    cdef int j=0\n",
    "    cdef int i\n",
    "    for i in range(lenb):\n",
    "        b[i] = np.sum(a[j:j+stride])\n",
    "        j+= stride\n",
    "    return b\n",
    "\n",
    "def rebin_signal(int event_number, pmtrd_, int stride):\n",
    "    \"\"\"\n",
    "    rebins the MCRD signal to produce TWF (pes, bins 25 ns)\n",
    "    \"\"\"\n",
    "    \n",
    "    #rdata = np.zeros(pmtrd_.shape[1], dtype = np.object)\n",
    "    rdata = []\n",
    "    cdef int j\n",
    "    for j in range(pmtrd_.shape[1]):\n",
    "        pmt = pmtrd_[event_number, j] #waveform for event event_number, PMT j\n",
    "        twf = rebin_pmt_array(pmt, stride)\n",
    "        \n",
    "        rdata.append(twf)\n",
    "    return np.array(rdata)\n",
    "\n",
    "def rebin_signals(pmtrd, int stride, list_of_events):\n",
    "    \"\"\"\n",
    "    rebin the signals in a list of events\n",
    "    \"\"\"\n",
    "    cdef int event\n",
    "    for event in list_of_events:\n",
    "        rebin_signal(event,pmtrd, stride)"
   ]
  },
  {
   "cell_type": "code",
   "execution_count": 59,
   "metadata": {
    "collapsed": false
   },
   "outputs": [
    {
     "data": {
      "text/plain": [
       "<function _cython_magic_1a8e242b410a6e145bc050658b89d44f.rebin_signals>"
      ]
     },
     "execution_count": 59,
     "metadata": {},
     "output_type": "execute_result"
    }
   ],
   "source": [
    "rebin_signals"
   ]
  },
  {
   "cell_type": "code",
   "execution_count": 60,
   "metadata": {
    "collapsed": false
   },
   "outputs": [
    {
     "name": "stdout",
     "output_type": "stream",
     "text": [
      "1 loop, best of 3: 4.83 s per loop\n"
     ]
    }
   ],
   "source": [
    "%timeit rebin_signals(pmtrwf, stride=40, list_of_events=range(100))"
   ]
  },
  {
   "cell_type": "markdown",
   "metadata": {},
   "source": [
    "### Cython does not improve over python code in this case!"
   ]
  },
  {
   "cell_type": "code",
   "execution_count": null,
   "metadata": {
    "collapsed": true
   },
   "outputs": [],
   "source": [
    "h5f.close()"
   ]
  }
 ],
 "metadata": {
  "kernelspec": {
   "display_name": "Python 2",
   "language": "python",
   "name": "python2"
  },
  "language_info": {
   "codemirror_mode": {
    "name": "ipython",
    "version": 2
   },
   "file_extension": ".py",
   "mimetype": "text/x-python",
   "name": "python",
   "nbconvert_exporter": "python",
   "pygments_lexer": "ipython2",
   "version": "2.7.11"
  }
 },
 "nbformat": 4,
 "nbformat_minor": 0
}
