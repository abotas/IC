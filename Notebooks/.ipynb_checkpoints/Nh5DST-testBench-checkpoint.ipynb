{
 "cells": [
  {
   "cell_type": "markdown",
   "metadata": {},
   "source": [
    "# The Nh5 DST"
   ]
  },
  {
   "cell_type": "markdown",
   "metadata": {},
   "source": [
    "## Monte Carlo PRD (Pre-Raw Data)"
   ]
  },
  {
   "cell_type": "markdown",
   "metadata": {},
   "source": [
    "### What is PRD"
   ]
  },
  {
   "cell_type": "markdown",
   "metadata": {},
   "source": [
    "To simulate properly the response of the energy plane (EP), e.g, the effect of the HPF and LPF introduced by the FEE, it is necessary to generate MC data in bins of time much thinner that those produced by the DAQ (in practice one would like to generate a continuous signal which is first transformed by the filters and then decimated by the DAQ). Therefore, the PRD consists of a train of photoelectrons in bins of 1 ns (the DAQ runs at 25 ns) for each PMT.\n",
    "\n",
    "Since the DAQ window is large (at least 600 mus), this implies that one needs to store waveforms of 600,000 integers, most of which are filled with zeros (the signal is quite sparse). This makes obvious the need for compression. HDF5 allows severals compressors, including blosc and zlib. \n",
    "\n",
    "PRD is the input to ISIDORA which outputs the waveforms after FEE and DAQ. Those waveforms have 24000 integers and are therefore much smaller. The output of ISIDORA is Raw Data (RD). "
   ]
  },
  {
   "cell_type": "code",
   "execution_count": 5,
   "metadata": {
    "collapsed": true
   },
   "outputs": [],
   "source": [
    "from __future__ import print_function"
   ]
  },
  {
   "cell_type": "code",
   "execution_count": 7,
   "metadata": {
    "collapsed": false
   },
   "outputs": [
    {
     "name": "stdout",
     "output_type": "stream",
     "text": [
      "pmt WF (MB) = 28.8, sipm Wf (MB) = 4.3008, total = 33.1008 MB \n"
     ]
    }
   ],
   "source": [
    "pmt_wf_bins = 600000\n",
    "sipm_wf_bins = 600\n",
    "int_size_bytes = 4\n",
    "n_pmt = 12\n",
    "n_sipm = 1792\n",
    "pmt_wf_MB =n_pmt*pmt_wf_bins*int_size_bytes/1e+6\n",
    "sipm_wf_MB  =n_sipm*sipm_wf_bins*int_size_bytes/1e+6\n",
    "prd_size = pmt_wf_MB +sipm_wf_MB\n",
    "print(\"pmt WF (MB) = {}, sipm Wf (MB) = {}, total = {} MB \".format(pmt_wf_MB,sipm_wf_MB,prd_size))\n"
   ]
  },
  {
   "cell_type": "markdown",
   "metadata": {},
   "source": [
    "Thus the PRD needs 33 MB per event! The ROOT DST's produced by CENTELLA/GATE are of the order of 1 GB per 100 events, therefore they are somewhat compressed. However, one can do much better, since most of the waveforms are ceros. The hdf5 files compressed by Zlib can be as small as 10 MB per 100 events (thus 2 orders of magnitude reduction wrt root) but in exchange access is rather slow. Even with minimum compression (1), the size is 25 MB per 100 events (thus reduction of 40) and the access is faster. BLOSC produces also files of 25 MB and even faster access."
   ]
  },
  {
   "cell_type": "markdown",
   "metadata": {},
   "source": [
    "### Test Bench"
   ]
  },
  {
   "cell_type": "markdown",
   "metadata": {},
   "source": [
    "As a test bench we execute the function pmt_energy_pes, defined below. The function consists on a loop over the 12 PMTs, loading each WF and adding their contents to compute the total sum"
   ]
  },
  {
   "cell_type": "code",
   "execution_count": 1,
   "metadata": {
    "collapsed": false
   },
   "outputs": [
    {
     "name": "stdout",
     "output_type": "stream",
     "text": [
      "Populating the interactive namespace from numpy and matplotlib\n"
     ]
    }
   ],
   "source": [
    "%pylab inline"
   ]
  },
  {
   "cell_type": "code",
   "execution_count": 2,
   "metadata": {
    "collapsed": true
   },
   "outputs": [],
   "source": [
    "import pandas as pd\n",
    "import tables as tb\n",
    "import numpy as np"
   ]
  },
  {
   "cell_type": "code",
   "execution_count": 8,
   "metadata": {
    "collapsed": true
   },
   "outputs": [],
   "source": [
    " a = np.zeros((4,5))"
   ]
  },
  {
   "cell_type": "code",
   "execution_count": 9,
   "metadata": {
    "collapsed": false
   },
   "outputs": [
    {
     "data": {
      "text/plain": [
       "array([[ 0.,  0.,  0.,  0.,  0.],\n",
       "       [ 0.,  0.,  0.,  0.,  0.],\n",
       "       [ 0.,  0.,  0.,  0.,  0.],\n",
       "       [ 0.,  0.,  0.,  0.,  0.]])"
      ]
     },
     "execution_count": 9,
     "metadata": {},
     "output_type": "execute_result"
    }
   ],
   "source": [
    "a"
   ]
  },
  {
   "cell_type": "code",
   "execution_count": 55,
   "metadata": {
    "collapsed": false
   },
   "outputs": [],
   "source": [
    "def pmt_energy_pes(pfile, nevents=1):\n",
    "    \"\"\"\n",
    "    Creates a DF for the PMTs with the energy of each sensor in PES\n",
    "    \"\"\"\n",
    "    with tb.open_file(pfile, \"r\") as h5in:\n",
    "        \n",
    "        pmtrd_ = h5in.root.pmtrd #pointer to the EARRAY holding the data\n",
    "        print(\"pmtrd_ shape = {}\".format(pmtrd_.shape))\n",
    "        \n",
    "        nev = min(nevents,pmtrd_.shape[0])\n",
    "        npmt = pmtrd_.shape[1]\n",
    "        print(\"number of PMTs = {}\".format(npmt))\n",
    "        print(\"running over {} events\".format(nev))\n",
    "        \n",
    "        ene_pes = np.zeros((nevents,npmt))\n",
    "        print(\"shape of ene_pes ={}\".format(ene_pes.shape))\n",
    "        for i in range(nev):\n",
    "            for j in range(npmt):\n",
    "                pmtrd = pmtrd_[i, j]\n",
    "                ene = sum(pmtrd)\n",
    "                ene_pes[i,j] = ene\n",
    "            \n",
    "         \n",
    "    return pd.DataFrame(ene_pes)"
   ]
  },
  {
   "cell_type": "markdown",
   "metadata": {},
   "source": [
    "### Blosc compressed file"
   ]
  },
  {
   "cell_type": "code",
   "execution_count": 12,
   "metadata": {
    "collapsed": true
   },
   "outputs": [],
   "source": [
    "path='/Users/jjgomezcadenas/Documents/Development/NEXT/data/Waveforms/'"
   ]
  },
  {
   "cell_type": "code",
   "execution_count": 14,
   "metadata": {
    "collapsed": false
   },
   "outputs": [
    {
     "name": "stdout",
     "output_type": "stream",
     "text": [
      "\u001b[34m1ns\u001b[m\u001b[m/               WF_Kr_0.h5         WF_Tl_1100evts.h5\r\n",
      "\u001b[34m25ns\u001b[m\u001b[m/              WF_Na_0.h5         \u001b[34mroot\u001b[m\u001b[m/\r\n",
      "\u001b[34mNA-zlib\u001b[m\u001b[m/           WF_Tl_0.h5         test.h5\r\n"
     ]
    }
   ],
   "source": [
    "%ls /Users/jjgomezcadenas/Documents/Development/NEXT/data/Waveforms/"
   ]
  },
  {
   "cell_type": "code",
   "execution_count": 15,
   "metadata": {
    "collapsed": true
   },
   "outputs": [],
   "source": [
    "ffile = 'WF_Na_0.h5' #BLOSC compressed"
   ]
  },
  {
   "cell_type": "code",
   "execution_count": 17,
   "metadata": {
    "collapsed": false
   },
   "outputs": [
    {
     "name": "stdout",
     "output_type": "stream",
     "text": [
      "pmtrd_ shape = (99, 12, 599999)\n",
      "number of PMTs = 12\n",
      "running over 1 events\n",
      "CPU times: user 29.8 ms, sys: 4.16 ms, total: 34 ms\n",
      "Wall time: 35.4 ms\n"
     ]
    }
   ],
   "source": [
    "%time ene = pmt_energy_pes(path+ffile, nevents=1)"
   ]
  },
  {
   "cell_type": "code",
   "execution_count": 18,
   "metadata": {
    "collapsed": false
   },
   "outputs": [
    {
     "data": {
      "text/plain": [
       "array([[ 4475.,  4669.,  4645.,  3970.,  3943.,  3930.,  3896.,  4056.,\n",
       "         3954.,  4064.,  3890.,  3958.]])"
      ]
     },
     "execution_count": 18,
     "metadata": {},
     "output_type": "execute_result"
    }
   ],
   "source": [
    "ene"
   ]
  },
  {
   "cell_type": "code",
   "execution_count": 19,
   "metadata": {
    "collapsed": false
   },
   "outputs": [
    {
     "name": "stdout",
     "output_type": "stream",
     "text": [
      "pmtrd_ shape = (99, 12, 599999)\n",
      "number of PMTs = 12\n",
      "running over 10 events\n",
      "CPU times: user 226 ms, sys: 15.3 ms, total: 241 ms\n",
      "Wall time: 248 ms\n"
     ]
    }
   ],
   "source": [
    "%time ene = pmt_energy_pes(path+ffile, nevents=10)"
   ]
  },
  {
   "cell_type": "code",
   "execution_count": 20,
   "metadata": {
    "collapsed": false
   },
   "outputs": [
    {
     "data": {
      "text/plain": [
       "array([[  4475.,   4669.,   4645.,   3970.,   3943.,   3930.,   3896.,\n",
       "          4056.,   3954.,   4064.,   3890.,   3958.],\n",
       "       [ 20056.,  20176.,  20134.,  17003.,  17100.,  17131.,  17125.,\n",
       "         17037.,  17149.,  17017.,  16944.,  16864.],\n",
       "       [  3762.,   3727.,   3645.,   3232.,   3163.,   3296.,   3210.,\n",
       "          3161.,   3269.,   3073.,   3150.,   3155.],\n",
       "       [  4186.,   4094.,   4113.,   3475.,   3484.,   3579.,   3578.,\n",
       "          3401.,   3505.,   3617.,   3522.,   3394.],\n",
       "       [   361.,    356.,    375.,    341.,    318.,    281.,    301.,\n",
       "           320.,    277.,    311.,    268.,    318.],\n",
       "       [  4927.,   4828.,   5028.,   4253.,   4292.,   4265.,   4320.,\n",
       "          4173.,   4286.,   4331.,   4378.,   4213.],\n",
       "       [ 21104.,  21153.,  21024.,  18065.,  18007.,  18172.,  18217.,\n",
       "         17868.,  18024.,  18188.,  17792.,  17839.],\n",
       "       [  5471.,   5268.,   5460.,   4543.,   4474.,   4671.,   4499.,\n",
       "          4673.,   4466.,   4551.,   4506.,   4556.],\n",
       "       [  8027.,   7990.,   7847.,   6776.,   6736.,   6773.,   6865.,\n",
       "          6728.,   6638.,   6849.,   6852.,   6724.],\n",
       "       [  7280.,   7179.,   7285.,   6173.,   6201.,   6117.,   6095.,\n",
       "          6287.,   6211.,   6058.,   6047.,   6256.]])"
      ]
     },
     "execution_count": 20,
     "metadata": {},
     "output_type": "execute_result"
    }
   ],
   "source": [
    "ene"
   ]
  },
  {
   "cell_type": "code",
   "execution_count": 21,
   "metadata": {
    "collapsed": false
   },
   "outputs": [
    {
     "name": "stdout",
     "output_type": "stream",
     "text": [
      "pmtrd_ shape = (99, 12, 599999)\n",
      "number of PMTs = 12\n",
      "running over 10 events\n",
      "pmtrd_ shape = (99, 12, 599999)\n",
      "number of PMTs = 12\n",
      "running over 10 events\n",
      "pmtrd_ shape = (99, 12, 599999)\n",
      "number of PMTs = 12\n",
      "running over 10 events\n",
      "pmtrd_ shape = (99, 12, 599999)\n",
      "number of PMTs = 12\n",
      "running over 10 events\n",
      "1 loop, best of 3: 183 ms per loop\n"
     ]
    }
   ],
   "source": [
    "%timeit ene = pmt_energy_pes(path+ffile, nevents=10)"
   ]
  },
  {
   "cell_type": "code",
   "execution_count": 22,
   "metadata": {
    "collapsed": true
   },
   "outputs": [],
   "source": [
    "enedf = pd.DataFrame(ene)"
   ]
  },
  {
   "cell_type": "code",
   "execution_count": 23,
   "metadata": {
    "collapsed": false
   },
   "outputs": [
    {
     "data": {
      "text/html": [
       "<div>\n",
       "<table border=\"1\" class=\"dataframe\">\n",
       "  <thead>\n",
       "    <tr style=\"text-align: right;\">\n",
       "      <th></th>\n",
       "      <th>0</th>\n",
       "      <th>1</th>\n",
       "      <th>2</th>\n",
       "      <th>3</th>\n",
       "      <th>4</th>\n",
       "      <th>5</th>\n",
       "      <th>6</th>\n",
       "      <th>7</th>\n",
       "      <th>8</th>\n",
       "      <th>9</th>\n",
       "      <th>10</th>\n",
       "      <th>11</th>\n",
       "    </tr>\n",
       "  </thead>\n",
       "  <tbody>\n",
       "    <tr>\n",
       "      <th>0</th>\n",
       "      <td>4475.0</td>\n",
       "      <td>4669.0</td>\n",
       "      <td>4645.0</td>\n",
       "      <td>3970.0</td>\n",
       "      <td>3943.0</td>\n",
       "      <td>3930.0</td>\n",
       "      <td>3896.0</td>\n",
       "      <td>4056.0</td>\n",
       "      <td>3954.0</td>\n",
       "      <td>4064.0</td>\n",
       "      <td>3890.0</td>\n",
       "      <td>3958.0</td>\n",
       "    </tr>\n",
       "    <tr>\n",
       "      <th>1</th>\n",
       "      <td>20056.0</td>\n",
       "      <td>20176.0</td>\n",
       "      <td>20134.0</td>\n",
       "      <td>17003.0</td>\n",
       "      <td>17100.0</td>\n",
       "      <td>17131.0</td>\n",
       "      <td>17125.0</td>\n",
       "      <td>17037.0</td>\n",
       "      <td>17149.0</td>\n",
       "      <td>17017.0</td>\n",
       "      <td>16944.0</td>\n",
       "      <td>16864.0</td>\n",
       "    </tr>\n",
       "    <tr>\n",
       "      <th>2</th>\n",
       "      <td>3762.0</td>\n",
       "      <td>3727.0</td>\n",
       "      <td>3645.0</td>\n",
       "      <td>3232.0</td>\n",
       "      <td>3163.0</td>\n",
       "      <td>3296.0</td>\n",
       "      <td>3210.0</td>\n",
       "      <td>3161.0</td>\n",
       "      <td>3269.0</td>\n",
       "      <td>3073.0</td>\n",
       "      <td>3150.0</td>\n",
       "      <td>3155.0</td>\n",
       "    </tr>\n",
       "    <tr>\n",
       "      <th>3</th>\n",
       "      <td>4186.0</td>\n",
       "      <td>4094.0</td>\n",
       "      <td>4113.0</td>\n",
       "      <td>3475.0</td>\n",
       "      <td>3484.0</td>\n",
       "      <td>3579.0</td>\n",
       "      <td>3578.0</td>\n",
       "      <td>3401.0</td>\n",
       "      <td>3505.0</td>\n",
       "      <td>3617.0</td>\n",
       "      <td>3522.0</td>\n",
       "      <td>3394.0</td>\n",
       "    </tr>\n",
       "    <tr>\n",
       "      <th>4</th>\n",
       "      <td>361.0</td>\n",
       "      <td>356.0</td>\n",
       "      <td>375.0</td>\n",
       "      <td>341.0</td>\n",
       "      <td>318.0</td>\n",
       "      <td>281.0</td>\n",
       "      <td>301.0</td>\n",
       "      <td>320.0</td>\n",
       "      <td>277.0</td>\n",
       "      <td>311.0</td>\n",
       "      <td>268.0</td>\n",
       "      <td>318.0</td>\n",
       "    </tr>\n",
       "    <tr>\n",
       "      <th>5</th>\n",
       "      <td>4927.0</td>\n",
       "      <td>4828.0</td>\n",
       "      <td>5028.0</td>\n",
       "      <td>4253.0</td>\n",
       "      <td>4292.0</td>\n",
       "      <td>4265.0</td>\n",
       "      <td>4320.0</td>\n",
       "      <td>4173.0</td>\n",
       "      <td>4286.0</td>\n",
       "      <td>4331.0</td>\n",
       "      <td>4378.0</td>\n",
       "      <td>4213.0</td>\n",
       "    </tr>\n",
       "    <tr>\n",
       "      <th>6</th>\n",
       "      <td>21104.0</td>\n",
       "      <td>21153.0</td>\n",
       "      <td>21024.0</td>\n",
       "      <td>18065.0</td>\n",
       "      <td>18007.0</td>\n",
       "      <td>18172.0</td>\n",
       "      <td>18217.0</td>\n",
       "      <td>17868.0</td>\n",
       "      <td>18024.0</td>\n",
       "      <td>18188.0</td>\n",
       "      <td>17792.0</td>\n",
       "      <td>17839.0</td>\n",
       "    </tr>\n",
       "    <tr>\n",
       "      <th>7</th>\n",
       "      <td>5471.0</td>\n",
       "      <td>5268.0</td>\n",
       "      <td>5460.0</td>\n",
       "      <td>4543.0</td>\n",
       "      <td>4474.0</td>\n",
       "      <td>4671.0</td>\n",
       "      <td>4499.0</td>\n",
       "      <td>4673.0</td>\n",
       "      <td>4466.0</td>\n",
       "      <td>4551.0</td>\n",
       "      <td>4506.0</td>\n",
       "      <td>4556.0</td>\n",
       "    </tr>\n",
       "    <tr>\n",
       "      <th>8</th>\n",
       "      <td>8027.0</td>\n",
       "      <td>7990.0</td>\n",
       "      <td>7847.0</td>\n",
       "      <td>6776.0</td>\n",
       "      <td>6736.0</td>\n",
       "      <td>6773.0</td>\n",
       "      <td>6865.0</td>\n",
       "      <td>6728.0</td>\n",
       "      <td>6638.0</td>\n",
       "      <td>6849.0</td>\n",
       "      <td>6852.0</td>\n",
       "      <td>6724.0</td>\n",
       "    </tr>\n",
       "    <tr>\n",
       "      <th>9</th>\n",
       "      <td>7280.0</td>\n",
       "      <td>7179.0</td>\n",
       "      <td>7285.0</td>\n",
       "      <td>6173.0</td>\n",
       "      <td>6201.0</td>\n",
       "      <td>6117.0</td>\n",
       "      <td>6095.0</td>\n",
       "      <td>6287.0</td>\n",
       "      <td>6211.0</td>\n",
       "      <td>6058.0</td>\n",
       "      <td>6047.0</td>\n",
       "      <td>6256.0</td>\n",
       "    </tr>\n",
       "  </tbody>\n",
       "</table>\n",
       "</div>"
      ],
      "text/plain": [
       "        0        1        2        3        4        5        6        7   \\\n",
       "0   4475.0   4669.0   4645.0   3970.0   3943.0   3930.0   3896.0   4056.0   \n",
       "1  20056.0  20176.0  20134.0  17003.0  17100.0  17131.0  17125.0  17037.0   \n",
       "2   3762.0   3727.0   3645.0   3232.0   3163.0   3296.0   3210.0   3161.0   \n",
       "3   4186.0   4094.0   4113.0   3475.0   3484.0   3579.0   3578.0   3401.0   \n",
       "4    361.0    356.0    375.0    341.0    318.0    281.0    301.0    320.0   \n",
       "5   4927.0   4828.0   5028.0   4253.0   4292.0   4265.0   4320.0   4173.0   \n",
       "6  21104.0  21153.0  21024.0  18065.0  18007.0  18172.0  18217.0  17868.0   \n",
       "7   5471.0   5268.0   5460.0   4543.0   4474.0   4671.0   4499.0   4673.0   \n",
       "8   8027.0   7990.0   7847.0   6776.0   6736.0   6773.0   6865.0   6728.0   \n",
       "9   7280.0   7179.0   7285.0   6173.0   6201.0   6117.0   6095.0   6287.0   \n",
       "\n",
       "        8        9        10       11  \n",
       "0   3954.0   4064.0   3890.0   3958.0  \n",
       "1  17149.0  17017.0  16944.0  16864.0  \n",
       "2   3269.0   3073.0   3150.0   3155.0  \n",
       "3   3505.0   3617.0   3522.0   3394.0  \n",
       "4    277.0    311.0    268.0    318.0  \n",
       "5   4286.0   4331.0   4378.0   4213.0  \n",
       "6  18024.0  18188.0  17792.0  17839.0  \n",
       "7   4466.0   4551.0   4506.0   4556.0  \n",
       "8   6638.0   6849.0   6852.0   6724.0  \n",
       "9   6211.0   6058.0   6047.0   6256.0  "
      ]
     },
     "execution_count": 23,
     "metadata": {},
     "output_type": "execute_result"
    }
   ],
   "source": [
    "enedf"
   ]
  },
  {
   "cell_type": "markdown",
   "metadata": {},
   "source": [
    "### Zlib files"
   ]
  },
  {
   "cell_type": "markdown",
   "metadata": {},
   "source": [
    "#### large chunking compression 1-9"
   ]
  },
  {
   "cell_type": "code",
   "execution_count": 24,
   "metadata": {
    "collapsed": false
   },
   "outputs": [
    {
     "name": "stdout",
     "output_type": "stream",
     "text": [
      "WF_Na_0.h5                           WF_Na_0_100evts_comp3.h5\r\n",
      "WF_Na_0_100evts_comp1.h5             WF_Na_0_100evts_comp4.h5\r\n",
      "WF_Na_0_100evts_comp1_chunk16384.h5  WF_Na_0_100evts_comp5.h5\r\n",
      "WF_Na_0_100evts_comp1_chunk32768.h5  WF_Na_0_100evts_comp6.h5\r\n",
      "WF_Na_0_100evts_comp1_chunk65356.h5  WF_Na_0_100evts_comp7.h5\r\n",
      "WF_Na_0_100evts_comp2.h5             WF_Na_0_100evts_comp8.h5\r\n",
      "WF_Na_0_100evts_comp2_smallchunk.h5  WF_Na_0_100evts_comp9.h5\r\n"
     ]
    }
   ],
   "source": [
    "%ls /Users/jjgomezcadenas/Documents/Development/NEXT/data/Waveforms/NA-zlib/"
   ]
  },
  {
   "cell_type": "code",
   "execution_count": 27,
   "metadata": {
    "collapsed": true
   },
   "outputs": [],
   "source": [
    "path='/Users/jjgomezcadenas/Documents/Development/NEXT/data/Waveforms/NA-zlib/'"
   ]
  },
  {
   "cell_type": "code",
   "execution_count": 28,
   "metadata": {
    "collapsed": true
   },
   "outputs": [],
   "source": [
    "ffile = 'WF_Na_0_100evts_comp9.h5'"
   ]
  },
  {
   "cell_type": "code",
   "execution_count": 29,
   "metadata": {
    "collapsed": false
   },
   "outputs": [
    {
     "name": "stdout",
     "output_type": "stream",
     "text": [
      "pmtrd_ shape = (100, 12, 599999)\n",
      "number of PMTs = 12\n",
      "running over 10 events\n",
      "pmtrd_ shape = (100, 12, 599999)\n",
      "number of PMTs = 12\n",
      "running over 10 events\n",
      "pmtrd_ shape = (100, 12, 599999)\n",
      "number of PMTs = 12\n",
      "running over 10 events\n",
      "pmtrd_ shape = (100, 12, 599999)\n",
      "number of PMTs = 12\n",
      "running over 10 events\n",
      "1 loop, best of 3: 7.37 s per loop\n"
     ]
    }
   ],
   "source": [
    "%timeit ene = pmt_energy_pes(path+ffile, nevents=10)"
   ]
  },
  {
   "cell_type": "code",
   "execution_count": 30,
   "metadata": {
    "collapsed": true
   },
   "outputs": [],
   "source": [
    "ffile = 'WF_Na_0_100evts_comp1.h5'"
   ]
  },
  {
   "cell_type": "code",
   "execution_count": 31,
   "metadata": {
    "collapsed": false
   },
   "outputs": [
    {
     "name": "stdout",
     "output_type": "stream",
     "text": [
      "pmtrd_ shape = (100, 12, 599999)\n",
      "number of PMTs = 12\n",
      "running over 10 events\n",
      "pmtrd_ shape = (100, 12, 599999)\n",
      "number of PMTs = 12\n",
      "running over 10 events\n",
      "pmtrd_ shape = (100, 12, 599999)\n",
      "number of PMTs = 12\n",
      "running over 10 events\n",
      "pmtrd_ shape = (100, 12, 599999)\n",
      "number of PMTs = 12\n",
      "running over 10 events\n",
      "1 loop, best of 3: 3.6 s per loop\n"
     ]
    }
   ],
   "source": [
    "%timeit ene = pmt_energy_pes(path+ffile, nevents=10)"
   ]
  },
  {
   "cell_type": "markdown",
   "metadata": {},
   "source": [
    "Reducing the level of compression results in a factor 2 gain in speed and a factor 2 loss in size"
   ]
  },
  {
   "cell_type": "code",
   "execution_count": 32,
   "metadata": {
    "collapsed": false
   },
   "outputs": [
    {
     "name": "stdout",
     "output_type": "stream",
     "text": [
      "total 477688\r\n",
      "-rw-r--r--  1 jjgomezcadenas  staff    23M Aug  8 16:29 WF_Na_0.h5\r\n",
      "-rw-r--r--@ 1 jjgomezcadenas  staff    22M Aug  8 15:17 WF_Na_0_100evts_comp1.h5\r\n",
      "-rw-r--r--@ 1 jjgomezcadenas  staff    25M Aug  8 17:49 WF_Na_0_100evts_comp1_chunk16384.h5\r\n",
      "-rw-r--r--@ 1 jjgomezcadenas  staff    24M Aug  8 16:56 WF_Na_0_100evts_comp1_chunk32768.h5\r\n",
      "-rw-r--r--@ 1 jjgomezcadenas  staff    24M Aug  8 16:56 WF_Na_0_100evts_comp1_chunk65356.h5\r\n",
      "-rw-r--r--@ 1 jjgomezcadenas  staff    21M Aug  8 15:17 WF_Na_0_100evts_comp2.h5\r\n",
      "-rw-r--r--@ 1 jjgomezcadenas  staff    23M Aug  8 15:26 WF_Na_0_100evts_comp2_smallchunk.h5\r\n",
      "-rw-r--r--@ 1 jjgomezcadenas  staff    20M Aug  8 15:17 WF_Na_0_100evts_comp3.h5\r\n",
      "-rw-r--r--@ 1 jjgomezcadenas  staff   9.3M Aug  8 15:17 WF_Na_0_100evts_comp4.h5\r\n",
      "-rw-r--r--@ 1 jjgomezcadenas  staff   9.1M Aug  8 15:17 WF_Na_0_100evts_comp5.h5\r\n",
      "-rw-r--r--@ 1 jjgomezcadenas  staff   8.6M Aug  8 15:17 WF_Na_0_100evts_comp6.h5\r\n",
      "-rw-r--r--@ 1 jjgomezcadenas  staff   8.5M Aug  8 15:17 WF_Na_0_100evts_comp7.h5\r\n",
      "-rw-r--r--@ 1 jjgomezcadenas  staff   8.2M Aug  8 15:17 WF_Na_0_100evts_comp8.h5\r\n",
      "-rw-r--r--@ 1 jjgomezcadenas  staff   8.0M Aug  8 15:17 WF_Na_0_100evts_comp9.h5\r\n"
     ]
    }
   ],
   "source": [
    "%ls -lh '/Users/jjgomezcadenas/Documents/Development/NEXT/data/Waveforms/NA-zlib/'"
   ]
  },
  {
   "cell_type": "markdown",
   "metadata": {},
   "source": [
    "#### Try now to reduce chunk size"
   ]
  },
  {
   "cell_type": "code",
   "execution_count": 33,
   "metadata": {
    "collapsed": true
   },
   "outputs": [],
   "source": [
    "ffile = 'WF_Na_0_100evts_comp1_chunk65356.h5'"
   ]
  },
  {
   "cell_type": "code",
   "execution_count": 34,
   "metadata": {
    "collapsed": false
   },
   "outputs": [
    {
     "name": "stdout",
     "output_type": "stream",
     "text": [
      "pmtrd_ shape = (100, 12, 599999)\n",
      "number of PMTs = 12\n",
      "running over 10 events\n",
      "pmtrd_ shape = (100, 12, 599999)\n",
      "number of PMTs = 12\n",
      "running over 10 events\n",
      "pmtrd_ shape = (100, 12, 599999)\n",
      "number of PMTs = 12\n",
      "running over 10 events\n",
      "pmtrd_ shape = (100, 12, 599999)\n",
      "number of PMTs = 12\n",
      "running over 10 events\n",
      "1 loop, best of 3: 572 ms per loop\n"
     ]
    }
   ],
   "source": [
    "%timeit ene = pmt_energy_pes(path+ffile, nevents=10)"
   ]
  },
  {
   "cell_type": "markdown",
   "metadata": {},
   "source": [
    "Much improvement!"
   ]
  },
  {
   "cell_type": "code",
   "execution_count": 35,
   "metadata": {
    "collapsed": true
   },
   "outputs": [],
   "source": [
    "ffile = 'WF_Na_0_100evts_comp1_chunk32768.h5'"
   ]
  },
  {
   "cell_type": "code",
   "execution_count": 36,
   "metadata": {
    "collapsed": false
   },
   "outputs": [
    {
     "name": "stdout",
     "output_type": "stream",
     "text": [
      "pmtrd_ shape = (100, 12, 599999)\n",
      "number of PMTs = 12\n",
      "running over 10 events\n",
      "pmtrd_ shape = (100, 12, 599999)\n",
      "number of PMTs = 12\n",
      "running over 10 events\n",
      "pmtrd_ shape = (100, 12, 599999)\n",
      "number of PMTs = 12\n",
      "running over 10 events\n",
      "pmtrd_ shape = (100, 12, 599999)\n",
      "number of PMTs = 12\n",
      "running over 10 events\n",
      "1 loop, best of 3: 307 ms per loop\n"
     ]
    }
   ],
   "source": [
    "%timeit ene = pmt_energy_pes(path+ffile, nevents=10)"
   ]
  },
  {
   "cell_type": "code",
   "execution_count": 37,
   "metadata": {
    "collapsed": true
   },
   "outputs": [],
   "source": [
    "ffile = 'WF_Na_0_100evts_comp1_chunk16384.h5'"
   ]
  },
  {
   "cell_type": "code",
   "execution_count": 38,
   "metadata": {
    "collapsed": false
   },
   "outputs": [
    {
     "name": "stdout",
     "output_type": "stream",
     "text": [
      "pmtrd_ shape = (100, 12, 599999)\n",
      "number of PMTs = 12\n",
      "running over 10 events\n",
      "pmtrd_ shape = (100, 12, 599999)\n",
      "number of PMTs = 12\n",
      "running over 10 events\n",
      "pmtrd_ shape = (100, 12, 599999)\n",
      "number of PMTs = 12\n",
      "running over 10 events\n",
      "pmtrd_ shape = (100, 12, 599999)\n",
      "number of PMTs = 12\n",
      "running over 10 events\n",
      "1 loop, best of 3: 340 ms per loop\n"
     ]
    }
   ],
   "source": [
    "%timeit ene = pmt_energy_pes(path+ffile, nevents=10)"
   ]
  },
  {
   "cell_type": "markdown",
   "metadata": {},
   "source": [
    "The last reduction does not improve performance! Optimal size found for Zlib, best ~300 ms per loop"
   ]
  },
  {
   "cell_type": "code",
   "execution_count": 39,
   "metadata": {
    "collapsed": true
   },
   "outputs": [],
   "source": [
    "performance_time = pd.DataFrame({'blosc':[183],'zlib-9':[7370],'zlib-1':[3600],\n",
    "                   'zlib-1-chunk64':[572],'zlib-1-chunk32':[307],'zlib-1-chunk16':[340]})"
   ]
  },
  {
   "cell_type": "code",
   "execution_count": 41,
   "metadata": {
    "collapsed": false
   },
   "outputs": [
    {
     "data": {
      "text/html": [
       "<div>\n",
       "<table border=\"1\" class=\"dataframe\">\n",
       "  <thead>\n",
       "    <tr style=\"text-align: right;\">\n",
       "      <th></th>\n",
       "      <th>blosc</th>\n",
       "      <th>zlib-1</th>\n",
       "      <th>zlib-1-chunk16</th>\n",
       "      <th>zlib-1-chunk32</th>\n",
       "      <th>zlib-1-chunk64</th>\n",
       "      <th>zlib-9</th>\n",
       "    </tr>\n",
       "  </thead>\n",
       "  <tbody>\n",
       "    <tr>\n",
       "      <th>0</th>\n",
       "      <td>183</td>\n",
       "      <td>3600</td>\n",
       "      <td>340</td>\n",
       "      <td>307</td>\n",
       "      <td>572</td>\n",
       "      <td>7370</td>\n",
       "    </tr>\n",
       "  </tbody>\n",
       "</table>\n",
       "</div>"
      ],
      "text/plain": [
       "   blosc  zlib-1  zlib-1-chunk16  zlib-1-chunk32  zlib-1-chunk64  zlib-9\n",
       "0    183    3600             340             307             572    7370"
      ]
     },
     "execution_count": 41,
     "metadata": {},
     "output_type": "execute_result"
    }
   ],
   "source": [
    "performance_time"
   ]
  },
  {
   "cell_type": "code",
   "execution_count": 45,
   "metadata": {
    "collapsed": false
   },
   "outputs": [
    {
     "data": {
      "text/plain": [
       "<matplotlib.axes._subplots.AxesSubplot at 0x10cbca5d0>"
      ]
     },
     "execution_count": 45,
     "metadata": {},
     "output_type": "execute_result"
    },
    {
     "data": {
      "image/png": "[encoded data removed]",
      "text/plain": [
       "<matplotlib.figure.Figure at 0x10c0ee150>"
      ]
     },
     "metadata": {},
     "output_type": "display_data"
    }
   ],
   "source": [
    "performance_time.ix[0].plot()"
   ]
  },
  {
   "cell_type": "markdown",
   "metadata": {},
   "source": [
    "Back to blosch file"
   ]
  },
  {
   "cell_type": "code",
   "execution_count": 46,
   "metadata": {
    "collapsed": true
   },
   "outputs": [],
   "source": [
    "ffile = 'WF_Na_0.h5'\n",
    "path='/Users/jjgomezcadenas/Documents/Development/NEXT/data/Waveforms/'"
   ]
  },
  {
   "cell_type": "code",
   "execution_count": 56,
   "metadata": {
    "collapsed": false
   },
   "outputs": [
    {
     "name": "stdout",
     "output_type": "stream",
     "text": [
      "pmtrd_ shape = (99, 12, 599999)\n",
      "number of PMTs = 12\n",
      "running over 99 events\n",
      "shape of ene_pes =(100, 12)\n"
     ]
    }
   ],
   "source": [
    "ene = pmt_energy_pes(path+ffile, nevents=100)"
   ]
  },
  {
   "cell_type": "code",
   "execution_count": 57,
   "metadata": {
    "collapsed": false
   },
   "outputs": [
    {
     "data": {
      "text/html": [
       "<div>\n",
       "<table border=\"1\" class=\"dataframe\">\n",
       "  <thead>\n",
       "    <tr style=\"text-align: right;\">\n",
       "      <th></th>\n",
       "      <th>0</th>\n",
       "      <th>1</th>\n",
       "      <th>2</th>\n",
       "      <th>3</th>\n",
       "      <th>4</th>\n",
       "      <th>5</th>\n",
       "      <th>6</th>\n",
       "      <th>7</th>\n",
       "      <th>8</th>\n",
       "      <th>9</th>\n",
       "      <th>10</th>\n",
       "      <th>11</th>\n",
       "    </tr>\n",
       "  </thead>\n",
       "  <tbody>\n",
       "    <tr>\n",
       "      <th>0</th>\n",
       "      <td>4475.0</td>\n",
       "      <td>4669.0</td>\n",
       "      <td>4645.0</td>\n",
       "      <td>3970.0</td>\n",
       "      <td>3943.0</td>\n",
       "      <td>3930.0</td>\n",
       "      <td>3896.0</td>\n",
       "      <td>4056.0</td>\n",
       "      <td>3954.0</td>\n",
       "      <td>4064.0</td>\n",
       "      <td>3890.0</td>\n",
       "      <td>3958.0</td>\n",
       "    </tr>\n",
       "    <tr>\n",
       "      <th>1</th>\n",
       "      <td>20056.0</td>\n",
       "      <td>20176.0</td>\n",
       "      <td>20134.0</td>\n",
       "      <td>17003.0</td>\n",
       "      <td>17100.0</td>\n",
       "      <td>17131.0</td>\n",
       "      <td>17125.0</td>\n",
       "      <td>17037.0</td>\n",
       "      <td>17149.0</td>\n",
       "      <td>17017.0</td>\n",
       "      <td>16944.0</td>\n",
       "      <td>16864.0</td>\n",
       "    </tr>\n",
       "    <tr>\n",
       "      <th>2</th>\n",
       "      <td>3762.0</td>\n",
       "      <td>3727.0</td>\n",
       "      <td>3645.0</td>\n",
       "      <td>3232.0</td>\n",
       "      <td>3163.0</td>\n",
       "      <td>3296.0</td>\n",
       "      <td>3210.0</td>\n",
       "      <td>3161.0</td>\n",
       "      <td>3269.0</td>\n",
       "      <td>3073.0</td>\n",
       "      <td>3150.0</td>\n",
       "      <td>3155.0</td>\n",
       "    </tr>\n",
       "    <tr>\n",
       "      <th>3</th>\n",
       "      <td>4186.0</td>\n",
       "      <td>4094.0</td>\n",
       "      <td>4113.0</td>\n",
       "      <td>3475.0</td>\n",
       "      <td>3484.0</td>\n",
       "      <td>3579.0</td>\n",
       "      <td>3578.0</td>\n",
       "      <td>3401.0</td>\n",
       "      <td>3505.0</td>\n",
       "      <td>3617.0</td>\n",
       "      <td>3522.0</td>\n",
       "      <td>3394.0</td>\n",
       "    </tr>\n",
       "    <tr>\n",
       "      <th>4</th>\n",
       "      <td>361.0</td>\n",
       "      <td>356.0</td>\n",
       "      <td>375.0</td>\n",
       "      <td>341.0</td>\n",
       "      <td>318.0</td>\n",
       "      <td>281.0</td>\n",
       "      <td>301.0</td>\n",
       "      <td>320.0</td>\n",
       "      <td>277.0</td>\n",
       "      <td>311.0</td>\n",
       "      <td>268.0</td>\n",
       "      <td>318.0</td>\n",
       "    </tr>\n",
       "    <tr>\n",
       "      <th>5</th>\n",
       "      <td>4927.0</td>\n",
       "      <td>4828.0</td>\n",
       "      <td>5028.0</td>\n",
       "      <td>4253.0</td>\n",
       "      <td>4292.0</td>\n",
       "      <td>4265.0</td>\n",
       "      <td>4320.0</td>\n",
       "      <td>4173.0</td>\n",
       "      <td>4286.0</td>\n",
       "      <td>4331.0</td>\n",
       "      <td>4378.0</td>\n",
       "      <td>4213.0</td>\n",
       "    </tr>\n",
       "    <tr>\n",
       "      <th>6</th>\n",
       "      <td>21104.0</td>\n",
       "      <td>21153.0</td>\n",
       "      <td>21024.0</td>\n",
       "      <td>18065.0</td>\n",
       "      <td>18007.0</td>\n",
       "      <td>18172.0</td>\n",
       "      <td>18217.0</td>\n",
       "      <td>17868.0</td>\n",
       "      <td>18024.0</td>\n",
       "      <td>18188.0</td>\n",
       "      <td>17792.0</td>\n",
       "      <td>17839.0</td>\n",
       "    </tr>\n",
       "    <tr>\n",
       "      <th>7</th>\n",
       "      <td>5471.0</td>\n",
       "      <td>5268.0</td>\n",
       "      <td>5460.0</td>\n",
       "      <td>4543.0</td>\n",
       "      <td>4474.0</td>\n",
       "      <td>4671.0</td>\n",
       "      <td>4499.0</td>\n",
       "      <td>4673.0</td>\n",
       "      <td>4466.0</td>\n",
       "      <td>4551.0</td>\n",
       "      <td>4506.0</td>\n",
       "      <td>4556.0</td>\n",
       "    </tr>\n",
       "    <tr>\n",
       "      <th>8</th>\n",
       "      <td>8027.0</td>\n",
       "      <td>7990.0</td>\n",
       "      <td>7847.0</td>\n",
       "      <td>6776.0</td>\n",
       "      <td>6736.0</td>\n",
       "      <td>6773.0</td>\n",
       "      <td>6865.0</td>\n",
       "      <td>6728.0</td>\n",
       "      <td>6638.0</td>\n",
       "      <td>6849.0</td>\n",
       "      <td>6852.0</td>\n",
       "      <td>6724.0</td>\n",
       "    </tr>\n",
       "    <tr>\n",
       "      <th>9</th>\n",
       "      <td>7280.0</td>\n",
       "      <td>7179.0</td>\n",
       "      <td>7285.0</td>\n",
       "      <td>6173.0</td>\n",
       "      <td>6201.0</td>\n",
       "      <td>6117.0</td>\n",
       "      <td>6095.0</td>\n",
       "      <td>6287.0</td>\n",
       "      <td>6211.0</td>\n",
       "      <td>6058.0</td>\n",
       "      <td>6047.0</td>\n",
       "      <td>6256.0</td>\n",
       "    </tr>\n",
       "    <tr>\n",
       "      <th>10</th>\n",
       "      <td>5023.0</td>\n",
       "      <td>5024.0</td>\n",
       "      <td>5048.0</td>\n",
       "      <td>4358.0</td>\n",
       "      <td>4278.0</td>\n",
       "      <td>4301.0</td>\n",
       "      <td>4215.0</td>\n",
       "      <td>4235.0</td>\n",
       "      <td>4308.0</td>\n",
       "      <td>4442.0</td>\n",
       "      <td>4254.0</td>\n",
       "      <td>4244.0</td>\n",
       "    </tr>\n",
       "    <tr>\n",
       "      <th>11</th>\n",
       "      <td>3178.0</td>\n",
       "      <td>3158.0</td>\n",
       "      <td>3268.0</td>\n",
       "      <td>2792.0</td>\n",
       "      <td>2835.0</td>\n",
       "      <td>2774.0</td>\n",
       "      <td>2784.0</td>\n",
       "      <td>2835.0</td>\n",
       "      <td>2807.0</td>\n",
       "      <td>2810.0</td>\n",
       "      <td>2725.0</td>\n",
       "      <td>2768.0</td>\n",
       "    </tr>\n",
       "    <tr>\n",
       "      <th>12</th>\n",
       "      <td>7918.0</td>\n",
       "      <td>8108.0</td>\n",
       "      <td>7801.0</td>\n",
       "      <td>6687.0</td>\n",
       "      <td>6760.0</td>\n",
       "      <td>6783.0</td>\n",
       "      <td>6708.0</td>\n",
       "      <td>6804.0</td>\n",
       "      <td>6794.0</td>\n",
       "      <td>6838.0</td>\n",
       "      <td>6772.0</td>\n",
       "      <td>6791.0</td>\n",
       "    </tr>\n",
       "    <tr>\n",
       "      <th>13</th>\n",
       "      <td>7373.0</td>\n",
       "      <td>7382.0</td>\n",
       "      <td>7436.0</td>\n",
       "      <td>6309.0</td>\n",
       "      <td>6198.0</td>\n",
       "      <td>6376.0</td>\n",
       "      <td>6249.0</td>\n",
       "      <td>6382.0</td>\n",
       "      <td>6454.0</td>\n",
       "      <td>6273.0</td>\n",
       "      <td>6202.0</td>\n",
       "      <td>6199.0</td>\n",
       "    </tr>\n",
       "    <tr>\n",
       "      <th>14</th>\n",
       "      <td>4399.0</td>\n",
       "      <td>4487.0</td>\n",
       "      <td>4430.0</td>\n",
       "      <td>3824.0</td>\n",
       "      <td>3853.0</td>\n",
       "      <td>3772.0</td>\n",
       "      <td>3690.0</td>\n",
       "      <td>3753.0</td>\n",
       "      <td>3688.0</td>\n",
       "      <td>3755.0</td>\n",
       "      <td>3798.0</td>\n",
       "      <td>3795.0</td>\n",
       "    </tr>\n",
       "    <tr>\n",
       "      <th>15</th>\n",
       "      <td>9369.0</td>\n",
       "      <td>9517.0</td>\n",
       "      <td>9582.0</td>\n",
       "      <td>8025.0</td>\n",
       "      <td>8104.0</td>\n",
       "      <td>8193.0</td>\n",
       "      <td>8142.0</td>\n",
       "      <td>7996.0</td>\n",
       "      <td>8232.0</td>\n",
       "      <td>8057.0</td>\n",
       "      <td>8090.0</td>\n",
       "      <td>8038.0</td>\n",
       "    </tr>\n",
       "    <tr>\n",
       "      <th>16</th>\n",
       "      <td>30517.0</td>\n",
       "      <td>30189.0</td>\n",
       "      <td>30364.0</td>\n",
       "      <td>25772.0</td>\n",
       "      <td>25514.0</td>\n",
       "      <td>25668.0</td>\n",
       "      <td>25449.0</td>\n",
       "      <td>25407.0</td>\n",
       "      <td>25447.0</td>\n",
       "      <td>25342.0</td>\n",
       "      <td>25505.0</td>\n",
       "      <td>25523.0</td>\n",
       "    </tr>\n",
       "    <tr>\n",
       "      <th>17</th>\n",
       "      <td>10035.0</td>\n",
       "      <td>10228.0</td>\n",
       "      <td>10038.0</td>\n",
       "      <td>8679.0</td>\n",
       "      <td>8506.0</td>\n",
       "      <td>8636.0</td>\n",
       "      <td>8470.0</td>\n",
       "      <td>8613.0</td>\n",
       "      <td>8432.0</td>\n",
       "      <td>8679.0</td>\n",
       "      <td>8715.0</td>\n",
       "      <td>8621.0</td>\n",
       "    </tr>\n",
       "    <tr>\n",
       "      <th>18</th>\n",
       "      <td>3901.0</td>\n",
       "      <td>3892.0</td>\n",
       "      <td>3910.0</td>\n",
       "      <td>3296.0</td>\n",
       "      <td>3335.0</td>\n",
       "      <td>3321.0</td>\n",
       "      <td>3310.0</td>\n",
       "      <td>3314.0</td>\n",
       "      <td>3314.0</td>\n",
       "      <td>3314.0</td>\n",
       "      <td>3390.0</td>\n",
       "      <td>3177.0</td>\n",
       "    </tr>\n",
       "    <tr>\n",
       "      <th>19</th>\n",
       "      <td>11616.0</td>\n",
       "      <td>11571.0</td>\n",
       "      <td>11839.0</td>\n",
       "      <td>10087.0</td>\n",
       "      <td>10189.0</td>\n",
       "      <td>10270.0</td>\n",
       "      <td>9987.0</td>\n",
       "      <td>9855.0</td>\n",
       "      <td>10038.0</td>\n",
       "      <td>9960.0</td>\n",
       "      <td>10054.0</td>\n",
       "      <td>10238.0</td>\n",
       "    </tr>\n",
       "    <tr>\n",
       "      <th>20</th>\n",
       "      <td>13105.0</td>\n",
       "      <td>13421.0</td>\n",
       "      <td>13201.0</td>\n",
       "      <td>11398.0</td>\n",
       "      <td>11439.0</td>\n",
       "      <td>11370.0</td>\n",
       "      <td>11474.0</td>\n",
       "      <td>11153.0</td>\n",
       "      <td>11273.0</td>\n",
       "      <td>11504.0</td>\n",
       "      <td>11292.0</td>\n",
       "      <td>11182.0</td>\n",
       "    </tr>\n",
       "    <tr>\n",
       "      <th>21</th>\n",
       "      <td>4065.0</td>\n",
       "      <td>4133.0</td>\n",
       "      <td>4025.0</td>\n",
       "      <td>3419.0</td>\n",
       "      <td>3456.0</td>\n",
       "      <td>3433.0</td>\n",
       "      <td>3391.0</td>\n",
       "      <td>3367.0</td>\n",
       "      <td>3503.0</td>\n",
       "      <td>3493.0</td>\n",
       "      <td>3389.0</td>\n",
       "      <td>3299.0</td>\n",
       "    </tr>\n",
       "    <tr>\n",
       "      <th>22</th>\n",
       "      <td>1556.0</td>\n",
       "      <td>1566.0</td>\n",
       "      <td>1627.0</td>\n",
       "      <td>1345.0</td>\n",
       "      <td>1335.0</td>\n",
       "      <td>1272.0</td>\n",
       "      <td>1466.0</td>\n",
       "      <td>1324.0</td>\n",
       "      <td>1336.0</td>\n",
       "      <td>1300.0</td>\n",
       "      <td>1377.0</td>\n",
       "      <td>1365.0</td>\n",
       "    </tr>\n",
       "    <tr>\n",
       "      <th>23</th>\n",
       "      <td>8440.0</td>\n",
       "      <td>8556.0</td>\n",
       "      <td>8298.0</td>\n",
       "      <td>7169.0</td>\n",
       "      <td>7176.0</td>\n",
       "      <td>7088.0</td>\n",
       "      <td>7156.0</td>\n",
       "      <td>7114.0</td>\n",
       "      <td>7176.0</td>\n",
       "      <td>7001.0</td>\n",
       "      <td>7129.0</td>\n",
       "      <td>7322.0</td>\n",
       "    </tr>\n",
       "    <tr>\n",
       "      <th>24</th>\n",
       "      <td>10973.0</td>\n",
       "      <td>10927.0</td>\n",
       "      <td>10920.0</td>\n",
       "      <td>9264.0</td>\n",
       "      <td>9243.0</td>\n",
       "      <td>9237.0</td>\n",
       "      <td>9315.0</td>\n",
       "      <td>9396.0</td>\n",
       "      <td>9239.0</td>\n",
       "      <td>9134.0</td>\n",
       "      <td>9261.0</td>\n",
       "      <td>9269.0</td>\n",
       "    </tr>\n",
       "    <tr>\n",
       "      <th>25</th>\n",
       "      <td>4906.0</td>\n",
       "      <td>4826.0</td>\n",
       "      <td>4834.0</td>\n",
       "      <td>4213.0</td>\n",
       "      <td>4212.0</td>\n",
       "      <td>4171.0</td>\n",
       "      <td>4191.0</td>\n",
       "      <td>4230.0</td>\n",
       "      <td>4283.0</td>\n",
       "      <td>4230.0</td>\n",
       "      <td>4229.0</td>\n",
       "      <td>4261.0</td>\n",
       "    </tr>\n",
       "    <tr>\n",
       "      <th>26</th>\n",
       "      <td>42126.0</td>\n",
       "      <td>42195.0</td>\n",
       "      <td>42167.0</td>\n",
       "      <td>35691.0</td>\n",
       "      <td>35849.0</td>\n",
       "      <td>35645.0</td>\n",
       "      <td>35492.0</td>\n",
       "      <td>35367.0</td>\n",
       "      <td>35876.0</td>\n",
       "      <td>35479.0</td>\n",
       "      <td>35881.0</td>\n",
       "      <td>35525.0</td>\n",
       "    </tr>\n",
       "    <tr>\n",
       "      <th>27</th>\n",
       "      <td>5121.0</td>\n",
       "      <td>5105.0</td>\n",
       "      <td>5173.0</td>\n",
       "      <td>4216.0</td>\n",
       "      <td>4292.0</td>\n",
       "      <td>4276.0</td>\n",
       "      <td>4325.0</td>\n",
       "      <td>4312.0</td>\n",
       "      <td>4289.0</td>\n",
       "      <td>4349.0</td>\n",
       "      <td>4294.0</td>\n",
       "      <td>4339.0</td>\n",
       "    </tr>\n",
       "    <tr>\n",
       "      <th>28</th>\n",
       "      <td>14398.0</td>\n",
       "      <td>14278.0</td>\n",
       "      <td>14487.0</td>\n",
       "      <td>12459.0</td>\n",
       "      <td>12230.0</td>\n",
       "      <td>12307.0</td>\n",
       "      <td>12539.0</td>\n",
       "      <td>12280.0</td>\n",
       "      <td>12412.0</td>\n",
       "      <td>12301.0</td>\n",
       "      <td>12415.0</td>\n",
       "      <td>12215.0</td>\n",
       "    </tr>\n",
       "    <tr>\n",
       "      <th>29</th>\n",
       "      <td>11086.0</td>\n",
       "      <td>11124.0</td>\n",
       "      <td>11214.0</td>\n",
       "      <td>9631.0</td>\n",
       "      <td>9653.0</td>\n",
       "      <td>9524.0</td>\n",
       "      <td>9529.0</td>\n",
       "      <td>9573.0</td>\n",
       "      <td>9572.0</td>\n",
       "      <td>9482.0</td>\n",
       "      <td>9634.0</td>\n",
       "      <td>9411.0</td>\n",
       "    </tr>\n",
       "    <tr>\n",
       "      <th>...</th>\n",
       "      <td>...</td>\n",
       "      <td>...</td>\n",
       "      <td>...</td>\n",
       "      <td>...</td>\n",
       "      <td>...</td>\n",
       "      <td>...</td>\n",
       "      <td>...</td>\n",
       "      <td>...</td>\n",
       "      <td>...</td>\n",
       "      <td>...</td>\n",
       "      <td>...</td>\n",
       "      <td>...</td>\n",
       "    </tr>\n",
       "    <tr>\n",
       "      <th>70</th>\n",
       "      <td>3470.0</td>\n",
       "      <td>3340.0</td>\n",
       "      <td>3375.0</td>\n",
       "      <td>2753.0</td>\n",
       "      <td>2852.0</td>\n",
       "      <td>2979.0</td>\n",
       "      <td>2931.0</td>\n",
       "      <td>2882.0</td>\n",
       "      <td>2911.0</td>\n",
       "      <td>2935.0</td>\n",
       "      <td>2881.0</td>\n",
       "      <td>2918.0</td>\n",
       "    </tr>\n",
       "    <tr>\n",
       "      <th>71</th>\n",
       "      <td>10910.0</td>\n",
       "      <td>10699.0</td>\n",
       "      <td>10884.0</td>\n",
       "      <td>9156.0</td>\n",
       "      <td>9062.0</td>\n",
       "      <td>9175.0</td>\n",
       "      <td>9200.0</td>\n",
       "      <td>9137.0</td>\n",
       "      <td>9088.0</td>\n",
       "      <td>9092.0</td>\n",
       "      <td>9336.0</td>\n",
       "      <td>9062.0</td>\n",
       "    </tr>\n",
       "    <tr>\n",
       "      <th>72</th>\n",
       "      <td>24005.0</td>\n",
       "      <td>23939.0</td>\n",
       "      <td>24122.0</td>\n",
       "      <td>20470.0</td>\n",
       "      <td>20451.0</td>\n",
       "      <td>20540.0</td>\n",
       "      <td>20175.0</td>\n",
       "      <td>20258.0</td>\n",
       "      <td>20248.0</td>\n",
       "      <td>20434.0</td>\n",
       "      <td>20363.0</td>\n",
       "      <td>20379.0</td>\n",
       "    </tr>\n",
       "    <tr>\n",
       "      <th>73</th>\n",
       "      <td>4004.0</td>\n",
       "      <td>3966.0</td>\n",
       "      <td>4124.0</td>\n",
       "      <td>3384.0</td>\n",
       "      <td>3476.0</td>\n",
       "      <td>3478.0</td>\n",
       "      <td>3506.0</td>\n",
       "      <td>3371.0</td>\n",
       "      <td>3389.0</td>\n",
       "      <td>3447.0</td>\n",
       "      <td>3484.0</td>\n",
       "      <td>3350.0</td>\n",
       "    </tr>\n",
       "    <tr>\n",
       "      <th>74</th>\n",
       "      <td>4854.0</td>\n",
       "      <td>4897.0</td>\n",
       "      <td>4845.0</td>\n",
       "      <td>3991.0</td>\n",
       "      <td>4173.0</td>\n",
       "      <td>4234.0</td>\n",
       "      <td>4274.0</td>\n",
       "      <td>4142.0</td>\n",
       "      <td>4199.0</td>\n",
       "      <td>4049.0</td>\n",
       "      <td>4177.0</td>\n",
       "      <td>4262.0</td>\n",
       "    </tr>\n",
       "    <tr>\n",
       "      <th>75</th>\n",
       "      <td>5558.0</td>\n",
       "      <td>5635.0</td>\n",
       "      <td>5538.0</td>\n",
       "      <td>4716.0</td>\n",
       "      <td>4620.0</td>\n",
       "      <td>4776.0</td>\n",
       "      <td>4621.0</td>\n",
       "      <td>4719.0</td>\n",
       "      <td>4798.0</td>\n",
       "      <td>4722.0</td>\n",
       "      <td>4615.0</td>\n",
       "      <td>4672.0</td>\n",
       "    </tr>\n",
       "    <tr>\n",
       "      <th>76</th>\n",
       "      <td>5364.0</td>\n",
       "      <td>5486.0</td>\n",
       "      <td>5540.0</td>\n",
       "      <td>4647.0</td>\n",
       "      <td>4671.0</td>\n",
       "      <td>4731.0</td>\n",
       "      <td>4729.0</td>\n",
       "      <td>4717.0</td>\n",
       "      <td>4712.0</td>\n",
       "      <td>4699.0</td>\n",
       "      <td>4743.0</td>\n",
       "      <td>4776.0</td>\n",
       "    </tr>\n",
       "    <tr>\n",
       "      <th>77</th>\n",
       "      <td>8465.0</td>\n",
       "      <td>8368.0</td>\n",
       "      <td>8244.0</td>\n",
       "      <td>7171.0</td>\n",
       "      <td>7112.0</td>\n",
       "      <td>7235.0</td>\n",
       "      <td>7387.0</td>\n",
       "      <td>7159.0</td>\n",
       "      <td>7136.0</td>\n",
       "      <td>7101.0</td>\n",
       "      <td>7145.0</td>\n",
       "      <td>7065.0</td>\n",
       "    </tr>\n",
       "    <tr>\n",
       "      <th>78</th>\n",
       "      <td>9022.0</td>\n",
       "      <td>9315.0</td>\n",
       "      <td>9035.0</td>\n",
       "      <td>7737.0</td>\n",
       "      <td>7838.0</td>\n",
       "      <td>7778.0</td>\n",
       "      <td>7817.0</td>\n",
       "      <td>7759.0</td>\n",
       "      <td>7738.0</td>\n",
       "      <td>7876.0</td>\n",
       "      <td>7847.0</td>\n",
       "      <td>7835.0</td>\n",
       "    </tr>\n",
       "    <tr>\n",
       "      <th>79</th>\n",
       "      <td>11736.0</td>\n",
       "      <td>11506.0</td>\n",
       "      <td>11501.0</td>\n",
       "      <td>9826.0</td>\n",
       "      <td>9965.0</td>\n",
       "      <td>10002.0</td>\n",
       "      <td>9900.0</td>\n",
       "      <td>9858.0</td>\n",
       "      <td>9961.0</td>\n",
       "      <td>9958.0</td>\n",
       "      <td>9647.0</td>\n",
       "      <td>9916.0</td>\n",
       "    </tr>\n",
       "    <tr>\n",
       "      <th>80</th>\n",
       "      <td>17371.0</td>\n",
       "      <td>17154.0</td>\n",
       "      <td>17224.0</td>\n",
       "      <td>14508.0</td>\n",
       "      <td>14369.0</td>\n",
       "      <td>14585.0</td>\n",
       "      <td>14316.0</td>\n",
       "      <td>14553.0</td>\n",
       "      <td>14522.0</td>\n",
       "      <td>14811.0</td>\n",
       "      <td>14294.0</td>\n",
       "      <td>14470.0</td>\n",
       "    </tr>\n",
       "    <tr>\n",
       "      <th>81</th>\n",
       "      <td>6269.0</td>\n",
       "      <td>6171.0</td>\n",
       "      <td>6184.0</td>\n",
       "      <td>5478.0</td>\n",
       "      <td>5352.0</td>\n",
       "      <td>5434.0</td>\n",
       "      <td>5417.0</td>\n",
       "      <td>5398.0</td>\n",
       "      <td>5255.0</td>\n",
       "      <td>5262.0</td>\n",
       "      <td>5342.0</td>\n",
       "      <td>5312.0</td>\n",
       "    </tr>\n",
       "    <tr>\n",
       "      <th>82</th>\n",
       "      <td>5807.0</td>\n",
       "      <td>5851.0</td>\n",
       "      <td>5985.0</td>\n",
       "      <td>4929.0</td>\n",
       "      <td>4900.0</td>\n",
       "      <td>4890.0</td>\n",
       "      <td>4970.0</td>\n",
       "      <td>4983.0</td>\n",
       "      <td>4935.0</td>\n",
       "      <td>5090.0</td>\n",
       "      <td>4928.0</td>\n",
       "      <td>4958.0</td>\n",
       "    </tr>\n",
       "    <tr>\n",
       "      <th>83</th>\n",
       "      <td>3283.0</td>\n",
       "      <td>3281.0</td>\n",
       "      <td>3249.0</td>\n",
       "      <td>2740.0</td>\n",
       "      <td>2821.0</td>\n",
       "      <td>2797.0</td>\n",
       "      <td>2865.0</td>\n",
       "      <td>2758.0</td>\n",
       "      <td>2822.0</td>\n",
       "      <td>2757.0</td>\n",
       "      <td>2870.0</td>\n",
       "      <td>2887.0</td>\n",
       "    </tr>\n",
       "    <tr>\n",
       "      <th>84</th>\n",
       "      <td>9301.0</td>\n",
       "      <td>9112.0</td>\n",
       "      <td>9292.0</td>\n",
       "      <td>7802.0</td>\n",
       "      <td>7831.0</td>\n",
       "      <td>7976.0</td>\n",
       "      <td>8003.0</td>\n",
       "      <td>7943.0</td>\n",
       "      <td>8032.0</td>\n",
       "      <td>7966.0</td>\n",
       "      <td>7835.0</td>\n",
       "      <td>7876.0</td>\n",
       "    </tr>\n",
       "    <tr>\n",
       "      <th>85</th>\n",
       "      <td>1020.0</td>\n",
       "      <td>1030.0</td>\n",
       "      <td>987.0</td>\n",
       "      <td>791.0</td>\n",
       "      <td>849.0</td>\n",
       "      <td>852.0</td>\n",
       "      <td>855.0</td>\n",
       "      <td>859.0</td>\n",
       "      <td>801.0</td>\n",
       "      <td>896.0</td>\n",
       "      <td>891.0</td>\n",
       "      <td>874.0</td>\n",
       "    </tr>\n",
       "    <tr>\n",
       "      <th>86</th>\n",
       "      <td>261.0</td>\n",
       "      <td>269.0</td>\n",
       "      <td>268.0</td>\n",
       "      <td>224.0</td>\n",
       "      <td>212.0</td>\n",
       "      <td>264.0</td>\n",
       "      <td>230.0</td>\n",
       "      <td>243.0</td>\n",
       "      <td>266.0</td>\n",
       "      <td>239.0</td>\n",
       "      <td>233.0</td>\n",
       "      <td>223.0</td>\n",
       "    </tr>\n",
       "    <tr>\n",
       "      <th>87</th>\n",
       "      <td>7627.0</td>\n",
       "      <td>7756.0</td>\n",
       "      <td>7890.0</td>\n",
       "      <td>6582.0</td>\n",
       "      <td>6588.0</td>\n",
       "      <td>6397.0</td>\n",
       "      <td>6517.0</td>\n",
       "      <td>6568.0</td>\n",
       "      <td>6618.0</td>\n",
       "      <td>6579.0</td>\n",
       "      <td>6593.0</td>\n",
       "      <td>6562.0</td>\n",
       "    </tr>\n",
       "    <tr>\n",
       "      <th>88</th>\n",
       "      <td>1546.0</td>\n",
       "      <td>1478.0</td>\n",
       "      <td>1562.0</td>\n",
       "      <td>1377.0</td>\n",
       "      <td>1314.0</td>\n",
       "      <td>1317.0</td>\n",
       "      <td>1313.0</td>\n",
       "      <td>1313.0</td>\n",
       "      <td>1362.0</td>\n",
       "      <td>1343.0</td>\n",
       "      <td>1408.0</td>\n",
       "      <td>1308.0</td>\n",
       "    </tr>\n",
       "    <tr>\n",
       "      <th>89</th>\n",
       "      <td>3887.0</td>\n",
       "      <td>3979.0</td>\n",
       "      <td>3893.0</td>\n",
       "      <td>3252.0</td>\n",
       "      <td>3300.0</td>\n",
       "      <td>3398.0</td>\n",
       "      <td>3381.0</td>\n",
       "      <td>3244.0</td>\n",
       "      <td>3418.0</td>\n",
       "      <td>3447.0</td>\n",
       "      <td>3396.0</td>\n",
       "      <td>3362.0</td>\n",
       "    </tr>\n",
       "    <tr>\n",
       "      <th>90</th>\n",
       "      <td>5021.0</td>\n",
       "      <td>5006.0</td>\n",
       "      <td>5202.0</td>\n",
       "      <td>4396.0</td>\n",
       "      <td>4286.0</td>\n",
       "      <td>4339.0</td>\n",
       "      <td>4319.0</td>\n",
       "      <td>4361.0</td>\n",
       "      <td>4424.0</td>\n",
       "      <td>4376.0</td>\n",
       "      <td>4391.0</td>\n",
       "      <td>4297.0</td>\n",
       "    </tr>\n",
       "    <tr>\n",
       "      <th>91</th>\n",
       "      <td>3855.0</td>\n",
       "      <td>3911.0</td>\n",
       "      <td>3858.0</td>\n",
       "      <td>3290.0</td>\n",
       "      <td>3164.0</td>\n",
       "      <td>3230.0</td>\n",
       "      <td>3245.0</td>\n",
       "      <td>3260.0</td>\n",
       "      <td>3296.0</td>\n",
       "      <td>3225.0</td>\n",
       "      <td>3208.0</td>\n",
       "      <td>3090.0</td>\n",
       "    </tr>\n",
       "    <tr>\n",
       "      <th>92</th>\n",
       "      <td>15800.0</td>\n",
       "      <td>15451.0</td>\n",
       "      <td>15686.0</td>\n",
       "      <td>13160.0</td>\n",
       "      <td>13358.0</td>\n",
       "      <td>13183.0</td>\n",
       "      <td>13123.0</td>\n",
       "      <td>13204.0</td>\n",
       "      <td>13363.0</td>\n",
       "      <td>13058.0</td>\n",
       "      <td>13137.0</td>\n",
       "      <td>13167.0</td>\n",
       "    </tr>\n",
       "    <tr>\n",
       "      <th>93</th>\n",
       "      <td>16356.0</td>\n",
       "      <td>16590.0</td>\n",
       "      <td>16479.0</td>\n",
       "      <td>14179.0</td>\n",
       "      <td>14288.0</td>\n",
       "      <td>13998.0</td>\n",
       "      <td>14131.0</td>\n",
       "      <td>14168.0</td>\n",
       "      <td>14286.0</td>\n",
       "      <td>14003.0</td>\n",
       "      <td>14285.0</td>\n",
       "      <td>14078.0</td>\n",
       "    </tr>\n",
       "    <tr>\n",
       "      <th>94</th>\n",
       "      <td>9268.0</td>\n",
       "      <td>9192.0</td>\n",
       "      <td>9079.0</td>\n",
       "      <td>7989.0</td>\n",
       "      <td>7807.0</td>\n",
       "      <td>7914.0</td>\n",
       "      <td>7997.0</td>\n",
       "      <td>7847.0</td>\n",
       "      <td>7752.0</td>\n",
       "      <td>7718.0</td>\n",
       "      <td>7871.0</td>\n",
       "      <td>7890.0</td>\n",
       "    </tr>\n",
       "    <tr>\n",
       "      <th>95</th>\n",
       "      <td>6014.0</td>\n",
       "      <td>6079.0</td>\n",
       "      <td>6173.0</td>\n",
       "      <td>5218.0</td>\n",
       "      <td>5219.0</td>\n",
       "      <td>5209.0</td>\n",
       "      <td>5217.0</td>\n",
       "      <td>5049.0</td>\n",
       "      <td>5187.0</td>\n",
       "      <td>5266.0</td>\n",
       "      <td>5242.0</td>\n",
       "      <td>5154.0</td>\n",
       "    </tr>\n",
       "    <tr>\n",
       "      <th>96</th>\n",
       "      <td>41144.0</td>\n",
       "      <td>41187.0</td>\n",
       "      <td>40822.0</td>\n",
       "      <td>35218.0</td>\n",
       "      <td>35038.0</td>\n",
       "      <td>35097.0</td>\n",
       "      <td>34669.0</td>\n",
       "      <td>35295.0</td>\n",
       "      <td>35333.0</td>\n",
       "      <td>35448.0</td>\n",
       "      <td>35031.0</td>\n",
       "      <td>35233.0</td>\n",
       "    </tr>\n",
       "    <tr>\n",
       "      <th>97</th>\n",
       "      <td>423.0</td>\n",
       "      <td>461.0</td>\n",
       "      <td>451.0</td>\n",
       "      <td>372.0</td>\n",
       "      <td>387.0</td>\n",
       "      <td>371.0</td>\n",
       "      <td>368.0</td>\n",
       "      <td>354.0</td>\n",
       "      <td>352.0</td>\n",
       "      <td>361.0</td>\n",
       "      <td>406.0</td>\n",
       "      <td>405.0</td>\n",
       "    </tr>\n",
       "    <tr>\n",
       "      <th>98</th>\n",
       "      <td>2729.0</td>\n",
       "      <td>2813.0</td>\n",
       "      <td>2746.0</td>\n",
       "      <td>2353.0</td>\n",
       "      <td>2388.0</td>\n",
       "      <td>2384.0</td>\n",
       "      <td>2436.0</td>\n",
       "      <td>2302.0</td>\n",
       "      <td>2430.0</td>\n",
       "      <td>2330.0</td>\n",
       "      <td>2412.0</td>\n",
       "      <td>2351.0</td>\n",
       "    </tr>\n",
       "    <tr>\n",
       "      <th>99</th>\n",
       "      <td>0.0</td>\n",
       "      <td>0.0</td>\n",
       "      <td>0.0</td>\n",
       "      <td>0.0</td>\n",
       "      <td>0.0</td>\n",
       "      <td>0.0</td>\n",
       "      <td>0.0</td>\n",
       "      <td>0.0</td>\n",
       "      <td>0.0</td>\n",
       "      <td>0.0</td>\n",
       "      <td>0.0</td>\n",
       "      <td>0.0</td>\n",
       "    </tr>\n",
       "  </tbody>\n",
       "</table>\n",
       "<p>100 rows × 12 columns</p>\n",
       "</div>"
      ],
      "text/plain": [
       "         0        1        2        3        4        5        6        7   \\\n",
       "0    4475.0   4669.0   4645.0   3970.0   3943.0   3930.0   3896.0   4056.0   \n",
       "1   20056.0  20176.0  20134.0  17003.0  17100.0  17131.0  17125.0  17037.0   \n",
       "2    3762.0   3727.0   3645.0   3232.0   3163.0   3296.0   3210.0   3161.0   \n",
       "3    4186.0   4094.0   4113.0   3475.0   3484.0   3579.0   3578.0   3401.0   \n",
       "4     361.0    356.0    375.0    341.0    318.0    281.0    301.0    320.0   \n",
       "5    4927.0   4828.0   5028.0   4253.0   4292.0   4265.0   4320.0   4173.0   \n",
       "6   21104.0  21153.0  21024.0  18065.0  18007.0  18172.0  18217.0  17868.0   \n",
       "7    5471.0   5268.0   5460.0   4543.0   4474.0   4671.0   4499.0   4673.0   \n",
       "8    8027.0   7990.0   7847.0   6776.0   6736.0   6773.0   6865.0   6728.0   \n",
       "9    7280.0   7179.0   7285.0   6173.0   6201.0   6117.0   6095.0   6287.0   \n",
       "10   5023.0   5024.0   5048.0   4358.0   4278.0   4301.0   4215.0   4235.0   \n",
       "11   3178.0   3158.0   3268.0   2792.0   2835.0   2774.0   2784.0   2835.0   \n",
       "12   7918.0   8108.0   7801.0   6687.0   6760.0   6783.0   6708.0   6804.0   \n",
       "13   7373.0   7382.0   7436.0   6309.0   6198.0   6376.0   6249.0   6382.0   \n",
       "14   4399.0   4487.0   4430.0   3824.0   3853.0   3772.0   3690.0   3753.0   \n",
       "15   9369.0   9517.0   9582.0   8025.0   8104.0   8193.0   8142.0   7996.0   \n",
       "16  30517.0  30189.0  30364.0  25772.0  25514.0  25668.0  25449.0  25407.0   \n",
       "17  10035.0  10228.0  10038.0   8679.0   8506.0   8636.0   8470.0   8613.0   \n",
       "18   3901.0   3892.0   3910.0   3296.0   3335.0   3321.0   3310.0   3314.0   \n",
       "19  11616.0  11571.0  11839.0  10087.0  10189.0  10270.0   9987.0   9855.0   \n",
       "20  13105.0  13421.0  13201.0  11398.0  11439.0  11370.0  11474.0  11153.0   \n",
       "21   4065.0   4133.0   4025.0   3419.0   3456.0   3433.0   3391.0   3367.0   \n",
       "22   1556.0   1566.0   1627.0   1345.0   1335.0   1272.0   1466.0   1324.0   \n",
       "23   8440.0   8556.0   8298.0   7169.0   7176.0   7088.0   7156.0   7114.0   \n",
       "24  10973.0  10927.0  10920.0   9264.0   9243.0   9237.0   9315.0   9396.0   \n",
       "25   4906.0   4826.0   4834.0   4213.0   4212.0   4171.0   4191.0   4230.0   \n",
       "26  42126.0  42195.0  42167.0  35691.0  35849.0  35645.0  35492.0  35367.0   \n",
       "27   5121.0   5105.0   5173.0   4216.0   4292.0   4276.0   4325.0   4312.0   \n",
       "28  14398.0  14278.0  14487.0  12459.0  12230.0  12307.0  12539.0  12280.0   \n",
       "29  11086.0  11124.0  11214.0   9631.0   9653.0   9524.0   9529.0   9573.0   \n",
       "..      ...      ...      ...      ...      ...      ...      ...      ...   \n",
       "70   3470.0   3340.0   3375.0   2753.0   2852.0   2979.0   2931.0   2882.0   \n",
       "71  10910.0  10699.0  10884.0   9156.0   9062.0   9175.0   9200.0   9137.0   \n",
       "72  24005.0  23939.0  24122.0  20470.0  20451.0  20540.0  20175.0  20258.0   \n",
       "73   4004.0   3966.0   4124.0   3384.0   3476.0   3478.0   3506.0   3371.0   \n",
       "74   4854.0   4897.0   4845.0   3991.0   4173.0   4234.0   4274.0   4142.0   \n",
       "75   5558.0   5635.0   5538.0   4716.0   4620.0   4776.0   4621.0   4719.0   \n",
       "76   5364.0   5486.0   5540.0   4647.0   4671.0   4731.0   4729.0   4717.0   \n",
       "77   8465.0   8368.0   8244.0   7171.0   7112.0   7235.0   7387.0   7159.0   \n",
       "78   9022.0   9315.0   9035.0   7737.0   7838.0   7778.0   7817.0   7759.0   \n",
       "79  11736.0  11506.0  11501.0   9826.0   9965.0  10002.0   9900.0   9858.0   \n",
       "80  17371.0  17154.0  17224.0  14508.0  14369.0  14585.0  14316.0  14553.0   \n",
       "81   6269.0   6171.0   6184.0   5478.0   5352.0   5434.0   5417.0   5398.0   \n",
       "82   5807.0   5851.0   5985.0   4929.0   4900.0   4890.0   4970.0   4983.0   \n",
       "83   3283.0   3281.0   3249.0   2740.0   2821.0   2797.0   2865.0   2758.0   \n",
       "84   9301.0   9112.0   9292.0   7802.0   7831.0   7976.0   8003.0   7943.0   \n",
       "85   1020.0   1030.0    987.0    791.0    849.0    852.0    855.0    859.0   \n",
       "86    261.0    269.0    268.0    224.0    212.0    264.0    230.0    243.0   \n",
       "87   7627.0   7756.0   7890.0   6582.0   6588.0   6397.0   6517.0   6568.0   \n",
       "88   1546.0   1478.0   1562.0   1377.0   1314.0   1317.0   1313.0   1313.0   \n",
       "89   3887.0   3979.0   3893.0   3252.0   3300.0   3398.0   3381.0   3244.0   \n",
       "90   5021.0   5006.0   5202.0   4396.0   4286.0   4339.0   4319.0   4361.0   \n",
       "91   3855.0   3911.0   3858.0   3290.0   3164.0   3230.0   3245.0   3260.0   \n",
       "92  15800.0  15451.0  15686.0  13160.0  13358.0  13183.0  13123.0  13204.0   \n",
       "93  16356.0  16590.0  16479.0  14179.0  14288.0  13998.0  14131.0  14168.0   \n",
       "94   9268.0   9192.0   9079.0   7989.0   7807.0   7914.0   7997.0   7847.0   \n",
       "95   6014.0   6079.0   6173.0   5218.0   5219.0   5209.0   5217.0   5049.0   \n",
       "96  41144.0  41187.0  40822.0  35218.0  35038.0  35097.0  34669.0  35295.0   \n",
       "97    423.0    461.0    451.0    372.0    387.0    371.0    368.0    354.0   \n",
       "98   2729.0   2813.0   2746.0   2353.0   2388.0   2384.0   2436.0   2302.0   \n",
       "99      0.0      0.0      0.0      0.0      0.0      0.0      0.0      0.0   \n",
       "\n",
       "         8        9        10       11  \n",
       "0    3954.0   4064.0   3890.0   3958.0  \n",
       "1   17149.0  17017.0  16944.0  16864.0  \n",
       "2    3269.0   3073.0   3150.0   3155.0  \n",
       "3    3505.0   3617.0   3522.0   3394.0  \n",
       "4     277.0    311.0    268.0    318.0  \n",
       "5    4286.0   4331.0   4378.0   4213.0  \n",
       "6   18024.0  18188.0  17792.0  17839.0  \n",
       "7    4466.0   4551.0   4506.0   4556.0  \n",
       "8    6638.0   6849.0   6852.0   6724.0  \n",
       "9    6211.0   6058.0   6047.0   6256.0  \n",
       "10   4308.0   4442.0   4254.0   4244.0  \n",
       "11   2807.0   2810.0   2725.0   2768.0  \n",
       "12   6794.0   6838.0   6772.0   6791.0  \n",
       "13   6454.0   6273.0   6202.0   6199.0  \n",
       "14   3688.0   3755.0   3798.0   3795.0  \n",
       "15   8232.0   8057.0   8090.0   8038.0  \n",
       "16  25447.0  25342.0  25505.0  25523.0  \n",
       "17   8432.0   8679.0   8715.0   8621.0  \n",
       "18   3314.0   3314.0   3390.0   3177.0  \n",
       "19  10038.0   9960.0  10054.0  10238.0  \n",
       "20  11273.0  11504.0  11292.0  11182.0  \n",
       "21   3503.0   3493.0   3389.0   3299.0  \n",
       "22   1336.0   1300.0   1377.0   1365.0  \n",
       "23   7176.0   7001.0   7129.0   7322.0  \n",
       "24   9239.0   9134.0   9261.0   9269.0  \n",
       "25   4283.0   4230.0   4229.0   4261.0  \n",
       "26  35876.0  35479.0  35881.0  35525.0  \n",
       "27   4289.0   4349.0   4294.0   4339.0  \n",
       "28  12412.0  12301.0  12415.0  12215.0  \n",
       "29   9572.0   9482.0   9634.0   9411.0  \n",
       "..      ...      ...      ...      ...  \n",
       "70   2911.0   2935.0   2881.0   2918.0  \n",
       "71   9088.0   9092.0   9336.0   9062.0  \n",
       "72  20248.0  20434.0  20363.0  20379.0  \n",
       "73   3389.0   3447.0   3484.0   3350.0  \n",
       "74   4199.0   4049.0   4177.0   4262.0  \n",
       "75   4798.0   4722.0   4615.0   4672.0  \n",
       "76   4712.0   4699.0   4743.0   4776.0  \n",
       "77   7136.0   7101.0   7145.0   7065.0  \n",
       "78   7738.0   7876.0   7847.0   7835.0  \n",
       "79   9961.0   9958.0   9647.0   9916.0  \n",
       "80  14522.0  14811.0  14294.0  14470.0  \n",
       "81   5255.0   5262.0   5342.0   5312.0  \n",
       "82   4935.0   5090.0   4928.0   4958.0  \n",
       "83   2822.0   2757.0   2870.0   2887.0  \n",
       "84   8032.0   7966.0   7835.0   7876.0  \n",
       "85    801.0    896.0    891.0    874.0  \n",
       "86    266.0    239.0    233.0    223.0  \n",
       "87   6618.0   6579.0   6593.0   6562.0  \n",
       "88   1362.0   1343.0   1408.0   1308.0  \n",
       "89   3418.0   3447.0   3396.0   3362.0  \n",
       "90   4424.0   4376.0   4391.0   4297.0  \n",
       "91   3296.0   3225.0   3208.0   3090.0  \n",
       "92  13363.0  13058.0  13137.0  13167.0  \n",
       "93  14286.0  14003.0  14285.0  14078.0  \n",
       "94   7752.0   7718.0   7871.0   7890.0  \n",
       "95   5187.0   5266.0   5242.0   5154.0  \n",
       "96  35333.0  35448.0  35031.0  35233.0  \n",
       "97    352.0    361.0    406.0    405.0  \n",
       "98   2430.0   2330.0   2412.0   2351.0  \n",
       "99      0.0      0.0      0.0      0.0  \n",
       "\n",
       "[100 rows x 12 columns]"
      ]
     },
     "execution_count": 57,
     "metadata": {},
     "output_type": "execute_result"
    }
   ],
   "source": [
    "ene"
   ]
  },
  {
   "cell_type": "code",
   "execution_count": 58,
   "metadata": {
    "collapsed": false
   },
   "outputs": [
    {
     "data": {
      "text/plain": [
       "<matplotlib.axes._subplots.AxesSubplot at 0x10cc1a990>"
      ]
     },
     "execution_count": 58,
     "metadata": {},
     "output_type": "execute_result"
    },
    {
     "data": {
      "image/png": "[encoded data removed]",
      "text/plain": [
       "<matplotlib.figure.Figure at 0x10cb57d50>"
      ]
     },
     "metadata": {},
     "output_type": "display_data"
    }
   ],
   "source": [
    "ene.plot()"
   ]
  },
  {
   "cell_type": "code",
   "execution_count": 59,
   "metadata": {
    "collapsed": false
   },
   "outputs": [
    {
     "data": {
      "text/plain": [
       "<matplotlib.axes._subplots.AxesSubplot at 0x10d1743d0>"
      ]
     },
     "execution_count": 59,
     "metadata": {},
     "output_type": "execute_result"
    },
    {
     "data": {
      "image/png": "[encoded data removed]",
      "text/plain": [
       "<matplotlib.figure.Figure at 0x10d16db50>"
      ]
     },
     "metadata": {},
     "output_type": "display_data"
    }
   ],
   "source": [
    "ene[0].plot()"
   ]
  },
  {
   "cell_type": "code",
   "execution_count": 60,
   "metadata": {
    "collapsed": false
   },
   "outputs": [
    {
     "data": {
      "text/plain": [
       "<matplotlib.axes._subplots.AxesSubplot at 0x10cb57ad0>"
      ]
     },
     "execution_count": 60,
     "metadata": {},
     "output_type": "execute_result"
    },
    {
     "data": {
      "image/png": "[encoded data removed]",
      "text/plain": [
       "<matplotlib.figure.Figure at 0x10d248550>"
      ]
     },
     "metadata": {},
     "output_type": "display_data"
    }
   ],
   "source": [
    "ene.ix[0].plot()"
   ]
  },
  {
   "cell_type": "code",
   "execution_count": null,
   "metadata": {
    "collapsed": true
   },
   "outputs": [],
   "source": []
  }
 ],
 "metadata": {
  "kernelspec": {
   "display_name": "Python 2",
   "language": "python",
   "name": "python2"
  },
  "language_info": {
   "codemirror_mode": {
    "name": "ipython",
    "version": 2
   },
   "file_extension": ".py",
   "mimetype": "text/x-python",
   "name": "python",
   "nbconvert_exporter": "python",
   "pygments_lexer": "ipython2",
   "version": "2.7.11"
  }
 },
 "nbformat": 4,
 "nbformat_minor": 0
}
