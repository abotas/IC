{
 "cells": [
  {
   "cell_type": "markdown",
   "metadata": {},
   "source": [
    "# Applying zero-suppression to DIOMIRA's output"
   ]
  },
  {
   "cell_type": "markdown",
   "metadata": {},
   "source": [
    "### Why?\n",
    "Compression algorithms work well with data showing regular patterns which in our case translates to the large amount of (exact) zeroes in the true waveforms. Due to the introduction of noise to the SiPMs raw waveforms, the output file size has been increased by a factor 50-100 because compression algorithms are no longer efficient. To tackle this issue, the data must be zero-suppressed, getting rid of a large fraction of the SiPMs waveforms that will not be stored."
   ]
  },
  {
   "cell_type": "markdown",
   "metadata": {},
   "source": [
    "### How?"
   ]
  },
  {
   "cell_type": "markdown",
   "metadata": {},
   "source": [
    "The SiPMs noise distributions can be described as a sum of (low-charge) gaussians distributions, each one exponentially smaller. The easiest way to differenciate signal from noise is to place a cut in the SiPMs waveforms so that anything below that level is ignored. Such value (which may be different for every SiPM) must be optimized depending on the conditions and the event signature.\n",
    "\n",
    "A new function has been introduced to [sensorFunctions.py](../../Core/sensorFunctions.py) to perform the zero-suppression:"
   ]
  },
  {
   "cell_type": "code",
   "execution_count": 20,
   "metadata": {
    "collapsed": false
   },
   "outputs": [],
   "source": [
    "def sensor_wise_zero_suppresion(data,thresholds):\n",
    "    '''\n",
    "        takes an array of waveforms, applies the corresponding threshold to\n",
    "        each row and returns a dictionary with the data frames of the survivors.\n",
    "    '''\n",
    "    def zs_df(waveform,threshold):\n",
    "        '''\n",
    "            Get the zero-supressed wfms. Return None if it is completely suppresed.\n",
    "        '''\n",
    "        t = np.argwhere(waveform>threshold).flatten()\n",
    "        if not t.any(): return None\n",
    "        return wfm.wf2df(t,waveform[t])\n",
    "\n",
    "    return { i : df for i,df in enumerate(map(zs_df,data,thresholds)) if not df is None }\n"
   ]
  },
  {
   "cell_type": "markdown",
   "metadata": {},
   "source": [
    "##### sensor_wise_zero_suppression function"
   ]
  },
  {
   "cell_type": "markdown",
   "metadata": {},
   "source": [
    "This function takes an array of waveforms of shape (nsensors,nsamples) and an array of thresholds of shape (1,nsensors) and filters each row with the correspondent threshold. If the zero-suppressed waveform contains anything different than zero it is converted to a pandas data frame and returned within a dictionary that maps each ID to its zero-suppressed waveform."
   ]
  },
  {
   "cell_type": "code",
   "execution_count": null,
   "metadata": {
    "collapsed": true
   },
   "outputs": [],
   "source": [
    "########### TEST ##############\n",
    "import wfmFunctions as wfmF\n",
    "import numpy as np\n",
    "a  = np.arange(6.,18.).reshape(2,6)\n",
    "th = [9.,14.]\n",
    "print 'Array:',a,'Thresholds:',th\n",
    "# This should return a dictionary with:\n",
    "# 0 mapping to a data frame with [4.,5.] as time_mus and [10.,11.] as ene_pes\n",
    "# 1 mapping to a data frame with [3.,4.,5.] as time_mus and [15.,16.,17.] as ene_pes\n",
    "print ''\n",
    "for sns,df in sensor_wise_zero_suppresion(a,th).items():\n",
    "    print 'Sensor ',sns,'\\n',df"
   ]
  },
  {
   "cell_type": "markdown",
   "metadata": {
    "collapsed": true
   },
   "source": [
    "As mentioned before, the cut applied to the waveforms is based on the SiPMs' noise distributions. In order to remove a certain fraction ****c**** of the noise, the number of photoelectrons that covers the distribution to such ****c**** must be found:"
   ]
  },
  {
   "cell_type": "code",
   "execution_count": 27,
   "metadata": {
    "collapsed": false
   },
   "outputs": [
    {
     "data": {
      "image/png": "[encoded data removed]",
      "text/plain": [
       "<IPython.core.display.Image object>"
      ]
     },
     "execution_count": 27,
     "metadata": {},
     "output_type": "execute_result"
    }
   ],
   "source": [
    "from IPython.display import Image\n",
    "Image(filename='../../Images/NoiseThreshold.png')"
   ]
  },
  {
   "cell_type": "raw",
   "metadata": {},
   "source": [
    "from RandomSampling import *\n",
    "import matplotlib\n",
    "import matplotlib.pyplot as plt\n",
    "%matplotlib inline\n",
    "ns = NoiseSampler('../../Database/NoiseSiPM_NEW.dat',{j:i for i,j in enumerate(1000*i+1000+j for i in range(28) for j in range(64)) if not j in [14010,15047,25049]})\n",
    "th = ns.ComputeThresholds()\n",
    "plt.yscale('log')\n",
    "sipm = 900\n",
    "print ns.probs.shape\n",
    "cutfraction = 0.999\n",
    "cut = np.argwhere(ns.probs[sipm].cumsum()>cutfraction)[0][0]\n",
    "thr = ns.xbins[cut]\n",
    "print 'Cut will be applied to {} photoelectrons'.format(thr)\n",
    "\n",
    "plt.title('Noise PDF')\n",
    "plt.xlabel('# photoelectrons')\n",
    "plt.ylabel('Probability')\n",
    "plt.text(thr,ns.probs[sipm][cut]*1.2,'Threshold = {:.3} pes\\nwith a cut of {}'.format(thr,cutfraction),color='b')\n",
    "plt.plot(ns.xbins,ns.probs[sipm],color='r',linewidth=2)\n",
    "plt.fill_between(ns.xbins[:cut],ns.probs[sipm][:cut])\n",
    "plt.savefig('../../Images/NoiseThreshold.png')\n"
   ]
  },
  {
   "cell_type": "markdown",
   "metadata": {},
   "source": [
    "This is done by the new method ComputeThresholds in the [RandomSampling](../../Core/RandomSampling.py) class:"
   ]
  },
  {
   "cell_type": "code",
   "execution_count": null,
   "metadata": {
    "collapsed": true
   },
   "outputs": [],
   "source": [
    "def ComputeThresholds( self, noise_cut = 0.99 ):\n",
    "    '''\n",
    "        Find the number of pes at which each noise distribution leaves behind\n",
    "        the noise_cut fraction of its population.\n",
    "    '''\n",
    "    return np.array( [ self.xbins[np.argwhere( probs > noise_cut )[0][0]] for i,probs in enumerate(np.apply_along_axis( np.cumsum, 1, self.probs )) ] )"
   ]
  },
  {
   "cell_type": "markdown",
   "metadata": {},
   "source": [
    "The cut to be performed is an input to the ComputeThresholds method and can be changed by the user. For this reason, a new configuration parameter has been introduced, which needs to be written in the csv file:\n",
    "````\n",
    "NOISE_CUT_FRACTION = CFP['NOISE_CUT_FRACTION']\n",
    "````\n"
   ]
  },
  {
   "cell_type": "markdown",
   "metadata": {},
   "source": [
    "### Storage of waveforms\n",
    "Because waveforms are no longer equal-sized objects, they cannot be stored in a earray and a table must be used. The table description is the same as for true waveforms so it has been generalized in [Nh5.py](../../Core/Nh5.py):"
   ]
  },
  {
   "cell_type": "code",
   "execution_count": null,
   "metadata": {
    "collapsed": true
   },
   "outputs": [],
   "source": [
    "class SENSOR_WF(tables.IsDescription): ### FROM PMT_TWF AND SIPM_TWF\n",
    "    \"\"\"\n",
    "    Describes a true waveform (zero supressed)\n",
    "    \"\"\"\n",
    "    event = tables.UInt32Col(pos=0)\n",
    "    ID = tables.UInt32Col(pos=1)\n",
    "    time_mus = tables.Float32Col(pos=2)\n",
    "    ene_pes = tables.Float32Col(pos=3)"
   ]
  },
  {
   "cell_type": "markdown",
   "metadata": {},
   "source": [
    "The function used to store waveforms has been generalized in the same way:"
   ]
  },
  {
   "cell_type": "code",
   "execution_count": null,
   "metadata": {
    "collapsed": false
   },
   "outputs": [],
   "source": [
    "def store_wf(event, table, WF):\n",
    "    \"\"\"\n",
    "    Store WF in table\n",
    "    \"\"\"\n",
    "    row = table.row\n",
    "    for isens,wf in WF.items():\n",
    "        for t,e in zip(wf.time_mus, wf.ene_pes):\n",
    "            row['event'] = event\n",
    "            row['ID'] = isens\n",
    "            row['time_mus'] = t\n",
    "            row['ene_pes'] = e\n",
    "            row.append()\n",
    "    table.flush()"
   ]
  },
  {
   "cell_type": "markdown",
   "metadata": {},
   "source": [
    "Other changes in **DIOMIRA** are very localized:\n",
    "1) Before opening the outputfile the thresholds are computed:\n",
    "```\n",
    "sipms_noise_thresholds_ = sipms_noise_sampler_.ComputeThresholds(NOISE_CUT_FRACTION)\n",
    "```\n",
    "2) The storage of SiPMs' RWF is declared as a table:\n",
    "````\n",
    "sipm_rwf_table = h5out.create_table( rgroup, \"sipmrwf\", SENSOR_WF, \"Store for SiPMs RWF\",\n",
    "                                     tables.Filters(complib=CLIB, complevel=CLEVEL) )\n",
    "````\n",
    "3) Before storing the waveforms, they are zero-suppressed:\n",
    "````\n",
    "zs_wfms = sns.sensor_wise_zero_suppresion(dataSiPM,thresholds)\n",
    "store_wf( i, sipm_rwf_table, zs_wfms )\n",
    "````"
   ]
  },
  {
   "cell_type": "markdown",
   "metadata": {},
   "source": [
    "## Running DIOMIRA"
   ]
  },
  {
   "cell_type": "code",
   "execution_count": 2,
   "metadata": {
    "collapsed": false
   },
   "outputs": [
    {
     "name": "stdout",
     "output_type": "stream",
     "text": [
      "/Users/Gonzalo/github/IC/Cities\n"
     ]
    }
   ],
   "source": [
    "%cd ../../Cities/"
   ]
  },
  {
   "cell_type": "code",
   "execution_count": 4,
   "metadata": {
    "collapsed": false
   },
   "outputs": [
    {
     "name": "stdout",
     "output_type": "stream",
     "text": [
      "Debug level = INFO\n",
      "input path =/Users/Gonzalo/github/IC/data/; output path = /Users/Gonzalo/github/IC/data/; file_in =in0.h5 file_out =out0.h5\n",
      "first event = 0 last event = 10 nof events requested = 10 \n",
      "Compression library = zlib Compression level = 1 \n",
      "nof PMTs = 12 nof  SiPMs = 1789 nof events in input DST = 100 \n",
      "lof SiPM WF = 800000 lof PMT WF (MC) = 800 lof PMT WF (FEE) = 32000\n",
      "Initializing NoiseSampler... OK\n",
      "INFO:root:-->event number =0\n"
     ]
    },
    {
     "name": "stderr",
     "output_type": "stream",
     "text": [
      "-->event number =0\n"
     ]
    },
    {
     "name": "stdout",
     "output_type": "stream",
     "text": [
      "INFO:root:-->event number =1\n"
     ]
    },
    {
     "name": "stderr",
     "output_type": "stream",
     "text": [
      "-->event number =1\n"
     ]
    },
    {
     "name": "stdout",
     "output_type": "stream",
     "text": [
      "INFO:root:-->event number =2\n"
     ]
    },
    {
     "name": "stderr",
     "output_type": "stream",
     "text": [
      "-->event number =2\n"
     ]
    },
    {
     "name": "stdout",
     "output_type": "stream",
     "text": [
      "INFO:root:-->event number =3\n"
     ]
    },
    {
     "name": "stderr",
     "output_type": "stream",
     "text": [
      "-->event number =3\n"
     ]
    },
    {
     "name": "stdout",
     "output_type": "stream",
     "text": [
      "INFO:root:-->event number =4\n"
     ]
    },
    {
     "name": "stderr",
     "output_type": "stream",
     "text": [
      "-->event number =4\n"
     ]
    },
    {
     "name": "stdout",
     "output_type": "stream",
     "text": [
      "INFO:root:-->event number =5\n"
     ]
    },
    {
     "name": "stderr",
     "output_type": "stream",
     "text": [
      "-->event number =5\n"
     ]
    },
    {
     "name": "stdout",
     "output_type": "stream",
     "text": [
      "INFO:root:-->event number =6\n"
     ]
    },
    {
     "name": "stderr",
     "output_type": "stream",
     "text": [
      "-->event number =6\n"
     ]
    },
    {
     "name": "stdout",
     "output_type": "stream",
     "text": [
      "INFO:root:-->event number =7\n"
     ]
    },
    {
     "name": "stderr",
     "output_type": "stream",
     "text": [
      "-->event number =7\n"
     ]
    },
    {
     "name": "stdout",
     "output_type": "stream",
     "text": [
      "INFO:root:-->event number =8\n"
     ]
    },
    {
     "name": "stderr",
     "output_type": "stream",
     "text": [
      "-->event number =8\n"
     ]
    },
    {
     "name": "stdout",
     "output_type": "stream",
     "text": [
      "INFO:root:-->event number =9\n"
     ]
    },
    {
     "name": "stderr",
     "output_type": "stream",
     "text": [
      "-->event number =9\n"
     ]
    },
    {
     "name": "stdout",
     "output_type": "stream",
     "text": [
      "DIOMIRA has run over 9 events in 26.591673851 seconds\n",
      "Leaving Diomira. Safe travels!\n"
     ]
    }
   ],
   "source": [
    "run DIOMIRA.py -c ../Config/DIOMIRA_default.csv"
   ]
  },
  {
   "cell_type": "code",
   "execution_count": 5,
   "metadata": {
    "collapsed": false
   },
   "outputs": [
    {
     "name": "stdout",
     "output_type": "stream",
     "text": [
      "total 63080\r\n",
      "drwxr-xr-x   5 Gonzalo  staff   170B Oct 12 19:06 \u001b[36m.\u001b[m\u001b[m/\r\n",
      "drwxr-xr-x  22 Gonzalo  staff   748B Oct 12 19:15 \u001b[36m..\u001b[m\u001b[m/\r\n",
      "-rw-r--r--@  1 Gonzalo  staff    24M Oct 12 19:05 dst_NEXT_v0_08_02_Kr_ACTIVE_0_0_5bar_MCRD_10000.root.h5\r\n",
      "lrwxr-xr-x   1 Gonzalo  staff    55B Oct 12 19:06 \u001b[1m\u001b[31min0.h5\u001b[m\u001b[m@ -> dst_NEXT_v0_08_02_Kr_ACTIVE_0_0_5bar_MCRD_10000.root.h5\r\n",
      "-rw-r--r--   1 Gonzalo  staff   7.0M Oct 12 19:12 out0.h5\r\n"
     ]
    }
   ],
   "source": [
    "%ls -lah ../data/"
   ]
  },
  {
   "cell_type": "markdown",
   "metadata": {},
   "source": [
    "The execution time has increased by 25%, probably because of the zero-suppression algorithm. However the size of the output file is ~8 smaller."
   ]
  },
  {
   "cell_type": "code",
   "execution_count": null,
   "metadata": {
    "collapsed": true
   },
   "outputs": [],
   "source": []
  }
 ],
 "metadata": {
  "anaconda-cloud": {},
  "kernelspec": {
   "display_name": "Python [conda root]",
   "language": "python",
   "name": "conda-root-py"
  },
  "language_info": {
   "codemirror_mode": {
    "name": "ipython",
    "version": 2
   },
   "file_extension": ".py",
   "mimetype": "text/x-python",
   "name": "python",
   "nbconvert_exporter": "python",
   "pygments_lexer": "ipython2",
   "version": "2.7.12"
  }
 },
 "nbformat": 4,
 "nbformat_minor": 1
}
