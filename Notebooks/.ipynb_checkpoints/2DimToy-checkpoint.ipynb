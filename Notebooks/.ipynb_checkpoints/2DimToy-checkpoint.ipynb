{
 "cells": [
  {
   "cell_type": "code",
   "execution_count": 1,
   "metadata": {
    "collapsed": false
   },
   "outputs": [
    {
     "name": "stderr",
     "output_type": "stream",
     "text": [
      "/usr/local/lib/python2.7/site-packages/matplotlib/font_manager.py:273: UserWarning: Matplotlib is building the font cache using fc-list. This may take a moment.\n",
      "  warnings.warn('Matplotlib is building the font cache using fc-list. This may take a moment.')\n"
     ]
    }
   ],
   "source": [
    "from __future__ import print_function\n",
    "%matplotlib inline\n",
    "import pylab\n",
    "import matplotlib.pyplot as plt\n",
    "import matplotlib.cm as cm\n",
    "from matplotlib.patches import Ellipse\n",
    "from sklearn import metrics\n",
    "import random\n",
    "import tables\n",
    "import numpy as np\n",
    "import tensorflow as tf\n",
    "from sipm_param import *\n",
    "import copy\n",
    "\n",
    "NUM_ELPT = 1 # num points simulated in EL in same 'evt' \n",
    "nevts = 40000 # num events for each num EL pt\n",
    "train_size = 35000\n",
    "cv_size = 5000\n",
    "\n",
    "# Geometry definition.\n",
    "NSIPM = 8\n",
    "sipm_pitch = 10.       # distance between SiPMs\n",
    "sipm_edge_width = 5.   # distance between SiPM and edge of board\n",
    "\n",
    "# Variables for computing an EL point location.\n",
    "xlen = 2*sipm_edge_width + 7*sipm_pitch       # (mm) side length of rectangle\n",
    "ylen = 2*sipm_edge_width + 7*sipm_pitch       # (mm) side length of rectangle\n",
    "max_xy=2*sipm_edge_width + 7*sipm_pitch\n",
    "wbin = 2.0                                    # (mm) bin width\n",
    "\n",
    "# Compute the positions of the SiPMs.\n",
    "pos_x = np.ones(NSIPM**2)*sipm_edge_width + (np.ones(NSIPM*NSIPM)*range(NSIPM**2) % NSIPM)*sipm_pitch\n",
    "pos_y = np.ones(NSIPM**2)*sipm_edge_width + np.floor(np.ones(NSIPM*NSIPM)*range(NSIPM**2) / NSIPM)*sipm_pitch"
   ]
  },
  {
   "cell_type": "markdown",
   "metadata": {},
   "source": [
    "Generate El Hits"
   ]
  },
  {
   "cell_type": "code",
   "execution_count": 2,
   "metadata": {
    "collapsed": true
   },
   "outputs": [],
   "source": [
    "def make_xy():\n",
    "    if NUM_ELPT == 1: X = np.random.uniform(0,max_xy,(nevts,NUM_ELPT))\n",
    "    else:\n",
    "        X = np.empty((nevts,NUM_ELPT),dtype=np.float32)\n",
    "        \n",
    "        #space x coordinates out so that the net can differentiate between pt1, pt2, etc\n",
    "        for pt in range(NUM_ELPT): \n",
    "            X[:,pt] = np.random.uniform(pt*xlen/NUM_ELPT,(pt+1)*xlen/NUM_ELPT, nevts)\n",
    "  \n",
    "    Y = np.random.uniform(0,ylen,(nevts,NUM_ELPT))\n",
    "    return X,Y\n",
    "X,Y = make_xy()"
   ]
  },
  {
   "cell_type": "markdown",
   "metadata": {},
   "source": [
    "Simulate SiPM responses:"
   ]
  },
  {
   "cell_type": "code",
   "execution_count": 3,
   "metadata": {
    "collapsed": true
   },
   "outputs": [],
   "source": [
    "def generate_sipm_responses(NUM_ELPT,X,Y):    \n",
    "    sipm_res = np.zeros((nevts,NSIPM**2),dtype=np.float32) # SiPM responses\n",
    "    \n",
    "    evt = 0 \n",
    "    for x,y in zip(X,Y):         # each event\n",
    "        for xi,yi in zip(x,y):    # each hit\n",
    "            r = np.sqrt((xi - pos_x)**2 + (yi - pos_y)**2)\n",
    "            sipm_res[evt] = sipm_res[evt] + sipm_par(0,r) + sipm_par(1,r)\n",
    "        evt +=1\n",
    "\n",
    "\n",
    "    #Normalize for the DNN\n",
    "    sipm_res /= 2 # for 2 timebins\n",
    "    mean = np.mean(sipm_res)\n",
    "    mean = 0\n",
    "    std = np.std(sipm_res)\n",
    "    return (sipm_res - mean)/std\n",
    "\n",
    "sipm_res = generate_sipm_responses(NUM_ELPT,X,Y)"
   ]
  },
  {
   "cell_type": "markdown",
   "metadata": {},
   "source": [
    "Divide data into training and cv"
   ]
  },
  {
   "cell_type": "code",
   "execution_count": 4,
   "metadata": {
    "collapsed": false
   },
   "outputs": [
    {
     "name": "stdout",
     "output_type": "stream",
     "text": [
      "(35000, 64) (35000, 2)\n",
      "(5000, 64) (5000, 2)\n"
     ]
    }
   ],
   "source": [
    "def make_training_groups(sipm_res,X,Y):\n",
    "    # create training and cv data/labels. Note here they do not have to be preshuffled.\n",
    "    data_train = sipm_res[0:train_size]\n",
    "    data_cv    = sipm_res[train_size:(train_size + cv_size)]\n",
    "\n",
    "    lbl = np.empty((nevts,NUM_ELPT*2),dtype=np.float32)\n",
    "    lbl[:,0:NUM_ELPT] = X\n",
    "    lbl[:,NUM_ELPT:2*NUM_ELPT] = Y\n",
    "    lbl = (lbl - max_xy/2)/max_xy\n",
    "\n",
    "    lbl_train = lbl[0:train_size]\n",
    "    lbl_cv    = lbl[train_size:(train_size + cv_size)]\n",
    "    return data_train, data_cv, lbl_train, lbl_cv\n",
    "\n",
    "data_train, data_cv, lbl_train, lbl_cv = make_training_groups(sipm_res,X,Y)\n",
    "print(data_train.shape,lbl_train.shape)\n",
    "print(data_cv.shape,lbl_cv.shape)"
   ]
  },
  {
   "cell_type": "markdown",
   "metadata": {},
   "source": [
    "Visualize input data:"
   ]
  },
  {
   "cell_type": "code",
   "execution_count": 5,
   "metadata": {
    "collapsed": false
   },
   "outputs": [
    {
     "data": {
      "image/png": "[encoded data removed]",
      "text/plain": [
       "<matplotlib.figure.Figure at 0x11c669bd0>"
      ]
     },
     "metadata": {},
     "output_type": "display_data"
    }
   ],
   "source": [
    "def plot2dim(data, lbl, predictions=None):   \n",
    "    # Set up a plot.\n",
    "    fig = plt.figure();\n",
    "    ax1 = fig.add_subplot(111);\n",
    "    ax1.axis([0, xlen*1.1, 0, ylen*1.1]);\n",
    "\n",
    "    exevt = np.random.randint(lbl.shape[0])\n",
    "    xpt = lbl[exevt,:NUM_ELPT]*max_xy + max_xy/2\n",
    "    ypt = lbl[exevt,NUM_ELPT:]*max_xy + max_xy/2\n",
    "    sipm_map = data[exevt]/np.max(data[exevt])  \n",
    "\n",
    "    if   NUM_ELPT == 1: colors = ['r']\n",
    "    elif NUM_ELPT == 2: colors = ['r','g']\n",
    "    elif NUM_ELPT == 3: colors = ['r','g','b']\n",
    "    elif NUM_ELPT == 4: colors = ['r','g','b','a']\n",
    "  \n",
    "    # Create circles and plot them according to the probabilities. \n",
    "    for x,y,p in zip(pos_x, pos_y, sipm_map):\n",
    "\n",
    "        r = Ellipse(xy=(x,y), width=2., height=2.);\n",
    "        r.set_facecolor('0');\n",
    "        r.set_alpha(0.02 + 0.98*p); ##\n",
    "        ax1.add_artist(r);\n",
    "        #mrk = Ellipse(xy=(xpt[0],ypt[0]), width=2., height=2.);\n",
    "        #mrk.set_facecolor('r');\n",
    "        #ax1.add_artist(mrk);\n",
    "\n",
    "    for pt in range(NUM_ELPT):\n",
    "        mrk = Ellipse(xy=(xpt[pt],ypt[pt]), width=2., height=2.);\n",
    "        mrk.set_facecolor(colors[pt]); ##\n",
    "        ax1.add_artist(mrk);\n",
    "    \n",
    "    # if predictons given, plot them\n",
    "    if type(predictions) != type(None):\n",
    "        xpt = predictions[exevt,:NUM_ELPT]*max_xy + max_xy/2\n",
    "        ypt = predictions[exevt,NUM_ELPT:]*max_xy + max_xy/2\n",
    "        for pt in range(NUM_ELPT):\n",
    "            print('Prediction Coordinates:')\n",
    "            print(xpt[pt],ypt[pt])\n",
    "            mrk = Ellipse(xy=(xpt[pt],ypt[pt]), width=2., height=2.);\n",
    "            mrk.set_facecolor(colors[pt]); ##\n",
    "            ax1.add_artist(mrk);\n",
    "\n",
    "\n",
    "    # Show the plot.\n",
    "    plt.xlabel(\"x (mm)\");\n",
    "    plt.ylabel(\"y (mm)\");\n",
    "    plt.show()\n",
    "\n",
    "plot2dim(data_train,lbl_train)"
   ]
  },
  {
   "cell_type": "markdown",
   "metadata": {},
   "source": [
    "Train with linear regression.. It still works."
   ]
  },
  {
   "cell_type": "code",
   "execution_count": 6,
   "metadata": {
    "collapsed": false
   },
   "outputs": [
    {
     "name": "stdout",
     "output_type": "stream",
     "text": [
      "----training now----\n",
      "LinReg Score: 0.965362\n"
     ]
    }
   ],
   "source": [
    "from sklearn.linear_model import LinearRegression\n",
    "def LinearReg(data_train,lbl_train,data_cv,lbl_cv,train_size):\n",
    "    linreg = LinearRegression()\n",
    "    linreg_model = linreg.fit(data_train, lbl_train[:train_size])\n",
    "    print('----training now----')\n",
    "    print('LinReg Score: %f' %linreg_model.score(data_cv,lbl_cv))\n",
    "\n",
    "LinearReg(data_train,lbl_train,data_cv,lbl_cv,train_size)"
   ]
  },
  {
   "cell_type": "markdown",
   "metadata": {},
   "source": [
    "Set up our own single layer net:"
   ]
  },
  {
   "cell_type": "code",
   "execution_count": 7,
   "metadata": {
    "collapsed": false
   },
   "outputs": [],
   "source": [
    "# setup architecture\n",
    "batchsize = 64\n",
    "\n",
    "# for convenience define a pair of functions to set up weight variables and bias variables\n",
    "def weight_variable(shape):\n",
    "    in_neurons = 1\n",
    "    for ii in shape[:-1]: in_neurons *= ii\n",
    "    out_neurons = shape[-1]\n",
    "    init_rng = np.sqrt(3.0 / (in_neurons + out_neurons))    # change 3.0 to 6.0 to use with random_uniform\n",
    "    #initial = tf.random_uniform(shape,minval=-init_rng,maxval=init_rng)\n",
    "    initial = tf.truncated_normal(shape, stddev=init_rng)\n",
    "    return tf.Variable(initial)\n",
    "\n",
    "def bias_variable(shape):\n",
    "    initial = tf.constant(0.01, shape=shape)\n",
    "    return tf.Variable(initial)\n",
    "\n",
    "# set up the graph\n",
    "def setup_linreg_graph():\n",
    "    # It would be nice to add train_acc(uracy) and cv_acc so that these are calculated by tensorflow, but \n",
    "    # i haven't quite figured out how to make this work\n",
    "    \n",
    "    LinReg = tf.Graph()\n",
    "    with LinReg.as_default():\n",
    "\n",
    "        trainx  = tf.placeholder(tf.float32, [batchsize, NSIPM**2])    # SiPM response input for training\n",
    "        trainy_ = tf.placeholder(tf.float32, [batchsize, NUM_ELPT*2]) # training labels (xcoord of EL HIT)\n",
    "\n",
    "        W = weight_variable([NSIPM**2,NUM_ELPT*2])\n",
    "        b = bias_variable([NUM_ELPT*2])\n",
    "\n",
    "        train_yout = tf.matmul(trainx,W) + b  # predicted output for training data\n",
    "\n",
    "\n",
    "        loss = tf.nn.l2_loss(train_yout - trainy_)\n",
    "        optimizer = tf.train.GradientDescentOptimizer(0.0005).minimize(loss)\n",
    "\n",
    "        #train_acc = \n",
    "\n",
    "        # for checking cross validation accuracy\n",
    "        cvx     = tf.constant(data_cv)\n",
    "        cvy_    = tf.constant(lbl_cv)  \n",
    "        cv_yout = tf.matmul(cvx,   W) + b\n",
    "        #cv_acc  = \n",
    "    return LinReg,trainx,trainy_,train_yout,loss,optimizer,cv_yout"
   ]
  },
  {
   "cell_type": "markdown",
   "metadata": {},
   "source": [
    "Set up our own accuracy checker"
   ]
  },
  {
   "cell_type": "code",
   "execution_count": 8,
   "metadata": {
    "collapsed": true
   },
   "outputs": [],
   "source": [
    "# note accuracy can be negative\n",
    "def accuracy(pred,lbls): \n",
    "    return metrics.r2_score(lbls, pred)\n",
    "\n",
    "# error in average distance of a prediction point for its target\n",
    "def error(pred,lbls):\n",
    "    E=0.0\n",
    "    for pt in range(NUM_ELPT):\n",
    "        E = E + np.sqrt(\n",
    "            np.sum(((lbls[:,pt] - pred[:,pt])*80)**2 + ((lbls[:,pt+NUM_ELPT] - pred[:,pt+NUM_ELPT])*80)**2)/lbls.shape[0])\n",
    "    return E/NUM_ELPT"
   ]
  },
  {
   "cell_type": "markdown",
   "metadata": {},
   "source": [
    "Now lets run it... "
   ]
  },
  {
   "cell_type": "code",
   "execution_count": 9,
   "metadata": {
    "collapsed": false
   },
   "outputs": [
    {
     "name": "stdout",
     "output_type": "stream",
     "text": [
      "---Initialized---\n",
      "---Checking new accuracy---\n",
      "loss: 179.734\n",
      "training error: 189.596487639\n",
      "cv error      : 168.274195289\n",
      "---Checking new accuracy---\n",
      "loss: 0.162651\n",
      "training error: 5.70352196553\n",
      "cv error      : 6.14895392526\n",
      "---Checking new accuracy---\n",
      "loss: 0.241365\n",
      "training error: 6.9478717976\n",
      "cv error      : 6.13916168951\n"
     ]
    }
   ],
   "source": [
    "def runTF(graph, numsteps, batchsize, data_train, lbl_train, lbl_cv, multidim=False):\n",
    "    with tf.Session(graph=graph) as session:\n",
    "        tf.initialize_all_variables().run()\n",
    "        print(\"---Initialized---\")\n",
    "\n",
    "        for step in range(numsteps):\n",
    "            # compute offset: //change this at some point\n",
    "            offset = (step * batchsize) % (lbl_train.shape[0] - batchsize)\n",
    "\n",
    "            # feed batch for training -- This could be improved by training over epochs\n",
    "            # but for our purposes this should be sufficient\n",
    "            batch_data = data_train[offset:(offset + batchsize), :]\n",
    "            batch_labels = lbl_train[offset:(offset + batchsize), :]\n",
    "            feed_dict = {trainx : batch_data, trainy_ : batch_labels}   # where to find batch data/lbls\n",
    "            _, l, predictions = session.run([optimizer, loss, train_yout], feed_dict=feed_dict)\n",
    "\n",
    "            # compute error every 5k iterations\n",
    "            if step % 50000 == 0: \n",
    "                print('---Checking new accuracy---')\n",
    "                print('loss: '+ str(l))\n",
    "                if multidim:\n",
    "                    print('training error: ' + str(error(predictions, batch_labels)))\n",
    "                    cv_predictions = cv_yout.eval()\n",
    "                    print('cv error      : ' + str(error(cv_predictions, lbl_cv)))\n",
    "                else:      \n",
    "                    print('training accuracy: ' + str(accuracy(predictions, batch_labels)))\n",
    "                    cv_predictions = cv_yout.eval()\n",
    "                    print('cv accuracy      : ' + str(accuracy(cv_predictions, lbl_cv)))\n",
    "        return cv_predictions\n",
    "numsteps = 100001\n",
    "\n",
    "LinReg,trainx,trainy_,train_yout,loss,optimizer,cv_yout = setup_linreg_graph()\n",
    "cv_predictions = runTF(LinReg, numsteps, batchsize, data_train, lbl_train, lbl_cv,multidim=True)"
   ]
  },
  {
   "cell_type": "markdown",
   "metadata": {},
   "source": [
    "We could make the cv accuracy higher by tinkering with the learning rate/batch size/regularization, but for now the point is it works."
   ]
  },
  {
   "cell_type": "code",
   "execution_count": 10,
   "metadata": {
    "collapsed": false
   },
   "outputs": [
    {
     "name": "stdout",
     "output_type": "stream",
     "text": [
      "Prediction Coordinates:\n",
      "10.5294 -0.254368\n"
     ]
    },
    {
     "data": {
      "image/png": "[encoded data removed]",
      "text/plain": [
       "<matplotlib.figure.Figure at 0x11198d750>"
      ]
     },
     "metadata": {},
     "output_type": "display_data"
    }
   ],
   "source": [
    "plot2dim(data_cv,lbl_cv,cv_predictions)"
   ]
  },
  {
   "cell_type": "markdown",
   "metadata": {},
   "source": [
    "Now try with NUM_ELPT = 2 or 3"
   ]
  },
  {
   "cell_type": "code",
   "execution_count": 20,
   "metadata": {
    "collapsed": true
   },
   "outputs": [],
   "source": [
    "NUM_ELPT = 2\n",
    "\n",
    "# prep data\n",
    "X,Y = make_xy()\n",
    "sipm_res = generate_sipm_responses(NUM_ELPT,X,Y)\n",
    "data_train, data_cv, lbl_train, lbl_cv = make_training_groups(sipm_res,X,Y)"
   ]
  },
  {
   "cell_type": "markdown",
   "metadata": {},
   "source": [
    "Try sklearn"
   ]
  },
  {
   "cell_type": "code",
   "execution_count": 21,
   "metadata": {
    "collapsed": false
   },
   "outputs": [
    {
     "name": "stdout",
     "output_type": "stream",
     "text": [
      "----training now----\n",
      "LinReg Score: 0.949911\n"
     ]
    }
   ],
   "source": [
    "LinearReg(data_train,lbl_train,data_cv,lbl_cv,train_size)"
   ]
  },
  {
   "cell_type": "markdown",
   "metadata": {},
   "source": [
    "Try NN linear regression"
   ]
  },
  {
   "cell_type": "code",
   "execution_count": 22,
   "metadata": {
    "collapsed": false
   },
   "outputs": [
    {
     "name": "stdout",
     "output_type": "stream",
     "text": [
      "---Initialized---\n",
      "---Checking new accuracy---\n",
      "loss: 269.839\n",
      "training error: 163.95559584\n",
      "cv error      : 161.118534364\n",
      "---Checking new accuracy---\n",
      "loss: 0.409164\n",
      "training error: 6.38140857552\n",
      "cv error      : 5.83808252592\n",
      "---Checking new accuracy---\n",
      "loss: 0.322372\n",
      "training error: 5.67604765946\n",
      "cv error      : 5.84613182574\n"
     ]
    }
   ],
   "source": [
    "# run\n",
    "LinReg,trainx,trainy_,train_yout,loss,optimizer,cv_yout = setup_linreg_graph()\n",
    "cv_predictions = runTF(LinReg, numsteps, batchsize, data_train, lbl_train, lbl_cv,multidim=True)"
   ]
  },
  {
   "cell_type": "code",
   "execution_count": 24,
   "metadata": {
    "collapsed": false
   },
   "outputs": [
    {
     "name": "stdout",
     "output_type": "stream",
     "text": [
      "Prediction Coordinates:\n",
      "3.47636 64.7407\n",
      "Prediction Coordinates:\n",
      "69.3604 51.3249\n"
     ]
    },
    {
     "data": {
      "image/png": "[encoded data removed]",
      "text/plain": [
       "<matplotlib.figure.Figure at 0x11c5de410>"
      ]
     },
     "metadata": {},
     "output_type": "display_data"
    }
   ],
   "source": [
    "# graph sample\n",
    "plot2dim(data_cv,lbl_cv,cv_predictions)"
   ]
  },
  {
   "cell_type": "markdown",
   "metadata": {},
   "source": [
    "It works to some extent! Which is maybe slightly surprising. Still, the average error is a little over 7mm per point with 3 points, way too high. This could be improved by fine tuning some parameters, but it is better to just move to a bigger network, in keras."
   ]
  },
  {
   "cell_type": "code",
   "execution_count": null,
   "metadata": {
    "collapsed": true
   },
   "outputs": [],
   "source": []
  }
 ],
 "metadata": {
  "kernelspec": {
   "display_name": "Python 2",
   "language": "python",
   "name": "python2"
  },
  "language_info": {
   "codemirror_mode": {
    "name": "ipython",
    "version": 2
   },
   "file_extension": ".py",
   "mimetype": "text/x-python",
   "name": "python",
   "nbconvert_exporter": "python",
   "pygments_lexer": "ipython2",
   "version": "2.7.12"
  }
 },
 "nbformat": 4,
 "nbformat_minor": 0
}
