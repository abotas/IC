{
 "cells": [
  {
   "cell_type": "markdown",
   "metadata": {},
   "source": [
    "# Simulating FEE on MC data"
   ]
  },
  {
   "cell_type": "markdown",
   "metadata": {},
   "source": [
    "Develops the procedure to simulate the effect of FEE in NEXT MC data"
   ]
  },
  {
   "cell_type": "code",
   "execution_count": 1,
   "metadata": {
    "collapsed": false
   },
   "outputs": [],
   "source": [
    "import matplotlib\n",
    "import numpy as np\n",
    "from scipy import signal\n",
    "import matplotlib.pyplot as plt\n",
    "from DBLR_cal import BLRc\n",
    "from IPython.display import Image\n",
    "from IPython.core.display import HTML \n",
    "%matplotlib inline\n",
    "%load_ext autoreload\n",
    "%autoreload 2"
   ]
  },
  {
   "cell_type": "code",
   "execution_count": 2,
   "metadata": {
    "collapsed": true
   },
   "outputs": [],
   "source": [
    "import system_of_units as units\n",
    "import tables\n",
    "import mplFunctions as mpl\n",
    "import wfmFunctions as wfm"
   ]
  },
  {
   "cell_type": "code",
   "execution_count": 3,
   "metadata": {
    "collapsed": true
   },
   "outputs": [],
   "source": [
    "import FEE as FE"
   ]
  },
  {
   "cell_type": "code",
   "execution_count": 4,
   "metadata": {
    "collapsed": true
   },
   "outputs": [],
   "source": [
    "import time"
   ]
  },
  {
   "cell_type": "markdown",
   "metadata": {},
   "source": [
    "## Revised on:"
   ]
  },
  {
   "cell_type": "code",
   "execution_count": 5,
   "metadata": {
    "collapsed": false
   },
   "outputs": [
    {
     "name": "stdout",
     "output_type": "stream",
     "text": [
      "01/11/2016\n"
     ]
    }
   ],
   "source": [
    "print(time.strftime(\"%d/%m/%Y\"))"
   ]
  },
  {
   "cell_type": "code",
   "execution_count": 6,
   "metadata": {
    "collapsed": false
   },
   "outputs": [
    {
     "name": "stdout",
     "output_type": "stream",
     "text": [
      "20:30:11\n"
     ]
    }
   ],
   "source": [
    "print(time.strftime(\"%H:%M:%S\"))"
   ]
  },
  {
   "cell_type": "markdown",
   "metadata": {},
   "source": [
    "###  Code exercized"
   ]
  },
  {
   "cell_type": "code",
   "execution_count": 7,
   "metadata": {
    "collapsed": false
   },
   "outputs": [],
   "source": [
    "!pep8 ../Sierpe/FEE.py"
   ]
  },
  {
   "cell_type": "code",
   "execution_count": 8,
   "metadata": {
    "collapsed": true
   },
   "outputs": [],
   "source": [
    "!pyflakes ../Sierpe/FEE.py"
   ]
  },
  {
   "cell_type": "markdown",
   "metadata": {},
   "source": [
    "## SIMULATING THE EFFECT OF ELECTRONICS OVER MC DATA"
   ]
  },
  {
   "cell_type": "markdown",
   "metadata": {},
   "source": [
    "### Monte Carlo data"
   ]
  },
  {
   "cell_type": "markdown",
   "metadata": {},
   "source": [
    "1. Running on electrons of fixed energy (40, 1250, 2500 keV)  in the center of chamber.\n",
    "2. Nominal yield factor in current NEW conditions (7 bar, 7 kV in gate) is 574 photons/e\n",
    "3. Monte Carlo yield factor 690 photons/e"
   ]
  },
  {
   "cell_type": "code",
   "execution_count": 25,
   "metadata": {
    "collapsed": false
   },
   "outputs": [
    {
     "name": "stdout",
     "output_type": "stream",
     "text": [
      "Yield factor (MC to NEW running conditions, November, 2016 = 0.831884057971)\n"
     ]
    }
   ],
   "source": [
    "yield_factor = 574./690.\n",
    "print('Yield factor (MC to NEW running conditions, November, 2016 = {})'.format(yield_factor))"
   ]
  },
  {
   "cell_type": "markdown",
   "metadata": {},
   "source": [
    "### PROCEDURE"
   ]
  },
  {
   "cell_type": "markdown",
   "metadata": {},
   "source": [
    "1. Read MCRD (bins of 1 ns).\n",
    "2. Convolute with SPE response to form a signal_i (units of A)\n",
    "3. Decimate the signal.\n",
    "4. Simulate the effect of the filter."
   ]
  },
  {
   "cell_type": "markdown",
   "metadata": {},
   "source": [
    "#### List the files"
   ]
  },
  {
   "cell_type": "code",
   "execution_count": 82,
   "metadata": {
    "collapsed": false
   },
   "outputs": [
    {
     "name": "stdout",
     "output_type": "stream",
     "text": [
      "IC_Kr_500evt.h5\r\n",
      "dst_NEXT_v0_08_04_Kr_ACTIVE_0_0_5bar_MCRD_10000.root.h5\r\n",
      "dst_NEXT_v0_08_04_Na_ACTIVE_0_0_5bar_MCRD_10000.root.h5\r\n",
      "dst_NEXT_v0_08_04_Tl_SOURCE_PORT_ANODE_0_0_5bar_MCRD_10000.root.h5\r\n",
      "electrons.1250.0keV.z250mm.next_10.root.h5\r\n",
      "electrons.1250.0keV.z250mm.next_100.root.h5\r\n",
      "electrons.1250.0keV.z250mm.next_1000.root.h5\r\n",
      "electrons.2500.0keV.z250mm.next_10.root.h5\r\n",
      "electrons.2500.0keV.z250mm.next_100.root.h5\r\n",
      "electrons.2500.0keV.z250mm.next_1000.root.h5\r\n",
      "electrons.2500.0keV.z250mm.next_10000.root.h5\r\n",
      "electrons.40.0keV.z250mm.next_10.root.h5\r\n",
      "electrons.40.0keV.z250mm.next_100.root.h5\r\n",
      "electrons.40.0keV.z250mm.next_1000.root.h5\r\n",
      "electrons.40.0keV.z250mm.next_10000.root.h5\r\n",
      "run_2609_kr.root.h5\r\n"
     ]
    }
   ],
   "source": [
    "ls /Users/jjgomezcadenas/Documents/Development/NEXT/icdata"
   ]
  },
  {
   "cell_type": "markdown",
   "metadata": {},
   "source": [
    "#### Open and inspect files"
   ]
  },
  {
   "cell_type": "code",
   "execution_count": 83,
   "metadata": {
    "collapsed": true
   },
   "outputs": [],
   "source": [
    "kr2609 = tables.open_file('/Users/jjgomezcadenas/Documents/Development/NEXT/icdata/run_2609_kr.root.h5','r+')"
   ]
  },
  {
   "cell_type": "code",
   "execution_count": 84,
   "metadata": {
    "collapsed": false
   },
   "outputs": [
    {
     "data": {
      "text/plain": [
       "File(filename=/Users/jjgomezcadenas/Documents/Development/NEXT/icdata/run_2609_kr.root.h5, title='', mode='r+', root_uep='/', filters=Filters(complevel=4, complib='zlib', shuffle=True, fletcher32=False, least_significant_digit=None))\n",
       "/ (RootGroup) ''\n",
       "/Detector (Group) ''\n",
       "/Detector/DetectorGeometry (Table(1,)) ''\n",
       "  description := {\n",
       "  \"x_det\": Float32Col(shape=(2,), dflt=0.0, pos=0),\n",
       "  \"y_det\": Float32Col(shape=(2,), dflt=0.0, pos=1),\n",
       "  \"z_det\": Float32Col(shape=(2,), dflt=0.0, pos=2),\n",
       "  \"r_det\": Float32Col(shape=(), dflt=0.0, pos=3)}\n",
       "  byteorder := 'little'\n",
       "  chunkshape := (2340,)\n",
       "/RD (Group) ''\n",
       "/RD/pmtblr (EArray(1365, 12, 48000), shuffle, zlib(4)) ''\n",
       "  atom := Int16Atom(shape=(), dflt=0)\n",
       "  maindim := 0\n",
       "  flavor := 'numpy'\n",
       "  byteorder := 'little'\n",
       "  chunkshape := (1, 5, 48000)\n",
       "/RD/pmtrwf (EArray(1365, 12, 48000), shuffle, zlib(4)) ''\n",
       "  atom := Int16Atom(shape=(), dflt=0)\n",
       "  maindim := 0\n",
       "  flavor := 'numpy'\n",
       "  byteorder := 'little'\n",
       "  chunkshape := (1, 5, 48000)\n",
       "/RD/sipmrwf (EArray(1365, 1792, 1200), shuffle, zlib(4)) ''\n",
       "  atom := Int16Atom(shape=(), dflt=0)\n",
       "  maindim := 0\n",
       "  flavor := 'numpy'\n",
       "  byteorder := 'little'\n",
       "  chunkshape := (1, 218, 1200)\n",
       "/Run (Group) ''\n",
       "/Run/event_number (EArray(1365,), shuffle, zlib(4)) ''\n",
       "  atom := Int16Atom(shape=(), dflt=0)\n",
       "  maindim := 0\n",
       "  flavor := 'numpy'\n",
       "  byteorder := 'little'\n",
       "  chunkshape := (32768,)\n",
       "/Run/runInfo (Table(1,)) ''\n",
       "  description := {\n",
       "  \"run_number\": Int32Col(shape=(), dflt=0, pos=0)}\n",
       "  byteorder := 'little'\n",
       "  chunkshape := (16384,)\n",
       "/Sensors (Group) ''\n",
       "/Sensors/DataBLR (Table(12,)) ''\n",
       "  description := {\n",
       "  \"channel\": Int32Col(shape=(), dflt=0, pos=0),\n",
       "  \"sensorID\": Int32Col(shape=(), dflt=0, pos=1),\n",
       "  \"position\": Float32Col(shape=(3,), dflt=0.0, pos=2),\n",
       "  \"coeff\": Float64Col(shape=(), dflt=0.0, pos=3),\n",
       "  \"adc_to_pes\": Float32Col(shape=(), dflt=0.0, pos=4),\n",
       "  \"noise_rms\": Float32Col(shape=(), dflt=0.0, pos=5)}\n",
       "  byteorder := 'little'\n",
       "  chunkshape := (1820,)\n",
       "/Sensors/DataPMT (Table(12,)) ''\n",
       "  description := {\n",
       "  \"channel\": Int32Col(shape=(), dflt=0, pos=0),\n",
       "  \"sensorID\": Int32Col(shape=(), dflt=0, pos=1),\n",
       "  \"position\": Float32Col(shape=(3,), dflt=0.0, pos=2),\n",
       "  \"coeff\": Float64Col(shape=(), dflt=0.0, pos=3),\n",
       "  \"adc_to_pes\": Float32Col(shape=(), dflt=0.0, pos=4),\n",
       "  \"noise_rms\": Float32Col(shape=(), dflt=0.0, pos=5)}\n",
       "  byteorder := 'little'\n",
       "  chunkshape := (1820,)\n",
       "/Sensors/DataSiPM (Table(1792,)) ''\n",
       "  description := {\n",
       "  \"channel\": Int32Col(shape=(), dflt=0, pos=0),\n",
       "  \"sensorID\": Int32Col(shape=(), dflt=0, pos=1),\n",
       "  \"position\": Float32Col(shape=(3,), dflt=0.0, pos=2),\n",
       "  \"coeff\": Float64Col(shape=(), dflt=0.0, pos=3),\n",
       "  \"adc_to_pes\": Float32Col(shape=(), dflt=0.0, pos=4),\n",
       "  \"noise_rms\": Float32Col(shape=(), dflt=0.0, pos=5)}\n",
       "  byteorder := 'little'\n",
       "  chunkshape := (1820,)"
      ]
     },
     "execution_count": 84,
     "metadata": {},
     "output_type": "execute_result"
    }
   ],
   "source": [
    "kr2609"
   ]
  },
  {
   "cell_type": "code",
   "execution_count": 96,
   "metadata": {
    "collapsed": true
   },
   "outputs": [],
   "source": [
    "e2500 = tables.open_file('/Users/jjgomezcadenas/Documents/Development/NEXT/icdata/electrons.2500.0keV.z250mm.next_1000.root.h5','r+')"
   ]
  },
  {
   "cell_type": "code",
   "execution_count": 85,
   "metadata": {
    "collapsed": true
   },
   "outputs": [],
   "source": [
    "e1250 = tables.open_file('/Users/jjgomezcadenas/Documents/Development/NEXT/icdata/electrons.1250.0keV.z250mm.next_1000.root.h5','r+')"
   ]
  },
  {
   "cell_type": "code",
   "execution_count": 11,
   "metadata": {
    "collapsed": true
   },
   "outputs": [],
   "source": [
    "e40 = tables.open_file('/Users/jjgomezcadenas/Documents/Development/NEXT/icdata/electrons.40.0keV.z250mm.next_1000.root.h5','r+')"
   ]
  },
  {
   "cell_type": "markdown",
   "metadata": {},
   "source": [
    "#### loading the PMTRD vector: train of SPE in bins of 1 ns"
   ]
  },
  {
   "cell_type": "code",
   "execution_count": 112,
   "metadata": {
    "collapsed": true
   },
   "outputs": [],
   "source": [
    "pmtrd = e40.root.pmtrd"
   ]
  },
  {
   "cell_type": "markdown",
   "metadata": {},
   "source": [
    "#### Plot pmtrd for the first event, first PMT"
   ]
  },
  {
   "cell_type": "code",
   "execution_count": 113,
   "metadata": {
    "collapsed": false
   },
   "outputs": [
    {
     "data": {
      "text/plain": [
       "[<matplotlib.lines.Line2D at 0x1228d7f10>]"
      ]
     },
     "execution_count": 113,
     "metadata": {},
     "output_type": "execute_result"
    },
    {
     "data": {
      "image/png": "[encoded data removed]",
      "text/plain": [
       "<matplotlib.figure.Figure at 0x123a7f0d0>"
      ]
     },
     "metadata": {},
     "output_type": "display_data"
    }
   ],
   "source": [
    "plt.plot(pmtrd[0,0])"
   ]
  },
  {
   "cell_type": "code",
   "execution_count": 114,
   "metadata": {
    "collapsed": false
   },
   "outputs": [
    {
     "data": {
      "image/png": "[encoded data removed]",
      "text/plain": [
       "<matplotlib.figure.Figure at 0x123b51d10>"
      ]
     },
     "metadata": {},
     "output_type": "display_data"
    }
   ],
   "source": [
    "mpl.plts(pmtrd[0,0], signal_start=120000, signal_end=140000, offset=1)"
   ]
  },
  {
   "cell_type": "code",
   "execution_count": 115,
   "metadata": {
    "collapsed": false
   },
   "outputs": [
    {
     "name": "stdout",
     "output_type": "stream",
     "text": [
      "area of kripton events in pe =1210\n"
     ]
    }
   ],
   "source": [
    "print('area of kripton events in pe ={}'.format(np.sum(pmtrd[0,0])))"
   ]
  },
  {
   "cell_type": "markdown",
   "metadata": {},
   "source": [
    "#### signal_i : convolute pmtrd with spe"
   ]
  },
  {
   "cell_type": "code",
   "execution_count": 116,
   "metadata": {
    "collapsed": true
   },
   "outputs": [],
   "source": [
    "spe = FE.SPE()"
   ]
  },
  {
   "cell_type": "code",
   "execution_count": 117,
   "metadata": {
    "collapsed": false
   },
   "outputs": [
    {
     "data": {
      "text/plain": [
       "\n",
       "        (PMT gain = 4.5e+06, amplitude = 1.2e+02 muA\n",
       "         slope =  5.00 ns, flat =  1.00 ns)\n",
       "        "
      ]
     },
     "execution_count": 117,
     "metadata": {},
     "output_type": "execute_result"
    }
   ],
   "source": [
    "spe"
   ]
  },
  {
   "cell_type": "code",
   "execution_count": 118,
   "metadata": {
    "collapsed": false
   },
   "outputs": [],
   "source": [
    "signal_i = FE.spe_pulse_from_vector(spe,pmtrd[0,0])  # in current units"
   ]
  },
  {
   "cell_type": "markdown",
   "metadata": {},
   "source": [
    "#### Create FEE instance"
   ]
  },
  {
   "cell_type": "code",
   "execution_count": 119,
   "metadata": {
    "collapsed": false
   },
   "outputs": [],
   "source": [
    "fee = FE.FEE(noise_FEEPMB_rms=1*FE.NOISE_I,noise_DAQ_rms=FE.NOISE_DAQ)"
   ]
  },
  {
   "cell_type": "code",
   "execution_count": 120,
   "metadata": {
    "collapsed": false
   },
   "outputs": [
    {
     "data": {
      "text/plain": [
       "\n",
       "        (C1 =  2714.0 nf,\n",
       "         C2 =     8.0 nf,\n",
       "         R1 =  1567.0 ohm,\n",
       "         Zin =    62.0 ohm,\n",
       "         gain =   582.2 ohm,\n",
       "         f_sample =    40.0 MHZ,\n",
       "         freq_LHPF =   12.25 kHz,\n",
       "         freq_LPF1 =    3.00 MHZ,\n",
       "         freq_LPF2 =   10.00 MHZ,\n",
       "         freq_LHPFd =  0.00061,\n",
       "         freq_LPF1d =    0.15,\n",
       "         freq_LPF2d =    0.50,\n",
       "         noise_FEEPMB_rms =    0.54 muA,\n",
       "         LSB =    0.39 mV,\n",
       "         volts to adc = 0.00039,\n",
       "         DAQnoise_rms =    0.31\n",
       "        )\n",
       "        "
      ]
     },
     "execution_count": 120,
     "metadata": {},
     "output_type": "execute_result"
    }
   ],
   "source": [
    "fee"
   ]
  },
  {
   "cell_type": "markdown",
   "metadata": {},
   "source": [
    "#### plot input function"
   ]
  },
  {
   "cell_type": "code",
   "execution_count": 121,
   "metadata": {
    "collapsed": false
   },
   "outputs": [
    {
     "data": {
      "text/plain": [
       "[<matplotlib.lines.Line2D at 0x122895050>]"
      ]
     },
     "execution_count": 121,
     "metadata": {},
     "output_type": "execute_result"
    },
    {
     "data": {
      "image/png": "[encoded data removed]",
      "text/plain": [
       "<matplotlib.figure.Figure at 0x1228be350>"
      ]
     },
     "metadata": {},
     "output_type": "display_data"
    }
   ],
   "source": [
    "plt.plot(range(0,np.size(signal_i),1),signal_i*FE.i_to_adc(fee))   #plot input signal in adc counts"
   ]
  },
  {
   "cell_type": "code",
   "execution_count": 122,
   "metadata": {
    "collapsed": false
   },
   "outputs": [
    {
     "data": {
      "image/png": "[encoded data removed]",
      "text/plain": [
       "<matplotlib.figure.Figure at 0x122dae650>"
      ]
     },
     "metadata": {},
     "output_type": "display_data"
    }
   ],
   "source": [
    "mpl.plts(signal_i*FE.i_to_adc(fee), signal_start=120000, signal_end=140000, offset=2)"
   ]
  },
  {
   "cell_type": "markdown",
   "metadata": {},
   "source": [
    "### Decimate"
   ]
  },
  {
   "cell_type": "markdown",
   "metadata": {},
   "source": [
    "#### sampling frequencies"
   ]
  },
  {
   "cell_type": "code",
   "execution_count": 123,
   "metadata": {
    "collapsed": false
   },
   "outputs": [],
   "source": [
    "f_sample1 = (1./(1*units.ns))"
   ]
  },
  {
   "cell_type": "code",
   "execution_count": 124,
   "metadata": {
    "collapsed": false
   },
   "outputs": [],
   "source": [
    "f_sample2 = (1./(25*units.ns))"
   ]
  },
  {
   "cell_type": "code",
   "execution_count": 125,
   "metadata": {
    "collapsed": false
   },
   "outputs": [
    {
     "data": {
      "text/plain": [
       "1000.0"
      ]
     },
     "execution_count": 125,
     "metadata": {},
     "output_type": "execute_result"
    }
   ],
   "source": [
    "f_sample1/units.MHZ"
   ]
  },
  {
   "cell_type": "code",
   "execution_count": 126,
   "metadata": {
    "collapsed": false
   },
   "outputs": [
    {
     "data": {
      "text/plain": [
       "40.0"
      ]
     },
     "execution_count": 126,
     "metadata": {},
     "output_type": "execute_result"
    }
   ],
   "source": [
    "f_sample2/units.MHZ"
   ]
  },
  {
   "cell_type": "code",
   "execution_count": 127,
   "metadata": {
    "collapsed": true
   },
   "outputs": [],
   "source": [
    "scale = int(f_sample1/f_sample2)"
   ]
  },
  {
   "cell_type": "code",
   "execution_count": 128,
   "metadata": {
    "collapsed": false
   },
   "outputs": [
    {
     "data": {
      "text/plain": [
       "25"
      ]
     },
     "execution_count": 128,
     "metadata": {},
     "output_type": "execute_result"
    }
   ],
   "source": [
    "scale"
   ]
  },
  {
   "cell_type": "markdown",
   "metadata": {},
   "source": [
    "### Decimation"
   ]
  },
  {
   "cell_type": "code",
   "execution_count": 129,
   "metadata": {
    "collapsed": true
   },
   "outputs": [],
   "source": [
    "signal_d = FE.daq_decimator(f_sample1, f_sample2, signal_i)"
   ]
  },
  {
   "cell_type": "code",
   "execution_count": 130,
   "metadata": {
    "collapsed": false
   },
   "outputs": [
    {
     "data": {
      "text/plain": [
       "800000"
      ]
     },
     "execution_count": 130,
     "metadata": {},
     "output_type": "execute_result"
    }
   ],
   "source": [
    "len(signal_i)"
   ]
  },
  {
   "cell_type": "code",
   "execution_count": 131,
   "metadata": {
    "collapsed": false
   },
   "outputs": [
    {
     "data": {
      "text/plain": [
       "32000"
      ]
     },
     "execution_count": 131,
     "metadata": {},
     "output_type": "execute_result"
    }
   ],
   "source": [
    "len(signal_d)"
   ]
  },
  {
   "cell_type": "code",
   "execution_count": 132,
   "metadata": {
    "collapsed": false
   },
   "outputs": [
    {
     "data": {
      "text/plain": [
       "[<matplotlib.lines.Line2D at 0x119c76750>]"
      ]
     },
     "execution_count": 132,
     "metadata": {},
     "output_type": "execute_result"
    },
    {
     "data": {
      "image/png": "[encoded data removed]",
      "text/plain": [
       "<matplotlib.figure.Figure at 0x123803610>"
      ]
     },
     "metadata": {},
     "output_type": "display_data"
    }
   ],
   "source": [
    "plt.plot(signal_d)"
   ]
  },
  {
   "cell_type": "code",
   "execution_count": 133,
   "metadata": {
    "collapsed": false
   },
   "outputs": [
    {
     "data": {
      "image/png": "[encoded data removed]",
      "text/plain": [
       "<matplotlib.figure.Figure at 0x1228ad690>"
      ]
     },
     "metadata": {},
     "output_type": "display_data"
    }
   ],
   "source": [
    "mpl.plts(signal_d, signal_start=4000, signal_end=6000, offset=2)"
   ]
  },
  {
   "cell_type": "markdown",
   "metadata": {},
   "source": [
    "### Convolve with FEE"
   ]
  },
  {
   "cell_type": "code",
   "execution_count": 134,
   "metadata": {
    "collapsed": true
   },
   "outputs": [],
   "source": [
    "signal_fee = FE.signal_v_fee(fee, signal_d)*FE.v_to_adc(fee)  #in adc counts"
   ]
  },
  {
   "cell_type": "code",
   "execution_count": 135,
   "metadata": {
    "collapsed": false
   },
   "outputs": [
    {
     "data": {
      "image/png": "[encoded data removed]",
      "text/plain": [
       "<matplotlib.figure.Figure at 0x1225fdc50>"
      ]
     },
     "metadata": {},
     "output_type": "display_data"
    }
   ],
   "source": [
    "mpl.plts(signal_fee, signal_start=4000, signal_end=10000, offset=2)"
   ]
  },
  {
   "cell_type": "markdown",
   "metadata": {},
   "source": [
    "### Add DAQ noise"
   ]
  },
  {
   "cell_type": "code",
   "execution_count": 136,
   "metadata": {
    "collapsed": false
   },
   "outputs": [],
   "source": [
    "signal_daq = FE.noise_adc(fee, signal_fee)"
   ]
  },
  {
   "cell_type": "code",
   "execution_count": 140,
   "metadata": {
    "collapsed": false
   },
   "outputs": [
    {
     "data": {
      "image/png": "[encoded data removed]",
      "text/plain": [
       "<matplotlib.figure.Figure at 0x119c79ed0>"
      ]
     },
     "metadata": {},
     "output_type": "display_data"
    }
   ],
   "source": [
    "mpl.plts(signal_daq, signal_start=3000, signal_end=10000, offset=2)"
   ]
  },
  {
   "cell_type": "markdown",
   "metadata": {},
   "source": [
    "### Total noise"
   ]
  },
  {
   "cell_type": "code",
   "execution_count": 141,
   "metadata": {
    "collapsed": false
   },
   "outputs": [
    {
     "name": "stdout",
     "output_type": "stream",
     "text": [
      "Out Noise FEE (LSB_rms) = 0.854629734911\n"
     ]
    }
   ],
   "source": [
    "print(\"Out Noise FEE (LSB_rms) = {}\".format(np.std(signal_daq[3000:4000],ddof=1)))"
   ]
  },
  {
   "cell_type": "markdown",
   "metadata": {},
   "source": [
    "## Deconvolution"
   ]
  },
  {
   "cell_type": "markdown",
   "metadata": {
    "collapsed": true
   },
   "source": [
    "### Remove the effect of filter"
   ]
  },
  {
   "cell_type": "markdown",
   "metadata": {},
   "source": [
    "#### cleaning filter"
   ]
  },
  {
   "cell_type": "code",
   "execution_count": 142,
   "metadata": {
    "collapsed": true
   },
   "outputs": [],
   "source": [
    "signal_c = FE.signal_clean(fee, signal_daq)"
   ]
  },
  {
   "cell_type": "code",
   "execution_count": 143,
   "metadata": {
    "collapsed": false
   },
   "outputs": [
    {
     "data": {
      "image/png": "[encoded data removed]",
      "text/plain": [
       "<matplotlib.figure.Figure at 0x11d20df50>"
      ]
     },
     "metadata": {},
     "output_type": "display_data"
    }
   ],
   "source": [
    "mpl.plts(signal_c, signal_start=4000, signal_end=10000, offset=2)"
   ]
  },
  {
   "cell_type": "code",
   "execution_count": 144,
   "metadata": {
    "collapsed": true
   },
   "outputs": [],
   "source": [
    "def deconv_simple(signal,coef):\n",
    "    \"\"\"\n",
    "    Deconvolution of the fine-grained fee signal (no DAQ)\n",
    "    no noise\n",
    "    using true start and end of signals\n",
    "    \"\"\"\n",
    "\n",
    "    acum = np.zeros(len(signal))\n",
    "\n",
    "    acum[0]=coef*signal[0]\n",
    "    for n in np.arange(1,len(signal)):\n",
    "        acum[n] = acum[n-1] + signal[n]\n",
    "\n",
    "    signal_r = signal + coef*acum\n",
    "\n",
    "    return signal_r, acum"
   ]
  },
  {
   "cell_type": "code",
   "execution_count": 145,
   "metadata": {
    "collapsed": true
   },
   "outputs": [],
   "source": [
    "signal_r, acum = deconv_simple(signal_c,coef=fee.freq_LHPFd*np.pi)"
   ]
  },
  {
   "cell_type": "code",
   "execution_count": 146,
   "metadata": {
    "collapsed": false
   },
   "outputs": [
    {
     "data": {
      "image/png": "[encoded data removed]",
      "text/plain": [
       "<matplotlib.figure.Figure at 0x11d1e67d0>"
      ]
     },
     "metadata": {},
     "output_type": "display_data"
    }
   ],
   "source": [
    "mpl.plts(signal_r, signal_start=4000, signal_end=10000, offset=2)"
   ]
  },
  {
   "cell_type": "code",
   "execution_count": 147,
   "metadata": {
    "collapsed": false
   },
   "outputs": [
    {
     "data": {
      "text/plain": [
       "[<matplotlib.lines.Line2D at 0x1237fb810>]"
      ]
     },
     "execution_count": 147,
     "metadata": {},
     "output_type": "execute_result"
    },
    {
     "data": {
      "image/png": "[encoded data removed]",
      "text/plain": [
       "<matplotlib.figure.Figure at 0x124017910>"
      ]
     },
     "metadata": {},
     "output_type": "display_data"
    }
   ],
   "source": [
    "plt.plot(acum)"
   ]
  },
  {
   "cell_type": "code",
   "execution_count": 148,
   "metadata": {
    "collapsed": false
   },
   "outputs": [
    {
     "data": {
      "image/png": "[encoded data removed]",
      "text/plain": [
       "<matplotlib.figure.Figure at 0x122b30690>"
      ]
     },
     "metadata": {},
     "output_type": "display_data"
    }
   ],
   "source": [
    "plt.figure(figsize=(6, 6))\n",
    "plt.plot(signal_d[4000:5500]*FE.i_to_adc(fee))\n",
    "plt.plot(signal_r[4000:5500],'r--', linewidth=1)\n",
    "plt.show()"
   ]
  },
  {
   "cell_type": "code",
   "execution_count": 149,
   "metadata": {
    "collapsed": false
   },
   "outputs": [
    {
     "data": {
      "image/png": "[encoded data removed]",
      "text/plain": [
       "<matplotlib.figure.Figure at 0x1225fda50>"
      ]
     },
     "metadata": {},
     "output_type": "display_data"
    }
   ],
   "source": [
    "plt.figure(figsize=(6, 6))\n",
    "plt.plot(signal_d[4950:5150]*FE.i_to_adc(fee))\n",
    "plt.plot(signal_r[4950:5150],'r--', linewidth=1)\n",
    "plt.show()"
   ]
  },
  {
   "cell_type": "code",
   "execution_count": 150,
   "metadata": {
    "collapsed": false
   },
   "outputs": [
    {
     "name": "stdout",
     "output_type": "stream",
     "text": [
      "Input Energy = 52608.1507606\n",
      "Reconstructed Energy = 52608.0058092\n",
      "Error in Energy Computation (%) = 0.000275530299853\n"
     ]
    }
   ],
   "source": [
    "energy_mea=np.sum(signal_r[4950:5150])\n",
    "energy_in=np.sum(signal_d[4950:5150]*FE.i_to_adc(fee))\n",
    "print('Input Energy = {}'.format(energy_in))\n",
    "print('Reconstructed Energy = {}'.format(energy_mea))\n",
    "print('Error in Energy Computation (%) = {}'.format((energy_in-energy_mea)/energy_in*100))"
   ]
  },
  {
   "cell_type": "code",
   "execution_count": 178,
   "metadata": {
    "collapsed": true
   },
   "outputs": [],
   "source": [
    "def fee_response(h5f, event=0, pmt=0):\n",
    "    \"\"\"\n",
    "    returns:\n",
    "    input function (after daq decimation)\n",
    "    convoluted function (after FEE)\n",
    "    recovered function (after cleaning filter and BLR)\n",
    "    all in adc counts\n",
    "    \"\"\"\n",
    "    pmtrd = h5f.root.pmtrd\n",
    "    spe = FE.SPE()\n",
    "    signal_i = FE.spe_pulse_from_vector(spe, pmtrd[event,pmt])  # in current units\n",
    "    fee = FE.FEE(noise_FEEPMB_rms=1*FE.NOISE_I,noise_DAQ_rms=FE.NOISE_DAQ)\n",
    "    signal_d = FE.daq_decimator(FE.f_mc, FE.f_sample, signal_i)\n",
    "    signal_fee = FE.signal_v_fee(fee, signal_d)*FE.v_to_adc(fee)  #in adc counts\n",
    "    signal_daq = FE.noise_adc(fee, signal_fee)\n",
    "    signal_c = FE.signal_clean(fee, signal_daq)\n",
    "    signal_r, acum = deconv_simple(signal_c,coef=fee.freq_LHPFd*np.pi)\n",
    "    \n",
    "    return signal_d*FE.i_to_adc(fee), signal_daq, signal_r"
   ]
  },
  {
   "cell_type": "code",
   "execution_count": 193,
   "metadata": {
    "collapsed": true
   },
   "outputs": [],
   "source": [
    "signal_d, signal_daq, signal_r = fee_response(e1250, event=10, pmt=0)"
   ]
  },
  {
   "cell_type": "code",
   "execution_count": 194,
   "metadata": {
    "collapsed": false
   },
   "outputs": [
    {
     "data": {
      "text/plain": [
       "[<matplotlib.lines.Line2D at 0x11b4b6790>]"
      ]
     },
     "execution_count": 194,
     "metadata": {},
     "output_type": "execute_result"
    },
    {
     "data": {
      "image/png": "[encoded data removed]",
      "text/plain": [
       "<matplotlib.figure.Figure at 0x127f0da90>"
      ]
     },
     "metadata": {},
     "output_type": "display_data"
    }
   ],
   "source": [
    "plt.plot(signal_d)"
   ]
  },
  {
   "cell_type": "code",
   "execution_count": 195,
   "metadata": {
    "collapsed": false
   },
   "outputs": [
    {
     "data": {
      "image/png": "[encoded data removed]",
      "text/plain": [
       "<matplotlib.figure.Figure at 0x11b4cfa10>"
      ]
     },
     "metadata": {},
     "output_type": "display_data"
    }
   ],
   "source": [
    "mpl.plts(signal_d, signal_start=3000, signal_end=10000, offset=2)"
   ]
  },
  {
   "cell_type": "code",
   "execution_count": 196,
   "metadata": {
    "collapsed": false
   },
   "outputs": [
    {
     "data": {
      "image/png": "[encoded data removed]",
      "text/plain": [
       "<matplotlib.figure.Figure at 0x11c5d9390>"
      ]
     },
     "metadata": {},
     "output_type": "display_data"
    }
   ],
   "source": [
    "mpl.plts(signal_daq, signal_start=3000, signal_end=10000, offset=2)"
   ]
  },
  {
   "cell_type": "code",
   "execution_count": 197,
   "metadata": {
    "collapsed": false
   },
   "outputs": [
    {
     "name": "stdout",
     "output_type": "stream",
     "text": [
      "Out Noise FEE (LSB_rms) = 0.887336365111\n"
     ]
    }
   ],
   "source": [
    "print(\"Out Noise FEE (LSB_rms) = {}\".format(np.std(signal_daq[3000:4000],ddof=1)))"
   ]
  },
  {
   "cell_type": "code",
   "execution_count": 198,
   "metadata": {
    "collapsed": false
   },
   "outputs": [
    {
     "data": {
      "image/png": "[encoded data removed]",
      "text/plain": [
       "<matplotlib.figure.Figure at 0x11c5d93d0>"
      ]
     },
     "metadata": {},
     "output_type": "display_data"
    }
   ],
   "source": [
    "mpl.plts(signal_r, signal_start=3000, signal_end=10000, offset=2)"
   ]
  },
  {
   "cell_type": "code",
   "execution_count": 199,
   "metadata": {
    "collapsed": false
   },
   "outputs": [
    {
     "data": {
      "image/png": "[encoded data removed]",
      "text/plain": [
       "<matplotlib.figure.Figure at 0x119ccf4d0>"
      ]
     },
     "metadata": {},
     "output_type": "display_data"
    }
   ],
   "source": [
    "plt.figure(figsize=(6, 6))\n",
    "plt.plot(signal_d[4950:7000])\n",
    "plt.plot(signal_r[4950:7000],'r--', linewidth=1)\n",
    "plt.show()"
   ]
  },
  {
   "cell_type": "code",
   "execution_count": 200,
   "metadata": {
    "collapsed": false
   },
   "outputs": [
    {
     "name": "stdout",
     "output_type": "stream",
     "text": [
      "Input Energy = 1675713.79741\n",
      "Reconstructed Energy = 1676291.87429\n",
      "Error in Energy Computation (%) = 0.0344973514647\n"
     ]
    }
   ],
   "source": [
    "energy_mea=np.sum(signal_r[4950:7000])\n",
    "energy_in=np.sum(signal_d[4950:7000])\n",
    "print('Input Energy = {}'.format(energy_in))\n",
    "print('Reconstructed Energy = {}'.format(energy_mea))\n",
    "print('Error in Energy Computation (%) = {}'.format(abs(energy_in-energy_mea)/energy_in*100))"
   ]
  },
  {
   "cell_type": "code",
   "execution_count": 202,
   "metadata": {
    "collapsed": true
   },
   "outputs": [],
   "source": [
    "signal_d, signal_daq, signal_r = fee_response(e2500, event=100, pmt=0)"
   ]
  },
  {
   "cell_type": "code",
   "execution_count": 203,
   "metadata": {
    "collapsed": false
   },
   "outputs": [
    {
     "data": {
      "text/plain": [
       "[<matplotlib.lines.Line2D at 0x11c7eb550>]"
      ]
     },
     "execution_count": 203,
     "metadata": {},
     "output_type": "execute_result"
    },
    {
     "data": {
      "image/png": "[encoded data removed]",
      "text/plain": [
       "<matplotlib.figure.Figure at 0x11d219c90>"
      ]
     },
     "metadata": {},
     "output_type": "display_data"
    }
   ],
   "source": [
    "plt.plot(signal_d)"
   ]
  },
  {
   "cell_type": "code",
   "execution_count": 204,
   "metadata": {
    "collapsed": false
   },
   "outputs": [
    {
     "data": {
      "image/png": "[encoded data removed]",
      "text/plain": [
       "<matplotlib.figure.Figure at 0x122d0a990>"
      ]
     },
     "metadata": {},
     "output_type": "display_data"
    }
   ],
   "source": [
    "mpl.plts(signal_d, signal_start=3000, signal_end=20000, offset=10)"
   ]
  },
  {
   "cell_type": "code",
   "execution_count": 206,
   "metadata": {
    "collapsed": false
   },
   "outputs": [
    {
     "data": {
      "image/png": "[encoded data removed]",
      "text/plain": [
       "<matplotlib.figure.Figure at 0x120d502d0>"
      ]
     },
     "metadata": {},
     "output_type": "display_data"
    }
   ],
   "source": [
    "mpl.plts(signal_daq, signal_start=3000, signal_end=20000, offset=10)"
   ]
  },
  {
   "cell_type": "code",
   "execution_count": 177,
   "metadata": {
    "collapsed": false
   },
   "outputs": [
    {
     "data": {
      "image/png": "[encoded data removed]",
      "text/plain": [
       "<matplotlib.figure.Figure at 0x11c7eb6d0>"
      ]
     },
     "metadata": {},
     "output_type": "display_data"
    }
   ],
   "source": [
    "mpl.plts(signal_r, signal_start=3000, signal_end=20000, offset=10)"
   ]
  },
  {
   "cell_type": "code",
   "execution_count": 207,
   "metadata": {
    "collapsed": false
   },
   "outputs": [
    {
     "name": "stdout",
     "output_type": "stream",
     "text": [
      "Out Noise FEE (LSB_rms) = 0.861615725429\n"
     ]
    }
   ],
   "source": [
    "print(\"Out Noise FEE (LSB_rms) = {}\".format(np.std(signal_daq[3000:4000],ddof=1)))"
   ]
  },
  {
   "cell_type": "code",
   "execution_count": 208,
   "metadata": {
    "collapsed": false
   },
   "outputs": [
    {
     "data": {
      "image/png": "[encoded data removed]",
      "text/plain": [
       "<matplotlib.figure.Figure at 0x11d854d90>"
      ]
     },
     "metadata": {},
     "output_type": "display_data"
    }
   ],
   "source": [
    "plt.figure(figsize=(6, 6))\n",
    "plt.plot(signal_d[4950:12000])\n",
    "plt.plot(signal_r[4950:12000],'r--', linewidth=1)\n",
    "plt.show()"
   ]
  },
  {
   "cell_type": "code",
   "execution_count": 209,
   "metadata": {
    "collapsed": false
   },
   "outputs": [
    {
     "name": "stdout",
     "output_type": "stream",
     "text": [
      "Input Energy = 3268050.48835\n",
      "Reconstructed Energy = 3266696.82804\n",
      "Error in Energy Computation (%) = 0.0414210340892\n"
     ]
    }
   ],
   "source": [
    "energy_mea=np.sum(signal_r[4950:12000])\n",
    "energy_in=np.sum(signal_d[4950:12000])\n",
    "print('Input Energy = {}'.format(energy_in))\n",
    "print('Reconstructed Energy = {}'.format(energy_mea))\n",
    "print('Error in Energy Computation (%) = {}'.format((energy_in-energy_mea)/energy_in*100))"
   ]
  },
  {
   "cell_type": "markdown",
   "metadata": {},
   "source": [
    "## Find s1 and s2"
   ]
  },
  {
   "cell_type": "code",
   "execution_count": 210,
   "metadata": {
    "collapsed": true
   },
   "outputs": [],
   "source": [
    "from scipy import signal as SGN"
   ]
  },
  {
   "cell_type": "code",
   "execution_count": 218,
   "metadata": {
    "collapsed": true
   },
   "outputs": [],
   "source": [
    "def find_s12(signal_i, blevt=1000, thr1=3, thr2=1.5):\n",
    "\n",
    "    \"\"\"\n",
    "    1) compute baseline using the first blevt events\n",
    "    2) compute noise rms using first blevt events\n",
    "    3) detect start of signal if signal > sigma_start*rms_noise\n",
    "    4) detect end of signal if signal < sigma_end*rms_noise\n",
    "    5) label signal as s1 if len(signal) < 1mus (400 bins of 25 ns)\n",
    "    6) label signal as s2 otherwise.\n",
    "    \"\"\"\n",
    "    \n",
    "    nm = blevt\n",
    "    len_signal_i = len(signal_i)\n",
    "    mau = np.zeros(nm, dtype=np.double)\n",
    "    pulse_on = np.zeros(len_signal_i, dtype=np.int8)\n",
    "    bmau = (1./nm)*np.ones(nm)\n",
    "\n",
    "#   MAU averages the signal in the initial tranch\n",
    "#    allows to compute the baseline of the signal\n",
    "\n",
    "    mau = SGN.lfilter(bmau,1, signal_i[0:nm])\n",
    "    baseline = mau[nm-1]\n",
    "    noise_rms = np.std(signal_i[0:nm],ddof=1)\n",
    "    \n",
    "    p_on = 0\n",
    "    trigger_on = baseline + thr1\n",
    "    trigger_off = baseline + thr2\n",
    "    S12L = []\n",
    "    n = 0\n",
    "    for k in range(nm,len_signal_i):\n",
    "        pulse_on[k] = p_on\n",
    "    \n",
    "        if signal_i[k] > trigger_on:\n",
    "            if p_on == 0: # pulse just started\n",
    "                p_on = 1\n",
    "                S12E = []\n",
    "                S12T = []\n",
    "                S12 = {}\n",
    "                S12['e_adc'] =  S12E\n",
    "                S12['t_ns'] = S12T\n",
    "                S12L.append(S12)\n",
    "            else:\n",
    "                S12 = S12L[n]\n",
    "                S12['e_adc'].append(signal_i[k] - baseline)\n",
    "                S12['t_ns'].append(k * FE.t_sample)\n",
    "        \n",
    "        elif signal_i[k] > trigger_off and p_on == 1:\n",
    "                S12 = S12L[n]\n",
    "                S12['e_adc'].append(signal_i[k] - baseline)\n",
    "                S12['t_ns'].append(k * FE.t_sample)\n",
    "                \n",
    "        elif signal_i[k] < trigger_off and p_on == 1:\n",
    "                n+=1\n",
    "                p_on = 0\n",
    "            \n",
    "    return  baseline, noise_rms, pulse_on, S12L\n"
   ]
  },
  {
   "cell_type": "code",
   "execution_count": 221,
   "metadata": {
    "collapsed": false
   },
   "outputs": [],
   "source": [
    "baseline, noise_rms, pulse_on, S12 = find_s12(signal_r)\n",
    "mr = np.amax(signal_r)"
   ]
  },
  {
   "cell_type": "code",
   "execution_count": 222,
   "metadata": {
    "collapsed": false
   },
   "outputs": [
    {
     "name": "stdout",
     "output_type": "stream",
     "text": [
      "baseline = -0.0657867632688 adc, noise_rms = 0.861903125011 adc\n"
     ]
    },
    {
     "data": {
      "image/png": "[encoded data removed]",
      "text/plain": [
       "<matplotlib.figure.Figure at 0x122d3e210>"
      ]
     },
     "metadata": {},
     "output_type": "display_data"
    }
   ],
   "source": [
    "plt.figure(figsize=(6, 6))\n",
    "plt.plot(np.arange(len(signal_r))*FE.t_sample, signal_r)\n",
    "plt.plot(np.arange(len(signal_r))*FE.t_sample, pulse_on*mr, 'r--', linewidth=1)\n",
    "print('baseline = {} adc, noise_rms = {} adc'.format(baseline, noise_rms))\n",
    "plt.show()"
   ]
  },
  {
   "cell_type": "code",
   "execution_count": 252,
   "metadata": {
    "collapsed": false
   },
   "outputs": [],
   "source": [
    "baseline, noise_rms, pulse_on, S12L = find_s12(signal_r,thr1=5, thr2=1.0)\n",
    "mr = np.amax(signal_r)"
   ]
  },
  {
   "cell_type": "code",
   "execution_count": 253,
   "metadata": {
    "collapsed": true
   },
   "outputs": [],
   "source": [
    "def plot_s12_search(signal_r, baseline, noise_rms, pulse_on):\n",
    "    plt.figure(figsize=(6, 6))\n",
    "    plt.plot(np.arange(len(signal_r))*FE.t_sample, signal_r)\n",
    "    plt.plot(np.arange(len(signal_r))*FE.t_sample, pulse_on*mr, 'r--', linewidth=1)\n",
    "    print('baseline = {} adc, noise_rms = {} adc'.format(baseline, noise_rms))\n",
    "    plt.show()"
   ]
  },
  {
   "cell_type": "code",
   "execution_count": 254,
   "metadata": {
    "collapsed": false
   },
   "outputs": [
    {
     "name": "stdout",
     "output_type": "stream",
     "text": [
      "baseline = -0.0657867632688 adc, noise_rms = 0.861903125011 adc\n"
     ]
    },
    {
     "data": {
      "image/png": "[encoded data removed]",
      "text/plain": [
       "<matplotlib.figure.Figure at 0x12953e510>"
      ]
     },
     "metadata": {},
     "output_type": "display_data"
    }
   ],
   "source": [
    "plot_s12_search(signal_r, baseline, noise_rms, pulse_on)"
   ]
  },
  {
   "cell_type": "code",
   "execution_count": 255,
   "metadata": {
    "collapsed": false
   },
   "outputs": [
    {
     "data": {
      "text/plain": [
       "4"
      ]
     },
     "execution_count": 255,
     "metadata": {},
     "output_type": "execute_result"
    }
   ],
   "source": [
    "len(S12L)"
   ]
  },
  {
   "cell_type": "code",
   "execution_count": 256,
   "metadata": {
    "collapsed": true
   },
   "outputs": [],
   "source": [
    "def classify_S12(S12L):\n",
    "    for s12 in S12L:\n",
    "        s12e = np.array(s12['e_adc'])\n",
    "        emax = np.amax(s12e)\n",
    "        print('len of s12e = {} ns, max = {} adc '.format(len(s12e)*FE.t_sample, emax))\n",
    "        "
   ]
  },
  {
   "cell_type": "code",
   "execution_count": 257,
   "metadata": {
    "collapsed": false
   },
   "outputs": [
    {
     "name": "stdout",
     "output_type": "stream",
     "text": [
      "len of s12e = 425.0 ns, max = 451.953460958 adc \n",
      "len of s12e = 250.0 ns, max = 20.1847911523 adc \n",
      "len of s12e = 147900.0 ns, max = 3756.53162552 adc \n",
      "len of s12e = 300.0 ns, max = 35.8858006248 adc \n"
     ]
    }
   ],
   "source": [
    "classify_S12(S12L)"
   ]
  },
  {
   "cell_type": "code",
   "execution_count": null,
   "metadata": {
    "collapsed": true
   },
   "outputs": [],
   "source": []
  },
  {
   "cell_type": "code",
   "execution_count": 268,
   "metadata": {
    "collapsed": true
   },
   "outputs": [],
   "source": [
    "def stats_S12(h5f, event_list, pmt=0):\n",
    "    s12L = []\n",
    "    s12E = []\n",
    "    s12EM = []\n",
    "    for event in event_list:\n",
    "        signal_d, signal_daq, signal_r = fee_response(h5f, event=event, pmt=pmt)\n",
    "        baseline, noise_rms, pulse_on, S12L = find_s12(signal_r,thr1=5, thr2=1.0)\n",
    "        for s12 in S12L:\n",
    "            print(len(s12))\n",
    "            s12e = np.array(s12['e_adc'])\n",
    "            emax = np.amax(s12e)\n",
    "            s12L.append(len(s12e))\n",
    "            s12EM.append(np.amax(s12e))\n",
    "            s12E.append(np.sum(s12e))\n",
    "    return np.array(s12L), np.array(s12EM), np.array(s12E)"
   ]
  },
  {
   "cell_type": "code",
   "execution_count": 269,
   "metadata": {
    "collapsed": false
   },
   "outputs": [
    {
     "name": "stdout",
     "output_type": "stream",
     "text": [
      "2\n",
      "2\n",
      "2\n",
      "2\n",
      "2\n",
      "2\n",
      "2\n",
      "2\n",
      "2\n",
      "2\n",
      "2\n",
      "2\n",
      "2\n",
      "2\n",
      "2\n",
      "2\n",
      "2\n",
      "2\n",
      "2\n",
      "2\n",
      "2\n",
      "2\n",
      "2\n",
      "2\n",
      "2\n",
      "2\n",
      "2\n",
      "2\n",
      "2\n",
      "2\n",
      "2\n",
      "2\n",
      "2\n",
      "2\n",
      "2\n",
      "2\n",
      "2\n",
      "2\n",
      "2\n",
      "2\n",
      "2\n",
      "2\n",
      "2\n",
      "2\n",
      "2\n",
      "2\n",
      "2\n",
      "2\n",
      "2\n",
      "2\n",
      "2\n",
      "2\n",
      "2\n",
      "2\n",
      "2\n",
      "2\n",
      "2\n",
      "2\n",
      "2\n",
      "2\n",
      "2\n",
      "2\n",
      "2\n",
      "2\n",
      "2\n",
      "2\n",
      "2\n",
      "2\n",
      "2\n",
      "2\n",
      "2\n",
      "2\n",
      "2\n",
      "2\n",
      "2\n",
      "2\n",
      "2\n",
      "2\n",
      "2\n",
      "2\n",
      "2\n",
      "2\n",
      "2\n",
      "2\n",
      "2\n",
      "2\n",
      "2\n",
      "2\n",
      "2\n",
      "2\n",
      "2\n",
      "2\n",
      "2\n",
      "2\n",
      "2\n",
      "2\n",
      "2\n",
      "2\n",
      "2\n",
      "2\n",
      "2\n",
      "2\n",
      "2\n",
      "2\n",
      "2\n",
      "2\n",
      "2\n",
      "2\n",
      "2\n",
      "2\n",
      "2\n",
      "2\n",
      "2\n",
      "2\n",
      "2\n",
      "2\n",
      "2\n",
      "2\n",
      "2\n",
      "2\n",
      "2\n",
      "2\n",
      "2\n",
      "2\n",
      "2\n",
      "2\n",
      "2\n",
      "2\n",
      "2\n",
      "2\n",
      "2\n",
      "2\n",
      "2\n",
      "2\n",
      "2\n",
      "2\n",
      "2\n",
      "2\n",
      "2\n",
      "2\n",
      "2\n",
      "2\n",
      "2\n",
      "2\n",
      "2\n",
      "2\n",
      "2\n",
      "2\n",
      "2\n",
      "2\n",
      "2\n",
      "2\n",
      "2\n",
      "2\n",
      "2\n",
      "2\n",
      "2\n",
      "2\n",
      "2\n",
      "2\n",
      "2\n",
      "2\n",
      "2\n",
      "2\n",
      "2\n",
      "2\n",
      "2\n",
      "2\n",
      "2\n",
      "2\n",
      "2\n",
      "2\n",
      "2\n",
      "2\n",
      "2\n",
      "2\n",
      "2\n",
      "2\n",
      "2\n",
      "2\n",
      "2\n",
      "2\n",
      "2\n",
      "2\n",
      "2\n",
      "2\n",
      "2\n",
      "2\n",
      "2\n",
      "2\n",
      "2\n",
      "2\n",
      "2\n",
      "2\n",
      "2\n",
      "2\n",
      "2\n",
      "2\n",
      "2\n",
      "2\n",
      "2\n",
      "2\n",
      "2\n",
      "2\n",
      "2\n",
      "2\n",
      "2\n",
      "2\n",
      "2\n",
      "2\n",
      "2\n",
      "2\n",
      "2\n",
      "2\n",
      "2\n",
      "2\n",
      "2\n",
      "2\n",
      "2\n",
      "2\n",
      "2\n",
      "2\n",
      "2\n",
      "2\n",
      "2\n",
      "2\n",
      "2\n",
      "2\n",
      "2\n",
      "2\n",
      "2\n",
      "2\n",
      "2\n",
      "2\n",
      "2\n",
      "2\n",
      "2\n",
      "2\n",
      "2\n",
      "2\n",
      "2\n",
      "2\n",
      "2\n",
      "2\n",
      "2\n",
      "2\n",
      "2\n",
      "2\n",
      "2\n",
      "2\n",
      "2\n",
      "2\n",
      "2\n",
      "2\n",
      "2\n",
      "2\n",
      "2\n",
      "2\n",
      "2\n",
      "2\n",
      "2\n",
      "2\n",
      "2\n",
      "2\n",
      "2\n",
      "2\n",
      "2\n",
      "2\n",
      "2\n",
      "2\n",
      "2\n",
      "2\n",
      "2\n",
      "2\n",
      "2\n",
      "2\n",
      "2\n",
      "2\n",
      "2\n"
     ]
    }
   ],
   "source": [
    "s12L, s12EM, s12E = stats_S12(e2500,range(100), pmt=0)"
   ]
  },
  {
   "cell_type": "code",
   "execution_count": 270,
   "metadata": {
    "collapsed": false
   },
   "outputs": [
    {
     "data": {
      "image/png": "[encoded data removed]",
      "text/plain": [
       "<matplotlib.figure.Figure at 0x127fca890>"
      ]
     },
     "metadata": {},
     "output_type": "display_data"
    }
   ],
   "source": [
    "mpl.histo(s12L, nbins=10)"
   ]
  },
  {
   "cell_type": "code",
   "execution_count": 271,
   "metadata": {
    "collapsed": false
   },
   "outputs": [
    {
     "data": {
      "image/png": "[encoded data removed]",
      "text/plain": [
       "<matplotlib.figure.Figure at 0x12b8a6cd0>"
      ]
     },
     "metadata": {},
     "output_type": "display_data"
    }
   ],
   "source": [
    "mpl.histo(s12E, nbins=10)"
   ]
  },
  {
   "cell_type": "markdown",
   "metadata": {},
   "source": [
    "## Statistics"
   ]
  },
  {
   "cell_type": "code",
   "execution_count": null,
   "metadata": {
    "collapsed": true
   },
   "outputs": [],
   "source": [
    "def blr_energy_resolution(h5f, event_list, pmt=0):\n",
    "    for event in event_list:\n",
    "        signal_d, signal_daq, signal_r = fee_response(h5f, event=event, pmt=pmt)\n",
    "        "
   ]
  }
 ],
 "metadata": {
  "kernelspec": {
   "display_name": "Python [Root]",
   "language": "python",
   "name": "Python [Root]"
  },
  "language_info": {
   "codemirror_mode": {
    "name": "ipython",
    "version": 2
   },
   "file_extension": ".py",
   "mimetype": "text/x-python",
   "name": "python",
   "nbconvert_exporter": "python",
   "pygments_lexer": "ipython2",
   "version": "2.7.12"
  }
 },
 "nbformat": 4,
 "nbformat_minor": 0
}
