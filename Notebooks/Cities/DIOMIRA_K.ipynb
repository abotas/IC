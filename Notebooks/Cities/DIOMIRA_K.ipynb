{
 "cells": [
  {
   "cell_type": "markdown",
   "metadata": {},
   "source": [
    "# DIOMIRA Kublai"
   ]
  },
  {
   "cell_type": "markdown",
   "metadata": {},
   "source": [
    "## Running DIOMIRA NB"
   ]
  },
  {
   "cell_type": "code",
   "execution_count": 1,
   "metadata": {
    "collapsed": false
   },
   "outputs": [],
   "source": [
    "from __future__ import print_function\n",
    "%matplotlib inline\n",
    "%load_ext autoreload\n",
    "%autoreload 2\n",
    "import cProfile"
   ]
  },
  {
   "cell_type": "code",
   "execution_count": 2,
   "metadata": {
    "collapsed": true
   },
   "outputs": [],
   "source": [
    "import pandas as pd\n",
    "import tables as tb\n",
    "import numpy as np\n",
    "from Util import *\n",
    "import time"
   ]
  },
  {
   "cell_type": "code",
   "execution_count": 3,
   "metadata": {
    "collapsed": true
   },
   "outputs": [],
   "source": [
    "%matplotlib inline"
   ]
  },
  {
   "cell_type": "code",
   "execution_count": 14,
   "metadata": {
    "collapsed": true
   },
   "outputs": [],
   "source": [
    "import mplFunctions as mpl\n",
    "import wfmFunctions as wfm"
   ]
  },
  {
   "cell_type": "code",
   "execution_count": 4,
   "metadata": {
    "collapsed": false
   },
   "outputs": [
    {
     "name": "stdout",
     "output_type": "stream",
     "text": [
      "29/09/2016\n"
     ]
    }
   ],
   "source": [
    "print(time.strftime(\"%d/%m/%Y\"))"
   ]
  },
  {
   "cell_type": "code",
   "execution_count": 5,
   "metadata": {
    "collapsed": false
   },
   "outputs": [
    {
     "name": "stdout",
     "output_type": "stream",
     "text": [
      "15:06:53\n"
     ]
    }
   ],
   "source": [
    "print(time.strftime(\"%H:%M:%S\"))"
   ]
  },
  {
   "cell_type": "markdown",
   "metadata": {},
   "source": [
    "## Running Diomira"
   ]
  },
  {
   "cell_type": "markdown",
   "metadata": {},
   "source": [
    "### Python version"
   ]
  },
  {
   "cell_type": "code",
   "execution_count": 6,
   "metadata": {
    "collapsed": true
   },
   "outputs": [],
   "source": [
    "%less ../../Config/DIOMIRA_NA_ZLIB_test2.csv"
   ]
  },
  {
   "cell_type": "raw",
   "metadata": {},
   "source": [
    "# Configuration file for DIOMIRA\n",
    "# The parameters for DIOMIRA are:\n",
    "#\n",
    "#        PATH_IN = path to input DST file (must be a MCRD file)\n",
    "#        FILE_IN = name of input DST file\n",
    "#        PATH_OUT = path to output DST file (RWF file)\n",
    "#        FILE_OUT = name of ouput DST file (RWF file)\n",
    "#        FIRST_EVT,LAST_EVT,RUN_ALL,\n",
    "#\n",
    "#        RUN_ALL is used to decide whether to run all the events in the file\n",
    "#        in case that the total number of events requested (LAST_EVT-FIRST_EVT) \n",
    "#        exceeds the number of events in the DST file. If RUN_ALL is set to 1 (True), \n",
    "#        the script will run over all elements in the DST, \n",
    "#        otherwise it will exit with a warning.\n",
    "#        CLIB = compression library used: values can be 'ZLIB', 'BLOSC' or 'NONE'\n",
    "#        CLEVEL = compression level\n",
    "#\n",
    "PATH_IN,PATH_OUT,FILE_IN,FILE_OUT,FIRST_EVT,LAST_EVT,RUN_ALL,CLIB,CLEVEL, END \n",
    "/Users/jjgomezcadenas/Documents/Development/NEXT/data/Waveforms/WF-NA-ZLIB/,/Users/jjgomezcadenas/Documents/Development/NEXT/data/Waveforms/25ns/,WF_Na_1Kevts_comp1_chunk32k.h5,WF_Na_ZLIB_twf10_RWF.h5,0,10,1,zlib,1,1"
   ]
  },
  {
   "cell_type": "code",
   "execution_count": 8,
   "metadata": {
    "collapsed": false
   },
   "outputs": [
    {
     "name": "stdout",
     "output_type": "stream",
     "text": [
      "Debug level = INFO\n",
      "input path =/Users/jjgomezcadenas/Documents/Development/NEXT/data/Waveforms/WF-NA-ZLIB/; output path = /Users/jjgomezcadenas/Documents/Development/NEXT/data/Waveforms/25ns/; file_in =WF_Na_1Kevts_comp1_chunk32k.h5 file_out =WF_Na_ZLIB_twf10_RWF.h5\n",
      "first event = 0 last event = 10 nof events requested = 10 \n",
      "Compression library = zlib Compression level = 1 \n",
      "nof PMTs = 12 nof  SiPMs = 1792 nof events in input DST = 1000 \n",
      "lof SiPM WF = 599999 lof PMT WF (MC) = 600 lof PMT WF (FEE) = 24000\n",
      "INFO:root:-->event number =0\n"
     ]
    },
    {
     "name": "stderr",
     "output_type": "stream",
     "text": [
      "-->event number =0\n"
     ]
    },
    {
     "name": "stdout",
     "output_type": "stream",
     "text": [
      "INFO:root:-->event number =1\n"
     ]
    },
    {
     "name": "stderr",
     "output_type": "stream",
     "text": [
      "-->event number =1\n"
     ]
    },
    {
     "name": "stdout",
     "output_type": "stream",
     "text": [
      "INFO:root:-->event number =2\n"
     ]
    },
    {
     "name": "stderr",
     "output_type": "stream",
     "text": [
      "-->event number =2\n"
     ]
    },
    {
     "name": "stdout",
     "output_type": "stream",
     "text": [
      "INFO:root:-->event number =3\n"
     ]
    },
    {
     "name": "stderr",
     "output_type": "stream",
     "text": [
      "-->event number =3\n"
     ]
    },
    {
     "name": "stdout",
     "output_type": "stream",
     "text": [
      "INFO:root:-->event number =4\n"
     ]
    },
    {
     "name": "stderr",
     "output_type": "stream",
     "text": [
      "-->event number =4\n"
     ]
    },
    {
     "name": "stdout",
     "output_type": "stream",
     "text": [
      "INFO:root:-->event number =5\n"
     ]
    },
    {
     "name": "stderr",
     "output_type": "stream",
     "text": [
      "-->event number =5\n"
     ]
    },
    {
     "name": "stdout",
     "output_type": "stream",
     "text": [
      "INFO:root:-->event number =6\n"
     ]
    },
    {
     "name": "stderr",
     "output_type": "stream",
     "text": [
      "-->event number =6\n"
     ]
    },
    {
     "name": "stdout",
     "output_type": "stream",
     "text": [
      "INFO:root:-->event number =7\n"
     ]
    },
    {
     "name": "stderr",
     "output_type": "stream",
     "text": [
      "-->event number =7\n"
     ]
    },
    {
     "name": "stdout",
     "output_type": "stream",
     "text": [
      "INFO:root:-->event number =8\n"
     ]
    },
    {
     "name": "stderr",
     "output_type": "stream",
     "text": [
      "-->event number =8\n"
     ]
    },
    {
     "name": "stdout",
     "output_type": "stream",
     "text": [
      "INFO:root:-->event number =9\n"
     ]
    },
    {
     "name": "stderr",
     "output_type": "stream",
     "text": [
      "-->event number =9\n"
     ]
    },
    {
     "name": "stdout",
     "output_type": "stream",
     "text": [
      "Leaving Diomira. Safe travels!\n"
     ]
    }
   ],
   "source": [
    "%run ../../Cities/DIOMIRA.py -c ../../Config/DIOMIRA_NA_ZLIB_test2.csv "
   ]
  },
  {
   "cell_type": "markdown",
   "metadata": {},
   "source": [
    "### Checking file"
   ]
  },
  {
   "cell_type": "code",
   "execution_count": 9,
   "metadata": {
    "collapsed": false
   },
   "outputs": [
    {
     "name": "stdout",
     "output_type": "stream",
     "text": [
      "-rw-r--r--  1 jjgomezcadenas  staff    10M Sep 29 15:09 /Users/jjgomezcadenas/Documents/Development/NEXT/data/Waveforms/25ns/WF_Na_ZLIB_twf10_RWF.h5\r\n"
     ]
    }
   ],
   "source": [
    "%ls -lh '/Users/jjgomezcadenas/Documents/Development/NEXT/data/Waveforms/25ns/WF_Na_ZLIB_twf10_RWF.h5'"
   ]
  },
  {
   "cell_type": "markdown",
   "metadata": {},
   "source": [
    "Abou 1 M per event!"
   ]
  },
  {
   "cell_type": "code",
   "execution_count": 10,
   "metadata": {
    "collapsed": true
   },
   "outputs": [],
   "source": [
    "h5f =tables.open_file('/Users/jjgomezcadenas/Documents/Development/NEXT/data/Waveforms/25ns/WF_Na_ZLIB_twf10_RWF.h5')"
   ]
  },
  {
   "cell_type": "code",
   "execution_count": 11,
   "metadata": {
    "collapsed": false
   },
   "outputs": [
    {
     "data": {
      "text/plain": [
       "File(filename=/Users/jjgomezcadenas/Documents/Development/NEXT/data/Waveforms/25ns/WF_Na_ZLIB_twf10_RWF.h5, title='', mode='r', root_uep='/', filters=Filters(complevel=1, complib='zlib', shuffle=True, fletcher32=False, least_significant_digit=None))\n",
       "/ (RootGroup) ''\n",
       "/Detector (Group) ''\n",
       "/Detector/DetectorGeometry (Table(1,)) ''\n",
       "  description := {\n",
       "  \"x_det\": Float64Col(shape=(2,), dflt=0.0, pos=0),\n",
       "  \"y_det\": Float64Col(shape=(2,), dflt=0.0, pos=1),\n",
       "  \"z_det\": Float64Col(shape=(2,), dflt=0.0, pos=2),\n",
       "  \"r_det\": Float64Col(shape=(), dflt=0.0, pos=3)}\n",
       "  byteorder := 'little'\n",
       "  chunkshape := (1170,)\n",
       "/MC (Group) ''\n",
       "/MC/FEE (Table(1,)) 'EP-FEE parameters'\n",
       "  description := {\n",
       "  \"offset\": Int16Col(shape=(), dflt=0, pos=0),\n",
       "  \"pmt_gain\": Float32Col(shape=(), dflt=0.0, pos=1),\n",
       "  \"V_gain\": Float32Col(shape=(), dflt=0.0, pos=2),\n",
       "  \"R\": Float32Col(shape=(), dflt=0.0, pos=3),\n",
       "  \"C12\": Float32Col(shape=(12,), dflt=0.0, pos=4),\n",
       "  \"AC\": Float32Col(shape=(12,), dflt=0.0, pos=5),\n",
       "  \"time_step\": Float32Col(shape=(), dflt=0.0, pos=6),\n",
       "  \"time_daq\": Float32Col(shape=(), dflt=0.0, pos=7),\n",
       "  \"freq_LPF\": Float32Col(shape=(), dflt=0.0, pos=8),\n",
       "  \"freq_HPF\": Float32Col(shape=(), dflt=0.0, pos=9),\n",
       "  \"LSB\": Float32Col(shape=(), dflt=0.0, pos=10),\n",
       "  \"volts_to_adc\": Float32Col(shape=(), dflt=0.0, pos=11),\n",
       "  \"noise_fee_rms\": Float32Col(shape=(), dflt=0.0, pos=12),\n",
       "  \"noise_adc\": Float32Col(shape=(), dflt=0.0, pos=13)}\n",
       "  byteorder := 'little'\n",
       "  chunkshape := (461,)\n",
       "/MC/MCTracks (Table(26606,)) ''\n",
       "  description := {\n",
       "  \"event_indx\": Int32Col(shape=(), dflt=0, pos=0),\n",
       "  \"mctrk_indx\": Int32Col(shape=(), dflt=0, pos=1),\n",
       "  \"particle_name\": StringCol(itemsize=10, shape=(), dflt='', pos=2),\n",
       "  \"pdg_code\": Int32Col(shape=(), dflt=0, pos=3),\n",
       "  \"initial_vertex\": Float64Col(shape=(3,), dflt=0.0, pos=4),\n",
       "  \"final_vertex\": Float64Col(shape=(3,), dflt=0.0, pos=5),\n",
       "  \"momentum\": Float64Col(shape=(3,), dflt=0.0, pos=6),\n",
       "  \"energy\": Float64Col(shape=(), dflt=0.0, pos=7),\n",
       "  \"nof_hits\": Int32Col(shape=(), dflt=0, pos=8),\n",
       "  \"hit_indx\": Int32Col(shape=(), dflt=0, pos=9),\n",
       "  \"hit_position\": Float64Col(shape=(3,), dflt=0.0, pos=10),\n",
       "  \"hit_time\": Float64Col(shape=(), dflt=0.0, pos=11),\n",
       "  \"hit_energy\": Float64Col(shape=(), dflt=0.0, pos=12)}\n",
       "  byteorder := 'little'\n",
       "  chunkshape := (1,)\n",
       "/RD (Group) ''\n",
       "/RD/pmtrwf (EArray(10, 12, 24000), shuffle, zlib(1)) ''\n",
       "  atom := Float32Atom(shape=(), dflt=0.0)\n",
       "  maindim := 0\n",
       "  flavor := 'numpy'\n",
       "  byteorder := 'little'\n",
       "  chunkshape := (1, 5, 24000)\n",
       "/RD/sipmrwf (EArray(10, 1792, 600), shuffle, zlib(1)) ''\n",
       "  atom := Float32Atom(shape=(), dflt=0.0)\n",
       "  maindim := 0\n",
       "  flavor := 'numpy'\n",
       "  byteorder := 'little'\n",
       "  chunkshape := (1, 218, 600)\n",
       "/Sensors (Group) ''\n",
       "/Sensors/DataPMT (Table(12,)) ''\n",
       "  description := {\n",
       "  \"channel\": Int32Col(shape=(), dflt=0, pos=0),\n",
       "  \"active\": Int32Col(shape=(), dflt=0, pos=1),\n",
       "  \"position\": Float64Col(shape=(3,), dflt=0.0, pos=2),\n",
       "  \"gain\": Float64Col(shape=(), dflt=0.0, pos=3),\n",
       "  \"adc_to_pes\": Float64Col(shape=(), dflt=0.0, pos=4)}\n",
       "  byteorder := 'little'\n",
       "  chunkshape := (1365,)\n",
       "/Sensors/DataSiPM (Table(1792,)) ''\n",
       "  description := {\n",
       "  \"channel\": Int32Col(shape=(), dflt=0, pos=0),\n",
       "  \"active\": Int32Col(shape=(), dflt=0, pos=1),\n",
       "  \"position\": Float64Col(shape=(3,), dflt=0.0, pos=2),\n",
       "  \"gain\": Float64Col(shape=(), dflt=0.0, pos=3),\n",
       "  \"adc_to_pes\": Float64Col(shape=(), dflt=0.0, pos=4)}\n",
       "  byteorder := 'little'\n",
       "  chunkshape := (1365,)\n",
       "/TWF (Group) ''\n",
       "/TWF/TWF (Table(590,), shuffle, zlib(1)) 'Store for TWF'\n",
       "  description := {\n",
       "  \"event\": UInt32Col(shape=(), dflt=0, pos=0),\n",
       "  \"pmt\": UInt32Col(shape=(), dflt=0, pos=1),\n",
       "  \"time_ns\": Float32Col(shape=(), dflt=0.0, pos=2),\n",
       "  \"ene_pes\": Float32Col(shape=(), dflt=0.0, pos=3)}\n",
       "  byteorder := 'little'\n",
       "  chunkshape := (4096,)"
      ]
     },
     "execution_count": 11,
     "metadata": {},
     "output_type": "execute_result"
    }
   ],
   "source": [
    "h5f"
   ]
  },
  {
   "cell_type": "code",
   "execution_count": 12,
   "metadata": {
    "collapsed": true
   },
   "outputs": [],
   "source": [
    "pmtrwf = h5f.root.RD.pmtrwf"
   ]
  },
  {
   "cell_type": "code",
   "execution_count": 15,
   "metadata": {
    "collapsed": false
   },
   "outputs": [
    {
     "data": {
      "image/png": "[encoded data removed]",
      "text/plain": [
       "<matplotlib.figure.Figure at 0x113fe4450>"
      ]
     },
     "metadata": {},
     "output_type": "display_data"
    },
    {
     "name": "stdout",
     "output_type": "stream",
     "text": [
      "Press a key...\n"
     ]
    }
   ],
   "source": [
    "mpl.scan_waveforms(pmtrwf,list_of_events=[0])"
   ]
  },
  {
   "cell_type": "code",
   "execution_count": 19,
   "metadata": {
    "collapsed": false
   },
   "outputs": [
    {
     "data": {
      "image/png": "[encoded data removed]",
      "text/plain": [
       "<matplotlib.figure.Figure at 0x115583ad0>"
      ]
     },
     "metadata": {},
     "output_type": "display_data"
    },
    {
     "name": "stdout",
     "output_type": "stream",
     "text": [
      "Press a key...\n"
     ]
    }
   ],
   "source": [
    "mpl.scan_waveforms(pmtrwf,list_of_events=[3])"
   ]
  },
  {
   "cell_type": "code",
   "execution_count": 20,
   "metadata": {
    "collapsed": false
   },
   "outputs": [
    {
     "data": {
      "image/png": "[encoded data removed]",
      "text/plain": [
       "<matplotlib.figure.Figure at 0x11549c2d0>"
      ]
     },
     "metadata": {},
     "output_type": "display_data"
    },
    {
     "name": "stdout",
     "output_type": "stream",
     "text": [
      "Press a key...\n"
     ]
    }
   ],
   "source": [
    "mpl.scan_waveforms(pmtrwf,list_of_events=[2])"
   ]
  },
  {
   "cell_type": "code",
   "execution_count": 23,
   "metadata": {
    "collapsed": false
   },
   "outputs": [
    {
     "data": {
      "image/png": "[encoded data removed]",
      "text/plain": [
       "<matplotlib.figure.Figure at 0x1146e9590>"
      ]
     },
     "metadata": {},
     "output_type": "display_data"
    },
    {
     "name": "stdout",
     "output_type": "stream",
     "text": [
      "Press a key...\n"
     ]
    }
   ],
   "source": [
    "mpl.scan_waveforms(pmtrwf,list_of_events=[6])"
   ]
  },
  {
   "cell_type": "markdown",
   "metadata": {},
   "source": [
    "### Profiling"
   ]
  },
  {
   "cell_type": "code",
   "execution_count": 29,
   "metadata": {
    "collapsed": false
   },
   "outputs": [
    {
     "name": "stdout",
     "output_type": "stream",
     "text": [
      "Debug level = INFO\n",
      "input path =/Users/jjgomezcadenas/Documents/Development/NEXT/data/Waveforms/WF-NA-ZLIB/; output path = /Users/jjgomezcadenas/Documents/Development/NEXT/data/Waveforms/25ns/; file_in =WF_Na_1Kevts_comp1_chunk32k.h5 file_out =WF_Na_ZLIB_twf10_RWF.h5\n",
      "first event = 0 last event = 10 nof events requested = 10 \n",
      "Compression library = zlib Compression level = 1 \n",
      "nof PMTs = 12 nof  SiPMs = 1792 nof events in input DST = 1000 \n",
      "lof SiPM WF = 599999 lof PMT WF (MC) = 600 lof PMT WF (FEE) = 24000\n",
      "-->event number =0\n",
      "-->event number =1\n",
      "-->event number =2\n",
      "-->event number =3\n",
      "-->event number =4\n",
      "-->event number =5\n",
      "-->event number =6\n",
      "-->event number =7\n",
      "-->event number =8\n",
      "-->event number =9\n",
      "Leaving Diomira. Safe travels!\n"
     ]
    }
   ],
   "source": [
    "!python -m cProfile -o ../../Prof/diomira_py_29_9_16.stat ../../Cities/DIOMIRA.py -c ../../Config/DIOMIRA_NA_ZLIB_test2.csv"
   ]
  },
  {
   "cell_type": "markdown",
   "metadata": {},
   "source": [
    "#### Examine pstats file"
   ]
  },
  {
   "cell_type": "code",
   "execution_count": 30,
   "metadata": {
    "collapsed": false
   },
   "outputs": [
    {
     "name": "stdout",
     "output_type": "stream",
     "text": [
      "Thu Sep 29 15:28:34 2016    ../../Prof/diomira_py_29_9_16.stat\n",
      "\n",
      "         1546205 function calls (1536601 primitive calls) in 15.035 seconds\n",
      "\n",
      "   Ordered by: internal time\n",
      "   List reduced from 4802 to 10 due to restriction <10>\n",
      "\n",
      "   ncalls  tottime  percall  cumtime  percall filename:lineno(function)\n",
      "    29001    3.518    0.000    3.518    0.000 {numpy.core.multiarray.array}\n",
      "     1560    2.199    0.001    2.199    0.001 {numpy.core.multiarray.correlate}\n",
      "      120    2.192    0.018    2.192    0.018 {method 'normal' of 'mtrand.RandomState' objects}\n",
      "      240    0.806    0.003    0.806    0.003 {scipy.signal.sigtools._linear_filter}\n",
      "    18160    0.752    0.000    0.752    0.000 {method '_g_read_slice' of 'tables.hdf5extension.Array' objects}\n",
      "     4297    0.710    0.000    0.710    0.000 {range}\n",
      "       10    0.461    0.046    5.884    0.588 ../../Cities/DIOMIRA.py:116(twf_signal)\n",
      "      120    0.292    0.002    3.298    0.027 /Users/jjgomezcadenas/Documents/Development/NEXT/IC/Sierpe/FEE2.py:156(FEESignal)\n",
      "       10    0.291    0.029    6.613    0.661 ../../Cities/DIOMIRA.py:151(simulate_pmt_response)\n",
      "       22    0.280    0.013    0.280    0.013 {method '_g_flush' of 'tables.hdf5extension.Leaf' objects}\n",
      "\n",
      "\n"
     ]
    },
    {
     "data": {
      "text/plain": [
       "<pstats.Stats instance at 0x10e1fc908>"
      ]
     },
     "execution_count": 30,
     "metadata": {},
     "output_type": "execute_result"
    }
   ],
   "source": [
    "import pstats\n",
    "p = pstats.Stats('../../Prof/diomira_py_29_9_16.stat')\n",
    "p.sort_stats('time').print_stats(10)"
   ]
  },
  {
   "cell_type": "markdown",
   "metadata": {},
   "source": [
    "*1.5 seconds per event*"
   ]
  },
  {
   "cell_type": "code",
   "execution_count": null,
   "metadata": {
    "collapsed": true
   },
   "outputs": [],
   "source": []
  },
  {
   "cell_type": "code",
   "execution_count": 12,
   "metadata": {
    "collapsed": false
   },
   "outputs": [
    {
     "name": "stdout",
     "output_type": "stream",
     "text": [
      "Wed Sep 28 18:22:41 2016    ../../Cities/diomira_cy.stat\n",
      "\n",
      "         4201039 function calls (4195156 primitive calls) in 6.866 seconds\n",
      "\n",
      "   Ordered by: internal time\n",
      "   List reduced from 4730 to 10 due to restriction <10>\n",
      "\n",
      "   ncalls  tottime  percall  cumtime  percall filename:lineno(function)\n",
      "   869070    1.461    0.000    1.461    0.000 {method 'reduce' of 'numpy.ufunc' objects}\n",
      "       36    0.681    0.019    0.681    0.019 {method 'normal' of 'mtrand.RandomState' objects}\n",
      "      468    0.640    0.001    0.640    0.001 {numpy.core.multiarray.correlate}\n",
      "   864039    0.631    0.000    2.529    0.000 /usr/local/lib/python2.7/site-packages/numpy/core/fromnumeric.py:1743(sum)\n",
      "        3    0.492    0.164    3.097    1.032 {cyic.SensorsResponse.rebin_signal}\n",
      "        7    0.264    0.038    0.264    0.038 {method '_fill_col' of 'tables.tableextension.Row' objects}\n",
      "901747/901745    0.248    0.000    0.249    0.000 {isinstance}\n",
      "        8    0.242    0.030    0.242    0.030 {method '_append_records' of 'tables.tableextension.Table' objects}\n",
      "       72    0.234    0.003    0.234    0.003 {scipy.signal.sigtools._linear_filter}\n",
      "     5448    0.214    0.000    0.214    0.000 {method '_g_read_slice' of 'tables.hdf5extension.Array' objects}\n",
      "\n",
      "\n"
     ]
    },
    {
     "data": {
      "text/plain": [
       "<pstats.Stats instance at 0x115a0f9e0>"
      ]
     },
     "execution_count": 12,
     "metadata": {},
     "output_type": "execute_result"
    }
   ],
   "source": [
    "p = pstats.Stats('../../Cities/diomira_cy.stat')\n",
    "p.sort_stats('time').print_stats(10)"
   ]
  },
  {
   "cell_type": "code",
   "execution_count": 18,
   "metadata": {
    "collapsed": false
   },
   "outputs": [
    {
     "name": "stdout",
     "output_type": "stream",
     "text": [
      "Wed Sep 28 18:46:51 2016    ../../Cities/diomira_cy.stat\n",
      "\n",
      "         4201171 function calls (4195288 primitive calls) in 6.751 seconds\n",
      "\n",
      "   Ordered by: internal time\n",
      "   List reduced from 4731 to 12 due to restriction <12>\n",
      "\n",
      "   ncalls  tottime  percall  cumtime  percall filename:lineno(function)\n",
      "   869070    1.329    0.000    1.329    0.000 {method 'reduce' of 'numpy.ufunc' objects}\n",
      "       36    0.676    0.019    0.676    0.019 {method 'normal' of 'mtrand.RandomState' objects}\n",
      "      468    0.651    0.001    0.651    0.001 {numpy.core.multiarray.correlate}\n",
      "   864039    0.624    0.000    2.369    0.000 /usr/local/lib/python2.7/site-packages/numpy/core/fromnumeric.py:1743(sum)\n",
      "       36    0.500    0.014    2.869    0.080 {cyic.SensorsResponse.rebin_pmt_array}\n",
      "        7    0.264    0.038    0.264    0.038 {method '_fill_col' of 'tables.tableextension.Row' objects}\n",
      "       72    0.248    0.003    0.248    0.003 {scipy.signal.sigtools._linear_filter}\n",
      "        8    0.243    0.030    0.243    0.030 {method '_append_records' of 'tables.tableextension.Table' objects}\n",
      "901747/901745    0.232    0.000    0.233    0.000 {isinstance}\n",
      "     5448    0.213    0.000    0.213    0.000 {method '_g_read_slice' of 'tables.hdf5extension.Array' objects}\n",
      "   864039    0.205    0.000    1.523    0.000 /usr/local/lib/python2.7/site-packages/numpy/core/_methods.py:31(_sum)\n",
      "        3    0.113    0.038    2.037    0.679 {cyic.SensorsResponse.simulate_pmt_response}\n",
      "\n",
      "\n"
     ]
    },
    {
     "data": {
      "text/plain": [
       "<pstats.Stats instance at 0x115434b00>"
      ]
     },
     "execution_count": 18,
     "metadata": {},
     "output_type": "execute_result"
    }
   ],
   "source": [
    "p = pstats.Stats('../../Cities/diomira_cy.stat')\n",
    "p.sort_stats('time').print_stats(12)"
   ]
  },
  {
   "cell_type": "code",
   "execution_count": null,
   "metadata": {
    "collapsed": true
   },
   "outputs": [],
   "source": []
  },
  {
   "cell_type": "code",
   "execution_count": null,
   "metadata": {
    "collapsed": true
   },
   "outputs": [],
   "source": []
  },
  {
   "cell_type": "raw",
   "metadata": {},
   "source": [
    "Leaving Diomira. Safe travels!\n",
    "         3699041 function calls (3699012 primitive calls) in 8.066 seconds\n",
    "\n",
    "   Ordered by: internal time\n",
    "\n",
    "   ncalls  tottime  percall  cumtime  percall filename:lineno(function)\n",
    "   865301    2.043    0.000    2.043    0.000 {method 'reduce' of 'numpy.ufunc' objects}\n",
    "       36    0.877    0.024    4.317    0.120 SensorsResponse.py:105(rebin_pmt_array)\n",
    "   864039    0.812    0.000    3.427    0.000 fromnumeric.py:1743(sum)\n",
    "   \n",
    "   864039    0.269    0.000    2.305    0.000 _methods.py:31(_sum)\n",
    "       36    0.140    0.004    1.202    0.033 FEE2.py:156(FEESignal)\n",
    "        9    0.127    0.014    0.127    0.014 {method '_append' of 'tables.hdf5extension.Array' objects}\n",
    "        3    0.119    0.040    2.414    0.805 SensorsResponse.py:51(simulate_pmt_response)\n",
    "    \n",
    "  "
   ]
  },
  {
   "cell_type": "markdown",
   "metadata": {},
   "source": [
    "### Cython version"
   ]
  },
  {
   "cell_type": "code",
   "execution_count": null,
   "metadata": {
    "collapsed": false
   },
   "outputs": [],
   "source": [
    "%env PYTHONPATH"
   ]
  },
  {
   "cell_type": "code",
   "execution_count": 6,
   "metadata": {
    "collapsed": false
   },
   "outputs": [
    {
     "name": "stdout",
     "output_type": "stream",
     "text": [
      "INFO:root:Configuration Parameters (CFP) dictionary  = {'FIRST_EVT': 0, 'LAST_EVT': 3, 'FILE_OUT': 'WF_Na_ZLIB_test3_RWF.h5', 'PATH_OUT': '/Users/jjgomezcadenas/Documents/Development/NEXT/data/Waveforms/25ns/', ' END ': 1, 'CLIB': 'zlib', 'RUN_ALL': 1, 'PATH_IN': '/Users/jjgomezcadenas/Documents/Development/NEXT/data/Waveforms/WF-NA-ZLIB/', 'CLEVEL': 1, 'FILE_IN': 'WF_Na_1Kevts_comp1_chunk32k.h5'}\n"
     ]
    },
    {
     "name": "stderr",
     "output_type": "stream",
     "text": [
      "Configuration Parameters (CFP) dictionary  = {'FIRST_EVT': 0, 'LAST_EVT': 3, 'FILE_OUT': 'WF_Na_ZLIB_test3_RWF.h5', 'PATH_OUT': '/Users/jjgomezcadenas/Documents/Development/NEXT/data/Waveforms/25ns/', ' END ': 1, 'CLIB': 'zlib', 'RUN_ALL': 1, 'PATH_IN': '/Users/jjgomezcadenas/Documents/Development/NEXT/data/Waveforms/WF-NA-ZLIB/', 'CLEVEL': 1, 'FILE_IN': 'WF_Na_1Kevts_comp1_chunk32k.h5'}\n"
     ]
    },
    {
     "name": "stdout",
     "output_type": "stream",
     "text": [
      "Running Cython version of DIOMIRA\n",
      "Debug level = INFO\n",
      "INFO:root:input path =/Users/jjgomezcadenas/Documents/Development/NEXT/data/Waveforms/WF-NA-ZLIB/; output path = /Users/jjgomezcadenas/Documents/Development/NEXT/data/Waveforms/25ns/; file_in =WF_Na_1Kevts_comp1_chunk32k.h5 file_out =WF_Na_ZLIB_test3_RWF.h5\n"
     ]
    },
    {
     "name": "stderr",
     "output_type": "stream",
     "text": [
      "input path =/Users/jjgomezcadenas/Documents/Development/NEXT/data/Waveforms/WF-NA-ZLIB/; output path = /Users/jjgomezcadenas/Documents/Development/NEXT/data/Waveforms/25ns/; file_in =WF_Na_1Kevts_comp1_chunk32k.h5 file_out =WF_Na_ZLIB_test3_RWF.h5\n"
     ]
    },
    {
     "name": "stdout",
     "output_type": "stream",
     "text": [
      "INFO:root:first event = 0 last event = 3 nof events requested = 3 \n"
     ]
    },
    {
     "name": "stderr",
     "output_type": "stream",
     "text": [
      "first event = 0 last event = 3 nof events requested = 3 \n"
     ]
    },
    {
     "name": "stdout",
     "output_type": "stream",
     "text": [
      "INFO:root:Compression library = zlib Compression level = 1 \n"
     ]
    },
    {
     "name": "stderr",
     "output_type": "stream",
     "text": [
      "Compression library = zlib Compression level = 1 \n"
     ]
    },
    {
     "name": "stdout",
     "output_type": "stream",
     "text": [
      "INFO:root:nof PMTs = 12 nof  SiPMs = 1792 nof events in input DST = 1000 \n"
     ]
    },
    {
     "name": "stderr",
     "output_type": "stream",
     "text": [
      "nof PMTs = 12 nof  SiPMs = 1792 nof events in input DST = 1000 \n"
     ]
    },
    {
     "name": "stdout",
     "output_type": "stream",
     "text": [
      "INFO:root:lof SiPM WF = 599999 lof PMT WF (MC) = 600 lof PMT WF (FEE) = 24000\n"
     ]
    },
    {
     "name": "stderr",
     "output_type": "stream",
     "text": [
      "lof SiPM WF = 599999 lof PMT WF (MC) = 600 lof PMT WF (FEE) = 24000\n"
     ]
    },
    {
     "name": "stdout",
     "output_type": "stream",
     "text": [
      "INFO:root:-->event number =0\n"
     ]
    },
    {
     "name": "stderr",
     "output_type": "stream",
     "text": [
      "-->event number =0\n"
     ]
    },
    {
     "name": "stdout",
     "output_type": "stream",
     "text": [
      "INFO:root:truePMT shape =(12, 24000)\n"
     ]
    },
    {
     "name": "stderr",
     "output_type": "stream",
     "text": [
      "truePMT shape =(12, 24000)\n"
     ]
    },
    {
     "name": "stdout",
     "output_type": "stream",
     "text": [
      "INFO:root:dataPMT shape =(12, 24000)\n"
     ]
    },
    {
     "name": "stderr",
     "output_type": "stream",
     "text": [
      "dataPMT shape =(12, 24000)\n"
     ]
    },
    {
     "name": "stdout",
     "output_type": "stream",
     "text": [
      "INFO:root:-->event number =1\n"
     ]
    },
    {
     "name": "stderr",
     "output_type": "stream",
     "text": [
      "-->event number =1\n"
     ]
    },
    {
     "name": "stdout",
     "output_type": "stream",
     "text": [
      "INFO:root:truePMT shape =(12, 24000)\n"
     ]
    },
    {
     "name": "stderr",
     "output_type": "stream",
     "text": [
      "truePMT shape =(12, 24000)\n"
     ]
    },
    {
     "name": "stdout",
     "output_type": "stream",
     "text": [
      "INFO:root:dataPMT shape =(12, 24000)\n"
     ]
    },
    {
     "name": "stderr",
     "output_type": "stream",
     "text": [
      "dataPMT shape =(12, 24000)\n"
     ]
    },
    {
     "name": "stdout",
     "output_type": "stream",
     "text": [
      "INFO:root:-->event number =2\n"
     ]
    },
    {
     "name": "stderr",
     "output_type": "stream",
     "text": [
      "-->event number =2\n"
     ]
    },
    {
     "name": "stdout",
     "output_type": "stream",
     "text": [
      "INFO:root:truePMT shape =(12, 24000)\n"
     ]
    },
    {
     "name": "stderr",
     "output_type": "stream",
     "text": [
      "truePMT shape =(12, 24000)\n"
     ]
    },
    {
     "name": "stdout",
     "output_type": "stream",
     "text": [
      "INFO:root:dataPMT shape =(12, 24000)\n"
     ]
    },
    {
     "name": "stderr",
     "output_type": "stream",
     "text": [
      "dataPMT shape =(12, 24000)\n"
     ]
    },
    {
     "name": "stdout",
     "output_type": "stream",
     "text": [
      "Leaving Diomira. Safe travels!\n",
      "         3841371 function calls (3841320 primitive calls) in 9.514 seconds\n",
      "\n",
      "   Ordered by: internal time\n",
      "\n",
      "   ncalls  tottime  percall  cumtime  percall filename:lineno(function)\n",
      "   867033    1.881    0.000    1.881    0.000 {method 'reduce' of 'numpy.ufunc' objects}\n",
      "   864039    1.156    0.000    3.651    0.000 fromnumeric.py:1743(sum)\n",
      "     5448    1.140    0.000    1.140    0.000 {method '_g_read_slice' of 'tables.hdf5extension.Array' objects}\n",
      "      468    0.912    0.002    0.912    0.002 {numpy.core.multiarray.correlate}\n",
      "       36    0.769    0.021    0.769    0.021 {method 'normal' of 'mtrand.RandomState' objects}\n",
      "        3    0.702    0.234    4.857    1.619 {cyic.SensorsResponse.rebin_signal}\n",
      "   864039    0.354    0.000    2.224    0.000 _methods.py:31(_sum)\n",
      "        9    0.325    0.036    0.325    0.036 {method '_append' of 'tables.hdf5extension.Array' objects}\n",
      "       72    0.293    0.004    0.293    0.004 {scipy.signal.sigtools._linear_filter}\n",
      "   885704    0.279    0.000    0.280    0.000 {isinstance}\n",
      "        7    0.249    0.036    0.249    0.036 {method '_fill_col' of 'tables.tableextension.Row' objects}\n",
      "        8    0.217    0.027    0.217    0.027 {method '_append_records' of 'tables.tableextension.Table' objects}\n",
      "     5448    0.137    0.000    0.208    0.000 array.py:370(_interpret_indexing)\n",
      "       36    0.133    0.004    1.198    0.033 FEE2.py:156(FEESignal)\n",
      "        3    0.130    0.043    2.975    0.992 {cyic.SensorsResponse.simulate_pmt_response}\n",
      "       12    0.098    0.008    0.098    0.008 {method '_g_flush' of 'tables.hdf5extension.Leaf' objects}\n",
      "     5700    0.047    0.000    0.047    0.000 {numpy.core.multiarray.zeros}\n",
      "       36    0.033    0.001    0.740    0.021 shape_base.py:20(apply_along_axis)\n",
      "    22345    0.032    0.000    0.032    0.000 {numpy.core.multiarray.empty}\n",
      "      515    0.031    0.000    0.031    0.000 {method 'astype' of 'numpy.ndarray' objects}\n",
      "      285    0.031    0.000    0.069    0.000 doccer.py:12(docformat)\n",
      "     5448    0.025    0.000    1.414    0.000 array.py:627(__getitem__)\n",
      "        3    0.025    0.008    0.417    0.139 {cyic.SensorsResponse.simulate_sipm_response}\n",
      "      108    0.022    0.000    1.057    0.010 signaltools.py:845(lfilter)\n",
      "    10900    0.020    0.000    0.025    0.000 leaf.py:390(_process_range)\n",
      "     8093    0.020    0.000    0.020    0.000 {numpy.core.multiarray.array}\n",
      "      142    0.019    0.000    0.019    0.000 {method 'acquire' of 'thread.lock' objects}\n",
      "     5448    0.019    0.000    1.174    0.000 array.py:758(_read_slice)\n",
      "       36    0.017    0.000    0.795    0.022 FEE2.py:176(daqSignal)\n",
      "       54    0.015    0.000    0.020    0.000 collections.py:305(namedtuple)\n",
      "      432    0.012    0.000    0.065    0.000 polynomial.py:32(poly)\n",
      "      293    0.011    0.000    0.016    0.000 doccer.py:128(indentcount_lines)\n",
      "        2    0.011    0.005    0.011    0.005 {method '_close_file' of 'tables.hdf5extension.File' objects}\n",
      "76209/76195    0.010    0.000    0.010    0.000 {len}\n",
      "        1    0.009    0.009    9.526    9.526 DIOMIRA.py:63(DIOMIRA)\n",
      "     6988    0.008    0.000    0.008    0.000 {method 'expandtabs' of 'str' objects}\n",
      "    10896    0.008    0.000    0.008    0.000 utils.py:49(is_idx)\n",
      "    59266    0.008    0.000    0.008    0.000 {method 'append' of 'list' objects}\n",
      "     7000    0.007    0.000    0.007    0.000 {method 'splitlines' of 'str' objects}\n",
      "     1984    0.006    0.000    0.013    0.000 shape_base.py:9(atleast_1d)\n",
      "        1    0.006    0.006    0.029    0.029 __init__.py:168(<module>)\n",
      "      216    0.005    0.000    0.108    0.000 filter_design.py:1327(iirfilter)\n",
      "    10900    0.005    0.000    0.005    0.000 {method 'indices' of 'slice' objects}\n",
      "        1    0.005    0.005    0.013    0.013 machar.py:116(_do_init)\n",
      "      216    0.005    0.000    0.006    0.000 filter_design.py:2863(buttap)\n",
      "     5052    0.005    0.000    0.007    0.000 numeric.py:484(asanyarray)\n",
      "        1    0.005    0.005    0.005    0.005 {method 'read' of 'file' objects}\n",
      "     5523    0.005    0.000    0.005    0.000 node.py:342(_g_check_open)\n",
      "       36    0.005    0.000    0.013    0.000 fir_filter_design.py:138(firwin)\n",
      "       22    0.004    0.000    0.004    0.000 {method 'write' of 'file' objects}\n",
      "      144    0.004    0.000    0.010    0.000 filter_design.py:1620(_zpklp2hp)\n",
      "      108    0.004    0.000    0.009    0.000 filter_design.py:1517(_zpkbilinear)\n",
      "        1    0.004    0.004    0.004    0.004 __init__.py:133(<module>)\n",
      "        1    0.004    0.004    0.021    0.021 __init__.py:87(<module>)\n",
      "        1    0.003    0.003    0.004    0.004 lapack.py:346(<module>)\n",
      "        1    0.003    0.003    0.040    0.040 __init__.py:623(<module>)\n",
      "        2    0.003    0.002    0.004    0.002 {method '_g_new' of 'tables.hdf5extension.File' objects}\n",
      "        1    0.003    0.003    0.235    0.235 __init__.py:271(<module>)\n",
      "      216    0.003    0.000    0.072    0.000 filter_design.py:594(zpk2tf)\n",
      "      468    0.003    0.000    0.918    0.002 numeric.py:918(convolve)\n",
      "       89    0.003    0.000    0.081    0.001 _distn_infrastructure.py:1409(__init__)\n",
      "        1    0.003    0.003    0.084    0.084 _continuous_distns.py:5(<module>)\n",
      "       14    0.003    0.000    0.003    0.000 {method '_g_close' of 'tables.hdf5extension.Leaf' objects}\n",
      "      432    0.003    0.000    0.003    0.000 type_check.py:18(mintypecode)\n",
      "        1    0.003    0.003    0.025    0.025 interpolate.py:2(<module>)\n",
      "       62    0.003    0.000    0.005    0.000 {method '_g_setattr' of 'tables.hdf5extension.AttributeSet' objects}\n",
      "      110    0.003    0.000    0.013    0.000 six.py:209(exec_)\n",
      "        1    0.002    0.002    0.004    0.004 basic.py:7(<module>)\n",
      "       91    0.002    0.000    0.008    0.000 ioloop.py:928(add_callback)\n",
      "        1    0.002    0.002    0.023    0.023 __init__.py:228(<module>)\n",
      "     6921    0.002    0.000    0.003    0.000 {method 'join' of 'str' objects}\n",
      "        1    0.002    0.002    0.002    0.002 _ode.py:39(<module>)\n",
      "     1984    0.002    0.000    0.010    0.000 fromnumeric.py:1892(any)\n",
      "    14881    0.002    0.000    0.002    0.000 {method 'lstrip' of 'str' objects}\n",
      "        1    0.002    0.002    0.129    0.129 __init__.py:335(<module>)\n",
      "        1    0.002    0.002    0.100    0.100 distributions.py:8(<module>)\n",
      "     5448    0.002    0.000    0.002    0.000 leaf.py:211(<lambda>)\n",
      "      388    0.002    0.000    0.002    0.000 {method 'replace' of 'str' objects}\n",
      "      681    0.002    0.000    0.006    0.000 fromnumeric.py:2395(prod)\n",
      "      350    0.002    0.000    0.002    0.000 inspect.py:744(getargs)\n",
      "    11144    0.002    0.000    0.002    0.000 {min}\n",
      "        5    0.002    0.000    0.002    0.000 {method '_create_table' of 'tables.tableextension.Table' objects}\n",
      "      102    0.002    0.000    0.016    0.000 _distn_infrastructure.py:623(_construct_argparser)\n",
      "        1    0.002    0.002    0.009    0.009 __init__.py:205(<module>)\n",
      "    10896    0.002    0.000    0.002    0.000 {operator.index}\n",
      "        1    0.001    0.001    0.027    0.027 __init__.py:155(<module>)\n",
      "      468    0.001    0.000    0.002    0.000 numeric.py:846(_mode_from_name)\n",
      "      970    0.001    0.000    0.001    0.000 {range}\n",
      "      102    0.001    0.000    0.068    0.001 _distn_infrastructure.py:703(_construct_doc)\n",
      "      410    0.001    0.000    0.001    0.000 function_base.py:2162(__init__)\n",
      "      333    0.001    0.000    0.001    0.000 {method 'reshape' of 'numpy.ndarray' objects}\n",
      "      432    0.001    0.000    0.001    0.000 {method 'compress' of 'numpy.ndarray' objects}\n",
      "        1    0.001    0.001    0.002    0.002 _distn_infrastructure.py:5(<module>)\n",
      "        1    0.001    0.001    0.031    0.031 basic.py:5(<module>)\n",
      "      108    0.001    0.000    0.110    0.001 FEE2.py:55(__init__)\n",
      "        3    0.001    0.000    0.006    0.002 __init__.py:1(<module>)\n",
      "        1    0.001    0.001    0.003    0.003 __init__.py:69(<module>)\n",
      "        1    0.001    0.001    0.001    0.001 blas.py:143(<module>)\n",
      "      221    0.001    0.000    0.002    0.000 utils.py:73(__call__)\n",
      "        2    0.001    0.001    0.006    0.003 __init__.py:52(<module>)\n",
      "        1    0.001    0.001    0.002    0.002 csr.py:1(<module>)\n",
      "        1    0.001    0.001    0.001    0.001 flinalg.py:5(<module>)\n",
      "        1    0.001    0.001    0.001    0.001 fitpack.py:23(<module>)\n",
      "        1    0.001    0.001    0.117    0.117 stats.py:167(<module>)\n",
      "        1    0.001    0.001    0.002    0.002 __init__.py:56(<module>)\n",
      "      350    0.001    0.000    0.004    0.000 inspect.py:804(getargspec)\n",
      "      400    0.001    0.000    0.001    0.000 {numpy.core.multiarray.arange}\n",
      "      540    0.001    0.000    0.001    0.000 {numpy.core.multiarray.copyto}\n",
      "       72    0.001    0.000    0.001    0.000 function_base.py:9(linspace)\n",
      "      324    0.001    0.000    0.001    0.000 {numpy.core.multiarray.concatenate}\n",
      "      540    0.001    0.000    0.003    0.000 numeric.py:148(ones)\n",
      "       43    0.001    0.000    0.001    0.000 {method '_g_get_objinfo' of 'tables.hdf5extension.Group' objects}\n",
      "       30    0.001    0.000    0.001    0.000 threading.py:260(__init__)\n",
      "        1    0.001    0.001    0.010    0.010 lbfgsb.py:9(<module>)\n",
      "       72    0.001    0.000    0.002    0.000 function_base.py:3262(sinc)\n",
      "      246    0.001    0.000    0.003    0.000 attributeset.py:61(issysattrname)\n",
      "      432    0.001    0.000    0.002    0.000 function_base.py:1807(sort_complex)\n",
      "        1    0.001    0.001    0.009    0.009 __init__.py:108(<module>)\n",
      "      216    0.001    0.000    0.109    0.001 filter_design.py:1824(butter)\n",
      "        1    0.001    0.001    0.001    0.001 lil.py:2(<module>)\n",
      "        1    0.001    0.001    0.013    0.013 _minimize.py:8(<module>)\n",
      "       36    0.001    0.000    0.001    0.000 windows.py:859(hamming)\n",
      "     1985    0.001    0.000    0.006    0.000 {method 'any' of 'numpy.ndarray' objects}\n",
      "        1    0.001    0.001    0.238    0.238 SPE.py:1(<module>)\n",
      "      743    0.001    0.000    0.002    0.000 numeric.py:414(asarray)\n",
      "       36    0.001    0.000    0.111    0.003 FEE2.py:116(__init__)\n",
      "        1    0.001    0.001    0.001    0.001 linsolve.py:1(<module>)\n",
      "        1    0.001    0.001    0.005    0.005 _savitzky_golay.py:1(<module>)\n",
      "       36    0.001    0.000    0.003    0.000 SPE.py:19(__init__)\n",
      "     2040    0.001    0.000    0.001    0.000 collections.py:349(<genexpr>)\n",
      "        1    0.001    0.001    0.004    0.004 __init__.py:127(<module>)\n",
      "        1    0.001    0.001    0.051    0.051 ltisys.py:4(<module>)\n",
      "        1    0.001    0.001    0.052    0.052 cont2discrete.py:3(<module>)\n",
      "        1    0.001    0.001    0.003    0.003 iterative.py:1(<module>)\n",
      "        1    0.001    0.001    0.001    0.001 basic.py:3(<module>)\n",
      "      252    0.001    0.000    0.003    0.000 function_base.py:4534(append)\n",
      "        4    0.001    0.000    0.003    0.001 {method '_get_info' of 'tables.tableextension.Table' objects}\n",
      "      287    0.001    0.000    0.001    0.000 __init__.py:22(find_module)\n",
      "     1985    0.001    0.000    0.005    0.000 _methods.py:37(_any)\n",
      "       72    0.001    0.000    0.001    0.000 filter_design.py:1567(_zpklp2lp)\n",
      "        1    0.001    0.001    0.001    0.001 measurements.py:31(<module>)\n",
      "      121    0.001    0.000    0.003    0.000 atom.py:492(__init__)\n",
      "      340    0.001    0.000    0.001    0.000 {method 'format' of 'str' objects}\n",
      "      780    0.001    0.000    0.001    0.000 {hasattr}\n",
      "       30    0.001    0.000    0.002    0.000 threading.py:561(__init__)\n",
      "        1    0.001    0.001    0.005    0.005 _root.py:7(<module>)\n",
      "        5    0.001    0.000    0.003    0.001 description.py:443(__init__)\n",
      "      471    0.001    0.000    0.001    0.000 description.py:677(_f_walk)\n",
      "       61    0.001    0.000    0.001    0.000 {method '_g_getattr' of 'tables.hdf5extension.AttributeSet' objects}\n",
      "        1    0.001    0.001    0.001    0.001 arpack.py:7(<module>)\n",
      "       62    0.001    0.000    0.009    0.000 attributeset.py:366(_g__setattr)\n",
      "       36    0.001    0.000    0.776    0.022 signaltools.py:2634(decimate)\n",
      "      221    0.001    0.000    0.002    0.000 utils.py:117(deprecate)\n",
      "        1    0.001    0.001    0.006    0.006 _ellip_harm.py:1(<module>)\n",
      "       72    0.001    0.000    0.296    0.004 FEE2.py:80(FilterPulse)\n",
      "       12    0.001    0.000    0.001    0.000 {compile}\n",
      "      252    0.001    0.000    0.001    0.000 fromnumeric.py:1383(ravel)\n",
      "       15    0.001    0.000    0.001    0.000 __init__.py:237(__init__)\n",
      "      121    0.001    0.000    0.001    0.000 atom.py:115(_normalize_shape)\n",
      "        1    0.001    0.001    0.001    0.001 quadpack.py:3(<module>)\n",
      "       36    0.001    0.000    0.001    0.000 function_base.py:1518(diff)\n",
      "       36    0.001    0.000    0.002    0.000 windows.py:1610(get_window)\n",
      "        1    0.001    0.001    0.001    0.001 nnls.py:1(<module>)\n",
      "      313    0.001    0.000    0.004    0.000 _util.py:267(getargspec_no_self)\n",
      "      861    0.001    0.000    0.001    0.000 six.py:184(find_module)\n",
      "        1    0.001    0.001    0.001    0.001 kde.py:20(<module>)\n",
      "     2341    0.001    0.000    0.001    0.000 {method 'startswith' of 'str' objects}\n",
      "      177    0.001    0.000    0.001    0.000 file.py:382(register_node)\n",
      "       30    0.001    0.000    0.029    0.001 iostream.py:258(flush)\n",
      "        1    0.001    0.001    0.001    0.001 zeros.py:1(<module>)\n",
      "        1    0.001    0.001    0.001    0.001 _numdiff.py:1(<module>)\n",
      "        1    0.001    0.001    0.004    0.004 morestats.py:5(<module>)\n",
      "       72    0.001    0.000    0.770    0.011 FEE2.py:187(FEENoise)\n",
      "        1    0.001    0.001    0.001    0.001 _max_len_seq.py:4(<module>)\n",
      "       71    0.001    0.000    0.003    0.000 attributeset.py:282(__getattr__)\n",
      "        1    0.001    0.001    0.001    0.001 linesearch.py:13(<module>)\n",
      "        6    0.001    0.000    0.001    0.000 {method '_g_get_lchild_attr' of 'tables.hdf5extension.Group' objects}\n",
      "        1    0.001    0.001    0.004    0.004 _multivariate.py:4(<module>)\n",
      "        9    0.001    0.000    0.024    0.003 table.py:705(__init__)\n",
      "     1455    0.001    0.000    0.001    0.000 {issubclass}\n",
      "        1    0.001    0.001    0.001    0.001 {method 'read' of 'pandas.parser.TextReader' objects}\n",
      "        1    0.001    0.001    0.001    0.001 odepack.py:2(<module>)\n",
      "        1    0.001    0.001    0.030    0.030 orthogonal.py:90(<module>)\n",
      "       20    0.001    0.000    0.004    0.000 attributeset.py:200(__init__)\n",
      "      220    0.000    0.000    0.002    0.000 fromnumeric.py:1875(alltrue)\n",
      "      681    0.000    0.000    0.004    0.000 _methods.py:34(_prod)\n",
      "       21    0.000    0.000    0.028    0.001 node.py:203(__init__)\n",
      "        1    0.000    0.000    0.001    0.001 least_squares.py:1(<module>)\n",
      "  159/155    0.000    0.000    0.012    0.000 file.py:408(get_node)\n",
      "        1    0.000    0.000    0.000    0.000 trf_linear.py:2(<module>)\n",
      "        1    0.000    0.000    0.000    0.000 {posix.popen}\n",
      "        1    0.000    0.000    0.005    0.005 misc.py:1(<module>)\n",
      "      432    0.000    0.000    0.002    0.000 fromnumeric.py:1619(compress)\n",
      "      626    0.000    0.000    0.000    0.000 {method 'sort' of 'list' objects}\n",
      "       36    0.000    0.000    0.297    0.008 FEE2.py:131(Filter)\n",
      "        1    0.000    0.000    0.003    0.003 minpack.py:1(<module>)\n",
      "        1    0.000    0.000    0.002    0.002 filters.py:31(<module>)\n",
      "       91    0.000    0.000    0.001    0.000 stack_context.py:253(wrap)\n",
      "        1    0.000    0.000    0.000    0.000 spectral.py:2(<module>)\n",
      "        1    0.000    0.000    0.000    0.000 pseudo_diffs.py:3(<module>)\n",
      "      121    0.000    0.000    0.001    0.000 atom.py:138(_normalize_default)\n",
      "       60    0.000    0.000    0.001    0.000 threading.py:147(acquire)\n",
      "       91    0.000    0.000    0.003    0.000 atom.py:408(from_kind)\n",
      "        1    0.000    0.000    0.001    0.001 optimize.py:17(<module>)\n",
      "        1    0.000    0.000    0.001    0.001 matfuncs.py:5(<module>)\n",
      "     1117    0.000    0.000    0.000    0.000 {method 'lower' of 'str' objects}\n",
      "        1    0.000    0.000    0.000    0.000 cobyla.py:11(<module>)\n",
      "        1    0.000    0.000    0.001    0.001 __init__.py:41(<module>)\n",
      "       13    0.000    0.000    0.012    0.001 _distn_infrastructure.py:2641(__init__)\n",
      "        1    0.000    0.000    0.001    0.001 mplFunctions.py:3(<module>)\n",
      "        1    0.000    0.000    0.000    0.000 slsqp.py:14(<module>)\n",
      "       36    0.000    0.000    0.002    0.000 iostream.py:240(_schedule_flush)\n",
      "       18    0.000    0.000    0.000    0.000 {eval}\n",
      "      192    0.000    0.000    0.000    0.000 weakref.py:88(__contains__)\n",
      "       72    0.000    0.000    0.000    0.000 {numpy.core.multiarray.where}\n",
      "       36    0.000    0.000    0.001    0.000 numeric.py:2064(isscalar)\n",
      "        1    0.000    0.000    0.000    0.000 distance.py:63(<module>)\n",
      "      589    0.000    0.000    0.000    0.000 {getattr}\n",
      "      432    0.000    0.000    0.000    0.000 {method 'index' of 'str' objects}\n",
      "        2    0.000    0.000    0.000    0.000 {method '_open_array' of 'tables.hdf5extension.Array' objects}\n",
      "      102    0.000    0.000    0.000    0.000 {method 'clear' of 'dict' objects}\n",
      "      175    0.000    0.000    0.002    0.000 file.py:395(cache_node)\n",
      "      217    0.000    0.000    0.000    0.000 group.py:843(__setattr__)\n",
      "        2    0.000    0.000    0.000    0.000 weakref.py:47(__init__)\n",
      "        1    0.000    0.000    0.000    0.000 ImageFilter.py:18(<module>)\n",
      "      102    0.000    0.000    0.002    0.000 _distn_infrastructure.py:588(__init__)\n",
      "      324    0.000    0.000    0.000    0.000 filter_design.py:1503(_relative_degree)\n",
      "        1    0.000    0.000    0.000    0.000 _validation.py:1(<module>)\n",
      "       16    0.000    0.000    0.000    0.000 {dir}\n",
      "        1    0.000    0.000    0.000    0.000 parsers.py:1197(__init__)\n",
      "        2    0.000    0.000    0.001    0.000 _distn_infrastructure.py:3299(get_distribution_names)\n",
      "        1    0.000    0.000    0.041    0.041 bsplines.py:1(<module>)\n",
      "        1    0.000    0.000    0.012    0.012 _discrete_distns.py:5(<module>)\n",
      "       36    0.000    0.000    0.003    0.000 iostream.py:308(write)\n",
      "        9    0.000    0.000    0.001    0.000 table.py:1142(_cache_description_data)\n",
      "        5    0.000    0.000    0.014    0.003 table.py:1027(_g_create)\n",
      "        1    0.000    0.000    0.001    0.001 FEE2.py:1(<module>)\n",
      "      212    0.000    0.000    0.000    0.000 {method 'pop' of 'tables.lrucacheextension.NodeCache' objects}\n",
      "       33    0.000    0.000    0.000    0.000 nosetester.py:170(__init__)\n",
      "        1    0.000    0.000    0.000    0.000 tnc.py:33(<module>)\n",
      "      252    0.000    0.000    0.001    0.000 type_check.py:107(real)\n",
      "        1    0.000    0.000    0.001    0.001 _version.py:7(<module>)\n",
      "        1    0.000    0.000    0.001    0.001 __init__.py:19(<module>)\n",
      "       12    0.000    0.000    0.001    0.000 decorator.py:94(__init__)\n",
      "        6    0.000    0.000    0.000    0.000 {tables.utilsextension.which_class}\n",
      "        3    0.000    0.000    0.000    0.000 {method '_create_carray' of 'tables.hdf5extension.Array' objects}\n",
      "       30    0.000    0.000    0.034    0.001 __init__.py:849(emit)\n",
      "        1    0.000    0.000    0.002    0.002 nonlin.py:106(<module>)\n",
      "      190    0.000    0.000    0.001    0.000 {all}\n",
      "        1    0.000    0.000    0.000    0.000 six.py:1(<module>)\n",
      "      189    0.000    0.000    0.000    0.000 {method 'match' of '_sre.SRE_Pattern' objects}\n",
      "        1    0.000    0.000    0.023    0.023 filter_design.py:2(<module>)\n",
      "        9    0.000    0.000    0.001    0.000 table.py:875(_g_post_init_hook)\n",
      "        1    0.000    0.000    0.003    0.003 windows.py:1(<module>)\n",
      "       30    0.000    0.000    0.000    0.000 {method '__enter__' of 'thread.lock' objects}\n",
      "        1    0.000    0.000    0.001    0.001 compressed.py:1(<module>)\n",
      "        2    0.000    0.000    0.005    0.003 file.py:748(__init__)\n",
      "       36    0.000    0.000    0.001    0.000 fromnumeric.py:1843(product)\n",
      "       36    0.000    0.000    0.218    0.006 signaltools.py:392(convolve)\n",
      "       36    0.000    0.000    0.219    0.006 SPE.py:91(SpePulseFromVectorPE)\n",
      "       41    0.000    0.000    0.000    0.000 {method '__reduce_ex__' of 'object' objects}\n",
      "       28    0.000    0.000    0.020    0.001 threading.py:309(wait)\n",
      "       30    0.000    0.000    0.030    0.001 __init__.py:838(flush)\n",
      "  173/169    0.000    0.000    0.013    0.000 file.py:1550(_get_node)\n",
      "      220    0.000    0.000    0.002    0.000 {method 'all' of 'numpy.ndarray' objects}\n",
      "       41    0.000    0.000    0.000    0.000 copy.py:306(_reconstruct)\n",
      "       60    0.000    0.000    0.000    0.000 threading.py:187(release)\n",
      "      283    0.000    0.000    0.000    0.000 {method 'update' of 'dict' objects}\n",
      "        1    0.000    0.000    0.002    0.002 _plotutils.py:1(<module>)\n",
      "       45    0.000    0.000    0.000    0.000 atom.py:54(split_type)\n",
      "        4    0.000    0.000    0.000    0.000 {tables.utilsextension.get_filters}\n",
      "      296    0.000    0.000    0.000    0.000 {method 'items' of 'dict' objects}\n",
      "        7    0.000    0.000    0.000    0.000 {posix.access}\n",
      "       87    0.000    0.000    0.000    0.000 __init__.py:1360(isEnabledFor)\n",
      "      520    0.000    0.000    0.000    0.000 {abs}\n",
      "        1    0.000    0.000    0.000    0.000 interface.py:41(<module>)\n",
      "       36    0.000    0.000    0.776    0.022 FEE2.py:21(down_scale_signal_)\n",
      "        1    0.000    0.000    0.000    0.000 _trustregion_dogleg.py:1(<module>)\n",
      "        9    0.000    0.000    0.339    0.038 earray.py:193(append)\n",
      "        1    0.000    0.000    0.002    0.002 __init__.py:8(<module>)\n",
      "       30    0.000    0.000    0.000    0.000 __init__.py:452(format)\n",
      "        1    0.000    0.000    0.001    0.001 base.py:1(<module>)\n",
      "      216    0.000    0.000    0.000    0.000 fromnumeric.py:2659(size)\n",
      "      350    0.000    0.000    0.000    0.000 inspect.py:67(ismethod)\n",
      "        1    0.000    0.000    0.001    0.001 decorator.py:33(<module>)\n",
      "       12    0.000    0.000    0.001    0.000 decorator.py:168(make)\n",
      "      772    0.000    0.000    0.000    0.000 {built-in method __new__ of type object at 0x100161d60}\n",
      "       12    0.000    0.000    0.001    0.000 group.py:502(_g_refnode)\n",
      "       36    0.000    0.000    0.001    0.000 shape_base.py:232(hstack)\n",
      "        1    0.000    0.000    0.000    0.000 fitpack2.py:7(<module>)\n",
      "        1    0.000    0.000    0.000    0.000 polyint.py:1(<module>)\n",
      "      254    0.000    0.000    0.000    0.000 {method 'ravel' of 'numpy.ndarray' objects}\n",
      "       30    0.000    0.000    0.020    0.001 threading.py:597(wait)\n",
      "        1    0.000    0.000    0.001    0.001 lsq_linear.py:1(<module>)\n",
      "       53    0.000    0.000    0.000    0.000 path.py:69(check_name_validity)\n",
      "       72    0.000    0.000    0.001    0.000 __init__.py:1145(debug)\n",
      "        1    0.000    0.000    0.006    0.006 mstats_basic.py:4(<module>)\n",
      "       11    0.000    0.000    0.000    0.000 generic.py:94(__init__)\n",
      "        1    0.000    0.000    0.000    0.000 _basinhopping.py:3(<module>)\n",
      "       36    0.000    0.000    0.663    0.018 signaltools.py:957(<lambda>)\n",
      "        9    0.000    0.000    0.000    0.000 earray.py:175(_check_shape_append)\n",
      "       21    0.000    0.000    0.001    0.000 node.py:355(_g_set_location)\n",
      "        1    0.000    0.000    0.000    0.000 trf.py:95(<module>)\n",
      "  134/129    0.000    0.000    0.005    0.000 utils.py:240(newfget)\n",
      "        1    0.000    0.000    0.000    0.000 mstats.py:94(<module>)\n",
      "      216    0.000    0.000    0.000    0.000 {method 'copy' of 'numpy.ndarray' objects}\n",
      "        1    0.000    0.000    0.010    0.010 kdtree.py:3(<module>)\n",
      "        1    0.000    0.000    0.001    0.001 matfuncs.py:3(<module>)\n",
      "      220    0.000    0.000    0.001    0.000 _methods.py:40(_all)\n",
      "      287    0.000    0.000    0.000    0.000 six.py:180(find_module)\n",
      "      350    0.000    0.000    0.000    0.000 inspect.py:209(iscode)\n",
      "      413    0.000    0.000    0.000    0.000 {method 'pop' of 'list' objects}\n",
      "      108    0.000    0.000    0.000    0.000 {numpy.core.multiarray.result_type}\n",
      "      102    0.000    0.000    0.002    0.000 atom.py:657(__init__)\n",
      "      309    0.000    0.000    0.000    0.000 weakref.py:76(__getitem__)\n",
      "      287    0.000    0.000    0.000    0.000 {method 'partition' of 'str' objects}\n",
      "      210    0.000    0.000    0.000    0.000 _distn_infrastructure.py:711(<genexpr>)\n",
      "        5    0.000    0.000    0.000    0.000 description.py:599(_g_set_path_names)\n",
      "       62    0.000    0.000    0.003    0.000 atom.py:353(from_dtype)\n",
      "      7/6    0.000    0.000    0.000    0.000 sre_parse.py:395(_parse)\n",
      "        4    0.000    0.000    0.466    0.117 table.py:2904(_g_copy_rows_optim)\n",
      "       15    0.000    0.000    0.000    0.000 __init__.py:1233(findCaller)\n",
      "      432    0.000    0.000    0.000    0.000 {method 'sort' of 'numpy.ndarray' objects}\n",
      "        1    0.000    0.000    0.001    0.001 pilutil.py:7(<module>)\n",
      "       43    0.000    0.000    0.001    0.000 group.py:394(_g_check_has_child)\n",
      "        1    0.000    0.000    0.000    0.000 signaltools.py:4(<module>)\n",
      "       30    0.000    0.000    0.034    0.001 __init__.py:746(handle)\n",
      "        5    0.000    0.000    0.000    0.000 {method '_close_append' of 'tables.tableextension.Table' objects}\n",
      "        5    0.000    0.000    0.000    0.000 table.py:596(row)\n",
      "      132    0.000    0.000    0.000    0.000 {method 'copy' of 'dict' objects}\n",
      "        1    0.000    0.000    0.000    0.000 __init__.py:9(<module>)\n",
      "        7    0.000    0.000    0.000    0.000 leaf.py:320(_calc_chunkshape)\n",
      "        1    0.000    0.000    0.001    0.001 internals.py:4007(form_blocks)\n",
      "        1    0.000    0.000    0.129    0.129 _peak_finding.py:3(<module>)\n",
      "      361    0.000    0.000    0.000    0.000 inspect.py:142(isfunction)\n",
      "      444    0.000    0.000    0.000    0.000 {setattr}\n",
      "        9    0.000    0.000    0.000    0.000 table.py:3161(__init__)\n",
      "     1852    0.000    0.000    0.000    0.000 {method 'isalnum' of 'str' objects}\n",
      "       41    0.000    0.000    0.001    0.000 copy.py:66(copy)\n",
      "       15    0.000    0.000    0.034    0.002 __init__.py:1320(callHandlers)\n",
      "      188    0.000    0.000    0.000    0.000 collections.py:375(<genexpr>)\n",
      "      136    0.000    0.000    0.000    0.000 table.py:3222(_g_col)\n",
      "       27    0.000    0.000    0.001    0.000 atom.py:564(_get_init_args)\n",
      "       72    0.000    0.000    0.000    0.000 {method 'tolist' of 'numpy.ndarray' objects}\n",
      "       87    0.000    0.000    0.000    0.000 __init__.py:1346(getEffectiveLevel)\n",
      "    14/10    0.000    0.000    0.011    0.001 group.py:1174(_g_load_child)\n",
      "       64    0.000    0.000    0.000    0.000 {map}\n",
      "       30    0.000    0.000    0.001    0.000 threading.py:242(Condition)\n",
      "      221    0.000    0.000    0.000    0.000 utils.py:68(__init__)\n",
      "       27    0.000    0.000    0.002    0.000 description.py:108(from_atom)\n",
      "       30    0.000    0.000    0.000    0.000 generic.py:2674(__setattr__)\n",
      "       45    0.000    0.000    0.002    0.000 atom.py:381(from_type)\n",
      "        9    0.000    0.000    0.013    0.001 utils.py:121(convert_to_np_atom2)\n",
      "      123    0.000    0.000    0.001    0.000 attributeset.py:193(_g_getnode)\n",
      "       60    0.000    0.000    0.000    0.000 __init__.py:710(release)\n",
      "       41    0.000    0.000    0.000    0.000 atom.py:482(<lambda>)\n",
      "       36    0.000    0.000    0.000    0.000 {_codecs.utf_8_decode}\n",
      "        9    0.000    0.000    0.000    0.000 inspect.py:845(formatargspec)\n",
      "       36    0.000    0.000    0.000    0.000 {method 'take' of 'numpy.ndarray' objects}\n",
      "      596    0.000    0.000    0.000    0.000 {method 'endswith' of 'str' objects}\n",
      "       27    0.000    0.000    0.001    0.000 description.py:196(__init__)\n",
      "       10    0.000    0.000    0.000    0.000 generic.py:1359(_set_as_cached)\n",
      "        1    0.000    0.000    0.000    0.000 lobpcg.py:11(<module>)\n",
      "        7    0.000    0.000    0.001    0.000 nonlin.py:1491(_nonlin_wrapper)\n",
      "        4    0.000    0.000    0.007    0.002 table.py:1083(_g_open)\n",
      "       60    0.000    0.000    0.001    0.000 __init__.py:703(acquire)\n",
      "       68    0.000    0.000    0.000    0.000 table.py:3487(__init__)\n",
      "        4    0.000    0.000    0.000    0.000 {posix.stat}\n",
      "      134    0.000    0.000    0.000    0.000 {sys._getframe}\n",
      "        5    0.000    0.000    0.000    0.000 {method '_g_list_group' of 'tables.hdf5extension.Group' objects}\n",
      "       36    0.000    0.000    0.000    0.000 {method 'decode' of 'str' objects}\n",
      "       15    0.000    0.000    0.036    0.002 __init__.py:1157(info)\n",
      "       15    0.000    0.000    0.036    0.002 __init__.py:1267(_log)\n",
      "      135    0.000    0.000    0.000    0.000 {method 'rfind' of 'str' objects}\n",
      "        1    0.000    0.000    0.000    0.000 _util.py:1(<module>)\n",
      "       54    0.000    0.000    0.000    0.000 {repr}\n",
      "        4    0.000    0.000    0.000    0.000 {method '_g_create' of 'tables.hdf5extension.Group' objects}\n",
      "      188    0.000    0.000    0.000    0.000 collections.py:373(<genexpr>)\n",
      "       16    0.000    0.000    0.000    0.000 group.py:426(__contains__)\n",
      "       29    0.000    0.000    0.000    0.000 path.py:122(join_path)\n",
      "       33    0.000    0.000    0.000    0.000 posixpath.py:120(dirname)\n",
      "        9    0.000    0.000    0.000    0.000 table.py:3343(_g_close)\n",
      "       17    0.000    0.000    0.001    0.000 file.py:1562(get_node)\n",
      "       19    0.000    0.000    0.000    0.000 atom.py:598(__init__)\n",
      "       14    0.000    0.000    0.013    0.001 getlimits.py:94(__new__)\n",
      "      142    0.000    0.000    0.000    0.000 generic.py:7(_check)\n",
      "        5    0.000    0.000    0.000    0.000 group.py:346(_g_add_children_names)\n",
      "        9    0.000    0.000    0.000    0.000 table.py:950(_calc_nrowsinbuf)\n",
      "        9    0.000    0.000    0.013    0.001 utils.py:90(convert_to_np_atom)\n",
      "       23    0.000    0.000    0.000    0.000 node.py:439(_g_del_location)\n",
      "        6    0.000    0.000    0.000    0.000 filters.py:275(__init__)\n",
      "      3/2    0.000    0.000    0.000    0.000 base.py:124(__new__)\n",
      "       20    0.000    0.000    0.000    0.000 base.py:1233(__contains__)\n",
      "        4    0.000    0.000    0.480    0.120 leaf.py:428(_g_copy)\n",
      "        8    0.000    0.000    0.001    0.000 _version.py:55(__init__)\n",
      "       25    0.000    0.000    0.001    0.000 node.py:482(_f_close)\n",
      "       30    0.000    0.000    0.000    0.000 threading.py:986(isAlive)\n",
      "        2    0.000    0.000    0.000    0.000 frame.py:5244(extract_index)\n",
      "       45    0.000    0.000    0.000    0.000 __init__.py:607(filter)\n",
      "       23    0.000    0.000    0.001    0.000 re.py:230(_compile)\n",
      "       23    0.000    0.000    0.000    0.000 weakref.py:105(__setitem__)\n",
      "     13/6    0.000    0.000    0.000    0.000 sre_compile.py:64(_compile)\n",
      "      452    0.000    0.000    0.000    0.000 {method 'get' of 'dict' objects}\n",
      "       36    0.000    0.000    0.001    0.000 {method 'min' of 'numpy.ndarray' objects}\n",
      "       12    0.000    0.000    0.000    0.000 {pandas.lib.infer_dtype}\n",
      "       10    0.000    0.000    0.000    0.000 internals.py:3312(iget)\n",
      "       14    0.000    0.000    0.000    0.000 leaf.py:297(_g_post_init_hook)\n",
      "        1    0.000    0.000    0.000    0.000 quadrature.py:1(<module>)\n",
      "      107    0.000    0.000    0.000    0.000 _util.py:122(check_random_state)\n",
      "       45    0.000    0.000    0.000    0.000 dtypes.py:74(is_dtype)\n",
      "       36    0.000    0.000    0.000    0.000 {method 'write' of '_io.StringIO' objects}\n",
      "       22    0.000    0.000    0.005    0.000 posix.py:53(wake)\n",
      "      170    0.000    0.000    0.000    0.000 {method 'split' of 'str' objects}\n",
      "       12    0.000    0.000    0.000    0.000 decorator.py:151(update)\n",
      "        1    0.000    0.000    0.000    0.000 decomp_qr.py:1(<module>)\n",
      "       12    0.000    0.000    0.002    0.000 decorator.py:201(create)\n",
      "       10    0.000    0.000    0.000    0.000 {method 'get_value' of 'pandas.index.IndexEngine' objects}\n",
      "        8    0.000    0.000    0.004    0.001 file.py:499(_close_nodes)\n",
      "        1    0.000    0.000    0.000    0.000 data.py:7(<module>)\n",
      "        4    0.000    0.000    0.480    0.120 node.py:745(_f_copy)\n",
      "       36    0.000    0.000    0.000    0.000 {method 'max' of 'numpy.ndarray' objects}\n",
      "       30    0.000    0.000    0.000    0.000 path.py:154(split_path)\n",
      "       36    0.000    0.000    0.000    0.000 {method 'put' of 'numpy.ndarray' objects}\n",
      "       10    0.000    0.000    0.000    0.000 common.py:1011(_possibly_cast_to_datetime)\n",
      "       30    0.000    0.000    0.000    0.000 __init__.py:312(getMessage)\n",
      "       13    0.000    0.000    0.012    0.001 group.py:697(_f_get_child)\n",
      "      148    0.000    0.000    0.000    0.000 threading.py:64(_note)\n",
      "       18    0.000    0.000    0.000    0.000 table.py:1007(_get_type_col_names)\n",
      "       10    0.000    0.000    0.001    0.000 base.py:1957(get_value)\n",
      "        4    0.000    0.000    0.479    0.120 table.py:2942(_g_copy_with_stats)\n",
      "        5    0.000    0.000    0.000    0.000 description.py:579(_g_set_nested_names_descr)\n",
      "       62    0.000    0.000    0.000    0.000 sre_parse.py:193(__next)\n",
      "       10    0.000    0.000    0.001    0.000 generic.py:1345(_get_item_cache)\n",
      "       20    0.000    0.000    0.000    0.000 {method '_g_list_attr' of 'tables.hdf5extension.AttributeSet' objects}\n",
      "        9    0.000    0.000    0.002    0.000 group.py:240(_g_post_init_hook)\n",
      "        1    0.000    0.000    0.000    0.000 {pandas.lib.clean_index_list}\n",
      "        1    0.000    0.000    0.000    0.000 _distn_infrastructure.py:1235(rv_continuous)\n",
      "      221    0.000    0.000    0.000    0.000 utils.py:51(_set_function_name)\n",
      "       36    0.000    0.000    0.000    0.000 _methods.py:28(_amin)\n",
      "        9    0.000    0.000    0.000    0.000 table.py:633(_v_wdflts)\n",
      "        2    0.000    0.000    0.000    0.000 internals.py:4168(_stack_arrays)\n",
      "        1    0.000    0.000    0.000    0.000 decomp.py:15(<module>)\n",
      "        1    0.000    0.000    0.000    0.000 matfuncs.py:346(_ExpmPadeHelper)\n",
      "        2    0.000    0.000    0.000    0.000 file.py:364(__init__)\n",
      "        1    0.000    0.000    0.005    0.005 __init__.py:109(cpu_count)\n",
      "    19/12    0.000    0.000    0.000    0.000 sre_parse.py:151(getwidth)\n",
      "       15    0.000    0.000    0.001    0.000 __init__.py:1254(makeRecord)\n",
      "       30    0.000    0.000    0.002    0.000 threading.py:542(Event)\n",
      "       14    0.000    0.000    0.025    0.002 leaf.py:231(__init__)\n",
      "        1    0.000    0.000    0.000    0.000 kdtree.py:176(KDTree)\n",
      "       18    0.000    0.000    0.012    0.001 group.py:825(__getattr__)\n",
      "        5    0.000    0.000    0.000    0.000 __init__.py:75(CFUNCTYPE)\n",
      "        5    0.000    0.000    0.000    0.000 {method '_g_open' of 'tables.hdf5extension.Group' objects}\n",
      "       82    0.000    0.000    0.000    0.000 atom.py:572(<genexpr>)\n",
      "       30    0.000    0.000    0.000    0.000 __init__.py:723(format)\n",
      "       10    0.000    0.000    0.000    0.000 series.py:120(__init__)\n",
      "        6    0.000    0.000    0.000    0.000 internals.py:1657(__init__)\n",
      "       10    0.000    0.000    0.000    0.000 common.py:1111(_possibly_infer_to_datetimelike)\n",
      "       20    0.000    0.000    0.004    0.000 node.py:166(_v_attrs)\n",
      "        1    0.000    0.000    0.000    0.000 _trustregion.py:1(<module>)\n",
      "       57    0.000    0.000    0.000    0.000 inspect.py:838(strseq)\n",
      "       36    0.000    0.000    0.000    0.000 iostream.py:227(_is_master_process)\n",
      "        6    0.000    0.000    0.001    0.000 group.py:306(_g_get_child_leaf_class)\n",
      "       15    0.000    0.000    0.000    0.000 __init__.py:148(getLevelName)\n",
      "       10    0.000    0.000    0.001    0.000 series.py:2787(_sanitize_array)\n",
      "       21    0.000    0.000    0.000    0.000 file.py:2148(_check_writable)\n",
      "       36    0.000    0.000    0.000    0.000 utf_8.py:15(decode)\n",
      "      139    0.000    0.000    0.000    0.000 atom.py:135(<genexpr>)\n",
      "       30    0.000    0.000    0.000    0.000 threading.py:288(__exit__)\n",
      "       12    0.000    0.000    0.000    0.000 sre_compile.py:256(_optimize_charset)\n",
      "       10    0.000    0.000    0.000    0.000 internals.py:3778(__init__)\n",
      "       60    0.000    0.000    0.000    0.000 threading.py:59(__init__)\n",
      "       12    0.000    0.000    0.000    0.000 internals.py:2482(make_block)\n",
      "       30    0.000    0.000    0.000    0.000 __init__.py:446(usesTime)\n",
      "        1    0.000    0.000    0.013    0.013 decomp_schur.py:1(<module>)\n",
      "        4    0.000    0.000    0.000    0.000 filters.py:161(_from_leaf)\n",
      "        9    0.000    0.000    0.000    0.000 flavor.py:355(_is_numpy)\n",
      "        1    0.000    0.000    0.001    0.001 parsers.py:1312(read)\n",
      "       42    0.000    0.000    0.000    0.000 {pandas.lib.values_from_object}\n",
      "       10    0.000    0.000    0.000    0.000 numeric.py:133(_convert_scalar_indexer)\n",
      "        9    0.000    0.000    0.000    0.000 flavor.py:181(flavor_of)\n",
      "        1    0.000    0.000    0.002    0.002 _binned_statistic.py:1(<module>)\n",
      "        6    0.000    0.000    0.000    0.000 sre_compile.py:433(_compile_info)\n",
      "       15    0.000    0.000    0.034    0.002 __init__.py:1288(handle)\n",
      "       10    0.000    0.000    0.001    0.000 frame.py:1973(__getitem__)\n",
      "        5    0.000    0.000    0.002    0.000 carray.py:133(__init__)\n",
      "      241    0.000    0.000    0.000    0.000 {method '__contains__' of 'frozenset' objects}\n",
      "        1    0.000    0.000    0.000    0.000 internals.py:2674(_rebuild_blknos_and_blklocs)\n",
      "        1    0.000    0.000    0.000    0.000 _differentialevolution.py:4(<module>)\n",
      "        1    0.000    0.000    0.004    0.004 parsers.py:416(parser_f)\n",
      "       30    0.000    0.000    0.000    0.000 threading.py:285(__enter__)\n",
      "        7    0.000    0.000    0.003    0.000 group.py:207(__init__)\n",
      "        1    0.000    0.000    0.003    0.003 frame.py:307(_init_dict)\n",
      "        1    0.000    0.000    0.000    0.000 common.py:1(<module>)\n",
      "        1    0.000    0.000    0.000    0.000 sputils.py:2(<module>)\n",
      "        1    0.000    0.000    0.000    0.000 DIOMIRA.py:40(FEE_param_table)\n",
      "       27    0.000    0.000    0.000    0.000 atom.py:320(prefix)\n",
      "        9    0.000    0.000    0.000    0.000 flavor.py:366(conv_to_numpy)\n",
      "        2    0.000    0.000    0.004    0.002 file.py:530(close_subtree)\n",
      "      241    0.000    0.000    0.000    0.000 {thread.get_ident}\n",
      "        5    0.000    0.000    0.000    0.000 filters.py:245(_pack)\n",
      "        1    0.000    0.000    0.000    0.000 _trustregion_ncg.py:1(<module>)\n",
      "       15    0.000    0.000    0.000    0.000 genericpath.py:93(_splitext)\n",
      "       22    0.000    0.000    0.000    0.000 __init__.py:868(__setitem__)\n",
      "       15    0.000    0.000    0.000    0.000 posixpath.py:97(splitext)\n",
      "       38    0.000    0.000    0.000    0.000 {method 'remove' of 'list' objects}\n",
      "       10    0.000    0.000    0.000    0.000 {__import__}\n",
      "        2    0.000    0.000    0.000    0.000 group.py:1132(__init__)\n",
      "        7    0.000    0.000    0.000    0.000 leaf.py:50(calc_chunksize)\n",
      "        9    0.000    0.000    0.000    0.000 table.py:1016(_get_enum_map)\n",
      "        3    0.000    0.000    0.000    0.000 {method '_g_get_gchild_attr' of 'tables.hdf5extension.Group' objects}\n",
      "        1    0.000    0.000    0.000    0.000 bsr.py:1(<module>)\n",
      "       60    0.000    0.000    0.000    0.000 {thread.allocate_lock}\n",
      "       10    0.000    0.000    0.001    0.000 series.py:580(__getitem__)\n",
      "        1    0.000    0.000    0.000    0.000 _monotone.py:1(<module>)\n",
      "       15    0.000    0.000    0.000    0.000 threading.py:1143(currentThread)\n",
      "        8    0.000    0.000    0.000    0.000 array.py:113(_getrowsize)\n",
      "      139    0.000    0.000    0.000    0.000 atom.py:501(<genexpr>)\n",
      "       36    0.000    0.000    0.000    0.000 _methods.py:25(_amax)\n",
      "        1    0.000    0.000    0.000    0.000 _spectral.py:3(<module>)\n",
      "       25    0.000    0.000    0.000    0.000 weakref.py:199(pop)\n",
      "       24    0.000    0.000    0.000    0.000 proxydict.py:42(__setitem__)\n",
      "        1    0.000    0.000    0.013    0.013 machar.py:98(__init__)\n",
      "       15    0.000    0.000    0.000    0.000 posixpath.py:112(basename)\n",
      "        1    0.000    0.000    0.004    0.004 parsers.py:272(_read)\n",
      "       28    0.000    0.000    0.000    0.000 threading.py:297(_acquire_restore)\n",
      "        1    0.000    0.000    0.000    0.000 dok.py:1(<module>)\n",
      "       23    0.000    0.000    0.000    0.000 weakref.py:277(__new__)\n",
      "       20    0.000    0.000    0.000    0.000 common.py:1705(is_sparse)\n",
      "       28    0.000    0.000    0.000    0.000 threading.py:300(_is_owned)\n",
      "       12    0.000    0.000    0.000    0.000 sre_compile.py:228(_compile_charset)\n",
      "        5    0.000    0.000    0.000    0.000 copy_reg.py:95(_slotnames)\n",
      "       14    0.000    0.000    0.003    0.000 leaf.py:733(_f_close)\n",
      "        1    0.000    0.000    0.000    0.000 _hungarian.py:10(<module>)\n",
      "        1    0.000    0.000    0.013    0.013 getlimits.py:127(_init)\n",
      "        1    0.000    0.000    0.000    0.000 _matfuncs_sqrtm.py:6(<module>)\n",
      "        5    0.000    0.000    0.001    0.000 file.py:2025(__contains__)\n",
      "        1    0.000    0.000    0.000    0.000 <string>:1(HistogramResult)\n",
      "        2    0.000    0.000    0.015    0.008 file.py:2704(close)\n",
      "        9    0.000    0.000    0.002    0.000 decorator.py:224(decorate)\n",
      "       25    0.000    0.000    0.000    0.000 node.py:849(_g_check_group)\n",
      "        1    0.000    0.000    0.000    0.000 _add_newdocs.py:1(<module>)\n",
      "        1    0.000    0.000    0.000    0.000 _stats_mstats_common.py:1(<module>)\n",
      "       19    0.000    0.000    0.000    0.000 dual.py:52(register_func)\n",
      "       12    0.000    0.000    0.000    0.000 internals.py:77(__init__)\n",
      "        9    0.000    0.000    0.000    0.000 flavor.py:111(array_of_flavor2)\n",
      "        1    0.000    0.000    0.000    0.000 minres.py:1(<module>)\n",
      "       30    0.000    0.000    0.000    0.000 proxydict.py:25(__init__)\n",
      "        1    0.000    0.000    0.002    0.002 Configure.py:10(cdf_to_dict)\n",
      "      5/2    0.000    0.000    0.000    0.000 utils.py:140(check_file_access)\n",
      "       17    0.000    0.000    0.000    0.000 node.py:157(_g_getparent)\n",
      "       23    0.000    0.000    0.000    0.000 weakref.py:282(__init__)\n",
      "        1    0.000    0.000    0.000    0.000 kdtree.py:77(Rectangle)\n",
      "       10    0.000    0.000    0.001    0.000 series.py:2804(_try_cast)\n",
      "       10    0.000    0.000    0.000    0.000 internals.py:3283(get)\n",
      "       10    0.000    0.000    0.000    0.000 series.py:270(_set_axis)\n",
      "       20    0.000    0.000    0.000    0.000 base.py:1915(get_loc)\n",
      "       10    0.000    0.000    0.001    0.000 series.py:236(from_array)\n",
      "        1    0.000    0.000    0.000    0.000 coo.py:1(<module>)\n",
      "        1    0.000    0.000    0.000    0.000 parsers.py:653(_get_options_with_defaults)\n",
      "       30    0.000    0.000    0.000    0.000 common.py:1763(is_list_like)\n",
      "       21    0.000    0.000    0.000    0.000 file.py:2141(_iswritable)\n",
      "       15    0.000    0.000    0.000    0.000 __init__.py:70(<lambda>)\n",
      "        1    0.000    0.000    0.000    0.000 internals.py:4136(_multi_blockify)\n",
      "        1    0.000    0.000    0.000    0.000 rbf.py:44(<module>)\n",
      "        9    0.000    0.000    0.001    0.000 table.py:3063(_f_close)\n",
      "        3    0.000    0.000    0.001    0.000 earray.py:155(_g_create)\n",
      "        1    0.000    0.000    0.000    0.000 ltisys.py:355(lti)\n",
      "       25    0.000    0.000    0.002    0.000 doccer.py:173(decorate)\n",
      "       41    0.000    0.000    0.000    0.000 copy_reg.py:92(__newobj__)\n",
      "        1    0.000    0.000    0.000    0.000 csc.py:1(<module>)\n",
      "        2    0.000    0.000    0.000    0.000 numeric.py:607(require)\n",
      "        2    0.000    0.000    0.000    0.000 file.py:837(__get_root_group)\n",
      "        1    0.000    0.000    0.008    0.008 Configure.py:59(configure)\n",
      "        6    0.000    0.000    0.001    0.000 sre_compile.py:567(compile)\n",
      "        6    0.000    0.000    0.000    0.000 sre_parse.py:706(parse)\n",
      "       10    0.000    0.000    0.001    0.000 frame.py:2331(_box_item_values)\n",
      "        3    0.000    0.000    0.000    0.000 common.py:1380(_asarray_tuplesafe)\n",
      "        2    0.000    0.000    0.000    0.000 numeric.py:2576(seterr)\n",
      "        8    0.000    0.000    0.000    0.000 nonlin.py:218(_set_doc)\n",
      "       12    0.000    0.000    0.000    0.000 internals.py:191(mgr_locs)\n",
      "       47    0.000    0.000    0.000    0.000 leaf.py:147(<lambda>)\n",
      "       68    0.000    0.000    0.000    0.000 table.py:3834(close)\n",
      "       10    0.000    0.000    0.000    0.000 base.py:972(_convert_scalar_indexer)\n",
      "        1    0.000    0.000    0.000    0.000 decomp_lu.py:1(<module>)\n",
      "        9    0.000    0.000    0.000    0.000 flavor.py:378(_conv_numpy_to_numpy)\n",
      "       10    0.000    0.000    0.000    0.000 decorator.py:53(__init__)\n",
      "        1    0.000    0.000    0.000    0.000 {tables.utilsextension.read_f_attr}\n",
      "        1    0.000    0.000    0.000    0.000 decomp_cholesky.py:1(<module>)\n",
      "       48    0.000    0.000    0.000    0.000 file.py:2129(_check_open)\n",
      "       55    0.000    0.000    0.000    0.000 sre_parse.py:212(get)\n",
      "       24    0.000    0.000    0.000    0.000 range.py:435(__len__)\n",
      "       11    0.000    0.000    0.000    0.000 group.py:906(_g_close)\n",
      "        1    0.000    0.000    0.000    0.000 dia.py:1(<module>)\n",
      "        1    0.000    0.000    0.001    0.001 frame.py:5521(_homogenize)\n",
      "        1    0.000    0.000    0.000    0.000 decomp_svd.py:1(<module>)\n",
      "        9    0.000    0.000    0.000    0.000 flavor.py:199(array_of_flavor)\n",
      "        1    0.000    0.000    0.000    0.000 mstats_extras.py:4(<module>)\n",
      "       45    0.000    0.000    0.000    0.000 {divmod}\n",
      "        4    0.000    0.000    0.003    0.001 file.py:917(create_group)\n",
      "       20    0.000    0.000    0.000    0.000 {method 'get_loc' of 'pandas.index.IndexEngine' objects}\n",
      "       28    0.000    0.000    0.000    0.000 threading.py:294(_release_save)\n",
      "      102    0.000    0.000    0.000    0.000 {method 'isupper' of 'str' objects}\n",
      "       31    0.000    0.000    0.000    0.000 {method 'find' of 'str' objects}\n",
      "        5    0.000    0.000    0.000    0.000 leaf.py:360(_calc_nrowsinbuf)\n",
      "       14    0.000    0.000    0.000    0.000 {method '_g_new' of 'tables.hdf5extension.Leaf' objects}\n",
      "       23    0.000    0.000    0.000    0.000 common.py:1710(is_datetimetz)\n",
      "        3    0.000    0.000    0.000    0.000 decorator.py:239(decorator)\n",
      "       18    0.000    0.000    0.000    0.000 base.py:3381(_ensure_index)\n",
      "        8    0.000    0.000    0.000    0.000 function_base.py:3944(add_newdoc)\n",
      "        2    0.000    0.000    0.005    0.003 file.py:222(open_file)\n",
      "        2    0.000    0.000    0.000    0.000 numerictypes.py:603(obj2sctype)\n",
      "       10    0.000    0.000    0.000    0.000 internals.py:3914(get_values)\n",
      "        4    0.000    0.000    0.480    0.120 table.py:2971(copy)\n",
      "        1    0.000    0.000    0.000    0.000 __config__.py:3(<module>)\n",
      "       36    0.000    0.000    0.000    0.000 FEParam.py:62(spe_i_to_adc)\n",
      "       15    0.000    0.000    0.000    0.000 threading.py:958(name)\n",
      "        1    0.000    0.000    0.000    0.000 __init__.py:912(update)\n",
      "        9    0.000    0.000    0.000    0.000 table.py:3003(flush)\n",
      "        5    0.000    0.000    0.000    0.000 description.py:608(get_cols_in_order)\n",
      "       14    0.000    0.000    0.001    0.000 re.py:138(match)\n",
      "        5    0.000    0.000    0.000    0.000 __init__.py:498(cast)\n",
      "        5    0.000    0.000    0.000    0.000 getlimits.py:151(<lambda>)\n",
      "        1    0.000    0.000    0.000    0.000 common.py:4(<module>)\n",
      "        1    0.000    0.000    0.000    0.000 ndgriddata.py:6(<module>)\n",
      "        1    0.000    0.000    0.000    0.000 realtransforms.py:3(<module>)\n",
      "        1    0.000    0.000    0.000    0.000 morphology.py:31(<module>)\n",
      "        9    0.000    0.000    0.000    0.000 {method '_g_close_group' of 'tables.hdf5extension.Group' objects}\n",
      "        3    0.000    0.000    0.000    0.000 carray.py:223(_g_create_common)\n",
      "       22    0.000    0.000    0.000    0.000 common.py:1736(is_categorical_dtype)\n",
      "       58    0.000    0.000    0.000    0.000 {method 'release' of 'thread.lock' objects}\n",
      "       10    0.000    0.000    0.000    0.000 series.py:306(name)\n",
      "        1    0.000    0.000    0.000    0.000 fir_filter_design.py:1(<module>)\n",
      "        1    0.000    0.000    0.000    0.000 _distr_params.py:3(<module>)\n",
      "        6    0.000    0.000    0.000    0.000 weakref.py:162(iterkeys)\n",
      "       10    0.000    0.000    0.000    0.000 internals.py:183(make_block_same_class)\n",
      "        1    0.000    0.000    0.000    0.000 <string>:1(<module>)\n",
      "       10    0.000    0.000    0.000    0.000 base.py:1247(__getitem__)\n",
      "        2    0.000    0.000    0.000    0.000 parsers.py:1016(_maybe_make_multi_index_columns)\n",
      "       80    0.000    0.000    0.000    0.000 {method 'strip' of 'str' objects}\n",
      "      142    0.000    0.000    0.000    0.000 {method 'add' of 'set' objects}\n",
      "        5    0.000    0.000    0.002    0.000 earray.py:137(__init__)\n",
      "        1    0.000    0.000    0.000    0.000 construct.py:2(<module>)\n",
      "        1    0.000    0.000    0.000    0.000 _decomp_qz.py:1(<module>)\n",
      "        1    0.000    0.000    0.000    0.000 linalg_version.py:1(<module>)\n",
      "       18    0.000    0.000    0.000    0.000 data.py:106(_create_method)\n",
      "        1    0.000    0.000    0.000    0.000 parsers.py:883(__init__)\n",
      "        1    0.000    0.000    0.000    0.000 _constants.py:4(<module>)\n",
      "        1    0.000    0.000    0.000    0.000 _tukeylambda_stats.py:1(<module>)\n",
      "        4    0.000    0.000    0.000    0.000 polynomial.py:1045(__init__)\n",
      "       23    0.000    0.000    0.000    0.000 common.py:1575(is_datetime64tz_dtype)\n",
      "       12    0.000    0.000    0.098    0.008 leaf.py:721(flush)\n",
      "       10    0.000    0.000    0.000    0.000 series.py:302(name)\n",
      "       10    0.000    0.000    0.000    0.000 generic.py:2658(__getattr__)\n",
      "        1    0.000    0.000    0.000    0.000 fftpack_version.py:1(<module>)\n",
      "       10    0.000    0.000    0.001    0.000 frame.py:2338(_box_col_values)\n",
      "       21    0.000    0.000    0.000    0.000 table.py:616(<lambda>)\n",
      "        1    0.000    0.000    0.000    0.000 wfmFunctions.py:4(<module>)\n",
      "       39    0.000    0.000    0.000    0.000 sre_parse.py:141(__getitem__)\n",
      "       36    0.000    0.000    0.000    0.000 FEParam.py:59(spe_i_to_v)\n",
      "        1    0.000    0.000    0.000    0.000 __init__.py:11(<module>)\n",
      "        1    0.000    0.000    0.000    0.000 dual.py:12(<module>)\n",
      "       10    0.000    0.000    0.000    0.000 internals.py:4171(_asarray_compat)\n",
      "        1    0.000    0.000    0.000    0.000 new.py:5(<module>)\n",
      "       16    0.000    0.000    0.000    0.000 file.py:2168(is_undo_enabled)\n",
      "        9    0.000    0.000    0.000    0.000 group.py:271(__del__)\n",
      "        7    0.000    0.000    0.000    0.000 leaf.py:30(csformula)\n",
      "       15    0.000    0.000    0.000    0.000 {math.log10}\n",
      "       45    0.000    0.000    0.000    0.000 {method 'groups' of '_sre.SRE_Match' objects}\n",
      "        2    0.000    0.000    0.000    0.000 range.py:117(_simple_new)\n",
      "      120    0.000    0.000    0.000    0.000 {method 'pop' of 'dict' objects}\n",
      "        1    0.000    0.000    0.000    0.000 internals.py:2578(__init__)\n",
      "        1    0.000    0.000    0.000    0.000 _expm_multiply.py:2(<module>)\n",
      "        9    0.000    0.000    0.000    0.000 utils.py:393(__init__)\n",
      "        1    0.000    0.000    0.003    0.003 parsers.py:810(read)\n",
      "       16    0.000    0.000    0.000    0.000 {method 'view' of 'numpy.ndarray' objects}\n",
      "        4    0.000    0.000    0.000    0.000 table.py:115(_index_pathname_of)\n",
      "       23    0.000    0.000    0.000    0.000 file.py:447(drop_from_cache)\n",
      "       10    0.000    0.000    0.000    0.000 common.py:986(_possibly_castable)\n",
      "        2    0.000    0.000    0.000    0.000 common.py:1226(_default_index)\n",
      "        3    0.000    0.000    0.000    0.000 rcsetup.py:119(validate_bool)\n",
      "       13    0.000    0.000    0.000    0.000 {method 'insert' of 'list' objects}\n",
      "        1    0.000    0.000    0.000    0.000 interpolation.py:31(<module>)\n",
      "        2    0.000    0.000    0.000    0.000 base.py:1143(_engine)\n",
      "        1    0.000    0.000    0.000    0.000 core.py:42(use)\n",
      "        4    0.000    0.000    0.000    0.000 _version.py:114(_compare)\n",
      "        3    0.000    0.000    0.000    0.000 {print}\n",
      "       16    0.000    0.000    0.000    0.000 common.py:1731(is_categorical)\n",
      "       51    0.000    0.000    0.000    0.000 {posix.getpid}\n",
      "        1    0.000    0.000    0.000    0.000 contingency.py:2(<module>)\n",
      "       10    0.000    0.000    0.000    0.000 internals.py:3911(internal_values)\n",
      "       10    0.000    0.000    0.000    0.000 internals.py:3884(dtype)\n",
      "        1    0.000    0.000    0.000    0.000 dltisys.py:3(<module>)\n",
      "       11    0.000    0.000    0.000    0.000 frame.py:321(<genexpr>)\n",
      "       10    0.000    0.000    0.000    0.000 base.py:2795(_maybe_cast_indexer)\n",
      "        1    0.000    0.000    0.000    0.000 wavelets.py:1(<module>)\n",
      "        2    0.000    0.000    0.000    0.000 base.py:309(_simple_new)\n",
      "        1    0.000    0.000    0.000    0.000 lsqr.py:50(<module>)\n",
      "        1    0.000    0.000    0.000    0.000 utils.py:1(<module>)\n",
      "        1    0.000    0.000    0.003    0.003 frame.py:210(__init__)\n",
      "       10    0.000    0.000    0.000    0.000 common.py:1717(is_extension_type)\n",
      "       20    0.000    0.000    0.000    0.000 atom.py:593(<lambda>)\n",
      "        9    0.000    0.000    0.000    0.000 table.py:1001(_get_container)\n",
      "        6    0.000    0.000    0.000    0.000 sre_compile.py:552(_code)\n",
      "       30    0.000    0.000    0.000    0.000 threading.py:570(isSet)\n",
      "       10    0.000    0.000    0.001    0.000 frame.py:1999(_getitem_column)\n",
      "        1    0.000    0.000    0.000    0.000 base.py:61(spmatrix)\n",
      "       12    0.000    0.000    0.000    0.000 node.py:883(_g_check_name)\n",
      "        1    0.000    0.000    0.000    0.000 _solvers.py:1(<module>)\n",
      "        1    0.000    0.000    0.000    0.000 common.py:272(array_equivalent)\n",
      "        1    0.000    0.000    0.000    0.000 _linprog.py:16(<module>)\n",
      "       10    0.000    0.000    0.000    0.000 series.py:371(get_values)\n",
      "        4    0.000    0.000    0.000    0.000 node.py:873(_g_maybe_remove)\n",
      "        1    0.000    0.000    0.000    0.000 <string>:1(DescribeResult)\n",
      "        1    0.000    0.000    0.000    0.000 <string>:1(BinnedStatistic2dResult)\n",
      "        5    0.000    0.000    0.000    0.000 iterative.py:70(combine)\n",
      "        1    0.000    0.000    0.000    0.000 special_matrices.py:1(<module>)\n",
      "        4    0.000    0.000    0.000    0.000 attributeset.py:582(_g_copy)\n",
      "        1    0.000    0.000    0.000    0.000 lsmr.py:17(<module>)\n",
      "        1    0.000    0.000    0.000    0.000 getopt.py:51(getopt)\n",
      "        4    0.000    0.000    0.000    0.000 leaf.py:408(_process_range_read)\n",
      "       45    0.000    0.000    0.000    0.000 decorator.py:59(__iter__)\n",
      "        4    0.000    0.000    0.000    0.000 leaf.py:174(filters)\n",
      "        1    0.000    0.000    0.000    0.000 dogbox.py:42(<module>)\n",
      "        1    0.000    0.000    0.000    0.000 _onenormest.py:2(<module>)\n",
      "        2    0.000    0.000    0.000    0.000 numeric.py:2676(geterr)\n",
      "       10    0.000    0.000    0.000    0.000 internals.py:301(iget)\n",
      "       15    0.000    0.000    0.000    0.000 atexit.py:37(register)\n",
      "       10    0.000    0.000    0.000    0.000 common.py:94(_isnull_new)\n",
      "       26    0.000    0.000    0.000    0.000 sre_parse.py:149(append)\n",
      "        1    0.000    0.000    0.001    0.001 internals.py:3996(create_block_manager_from_arrays)\n",
      "      188    0.000    0.000    0.000    0.000 {method 'isdigit' of 'str' objects}\n",
      "        1    0.000    0.000    0.000    0.000 parsers.py:683(_clean_options)\n",
      "        1    0.000    0.000    0.000    0.000 lgmres.py:4(<module>)\n",
      "       20    0.000    0.000    0.000    0.000 common.py:1846(_apply_if_callable)\n",
      "        1    0.000    0.000    0.000    0.000 internals.py:2799(_verify_integrity)\n",
      "      7/6    0.000    0.000    0.000    0.000 sre_parse.py:317(_parse_sub)\n",
      "        1    0.000    0.000    0.000    0.000 parsers.py:603(__init__)\n",
      "        2    0.000    0.000    0.000    0.000 range.py:42(__new__)\n",
      "        1    0.000    0.000    0.000    0.000 numeric.py:2967(__enter__)\n",
      "        1    0.000    0.000    0.000    0.000 lambertw.py:1(<module>)\n",
      "        1    0.000    0.000    0.000    0.000 waveforms.py:7(<module>)\n",
      "        9    0.000    0.000    0.000    0.000 doccer.py:187(unindent_string)\n",
      "        3    0.000    0.000    0.001    0.000 file.py:1257(create_earray)\n",
      "        6    0.000    0.000    0.000    0.000 sre_parse.py:189(__init__)\n",
      "        2    0.000    0.000    0.000    0.000 _util.py:105(__init__)\n",
      "        6    0.000    0.000    0.000    0.000 base.py:440(values)\n",
      "        6    0.000    0.000    0.000    0.000 sre_compile.py:428(_simple)\n",
      "        1    0.000    0.000    0.000    0.000 {pandas.lib.list_to_object_array}\n",
      "       33    0.000    0.000    0.000    0.000 {method 'rstrip' of 'str' objects}\n",
      "       12    0.000    0.000    0.000    0.000 path.py:179(isvisiblename)\n",
      "       30    0.000    0.000    0.000    0.000 {method '__exit__' of 'thread.lock' objects}\n",
      "       20    0.000    0.000    0.000    0.000 leaf.py:358(<genexpr>)\n",
      "        2    0.000    0.000    0.000    0.000 urlparse.py:168(urlsplit)\n",
      "        1    0.000    0.000    0.000    0.000 parsers.py:797(_make_engine)\n",
      "       11    0.000    0.000    0.000    0.000 atom.py:479(<lambda>)\n",
      "        1    0.000    0.000    0.000    0.000 _ode.py:103(ode)\n",
      "       12    0.000    0.000    0.000    0.000 file.py:878(_get_or_create_path)\n",
      "       15    0.000    0.000    0.000    0.000 leaf.py:188(_getmaindim)\n",
      "       46    0.000    0.000    0.000    0.000 table.py:895(<genexpr>)\n",
      "        3    0.000    0.000    0.000    0.000 common.py:1511(_get_dtype_type)\n",
      "       15    0.000    0.000    0.000    0.000 {time.time}\n",
      "        1    0.000    0.000    0.000    0.000 base.py:1507(equals)\n",
      "       23    0.000    0.000    0.000    0.000 {method 'setter' of 'property' objects}\n",
      "        5    0.000    0.000    0.000    0.000 arrayprint.py:340(array2string)\n",
      "        9    0.000    0.000    0.000    0.000 file.py:177(_checkfilters)\n",
      "        9    0.000    0.000    0.000    0.000 {method '_g_new' of 'tables.hdf5extension.Node' objects}\n",
      "        2    0.000    0.000    0.001    0.000 array.py:233(_g_open)\n",
      "        1    0.000    0.000    0.000    0.000 compressed.py:21(_cs_matrix)\n",
      "        2    0.000    0.000    0.000    0.000 genericpath.py:34(isfile)\n",
      "        1    0.000    0.000    0.000    0.000 spfun_stats.py:34(<module>)\n",
      "        3    0.000    0.000    0.000    0.000 group.py:288(_g_get_child_group_class)\n",
      "       32    0.000    0.000    0.000    0.000 {pandas.lib.isscalar}\n",
      "       10    0.000    0.000    0.000    0.000 rcsetup.py:316(validate_color)\n",
      "        1    0.000    0.000    0.000    0.000 <string>:1(Ks_2sampResult)\n",
      "       30    0.000    0.000    0.000    0.000 internals.py:3824(_block)\n",
      "        1    0.000    0.000    0.000    0.000 doccer.py:179(unindent_dict)\n",
      "        1    0.000    0.000    0.000    0.000 helper.py:1(<module>)\n",
      "       10    0.000    0.000    0.000    0.000 series.py:292(_set_subtyp)\n",
      "        2    0.000    0.000    0.000    0.000 getopt.py:202(short_has_arg)\n",
      "        3    0.000    0.000    0.000    0.000 doccer.py:116(_doc)\n",
      "        1    0.000    0.000    0.000    0.000 <string>:1(NormaltestResult)\n",
      "        2    0.000    0.000    0.000    0.000 urlparse.py:137(urlparse)\n",
      "        2    0.000    0.000    0.000    0.000 file.py:559(shutdown)\n",
      "        1    0.000    0.000    0.000    0.000 _ode.py:694(vode)\n",
      "        5    0.000    0.000    0.000    0.000 _multivariate.py:175(__init__)\n",
      "        2    0.000    0.000    0.000    0.000 file.py:112(remove)\n",
      "       15    0.000    0.000    0.000    0.000 process.py:161(name)\n",
      "        1    0.000    0.000    0.000    0.000 _components.py:1(<module>)\n",
      "        4    0.000    0.000    0.000    0.000 function_base.py:1843(trim_zeros)\n",
      "        5    0.000    0.000    0.000    0.000 numeric.py:1835(array_str)\n",
      "        4    0.000    0.000    0.000    0.000 _weakrefset.py:26(__exit__)\n",
      "        1    0.000    0.000    0.000    0.000 ltisys.py:876(StateSpace)\n",
      "        1    0.000    0.000    0.000    0.000 _decomp_polar.py:1(<module>)\n",
      "        2    0.000    0.000    0.000    0.000 UserDict.py:4(__init__)\n",
      "        1    0.000    0.000    0.000    0.000 fourier.py:31(<module>)\n",
      "        1    0.000    0.000    0.000    0.000 _distn_infrastructure.py:424(rv_frozen)\n",
      "        1    0.000    0.000    0.000    0.000 <string>:1(LinregressResult)\n",
      "        4    0.000    0.000    0.000    0.000 dtypes.py:122(construct_from_string)\n",
      "        2    0.000    0.000    0.000    0.000 getopt.py:187(do_shorts)\n",
      "        1    0.000    0.000    0.000    0.000 io.py:1(<module>)\n",
      "        2    0.000    0.000    0.000    0.000 utils.py:61(set_vml_num_threads)\n",
      "       10    0.000    0.000    0.000    0.000 series.py:313(dtype)\n",
      "       18    0.000    0.000    0.000    0.000 {method 'count' of 'str' objects}\n",
      "        1    0.000    0.000    0.000    0.000 <string>:1(Ttest_relResult)\n",
      "       12    0.000    0.000    0.000    0.000 getlimits.py:13(_frz)\n",
      "       10    0.000    0.000    0.000    0.000 sre_parse.py:268(_escape)\n",
      "        1    0.000    0.000    0.000    0.000 bvls.py:1(<module>)\n",
      "       15    0.000    0.000    0.000    0.000 process.py:59(current_process)\n",
      "        1    0.000    0.000    0.000    0.000 <string>:1(CumfreqResult)\n",
      "       24    0.000    0.000    0.000    0.000 decorator.py:219(<genexpr>)\n",
      "        8    0.000    0.000    0.000    0.000 re.py:143(search)\n",
      "        1    0.000    0.000    0.000    0.000 <string>:1(KruskalResult)\n",
      "        1    0.000    0.000    0.000    0.000 common.py:186(_is_url)\n",
      "        1    0.000    0.000    0.000    0.000 <string>:1(ArgSpec)\n",
      "        1    0.000    0.000    0.000    0.000 {tables.utilsextension.which_lib_version}\n",
      "       10    0.000    0.000    0.000    0.000 series.py:366(_values)\n",
      "        4    0.000    0.000    0.000    0.000 numeric.py:676(<genexpr>)\n",
      "       41    0.000    0.000    0.000    0.000 {id}\n",
      "        2    0.000    0.000    0.000    0.000 file.py:108(add)\n",
      "        1    0.000    0.000    0.000    0.000 _differentialevolution.py:209(DifferentialEvolutionSolver)\n",
      "        1    0.000    0.000    0.000    0.000 <string>:1(SigmaclipResult)\n",
      "        2    0.000    0.000    0.000    0.000 common.py:1696(is_bool_dtype)\n",
      "        1    0.000    0.000    0.000    0.000 <string>:1(Mean)\n",
      "        4    0.000    0.000    0.480    0.120 leaf.py:605(copy)\n",
      "       16    0.000    0.000    0.000    0.000 {method 'find' of 'bytearray' objects}\n",
      "        1    0.000    0.000    0.000    0.000 <string>:1(AndersonResult)\n",
      "       24    0.000    0.000    0.000    0.000 sre_parse.py:137(__len__)\n",
      "       10    0.000    0.000    0.000    0.000 {pandas.lib.checknull}\n",
      "        3    0.000    0.000    0.000    0.000 internals.py:2619(shape)\n",
      "        2    0.000    0.000    0.000    0.000 file.py:120(get_handlers_by_name)\n",
      "        1    0.000    0.000    0.000    0.000 _norm.py:3(<module>)\n",
      "        1    0.000    0.000    0.000    0.000 <string>:1(SpearmanrResult)\n",
      "        2    0.000    0.000    0.000    0.000 {numexpr.interpreter._set_vml_num_threads}\n",
      "        1    0.000    0.000    0.000    0.000 optimize.py:1699(Brent)\n",
      "        1    0.000    0.000    0.000    0.000 _ode.py:475(complex_ode)\n",
      "        1    0.000    0.000    0.000    0.000 ltisys.py:577(TransferFunction)\n",
      "        1    0.000    0.000    0.000    0.000 interface.py:53(LinearOperator)\n",
      "        1    0.000    0.000    0.000    0.000 _distn_infrastructure.py:583(rv_generic)\n",
      "        9    0.000    0.000    0.000    0.000 string.py:310(join)\n",
      "       13    0.000    0.000    0.000    0.000 sre_parse.py:92(__init__)\n",
      "        1    0.000    0.000    0.000    0.000 kde.py:41(gaussian_kde)\n",
      "        6    0.000    0.000    0.000    0.000 {_sre.compile}\n",
      "        7    0.000    0.000    0.000    0.000 __init__.py:157(iteritems)\n",
      "        2    0.000    0.000    0.000    0.000 {numpy.core.umath.seterrobj}\n",
      "        1    0.000    0.000    0.000    0.000 interpolate.py:1130(BPoly)\n",
      "        1    0.000    0.000    0.000    0.000 <string>:1(MannwhitneyuResult)\n",
      "        4    0.000    0.000    0.000    0.000 node.py:180(_g_gettitle)\n",
      "        1    0.000    0.000    0.000    0.000 numerictypes.py:860(<lambda>)\n",
      "       12    0.000    0.000    0.000    0.000 {vars}\n",
      "       20    0.000    0.000    0.000    0.000 {method '_g_new' of 'tables.hdf5extension.AttributeSet' objects}\n",
      "        4    0.000    0.000    0.000    0.000 _weakrefset.py:20(__enter__)\n",
      "        1    0.000    0.000    0.000    0.000 _basinhopping.py:186(AdaptiveStepsize)\n",
      "        3    0.000    0.000    0.000    0.000 doccer.py:71(inherit_docstring_from)\n",
      "        1    0.000    0.000    0.000    0.000 lil.py:19(lil_matrix)\n",
      "        2    0.000    0.000    0.000    0.000 internals.py:276(ftype)\n",
      "        1    0.000    0.000    0.000    0.000 <string>:1(Variance)\n",
      "       41    0.000    0.000    0.000    0.000 description.py:612(join_paths)\n",
      "       27    0.000    0.000    0.000    0.000 sre_parse.py:206(match)\n",
      "        1    0.000    0.000    0.000    0.000 _expm_frechet.py:1(<module>)\n",
      "        1    0.000    0.000    0.000    0.000 <string>:1(PointbiserialrResult)\n",
      "        1    0.000    0.000    0.000    0.000 common.py:290(get_filepath_or_buffer)\n",
      "       21    0.000    0.000    0.000    0.000 internals.py:2695(_get_items)\n",
      "        1    0.000    0.000    0.000    0.000 <string>:1(FlignerResult)\n",
      "       12    0.000    0.000    0.000    0.000 sre_compile.py:546(isstring)\n",
      "        8    0.000    0.000    0.000    0.000 {method 'search' of '_sre.SRE_Pattern' objects}\n",
      "        1    0.000    0.000    0.000    0.000 <string>:1(FriedmanchisquareResult)\n",
      "        1    0.000    0.000    0.000    0.000 _procrustes.py:6(<module>)\n",
      "        1    0.000    0.000    0.003    0.003 file.py:956(create_table)\n",
      "        1    0.000    0.000    0.000    0.000 _trustregion.py:14(BaseQuadraticSubproblem)\n",
      "        1    0.000    0.000    0.000    0.000 <string>:1(RelfreqResult)\n",
      "        1    0.000    0.000    0.000    0.000 <string>:1(KendalltauResult)\n",
      "        1    0.000    0.000    0.000    0.000 _laplacian.py:3(<module>)\n",
      "        1    0.000    0.000    0.002    0.002 frame.py:5224(_arrays_to_mgr)\n",
      "        1    0.000    0.000    0.000    0.000 base.py:938(is_unique)\n",
      "        1    0.000    0.000    0.000    0.000 parsers.py:2293(_process_date_conversion)\n",
      "       20    0.000    0.000    0.000    0.000 {method 'group' of '_sre.SRE_Match' objects}\n",
      "        1    0.000    0.000    0.000    0.000 bsr.py:22(bsr_matrix)\n",
      "        4    0.000    0.000    0.000    0.000 base.py:403(_reset_identity)\n",
      "       24    0.000    0.000    0.000    0.000 {max}\n",
      "        1    0.000    0.000    0.000    0.000 <string>:1(BinnedStatisticddResult)\n",
      "        2    0.000    0.000    0.000    0.000 rcsetup.py:375(validate_fontsize)\n",
      "        1    0.000    0.000    0.000    0.000 _ni_support.py:31(<module>)\n",
      "        1    0.000    0.000    0.000    0.000 <string>:1(Ttest_1sampResult)\n",
      "        1    0.000    0.000    0.000    0.000 ltisys.py:728(ZerosPolesGain)\n",
      "       23    0.000    0.000    0.000    0.000 node.py:293(__del__)\n",
      "        8    0.000    0.000    0.000    0.000 table.py:612(<lambda>)\n",
      "        1    0.000    0.000    0.000    0.000 _ode.py:1102(lsoda)\n",
      "        1    0.000    0.000    0.000    0.000 <string>:1(Power_divergenceResult)\n",
      "        2    0.000    0.000    0.000    0.000 _multivariate.py:1519(__init__)\n",
      "        4    0.000    0.000    0.466    0.117 table.py:2876(_g_copy_rows)\n",
      "       21    0.000    0.000    0.000    0.000 {method 'iteritems' of 'dict' objects}\n",
      "        1    0.000    0.000    0.000    0.000 <string>:1(BinnedStatisticResult)\n",
      "        1    0.000    0.000    0.000    0.000 {pandas.lib.array_equivalent_object}\n",
      "        1    0.000    0.000    0.000    0.000 internals.py:3004(_consolidate_check)\n",
      "       16    0.000    0.000    0.000    0.000 internals.py:160(mgr_locs)\n",
      "       10    0.000    0.000    0.000    0.000 common.py:1788(is_hashable)\n",
      "        1    0.000    0.000    0.000    0.000 interpolate.py:330(interp1d)\n",
      "        1    0.000    0.000    0.000    0.000 _ode.py:632(IntegratorBase)\n",
      "        8    0.000    0.000    0.000    0.000 table.py:870(<genexpr>)\n",
      "        1    0.000    0.000    0.000    0.000 <string>:1(KstestResult)\n",
      "        1    0.000    0.000    0.000    0.000 <string>:1(RepeatedResults)\n",
      "        1    0.000    0.000    0.000    0.000 _procrustes.py:4(<module>)\n",
      "       11    0.000    0.000    0.000    0.000 parsers.py:1384(<genexpr>)\n",
      "        1    0.000    0.000    0.000    0.000 parsers.py:860(_validate_parse_dates_arg)\n",
      "        2    0.000    0.000    0.000    0.000 genericpath.py:23(exists)\n",
      "        1    0.000    0.000    0.000    0.000 <string>:1(Ttest_indResult)\n",
      "        7    0.000    0.000    0.000    0.000 {zip}\n",
      "        2    0.000    0.000    0.004    0.002 group.py:917(_f_close)\n",
      "        1    0.000    0.000    0.000    0.000 <string>:1(Std_dev)\n",
      "        1    0.000    0.000    0.000    0.000 _arraytools.py:3(<module>)\n",
      "        1    0.000    0.000    0.000    0.000 <string>:1(LeveneResult)\n",
      "       20    0.000    0.000    0.000    0.000 attributeset.py:642(_g_close)\n",
      "        1    0.000    0.000    0.000    0.000 numerictypes.py:774(__getitem__)\n",
      "        6    0.000    0.000    0.000    0.000 getlimits.py:150(<lambda>)\n",
      "        6    0.000    0.000    0.000    0.000 sre_parse.py:67(__init__)\n",
      "        5    0.000    0.000    0.000    0.000 {method '_flush_buffered_rows' of 'tables.tableextension.Row' objects}\n",
      "        2    0.000    0.000    0.004    0.002 group.py:898(_g_close_descendents)\n",
      "        1    0.000    0.000    0.000    0.000 extract.py:2(<module>)\n",
      "        8    0.000    0.000    0.000    0.000 {method 'index' of 'list' objects}\n",
      "        1    0.000    0.000    0.000    0.000 doccer.py:2(<module>)\n",
      "        2    0.000    0.000    0.000    0.000 {pandas.algos.ensure_object}\n",
      "       42    0.000    0.000    0.000    0.000 decorator.py:115(<lambda>)\n",
      "        1    0.000    0.000    0.000    0.000 fitpack2.py:70(UnivariateSpline)\n",
      "        4    0.000    0.000    0.000    0.000 range.py:58(_ensure_int)\n",
      "        1    0.000    0.000    0.000    0.000 coo.py:21(coo_matrix)\n",
      "        1    0.000    0.000    0.000    0.000 <string>:1(Anderson_ksampResult)\n",
      "       10    0.000    0.000    0.000    0.000 colors.py:265(to_rgb)\n",
      "        3    0.000    0.000    0.000    0.000 inspect.py:59(isclass)\n",
      "        1    0.000    0.000    0.000    0.000 <string>:1(SkewtestResult)\n",
      "        5    0.000    0.000    0.000    0.000 {method 'get' of 'dictproxy' objects}\n",
      "        1    0.000    0.000    0.000    0.000 csc.py:19(csc_matrix)\n",
      "        1    0.000    0.000    0.000    0.000 <string>:1(WilcoxonResult)\n",
      "        7    0.000    0.000    0.000    0.000 leaf.py:40(limit_es)\n",
      "       12    0.000    0.000    0.000    0.000 internals.py:272(dtype)\n",
      "        1    0.000    0.000    0.000    0.000 <string>:1(KurtosistestResult)\n",
      "        1    0.000    0.000    0.000    0.000 _trustregion_dogleg.py:40(DoglegSubproblem)\n",
      "        4    0.000    0.000    0.000    0.000 table.py:109(_index_name_of)\n",
      "        2    0.000    0.000    0.000    0.000 stat.py:49(S_ISREG)\n",
      "        1    0.000    0.000    0.000    0.000 <string>:1(RanksumsResult)\n",
      "        1    0.000    0.000    0.000    0.000 <string>:1(ModeResult)\n",
      "        1    0.000    0.000    0.000    0.000 _multivariate.py:2151(invwishart_gen)\n",
      "        2    0.000    0.000    0.000    0.000 getlimits.py:148(<lambda>)\n",
      "        1    0.000    0.000    0.000    0.000 <string>:1(F_onewayResult)\n",
      "        1    0.000    0.000    0.000    0.000 warnings.py:96(simplefilter)\n",
      "        1    0.000    0.000    0.000    0.000 nonlin.py:690(LowRankMatrix)\n",
      "        2    0.000    0.000    0.015    0.008 file.py:2761(__exit__)\n",
      "        1    0.000    0.000    0.000    0.000 FEE2.py:107(FEE)\n",
      "        1    0.000    0.000    0.000    0.000 _multivariate.py:1198(__init__)\n",
      "        1    0.000    0.000    0.000    0.000 _ode.py:966(dopri5)\n",
      "        1    0.000    0.000    0.000    0.000 data.py:22(_data_matrix)\n",
      "        1    0.000    0.000    0.000    0.000 csr.py:21(csr_matrix)\n",
      "       20    0.000    0.000    0.000    0.000 {callable}\n",
      "        4    0.000    0.000    0.000    0.000 UserDict.py:34(__len__)\n",
      "       10    0.000    0.000    0.000    0.000 colors.py:214(is_color_like)\n",
      "        1    0.000    0.000    0.000    0.000 _multivariate.py:331(__init__)\n",
      "        1    0.000    0.000    0.000    0.000 <string>:1(AnsariResult)\n",
      "        1    0.000    0.000    0.000    0.000 rbf.py:57(Rbf)\n",
      "        1    0.000    0.000    0.000    0.000 {method 'append' of 'tables.tableextension.Row' objects}\n",
      "        1    0.000    0.000    0.000    0.000 _continuous_distns.py:108(norm_gen)\n",
      "        1    0.000    0.000    0.000    0.000 _ode.py:894(zvode)\n",
      "        2    0.000    0.000    0.000    0.000 base.py:1186(__iter__)\n",
      "        1    0.000    0.000    0.000    0.000 dok.py:29(dok_matrix)\n",
      "       12    0.000    0.000    0.000    0.000 carray.py:192(<genexpr>)\n",
      "        1    0.000    0.000    0.000    0.000 <string>:1(BartlettResult)\n",
      "        1    0.000    0.000    0.000    0.000 parsers.py:1182(_do_date_conversions)\n",
      "        1    0.000    0.000    0.000    0.000 parsers.py:1024(_make_index)\n",
      "        9    0.000    0.000    0.000    0.000 {method 'itervalues' of 'dict' objects}\n",
      "        9    0.000    0.000    0.000    0.000 internals.py:2621(<genexpr>)\n",
      "        1    0.000    0.000    0.000    0.000 version.py:3(<module>)\n",
      "        1    0.000    0.000    0.000    0.000 _discrete_distns.py:254(hypergeom_gen)\n",
      "        1    0.000    0.000    0.000    0.000 {sorted}\n",
      "        3    0.000    0.000    0.000    0.000 group.py:180(_g_getfilters)\n",
      "        1    0.000    0.000    0.000    0.000 internals.py:4122(_simple_blockify)\n",
      "        1    0.000    0.000    0.000    0.000 decorator.py:84(FunctionMaker)\n",
      "        1    0.000    0.000    0.000    0.000 SPE.py:17(SPE)\n",
      "        5    0.000    0.000    0.000    0.000 utils.py:40(correct_byteorder)\n",
      "        1    0.000    0.000    0.000    0.000 interpolate.py:812(PPoly)\n",
      "        2    0.000    0.000    0.000    0.000 base.py:1146(<lambda>)\n",
      "        5    0.000    0.000    0.000    0.000 iterative.py:69(set_docstring)\n",
      "        1    0.000    0.000    0.000    0.000 _continuous_distns.py:1849(gamma_gen)\n",
      "        1    0.000    0.000    0.000    0.000 _version.py:148(__gt__)\n",
      "        1    0.000    0.000    0.000    0.000 _multivariate.py:667(matrix_normal_gen)\n",
      "        1    0.000    0.000    0.000    0.000 dia.py:17(dia_matrix)\n",
      "        1    0.000    0.000    0.000    0.000 nonlin.py:1182(DiagBroyden)\n",
      "       10    0.000    0.000    0.000    0.000 common.py:73(isnull)\n",
      "        1    0.000    0.000    0.000    0.000 parsers.py:1280(_set_noconvert_columns)\n",
      "        6    0.000    0.000    0.000    0.000 base.py:409(__len__)\n",
      "        4    0.000    0.000    0.000    0.000 attributeset.py:265(_f_list)\n",
      "        1    0.000    0.000    0.000    0.000 interface.py:451(_CustomLinearOperator)\n",
      "        1    0.000    0.000    0.000    0.000 _distn_infrastructure.py:2511(rv_discrete)\n",
      "        1    0.000    0.000    0.000    0.000 range.py:150(_data)\n",
      "        1    0.000    0.000    0.000    0.000 _multivariate.py:2250(__init__)\n",
      "        1    0.000    0.000    0.000    0.000 numeric.py:2963(__init__)\n",
      "        2    0.000    0.000    0.000    0.000 base.py:445(get_values)\n",
      "       10    0.000    0.000    0.000    0.000 internals.py:144(to_dense)\n",
      "        1    0.000    0.000    0.000    0.000 getlimits.py:149(<lambda>)\n",
      "        2    0.000    0.000    0.000    0.000 _version.py:151(__ge__)\n",
      "        1    0.000    0.000    0.000    0.000 _continuous_distns.py:350(beta_gen)\n",
      "        1    0.000    0.000    0.000    0.000 _multivariate.py:1420(wishart_gen)\n",
      "        1    0.000    0.000    0.000    0.000 _basinhopping.py:36(BasinHoppingRunner)\n",
      "        1    0.000    0.000    0.000    0.000 interpolate.py:630(_PPolyBase)\n",
      "        1    0.000    0.000    0.000    0.000 polyint.py:670(PiecewisePolynomial)\n",
      "        4    0.000    0.000    0.000    0.000 _version.py:78(_compare_version)\n",
      "        6    0.000    0.000    0.001    0.000 <decorator-gen-5>:1(non_reentrant)\n",
      "        4    0.000    0.000    0.000    0.000 _weakrefset.py:16(__init__)\n",
      "        4    0.000    0.000    0.000    0.000 table.py:627(_v_iobuf)\n",
      "        3    0.000    0.000    0.000    0.000 internals.py:2801(<genexpr>)\n",
      "        1    0.000    0.000    0.000    0.000 nonlin.py:1269(ExcitingMixing)\n",
      "        1    0.000    0.000    0.000    0.000 interpolate.py:1623(RegularGridInterpolator)\n",
      "       30    0.000    0.000    0.000    0.000 {hash}\n",
      "        1    0.000    0.000    0.000    0.000 numeric.py:2972(__exit__)\n",
      "        1    0.000    0.000    0.000    0.000 base.py:383(is_)\n",
      "        2    0.000    0.000    0.000    0.000 stat.py:24(S_IFMT)\n",
      "       10    0.000    0.000    0.000    0.000 internals.py:129(internal_values)\n",
      "        8    0.000    0.000    0.000    0.000 {numpy.core.multiarray.add_docstring}\n",
      "        1    0.000    0.000    0.000    0.000 _version.py:17(NumpyVersion)\n",
      "        1    0.000    0.000    0.000    0.000 _continuous_distns.py:1053(exponnorm_gen)\n",
      "        6    0.000    0.000    0.000    0.000 sre_parse.py:145(__setitem__)\n",
      "        4    0.000    0.000    0.000    0.000 six.py:67(_add_doc)\n",
      "        1    0.000    0.000    0.000    0.000 _discrete_distns.py:547(boltzmann_gen)\n",
      "       15    0.000    0.000    0.000    0.000 posixpath.py:44(normcase)\n",
      "       17    0.000    0.000    0.000    0.000 {globals}\n",
      "        1    0.000    0.000    0.000    0.000 parsers.py:2376(_clean_na_values)\n",
      "        1    0.000    0.000    0.000    0.000 _multivariate.py:250(multivariate_normal_gen)\n",
      "        1    0.000    0.000    0.000    0.000 interface.py:603(MatrixLinearOperator)\n",
      "        7    0.000    0.000    0.000    0.000 {method 'update' of 'set' objects}\n",
      "        3    0.000    0.000    0.000    0.000 rcsetup.py:145(validate_float)\n",
      "        1    0.000    0.000    0.000    0.000 _continuous_distns.py:2096(genhalflogistic_gen)\n",
      "        1    0.000    0.000    0.000    0.000 fitpack2.py:898(BivariateSpline)\n",
      "        1    0.000    0.000    0.000    0.000 _multivariate.py:169(multi_rv_generic)\n",
      "        1    0.000    0.000    0.000    0.000 _continuous_distns.py:996(expon_gen)\n",
      "        8    0.000    0.000    0.000    0.000 {method 'remove' of 'set' objects}\n",
      "        1    0.000    0.000    0.000    0.000 _ode.py:1051(dop853)\n",
      "        1    0.000    0.000    0.000    0.000 _continuous_distns.py:4192(truncnorm_gen)\n",
      "        1    0.000    0.000    0.000    0.000 parsers.py:941(_has_complex_date_col)\n",
      "       12    0.000    0.000    0.000    0.000 {method 'lower' of 'unicode' objects}\n",
      "        1    0.000    0.000    0.000    0.000 matfuncs.py:180(MatrixPowerOperator)\n",
      "        1    0.000    0.000    0.000    0.000 _continuous_distns.py:2309(halflogistic_gen)\n",
      "        1    0.000    0.000    0.000    0.000 _multivariate.py:767(__init__)\n",
      "        1    0.000    0.000    0.000    0.000 common.py:245(_expand_user)\n",
      "        1    0.000    0.000    0.000    0.000 _continuous_distns.py:2863(logistic_gen)\n",
      "        5    0.000    0.000    0.000    0.000 internals.py:4140(<lambda>)\n",
      "        4    0.000    0.000    0.000    0.000 {numpy.core.umath.geterrobj}\n",
      "        1    0.000    0.000    0.000    0.000 common.py:204(_is_s3_url)\n",
      "        2    0.000    0.000    0.000    0.000 {method 'fill' of 'numpy.ndarray' objects}\n",
      "       14    0.000    0.000    0.000    0.000 node.py:463(_g_post_init_hook)\n",
      "       20    0.000    0.000    0.000    0.000 {pandas.lib.is_float}\n",
      "        1    0.000    0.000    0.000    0.000 _basinhopping.py:283(Metropolis)\n",
      "        1    0.000    0.000    0.000    0.000 table.py:2240(_save_buffered_rows)\n",
      "        3    0.000    0.000    0.000    0.000 sre_parse.py:236(_class_escape)\n",
      "        1    0.000    0.000    0.000    0.000 _continuous_distns.py:3000(lognorm_gen)\n",
      "        1    0.000    0.000    0.000    0.000 arpack.py:370(_SymmetricArpackParams)\n",
      "        1    0.000    0.000    0.000    0.000 generic.py:813(keys)\n",
      "        1    0.000    0.000    0.000    0.000 _continuous_distns.py:2226(gumbel_l_gen)\n",
      "        1    0.000    0.000    0.000    0.000 generic.py:381(_info_axis)\n",
      "        1    0.000    0.000    0.000    0.000 _continuous_distns.py:1390(foldnorm_gen)\n",
      "        1    0.000    0.000    0.000    0.000 _continuous_distns.py:3262(ncf_gen)\n",
      "        1    0.000    0.000    0.000    0.000 _monotone.py:14(PchipInterpolator)\n",
      "        1    0.000    0.000    0.000    0.000 _continuous_distns.py:3716(powerlaw_gen)\n",
      "        1    0.000    0.000    0.000    0.000 _continuous_distns.py:1210(fatiguelife_gen)\n",
      "        1    0.000    0.000    0.000    0.000 _basinhopping.py:14(Storage)\n",
      "        1    0.000    0.000    0.000    0.000 _continuous_distns.py:1273(foldcauchy_gen)\n",
      "        4    0.000    0.000    0.000    0.000 {method 'iterkeys' of 'dict' objects}\n",
      "        1    0.000    0.000    0.000    0.000 interpolate.py:88(interp2d)\n",
      "        1    0.000    0.000    0.000    0.000 _continuous_distns.py:3474(pareto_gen)\n",
      "        1    0.000    0.000    0.000    0.000 _continuous_distns.py:4467(gennorm_gen)\n",
      "        1    0.000    0.000    0.000    0.000 doccer.py:153(filldoc)\n",
      "        1    0.000    0.000    0.000    0.000 _continuous_distns.py:857(cosine_gen)\n",
      "        1    0.000    0.000    0.000    0.000 rcsetup.py:737(validate_cycler)\n",
      "        1    0.000    0.000    0.000    0.000 _continuous_distns.py:2655(johnsonsu_gen)\n",
      "        1    0.000    0.000    0.000    0.000 _continuous_distns.py:4301(uniform_gen)\n",
      "        1    0.000    0.000    0.000    0.000 interpolate.py:1982(ppform)\n",
      "        1    0.000    0.000    0.000    0.000 _continuous_distns.py:4138(truncexpon_gen)\n",
      "        1    0.000    0.000    0.000    0.000 nonlin.py:549(InverseJacobian)\n",
      "        1    0.000    0.000    0.000    0.000 _discrete_distns.py:196(geom_gen)\n",
      "        2    0.000    0.000    0.000    0.000 <string>:8(__new__)\n",
      "        1    0.000    0.000    0.000    0.000 _continuous_distns.py:4023(recipinvgauss_gen)\n",
      "        1    0.000    0.000    0.000    0.000 _continuous_distns.py:809(chi2_gen)\n",
      "        1    0.000    0.000    0.000    0.000 orthogonal.py:126(orthopoly1d)\n",
      "        1    0.000    0.000    0.000    0.000 _continuous_distns.py:1447(frechet_r_gen)\n",
      "        1    0.000    0.000    0.000    0.000 six.py:575(iteritems)\n",
      "        1    0.000    0.000    0.000    0.000 _continuous_distns.py:3385(nct_gen)\n",
      "        1    0.000    0.000    0.000    0.000 _multivariate.py:557(multivariate_normal_frozen)\n",
      "        1    0.000    0.000    0.000    0.000 _multivariate.py:1358(dirichlet_frozen)\n",
      "        1    0.000    0.000    0.000    0.000 _continuous_distns.py:2035(gengamma_gen)\n",
      "        1    0.000    0.000    0.000    0.000 _multivariate.py:203(multi_rv_frozen)\n",
      "        1    0.000    0.000    0.000    0.000 common.py:1745(is_object_dtype)\n",
      "        1    0.000    0.000    0.000    0.000 _continuous_distns.py:1493(frechet_l_gen)\n",
      "        1    0.000    0.000    0.000    0.000 polyint.py:465(BarycentricInterpolator)\n",
      "       10    0.000    0.000    0.000    0.000 numeric.py:126(is_all_dates)\n",
      "        1    0.000    0.000    0.000    0.000 _continuous_distns.py:711(cauchy_gen)\n",
      "        1    0.000    0.000    0.000    0.000 basic.py:755(LstsqLapackError)\n",
      "        5    0.000    0.000    0.000    0.000 {method '_open_append' of 'tables.tableextension.Table' objects}\n",
      "        1    0.000    0.000    0.000    0.000 _discrete_distns.py:598(randint_gen)\n",
      "        1    0.000    0.000    0.000    0.000 _multivariate.py:2569(invwishart_frozen)\n",
      "        1    0.000    0.000    0.000    0.000 _continuous_distns.py:2271(halfcauchy_gen)\n",
      "        1    0.000    0.000    0.000    0.000 re.py:192(compile)\n",
      "        1    0.000    0.000    0.000    0.000 common.py:271(_stringify_path)\n",
      "       15    0.000    0.000    0.000    0.000 {ord}\n",
      "        1    0.000    0.000    0.000    0.000 nonlin.py:481(Jacobian)\n",
      "        1    0.000    0.000    0.000    0.000 nonlin.py:1229(LinearMixing)\n",
      "        1    0.000    0.000    0.000    0.000 _continuous_distns.py:3324(t_gen)\n",
      "        1    0.000    0.000    0.000    0.000 sputils.py:227(IndexMixin)\n",
      "        1    0.000    0.000    0.000    0.000 _multivariate.py:98(_PSD)\n",
      "        1    0.000    0.000    0.000    0.000 _continuous_distns.py:194(alpha_gen)\n",
      "        2    0.000    0.000    0.000    0.000 internals.py:4177(_shape_compat)\n",
      "        1    0.000    0.000    0.000    0.000 _continuous_distns.py:890(dgamma_gen)\n",
      "        1    0.000    0.000    0.000    0.000 interface.py:619(_AdjointMatrixOperator)\n",
      "        1    0.000    0.000    0.000    0.000 nonlin.py:909(BroydenFirst)\n",
      "        1    0.000    0.000    0.000    0.000 _continuous_distns.py:4374(wald_gen)\n",
      "        1    0.000    0.000    0.000    0.000 _continuous_distns.py:1162(exponpow_gen)\n",
      "        1    0.000    0.000    0.000    0.000 _continuous_distns.py:4092(triang_gen)\n",
      "        1    0.000    0.000    0.000    0.000 polyint.py:22(_Interpolator1D)\n",
      "        1    0.000    0.000    0.000    0.000 _continuous_distns.py:3054(gilbrat_gen)\n",
      "        1    0.000    0.000    0.000    0.000 _continuous_distns.py:1976(erlang_gen)\n",
      "        1    0.000    0.000    0.000    0.000 _continuous_distns.py:3965(rice_gen)\n",
      "        1    0.000    0.000    0.000    0.000 _continuous_distns.py:4331(vonmises_gen)\n",
      "        1    0.000    0.000    0.000    0.000 _continuous_distns.py:2696(laplace_gen)\n",
      "        1    0.000    0.000    0.000    0.000 _monotone.py:214(Akima1DInterpolator)\n",
      "        1    0.000    0.000    0.000    0.000 arpack.py:960(IterOpInv)\n",
      "        1    0.000    0.000    0.000    0.000 _continuous_distns.py:3219(ncx2_gen)\n",
      "        1    0.000    0.000    0.000    0.000 _continuous_distns.py:3585(pearson3_gen)\n",
      "        1    0.000    0.000    0.000    0.000 _discrete_distns.py:427(poisson_gen)\n",
      "        4    0.000    0.000    0.000    0.000 weakref.py:68(_commit_removals)\n",
      "        1    0.000    0.000    0.000    0.000 _discrete_distns.py:19(binom_gen)\n",
      "        1    0.000    0.000    0.000    0.000 __init__.py:1139(setLevel)\n",
      "        1    0.000    0.000    0.000    0.000 _continuous_distns.py:513(betaprime_gen)\n",
      "        2    0.000    0.000    0.000    0.000 cbook.py:696(is_string_like)\n",
      "        1    0.000    0.000    0.000    0.000 _continuous_distns.py:664(fisk_gen)\n",
      "       12    0.000    0.000    0.000    0.000 {next}\n",
      "        1    0.000    0.000    0.000    0.000 _discrete_distns.py:87(bernoulli_gen)\n",
      "        1    0.000    0.000    0.000    0.000 _continuous_distns.py:755(chi_gen)\n",
      "        1    0.000    0.000    0.000    0.000 optimize.py:75(OptimizeResult)\n",
      "        1    0.000    0.000    0.000    0.000 _continuous_distns.py:1587(genpareto_gen)\n",
      "        1    0.000    0.000    0.000    0.000 _continuous_distns.py:2141(gompertz_gen)\n",
      "        1    0.000    0.000    0.000    0.000 _continuous_distns.py:2469(invgamma_gen)\n",
      "        1    0.000    0.000    0.000    0.000 _continuous_distns.py:3100(maxwell_gen)\n",
      "        1    0.000    0.000    0.000    0.000 {pandas.lib.is_bool}\n",
      "        1    0.000    0.000    0.000    0.000 _continuous_distns.py:3833(rdist_gen)\n",
      "        1    0.000    0.000    0.000    0.000 _continuous_distns.py:4253(tukeylambda_gen)\n",
      "        1    0.000    0.000    0.000    0.000 _continuous_distns.py:4531(halfgennorm_gen)\n",
      "        1    0.000    0.000    0.000    0.000 nonlin.py:1327(KrylovJacobian)\n",
      "        1    0.000    0.000    0.000    0.000 _multivariate.py:1127(dirichlet_gen)\n",
      "        1    0.000    0.000    0.000    0.000 _continuous_distns.py:1706(genextreme_gen)\n",
      "        1    0.000    0.000    0.000    0.000 __init__.py:177(_checkLevel)\n",
      "        1    0.000    0.000    0.000    0.000 interface.py:496(_SumLinearOperator)\n",
      "        1    0.000    0.000    0.000    0.000 parsers.py:843(_validate_usecols_arg)\n",
      "        1    0.000    0.000    0.000    0.000 __init__.py:101(CFunctionType)\n",
      "        2    0.000    0.000    0.000    0.000 range.py:139(_validate_dtype)\n",
      "        1    0.000    0.000    0.000    0.000 kdtree.py:257(leafnode)\n",
      "        1    0.000    0.000    0.000    0.000 parsers.py:2255(_make_date_converter)\n",
      "        1    0.000    0.000    0.000    0.000 quadrature.py:18(AccuracyWarning)\n",
      "        1    0.000    0.000    0.000    0.000 arpack.py:273(ArpackError)\n",
      "        1    0.000    0.000    0.000    0.000 _continuous_distns.py:2616(johnsonsb_gen)\n",
      "        1    0.000    0.000    0.000    0.000 _continuous_distns.py:231(anglit_gen)\n",
      "        1    0.000    0.000    0.000    0.000 fitpack2.py:1040(LSQBivariateSpline)\n",
      "        1    0.000    0.000    0.000    0.000 sre_parse.py:85(closegroup)\n",
      "        1    0.000    0.000    0.000    0.000 ImageFilter.py:249(SMOOTH)\n",
      "        1    0.000    0.000    0.000    0.000 wfmFunctions.py:256(PMAP)\n",
      "        1    0.000    0.000    0.000    0.000 _continuous_distns.py:1306(f_gen)\n",
      "        1    0.000    0.000    0.000    0.000 _continuous_distns.py:318(FitSolverError)\n",
      "        1    0.000    0.000    0.000    0.000 decorator.py:67(get_init)\n",
      "        1    0.000    0.000    0.000    0.000 matfuncs.py:216(ProductOperator)\n",
      "        1    0.000    0.000    0.000    0.000 _continuous_distns.py:2773(levy_l_gen)\n",
      "        1    0.000    0.000    0.000    0.000 _continuous_distns.py:2905(loggamma_gen)\n",
      "        1    0.000    0.000    0.000    0.000 fitpack2.py:1275(SmoothSphereBivariateSpline)\n",
      "        1    0.000    0.000    0.000    0.000 _continuous_distns.py:3535(lomax_gen)\n",
      "        1    0.000    0.000    0.000    0.000 ImageFilter.py:85(MedianFilter)\n",
      "        1    0.000    0.000    0.000    0.000 fitpack2.py:514(InterpolatedUnivariateSpline)\n",
      "        1    0.000    0.000    0.000    0.000 _continuous_distns.py:617(burr_gen)\n",
      "        1    0.000    0.000    0.000    0.000 zeros.py:20(RootResults)\n",
      "        1    0.000    0.000    0.000    0.000 _trustregion_ncg.py:44(CGSteihaugSubproblem)\n",
      "        1    0.000    0.000    0.000    0.000 _discrete_distns.py:137(nbinom_gen)\n",
      "        1    0.000    0.000    0.000    0.000 arpack.py:282(ArpackNoConvergence)\n",
      "        1    0.000    0.000    0.000    0.000 arpack.py:588(_UnsymmetricArpackParams)\n",
      "        1    0.000    0.000    0.000    0.000 linsolve.py:24(MatrixRankWarning)\n",
      "        1    0.000    0.000    0.000    0.000 _continuous_distns.py:3764(powerlognorm_gen)\n",
      "        1    0.000    0.000    0.000    0.000 _discrete_distns.py:487(planck_gen)\n",
      "        1    0.000    0.000    0.000    0.000 _continuous_distns.py:2432(gausshyper_gen)\n",
      "        1    0.000    0.000    0.000    0.000 _discrete_distns.py:701(dlaplace_gen)\n",
      "        1    0.000    0.000    0.000    0.000 ndgriddata.py:22(NearestNDInterpolator)\n",
      "        2    0.000    0.000    0.000    0.000 {locals}\n",
      "        1    0.000    0.000    0.000    0.000 linesearch.py:26(LineSearchWarning)\n",
      "        3    0.000    0.000    0.000    0.000 <decorator-gen-1>:1(_held_figure)\n",
      "        1    0.000    0.000    0.000    0.000 filter_design.py:26(BadCoefficients)\n",
      "        1    0.000    0.000    0.000    0.000 _continuous_distns.py:2399(hypsecant_gen)\n",
      "        1    0.000    0.000    0.000    0.000 fitpack2.py:1107(RectBivariateSpline)\n",
      "        1    0.000    0.000    0.000    0.000 quadpack.py:718(_OptFunc)\n",
      "        1    0.000    0.000    0.000    0.000 _basinhopping.py:267(MinimizerWrapper)\n",
      "        1    0.000    0.000    0.000    0.000 FEE2.py:53(Filter)\n",
      "        2    0.000    0.000    0.000    0.000 decorators.py:86(set_test)\n",
      "        1    0.000    0.000    0.000    0.000 ImageFilter.py:62(RankFilter)\n",
      "        1    0.000    0.000    0.000    0.000 polyint.py:143(_Interpolator1DWithDerivatives)\n",
      "        1    0.000    0.000    0.000    0.000 _discrete_distns.py:379(logser_gen)\n",
      "        1    0.000    0.000    0.000    0.000 _continuous_distns.py:2949(loglaplace_gen)\n",
      "        1    0.000    0.000    0.000    0.000 nonlin.py:414(TerminationCondition)\n",
      "        1    0.000    0.000    0.000    0.000 _continuous_distns.py:567(bradford_gen)\n",
      "        2    0.000    0.000    0.000    0.000 internals.py:264(shape)\n",
      "        1    0.000    0.000    0.000    0.000 arpack.py:300(_ArpackParams)\n",
      "        1    0.000    0.000    0.000    0.000 _continuous_distns.py:4060(semicircular_gen)\n",
      "        1    0.000    0.000    0.000    0.000 lbfgsb.py:369(LbfgsInvHessProduct)\n",
      "        1    0.000    0.000    0.000    0.000 <decorator-gen-1>:1(<module>)\n",
      "        1    0.000    0.000    0.000    0.000 _continuous_distns.py:2355(halfnorm_gen)\n",
      "        1    0.000    0.000    0.000    0.000 _continuous_distns.py:2570(invweibull_gen)\n",
      "       14    0.000    0.000    0.000    0.000 {method 'end' of '_sre.SRE_Match' objects}\n",
      "        1    0.000    0.000    0.000    0.000 _continuous_distns.py:1541(genlogistic_gen)\n",
      "        1    0.000    0.000    0.000    0.000 optimize.py:53(MemoizeJac)\n",
      "        1    0.000    0.000    0.000    0.000 ltisys.py:1712(Bunch)\n",
      "        1    0.000    0.000    0.000    0.000 _continuous_distns.py:50(kstwobign_gen)\n",
      "        1    0.000    0.000    0.000    0.000 interface.py:634(IdentityOperator)\n",
      "        1    0.000    0.000    0.000    0.000 <string>:2(<module>)\n",
      "        1    0.000    0.000    0.000    0.000 _expm_multiply.py:284(LazyOperatorNormInfo)\n",
      "        1    0.000    0.000    0.000    0.000 fitpack2.py:1501(RectSphereBivariateSpline)\n",
      "        1    0.000    0.000    0.000    0.000 interface.py:547(_ScaledLinearOperator)\n",
      "        1    0.000    0.000    0.000    0.000 _continuous_distns.py:2814(levy_stable_gen)\n",
      "        1    0.000    0.000    0.000    0.000 _continuous_distns.py:266(arcsine_gen)\n",
      "        1    0.000    0.000    0.000    0.000 internals.py:3276(_consolidate_inplace)\n",
      "        1    0.000    0.000    0.000    0.000 sre_parse.py:74(opengroup)\n",
      "        1    0.000    0.000    0.000    0.000 data.py:121(_minmax_mixin)\n",
      "        1    0.000    0.000    0.000    0.000 polyint.py:222(KroghInterpolator)\n",
      "        1    0.000    0.000    0.000    0.000 _continuous_distns.py:2732(levy_gen)\n",
      "        3    0.000    0.000    0.000    0.000 {iter}\n",
      "        1    0.000    0.000    0.000    0.000 posixpath.py:251(expanduser)\n",
      "        1    0.000    0.000    0.000    0.000 interface.py:521(_ProductLinearOperator)\n",
      "        1    0.000    0.000    0.000    0.000 _discrete_distns.py:663(zipf_gen)\n",
      "        1    0.000    0.000    0.000    0.000 _continuous_distns.py:2525(invgauss_gen)\n",
      "        1    0.000    0.000    0.000    0.000 _continuous_distns.py:3147(mielke_gen)\n",
      "        1    0.000    0.000    0.000    0.000 fitpack2.py:744(_BivariateSplineBase)\n",
      "        2    0.000    0.000    0.000    0.000 {method '_get_file_id' of 'tables.hdf5extension.File' objects}\n",
      "        1    0.000    0.000    0.000    0.000 quadpack.py:727(_NQuad)\n",
      "        1    0.000    0.000    0.000    0.000 ImageFilter.py:25(Kernel)\n",
      "        1    0.000    0.000    0.000    0.000 _continuous_distns.py:1122(exponweib_gen)\n",
      "        1    0.000    0.000    0.000    0.000 _hungarian.py:110(_Hungary)\n",
      "        1    0.000    0.000    0.000    0.000 odepack.py:10(ODEintWarning)\n",
      "        3    0.000    0.000    0.000    0.000 parsers.py:839(_is_index_col)\n",
      "        1    0.000    0.000    0.000    0.000 interface.py:571(_PowerLinearOperator)\n",
      "        1    0.000    0.000    0.000    0.000 six.py:54(__len__)\n",
      "        1    0.000    0.000    0.000    0.000 _spectral.py:13(_NoConvergence)\n",
      "        1    0.000    0.000    0.000    0.000 fitpack2.py:1193(SphereBivariateSpline)\n",
      "        1    0.000    0.000    0.000    0.000 _ode.py:618(IntegratorConcurrencyError)\n",
      "        1    0.000    0.000    0.000    0.000 fitpack2.py:619(LSQUnivariateSpline)\n",
      "        1    0.000    0.000    0.000    0.000 common.py:263(_validate_header_arg)\n",
      "        1    0.000    0.000    0.000    0.000 arpack.py:930(IterInv)\n",
      "        1    0.000    0.000    0.000    0.000 arpack.py:915(LuInv)\n",
      "        1    0.000    0.000    0.000    0.000 _continuous_distns.py:4410(wrapcauchy_gen)\n",
      "        2    0.000    0.000    0.000    0.000 {method 'values' of 'dict' objects}\n",
      "        2    0.000    0.000    0.000    0.000 _onenormest.py:109(_blocked_elementwise)\n",
      "        1    0.000    0.000    0.000    0.000 fitpack2.py:978(SmoothBivariateSpline)\n",
      "        1    0.000    0.000    0.000    0.000 ImageFilter.py:127(ModeFilter)\n",
      "        1    0.000    0.000    0.000    0.000 internals.py:2996(is_consolidated)\n",
      "        2    0.000    0.000    0.000    0.000 decorators.py:58(setastest)\n",
      "        1    0.000    0.000    0.000    0.000 _continuous_distns.py:3798(powernorm_gen)\n",
      "        1    0.000    0.000    0.000    0.000 kdtree.py:240(node)\n",
      "        1    0.000    0.000    0.000    0.000 <decorator-gen-10>:1(<module>)\n",
      "        1    0.000    0.000    0.000    0.000 inspect.py:848(<lambda>)\n",
      "        1    0.000    0.000    0.000    0.000 _continuous_distns.py:3920(reciprocal_gen)\n",
      "        1    0.000    0.000    0.000    0.000 quadpack.py:705(_RangeFunc)\n",
      "        1    0.000    0.000    0.000    0.000 decorator.py:51(getfullargspec)\n",
      "        1    0.000    0.000    0.000    0.000 _continuous_distns.py:1664(genexpon_gen)\n",
      "        1    0.000    0.000    0.000    0.000 kdtree.py:262(innernode)\n",
      "        1    0.000    0.000    0.000    0.000 decorator.py:278(ContextManager)\n",
      "        1    0.000    0.000    0.000    0.000 <decorator-gen-9>:1(<module>)\n",
      "        1    0.000    0.000    0.000    0.000 warnings.py:15(warnpy3k)\n",
      "        1    0.000    0.000    0.000    0.000 nonlin.py:1046(Anderson)\n",
      "        1    0.000    0.000    0.000    0.000 _multivariate.py:2019(wishart_frozen)\n",
      "        1    0.000    0.000    0.000    0.000 ImageFilter.py:159(UnsharpMask)\n",
      "        1    0.000    0.000    0.000    0.000 _discrete_distns.py:749(skellam_gen)\n",
      "        1    0.000    0.000    0.000    0.000 _continuous_distns.py:2178(gumbel_r_gen)\n",
      "        1    0.000    0.000    0.000    0.000 ImageFilter.py:258(SMOOTH_MORE)\n",
      "        1    0.000    0.000    0.000    0.000 <decorator-gen-7>:1(<module>)\n",
      "        1    0.000    0.000    0.000    0.000 _multivariate.py:988(matrix_normal_frozen)\n",
      "        1    0.000    0.000    0.000    0.000 _continuous_distns.py:942(dweibull_gen)\n",
      "        1    0.000    0.000    0.000    0.000 _util.py:87(DeprecatedImport)\n",
      "        6    0.000    0.000    0.000    0.000 {method 'upper' of 'str' objects}\n",
      "        2    0.000    0.000    0.000    0.000 internals.py:2623(ndim)\n",
      "        1    0.000    0.000    0.000    0.000 _continuous_distns.py:3872(rayleigh_gen)\n",
      "        1    0.000    0.000    0.000    0.000 quadpack.py:20(IntegrationWarning)\n",
      "        1    0.000    0.000    0.000    0.000 {method 'disable' of '_lsprof.Profiler' objects}\n",
      "        1    0.000    0.000    0.000    0.000 _continuous_distns.py:3179(nakagami_gen)\n",
      "        1    0.000    0.000    0.000    0.000 ImageFilter.py:204(DETAIL)\n",
      "        1    0.000    0.000    0.000    0.000 ImageFilter.py:222(EDGE_ENHANCE_MORE)\n",
      "        1    0.000    0.000    0.000    0.000 ImageFilter.py:145(GaussianBlur)\n",
      "        2    0.000    0.000    0.000    0.000 file.py:2756(__enter__)\n",
      "        1    0.000    0.000    0.000    0.000 nonlin.py:664(GenericBroyden)\n",
      "        1    0.000    0.000    0.000    0.000 <decorator-gen-8>:1(<module>)\n",
      "        1    0.000    0.000    0.000    0.000 ImageFilter.py:269(SHARPEN)\n",
      "        1    0.000    0.000    0.000    0.000 _continuous_distns.py:305(FitDataError)\n",
      "        1    0.000    0.000    0.000    0.000 arpack.py:892(SpLuInv)\n",
      "        1    0.000    0.000    0.000    0.000 ImageFilter.py:240(FIND_EDGES)\n",
      "        1    0.000    0.000    0.000    0.000 parsers.py:829(_create_index)\n",
      "        1    0.000    0.000    0.000    0.000 ImageFilter.py:57(BuiltinFilter)\n",
      "        1    0.000    0.000    0.000    0.000 _matfuncs_sqrtm.py:22(SqrtmError)\n",
      "        2    0.000    0.000    0.000    0.000 {pandas.lib.is_integer}\n",
      "        1    0.000    0.000    0.000    0.000 base.py:19(SparseFormatWarning)\n",
      "        1    0.000    0.000    0.000    0.000 optimize.py:680(_LineSearchError)\n",
      "        1    0.000    0.000    0.000    0.000 basic.py:39(SpecialFunctionWarning)\n",
      "        1    0.000    0.000    0.000    0.000 ImageFilter.py:99(MinFilter)\n",
      "        1    0.000    0.000    0.000    0.000 ImageFilter.py:213(EDGE_ENHANCE)\n",
      "        1    0.000    0.000    0.000    0.000 <decorator-gen-4>:1(<module>)\n",
      "        1    0.000    0.000    0.000    0.000 fitpack2.py:1367(LSQSphereBivariateSpline)\n",
      "        1    0.000    0.000    0.000    0.000 ImageFilter.py:195(CONTOUR)\n",
      "        1    0.000    0.000    0.000    0.000 ImageFilter.py:184(BLUR)\n",
      "        5    0.000    0.000    0.000    0.000 {method 'item' of 'numpy.ndarray' objects}\n",
      "        1    0.000    0.000    0.000    0.000 <decorator-gen-6>:1(<module>)\n",
      "        1    0.000    0.000    0.000    0.000 nonlin.py:1002(BroydenSecond)\n",
      "        1    0.000    0.000    0.000    0.000 optimize.py:130(OptimizeWarning)\n",
      "        1    0.000    0.000    0.000    0.000 ImageFilter.py:21(Filter)\n",
      "        1    0.000    0.000    0.000    0.000 ImageFilter.py:113(MaxFilter)\n",
      "        1    0.000    0.000    0.000    0.000 {sum}\n",
      "        1    0.000    0.000    0.000    0.000 base.py:15(SparseWarning)\n",
      "        1    0.000    0.000    0.000    0.000 ImageFilter.py:231(EMBOSS)\n",
      "        1    0.000    0.000    0.000    0.000 _version.py:136(__lt__)\n",
      "        1    0.000    0.000    0.000    0.000 _continuous_distns.py:36(ksone_gen)\n",
      "        9    0.000    0.000    0.000    0.000 {method 'extend' of 'list' objects}\n",
      "        1    0.000    0.000    0.000    0.000 nonlin.py:134(NoConvergence)\n",
      "        1    0.000    0.000    0.000    0.000 <decorator-gen-2>:1(<module>)\n",
      "        1    0.000    0.000    0.000    0.000 _basinhopping.py:253(RandomDisplacement)\n",
      "        1    0.000    0.000    0.000    0.000 <decorator-gen-5>:1(<module>)\n",
      "        1    0.000    0.000    0.000    0.000 base.py:23(SparseEfficiencyWarning)\n",
      "        1    0.000    0.000    0.000    0.000 <decorator-gen-3>:1(<module>)\n",
      "        1    0.000    0.000    0.000    0.000 <decorator-gen-0>:1(<module>)\n",
      "        1    0.000    0.000    0.000    0.000 six.py:53(X)\n",
      "        1    0.000    0.000    0.000    0.000 <decorator-gen-11>:1(<module>)\n",
      "        1    0.000    0.000    0.000    0.000 six.py:136(Iterator)\n",
      "\n",
      "\n"
     ]
    }
   ],
   "source": [
    "%run ../../Cities/DIOMIRA.py -x -c ../../Config/DIOMIRA_NA_ZLIB_test2.csv "
   ]
  },
  {
   "cell_type": "code",
   "execution_count": null,
   "metadata": {
    "collapsed": true
   },
   "outputs": [],
   "source": []
  },
  {
   "cell_type": "markdown",
   "metadata": {},
   "source": [
    "#### Running with zlib"
   ]
  },
  {
   "cell_type": "code",
   "execution_count": null,
   "metadata": {
    "collapsed": false
   },
   "outputs": [],
   "source": [
    "%less ../../Config/DIOMIRA_NA_ZLIB_test.csv"
   ]
  },
  {
   "cell_type": "raw",
   "metadata": {},
   "source": [
    "# Configuration file for DIOMIRA\n",
    "# The parameters for DIOMIRA are:\n",
    "#\n",
    "#        PATH_IN = path to input DST file (must be a MCRD file)\n",
    "#        FILE_IN = name of input DST file\n",
    "#        PATH_OUT = path to output DST file (RWF file)\n",
    "#        FILE_OUT = name of ouput DST file (RWF file)\n",
    "#        FIRST_EVT,LAST_EVT,RUN_ALL,\n",
    "#\n",
    "#        RUN_ALL is used to decide whether to run all the events in the file\n",
    "#        in case that the total number of events requested (LAST_EVT-FIRST_EVT) \n",
    "#        exceeds the number of events in the DST file. If RUN_ALL is set to 1 (True), \n",
    "#        the script will run over all elements in the DST, \n",
    "#        otherwise it will exit with a warning.\n",
    "#        CLIB = compression library used: values can be 'ZLIB', 'BLOSC' or 'NONE'\n",
    "#        CLEVEL = compression level\n",
    "#\n",
    "PATH_IN,PATH_OUT,FILE_IN,FILE_OUT,FIRST_EVT,LAST_EVT,RUN_ALL,CLIB,CLEVEL, END \n",
    "/Users/jjgomezcadenas/Documents/Development/NEXT/data/Waveforms/WF-NA-ZLIB/,/Users/jjgomezcadenas/Documents/Development/NEXT/data/Waveforms/25ns/,WF_Na_1Kevts_comp1_chunk32k.h5,WF_Na_ZLIB_offset500_100_RWF.h5,0,100,1,zlib,1,1"
   ]
  },
  {
   "cell_type": "code",
   "execution_count": null,
   "metadata": {
    "collapsed": false
   },
   "outputs": [],
   "source": [
    "%time %run ../../Cities/DIOMIRA.py  -c ../../Config/DIOMIRA_NA_ZLIB_test.csv "
   ]
  },
  {
   "cell_type": "code",
   "execution_count": null,
   "metadata": {
    "collapsed": false
   },
   "outputs": [],
   "source": [
    "per_event = (2.*60 + 58)/100.\n",
    "print('Zlib: time per event = {}'.format(per_event))"
   ]
  },
  {
   "cell_type": "code",
   "execution_count": null,
   "metadata": {
    "collapsed": false
   },
   "outputs": [],
   "source": [
    "ls -lh '/Users/jjgomezcadenas/Documents/Development/NEXT/data/Waveforms/25ns/WF_Na_ZLIB_offset500_100_RWF.h5'"
   ]
  },
  {
   "cell_type": "code",
   "execution_count": null,
   "metadata": {
    "collapsed": false
   },
   "outputs": [],
   "source": [
    "per_event = 17./100.\n",
    "print('ZLIB: memory per event = {} MB'.format(per_event))"
   ]
  },
  {
   "cell_type": "code",
   "execution_count": null,
   "metadata": {
    "collapsed": true
   },
   "outputs": [],
   "source": [
    "h5f =tables.open_file('/Users/jjgomezcadenas/Documents/Development/NEXT/data/Waveforms/25ns/WF_Na_ZLIB_offset500_100_RWF.h5', \"r+\") "
   ]
  },
  {
   "cell_type": "code",
   "execution_count": null,
   "metadata": {
    "collapsed": true
   },
   "outputs": [],
   "source": [
    "pmttwf = h5f.root.RD.pmttwf"
   ]
  },
  {
   "cell_type": "code",
   "execution_count": null,
   "metadata": {
    "collapsed": false
   },
   "outputs": [],
   "source": [
    "plot_waveforms(pmttwf[0]) "
   ]
  },
  {
   "cell_type": "code",
   "execution_count": null,
   "metadata": {
    "collapsed": true
   },
   "outputs": [],
   "source": [
    "pmtrwf = h5f.root.RD.pmtrwf"
   ]
  },
  {
   "cell_type": "code",
   "execution_count": null,
   "metadata": {
    "collapsed": false
   },
   "outputs": [],
   "source": [
    "plot_waveforms(pmtrwf[0]) "
   ]
  },
  {
   "cell_type": "code",
   "execution_count": null,
   "metadata": {
    "collapsed": false
   },
   "outputs": [],
   "source": [
    "plot_waveforms(pmtrwf[99]) "
   ]
  },
  {
   "cell_type": "code",
   "execution_count": null,
   "metadata": {
    "collapsed": true
   },
   "outputs": [],
   "source": [
    "h5f.close()"
   ]
  },
  {
   "cell_type": "markdown",
   "metadata": {},
   "source": [
    "#### BLOSC"
   ]
  },
  {
   "cell_type": "code",
   "execution_count": null,
   "metadata": {
    "collapsed": false
   },
   "outputs": [],
   "source": [
    "%less ../../Config/DIOMIRA_NA_BLOSC_test2.csv"
   ]
  },
  {
   "cell_type": "raw",
   "metadata": {},
   "source": [
    " Configuration file for DIOMIRA\n",
    "# The parameters for DIOMIRA are:\n",
    "#\n",
    "#        PATH_IN = path to input DST file (must be a MCRD file)\n",
    "#        FILE_IN = name of input DST file\n",
    "#        PATH_OUT = path to output DST file (RWF file)\n",
    "#        FILE_OUT = name of ouput DST file (RWF file)\n",
    "#        FIRST_EVT,LAST_EVT,RUN_ALL,\n",
    "#\n",
    "#        RUN_ALL is used to decide whether to run all the events in the file\n",
    "#        in case that the total number of events requested (LAST_EVT-FIRST_EVT) \n",
    "#        exceeds the number of events in the DST file. If RUN_ALL is set to 1 (True), \n",
    "#        the script will run over all elements in the DST, \n",
    "#        otherwise it will exit with a warning.\n",
    "#        CLIB = compression library used: values can be 'ZLIB', 'BLOSC' or 'NONE'\n",
    "#        CLEVEL = compression level\n",
    "#\n",
    "PATH_IN,PATH_OUT,FILE_IN,FILE_OUT,FIRST_EVT,LAST_EVT,RUN_ALL,CLIB,CLEVEL,END \n",
    "/Users/jjgomezcadenas/Documents/Development/NEXT/data/Waveforms/WF-NA-ZLIB/,/Users/jjgomezcadenas/Documents/Development/NEXT/data/Waveforms/25ns/,WF_Na_1Kevts_comp1_chunk32k.h5,WF_Na_BLOSC_float32_RWF.h5,0,10,1,blosc,9,1"
   ]
  },
  {
   "cell_type": "code",
   "execution_count": null,
   "metadata": {
    "collapsed": false
   },
   "outputs": [],
   "source": [
    "%time %run ../../Cities/DIOMIRA.py  -c ../../Config/DIOMIRA_NA_BLOSC_test2.csv "
   ]
  },
  {
   "cell_type": "code",
   "execution_count": null,
   "metadata": {
    "collapsed": false
   },
   "outputs": [],
   "source": [
    "per_event = (3.*60.)/100.\n",
    "print('BLOSC: time per event = {} sec'.format(per_event))"
   ]
  },
  {
   "cell_type": "code",
   "execution_count": null,
   "metadata": {
    "collapsed": false
   },
   "outputs": [],
   "source": [
    "ls -lh '/Users/jjgomezcadenas/Documents/Development/NEXT/data/Waveforms/25ns/WF_Na_BLOSC_float32_RWF.h5'"
   ]
  },
  {
   "cell_type": "code",
   "execution_count": null,
   "metadata": {
    "collapsed": false
   },
   "outputs": [],
   "source": [
    "per_event = 18./100.\n",
    "print('BLOSC: memory per event = {} MB'.format(per_event))"
   ]
  },
  {
   "cell_type": "code",
   "execution_count": null,
   "metadata": {
    "collapsed": false
   },
   "outputs": [],
   "source": [
    "print(time.strftime(\"%H:%M:%S\"))"
   ]
  },
  {
   "cell_type": "code",
   "execution_count": null,
   "metadata": {
    "collapsed": true
   },
   "outputs": [],
   "source": [
    "h5f =tables.open_file('/Users/jjgomezcadenas/Documents/Development/NEXT/data/Waveforms/25ns/WF_Na_ZLIB_offset500_RWF.h5', \"r+\")"
   ]
  },
  {
   "cell_type": "code",
   "execution_count": null,
   "metadata": {
    "collapsed": true
   },
   "outputs": [],
   "source": [
    "pmtrwf = h5f.root.RD.pmtrwf"
   ]
  },
  {
   "cell_type": "code",
   "execution_count": null,
   "metadata": {
    "collapsed": false
   },
   "outputs": [],
   "source": [
    "scan_waveforms(pmtrwf,list_of_events=range(1))"
   ]
  },
  {
   "cell_type": "code",
   "execution_count": null,
   "metadata": {
    "collapsed": true
   },
   "outputs": [],
   "source": [
    "h5f.close()"
   ]
  },
  {
   "cell_type": "code",
   "execution_count": null,
   "metadata": {
    "collapsed": true
   },
   "outputs": [],
   "source": []
  }
 ],
 "metadata": {
  "kernelspec": {
   "display_name": "Python 2",
   "language": "python",
   "name": "python2"
  },
  "language_info": {
   "codemirror_mode": {
    "name": "ipython",
    "version": 2
   },
   "file_extension": ".py",
   "mimetype": "text/x-python",
   "name": "python",
   "nbconvert_exporter": "python",
   "pygments_lexer": "ipython2",
   "version": "2.7.11"
  }
 },
 "nbformat": 4,
 "nbformat_minor": 0
}
