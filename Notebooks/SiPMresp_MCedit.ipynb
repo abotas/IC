{
 "cells": [
  {
   "cell_type": "markdown",
   "metadata": {},
   "source": [
    "Generate EL points and simulate SiPM responses"
   ]
  },
  {
   "cell_type": "code",
   "execution_count": 1,
   "metadata": {
    "collapsed": false
   },
   "outputs": [],
   "source": [
    "from __future__ import print_function\n",
    "\n",
    "import random\n",
    "import tables\n",
    "import numpy as np\n",
    "import sys\n",
    "\n",
    "NSIPM = 8\n",
    "\n",
    "num_EL_points = 4     # max num points observed in EL in same timestep \n",
    "sipm_pitch = 10.0     # SiPM pitch in mm\n",
    "sipm_edge_width = 5.0 # width of edge of dice board in mm\n",
    "ze = 10.0             # distance between SiPM plane and EL gap\n",
    "grid_space = 2.0      # grid spacing in mm\n",
    "d_gap = 5.0           # length of EL gap\n",
    "n_tbins = 2           # number of time bins collected as electron crosses EL\n",
    "\n",
    "N = 1   # Number of photons (probably not necessary due to normalization)\n",
    "\n",
    "\n",
    "nevts = [40000,40000,1,1] # num events for each num EL pts\n",
    "\n",
    "max_xy = (NSIPM-1)*sipm_pitch + 2*sipm_edge_width # maximum x and y value (80 mm)\n",
    "max_p = max_xy /grid_space                        # number of points per line (40)\n",
    "\n",
    "\n",
    "sipm_res1 = np.empty((nevts[0],NSIPM**2),dtype=np.float64) # initialize sipm responses for 1 evt\n",
    "sipm_res2 = np.empty((nevts[1],NSIPM**2),dtype=np.float64) # 2\n",
    "sipm_res3 = np.empty((nevts[2],NSIPM**2),dtype=np.float64) # 3\n",
    "sipm_res3 = np.empty((nevts[3],NSIPM**2),dtype=np.float64) # 4"
   ]
  },
  {
   "cell_type": "markdown",
   "metadata": {},
   "source": [
    "Set up the SiPM positions"
   ]
  },
  {
   "cell_type": "code",
   "execution_count": 2,
   "metadata": {
    "collapsed": false
   },
   "outputs": [
    {
     "name": "stdout",
     "output_type": "stream",
     "text": [
      "[(5.0, 5.0), (5.0, 15.0), (5.0, 25.0), (5.0, 35.0), (5.0, 45.0), (5.0, 55.0), (5.0, 65.0), (5.0, 75.0), (15.0, 5.0), (15.0, 15.0), (15.0, 25.0), (15.0, 35.0), (15.0, 45.0), (15.0, 55.0), (15.0, 65.0), (15.0, 75.0), (25.0, 5.0), (25.0, 15.0), (25.0, 25.0), (25.0, 35.0), (25.0, 45.0), (25.0, 55.0), (25.0, 65.0), (25.0, 75.0), (35.0, 5.0), (35.0, 15.0), (35.0, 25.0), (35.0, 35.0), (35.0, 45.0), (35.0, 55.0), (35.0, 65.0), (35.0, 75.0), (45.0, 5.0), (45.0, 15.0), (45.0, 25.0), (45.0, 35.0), (45.0, 45.0), (45.0, 55.0), (45.0, 65.0), (45.0, 75.0), (55.0, 5.0), (55.0, 15.0), (55.0, 25.0), (55.0, 35.0), (55.0, 45.0), (55.0, 55.0), (55.0, 65.0), (55.0, 75.0), (65.0, 5.0), (65.0, 15.0), (65.0, 25.0), (65.0, 35.0), (65.0, 45.0), (65.0, 55.0), (65.0, 65.0), (65.0, 75.0), (75.0, 5.0), (75.0, 15.0), (75.0, 25.0), (75.0, 35.0), (75.0, 45.0), (75.0, 55.0), (75.0, 65.0), (75.0, 75.0)]\n"
     ]
    }
   ],
   "source": [
    "sipm_pos_x = []\n",
    "for i in range(NSIPM): sipm_pos_x.extend([sipm_edge_width + i*sipm_pitch]*NSIPM)\n",
    "sipm_pos_y = [sipm_edge_width + i*sipm_pitch for i in range(NSIPM)]*NSIPM\n",
    "\n",
    "print(zip(sipm_pos_x,sipm_pos_y))\n"
   ]
  },
  {
   "cell_type": "markdown",
   "metadata": {},
   "source": [
    "Generate array of El events"
   ]
  },
  {
   "cell_type": "code",
   "execution_count": 10,
   "metadata": {
    "collapsed": false
   },
   "outputs": [
    {
     "name": "stdout",
     "output_type": "stream",
     "text": [
      "[ 39.   3.  11. ...,  41.  73.  17.]\n",
      "[ 17.  11.  43. ...,  23.   9.  13.]\n"
     ]
    }
   ],
   "source": [
    "elpt = np.array([np.random.randint(0,1600,nevts[0]), np.random.randint(0,1600,nevts[1]),np.random.randint(0,1600,nevts[2]),np.random.randint(0,1600,nevts[3])]) \n",
    "\n",
    "x0 = (elpt[0] % max_p)*grid_space + 1\n",
    "x1 = (elpt[1] % max_p)*grid_space + 1\n",
    "x2 = (elpt[2] % max_p)*grid_space + 1\n",
    "x3 = (elpt[3] % max_p)*grid_space + 1\n",
    "\n",
    "y0 = np.floor(elpt[0]/max_p)*grid_space + 1\n",
    "y1 = np.floor(elpt[1]/max_p)*grid_space + 1\n",
    "y2 = np.floor(elpt[2]/max_p)*grid_space + 1\n",
    "y3 = np.floor(elpt[3]/max_p)*grid_space + 1\n",
    "\n",
    "print(x0)\n",
    "print(x1)"
   ]
  },
  {
   "cell_type": "markdown",
   "metadata": {},
   "source": [
    "Define sipm response function"
   ]
  },
  {
   "cell_type": "code",
   "execution_count": 11,
   "metadata": {
    "collapsed": false
   },
   "outputs": [],
   "source": [
    "\"\"\"\n",
    "sipm_param.py\n",
    "author: jrenner\n",
    "Defines the SiPM parameterization functions as:\n",
    "N(x) = M*sum(c_n*x^n) for n = 0 to n = 9\n",
    "where x is the distance of the SiPM from some central point of\n",
    "light emission.\n",
    "Because the response is characterized over several time bins, we\n",
    "have several values for M and the coefficients.\n",
    "\"\"\"\n",
    "import numpy as np\n",
    "\n",
    "# Number of time bins\n",
    "n_tbins = 2\n",
    "\n",
    "# Coefficients from S2 parameterization\n",
    "M = [1.599, 1.599]\n",
    "c0 = [7.72708346764e-05, 0.000116782596518]\n",
    "c1 = [-1.69330613273e-07, 3.05115354927e-06]\n",
    "c2 = [-1.52173658255e-06, -7.00800605142e-06]\n",
    "c3 = [-2.4985972302e-07, 6.53907883449e-07]\n",
    "c4 = [1.12327204397e-07, 8.95230202525e-08]\n",
    "c5 = [-1.49353264606e-08, -2.27173290582e-08]\n",
    "c6 = [1.04614146487e-09, 2.00740799864e-09]\n",
    "c7 = [-4.19111362353e-11, -9.21915945523e-11]\n",
    "c8 = [9.12129133361e-13, 2.20534216312e-12]\n",
    "c9 = [-8.40089561697e-15, -2.1795164563e-14]\n",
    "\n",
    "# Maximum radial extent of parameterization\n",
    "rmax = 20.\n",
    "\n",
    "# Return the SiPM response for the specified time bin and radial distance.\n",
    "def sipm_par(tbin,r):\n",
    "\n",
    "    # Ensure the time bin value is valid.\n",
    "    if(tbin < 0 or tbin >= n_tbins):\n",
    "        print(\"Invalid time bin in sipm_param: returning 0.0 ...\")\n",
    "        return 0.0\n",
    "\n",
    "    # Calculate the response based on the parametrization.\n",
    "    vpar = M[tbin]*(c0[tbin] + c1[tbin]*r + c2[tbin]*r**2 + c3[tbin]*r**3 + \n",
    "    c4[tbin]*r**4 + c5[tbin]*r**5 + c6[tbin]*r**6 + c7[tbin]*r**7 + \n",
    "    c8[tbin]*r**8 + c9[tbin]*r**9)\n",
    "\n",
    "    # Zero the response for radii too large.\n",
    "    if(hasattr(vpar, \"__len__\")):\n",
    "        ret = np.zeros(len(vpar)); iret = 0\n",
    "        for rv,pv in zip(r,vpar):\n",
    "            if(rv < rmax):\n",
    "                ret[iret] = pv\n",
    "            iret += 1\n",
    "        return ret\n",
    "    else:\n",
    "        if(r < rmax):\n",
    "            return vpar\n",
    "        return 0.0\n"
   ]
  },
  {
   "cell_type": "markdown",
   "metadata": {},
   "source": [
    "Generate SiPM responses"
   ]
  },
  {
   "cell_type": "code",
   "execution_count": 14,
   "metadata": {
    "collapsed": false
   },
   "outputs": [],
   "source": [
    "def gen_resp(x,y,pts):\n",
    "    \n",
    "    posxy = zip(sipm_pos_x,sipm_pos_y)\n",
    "    R = np.empty_like(sipm_res)\n",
    "\n",
    "    for xp,yp in zip(x,y): print(xp,yp)\n",
    "    # generate responses\n",
    "    \n",
    "    \"\"\"\n",
    "    for each xp,yp in zip(x,y):\n",
    "        evt = 0\n",
    "        \n",
    "        # for each event (xi,yi) are its coordinates\n",
    "        for xi,yi in zip(xp,yp):\n",
    "            idx = 0 \n",
    "            # for each sipm get sipm_par\n",
    "            for posx,posy in posxy:\n",
    "                r = np.sqrt((posx - xi)**2 + (posy - yi)**2)\n",
    "                sipm_res[evt,idx] = sipm_par(0,r) \n",
    "                #print(posx,xi,posy,yi)\n",
    "                R[evt,idx] = r\n",
    "                #print(r)\n",
    "                if n_tbins == 2: \n",
    "                    sipm_res[evt,idx] += sipm_par(1,r)\n",
    "                idx += 1\n",
    "\n",
    "            evt += 1\n",
    "\n",
    "    #multiply by number of photons, maybe not neccessary \n",
    "    if n_tbins == 2: sipm_res = sipm_res * N / 2 #average time of 2 bins\n",
    "    else: sipm_res *= N\n",
    "    \n",
    "    \"\"\"\n"
   ]
  },
  {
   "cell_type": "markdown",
   "metadata": {},
   "source": [
    "Put responses in a table"
   ]
  },
  {
   "cell_type": "code",
   "execution_count": 15,
   "metadata": {
    "collapsed": false,
    "scrolled": true
   },
   "outputs": [
    {
     "ename": "NameError",
     "evalue": "name 'x' is not defined",
     "output_type": "error",
     "traceback": [
      "\u001b[0;31m---------------------------------------------------------------------------\u001b[0m",
      "\u001b[0;31mNameError\u001b[0m                                 Traceback (most recent call last)",
      "\u001b[0;32m<ipython-input-15-8d56b856684f>\u001b[0m in \u001b[0;36m<module>\u001b[0;34m()\u001b[0m\n\u001b[1;32m      5\u001b[0m \u001b[0;34m\u001b[0m\u001b[0m\n\u001b[1;32m      6\u001b[0m \u001b[0;31m#x\u001b[0m\u001b[0;34m\u001b[0m\u001b[0;34m\u001b[0m\u001b[0m\n\u001b[0;32m----> 7\u001b[0;31m \u001b[0matom\u001b[0m \u001b[0;34m=\u001b[0m \u001b[0mtables\u001b[0m\u001b[0;34m.\u001b[0m\u001b[0mAtom\u001b[0m\u001b[0;34m.\u001b[0m\u001b[0mfrom_dtype\u001b[0m\u001b[0;34m(\u001b[0m\u001b[0mx\u001b[0m\u001b[0;34m.\u001b[0m\u001b[0mdtype\u001b[0m\u001b[0;34m)\u001b[0m\u001b[0;34m\u001b[0m\u001b[0m\n\u001b[0m\u001b[1;32m      8\u001b[0m \u001b[0mxl\u001b[0m \u001b[0;34m=\u001b[0m \u001b[0mf\u001b[0m\u001b[0;34m.\u001b[0m\u001b[0mcreate_carray\u001b[0m\u001b[0;34m(\u001b[0m\u001b[0mf\u001b[0m\u001b[0;34m.\u001b[0m\u001b[0mroot\u001b[0m\u001b[0;34m,\u001b[0m \u001b[0;34m'x'\u001b[0m\u001b[0;34m,\u001b[0m \u001b[0matom\u001b[0m\u001b[0;34m,\u001b[0m \u001b[0mx\u001b[0m\u001b[0;34m.\u001b[0m\u001b[0mshape\u001b[0m\u001b[0;34m,\u001b[0m \u001b[0mfilters\u001b[0m\u001b[0;34m=\u001b[0m\u001b[0mfilters\u001b[0m\u001b[0;34m)\u001b[0m\u001b[0;34m\u001b[0m\u001b[0m\n\u001b[1;32m      9\u001b[0m \u001b[0mxl\u001b[0m\u001b[0;34m[\u001b[0m\u001b[0;34m:\u001b[0m\u001b[0;34m]\u001b[0m \u001b[0;34m=\u001b[0m \u001b[0mx\u001b[0m\u001b[0;34m\u001b[0m\u001b[0m\n",
      "\u001b[0;31mNameError\u001b[0m: name 'x' is not defined"
     ]
    }
   ],
   "source": [
    "# Store \"x\" in a chunked array with level 5 BLOSC compression...\n",
    "f = tables.open_file('resp.h', 'w')\n",
    "\n",
    "filters = tables.Filters(complib='blosc', complevel=9)\n",
    "\n",
    "#x\n",
    "atom = tables.Atom.from_dtype(x.dtype)\n",
    "xl = f.create_carray(f.root, 'x', atom, x.shape, filters=filters)\n",
    "xl[:] = x\n",
    "\n",
    "#y\n",
    "atom = tables.Atom.from_dtype(y.dtype)\n",
    "yl = f.create_carray(f.root, 'y', atom, y.shape, filters=filters)\n",
    "yl[:] = y\n",
    "\n",
    "#sipm\n",
    "atom = tables.Atom.from_dtype(sipm_res.dtype)\n",
    "sipm_resl = f.create_carray(f.root, 'sipm_resp', atom, sipm_res.shape, filters=filters)\n",
    "sipm_resl[:] = sipm_res\n",
    "\n",
    "\n",
    "print(f.root.x.nrows)\n",
    "\n",
    "#print(f.root.sipm_resp[0])\n",
    "#print(R[0])\n",
    "\n",
    "f.close()\n",
    "\n",
    "\n",
    "\n"
   ]
  },
  {
   "cell_type": "markdown",
   "metadata": {},
   "source": [
    "Done!\n",
    "\n",
    "\n",
    "Below is a very small test:\n",
    "*change n_tbins to 2"
   ]
  },
  {
   "cell_type": "code",
   "execution_count": null,
   "metadata": {
    "collapsed": false
   },
   "outputs": [],
   "source": [
    "f = tables.open_file('resp.h', 'r')\n",
    "test_evt = 0\n",
    "test_sipm = 20\n",
    "print(f.root.sipm_resp[0][test_sipm])\n"
   ]
  },
  {
   "cell_type": "markdown",
   "metadata": {},
   "source": [
    "To verify this is as it should be..."
   ]
  },
  {
   "cell_type": "code",
   "execution_count": null,
   "metadata": {
    "collapsed": false
   },
   "outputs": [],
   "source": [
    "r = np.sqrt((x[test_evt] - sipm_pos_x[test_sipm])**2 + (y[test_evt] - sipm_pos_y[test_sipm])**2)\n",
    "test = ( sipm_par(0,r) + sipm_par(1,r) )*N/2\n",
    "\n",
    "\n",
    "print('r: ' + str(r) + ' *if r > 20 this should sipm response should be 0')\n",
    "print('sipm response: '+ str(test) + ' = ' + str(f.root.sipm_resp[0][test_sipm]) + '?')\n",
    "print('x: ' + str(x[test_evt]) + ' = ' + str(f.root.x[test_evt]) + '?')\n",
    "print('y: ' + str(y[test_evt]) + ' = ' + str(f.root.y[test_evt]) + '?')"
   ]
  },
  {
   "cell_type": "code",
   "execution_count": null,
   "metadata": {
    "collapsed": true
   },
   "outputs": [],
   "source": [
    "f.close()"
   ]
  }
 ],
 "metadata": {
  "kernelspec": {
   "display_name": "Python 2",
   "language": "python",
   "name": "python2"
  },
  "language_info": {
   "codemirror_mode": {
    "name": "ipython",
    "version": 2
   },
   "file_extension": ".py",
   "mimetype": "text/x-python",
   "name": "python",
   "nbconvert_exporter": "python",
   "pygments_lexer": "ipython2",
   "version": "2.7.12"
  }
 },
 "nbformat": 4,
 "nbformat_minor": 0
}
