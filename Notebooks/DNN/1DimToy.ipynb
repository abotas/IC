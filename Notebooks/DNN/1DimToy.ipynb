{
 "cells": [
  {
   "cell_type": "markdown",
   "metadata": {},
   "source": [
    "1DimToy will generate 1dim sipm responses to a prandomly generated hit on a 1d EL line. Then 1DimToy will train a neural network to learn the position of the hit, x, from the sipm response to the hit. "
   ]
  },
  {
   "cell_type": "code",
   "execution_count": 1,
   "metadata": {
    "collapsed": false
   },
   "outputs": [
    {
     "name": "stderr",
     "output_type": "stream",
     "text": [
      "/usr/local/lib/python2.7/site-packages/matplotlib/font_manager.py:273: UserWarning: Matplotlib is building the font cache using fc-list. This may take a moment.\n",
      "  warnings.warn('Matplotlib is building the font cache using fc-list. This may take a moment.')\n"
     ]
    },
    {
     "name": "stdout",
     "output_type": "stream",
     "text": [
      "96.0\n"
     ]
    }
   ],
   "source": [
    "from __future__ import print_function\n",
    "%matplotlib inline\n",
    "import pylab\n",
    "import matplotlib.pyplot as plt\n",
    "import matplotlib.cm as cm\n",
    "from sklearn import metrics\n",
    "import random\n",
    "import tables\n",
    "import numpy as np\n",
    "import tensorflow as tf\n",
    "from sipm_param import *\n",
    "\n",
    "NSIPM = 24    \n",
    "NUM_ELPT = 1  # num points simulated in EL in same 'evt' \n",
    "\n",
    "sipm_pitch = 4.0  \n",
    "sipm_edge_width = 2.0 # width of edge of dice board in mm\n",
    "ze = 10.0             # distance between SiPM plane and EL gap\n",
    "grid_space = 2.0      # grid spacing in mm\n",
    "n_tbins = 2           # number of time bins collected as electron crosses EL\n",
    "\n",
    "nevts = 9500 # num events for each num EL pt\n",
    "train_size = 9000\n",
    "cv_size = 500\n",
    "\n",
    "max_xy = (NSIPM-1)*sipm_pitch + 2*sipm_edge_width # maximum x and y value (80 mm)\n",
    "max_p = max_xy /grid_space                        # number of points per line (40)\n",
    "\n",
    "sipm_res = np.zeros((nevts,NSIPM),dtype=np.float32)    #SiPM responses\n",
    "x = np.empty((NUM_ELPT,nevts),dtype = np.float32)      #xcoord for evt\n",
    "\n",
    "#create ndarray containing SiPM positions\n",
    "sipm_pos= np.array([sipm_edge_width + i*sipm_pitch for i in range(NSIPM)])\n",
    "\n",
    "print(max_xy)"
   ]
  },
  {
   "cell_type": "markdown",
   "metadata": {},
   "source": [
    "Generate random EL hit for nevts:"
   ]
  },
  {
   "cell_type": "code",
   "execution_count": 2,
   "metadata": {
    "collapsed": false
   },
   "outputs": [],
   "source": [
    "for pt in range(NUM_ELPT): \n",
    "    for i in range(nevts): x[pt,i] = np.random.uniform(max_xy)"
   ]
  },
  {
   "cell_type": "markdown",
   "metadata": {},
   "source": [
    "Genereate SiPM responses to these hits: "
   ]
  },
  {
   "cell_type": "code",
   "execution_count": 3,
   "metadata": {
    "collapsed": false
   },
   "outputs": [],
   "source": [
    "def generate_SiPM_responses(NUM_ELPT,x,sipm_res):\n",
    "    \n",
    "    # for each EL point\n",
    "    for pt in range(NUM_ELPT):    \n",
    "        evt = 0\n",
    "        \n",
    "        # for each event\n",
    "        for xi in x[pt]:     \n",
    "            r = abs(sipm_pos - xi)\n",
    "            # add sipm response to this EL point to sipm response to this event\n",
    "            sipm_res[evt] = sipm_res[evt] + (sipm_par(0,r) + sipm_par(1,r)) # function in sipm_param.py \n",
    "            evt += 1\n",
    "\n",
    "    sipm_res /= 2 # take mean of two time bins\n",
    "    #Normalize for the DNN\n",
    "    #mean = np.mean(sipm_res)\n",
    "    mean = 0\n",
    "    std = np.std(sipm_res)\n",
    "    return (sipm_res - mean)/std\n",
    "    \n",
    "sipm_res = generate_SiPM_responses(NUM_ELPT,x,sipm_res)"
   ]
  },
  {
   "cell_type": "markdown",
   "metadata": {},
   "source": [
    "Here is a plot of an EL hit and it's corresponding SiPM response. NOTE: the y coordinates for the EL hits are meaningless! "
   ]
  },
  {
   "cell_type": "code",
   "execution_count": 4,
   "metadata": {
    "collapsed": false
   },
   "outputs": [
    {
     "data": {
      "image/png": "[encoded data removed]",
      "text/plain": [
       "<matplotlib.figure.Figure at 0x1108dafd0>"
      ]
     },
     "metadata": {},
     "output_type": "display_data"
    }
   ],
   "source": [
    "# dim1plot is a plot function that will also be useful later:\n",
    "# it will plot with any number of el hits and can also plot \n",
    "# neural network output if given (predictions)\n",
    "def dim1plot(lbl, data, predictions=None):\n",
    "    # will only plot input data if cv_predidctions == None\n",
    "    \n",
    "    exevt = np.random.randint(lbl.shape[0])\n",
    "    if   NUM_ELPT == 1: colors = ['r']\n",
    "    elif NUM_ELPT == 2: colors = ['r','g']\n",
    "    elif NUM_ELPT == 3: colors = ['r','g','b']\n",
    "    \n",
    "    # plot an event (el hit and sipm response)\n",
    "    plt.scatter(lbl[exevt], np.array([np.max(data[exevt])]*NUM_ELPT), color=colors)\n",
    "    plot = plt.plot(sipm_pos,data[exevt])\n",
    "    pylab.xlim([0,max_xy])\n",
    "\n",
    "    # plot network prediction:\n",
    "    if type(predictions) != type(None):\n",
    "        plt.scatter(predictions[exevt], \n",
    "                    np.array([np.max(data[exevt])]*NUM_ELPT)*.95, color=colors)\n",
    "\n",
    "    plt.xlabel('SiPM Position')\n",
    "    plt.ylabel('SiPM Response')\n",
    "    plt.show()\n",
    "    \n",
    "dim1plot(x.T, sipm_res)"
   ]
  },
  {
   "cell_type": "markdown",
   "metadata": {},
   "source": [
    "Organize and normalize data for training"
   ]
  },
  {
   "cell_type": "code",
   "execution_count": 5,
   "metadata": {
    "collapsed": false
   },
   "outputs": [],
   "source": [
    "# create training and cv data/labels. Note here they do not have to be preshuffled.\n",
    "data_train = sipm_res[0:train_size]\n",
    "lbl_train = (x.T[0:train_size]  - max_xy/2)/max_xy\n",
    "data_cv = sipm_res[train_size:(train_size + cv_size)]\n",
    "lbl_cv = (x.T[train_size:(train_size + cv_size)] - max_xy/2)/max_xy"
   ]
  },
  {
   "cell_type": "markdown",
   "metadata": {},
   "source": [
    "Train with an out of the box linear regression (not TF):"
   ]
  },
  {
   "cell_type": "code",
   "execution_count": 6,
   "metadata": {
    "collapsed": false
   },
   "outputs": [
    {
     "name": "stdout",
     "output_type": "stream",
     "text": [
      "----training now----\n",
      "LinReg Score: 0.999255\n"
     ]
    }
   ],
   "source": [
    "from sklearn.linear_model import LinearRegression\n",
    "def LinearReg(data_train,lbl_train,data_cv,lbl_cv,train_size):\n",
    "    linreg = LinearRegression()\n",
    "    linreg_model = linreg.fit(data_train, lbl_train[:train_size])\n",
    "    print('----training now----')\n",
    "    print('LinReg Score: %f' %linreg_model.score(data_cv,lbl_cv))\n",
    "\n",
    "LinearReg(data_train,lbl_train[:,0],data_cv,lbl_cv[:,0],train_size)"
   ]
  },
  {
   "cell_type": "markdown",
   "metadata": {},
   "source": [
    "Now with TF, set up input, lbls:"
   ]
  },
  {
   "cell_type": "markdown",
   "metadata": {},
   "source": [
    "Make a single layer network (linear regression with stochastic grad descent):"
   ]
  },
  {
   "cell_type": "code",
   "execution_count": 19,
   "metadata": {
    "collapsed": false
   },
   "outputs": [],
   "source": [
    "# setup architecture\n",
    "batchsize = 64\n",
    "\n",
    "# for convenience define a pair of functions to set up weight variables and bias variables\n",
    "def weight_variable(shape):\n",
    "    in_neurons = 1\n",
    "    for ii in shape[:-1]: in_neurons *= ii\n",
    "    out_neurons = shape[-1]\n",
    "    init_rng = np.sqrt(3.0 / (in_neurons + out_neurons))    # change 3.0 to 6.0 to use with random_uniform\n",
    "    #initial = tf.random_uniform(shape,minval=-init_rng,maxval=init_rng)\n",
    "    initial = tf.truncated_normal(shape, stddev=init_rng)\n",
    "    return tf.Variable(initial)\n",
    "\n",
    "def bias_variable(shape):\n",
    "    initial = tf.constant(0.01, shape=shape)\n",
    "    return tf.Variable(initial)\n",
    "\n",
    "# set up the graph\n",
    "def setup_linreg_graph():\n",
    "    LinReg = tf.Graph()\n",
    "    with LinReg.as_default():\n",
    "\n",
    "        trainx  = tf.placeholder(tf.float32, [batchsize, NSIPM])    # SiPM response input for training\n",
    "        trainy_ = tf.placeholder(tf.float32, [batchsize, NUM_ELPT]) # training labels (xcoord of EL HIT)\n",
    "\n",
    "        W = weight_variable([NSIPM,NUM_ELPT])\n",
    "        b = bias_variable([NUM_ELPT])\n",
    "\n",
    "        train_yout = tf.matmul(trainx,W) + b  # predicted output for training data\n",
    "\n",
    "\n",
    "        loss = tf.nn.l2_loss(train_yout - trainy_)\n",
    "        optimizer = tf.train.GradientDescentOptimizer(0.0001).minimize(loss)\n",
    "\n",
    "        #train_acc = 1- np.abs(train_yout - trainy_)\n",
    "\n",
    "        # for checking cross validation accuracy\n",
    "        cvx     = tf.constant(data_cv)\n",
    "        cvy_    = tf.constant(lbl_cv)  \n",
    "        cv_yout = tf.matmul(cvx,   W) + b\n",
    "        #cv_acc  = 1 - np.abs(cv_yout - cvy_)\n",
    "    return LinReg,trainx,trainy_,train_yout,loss,optimizer,cv_yout\n"
   ]
  },
  {
   "cell_type": "markdown",
   "metadata": {},
   "source": [
    "Really quick define an accuracy function:"
   ]
  },
  {
   "cell_type": "code",
   "execution_count": 8,
   "metadata": {
    "collapsed": false
   },
   "outputs": [],
   "source": [
    "# note accuracy can be negative\n",
    "def accuracy(pred,lbls): \n",
    "    return metrics.r2_score(lbls, pred)\n",
    "\n",
    "# error in average distance of a prediction point for its target\n",
    "def error(pred,lbls):\n",
    "    E=0.0\n",
    "    for pt in range(NUM_ELPT):\n",
    "        E = E + np.sqrt(\n",
    "            np.sum(((lbls[:,pt] - pred[:,pt])*80)**2)/lbls.shape[0])\n",
    "    return E/NUM_ELPT"
   ]
  },
  {
   "cell_type": "markdown",
   "metadata": {},
   "source": [
    "Now run it:"
   ]
  },
  {
   "cell_type": "code",
   "execution_count": 10,
   "metadata": {
    "collapsed": false
   },
   "outputs": [
    {
     "name": "stdout",
     "output_type": "stream",
     "text": [
      "---Initialized---\n",
      "---Checking new accuracy---\n",
      "loss: 89.8189\n",
      "training accuracy: -33.9397967355\n",
      "cv accuracy      : -32.8414014086\n",
      "---Checking new accuracy---\n",
      "loss: 0.00297427\n",
      "training accuracy: 0.998907941216\n",
      "cv accuracy      : 0.999290358911\n",
      "---Checking new accuracy---\n",
      "loss: 0.000432591\n",
      "training accuracy: 0.99978733976\n",
      "cv accuracy      : 0.999295595981\n"
     ]
    }
   ],
   "source": [
    "def runTF(graph, numsteps, batchsize, data_train, lbl_train, lbl_cv, multidim=False):\n",
    "    with tf.Session(graph=graph) as session:\n",
    "        tf.initialize_all_variables().run()\n",
    "        print(\"---Initialized---\")\n",
    "\n",
    "        for step in range(numsteps):\n",
    "            # compute offset: //change this at some point\n",
    "            offset = (step * batchsize) % (lbl_train.shape[0] - batchsize)\n",
    "\n",
    "            # feed batch for training\n",
    "            batch_data = data_train[offset:(offset + batchsize), :]\n",
    "            batch_labels = lbl_train[offset:(offset + batchsize), :]\n",
    "            feed_dict = {trainx : batch_data, trainy_ : batch_labels}   # where to find batch data/lbls\n",
    "            _, l, predictions = session.run([optimizer, loss, train_yout], feed_dict=feed_dict)\n",
    "\n",
    "            # compute error every 5k iterations\n",
    "            if step % 50000 == 0: \n",
    "                print('---Checking new accuracy---')\n",
    "                print('loss: '+ str(l))\n",
    "                if multidim:\n",
    "                    print('training error: ' + str(error(predictions, batch_labels)))\n",
    "                    cv_predictions = cv_yout.eval()\n",
    "                    print('cv error      : ' + str(error(cv_predictions, lbl_cv)))\n",
    "                else:      \n",
    "                    print('training accuracy: ' + str(accuracy(predictions, batch_labels)))\n",
    "                    cv_predictions = cv_yout.eval()\n",
    "                    print('cv accuracy      : ' + str(accuracy(cv_predictions, lbl_cv)))\n",
    "        return cv_predictions\n",
    "numsteps = 100001\n",
    "\n",
    "\n",
    "LinReg,trainx,trainy_,train_yout,loss,optimizer,cv_yout = setup_linreg_graph()\n",
    "cv_predictions = runTF(LinReg, numsteps, batchsize, data_train, lbl_train, lbl_cv)\n",
    "\n",
    "# note accuracy can be negative here"
   ]
  },
  {
   "cell_type": "markdown",
   "metadata": {},
   "source": [
    "Here is a little plot function that compares neural network estimated output with labels and also Sipm response input.\n",
    "Remember: the y coordinates of scatter plot data points are meaningless. "
   ]
  },
  {
   "cell_type": "code",
   "execution_count": 11,
   "metadata": {
    "collapsed": false
   },
   "outputs": [
    {
     "data": {
      "image/png": "[encoded data removed]",
      "text/plain": [
       "<matplotlib.figure.Figure at 0x1110e7290>"
      ]
     },
     "metadata": {},
     "output_type": "display_data"
    }
   ],
   "source": [
    "dim1plot(lbl_cv*max_xy + max_xy/2, data_cv, cv_predictions*max_xy + max_xy/2)"
   ]
  },
  {
   "cell_type": "code",
   "execution_count": 14,
   "metadata": {
    "collapsed": false
   },
   "outputs": [],
   "source": [
    "# modify dependent inputs\n",
    "NUM_ELPT = 2\n",
    "x = np.empty((NUM_ELPT,nevts),dtype=np.float32)\n",
    "x[0] = np.random.uniform(0,max_xy/2,nevts)       # ***** Set x = np.random.uniform(0,max_xy,(NUM_ELPT,nevts))\n",
    "x[1] = np.random.uniform(max_xy/2,max_xy,nevts)  # ***** and all the networks will fail! \n",
    "\n",
    "\n",
    "#This works, but not as well as above ^\n",
    "#temp = np.random.uniform(0,max_xy,(NUM_ELPT,nevts))\n",
    "#for i in range(nevts): \n",
    "#    if temp[0,i] < temp[1,i]:\n",
    "#        x[:,i] = temp[:,i]\n",
    "#    else:\n",
    "#        x[0,i] = temp[1,i]\n",
    "#        x[1,i] = temp[0,i]\n",
    "\n",
    "#x = np.random.uniform(0,max_xy,(NUM_ELPT,nevts)) # ***** This will not work at all\n",
    "    \n",
    "    \n",
    "\n",
    "sipm_res = np.zeros((nevts,NSIPM),dtype=np.float32)\n",
    "sipm_res = generate_SiPM_responses(NUM_ELPT,x,sipm_res)"
   ]
  },
  {
   "cell_type": "markdown",
   "metadata": {},
   "source": [
    "Here is a plot of our 2 El hit data"
   ]
  },
  {
   "cell_type": "code",
   "execution_count": 15,
   "metadata": {
    "collapsed": false,
    "scrolled": true
   },
   "outputs": [
    {
     "data": {
      "image/png": "[encoded data removed]",
      "text/plain": [
       "<matplotlib.figure.Figure at 0x11140d6d0>"
      ]
     },
     "metadata": {},
     "output_type": "display_data"
    }
   ],
   "source": [
    "# plot again\n",
    "dim1plot(x.T,sipm_res)"
   ]
  },
  {
   "cell_type": "markdown",
   "metadata": {},
   "source": [
    "Set up the new data"
   ]
  },
  {
   "cell_type": "code",
   "execution_count": 16,
   "metadata": {
    "collapsed": false
   },
   "outputs": [
    {
     "name": "stdout",
     "output_type": "stream",
     "text": [
      "(9000, 24)\n",
      "(9000, 2)\n",
      "=====\n",
      "(500, 24)\n",
      "(500, 2)\n"
     ]
    }
   ],
   "source": [
    "# set up training dataset and cv dataset again\n",
    "data_train = sipm_res[0:train_size]\n",
    "lbl_train = (x.T[0:train_size]  - max_xy/2)/max_xy\n",
    "data_cv = sipm_res[train_size:(train_size + cv_size)]\n",
    "lbl_cv = (x.T[train_size:(train_size + cv_size)] - max_xy/2)/max_xy\n",
    "\n",
    "print(data_train.shape)\n",
    "print(lbl_train.shape)\n",
    "print('=====')\n",
    "print(data_cv.shape)\n",
    "print(lbl_cv.shape)"
   ]
  },
  {
   "cell_type": "raw",
   "metadata": {},
   "source": [
    "Try sklearn linear regression again... it performs worse than before. "
   ]
  },
  {
   "cell_type": "code",
   "execution_count": 17,
   "metadata": {
    "collapsed": false
   },
   "outputs": [
    {
     "name": "stdout",
     "output_type": "stream",
     "text": [
      "----training now----\n",
      "LinReg Score: 0.997596\n"
     ]
    }
   ],
   "source": [
    "LinearReg(data_train,lbl_train,data_cv,lbl_cv,train_size)"
   ]
  },
  {
   "cell_type": "markdown",
   "metadata": {},
   "source": [
    "Now try with tf lin regressor"
   ]
  },
  {
   "cell_type": "code",
   "execution_count": 20,
   "metadata": {
    "collapsed": false
   },
   "outputs": [
    {
     "name": "stdout",
     "output_type": "stream",
     "text": [
      "---Initialized---\n",
      "---Checking new accuracy---\n",
      "loss: 2707.93\n",
      "training error: 185.00173101\n",
      "cv error      : 130.427994923\n",
      "---Checking new accuracy---\n",
      "loss: 0.0379959\n",
      "training error: 0.697114619653\n",
      "cv error      : 0.651234941398\n",
      "---Checking new accuracy---\n",
      "loss: 0.0233966\n",
      "training error: 0.547049251595\n",
      "cv error      : 0.613529359399\n"
     ]
    }
   ],
   "source": [
    "batchsize = 500\n",
    "LinReg,trainx,trainy_,train_yout,loss,optimizer,cv_yout = setup_linreg_graph()      # recreate the tf graph\n",
    "cv_predictions = runTF(LinReg, numsteps, batchsize, data_train, lbl_train, lbl_cv, multidim=True)  # train"
   ]
  },
  {
   "cell_type": "markdown",
   "metadata": {},
   "source": [
    "Plot a sample prediction, and notice (you can run this a few times if  you want) that the network predicts both points to be in the same loaction, at the mean of sipm peak response 1 and 2. It is also overfitting"
   ]
  },
  {
   "cell_type": "code",
   "execution_count": null,
   "metadata": {
    "collapsed": false
   },
   "outputs": [],
   "source": [
    "dim1plot(lbl_cv*max_xy + max_xy/2, data_cv, cv_predictions*max_xy + max_xy/2)       # graphs an example prediction"
   ]
  }
 ],
 "metadata": {
  "kernelspec": {
   "display_name": "Python 2",
   "language": "python",
   "name": "python2"
  },
  "language_info": {
   "codemirror_mode": {
    "name": "ipython",
    "version": 2
   },
   "file_extension": ".py",
   "mimetype": "text/x-python",
   "name": "python",
   "nbconvert_exporter": "python",
   "pygments_lexer": "ipython2",
   "version": "2.7.12"
  }
 },
 "nbformat": 4,
 "nbformat_minor": 0
}
