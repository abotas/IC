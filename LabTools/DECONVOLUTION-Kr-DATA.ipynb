{
 "cells": [
  {
   "cell_type": "markdown",
   "metadata": {},
   "source": [
    "# Deconvolution of Kripton data"
   ]
  },
  {
   "cell_type": "markdown",
   "metadata": {},
   "source": [
    "Deconvolution of Kripton data"
   ]
  },
  {
   "cell_type": "code",
   "execution_count": 3,
   "metadata": {
    "collapsed": false
   },
   "outputs": [],
   "source": [
    "import matplotlib\n",
    "import numpy as np\n",
    "from scipy import signal\n",
    "import matplotlib.pyplot as plt\n",
    "from DBLR_cal import BLRc\n",
    "from IPython.display import Image\n",
    "from IPython.core.display import HTML \n",
    "%matplotlib inline\n",
    "%load_ext autoreload\n",
    "%autoreload 2"
   ]
  },
  {
   "cell_type": "code",
   "execution_count": 4,
   "metadata": {
    "collapsed": true
   },
   "outputs": [],
   "source": [
    "import system_of_units as units\n",
    "import tables\n",
    "import mplFunctions as mpl\n",
    "import wfmFunctions as wfm"
   ]
  },
  {
   "cell_type": "code",
   "execution_count": 5,
   "metadata": {
    "collapsed": true
   },
   "outputs": [],
   "source": [
    "import FEE as FE"
   ]
  },
  {
   "cell_type": "code",
   "execution_count": null,
   "metadata": {
    "collapsed": true
   },
   "outputs": [],
   "source": [
    "from scipy import signal"
   ]
  },
  {
   "cell_type": "code",
   "execution_count": 6,
   "metadata": {
    "collapsed": true
   },
   "outputs": [],
   "source": [
    "import time"
   ]
  },
  {
   "cell_type": "code",
   "execution_count": 148,
   "metadata": {
    "collapsed": true
   },
   "outputs": [],
   "source": [
    "import pandas as pd"
   ]
  },
  {
   "cell_type": "code",
   "execution_count": null,
   "metadata": {
    "collapsed": true
   },
   "outputs": [],
   "source": []
  },
  {
   "cell_type": "markdown",
   "metadata": {},
   "source": [
    "## Revised on:"
   ]
  },
  {
   "cell_type": "code",
   "execution_count": 141,
   "metadata": {
    "collapsed": false
   },
   "outputs": [
    {
     "name": "stdout",
     "output_type": "stream",
     "text": [
      "05/11/2016\n"
     ]
    }
   ],
   "source": [
    "print(time.strftime(\"%d/%m/%Y\"))"
   ]
  },
  {
   "cell_type": "code",
   "execution_count": 142,
   "metadata": {
    "collapsed": false
   },
   "outputs": [
    {
     "name": "stdout",
     "output_type": "stream",
     "text": [
      "17:54:07\n"
     ]
    }
   ],
   "source": [
    "print(time.strftime(\"%H:%M:%S\"))"
   ]
  },
  {
   "cell_type": "code",
   "execution_count": 160,
   "metadata": {
    "collapsed": true
   },
   "outputs": [],
   "source": [
    "def wait():\n",
    "    \"\"\"\n",
    "    A simple convenience name for raw_input\n",
    "    \"\"\"\n",
    "    raw_input(\"Press a key...\")"
   ]
  },
  {
   "cell_type": "markdown",
   "metadata": {},
   "source": [
    "###  Code exercized"
   ]
  },
  {
   "cell_type": "code",
   "execution_count": 9,
   "metadata": {
    "collapsed": false
   },
   "outputs": [],
   "source": [
    "!pep8 ../Sierpe/FEE.py"
   ]
  },
  {
   "cell_type": "code",
   "execution_count": 10,
   "metadata": {
    "collapsed": true
   },
   "outputs": [],
   "source": [
    "!pyflakes ../Sierpe/FEE.py"
   ]
  },
  {
   "cell_type": "code",
   "execution_count": 11,
   "metadata": {
    "collapsed": false
   },
   "outputs": [
    {
     "name": "stdout",
     "output_type": "stream",
     "text": [
      "Yield factor (MC to NEW running conditions, November, 2016 = 0.831884057971)\n"
     ]
    }
   ],
   "source": [
    "yield_factor = 574./690.\n",
    "print('Yield factor (MC to NEW running conditions, November, 2016 = {})'.format(yield_factor))"
   ]
  },
  {
   "cell_type": "markdown",
   "metadata": {},
   "source": [
    "### Deconvolution function"
   ]
  },
  {
   "cell_type": "markdown",
   "metadata": {},
   "source": [
    "#### coeff_clean = freq_zerod\n",
    "\n",
    "Nominal values:\n",
    "\n",
    "\n",
    "C1=3100 nF\n",
    "\n",
    "R1=1567 ohm\n",
    "\n",
    "f_sample = (1/25 ns)\n",
    "\n",
    "freq_zero = 1/(R1*C1);\n",
    "\n",
    "freq_zerod = freq_zero / (f_sample*np.pi)"
   ]
  },
  {
   "cell_type": "markdown",
   "metadata": {},
   "source": [
    "#### coef_blr=fee.freq_LHPFd*np.pi\n",
    "\n",
    "freq_LHPFd = freq_LHPF/(f_sample*np.pi)\n",
    "\n",
    "freq_LHPF = 1./(R * C)"
   ]
  },
  {
   "cell_type": "code",
   "execution_count": 93,
   "metadata": {
    "collapsed": true
   },
   "outputs": [],
   "source": [
    "def find_baseline(signal_i, mau_len=1000):\n",
    "\n",
    "    \"\"\"\n",
    "    1) compute baseline using the first blevt events\n",
    "    2) compute noise rms using first blevt events\n",
    "\n",
    "    \"\"\"\n",
    "    \n",
    "    nm = mau_len\n",
    "    len_signal_i = len(signal_i)\n",
    "    mau = np.zeros(nm, dtype=np.double)\n",
    "    bmau = (1./nm)*np.ones(nm)\n",
    "\n",
    "#   MAU averages the signal in the initial tranch\n",
    "#    allows to compute the baseline of the signal\n",
    "\n",
    "    mau = signal.lfilter(bmau,1, signal_i[0:nm])\n",
    "    baseline = mau[nm-1]\n",
    "    noise_rms = np.std(signal_i[0:nm],ddof=1)\n",
    "    print (\"baseline = {} noise (LSB_rms) = {}\".format(baseline, noise_rms))\n",
    "    return baseline, noise_rms"
   ]
  },
  {
   "cell_type": "code",
   "execution_count": 143,
   "metadata": {
    "collapsed": false
   },
   "outputs": [],
   "source": [
    "def deconvolve_signal(signal_daq, mau_len=1000, \n",
    "                      coef_clean=2.905447E-06, coef_blr=1.632411E-03, \n",
    "                      thr1=5, thr2=1,\n",
    "                      filter_c=True):\n",
    "    \"\"\"\n",
    "    Deconvolve the signal. \n",
    "    1) compute the baseline and the noise rms\n",
    "    2) clean the signal\n",
    "    3) apply BLR\n",
    "    \"\"\"\n",
    "    coef = coef_blr\n",
    "    nm = mau_len\n",
    "    len_signal_daq = len(signal_daq)\n",
    "    signal_r = np.zeros(len_signal_daq, dtype=np.double)\n",
    "    MAU = np.zeros(len_signal_daq, dtype=np.double)\n",
    "    acum = np.zeros(len_signal_daq, dtype=np.double)\n",
    "    pulse_on = np.zeros(len_signal_daq, dtype=np.int8)\n",
    "    wait_over = np.zeros(len_signal_daq, dtype=np.int8)\n",
    "    \n",
    "    \n",
    "    BASELINE, noise_rms = find_baseline(signal_daq, mau_len=nm)\n",
    "    MAU[0:nm] = BASELINE\n",
    "    \n",
    "    # change sign and subtract baseline\n",
    "    signal_daq =  BASELINE - signal_daq\n",
    " \n",
    "    # clean function\n",
    "    if (filter==True):\n",
    "        b_cf, a_cf = signal.butter(1, coef_clean, 'high', analog=False);\n",
    "        signal_daq = signal.lfilter(b_cf,a_cf,signal_daq)\n",
    " \n",
    "    # BLR\n",
    "    signal_r[0:nm] = signal_daq[0:nm] \n",
    "    p_on = 0\n",
    "    w_over = 0 \n",
    "    offset = 0\n",
    "    \n",
    "    for k in range(nm,len_signal_daq):\n",
    "        trigger_line = MAU[k-1] + thr1*noise_rms\n",
    "        pulse_on[k] = p_on\n",
    "        wait_over[k] = w_over\n",
    "\n",
    "        # condition: raw signal raises above trigger line and\n",
    "        # we are not in the tail\n",
    "        # (w_over == 0)\n",
    "        if signal_daq[k] > trigger_line and w_over == 0:\n",
    "\n",
    "            # if the pulse just started pulse_on = 0.\n",
    "            # In this case compute the offset as value\n",
    "            # of the MAU before pulse starts (at k-1)\n",
    "\n",
    "            if p_on == 0: # pulse just started\n",
    "                offset = MAU[k-1]\n",
    "                p_on = 1\n",
    "\n",
    "            # Pulse is on: Freeze the MAU\n",
    "            MAU[k] = MAU[k-1]\n",
    "\n",
    "            #update recovered signal, correcting by offset\n",
    "            signal_r[k] = signal_daq[k] + signal_daq[k]*(coef/2.0) + coef*acum[k-1] \n",
    "            acum[k] = acum[k-1] + signal_daq[k] - offset\n",
    "            \n",
    "        else:  # signal_daq[k] < trigger_line and w_over == 1\n",
    "\n",
    "        # but raw signal can be negative for a while and still contribute to the\n",
    "        # reconstructed signal.\n",
    "\n",
    "            if p_on == 1: # reconstructed signal still on\n",
    "                # switch the pulse off only when recovered signal\n",
    "                # drops below threshold\n",
    "                # slide the MAU, still frozen.\n",
    "                # keep recovering signal\n",
    "\n",
    "                MAU[k] = MAU[k-1]\n",
    "                signal_r[k] = signal_daq[k] + signal_daq[k]*(coef/2.0) + coef*acum[k-1] \n",
    "                acum[k] = acum[k-1] + signal_daq[k] - offset\n",
    "                \n",
    "                # if the recovered signal drops before trigger line\n",
    "                # rec pulse is over!\n",
    "                \n",
    "                if signal_r[k] < trigger_line:\n",
    "                    w_over = 1  #start tail compensation\n",
    "                    p_on = 0   #recovered pulse is over\n",
    "\n",
    "\n",
    "            else:  # recovered signal has droped below trigger line\n",
    "            # need to compensate the tail to avoid drifting due to erros in\n",
    "            # baseline calculatoin\n",
    "\n",
    "                if w_over == 1: # compensating pulse\n",
    "                    # recovered signal and raw signal\n",
    "                    # must be equal within a threshold\n",
    "                    # otherwise keep compensating pluse\n",
    "\n",
    "                    if abs(signal_daq[k-1] - signal_r[k-1]) > thr2*noise_rms:\n",
    "                        # raw signal still not close to recovered signal\n",
    "                        # keep compensating pulse\n",
    "                        \n",
    "                        signal_r[k] = signal_daq[k] + signal_daq[k]*(coef/2.0) +\\\n",
    "                                      coef*acum[k-1] \n",
    "                        acum[k] = acum[k-1] + signal_daq[k] - offset\n",
    "\n",
    "                    else:  # raw signal ~=  recovered signal: we are done\n",
    "\n",
    "                        w_over = 0\n",
    "                        acum[k] = MAU[k-1]\n",
    "                        signal_r[k] = signal_daq[k]\n",
    "                        MAU[k] = np.mean(signal_daq[k-nm:k])\n",
    "\n",
    "\n",
    "                else: #signal still not found\n",
    "\n",
    "                    # update MAU and signals\n",
    "                    MAU[k] = np.mean(signal_daq[k-nm:k]*1.)\n",
    "                    acum[k] = MAU[k-1]\n",
    "                    signal_r[k] = signal_daq[k]\n",
    "                    \n",
    "\n",
    "    return  signal_r, acum, pulse_on, wait_over, MAU"
   ]
  },
  {
   "cell_type": "markdown",
   "metadata": {},
   "source": [
    "#### List the files"
   ]
  },
  {
   "cell_type": "code",
   "execution_count": 114,
   "metadata": {
    "collapsed": false
   },
   "outputs": [
    {
     "name": "stdout",
     "output_type": "stream",
     "text": [
      "IC_Kr_500evt.h5\r\n",
      "dst_NEXT_v0_08_04_Kr_ACTIVE_0_0_5bar_MCRD_10000.root.h5\r\n",
      "dst_NEXT_v0_08_04_Na_ACTIVE_0_0_5bar_MCRD_10000.root.h5\r\n",
      "dst_NEXT_v0_08_04_Tl_SOURCE_PORT_ANODE_0_0_5bar_MCRD_10000.root.h5\r\n",
      "electrons.1250.0keV.z250mm.next_10.root.h5\r\n",
      "electrons.1250.0keV.z250mm.next_100.root.h5\r\n",
      "electrons.1250.0keV.z250mm.next_1000.root.h5\r\n",
      "electrons.2500.0keV.z250mm.next_10.root.h5\r\n",
      "electrons.2500.0keV.z250mm.next_100.root.h5\r\n",
      "electrons.2500.0keV.z250mm.next_1000.root.h5\r\n",
      "electrons.2500.0keV.z250mm.next_10000.root.h5\r\n",
      "electrons.40.0keV.z250mm.next_10.root.h5\r\n",
      "electrons.40.0keV.z250mm.next_100.root.h5\r\n",
      "electrons.40.0keV.z250mm.next_1000.root.h5\r\n",
      "electrons.40.0keV.z250mm.next_10000.root.h5\r\n",
      "run_2609_kr.root.h5\r\n",
      "run_2644.gdc1next.000.next1el_2644.root.h5\r\n",
      "run_2644.gdc1next.001.next1el_2644.root.h5\r\n",
      "run_2644.gdc1next.003.next1el_2644.root.h5\r\n",
      "run_2644.gdc1next.004.next1el_2644.root.h5\r\n",
      "run_2644.gdc1next.005.next1el_2644.root.h5\r\n",
      "run_2644.gdc1next.006.next1el_2644.root.h5\r\n",
      "run_2644.gdc1next.007.next1el_2644.root.h5\r\n",
      "run_2644.gdc1next.008.next1el_2644.root.h5\r\n",
      "run_2644.gdc1next.009.next1el_2644.root.h5\r\n",
      "run_2644.gdc1next.010.next1el_2644.root.h5\r\n",
      "run_2644.gdc1next.011.next1el_2644.root.h5\r\n",
      "run_2644.gdc1next.012.next1el_2644.root.h5\r\n"
     ]
    }
   ],
   "source": [
    "ls /Users/jjgomezcadenas/Documents/Development/NEXT/icdata"
   ]
  },
  {
   "cell_type": "markdown",
   "metadata": {},
   "source": [
    "#### Open and inspect files"
   ]
  },
  {
   "cell_type": "code",
   "execution_count": 86,
   "metadata": {
    "collapsed": true
   },
   "outputs": [],
   "source": [
    "kr2609 = tables.open_file('/Users/jjgomezcadenas/Documents/Development/NEXT/icdata/run_2609_kr.root.h5','r+')"
   ]
  },
  {
   "cell_type": "code",
   "execution_count": 87,
   "metadata": {
    "collapsed": false
   },
   "outputs": [
    {
     "data": {
      "text/plain": [
       "File(filename=/Users/jjgomezcadenas/Documents/Development/NEXT/icdata/run_2609_kr.root.h5, title='', mode='r+', root_uep='/', filters=Filters(complevel=4, complib='zlib', shuffle=True, fletcher32=False, least_significant_digit=None))\n",
       "/ (RootGroup) ''\n",
       "/Detector (Group) ''\n",
       "/Detector/DetectorGeometry (Table(1,)) ''\n",
       "  description := {\n",
       "  \"x_det\": Float32Col(shape=(2,), dflt=0.0, pos=0),\n",
       "  \"y_det\": Float32Col(shape=(2,), dflt=0.0, pos=1),\n",
       "  \"z_det\": Float32Col(shape=(2,), dflt=0.0, pos=2),\n",
       "  \"r_det\": Float32Col(shape=(), dflt=0.0, pos=3)}\n",
       "  byteorder := 'little'\n",
       "  chunkshape := (2340,)\n",
       "/RD (Group) ''\n",
       "/RD/pmtblr (EArray(1365, 12, 48000), shuffle, zlib(4)) ''\n",
       "  atom := Int16Atom(shape=(), dflt=0)\n",
       "  maindim := 0\n",
       "  flavor := 'numpy'\n",
       "  byteorder := 'little'\n",
       "  chunkshape := (1, 5, 48000)\n",
       "/RD/pmtrwf (EArray(1365, 12, 48000), shuffle, zlib(4)) ''\n",
       "  atom := Int16Atom(shape=(), dflt=0)\n",
       "  maindim := 0\n",
       "  flavor := 'numpy'\n",
       "  byteorder := 'little'\n",
       "  chunkshape := (1, 5, 48000)\n",
       "/RD/sipmrwf (EArray(1365, 1792, 1200), shuffle, zlib(4)) ''\n",
       "  atom := Int16Atom(shape=(), dflt=0)\n",
       "  maindim := 0\n",
       "  flavor := 'numpy'\n",
       "  byteorder := 'little'\n",
       "  chunkshape := (1, 218, 1200)\n",
       "/Run (Group) ''\n",
       "/Run/event_number (EArray(1365,), shuffle, zlib(4)) ''\n",
       "  atom := Int16Atom(shape=(), dflt=0)\n",
       "  maindim := 0\n",
       "  flavor := 'numpy'\n",
       "  byteorder := 'little'\n",
       "  chunkshape := (32768,)\n",
       "/Run/runInfo (Table(1,)) ''\n",
       "  description := {\n",
       "  \"run_number\": Int32Col(shape=(), dflt=0, pos=0)}\n",
       "  byteorder := 'little'\n",
       "  chunkshape := (16384,)\n",
       "/Sensors (Group) ''\n",
       "/Sensors/DataBLR (Table(12,)) ''\n",
       "  description := {\n",
       "  \"channel\": Int32Col(shape=(), dflt=0, pos=0),\n",
       "  \"sensorID\": Int32Col(shape=(), dflt=0, pos=1),\n",
       "  \"position\": Float32Col(shape=(3,), dflt=0.0, pos=2),\n",
       "  \"coeff\": Float64Col(shape=(), dflt=0.0, pos=3),\n",
       "  \"adc_to_pes\": Float32Col(shape=(), dflt=0.0, pos=4),\n",
       "  \"noise_rms\": Float32Col(shape=(), dflt=0.0, pos=5)}\n",
       "  byteorder := 'little'\n",
       "  chunkshape := (1820,)\n",
       "/Sensors/DataPMT (Table(12,)) ''\n",
       "  description := {\n",
       "  \"channel\": Int32Col(shape=(), dflt=0, pos=0),\n",
       "  \"sensorID\": Int32Col(shape=(), dflt=0, pos=1),\n",
       "  \"position\": Float32Col(shape=(3,), dflt=0.0, pos=2),\n",
       "  \"coeff\": Float64Col(shape=(), dflt=0.0, pos=3),\n",
       "  \"adc_to_pes\": Float32Col(shape=(), dflt=0.0, pos=4),\n",
       "  \"noise_rms\": Float32Col(shape=(), dflt=0.0, pos=5)}\n",
       "  byteorder := 'little'\n",
       "  chunkshape := (1820,)\n",
       "/Sensors/DataSiPM (Table(1792,)) ''\n",
       "  description := {\n",
       "  \"channel\": Int32Col(shape=(), dflt=0, pos=0),\n",
       "  \"sensorID\": Int32Col(shape=(), dflt=0, pos=1),\n",
       "  \"position\": Float32Col(shape=(3,), dflt=0.0, pos=2),\n",
       "  \"coeff\": Float64Col(shape=(), dflt=0.0, pos=3),\n",
       "  \"adc_to_pes\": Float32Col(shape=(), dflt=0.0, pos=4),\n",
       "  \"noise_rms\": Float32Col(shape=(), dflt=0.0, pos=5)}\n",
       "  byteorder := 'little'\n",
       "  chunkshape := (1820,)"
      ]
     },
     "execution_count": 87,
     "metadata": {},
     "output_type": "execute_result"
    }
   ],
   "source": [
    "kr2609"
   ]
  },
  {
   "cell_type": "markdown",
   "metadata": {},
   "source": [
    "## Testing new deconvolution with Kripton data"
   ]
  },
  {
   "cell_type": "code",
   "execution_count": 88,
   "metadata": {
    "collapsed": false
   },
   "outputs": [],
   "source": [
    "pmtrwf = kr2609.root.RD.pmtrwf"
   ]
  },
  {
   "cell_type": "code",
   "execution_count": 89,
   "metadata": {
    "collapsed": false
   },
   "outputs": [
    {
     "data": {
      "text/plain": [
       "[<matplotlib.lines.Line2D at 0x1194ce590>]"
      ]
     },
     "execution_count": 89,
     "metadata": {},
     "output_type": "execute_result"
    },
    {
     "data": {
      "image/png": "[encoded data removed]",
      "text/plain": [
       "<matplotlib.figure.Figure at 0x11fee55d0>"
      ]
     },
     "metadata": {},
     "output_type": "display_data"
    }
   ],
   "source": [
    "plt.plot(pmtrwf[0,0])"
   ]
  },
  {
   "cell_type": "code",
   "execution_count": 90,
   "metadata": {
    "collapsed": false
   },
   "outputs": [
    {
     "data": {
      "image/png": "[encoded data removed]",
      "text/plain": [
       "<matplotlib.figure.Figure at 0x120c02710>"
      ]
     },
     "metadata": {},
     "output_type": "display_data"
    }
   ],
   "source": [
    "mpl.plts(pmtrwf[0,0], signal_start=20000, signal_end=30000, offset=10)"
   ]
  },
  {
   "cell_type": "code",
   "execution_count": 174,
   "metadata": {
    "collapsed": false
   },
   "outputs": [
    {
     "name": "stdout",
     "output_type": "stream",
     "text": [
      "baseline = 2518.755 noise (LSB_rms) = 0.790949177002\n"
     ]
    }
   ],
   "source": [
    "signal_r, acum, pulse_on, wait_over, MAU = deconvolve_signal(pmtrwf[0,0], mau_len=1000, \n",
    "                      coef_clean=dataPMT['coef_c'][0], coef_blr=dataPMT['coef_blr'][0], \n",
    "                      thr1 = 5, thr2=1, filter_c=True)"
   ]
  },
  {
   "cell_type": "code",
   "execution_count": 175,
   "metadata": {
    "collapsed": false
   },
   "outputs": [
    {
     "data": {
      "text/plain": [
       "[<matplotlib.lines.Line2D at 0x1215ad9d0>]"
      ]
     },
     "execution_count": 175,
     "metadata": {},
     "output_type": "execute_result"
    },
    {
     "data": {
      "image/png": "[encoded data removed]",
      "text/plain": [
       "<matplotlib.figure.Figure at 0x122a0e090>"
      ]
     },
     "metadata": {},
     "output_type": "display_data"
    }
   ],
   "source": [
    "plt.plot(signal_r)"
   ]
  },
  {
   "cell_type": "code",
   "execution_count": 176,
   "metadata": {
    "collapsed": false
   },
   "outputs": [
    {
     "data": {
      "image/png": "[encoded data removed]",
      "text/plain": [
       "<matplotlib.figure.Figure at 0x12259b1d0>"
      ]
     },
     "metadata": {},
     "output_type": "display_data"
    }
   ],
   "source": [
    "mpl.plts(signal_r, signal_start=20000, signal_end=30000, offset=10)"
   ]
  },
  {
   "cell_type": "code",
   "execution_count": 177,
   "metadata": {
    "collapsed": false
   },
   "outputs": [
    {
     "data": {
      "text/plain": [
       "[<matplotlib.lines.Line2D at 0x125744b90>]"
      ]
     },
     "execution_count": 177,
     "metadata": {},
     "output_type": "execute_result"
    },
    {
     "data": {
      "image/png": "[encoded data removed]",
      "text/plain": [
       "<matplotlib.figure.Figure at 0x120f43350>"
      ]
     },
     "metadata": {},
     "output_type": "display_data"
    }
   ],
   "source": [
    "plt.plot(MAU[1000:])"
   ]
  },
  {
   "cell_type": "code",
   "execution_count": 179,
   "metadata": {
    "collapsed": false
   },
   "outputs": [
    {
     "data": {
      "image/png": "[encoded data removed]",
      "text/plain": [
       "<matplotlib.figure.Figure at 0x125035310>"
      ]
     },
     "metadata": {},
     "output_type": "display_data"
    }
   ],
   "source": [
    "mpl.plts(MAU[1000:], signal_start=20000, signal_end=30000, offset=1)"
   ]
  },
  {
   "cell_type": "code",
   "execution_count": 180,
   "metadata": {
    "collapsed": false
   },
   "outputs": [
    {
     "data": {
      "text/plain": [
       "[<matplotlib.lines.Line2D at 0x122fa87d0>]"
      ]
     },
     "execution_count": 180,
     "metadata": {},
     "output_type": "execute_result"
    },
    {
     "data": {
      "image/png": "[encoded data removed]",
      "text/plain": [
       "<matplotlib.figure.Figure at 0x124aef0d0>"
      ]
     },
     "metadata": {},
     "output_type": "display_data"
    }
   ],
   "source": [
    "plt.plot(pulse_on)"
   ]
  },
  {
   "cell_type": "code",
   "execution_count": 181,
   "metadata": {
    "collapsed": false
   },
   "outputs": [
    {
     "data": {
      "text/plain": [
       "[<matplotlib.lines.Line2D at 0x1223f5990>]"
      ]
     },
     "execution_count": 181,
     "metadata": {},
     "output_type": "execute_result"
    },
    {
     "data": {
      "image/png": "[encoded data removed]",
      "text/plain": [
       "<matplotlib.figure.Figure at 0x12496d190>"
      ]
     },
     "metadata": {},
     "output_type": "display_data"
    }
   ],
   "source": [
    "plt.plot(wait_over)"
   ]
  },
  {
   "cell_type": "code",
   "execution_count": 182,
   "metadata": {
    "collapsed": false
   },
   "outputs": [
    {
     "data": {
      "text/plain": [
       "[<matplotlib.lines.Line2D at 0x124c15250>]"
      ]
     },
     "execution_count": 182,
     "metadata": {},
     "output_type": "execute_result"
    },
    {
     "data": {
      "image/png": "[encoded data removed]",
      "text/plain": [
       "<matplotlib.figure.Figure at 0x122407390>"
      ]
     },
     "metadata": {},
     "output_type": "display_data"
    }
   ],
   "source": [
    "plt.plot(acum)"
   ]
  },
  {
   "cell_type": "code",
   "execution_count": 190,
   "metadata": {
    "collapsed": false
   },
   "outputs": [
    {
     "name": "stdout",
     "output_type": "stream",
     "text": [
      "baseline = 2504.593 noise (LSB_rms) = 0.733409086996\n"
     ]
    }
   ],
   "source": [
    "signal_r, acum, pulse_on, wait_over, MAU = deconvolve_signal(pmtrwf[0,11], mau_len=1000, \n",
    "                      coef_clean=dataPMT['coef_c'][11], coef_blr=dataPMT['coef_blr'][11], \n",
    "                      thr1 = 7, thr2=1, filter_c=True)"
   ]
  },
  {
   "cell_type": "code",
   "execution_count": 191,
   "metadata": {
    "collapsed": false
   },
   "outputs": [
    {
     "data": {
      "image/png": "[encoded data removed]",
      "text/plain": [
       "<matplotlib.figure.Figure at 0x12519e2d0>"
      ]
     },
     "metadata": {},
     "output_type": "display_data"
    }
   ],
   "source": [
    "mpl.plts(pmtrwf[0,11], signal_start=20000, signal_end=30000, offset=10)"
   ]
  },
  {
   "cell_type": "code",
   "execution_count": null,
   "metadata": {
    "collapsed": true
   },
   "outputs": [],
   "source": []
  },
  {
   "cell_type": "code",
   "execution_count": 192,
   "metadata": {
    "collapsed": false
   },
   "outputs": [
    {
     "data": {
      "image/png": "[encoded data removed]",
      "text/plain": [
       "<matplotlib.figure.Figure at 0x1256b5150>"
      ]
     },
     "metadata": {},
     "output_type": "display_data"
    }
   ],
   "source": [
    "mpl.plts(signal_r, signal_start=20000, signal_end=30000, offset=10)"
   ]
  },
  {
   "cell_type": "code",
   "execution_count": 193,
   "metadata": {
    "collapsed": false
   },
   "outputs": [
    {
     "data": {
      "image/png": "[encoded data removed]",
      "text/plain": [
       "<matplotlib.figure.Figure at 0x126beb450>"
      ]
     },
     "metadata": {},
     "output_type": "display_data"
    }
   ],
   "source": [
    "mpl.plts(MAU[1000:], signal_start=20000, signal_end=30000, offset=1)"
   ]
  },
  {
   "cell_type": "code",
   "execution_count": 194,
   "metadata": {
    "collapsed": false
   },
   "outputs": [
    {
     "data": {
      "text/plain": [
       "[<matplotlib.lines.Line2D at 0x12703a550>]"
      ]
     },
     "execution_count": 194,
     "metadata": {},
     "output_type": "execute_result"
    },
    {
     "data": {
      "image/png": "[encoded data removed]",
      "text/plain": [
       "<matplotlib.figure.Figure at 0x126bebb90>"
      ]
     },
     "metadata": {},
     "output_type": "display_data"
    }
   ],
   "source": [
    "plt.plot(acum)"
   ]
  },
  {
   "cell_type": "code",
   "execution_count": 195,
   "metadata": {
    "collapsed": false
   },
   "outputs": [
    {
     "data": {
      "image/png": "[encoded data removed]",
      "text/plain": [
       "<matplotlib.figure.Figure at 0x1272b3490>"
      ]
     },
     "metadata": {},
     "output_type": "display_data"
    }
   ],
   "source": [
    "mpl.plts(pulse_on, signal_start=20000, signal_end=30000, offset=1)"
   ]
  },
  {
   "cell_type": "code",
   "execution_count": 196,
   "metadata": {
    "collapsed": false
   },
   "outputs": [
    {
     "data": {
      "image/png": "[encoded data removed]",
      "text/plain": [
       "<matplotlib.figure.Figure at 0x1274b9bd0>"
      ]
     },
     "metadata": {},
     "output_type": "display_data"
    }
   ],
   "source": [
    "mpl.plts(wait_over, signal_start=20000, signal_end=30000, offset=1)"
   ]
  },
  {
   "cell_type": "code",
   "execution_count": null,
   "metadata": {
    "collapsed": true
   },
   "outputs": [],
   "source": []
  },
  {
   "cell_type": "code",
   "execution_count": 144,
   "metadata": {
    "collapsed": false
   },
   "outputs": [
    {
     "name": "stdout",
     "output_type": "stream",
     "text": [
      "baseline = 2518.755 noise (LSB_rms) = 0.790949177002\n"
     ]
    }
   ],
   "source": [
    "signal_r, acum, pulse_on, wait_over, MAU = deconvolve_signal(pmtrwf[0,0], mau_len=1000, \n",
    "                      coef_clean=2.905447E-06, coef_blr=1.632411E-03, \n",
    "                      thr1 = 5, thr2=1, filter_c=False)"
   ]
  },
  {
   "cell_type": "code",
   "execution_count": null,
   "metadata": {
    "collapsed": true
   },
   "outputs": [],
   "source": []
  },
  {
   "cell_type": "code",
   "execution_count": 140,
   "metadata": {
    "collapsed": false
   },
   "outputs": [
    {
     "data": {
      "text/plain": [
       "[<matplotlib.lines.Line2D at 0x120135950>]"
      ]
     },
     "execution_count": 140,
     "metadata": {},
     "output_type": "execute_result"
    },
    {
     "data": {
      "image/png": "[encoded data removed]",
      "text/plain": [
       "<matplotlib.figure.Figure at 0x11ee83990>"
      ]
     },
     "metadata": {},
     "output_type": "display_data"
    }
   ],
   "source": [
    "plt.plot(acum)"
   ]
  },
  {
   "cell_type": "code",
   "execution_count": 145,
   "metadata": {
    "collapsed": false
   },
   "outputs": [
    {
     "data": {
      "text/plain": [
       "[<matplotlib.lines.Line2D at 0x120552590>]"
      ]
     },
     "execution_count": 145,
     "metadata": {},
     "output_type": "execute_result"
    },
    {
     "data": {
      "image/png": "[encoded data removed]",
      "text/plain": [
       "<matplotlib.figure.Figure at 0x12014ca50>"
      ]
     },
     "metadata": {},
     "output_type": "display_data"
    }
   ],
   "source": [
    "plt.plot(signal_r)"
   ]
  },
  {
   "cell_type": "code",
   "execution_count": 146,
   "metadata": {
    "collapsed": false
   },
   "outputs": [
    {
     "data": {
      "image/png": "[encoded data removed]",
      "text/plain": [
       "<matplotlib.figure.Figure at 0x1206c2510>"
      ]
     },
     "metadata": {},
     "output_type": "display_data"
    }
   ],
   "source": [
    "mpl.plts(signal_r, signal_start=20000, signal_end=30000, offset=10)"
   ]
  },
  {
   "cell_type": "markdown",
   "metadata": {},
   "source": [
    "### Effect of cleaning not visible for short signals "
   ]
  },
  {
   "cell_type": "markdown",
   "metadata": {},
   "source": [
    "## Calibration data"
   ]
  },
  {
   "cell_type": "code",
   "execution_count": 153,
   "metadata": {
    "collapsed": true
   },
   "outputs": [],
   "source": [
    "dataPMT = {}\n",
    "dataPMT[0] = ['1',0,0.7068,2.905447E-06,1.632411E-03]\n",
    "dataPMT[1] = ['3',18,0.8744,2.905447E-06,1.632411E-03]\n",
    "dataPMT[2] = ['2',1,0.7213,2.806061E-06,1.611104E-03]\n",
    "dataPMT[3] = ['4',19,0.7624,2.756265E-06,1.599356E-03]\n",
    "dataPMT[4] = ['C',27,0.7921,3.138766E-06,1.566958E-03]\n",
    "dataPMT[5] = ['B',26,0.866,3.965176E-06,1.649618E-03]\n",
    "dataPMT[6] = ['A',9,0.7062,2.711644E-06,1.592963E-03]\n",
    "dataPMT[7] = ['9',8,0.7278,3.127641E-06,1.612068E-03]\n",
    "dataPMT[8] = ['8',23,0.7303,3.064543E-06,1.600683E-03]\n",
    "dataPMT[9] = ['7',22,0.716,3.040463E-06,1.592718E-03]\n",
    "dataPMT[10] = ['6',5,0.7323,3.113604E-06,1.575192E-03]\n",
    "dataPMT[11] = ['5',4,0.7206,3.185979E-06,1.596322E-03]"
   ]
  },
  {
   "cell_type": "code",
   "execution_count": 156,
   "metadata": {
    "collapsed": true
   },
   "outputs": [],
   "source": [
    "pmtID = ['1','3','2','4','C','B','A','9','8','7','6','5']\n",
    "elecID = [0,18,1,19,27,26,9,8,23,22,5,4]\n",
    "noise_rms = [0.706,0.8744,0.7213,0.7624,0.7921,0.866,0.7062,0.7278,0.7303,0.716,0.7323,0.7206]\n",
    "coef_c = [2.905447E-06,2.905447E-06,2.806061E-06,2.756265E-06,3.138766E-06,3.965176E-06,\n",
    "          2.711644E-06,3.127641E-06,3.064543E-06,3.040463E-06,3.113604E-06,3.185979E-06]\n",
    "coef_blr = [1.632411E-03,1.632411E-03,1.611104E-03,1.599356E-03,1.566958E-03,1.649618E-03,\n",
    "            1.592963E-03,1.612068E-03,1.600683E-03,1.592718E-03,1.575192E-03,1.596322E-03]"
   ]
  },
  {
   "cell_type": "code",
   "execution_count": 158,
   "metadata": {
    "collapsed": false
   },
   "outputs": [],
   "source": [
    "dataPMT = pd.DataFrame({'pmtID': pmtID,'elecID': elecID,'noise_rms': noise_rms,\n",
    "              'coef_c': coef_c,'coef_blr': coef_blr})"
   ]
  },
  {
   "cell_type": "code",
   "execution_count": 159,
   "metadata": {
    "collapsed": false
   },
   "outputs": [
    {
     "data": {
      "text/html": [
       "<div>\n",
       "<table border=\"1\" class=\"dataframe\">\n",
       "  <thead>\n",
       "    <tr style=\"text-align: right;\">\n",
       "      <th></th>\n",
       "      <th>coef_blr</th>\n",
       "      <th>coef_c</th>\n",
       "      <th>elecID</th>\n",
       "      <th>noise_rms</th>\n",
       "      <th>pmtID</th>\n",
       "    </tr>\n",
       "  </thead>\n",
       "  <tbody>\n",
       "    <tr>\n",
       "      <th>0</th>\n",
       "      <td>0.001632</td>\n",
       "      <td>0.000003</td>\n",
       "      <td>0</td>\n",
       "      <td>0.7060</td>\n",
       "      <td>1</td>\n",
       "    </tr>\n",
       "    <tr>\n",
       "      <th>1</th>\n",
       "      <td>0.001632</td>\n",
       "      <td>0.000003</td>\n",
       "      <td>18</td>\n",
       "      <td>0.8744</td>\n",
       "      <td>3</td>\n",
       "    </tr>\n",
       "    <tr>\n",
       "      <th>2</th>\n",
       "      <td>0.001611</td>\n",
       "      <td>0.000003</td>\n",
       "      <td>1</td>\n",
       "      <td>0.7213</td>\n",
       "      <td>2</td>\n",
       "    </tr>\n",
       "    <tr>\n",
       "      <th>3</th>\n",
       "      <td>0.001599</td>\n",
       "      <td>0.000003</td>\n",
       "      <td>19</td>\n",
       "      <td>0.7624</td>\n",
       "      <td>4</td>\n",
       "    </tr>\n",
       "    <tr>\n",
       "      <th>4</th>\n",
       "      <td>0.001567</td>\n",
       "      <td>0.000003</td>\n",
       "      <td>27</td>\n",
       "      <td>0.7921</td>\n",
       "      <td>C</td>\n",
       "    </tr>\n",
       "    <tr>\n",
       "      <th>5</th>\n",
       "      <td>0.001650</td>\n",
       "      <td>0.000004</td>\n",
       "      <td>26</td>\n",
       "      <td>0.8660</td>\n",
       "      <td>B</td>\n",
       "    </tr>\n",
       "    <tr>\n",
       "      <th>6</th>\n",
       "      <td>0.001593</td>\n",
       "      <td>0.000003</td>\n",
       "      <td>9</td>\n",
       "      <td>0.7062</td>\n",
       "      <td>A</td>\n",
       "    </tr>\n",
       "    <tr>\n",
       "      <th>7</th>\n",
       "      <td>0.001612</td>\n",
       "      <td>0.000003</td>\n",
       "      <td>8</td>\n",
       "      <td>0.7278</td>\n",
       "      <td>9</td>\n",
       "    </tr>\n",
       "    <tr>\n",
       "      <th>8</th>\n",
       "      <td>0.001601</td>\n",
       "      <td>0.000003</td>\n",
       "      <td>23</td>\n",
       "      <td>0.7303</td>\n",
       "      <td>8</td>\n",
       "    </tr>\n",
       "    <tr>\n",
       "      <th>9</th>\n",
       "      <td>0.001593</td>\n",
       "      <td>0.000003</td>\n",
       "      <td>22</td>\n",
       "      <td>0.7160</td>\n",
       "      <td>7</td>\n",
       "    </tr>\n",
       "    <tr>\n",
       "      <th>10</th>\n",
       "      <td>0.001575</td>\n",
       "      <td>0.000003</td>\n",
       "      <td>5</td>\n",
       "      <td>0.7323</td>\n",
       "      <td>6</td>\n",
       "    </tr>\n",
       "    <tr>\n",
       "      <th>11</th>\n",
       "      <td>0.001596</td>\n",
       "      <td>0.000003</td>\n",
       "      <td>4</td>\n",
       "      <td>0.7206</td>\n",
       "      <td>5</td>\n",
       "    </tr>\n",
       "  </tbody>\n",
       "</table>\n",
       "</div>"
      ],
      "text/plain": [
       "    coef_blr    coef_c  elecID  noise_rms pmtID\n",
       "0   0.001632  0.000003       0     0.7060     1\n",
       "1   0.001632  0.000003      18     0.8744     3\n",
       "2   0.001611  0.000003       1     0.7213     2\n",
       "3   0.001599  0.000003      19     0.7624     4\n",
       "4   0.001567  0.000003      27     0.7921     C\n",
       "5   0.001650  0.000004      26     0.8660     B\n",
       "6   0.001593  0.000003       9     0.7062     A\n",
       "7   0.001612  0.000003       8     0.7278     9\n",
       "8   0.001601  0.000003      23     0.7303     8\n",
       "9   0.001593  0.000003      22     0.7160     7\n",
       "10  0.001575  0.000003       5     0.7323     6\n",
       "11  0.001596  0.000003       4     0.7206     5"
      ]
     },
     "execution_count": 159,
     "metadata": {},
     "output_type": "execute_result"
    }
   ],
   "source": [
    "dataPMT"
   ]
  },
  {
   "cell_type": "code",
   "execution_count": 204,
   "metadata": {
    "collapsed": true
   },
   "outputs": [],
   "source": [
    "def deconv_pmt(pmtrwf,dataPMT, thr1 = 5, thr2=1, event=0):\n",
    "    \"\"\"\n",
    "    Deconvolution of a full event\n",
    "    \"\"\"\n",
    "    NPMT = pmtrwf.shape[1]\n",
    "    \n",
    "    for i in range(NPMT):\n",
    "        cc = dataPMT['coef_c'][i]\n",
    "        cblr = dataPMT['coef_blr'][i]\n",
    "        print('thr1 = {}, thr2 = {}'.format(thr1,thr2))\n",
    "        print('deconvoluting PMT = {} with coef_clean = {} coef_blr = {}'.format(i,cc,cblr))\n",
    "                                                                                \n",
    "        signal_r, acum, pulse_on, wait_over, MAU = deconvolve_signal(pmtrwf[event,i], \n",
    "                                                                     mau_len=1000, \n",
    "                                                                     coef_clean=cc,\n",
    "                                                                     coef_blr=cblr, \n",
    "                                                                     thr1 = thr1, thr2=thr2, \n",
    "                                                                     filter_c=True)\n",
    "        \n",
    "        #mpl.plts(pmtrwf[event,i], signal_start=20000, signal_end=30000, offset=10)\n",
    "        #plt.show()\n",
    "        #wait()\n",
    "        \n",
    "        mpl.plts(signal_r, signal_start=20000, signal_end=30000, offset=10)\n",
    "        plt.show()\n",
    "        wait()\n",
    "    "
   ]
  },
  {
   "cell_type": "code",
   "execution_count": null,
   "metadata": {
    "collapsed": false
   },
   "outputs": [
    {
     "name": "stdout",
     "output_type": "stream",
     "text": [
      "thr1 = 10, thr2 = 1\n",
      "deconvoluting PMT = 0 with coef_clean = 2.905447e-06 coef_blr = 0.001632411\n",
      "baseline = 2518.755 noise (LSB_rms) = 0.790949177002\n"
     ]
    },
    {
     "data": {
      "image/png": "[encoded data removed]",
      "text/plain": [
       "<matplotlib.figure.Figure at 0x1262cd790>"
      ]
     },
     "metadata": {},
     "output_type": "display_data"
    },
    {
     "name": "stdout",
     "output_type": "stream",
     "text": [
      "Press a key...\n",
      "thr1 = 10, thr2 = 1\n",
      "deconvoluting PMT = 1 with coef_clean = 2.905447e-06 coef_blr = 0.001632411\n",
      "baseline = 2519.976 noise (LSB_rms) = 0.761579939339\n"
     ]
    },
    {
     "data": {
      "image/png": "[encoded data removed]",
      "text/plain": [
       "<matplotlib.figure.Figure at 0x126d9abd0>"
      ]
     },
     "metadata": {},
     "output_type": "display_data"
    },
    {
     "name": "stdout",
     "output_type": "stream",
     "text": [
      "Press a key...\n",
      "thr1 = 10, thr2 = 1\n",
      "deconvoluting PMT = 2 with coef_clean = 2.806061e-06 coef_blr = 0.001611104\n",
      "baseline = 2458.523 noise (LSB_rms) = 0.764234947549\n"
     ]
    },
    {
     "data": {
      "image/png": "[encoded data removed]",
      "text/plain": [
       "<matplotlib.figure.Figure at 0x1256ba410>"
      ]
     },
     "metadata": {},
     "output_type": "display_data"
    },
    {
     "name": "stdout",
     "output_type": "stream",
     "text": [
      "Press a key...\n",
      "thr1 = 10, thr2 = 1\n",
      "deconvoluting PMT = 3 with coef_clean = 2.756265e-06 coef_blr = 0.001599356\n",
      "baseline = 2484.233 noise (LSB_rms) = 0.738414691252\n"
     ]
    },
    {
     "data": {
      "image/png": "[encoded data removed]",
      "text/plain": [
       "<matplotlib.figure.Figure at 0x1262cd150>"
      ]
     },
     "metadata": {},
     "output_type": "display_data"
    },
    {
     "name": "stdout",
     "output_type": "stream",
     "text": [
      "Press a key...\n",
      "thr1 = 10, thr2 = 1\n",
      "deconvoluting PMT = 4 with coef_clean = 3.138766e-06 coef_blr = 0.001566958\n",
      "baseline = 2469.805 noise (LSB_rms) = 0.783318957123\n"
     ]
    },
    {
     "data": {
      "image/png": "[encoded data removed]",
      "text/plain": [
       "<matplotlib.figure.Figure at 0x126320cd0>"
      ]
     },
     "metadata": {},
     "output_type": "display_data"
    },
    {
     "name": "stdout",
     "output_type": "stream",
     "text": [
      "Press a key...\n",
      "thr1 = 10, thr2 = 1\n",
      "deconvoluting PMT = 5 with coef_clean = 3.965176e-06 coef_blr = 0.001649618\n",
      "baseline = 2528.388 noise (LSB_rms) = 0.737563556583\n"
     ]
    },
    {
     "data": {
      "image/png": "[encoded data removed]",
      "text/plain": [
       "<matplotlib.figure.Figure at 0x129cdc790>"
      ]
     },
     "metadata": {},
     "output_type": "display_data"
    },
    {
     "name": "stdout",
     "output_type": "stream",
     "text": [
      "Press a key...\n",
      "thr1 = 10, thr2 = 1\n",
      "deconvoluting PMT = 6 with coef_clean = 2.711644e-06 coef_blr = 0.001592963\n",
      "baseline = 2502.72 noise (LSB_rms) = 0.777305734061\n"
     ]
    },
    {
     "data": {
      "image/png": "[encoded data removed]",
      "text/plain": [
       "<matplotlib.figure.Figure at 0x127784e50>"
      ]
     },
     "metadata": {},
     "output_type": "display_data"
    },
    {
     "name": "stdout",
     "output_type": "stream",
     "text": [
      "Press a key...\n",
      "thr1 = 10, thr2 = 1\n",
      "deconvoluting PMT = 7 with coef_clean = 3.127641e-06 coef_blr = 0.001612068\n",
      "baseline = 2492.591 noise (LSB_rms) = 0.811404570715\n"
     ]
    },
    {
     "data": {
      "image/png": "[encoded data removed]",
      "text/plain": [
       "<matplotlib.figure.Figure at 0x1260464d0>"
      ]
     },
     "metadata": {},
     "output_type": "display_data"
    },
    {
     "name": "stdout",
     "output_type": "stream",
     "text": [
      "Press a key...\n",
      "thr1 = 10, thr2 = 1\n",
      "deconvoluting PMT = 8 with coef_clean = 3.064543e-06 coef_blr = 0.001600683\n",
      "baseline = 2491.293 noise (LSB_rms) = 0.780871795342\n"
     ]
    },
    {
     "data": {
      "image/png": "[encoded data removed]",
      "text/plain": [
       "<matplotlib.figure.Figure at 0x12573eb90>"
      ]
     },
     "metadata": {},
     "output_type": "display_data"
    },
    {
     "name": "stdout",
     "output_type": "stream",
     "text": [
      "Press a key...\n",
      "thr1 = 10, thr2 = 1\n",
      "deconvoluting PMT = 9 with coef_clean = 3.040463e-06 coef_blr = 0.001592718\n",
      "baseline = 2498.932 noise (LSB_rms) = 0.752291128448\n"
     ]
    },
    {
     "data": {
      "image/png": "[encoded data removed]",
      "text/plain": [
       "<matplotlib.figure.Figure at 0x122b1f210>"
      ]
     },
     "metadata": {},
     "output_type": "display_data"
    },
    {
     "name": "stdout",
     "output_type": "stream",
     "text": [
      "Press a key...\n",
      "thr1 = 10, thr2 = 1\n",
      "deconvoluting PMT = 10 with coef_clean = 3.113604e-06 coef_blr = 0.001575192\n",
      "baseline = 2502.212 noise (LSB_rms) = 0.741353900378\n"
     ]
    },
    {
     "data": {
      "image/png": "[encoded data removed]",
      "text/plain": [
       "<matplotlib.figure.Figure at 0x126a97990>"
      ]
     },
     "metadata": {},
     "output_type": "display_data"
    },
    {
     "name": "stdout",
     "output_type": "stream",
     "text": [
      "Press a key...\n",
      "thr1 = 10, thr2 = 1\n",
      "deconvoluting PMT = 11 with coef_clean = 3.185979e-06 coef_blr = 0.001596322\n",
      "baseline = 2504.593 noise (LSB_rms) = 0.733409086996\n"
     ]
    },
    {
     "data": {
      "image/png": "[encoded data removed]",
      "text/plain": [
       "<matplotlib.figure.Figure at 0x126fe6710>"
      ]
     },
     "metadata": {},
     "output_type": "display_data"
    }
   ],
   "source": [
    "deconv_pmt(pmtrwf,dataPMT, thr1 = 10, thr2=1, event=0)\n"
   ]
  },
  {
   "cell_type": "code",
   "execution_count": null,
   "metadata": {
    "collapsed": true
   },
   "outputs": [],
   "source": []
  }
 ],
 "metadata": {
  "kernelspec": {
   "display_name": "Python [Root]",
   "language": "python",
   "name": "Python [Root]"
  },
  "language_info": {
   "codemirror_mode": {
    "name": "ipython",
    "version": 2
   },
   "file_extension": ".py",
   "mimetype": "text/x-python",
   "name": "python",
   "nbconvert_exporter": "python",
   "pygments_lexer": "ipython2",
   "version": "2.7.12"
  }
 },
 "nbformat": 4,
 "nbformat_minor": 0
}
