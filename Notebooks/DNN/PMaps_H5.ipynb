{
 "cells": [
  {
   "cell_type": "markdown",
   "metadata": {},
   "source": [
    "# HDF5 format for PMaps for Gate --> HDF5 converter"
   ]
  },
  {
   "cell_type": "code",
   "execution_count": 6,
   "metadata": {
    "collapsed": false
   },
   "outputs": [],
   "source": [
    "import tables"
   ]
  },
  {
   "cell_type": "markdown",
   "metadata": {},
   "source": [
    "In GATE, the PMaps are stored using the AddHitMap method of the GATE event.\n",
    "\n",
    "Each hit map has several properties which are set upon creation and can be accessed with Get methods, including:\n",
    "- GetTimeMap: a vector of maps containing sensor amplitudes for sensors with nonzero values - std::vector$<$std::map$<$int,float$>>$\n",
    "- GetStartTime: a float value indicating the time at which the initial map in TimeMap was recorded\n",
    "- GetEndTime: a float value indicating the time at which the final map in TimeMap was recorded\n",
    "- GetTimeSample: a float value indicating the amount of time elapsed between maps in TimeMap\n",
    "- GetSignalType: a integer value of 1 for S1 and 2 for S2\n",
    "\n",
    "The hit maps are obtained in Centella by calling GetHitMaps(gate.SIPM) for anode maps and GetHitMaps(gate.PMT) for cathode maps.\n",
    "\n",
    "The proposed method of storage in HDF5 is to organize the data into rows in a Pytable corresponding to individual peaks. As the individual PMT information is not so important as the sum, only the sum from the cathode plane is saved. S1 peaks are saved (with all 0s in the anode) for the purposes of keeping t0.  The PMap table is defined as follows:"
   ]
  },
  {
   "cell_type": "code",
   "execution_count": 11,
   "metadata": {
    "collapsed": true
   },
   "outputs": [],
   "source": [
    "# Anode PMaps\n",
    "class PMap(tables.IsDescription):\n",
    "    \"\"\"\n",
    "    Stores the PMaps\n",
    "    \"\"\"\n",
    "    event_indx = tables.Int16Col(pos=1)\n",
    "    signal_type = tables.Int16Col(pos=2)\n",
    "    time = tables.Float32Col(pos=3)\n",
    "    cathode_sum = tables.Float32Col(pos=4)\n",
    "    ID_list = tables.Int16Col(shape=1792, pos=5)\n",
    "    amp_list = tables.Float32Col(shape=1792, pos=6)"
   ]
  },
  {
   "cell_type": "markdown",
   "metadata": {},
   "source": [
    "Note that the class allows for 1792 sensor values.  It may not be necessary to allow for so many SiPM sensor values since it is unlikely that all will be lit up for a single event.  If PyTables essentially ignores trailing zeros, it may actually be better to use the same class type for both groups (or even just make 1 group with an additional flag specifying anode or cathode) with 1792 IDs and amplitudes.\n",
    "\n",
    "The output HDF5 PyTable will then have rows corresponding to anode TimeMaps + the corresponding cathode sum (so several rows for a single event in each group):\n",
    "\n",
    "[evt 0] [S1] [time 0] [cathode_sum] [ID_list:0-11 0] [amp_list:0-1791 0]<br>\n",
    "[evt 0] [S1] [time 1] [cathode_sum] [ID_list:0-11 1] [amp_list:0-1791 1]<br>\n",
    "[evt 0] [S1] [time 2] [cathode_sum] [ID_list:0-11 2] [amp_list:0-1791 2]<br>\n",
    "...<br>\n",
    "[evt 0] [S2_0] [time 0] [cathode_sum] [ID_list:0-11 0] [amp_list:0-1791 0]<br>\n",
    "[evt 0] [S2_0] [time 1] [cathode_sum] [ID_list:0-11 1] [amp_list:0-1791 1]<br>\n",
    "...<br>\n",
    "[evt 0] [S2_1] [time 0] [cathode_sum] [ID_list:0-11 0] [amp_list:0-1791 0]<br>\n",
    "...<br>\n",
    "[evt 1] [S1_or_S2] [cathode_sum] [time 0] [ID_list:0-11 0] [amp_list:0-1791 0]<br>\n",
    "[evt 1] [S1_or_S2] [cathode_sum] [time 1] [ID_list:0-11 1] [amp_list:0-1791 1]<br>\n",
    "[evt 1] [S1_or_S2] [cathode_sum] [time 2] [ID_list:0-11 2] [amp_list:0-1791 2]<br>\n",
    "... ...\n",
    "\n",
    "where in each case the time is calculated as the (StartTime of the PMap) + (TimeMap number) * TimeSample."
   ]
  },
  {
   "cell_type": "code",
   "execution_count": null,
   "metadata": {
    "collapsed": true
   },
   "outputs": [],
   "source": []
  }
 ],
 "metadata": {
  "anaconda-cloud": {},
  "kernelspec": {
   "display_name": "Python [Root]",
   "language": "python",
   "name": "Python [Root]"
  },
  "language_info": {
   "codemirror_mode": {
    "name": "ipython",
    "version": 2
   },
   "file_extension": ".py",
   "mimetype": "text/x-python",
   "name": "python",
   "nbconvert_exporter": "python",
   "pygments_lexer": "ipython2",
   "version": "2.7.12"
  }
 },
 "nbformat": 4,
 "nbformat_minor": 1
}
