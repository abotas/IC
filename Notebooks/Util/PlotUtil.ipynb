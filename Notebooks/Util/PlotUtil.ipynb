{
 "cells": [
  {
   "cell_type": "markdown",
   "metadata": {},
   "source": [
    "# Plot Util"
   ]
  },
  {
   "cell_type": "markdown",
   "metadata": {},
   "source": [
    "## A notebook to test plotting utilities"
   ]
  },
  {
   "cell_type": "markdown",
   "metadata": {},
   "source": [
    "### Circles"
   ]
  },
  {
   "cell_type": "code",
   "execution_count": 1,
   "metadata": {
    "collapsed": false
   },
   "outputs": [
    {
     "name": "stdout",
     "output_type": "stream",
     "text": [
      "Populating the interactive namespace from numpy and matplotlib\n"
     ]
    }
   ],
   "source": [
    "%pylab inline"
   ]
  },
  {
   "cell_type": "code",
   "execution_count": 2,
   "metadata": {
    "collapsed": true
   },
   "outputs": [],
   "source": [
    "import numpy as np\n",
    "import matplotlib.pyplot as plt\n",
    "from matplotlib.patches import Circle\n",
    "from matplotlib.collections import PatchCollection"
   ]
  },
  {
   "cell_type": "code",
   "execution_count": 4,
   "metadata": {
    "collapsed": true
   },
   "outputs": [],
   "source": [
    "def circles(x, y, s, c='b', vmin=None, vmax=None, **kwargs):\n",
    "    \"\"\"\n",
    "    Make a scatter of circles plot of x vs y, where x and y are sequence \n",
    "    like objects of the same lengths. The size of circles are in data scale.\n",
    "\n",
    "    Parameters\n",
    "    ----------\n",
    "    x,y : scalar or array_like, shape (n, )\n",
    "        Input data\n",
    "    s : scalar or array_like, shape (n, ) \n",
    "        Radius of circle in data unit.\n",
    "    c : color or sequence of color, optional, default : 'b'\n",
    "        `c` can be a single color format string, or a sequence of color\n",
    "        specifications of length `N`, or a sequence of `N` numbers to be\n",
    "        mapped to colors using the `cmap` and `norm` specified via kwargs.\n",
    "        Note that `c` should not be a single numeric RGB or RGBA sequence \n",
    "        because that is indistinguishable from an array of values\n",
    "        to be colormapped. (If you insist, use `color` instead.)  \n",
    "        `c` can be a 2-D array in which the rows are RGB or RGBA, however. \n",
    "    vmin, vmax : scalar, optional, default: None\n",
    "        `vmin` and `vmax` are used in conjunction with `norm` to normalize\n",
    "        luminance data.  If either are `None`, the min and max of the\n",
    "        color array is used.\n",
    "    kwargs : `~matplotlib.collections.Collection` properties\n",
    "        Eg. alpha, edgecolor(ec), facecolor(fc), linewidth(lw), linestyle(ls), \n",
    "        norm, cmap, transform, etc.\n",
    "\n",
    "    Returns\n",
    "    -------\n",
    "    paths : `~matplotlib.collections.PathCollection`\n",
    "\n",
    "    Examples\n",
    "    --------\n",
    "    a = np.arange(11)\n",
    "    circles(a, a, a*0.2, c=a, alpha=0.5, edgecolor='none')\n",
    "    plt.colorbar()\n",
    "\n",
    "    License\n",
    "    --------\n",
    "    This code is under [The BSD 3-Clause License]\n",
    "    (http://opensource.org/licenses/BSD-3-Clause)\n",
    "    \"\"\"\n",
    "    \n",
    "    if np.isscalar(c):\n",
    "        kwargs.setdefault('color', c)\n",
    "        c = None\n",
    "    if 'fc' in kwargs: kwargs.setdefault('facecolor', kwargs.pop('fc'))\n",
    "    if 'ec' in kwargs: kwargs.setdefault('edgecolor', kwargs.pop('ec'))\n",
    "    if 'ls' in kwargs: kwargs.setdefault('linestyle', kwargs.pop('ls'))\n",
    "    if 'lw' in kwargs: kwargs.setdefault('linewidth', kwargs.pop('lw'))\n",
    "\n",
    "    patches = [Circle((x_, y_), s_) for x_, y_, s_ in np.broadcast(x, y, s)]\n",
    "    collection = PatchCollection(patches, **kwargs)\n",
    "    if c is not None:\n",
    "        collection.set_array(np.asarray(c))\n",
    "        collection.set_clim(vmin, vmax)\n",
    "\n",
    "    ax = plt.gca()\n",
    "    ax.add_collection(collection)\n",
    "    ax.autoscale_view()\n",
    "    if c is not None:\n",
    "        plt.sci(collection)\n",
    "    return collection"
   ]
  },
  {
   "cell_type": "code",
   "execution_count": 5,
   "metadata": {
    "collapsed": false
   },
   "outputs": [
    {
     "data": {
      "text/plain": [
       "(0, 10)"
      ]
     },
     "execution_count": 5,
     "metadata": {},
     "output_type": "execute_result"
    },
    {
     "data": {
      "image/png": "[encoded data removed]",
      "text/plain": [
       "<matplotlib.figure.Figure at 0x105364990>"
      ]
     },
     "metadata": {},
     "output_type": "display_data"
    }
   ],
   "source": [
    "plt.figure(figsize=(6,4))\n",
    "ax = plt.subplot(aspect='equal')\n",
    "\n",
    "#plot a set of circle\n",
    "a = arange(11)\n",
    "out = circles(a, a, a*0.2, c=a, alpha=0.5, ec='none')\n",
    "plt.colorbar()\n",
    "\n",
    "#plot one circle (the lower-right one)\n",
    "circles(1, 0, 0.4, 'r', ls='--', lw=5, fc='none', transform=ax.transAxes)\n",
    "\n",
    "xlim(0,10)\n",
    "ylim(0,10)"
   ]
  },
  {
   "cell_type": "code",
   "execution_count": null,
   "metadata": {
    "collapsed": true
   },
   "outputs": [],
   "source": []
  },
  {
   "cell_type": "code",
   "execution_count": null,
   "metadata": {
    "collapsed": true
   },
   "outputs": [],
   "source": []
  }
 ],
 "metadata": {
  "kernelspec": {
   "display_name": "Python 2",
   "language": "python",
   "name": "python2"
  },
  "language_info": {
   "codemirror_mode": {
    "name": "ipython",
    "version": 2
   },
   "file_extension": ".py",
   "mimetype": "text/x-python",
   "name": "python",
   "nbconvert_exporter": "python",
   "pygments_lexer": "ipython2",
   "version": "2.7.11"
  }
 },
 "nbformat": 4,
 "nbformat_minor": 0
}
